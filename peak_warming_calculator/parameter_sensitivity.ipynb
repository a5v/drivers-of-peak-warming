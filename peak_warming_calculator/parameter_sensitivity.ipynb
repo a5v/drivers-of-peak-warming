{
 "cells": [
  {
   "cell_type": "code",
   "execution_count": 1,
   "id": "79fbd116",
   "metadata": {},
   "outputs": [],
   "source": [
    "from peak_warming_calculator import *\n",
    "from peak_warming_calculator_separate_r import *\n",
    "import matplotlib.pyplot as plt\n",
    "import seaborn as sns\n",
    "sns.set()"
   ]
  },
  {
   "cell_type": "code",
   "execution_count": 2,
   "id": "f88ad1ae",
   "metadata": {},
   "outputs": [],
   "source": [
    "from SALib.sample import saltelli\n",
    "from SALib.analyze import sobol\n",
    "import numpy as np"
   ]
  },
  {
   "cell_type": "code",
   "execution_count": 3,
   "id": "019be719",
   "metadata": {},
   "outputs": [],
   "source": [
    "import time"
   ]
  },
  {
   "cell_type": "markdown",
   "id": "07de792c",
   "metadata": {},
   "source": [
    "### MAC curve variables:\n",
    "- P_50\n",
    "- s\n",
    "- P_100\n",
    "\n",
    "### Economic variables:\n",
    "- D0\n",
    "- gamma\n",
    "- alpha (discount factor)\n",
    "- g (consumption growth rate)"
   ]
  },
  {
   "cell_type": "markdown",
   "id": "52026577",
   "metadata": {},
   "source": [
    "## Varying MAC curve parameters"
   ]
  },
  {
   "cell_type": "code",
   "execution_count": 4,
   "id": "69cd8e63",
   "metadata": {},
   "outputs": [],
   "source": [
    "# Define the model inputs\n",
    "problem = {\n",
    "'num_vars': 3,\n",
    "'names': ['P_h', 's', 'P_100'],\n",
    "'bounds': [[50, 75],\n",
    "[0.055, 0.06],\n",
    "[100, 500]]\n",
    "}\n",
    "# Generate samples\n",
    "param_values = saltelli.sample(problem, 64)"
   ]
  },
  {
   "cell_type": "markdown",
   "id": "e69196bc",
   "metadata": {},
   "source": [
    "- note: 8 runs -> ~27s\n",
    "- formula for num. of runs: N(2D+2)\n",
    "- N=64: 64(2(3)+2) = 3072 runs -> 64*27s ~ 30min"
   ]
  },
  {
   "cell_type": "code",
   "execution_count": 31,
   "id": "bfe87551",
   "metadata": {},
   "outputs": [
    {
     "name": "stdout",
     "output_type": "stream",
     "text": [
      "0\n",
      "09:16:20\n"
     ]
    },
    {
     "name": "stderr",
     "output_type": "stream",
     "text": [
      "/Users/aaron/Documents/oxford_physics/Year_4/MPhys/drivers-of-peak-warming/peak_warming_calculator/peak_warming_calculator_separate_r.py:206: RuntimeWarning: divide by zero encountered in power\n",
      "  A = Am / (1 + ((P - P0) / (P_h - P0)) ** (-s / r))\n"
     ]
    },
    {
     "name": "stdout",
     "output_type": "stream",
     "text": [
      "8\n",
      "09:16:47\n",
      "16\n",
      "09:17:13\n",
      "24\n",
      "09:17:40\n",
      "32\n",
      "09:18:07\n",
      "40\n",
      "09:18:34\n",
      "48\n",
      "09:19:00\n",
      "56\n",
      "09:19:27\n",
      "64\n",
      "09:19:54\n",
      "72\n",
      "09:20:20\n",
      "80\n",
      "09:20:47\n",
      "88\n",
      "09:21:14\n",
      "96\n",
      "09:21:41\n",
      "104\n",
      "09:22:07\n",
      "112\n",
      "09:22:37\n",
      "120\n",
      "09:23:11\n",
      "128\n",
      "09:23:43\n",
      "136\n",
      "09:24:14\n",
      "144\n",
      "09:24:45\n",
      "152\n",
      "09:25:16\n",
      "160\n",
      "09:25:46\n",
      "168\n",
      "09:26:16\n",
      "176\n",
      "09:26:48\n",
      "184\n",
      "09:27:19\n",
      "192\n",
      "09:27:52\n",
      "200\n",
      "09:28:24\n",
      "208\n",
      "09:28:54\n",
      "216\n",
      "09:29:25\n",
      "224\n",
      "09:29:56\n",
      "232\n",
      "09:30:26\n",
      "240\n",
      "09:30:57\n",
      "248\n",
      "09:31:27\n",
      "256\n",
      "09:31:57\n",
      "264\n",
      "09:32:27\n",
      "272\n",
      "09:32:58\n",
      "280\n",
      "09:33:28\n",
      "288\n",
      "09:33:59\n",
      "296\n",
      "09:34:28\n",
      "304\n",
      "09:34:59\n",
      "312\n",
      "09:35:29\n",
      "320\n",
      "09:36:01\n",
      "328\n",
      "09:36:34\n",
      "336\n",
      "09:37:08\n",
      "344\n",
      "09:37:40\n",
      "352\n",
      "09:38:13\n",
      "360\n",
      "09:38:45\n",
      "368\n",
      "09:39:18\n",
      "376\n",
      "09:39:51\n",
      "384\n",
      "09:40:24\n",
      "392\n",
      "09:40:57\n",
      "400\n",
      "09:41:30\n",
      "408\n",
      "09:42:03\n",
      "416\n",
      "09:42:35\n",
      "424\n",
      "09:43:08\n",
      "432\n",
      "09:43:40\n",
      "440\n",
      "09:44:12\n",
      "448\n",
      "09:44:44\n",
      "456\n",
      "09:45:17\n",
      "464\n",
      "09:45:49\n",
      "472\n",
      "09:46:21\n",
      "480\n",
      "09:46:53\n",
      "488\n",
      "09:47:27\n",
      "496\n",
      "09:47:58\n",
      "504\n",
      "09:48:29\n"
     ]
    }
   ],
   "source": [
    "Y = np.zeros([param_values.shape[0]])\n",
    "\n",
    "consumption_growth = 0.020\n",
    "consumption_discount = consumption_growth + 0.015\n",
    "\n",
    "for i in range(len(param_values)):\n",
    "    if i%8 == 0:\n",
    "        print(i)\n",
    "        t = time.localtime()\n",
    "        current_time = time.strftime(\"%H:%M:%S\", t)\n",
    "        print(current_time)\n",
    "        \n",
    "    Y[i] = peak_warming_calculator_separate_r(P_h=param_values[i][0], s=param_values[i][1], P_100=param_values[i][2], consumption_growth=consumption_growth, consumption_discount=consumption_discount)\n"
   ]
  },
  {
   "cell_type": "code",
   "execution_count": 32,
   "id": "278184e5",
   "metadata": {},
   "outputs": [],
   "source": [
    "np.savetxt(\"parameter_sensitivity_runs/0p020_64_fixed_r\", Y, delimiter=\",\")"
   ]
  },
  {
   "cell_type": "code",
   "execution_count": 33,
   "id": "74436150",
   "metadata": {},
   "outputs": [],
   "source": [
    "P_100_list = []\n",
    "\n",
    "for i in range(len(param_values)):\n",
    "    P_100_list.append(param_values[i][2])\n"
   ]
  },
  {
   "cell_type": "code",
   "execution_count": 34,
   "id": "733b5e2c",
   "metadata": {},
   "outputs": [],
   "source": [
    "# np.savetxt(\"P_100_64\", P_100_list, delimiter=\",\")"
   ]
  },
  {
   "cell_type": "code",
   "execution_count": 35,
   "id": "c8add71b",
   "metadata": {},
   "outputs": [],
   "source": [
    "# Y_file = pd.read_csv(\"0p02_64\", header=None)\n",
    "# plt.scatter(P_100_list, Y_file)\n",
    "# Y_file = pd.read_csv(\"0p025_64\", header=None)\n",
    "# plt.scatter(P_100_list, Y_file)\n",
    "# Y_file = pd.read_csv(\"0p03_64\", header=None)\n",
    "# plt.scatter(P_100_list, Y_file)\n",
    "# Y_file = pd.read_csv(\"0p035_64\", header=None)\n",
    "# plt.scatter(P_100_list, Y_file)"
   ]
  },
  {
   "cell_type": "code",
   "execution_count": 36,
   "id": "b916d8c0",
   "metadata": {},
   "outputs": [
    {
     "data": {
      "text/plain": [
       "(1.0, 2.5)"
      ]
     },
     "execution_count": 36,
     "metadata": {},
     "output_type": "execute_result"
    },
    {
     "data": {
      "image/png": "[encoded data removed]",
      "text/plain": [
       "<Figure size 432x288 with 1 Axes>"
      ]
     },
     "metadata": {},
     "output_type": "display_data"
    }
   ],
   "source": [
    "W0 = 75*10**12  \n",
    "D0 = 0.00267\n",
    "T_TCRE = 0.00054  # degrees Celsius per GtCO2\n",
    "# note: this corresponds to 0.002 degrees Celsius per GtC\n",
    "r_minus_g = 0.015  # 1.5%\n",
    "ks = 0.12  # per year\n",
    "\n",
    "G = W0*D0*T_TCRE*(1/(r_minus_g)-1/(ks+r_minus_g))\n",
    "\n",
    "gamma = 2\n",
    "# E_0 = 39  # 2014 level of emissions\n",
    "# percentage_of_emissions = 0.75  # set here the percentage of emisison\n",
    "# E_bar = percentage_of_emissions*E_0\n",
    "E_bar = 0.5*40.040508\n",
    "# T_0 = 0.9  # 1.0136929156818866  # degrees Celsius\n",
    "T_0 = 1.0136929156818866\n",
    "\n",
    "T_m = np.arange(1,3.6,0.1)\n",
    "g_bar = np.arange(0.01, 0.04, 0.005)\n",
    "\n",
    "for i in range(len(g_bar)):\n",
    "    A_B = gamma*G*(T_m**(gamma-1))*np.exp((g_bar[i]/E_bar) * (T_m-T_0)/T_TCRE)\n",
    "#     print(gamma, G, T_m)\n",
    "#     print(np.exp((g_bar[i]/E_bar) * (T_m-T_0)/T_TCRE))\n",
    "    plt.plot(A_B*10**(-9), T_m)  # convert cost into trillions of dollars # , label=g_bar[i]\n",
    "\n",
    "\n",
    "plt.scatter(pd.read_csv(\"P_100_64\", header=None), pd.read_csv(\"parameter_sensitivity_runs/0p020_64\", header=None), label=\"0.02\")\n",
    "plt.scatter(pd.read_csv(\"P_100_64\", header=None), pd.read_csv(\"parameter_sensitivity_runs/0p025_64\", header=None), label=\"0.025\")\n",
    "plt.scatter(pd.read_csv(\"P_100_64\", header=None), pd.read_csv(\"parameter_sensitivity_runs/0p030_64\", header=None), label=\"0.03\")\n",
    "plt.scatter(pd.read_csv(\"P_100_64\", header=None), pd.read_csv(\"parameter_sensitivity_runs/0p035_64\", header=None), label=\"0.035\")\n",
    "\n",
    "plt.legend(title=\"consumption growth\")\n",
    "plt.xlim(0, 500)\n",
    "plt.ylim(1, 2.5)"
   ]
  },
  {
   "cell_type": "code",
   "execution_count": 42,
   "id": "168acea9",
   "metadata": {},
   "outputs": [
    {
     "data": {
      "text/plain": [
       "(1.0, 2.5)"
      ]
     },
     "execution_count": 42,
     "metadata": {},
     "output_type": "execute_result"
    },
    {
     "data": {
      "image/png": "[encoded data removed]",
      "text/plain": [
       "<Figure size 432x288 with 1 Axes>"
      ]
     },
     "metadata": {},
     "output_type": "display_data"
    }
   ],
   "source": [
    "W0 = 75*10**12  \n",
    "D0 = 0.00267\n",
    "T_TCRE = 0.00054  # degrees Celsius per GtCO2\n",
    "# note: this corresponds to 0.002 degrees Celsius per GtC\n",
    "r_minus_g = 0.015  # 1.5%\n",
    "ks = 0.12  # per year\n",
    "\n",
    "G = W0*D0*T_TCRE*(1/(r_minus_g)-1/(ks+r_minus_g))\n",
    "\n",
    "gamma = 2\n",
    "# E_0 = 39  # 2014 level of emissions\n",
    "# percentage_of_emissions = 0.75  # set here the percentage of emisison\n",
    "# E_bar = percentage_of_emissions*E_0\n",
    "E_bar = 0.5*40.040508\n",
    "# T_0 = 0.9  # 1.0136929156818866  # degrees Celsius\n",
    "T_0 = 1.0136929156818866\n",
    "\n",
    "T_m = np.arange(1,3.6,0.1)\n",
    "g_bar = np.arange(0.01, 0.04, 0.005)\n",
    "\n",
    "for i in range(len(g_bar)):\n",
    "    A_B = gamma*G*(T_m**(gamma-1))*np.exp((g_bar[i]/E_bar) * (T_m-T_0)/T_TCRE)\n",
    "#     print(gamma, G, T_m)\n",
    "#     print(np.exp((g_bar[i]/E_bar) * (T_m-T_0)/T_TCRE))\n",
    "    plt.plot(A_B*10**(-9), T_m)  # convert cost into trillions of dollars # , label=g_bar[i]\n",
    "\n",
    "\n",
    "plt.scatter(pd.read_csv(\"P_100_64\", header=None), pd.read_csv(\"parameter_sensitivity_runs/0p020_64_fixed_r\", header=None), label=\"0.02\")\n",
    "plt.scatter(pd.read_csv(\"P_100_64\", header=None), pd.read_csv(\"parameter_sensitivity_runs/0p025_64_fixed_r\", header=None), label=\"0.025\")\n",
    "plt.scatter(pd.read_csv(\"P_100_64\", header=None), pd.read_csv(\"parameter_sensitivity_runs/0p030_64_fixed_r\", header=None), label=\"0.03\")\n",
    "plt.scatter(pd.read_csv(\"P_100_64\", header=None), pd.read_csv(\"parameter_sensitivity_runs/0p035_64_fixed_r\", header=None), label=\"0.035\")\n",
    "# plt.scatter(pd.read_csv(\"P_100_64\", header=None), pd.read_csv(\"parameter_sensitivity_runs/0p020_64\", header=None), label=\"0.035\")\n",
    "\n",
    "\n",
    "plt.legend(title=\"consumption growth\")\n",
    "plt.xlim(0, 500)\n",
    "plt.ylim(1, 2.5)"
   ]
  },
  {
   "cell_type": "code",
   "execution_count": null,
   "id": "8389f478",
   "metadata": {},
   "outputs": [],
   "source": []
  },
  {
   "cell_type": "code",
   "execution_count": null,
   "id": "53109c7b",
   "metadata": {},
   "outputs": [],
   "source": []
  },
  {
   "cell_type": "code",
   "execution_count": null,
   "id": "dc105992",
   "metadata": {},
   "outputs": [],
   "source": []
  },
  {
   "cell_type": "code",
   "execution_count": null,
   "id": "d5c9a6f6",
   "metadata": {},
   "outputs": [],
   "source": []
  },
  {
   "cell_type": "code",
   "execution_count": null,
   "id": "58913d8b",
   "metadata": {},
   "outputs": [],
   "source": []
  },
  {
   "cell_type": "code",
   "execution_count": null,
   "id": "545b1de7",
   "metadata": {},
   "outputs": [],
   "source": [
    "# Define the model inputs\n",
    "problem = {\n",
    "'num_vars': 3,\n",
    "'names': ['P_50', 's', 'P_100'],\n",
    "'bounds': [[50, 75],\n",
    "[0.055, 0.06],\n",
    "[100, 500]]\n",
    "}\n",
    "# Generate samples\n",
    "param_values = saltelli.sample(problem, 8)"
   ]
  },
  {
   "cell_type": "code",
   "execution_count": null,
   "id": "f9f7b33d",
   "metadata": {},
   "outputs": [],
   "source": [
    "Y = np.zeros([param_values.shape[0]])\n",
    "\n",
    "consumption_growth = 0.015\n",
    "consumption_discount = consumption_growth + 0.015\n",
    "\n",
    "for i in range(len(param_values)):\n",
    "    if i%8 == 0:\n",
    "        print(i)\n",
    "        t = time.localtime()\n",
    "        current_time = time.strftime(\"%H:%M:%S\", t)\n",
    "        print(current_time)\n",
    "        \n",
    "    Y[i] = peak_warming_calculator(P_50=param_values[i][0], s=param_values[i][1], P_100=param_values[i][2], consumption_growth=consumption_growth, consumption_discount=consumption_discount)\n"
   ]
  },
  {
   "cell_type": "code",
   "execution_count": null,
   "id": "1080f699",
   "metadata": {},
   "outputs": [],
   "source": []
  },
  {
   "cell_type": "code",
   "execution_count": null,
   "id": "60b8993a",
   "metadata": {},
   "outputs": [],
   "source": []
  },
  {
   "cell_type": "code",
   "execution_count": null,
   "id": "da3999b8",
   "metadata": {},
   "outputs": [],
   "source": []
  },
  {
   "cell_type": "code",
   "execution_count": null,
   "id": "6a1e99fd",
   "metadata": {},
   "outputs": [],
   "source": []
  },
  {
   "cell_type": "code",
   "execution_count": null,
   "id": "c03bf123",
   "metadata": {},
   "outputs": [],
   "source": []
  },
  {
   "cell_type": "code",
   "execution_count": null,
   "id": "8059d287",
   "metadata": {},
   "outputs": [],
   "source": []
  },
  {
   "cell_type": "code",
   "execution_count": null,
   "id": "16d5672e",
   "metadata": {},
   "outputs": [],
   "source": []
  },
  {
   "cell_type": "code",
   "execution_count": 61,
   "id": "3b383ac5",
   "metadata": {},
   "outputs": [],
   "source": [
    "def function(consumption_growth):\n",
    "    Y = np.zeros([param_values.shape[0]])\n",
    "\n",
    "    growth_adjusted_discount_function = consumption_growth + 0.015\n",
    "\n",
    "    for i in range(len(param_values)):\n",
    "        if i%8 == 0:\n",
    "            print(i)\n",
    "            t = time.localtime()\n",
    "            current_time = time.strftime(\"%H:%M:%S\", t)\n",
    "            print(current_time)\n",
    "\n",
    "        Y[i] = peak_warming_calculator(P_50=param_values[i][0], s=param_values[i][1], P_100=param_values[i][2], consumption_growth=consumption_growth, consumption_discount=growth_adjusted_discount_function)\n",
    "    \n",
    "#     filename = \"Y_0p\" + str(consumption_growth)[-2:]\n",
    "#     np.savetxt(filename, Y, delimiter=\",\")\n",
    "    \n",
    "    plt.scatter(P_100_list, Y)"
   ]
  },
  {
   "cell_type": "code",
   "execution_count": 62,
   "id": "a0e64e52",
   "metadata": {},
   "outputs": [
    {
     "name": "stdout",
     "output_type": "stream",
     "text": [
      "0\n",
      "14:25:59\n",
      "8\n",
      "14:26:25\n",
      "16\n",
      "14:26:53\n",
      "24\n",
      "14:27:20\n",
      "32\n",
      "14:27:48\n",
      "40\n",
      "14:28:15\n",
      "48\n",
      "14:28:43\n",
      "56\n",
      "14:29:09\n"
     ]
    },
    {
     "data": {
      "image/png": "[encoded data removed]",
      "text/plain": [
       "<Figure size 432x288 with 1 Axes>"
      ]
     },
     "metadata": {},
     "output_type": "display_data"
    }
   ],
   "source": [
    "# function(consumption_growth=0.015)\n",
    "function(consumption_growth=0.02)\n",
    "# function(consumption_growth=0.025)\n",
    "# function(consumption_growth=0.03)\n",
    "# function(consumption_growth=0.035)"
   ]
  },
  {
   "cell_type": "code",
   "execution_count": 63,
   "id": "87b41b06",
   "metadata": {},
   "outputs": [],
   "source": [
    "Y_0p02 = pd.read_csv(\"Y_0p25\", header=None)"
   ]
  },
  {
   "cell_type": "code",
   "execution_count": 64,
   "id": "36013c18",
   "metadata": {},
   "outputs": [
    {
     "data": {
      "text/plain": [
       "<matplotlib.collections.PathCollection at 0x7fda2fe65100>"
      ]
     },
     "execution_count": 64,
     "metadata": {},
     "output_type": "execute_result"
    },
    {
     "data": {
      "image/png": "[encoded data removed]",
      "text/plain": [
       "<Figure size 432x288 with 1 Axes>"
      ]
     },
     "metadata": {},
     "output_type": "display_data"
    }
   ],
   "source": [
    "plt.scatter(P_100_list, Y_0p02)"
   ]
  },
  {
   "cell_type": "code",
   "execution_count": null,
   "id": "0f32d011",
   "metadata": {},
   "outputs": [],
   "source": []
  },
  {
   "cell_type": "code",
   "execution_count": null,
   "id": "071b15cc",
   "metadata": {},
   "outputs": [],
   "source": []
  },
  {
   "cell_type": "code",
   "execution_count": null,
   "id": "d272fc51",
   "metadata": {},
   "outputs": [],
   "source": []
  },
  {
   "cell_type": "code",
   "execution_count": 54,
   "id": "b9cda115",
   "metadata": {},
   "outputs": [],
   "source": [
    "# Define the model inputs\n",
    "problem = {\n",
    "'num_vars': 3,\n",
    "'names': ['P_50', 's', 'P_100'],\n",
    "'bounds': [[50, 75],\n",
    "[0.055, 0.06],\n",
    "[100, 500]]\n",
    "}\n",
    "# Generate samples\n",
    "param_values = saltelli.sample(problem, 64)"
   ]
  },
  {
   "cell_type": "code",
   "execution_count": 55,
   "id": "b37228b9",
   "metadata": {},
   "outputs": [
    {
     "name": "stdout",
     "output_type": "stream",
     "text": [
      "0\n",
      "13:30:04\n"
     ]
    },
    {
     "name": "stderr",
     "output_type": "stream",
     "text": [
      "/Users/aaron/Documents/oxford_physics/Year_4/MPhys/drivers-of-peak-warming/peak_warming_calculator/peak_warming_calculator.py:206: RuntimeWarning: divide by zero encountered in power\n",
      "  A = Am/(1 + ((P - P0)/(P_50 - P0))**(-s/r))\n"
     ]
    },
    {
     "name": "stdout",
     "output_type": "stream",
     "text": [
      "8\n",
      "13:30:31\n",
      "16\n",
      "13:30:59\n",
      "24\n",
      "13:31:29\n",
      "32\n",
      "13:31:57\n",
      "40\n",
      "13:32:23\n",
      "48\n",
      "13:32:49\n",
      "56\n",
      "13:33:16\n",
      "64\n",
      "13:33:42\n",
      "72\n",
      "13:34:08\n",
      "80\n",
      "13:34:35\n",
      "88\n",
      "13:35:01\n",
      "96\n",
      "13:35:28\n",
      "104\n",
      "13:35:59\n",
      "112\n",
      "13:36:28\n",
      "120\n",
      "13:36:57\n",
      "128\n",
      "13:37:23\n",
      "136\n",
      "13:37:50\n",
      "144\n",
      "13:38:16\n",
      "152\n",
      "13:38:45\n",
      "160\n",
      "13:39:12\n",
      "168\n",
      "13:39:38\n",
      "176\n",
      "13:40:05\n",
      "184\n",
      "13:40:31\n",
      "192\n",
      "13:40:57\n",
      "200\n",
      "13:41:24\n",
      "208\n",
      "13:41:50\n",
      "216\n",
      "13:42:16\n",
      "224\n",
      "13:42:42\n",
      "232\n",
      "13:43:08\n",
      "240\n",
      "13:43:35\n",
      "248\n",
      "13:44:03\n",
      "256\n",
      "13:44:29\n",
      "264\n",
      "13:44:56\n",
      "272\n",
      "13:45:22\n",
      "280\n",
      "13:45:48\n",
      "288\n",
      "13:46:15\n",
      "296\n",
      "13:46:41\n",
      "304\n",
      "13:47:07\n",
      "312\n",
      "13:47:33\n",
      "320\n",
      "13:48:00\n",
      "328\n",
      "13:48:27\n",
      "336\n",
      "13:48:53\n",
      "344\n",
      "13:49:19\n",
      "352\n",
      "13:49:46\n",
      "360\n",
      "13:50:13\n",
      "368\n",
      "13:50:39\n",
      "376\n",
      "13:51:07\n",
      "384\n",
      "13:51:37\n",
      "392\n",
      "13:52:05\n",
      "400\n",
      "13:52:32\n",
      "408\n",
      "13:52:59\n",
      "416\n",
      "13:53:26\n",
      "424\n",
      "13:53:54\n",
      "432\n",
      "13:54:21\n",
      "440\n",
      "13:54:49\n",
      "448\n",
      "13:55:17\n",
      "456\n",
      "13:55:46\n",
      "464\n",
      "13:56:15\n",
      "472\n",
      "13:56:42\n",
      "480\n",
      "13:57:11\n",
      "488\n",
      "13:57:39\n",
      "496\n",
      "13:58:07\n",
      "504\n",
      "13:58:36\n"
     ]
    },
    {
     "ename": "ValueError",
     "evalue": "x and y must be the same size",
     "output_type": "error",
     "traceback": [
      "\u001b[0;31m---------------------------------------------------------------------------\u001b[0m",
      "\u001b[0;31mValueError\u001b[0m                                Traceback (most recent call last)",
      "\u001b[0;32m/var/folders/m4/mbpwp5q15070t8lqj4fj7mjr0000gn/T/ipykernel_31624/4104961988.py\u001b[0m in \u001b[0;36m<module>\u001b[0;34m\u001b[0m\n\u001b[0;32m----> 1\u001b[0;31m \u001b[0mfunction\u001b[0m\u001b[0;34m(\u001b[0m\u001b[0mconsumption_growth\u001b[0m\u001b[0;34m=\u001b[0m\u001b[0;36m0.02\u001b[0m\u001b[0;34m)\u001b[0m\u001b[0;34m\u001b[0m\u001b[0;34m\u001b[0m\u001b[0m\n\u001b[0m",
      "\u001b[0;32m/var/folders/m4/mbpwp5q15070t8lqj4fj7mjr0000gn/T/ipykernel_31624/978992400.py\u001b[0m in \u001b[0;36mfunction\u001b[0;34m(consumption_growth)\u001b[0m\n\u001b[1;32m     16\u001b[0m     \u001b[0mnp\u001b[0m\u001b[0;34m.\u001b[0m\u001b[0msavetxt\u001b[0m\u001b[0;34m(\u001b[0m\u001b[0mfilename\u001b[0m\u001b[0;34m,\u001b[0m \u001b[0mY\u001b[0m\u001b[0;34m,\u001b[0m \u001b[0mdelimiter\u001b[0m\u001b[0;34m=\u001b[0m\u001b[0;34m\",\"\u001b[0m\u001b[0;34m)\u001b[0m\u001b[0;34m\u001b[0m\u001b[0;34m\u001b[0m\u001b[0m\n\u001b[1;32m     17\u001b[0m \u001b[0;34m\u001b[0m\u001b[0m\n\u001b[0;32m---> 18\u001b[0;31m     \u001b[0mplt\u001b[0m\u001b[0;34m.\u001b[0m\u001b[0mscatter\u001b[0m\u001b[0;34m(\u001b[0m\u001b[0mP_100_list\u001b[0m\u001b[0;34m,\u001b[0m \u001b[0mY\u001b[0m\u001b[0;34m)\u001b[0m\u001b[0;34m\u001b[0m\u001b[0;34m\u001b[0m\u001b[0m\n\u001b[0m",
      "\u001b[0;32m~/opt/anaconda3/envs/Fairv2.0.0/lib/python3.9/site-packages/matplotlib/pyplot.py\u001b[0m in \u001b[0;36mscatter\u001b[0;34m(x, y, s, c, marker, cmap, norm, vmin, vmax, alpha, linewidths, edgecolors, plotnonfinite, data, **kwargs)\u001b[0m\n\u001b[1;32m   2805\u001b[0m         \u001b[0mvmin\u001b[0m\u001b[0;34m=\u001b[0m\u001b[0;32mNone\u001b[0m\u001b[0;34m,\u001b[0m \u001b[0mvmax\u001b[0m\u001b[0;34m=\u001b[0m\u001b[0;32mNone\u001b[0m\u001b[0;34m,\u001b[0m \u001b[0malpha\u001b[0m\u001b[0;34m=\u001b[0m\u001b[0;32mNone\u001b[0m\u001b[0;34m,\u001b[0m \u001b[0mlinewidths\u001b[0m\u001b[0;34m=\u001b[0m\u001b[0;32mNone\u001b[0m\u001b[0;34m,\u001b[0m \u001b[0;34m*\u001b[0m\u001b[0;34m,\u001b[0m\u001b[0;34m\u001b[0m\u001b[0;34m\u001b[0m\u001b[0m\n\u001b[1;32m   2806\u001b[0m         edgecolors=None, plotnonfinite=False, data=None, **kwargs):\n\u001b[0;32m-> 2807\u001b[0;31m     __ret = gca().scatter(\n\u001b[0m\u001b[1;32m   2808\u001b[0m         \u001b[0mx\u001b[0m\u001b[0;34m,\u001b[0m \u001b[0my\u001b[0m\u001b[0;34m,\u001b[0m \u001b[0ms\u001b[0m\u001b[0;34m=\u001b[0m\u001b[0ms\u001b[0m\u001b[0;34m,\u001b[0m \u001b[0mc\u001b[0m\u001b[0;34m=\u001b[0m\u001b[0mc\u001b[0m\u001b[0;34m,\u001b[0m \u001b[0mmarker\u001b[0m\u001b[0;34m=\u001b[0m\u001b[0mmarker\u001b[0m\u001b[0;34m,\u001b[0m \u001b[0mcmap\u001b[0m\u001b[0;34m=\u001b[0m\u001b[0mcmap\u001b[0m\u001b[0;34m,\u001b[0m \u001b[0mnorm\u001b[0m\u001b[0;34m=\u001b[0m\u001b[0mnorm\u001b[0m\u001b[0;34m,\u001b[0m\u001b[0;34m\u001b[0m\u001b[0;34m\u001b[0m\u001b[0m\n\u001b[1;32m   2809\u001b[0m         \u001b[0mvmin\u001b[0m\u001b[0;34m=\u001b[0m\u001b[0mvmin\u001b[0m\u001b[0;34m,\u001b[0m \u001b[0mvmax\u001b[0m\u001b[0;34m=\u001b[0m\u001b[0mvmax\u001b[0m\u001b[0;34m,\u001b[0m \u001b[0malpha\u001b[0m\u001b[0;34m=\u001b[0m\u001b[0malpha\u001b[0m\u001b[0;34m,\u001b[0m \u001b[0mlinewidths\u001b[0m\u001b[0;34m=\u001b[0m\u001b[0mlinewidths\u001b[0m\u001b[0;34m,\u001b[0m\u001b[0;34m\u001b[0m\u001b[0;34m\u001b[0m\u001b[0m\n",
      "\u001b[0;32m~/opt/anaconda3/envs/Fairv2.0.0/lib/python3.9/site-packages/matplotlib/__init__.py\u001b[0m in \u001b[0;36minner\u001b[0;34m(ax, data, *args, **kwargs)\u001b[0m\n\u001b[1;32m   1410\u001b[0m     \u001b[0;32mdef\u001b[0m \u001b[0minner\u001b[0m\u001b[0;34m(\u001b[0m\u001b[0max\u001b[0m\u001b[0;34m,\u001b[0m \u001b[0;34m*\u001b[0m\u001b[0margs\u001b[0m\u001b[0;34m,\u001b[0m \u001b[0mdata\u001b[0m\u001b[0;34m=\u001b[0m\u001b[0;32mNone\u001b[0m\u001b[0;34m,\u001b[0m \u001b[0;34m**\u001b[0m\u001b[0mkwargs\u001b[0m\u001b[0;34m)\u001b[0m\u001b[0;34m:\u001b[0m\u001b[0;34m\u001b[0m\u001b[0;34m\u001b[0m\u001b[0m\n\u001b[1;32m   1411\u001b[0m         \u001b[0;32mif\u001b[0m \u001b[0mdata\u001b[0m \u001b[0;32mis\u001b[0m \u001b[0;32mNone\u001b[0m\u001b[0;34m:\u001b[0m\u001b[0;34m\u001b[0m\u001b[0;34m\u001b[0m\u001b[0m\n\u001b[0;32m-> 1412\u001b[0;31m             \u001b[0;32mreturn\u001b[0m \u001b[0mfunc\u001b[0m\u001b[0;34m(\u001b[0m\u001b[0max\u001b[0m\u001b[0;34m,\u001b[0m \u001b[0;34m*\u001b[0m\u001b[0mmap\u001b[0m\u001b[0;34m(\u001b[0m\u001b[0msanitize_sequence\u001b[0m\u001b[0;34m,\u001b[0m \u001b[0margs\u001b[0m\u001b[0;34m)\u001b[0m\u001b[0;34m,\u001b[0m \u001b[0;34m**\u001b[0m\u001b[0mkwargs\u001b[0m\u001b[0;34m)\u001b[0m\u001b[0;34m\u001b[0m\u001b[0;34m\u001b[0m\u001b[0m\n\u001b[0m\u001b[1;32m   1413\u001b[0m \u001b[0;34m\u001b[0m\u001b[0m\n\u001b[1;32m   1414\u001b[0m         \u001b[0mbound\u001b[0m \u001b[0;34m=\u001b[0m \u001b[0mnew_sig\u001b[0m\u001b[0;34m.\u001b[0m\u001b[0mbind\u001b[0m\u001b[0;34m(\u001b[0m\u001b[0max\u001b[0m\u001b[0;34m,\u001b[0m \u001b[0;34m*\u001b[0m\u001b[0margs\u001b[0m\u001b[0;34m,\u001b[0m \u001b[0;34m**\u001b[0m\u001b[0mkwargs\u001b[0m\u001b[0;34m)\u001b[0m\u001b[0;34m\u001b[0m\u001b[0;34m\u001b[0m\u001b[0m\n",
      "\u001b[0;32m~/opt/anaconda3/envs/Fairv2.0.0/lib/python3.9/site-packages/matplotlib/axes/_axes.py\u001b[0m in \u001b[0;36mscatter\u001b[0;34m(self, x, y, s, c, marker, cmap, norm, vmin, vmax, alpha, linewidths, edgecolors, plotnonfinite, **kwargs)\u001b[0m\n\u001b[1;32m   4321\u001b[0m         \u001b[0my\u001b[0m \u001b[0;34m=\u001b[0m \u001b[0mnp\u001b[0m\u001b[0;34m.\u001b[0m\u001b[0mma\u001b[0m\u001b[0;34m.\u001b[0m\u001b[0mravel\u001b[0m\u001b[0;34m(\u001b[0m\u001b[0my\u001b[0m\u001b[0;34m)\u001b[0m\u001b[0;34m\u001b[0m\u001b[0;34m\u001b[0m\u001b[0m\n\u001b[1;32m   4322\u001b[0m         \u001b[0;32mif\u001b[0m \u001b[0mx\u001b[0m\u001b[0;34m.\u001b[0m\u001b[0msize\u001b[0m \u001b[0;34m!=\u001b[0m \u001b[0my\u001b[0m\u001b[0;34m.\u001b[0m\u001b[0msize\u001b[0m\u001b[0;34m:\u001b[0m\u001b[0;34m\u001b[0m\u001b[0;34m\u001b[0m\u001b[0m\n\u001b[0;32m-> 4323\u001b[0;31m             \u001b[0;32mraise\u001b[0m \u001b[0mValueError\u001b[0m\u001b[0;34m(\u001b[0m\u001b[0;34m\"x and y must be the same size\"\u001b[0m\u001b[0;34m)\u001b[0m\u001b[0;34m\u001b[0m\u001b[0;34m\u001b[0m\u001b[0m\n\u001b[0m\u001b[1;32m   4324\u001b[0m \u001b[0;34m\u001b[0m\u001b[0m\n\u001b[1;32m   4325\u001b[0m         \u001b[0;32mif\u001b[0m \u001b[0ms\u001b[0m \u001b[0;32mis\u001b[0m \u001b[0;32mNone\u001b[0m\u001b[0;34m:\u001b[0m\u001b[0;34m\u001b[0m\u001b[0;34m\u001b[0m\u001b[0m\n",
      "\u001b[0;31mValueError\u001b[0m: x and y must be the same size"
     ]
    },
    {
     "data": {
      "image/png": "[encoded data removed]",
      "text/plain": [
       "<Figure size 432x288 with 1 Axes>"
      ]
     },
     "metadata": {},
     "output_type": "display_data"
    }
   ],
   "source": [
    "function(consumption_growth=0.02)"
   ]
  },
  {
   "cell_type": "code",
   "execution_count": null,
   "id": "299ccd3c",
   "metadata": {},
   "outputs": [],
   "source": []
  },
  {
   "cell_type": "code",
   "execution_count": null,
   "id": "77d1aa22",
   "metadata": {},
   "outputs": [],
   "source": []
  },
  {
   "cell_type": "code",
   "execution_count": null,
   "id": "eea56391",
   "metadata": {},
   "outputs": [],
   "source": []
  },
  {
   "cell_type": "code",
   "execution_count": null,
   "id": "2000ddec",
   "metadata": {},
   "outputs": [],
   "source": []
  },
  {
   "cell_type": "code",
   "execution_count": null,
   "id": "1fcbe024",
   "metadata": {},
   "outputs": [],
   "source": []
  },
  {
   "cell_type": "code",
   "execution_count": null,
   "id": "0af3c1c6",
   "metadata": {},
   "outputs": [],
   "source": []
  },
  {
   "cell_type": "code",
   "execution_count": null,
   "id": "9a85c1b6",
   "metadata": {},
   "outputs": [],
   "source": []
  },
  {
   "cell_type": "code",
   "execution_count": null,
   "id": "d45ec332",
   "metadata": {},
   "outputs": [],
   "source": []
  },
  {
   "cell_type": "code",
   "execution_count": null,
   "id": "aef7661c",
   "metadata": {},
   "outputs": [],
   "source": []
  },
  {
   "cell_type": "code",
   "execution_count": null,
   "id": "c35b57a3",
   "metadata": {},
   "outputs": [],
   "source": []
  },
  {
   "cell_type": "code",
   "execution_count": null,
   "id": "7c25da03",
   "metadata": {},
   "outputs": [],
   "source": []
  },
  {
   "cell_type": "code",
   "execution_count": null,
   "id": "757cea5f",
   "metadata": {},
   "outputs": [],
   "source": []
  },
  {
   "cell_type": "code",
   "execution_count": null,
   "id": "e5d2947f",
   "metadata": {},
   "outputs": [],
   "source": []
  },
  {
   "cell_type": "markdown",
   "id": "10a99da4",
   "metadata": {},
   "source": [
    "## Parameters other than Discount Factor & Consumption Growth Rate"
   ]
  },
  {
   "cell_type": "code",
   "execution_count": 25,
   "id": "28fbabf8",
   "metadata": {},
   "outputs": [],
   "source": [
    "# Define the model inputs\n",
    "problem = {\n",
    "'num_vars': 5,\n",
    "'names': ['P_h', 's', 'Am', 'D0', 'gamma'],\n",
    "'bounds': [[50, 100],\n",
    "[15, 25],\n",
    "[1.05, 1.5],\n",
    "[0.002, 0.003],\n",
    "[2, 2.5]]\n",
    "}\n",
    "# Generate samples\n",
    "param_values = saltelli.sample(problem, 256)"
   ]
  },
  {
   "cell_type": "code",
   "execution_count": 26,
   "id": "d12ad210",
   "metadata": {},
   "outputs": [
    {
     "data": {
      "text/plain": [
       "3072"
      ]
     },
     "execution_count": 26,
     "metadata": {},
     "output_type": "execute_result"
    }
   ],
   "source": [
    "len(param_values)"
   ]
  },
  {
   "cell_type": "markdown",
   "id": "86b837c1",
   "metadata": {},
   "source": [
    "- note: 8 runs -> ~27s\n",
    "- formula for num. of runs: N(2D+2)\n",
    "- N=256: 256(2(5)+2) = 3072 runs -> 384*22s ~ 170min"
   ]
  },
  {
   "cell_type": "code",
   "execution_count": 89,
   "id": "d51b114e",
   "metadata": {},
   "outputs": [
    {
     "data": {
      "text/plain": [
       "array([[5.02929688e+01, 1.99804688e+01, 1.35498047e+00, 2.29492188e-03,\n",
       "        2.38964844e+00],\n",
       "       [5.53710938e+01, 1.99804688e+01, 1.35498047e+00, 2.29492188e-03,\n",
       "        2.38964844e+00],\n",
       "       [5.02929688e+01, 1.86523438e+01, 1.35498047e+00, 2.29492188e-03,\n",
       "        2.38964844e+00],\n",
       "       ...,\n",
       "       [9.38476562e+01, 2.24414062e+01, 1.25830078e+00, 2.84570313e-03,\n",
       "        2.10058594e+00],\n",
       "       [9.38476562e+01, 2.24414062e+01, 1.25830078e+00, 2.22070313e-03,\n",
       "        2.17675781e+00],\n",
       "       [9.38476562e+01, 2.24414062e+01, 1.25830078e+00, 2.22070313e-03,\n",
       "        2.10058594e+00]])"
      ]
     },
     "execution_count": 89,
     "metadata": {},
     "output_type": "execute_result"
    }
   ],
   "source": [
    "param_values"
   ]
  },
  {
   "cell_type": "code",
   "execution_count": 61,
   "id": "5bad7eb8",
   "metadata": {},
   "outputs": [],
   "source": [
    "np.savetxt(\"param_values.csv\", param_values, delimiter=\",\")"
   ]
  },
  {
   "cell_type": "code",
   "execution_count": 27,
   "id": "e65cf680",
   "metadata": {},
   "outputs": [
    {
     "name": "stdout",
     "output_type": "stream",
     "text": [
      "0\n",
      "15:20:56\n",
      "64\n",
      "15:24:32\n",
      "128\n",
      "15:28:01\n",
      "192\n",
      "15:31:35\n",
      "256\n",
      "15:35:04\n",
      "320\n",
      "15:38:34\n",
      "384\n",
      "15:42:05\n",
      "448\n",
      "15:45:38\n",
      "512\n",
      "15:49:12\n",
      "576\n",
      "15:52:46\n",
      "640\n",
      "15:56:23\n",
      "704\n",
      "15:59:59\n",
      "768\n",
      "16:03:35\n",
      "832\n",
      "16:07:11\n",
      "896\n",
      "16:10:47\n",
      "960\n",
      "16:14:26\n",
      "1024\n",
      "16:18:03\n",
      "1088\n",
      "16:21:39\n",
      "1152\n",
      "16:25:10\n",
      "1216\n",
      "16:28:38\n",
      "1280\n",
      "16:32:07\n",
      "1344\n",
      "16:35:35\n",
      "1408\n",
      "16:39:04\n",
      "1472\n",
      "16:42:32\n",
      "1536\n",
      "16:46:01\n",
      "1600\n",
      "16:49:29\n",
      "1664\n",
      "16:52:58\n",
      "1728\n",
      "16:56:26\n",
      "1792\n",
      "16:59:55\n",
      "1856\n",
      "17:03:24\n",
      "1920\n",
      "17:06:52\n",
      "1984\n",
      "17:10:21\n",
      "2048\n",
      "17:13:50\n",
      "2112\n",
      "17:17:19\n",
      "2176\n",
      "17:20:49\n",
      "2240\n",
      "17:24:18\n",
      "2304\n",
      "17:27:46\n",
      "2368\n",
      "17:31:15\n",
      "2432\n",
      "17:34:43\n",
      "2496\n",
      "17:38:12\n",
      "2560\n",
      "17:41:40\n",
      "2624\n",
      "17:45:08\n",
      "2688\n",
      "17:48:38\n",
      "2752\n",
      "17:52:07\n",
      "2816\n",
      "17:55:35\n",
      "2880\n",
      "17:59:04\n",
      "2944\n",
      "18:02:32\n",
      "3008\n",
      "18:06:01\n"
     ]
    }
   ],
   "source": [
    "Y = np.zeros([param_values.shape[0]])\n",
    "\n",
    "for i in range(len(param_values)):\n",
    "    if i%64 == 0:\n",
    "        print(i)\n",
    "        t = time.localtime()\n",
    "        current_time = time.strftime(\"%H:%M:%S\", t)\n",
    "        print(current_time)\n",
    "        \n",
    "    Y[i] = peak_warming_calculator(P_h=param_values[i][0], s=param_values[i][1], Am=param_values[i][2], D0=param_values[i][3], gamma=param_values[i][4])"
   ]
  },
  {
   "cell_type": "code",
   "execution_count": 63,
   "id": "2f045583",
   "metadata": {},
   "outputs": [],
   "source": [
    "np.savetxt(\"Y.csv\", Y, delimiter=\",\")"
   ]
  },
  {
   "cell_type": "code",
   "execution_count": 64,
   "id": "1226b713",
   "metadata": {
    "scrolled": true
   },
   "outputs": [
    {
     "name": "stdout",
     "output_type": "stream",
     "text": [
      "             ST   ST_conf\n",
      "P_h    0.241163  0.049401\n",
      "s      0.026334  0.012869\n",
      "Am     0.473002  0.092153\n",
      "D0     0.084143  0.019034\n",
      "gamma  0.174514  0.046489\n",
      "             S1   S1_conf\n",
      "P_h    0.248344  0.077551\n",
      "s      0.015194  0.027129\n",
      "Am     0.466365  0.108846\n",
      "D0     0.080376  0.045775\n",
      "gamma  0.167650  0.069637\n",
      "                    S2   S2_conf\n",
      "(P_h, s)     -0.016111  0.098991\n",
      "(P_h, Am)    -0.021075  0.145442\n",
      "(P_h, D0)    -0.013766  0.104831\n",
      "(P_h, gamma) -0.000502  0.113335\n",
      "(s, Am)       0.014273  0.052010\n",
      "(s, D0)       0.012359  0.039592\n",
      "(s, gamma)    0.003550  0.037917\n",
      "(Am, D0)      0.006379  0.161615\n",
      "(Am, gamma)   0.003951  0.155872\n",
      "(D0, gamma)   0.008522  0.081096\n"
     ]
    }
   ],
   "source": [
    "Si = sobol.analyze(problem, Y, print_to_console=True)"
   ]
  },
  {
   "cell_type": "code",
   "execution_count": 70,
   "id": "c738ba28",
   "metadata": {},
   "outputs": [],
   "source": [
    "total_Si, first_Si, second_Si = Si.to_df()"
   ]
  },
  {
   "cell_type": "code",
   "execution_count": 71,
   "id": "cabeacbe",
   "metadata": {
    "scrolled": true
   },
   "outputs": [
    {
     "data": {
      "text/plain": [
       "([0, 1, 2, 3, 4],\n",
       " [Text(0, 0, ''),\n",
       "  Text(0, 0, ''),\n",
       "  Text(0, 0, ''),\n",
       "  Text(0, 0, ''),\n",
       "  Text(0, 0, '')])"
      ]
     },
     "execution_count": 71,
     "metadata": {},
     "output_type": "execute_result"
    },
    {
     "data": {
      "image/png": "[encoded data removed]",
      "text/plain": [
       "<Figure size 432x288 with 1 Axes>"
      ]
     },
     "metadata": {},
     "output_type": "display_data"
    }
   ],
   "source": [
    "plt.title(\"First Order Interactions\")\n",
    "plt.bar(first_Si.index, first_Si['S1'], yerr=first_Si['S1_conf'])\n",
    "plt.xticks(rotation=90)"
   ]
  },
  {
   "cell_type": "code",
   "execution_count": 88,
   "id": "9567b5d2",
   "metadata": {},
   "outputs": [
    {
     "data": {
      "text/plain": [
       "([0, 1, 2, 3, 4],\n",
       " [Text(0, 0, ''),\n",
       "  Text(0, 0, ''),\n",
       "  Text(0, 0, ''),\n",
       "  Text(0, 0, ''),\n",
       "  Text(0, 0, '')])"
      ]
     },
     "execution_count": 88,
     "metadata": {},
     "output_type": "execute_result"
    },
    {
     "data": {
      "image/png": "[encoded data removed]",
      "text/plain": [
       "<Figure size 432x288 with 1 Axes>"
      ]
     },
     "metadata": {},
     "output_type": "display_data"
    }
   ],
   "source": [
    "plt.title(\"Total Order Interactions\")\n",
    "plt.bar(total_Si.index, total_Si['ST'], yerr=total_Si['ST_conf'])\n",
    "plt.xticks(rotation=90)"
   ]
  },
  {
   "cell_type": "code",
   "execution_count": 76,
   "id": "400ec06a",
   "metadata": {},
   "outputs": [
    {
     "data": {
      "text/plain": [
       "array([<AxesSubplot:>, <AxesSubplot:>, <AxesSubplot:>], dtype=object)"
      ]
     },
     "execution_count": 76,
     "metadata": {},
     "output_type": "execute_result"
    },
    {
     "data": {
      "image/png": "[encoded data removed]",
      "text/plain": [
       "<Figure size 432x288 with 3 Axes>"
      ]
     },
     "metadata": {},
     "output_type": "display_data"
    }
   ],
   "source": [
    "Si.plot()"
   ]
  },
  {
   "cell_type": "code",
   "execution_count": null,
   "id": "b48d05ff",
   "metadata": {},
   "outputs": [],
   "source": []
  },
  {
   "cell_type": "code",
   "execution_count": null,
   "id": "f42a0db0",
   "metadata": {},
   "outputs": [],
   "source": []
  },
  {
   "cell_type": "code",
   "execution_count": null,
   "id": "d943eca4",
   "metadata": {},
   "outputs": [],
   "source": []
  },
  {
   "cell_type": "code",
   "execution_count": null,
   "id": "55fa8ab1",
   "metadata": {},
   "outputs": [],
   "source": []
  },
  {
   "cell_type": "code",
   "execution_count": null,
   "id": "dc2ce000",
   "metadata": {},
   "outputs": [],
   "source": []
  },
  {
   "cell_type": "markdown",
   "id": "1d65b2b7",
   "metadata": {},
   "source": [
    "## All Parameters"
   ]
  },
  {
   "cell_type": "code",
   "execution_count": 87,
   "id": "a5c9b149",
   "metadata": {},
   "outputs": [],
   "source": [
    "# Define the model inputs\n",
    "problem = {\n",
    "'num_vars': 7,\n",
    "'names': ['P_h', 's', 'Am', 'D0', 'gamma', 'discount factor', 'consumption growth'],\n",
    "'bounds': [[50, 100],\n",
    "[15, 25],\n",
    "[1.05, 1.5],\n",
    "[0.002, 0.003],\n",
    "[2, 2.5],\n",
    "[0.02, 0.07],\n",
    "[0.02, 0.04]]\n",
    "}\n",
    "# Generate samples\n",
    "param_values = saltelli.sample(problem, 128)"
   ]
  },
  {
   "cell_type": "code",
   "execution_count": 88,
   "id": "db4bb4c2",
   "metadata": {},
   "outputs": [
    {
     "data": {
      "text/plain": [
       "2048"
      ]
     },
     "execution_count": 88,
     "metadata": {},
     "output_type": "execute_result"
    }
   ],
   "source": [
    "len(param_values)"
   ]
  },
  {
   "cell_type": "markdown",
   "id": "f66f29b2",
   "metadata": {},
   "source": [
    "- note: 8 runs -> ~22s\n",
    "- formula for num. of runs: N(2D+2)\n",
    "- N=8: 8(2(7)+2) = 128 runs -> 16*22s ~ 6min\n",
    "- N=64: 64(2(7)+2) = 1024 runs -> 128*22s ~ 47min\n",
    "- N=128: 128(2(7)+2) = 2048 runs -> 256*22s ~ 94min"
   ]
  },
  {
   "cell_type": "code",
   "execution_count": 89,
   "id": "ca4ff7b4",
   "metadata": {},
   "outputs": [],
   "source": []
  },
  {
   "cell_type": "code",
   "execution_count": 90,
   "id": "ab4f47c6",
   "metadata": {},
   "outputs": [
    {
     "name": "stdout",
     "output_type": "stream",
     "text": [
      "0\n",
      "12:07:48\n"
     ]
    },
    {
     "name": "stderr",
     "output_type": "stream",
     "text": [
      "/Users/aaron/Documents/oxford_physics/Year_4/MPhys/drivers-of-peak-warming/peak_warming_calculator/peak_warming_calculator.py:198: RuntimeWarning: divide by zero encountered in power\n",
      "  A = Am / (1 + ((P - P0) / P_h) ** (-r / s))\n"
     ]
    },
    {
     "name": "stdout",
     "output_type": "stream",
     "text": [
      "8\n",
      "12:08:09\n",
      "16\n",
      "12:08:34\n",
      "24\n",
      "12:09:02\n",
      "32\n",
      "12:09:28\n",
      "40\n",
      "12:09:56\n",
      "48\n",
      "12:10:24\n",
      "56\n",
      "12:10:51\n",
      "64\n",
      "12:11:18\n",
      "72\n",
      "12:11:45\n",
      "80\n",
      "12:12:11\n",
      "88\n",
      "12:12:38\n",
      "96\n",
      "12:13:04\n",
      "104\n",
      "12:13:31\n",
      "112\n",
      "12:13:58\n",
      "120\n",
      "12:14:25\n",
      "128\n",
      "12:14:52\n",
      "136\n",
      "12:15:20\n",
      "144\n",
      "12:15:47\n",
      "152\n",
      "12:16:11\n",
      "160\n",
      "12:16:37\n",
      "168\n",
      "12:17:03\n",
      "176\n",
      "12:17:30\n",
      "184\n",
      "12:17:59\n",
      "192\n",
      "12:18:26\n",
      "200\n",
      "12:18:50\n",
      "208\n",
      "12:19:12\n",
      "216\n",
      "12:19:34\n",
      "224\n",
      "12:20:02\n",
      "232\n",
      "12:20:23\n",
      "240\n",
      "12:20:44\n",
      "248\n",
      "12:21:04\n",
      "256\n",
      "12:21:29\n",
      "264\n",
      "12:21:50\n",
      "272\n",
      "12:22:13\n",
      "280\n",
      "12:22:41\n",
      "288\n",
      "12:23:03\n",
      "296\n",
      "12:23:27\n",
      "304\n",
      "12:23:51\n",
      "312\n",
      "12:24:14\n",
      "320\n",
      "12:24:36\n",
      "328\n",
      "12:24:56\n",
      "336\n",
      "12:25:18\n",
      "344\n",
      "12:25:40\n",
      "352\n",
      "12:26:00\n",
      "360\n",
      "12:26:20\n",
      "368\n",
      "12:26:41\n",
      "376\n",
      "12:27:02\n",
      "384\n",
      "12:27:27\n",
      "392\n",
      "12:27:53\n",
      "400\n",
      "12:28:20\n",
      "408\n",
      "12:28:47\n",
      "416\n",
      "12:29:16\n",
      "424\n",
      "12:29:43\n",
      "432\n",
      "12:30:09\n",
      "440\n",
      "12:30:35\n",
      "448\n",
      "12:31:01\n",
      "456\n",
      "12:31:28\n",
      "464\n",
      "12:31:52\n",
      "472\n",
      "12:32:13\n",
      "480\n",
      "12:32:34\n",
      "488\n",
      "12:32:56\n",
      "496\n",
      "12:33:19\n",
      "504\n",
      "12:33:46\n",
      "512\n",
      "12:34:11\n",
      "520\n",
      "12:34:31\n",
      "528\n",
      "12:34:51\n",
      "536\n",
      "12:35:12\n",
      "544\n",
      "12:35:35\n",
      "552\n",
      "12:36:02\n",
      "560\n",
      "12:36:27\n",
      "568\n",
      "12:36:51\n",
      "576\n",
      "12:37:15\n",
      "584\n",
      "12:37:41\n",
      "592\n",
      "12:38:06\n",
      "600\n",
      "12:38:30\n",
      "608\n",
      "12:38:53\n",
      "616\n",
      "12:39:17\n",
      "624\n",
      "12:39:40\n",
      "632\n",
      "12:40:04\n",
      "640\n",
      "12:40:28\n",
      "648\n",
      "12:40:52\n",
      "656\n",
      "12:41:15\n",
      "664\n",
      "12:41:40\n",
      "672\n",
      "12:42:05\n",
      "680\n",
      "12:42:29\n",
      "688\n",
      "12:42:53\n",
      "696\n",
      "12:43:17\n",
      "704\n",
      "12:43:41\n",
      "712\n",
      "12:44:02\n",
      "720\n",
      "12:44:25\n",
      "728\n",
      "12:44:49\n",
      "736\n",
      "12:45:13\n",
      "744\n",
      "12:45:37\n",
      "752\n",
      "12:46:02\n",
      "760\n",
      "12:46:25\n",
      "768\n",
      "12:46:49\n",
      "776\n",
      "12:47:13\n",
      "784\n",
      "12:47:37\n",
      "792\n",
      "12:48:00\n",
      "800\n",
      "12:48:24\n",
      "808\n",
      "12:48:47\n",
      "816\n",
      "12:49:12\n",
      "824\n",
      "12:49:34\n",
      "832\n",
      "12:49:56\n",
      "840\n",
      "12:50:18\n",
      "848\n",
      "12:50:44\n",
      "856\n",
      "12:51:09\n",
      "864\n",
      "12:51:31\n",
      "872\n",
      "12:51:56\n",
      "880\n",
      "12:52:19\n",
      "888\n",
      "12:52:41\n",
      "896\n",
      "12:53:04\n",
      "904\n",
      "12:53:26\n",
      "912\n",
      "12:53:47\n",
      "920\n",
      "12:54:10\n",
      "928\n",
      "12:54:32\n",
      "936\n",
      "12:54:55\n",
      "944\n",
      "12:55:17\n",
      "952\n",
      "12:55:38\n",
      "960\n",
      "12:56:00\n",
      "968\n",
      "12:56:24\n",
      "976\n",
      "12:56:46\n",
      "984\n",
      "12:57:09\n",
      "992\n",
      "12:57:32\n",
      "1000\n",
      "12:57:55\n",
      "1008\n",
      "12:58:18\n",
      "1016\n",
      "12:58:40\n",
      "1024\n",
      "12:59:02\n",
      "1032\n",
      "12:59:24\n",
      "1040\n",
      "12:59:47\n",
      "1048\n",
      "13:00:10\n",
      "1056\n",
      "13:00:32\n",
      "1064\n",
      "13:00:54\n",
      "1072\n",
      "13:01:14\n",
      "1080\n",
      "13:01:35\n",
      "1088\n",
      "13:01:57\n",
      "1096\n",
      "13:02:19\n",
      "1104\n",
      "13:02:41\n",
      "1112\n",
      "13:03:04\n",
      "1120\n",
      "13:03:26\n",
      "1128\n",
      "13:03:49\n",
      "1136\n",
      "13:04:12\n",
      "1144\n",
      "13:04:34\n",
      "1152\n",
      "13:04:56\n",
      "1160\n",
      "13:05:17\n",
      "1168\n",
      "13:05:38\n",
      "1176\n",
      "13:05:59\n",
      "1184\n",
      "13:06:20\n",
      "1192\n",
      "13:06:42\n",
      "1200\n",
      "13:07:04\n",
      "1208\n",
      "13:07:25\n",
      "1216\n",
      "13:07:48\n",
      "1224\n",
      "13:08:09\n",
      "1232\n",
      "13:08:31\n",
      "1240\n",
      "13:08:54\n",
      "1248\n",
      "13:09:16\n",
      "1256\n",
      "13:09:39\n",
      "1264\n",
      "13:10:04\n",
      "1272\n",
      "13:10:32\n",
      "1280\n",
      "13:11:02\n",
      "1288\n",
      "13:11:27\n",
      "1296\n",
      "13:11:52\n",
      "1304\n",
      "13:12:13\n",
      "1312\n",
      "13:12:32\n",
      "1320\n",
      "13:12:52\n",
      "1328\n",
      "13:13:12\n",
      "1336\n",
      "13:13:32\n",
      "1344\n",
      "13:13:52\n",
      "1352\n",
      "13:14:12\n",
      "1360\n",
      "13:14:35\n",
      "1368\n",
      "13:14:58\n",
      "1376\n",
      "13:15:19\n",
      "1384\n",
      "13:15:39\n",
      "1392\n",
      "13:16:00\n",
      "1400\n",
      "13:16:28\n",
      "1408\n",
      "13:16:51\n",
      "1416\n",
      "13:17:13\n",
      "1424\n",
      "13:17:36\n",
      "1432\n",
      "13:18:02\n",
      "1440\n",
      "13:18:26\n",
      "1448\n",
      "13:18:47\n",
      "1456\n",
      "13:19:09\n",
      "1464\n",
      "13:19:30\n",
      "1472\n",
      "13:19:54\n",
      "1480\n",
      "13:20:18\n",
      "1488\n",
      "13:20:43\n",
      "1496\n",
      "13:21:03\n",
      "1504\n",
      "13:21:26\n",
      "1512\n",
      "13:21:48\n",
      "1520\n",
      "13:22:08\n",
      "1528\n",
      "13:22:30\n",
      "1536\n",
      "13:22:52\n",
      "1544\n",
      "13:23:15\n",
      "1552\n",
      "13:23:37\n",
      "1560\n",
      "13:23:58\n",
      "1568\n",
      "13:24:18\n",
      "1576\n",
      "13:24:39\n",
      "1584\n",
      "13:25:02\n",
      "1592\n",
      "13:25:24\n",
      "1600\n",
      "13:25:44\n",
      "1608\n",
      "13:26:06\n",
      "1616\n",
      "13:26:29\n",
      "1624\n",
      "13:26:49\n",
      "1632\n",
      "13:27:10\n",
      "1640\n",
      "13:27:31\n",
      "1648\n",
      "13:27:53\n",
      "1656\n",
      "13:28:14\n",
      "1664\n",
      "13:28:34\n",
      "1672\n",
      "13:28:54\n",
      "1680\n",
      "13:29:14\n",
      "1688\n",
      "13:29:35\n",
      "1696\n",
      "13:29:55\n",
      "1704\n",
      "13:30:15\n",
      "1712\n",
      "13:30:35\n",
      "1720\n",
      "13:30:55\n",
      "1728\n",
      "13:31:16\n",
      "1736\n",
      "13:31:36\n",
      "1744\n",
      "13:31:56\n",
      "1752\n",
      "13:32:15\n",
      "1760\n",
      "13:32:35\n",
      "1768\n",
      "13:32:55\n",
      "1776\n",
      "13:33:15\n",
      "1784\n",
      "13:33:35\n",
      "1792\n",
      "13:33:54\n",
      "1800\n",
      "13:34:14\n",
      "1808\n",
      "13:34:36\n",
      "1816\n",
      "13:34:57\n",
      "1824\n",
      "13:35:17\n",
      "1832\n",
      "13:35:37\n",
      "1840\n",
      "13:36:00\n",
      "1848\n",
      "13:36:23\n",
      "1856\n",
      "13:36:45\n",
      "1864\n",
      "13:37:06\n",
      "1872\n",
      "13:37:28\n",
      "1880\n",
      "13:37:51\n",
      "1888\n",
      "13:38:11\n",
      "1896\n",
      "13:38:31\n",
      "1904\n",
      "13:38:51\n",
      "1912\n",
      "13:39:11\n",
      "1920\n",
      "13:39:30\n",
      "1928\n",
      "13:39:50\n",
      "1936\n",
      "13:40:10\n",
      "1944\n",
      "13:40:31\n",
      "1952\n",
      "13:40:52\n",
      "1960\n",
      "13:41:12\n",
      "1968\n",
      "13:41:32\n",
      "1976\n",
      "13:41:54\n",
      "1984\n",
      "13:42:16\n",
      "1992\n",
      "13:42:40\n",
      "2000\n",
      "13:43:00\n",
      "2008\n",
      "13:43:20\n",
      "2016\n",
      "13:43:40\n",
      "2024\n",
      "13:44:02\n",
      "2032\n",
      "13:44:25\n",
      "2040\n",
      "13:44:48\n"
     ]
    }
   ],
   "source": [
    "Y = np.zeros([param_values.shape[0]])\n",
    "\n",
    "\n",
    "\n",
    "for i in range(len(param_values)):\n",
    "    if i%8 == 0:\n",
    "        print(i)\n",
    "        t = time.localtime()\n",
    "        current_time = time.strftime(\"%H:%M:%S\", t)\n",
    "        print(current_time)\n",
    "        \n",
    "    Y[i] = peak_warming_calculator(P_h=param_values[i][0], s=param_values[i][1], Am=param_values[i][2], D0=param_values[i][3], gamma=param_values[i][4], consumption_discount=param_values[i][5], consumption_growth=param_values[i][6])"
   ]
  },
  {
   "cell_type": "code",
   "execution_count": 91,
   "id": "3c522b22",
   "metadata": {},
   "outputs": [
    {
     "name": "stdout",
     "output_type": "stream",
     "text": [
      "                          ST   ST_conf\n",
      "P_h                 0.020594  0.006929\n",
      "s                   0.002045  0.002329\n",
      "Am                  0.036427  0.013375\n",
      "D0                  0.007316  0.002406\n",
      "gamma               0.016898  0.007042\n",
      "discount factor     0.615299  0.160227\n",
      "consumption growth  0.312551  0.087787\n",
      "                          S1   S1_conf\n",
      "P_h                 0.026586  0.031882\n",
      "s                   0.001747  0.008309\n",
      "Am                  0.017925  0.041090\n",
      "D0                  0.012649  0.021208\n",
      "gamma               0.012763  0.025650\n",
      "discount factor     0.642608  0.199407\n",
      "consumption growth  0.281530  0.125541\n",
      "                                             S2   S2_conf\n",
      "(P_h, s)                              -0.019404  0.054018\n",
      "(P_h, Am)                             -0.020598  0.054947\n",
      "(P_h, D0)                             -0.016672  0.053619\n",
      "(P_h, gamma)                          -0.017117  0.052921\n",
      "(P_h, discount factor)                -0.022259  0.063907\n",
      "(P_h, consumption growth)             -0.011428  0.056806\n",
      "(s, Am)                                0.001117  0.009162\n",
      "(s, D0)                                0.001373  0.009695\n",
      "(s, gamma)                             0.001618  0.009190\n",
      "(s, discount factor)                  -0.004514  0.013759\n",
      "(s, consumption growth)               -0.001503  0.009800\n",
      "(Am, D0)                               0.044721  0.062544\n",
      "(Am, gamma)                            0.045324  0.061271\n",
      "(Am, discount factor)                  0.002525  0.089431\n",
      "(Am, consumption growth)               0.043923  0.062031\n",
      "(D0, gamma)                           -0.021511  0.030299\n",
      "(D0, discount factor)                  0.000153  0.043640\n",
      "(D0, consumption growth)              -0.019628  0.032897\n",
      "(gamma, discount factor)               0.009204  0.055873\n",
      "(gamma, consumption growth)            0.008499  0.046498\n",
      "(discount factor, consumption growth) -0.051396  0.300935\n"
     ]
    }
   ],
   "source": [
    "Si = sobol.analyze(problem, Y, print_to_console=True)"
   ]
  },
  {
   "cell_type": "code",
   "execution_count": 92,
   "id": "54f5f864",
   "metadata": {},
   "outputs": [],
   "source": [
    "total_Si, first_Si, second_Si = Si.to_df()"
   ]
  },
  {
   "cell_type": "code",
   "execution_count": 93,
   "id": "01dced2a",
   "metadata": {},
   "outputs": [
    {
     "data": {
      "image/png": "[encoded data removed]",
      "text/plain": [
       "<Figure size 432x288 with 3 Axes>"
      ]
     },
     "metadata": {},
     "output_type": "display_data"
    }
   ],
   "source": [
    "Si.plot()\n",
    "plt.tight_layout()"
   ]
  },
  {
   "cell_type": "code",
   "execution_count": 94,
   "id": "6b351f25",
   "metadata": {},
   "outputs": [
    {
     "data": {
      "text/html": [
       "<div>\n",
       "<style scoped>\n",
       "    .dataframe tbody tr th:only-of-type {\n",
       "        vertical-align: middle;\n",
       "    }\n",
       "\n",
       "    .dataframe tbody tr th {\n",
       "        vertical-align: top;\n",
       "    }\n",
       "\n",
       "    .dataframe thead th {\n",
       "        text-align: right;\n",
       "    }\n",
       "</style>\n",
       "<table border=\"1\" class=\"dataframe\">\n",
       "  <thead>\n",
       "    <tr style=\"text-align: right;\">\n",
       "      <th></th>\n",
       "      <th>ST</th>\n",
       "      <th>ST_conf</th>\n",
       "    </tr>\n",
       "  </thead>\n",
       "  <tbody>\n",
       "    <tr>\n",
       "      <th>P_h</th>\n",
       "      <td>0.020594</td>\n",
       "      <td>0.006929</td>\n",
       "    </tr>\n",
       "    <tr>\n",
       "      <th>s</th>\n",
       "      <td>0.002045</td>\n",
       "      <td>0.002329</td>\n",
       "    </tr>\n",
       "    <tr>\n",
       "      <th>Am</th>\n",
       "      <td>0.036427</td>\n",
       "      <td>0.013375</td>\n",
       "    </tr>\n",
       "    <tr>\n",
       "      <th>D0</th>\n",
       "      <td>0.007316</td>\n",
       "      <td>0.002406</td>\n",
       "    </tr>\n",
       "    <tr>\n",
       "      <th>gamma</th>\n",
       "      <td>0.016898</td>\n",
       "      <td>0.007042</td>\n",
       "    </tr>\n",
       "    <tr>\n",
       "      <th>discount factor</th>\n",
       "      <td>0.615299</td>\n",
       "      <td>0.160227</td>\n",
       "    </tr>\n",
       "    <tr>\n",
       "      <th>consumption growth</th>\n",
       "      <td>0.312551</td>\n",
       "      <td>0.087787</td>\n",
       "    </tr>\n",
       "  </tbody>\n",
       "</table>\n",
       "</div>"
      ],
      "text/plain": [
       "                          ST   ST_conf\n",
       "P_h                 0.020594  0.006929\n",
       "s                   0.002045  0.002329\n",
       "Am                  0.036427  0.013375\n",
       "D0                  0.007316  0.002406\n",
       "gamma               0.016898  0.007042\n",
       "discount factor     0.615299  0.160227\n",
       "consumption growth  0.312551  0.087787"
      ]
     },
     "execution_count": 94,
     "metadata": {},
     "output_type": "execute_result"
    }
   ],
   "source": [
    "total_Si"
   ]
  },
  {
   "cell_type": "code",
   "execution_count": 95,
   "id": "ababe357",
   "metadata": {},
   "outputs": [
    {
     "data": {
      "text/plain": [
       "Index(['P_h', 's', 'Am', 'D0', 'gamma', 'discount factor',\n",
       "       'consumption growth'],\n",
       "      dtype='object')"
      ]
     },
     "execution_count": 95,
     "metadata": {},
     "output_type": "execute_result"
    }
   ],
   "source": [
    "total_Si.index"
   ]
  },
  {
   "cell_type": "code",
   "execution_count": 98,
   "id": "068c9255",
   "metadata": {
    "scrolled": true
   },
   "outputs": [
    {
     "data": {
      "text/plain": [
       "([0, 1, 2, 3, 4, 5, 6],\n",
       " [Text(0, 0, ''),\n",
       "  Text(0, 0, ''),\n",
       "  Text(0, 0, ''),\n",
       "  Text(0, 0, ''),\n",
       "  Text(0, 0, ''),\n",
       "  Text(0, 0, ''),\n",
       "  Text(0, 0, '')])"
      ]
     },
     "execution_count": 98,
     "metadata": {},
     "output_type": "execute_result"
    },
    {
     "data": {
      "image/png": "[encoded data removed]",
      "text/plain": [
       "<Figure size 432x288 with 1 Axes>"
      ]
     },
     "metadata": {},
     "output_type": "display_data"
    }
   ],
   "source": [
    "plt.title(\"128\")\n",
    "plt.bar(total_Si.index, total_Si['ST'], yerr=total_Si['ST_conf'])\n",
    "plt.xticks(rotation=90)"
   ]
  },
  {
   "cell_type": "code",
   "execution_count": 99,
   "id": "4edb3943",
   "metadata": {},
   "outputs": [
    {
     "data": {
      "text/plain": [
       "([0, 1, 2, 3, 4, 5, 6],\n",
       " [Text(0, 0, ''),\n",
       "  Text(0, 0, ''),\n",
       "  Text(0, 0, ''),\n",
       "  Text(0, 0, ''),\n",
       "  Text(0, 0, ''),\n",
       "  Text(0, 0, ''),\n",
       "  Text(0, 0, '')])"
      ]
     },
     "execution_count": 99,
     "metadata": {},
     "output_type": "execute_result"
    },
    {
     "data": {
      "image/png": "[encoded data removed]",
      "text/plain": [
       "<Figure size 432x288 with 1 Axes>"
      ]
     },
     "metadata": {},
     "output_type": "display_data"
    }
   ],
   "source": [
    "plt.title(\"128\")\n",
    "plt.bar(first_Si.index, first_Si['S1'], yerr=first_Si['S1_conf'])\n",
    "plt.xticks(rotation=90)"
   ]
  },
  {
   "cell_type": "code",
   "execution_count": null,
   "id": "d0aa8b9d",
   "metadata": {},
   "outputs": [],
   "source": []
  },
  {
   "cell_type": "code",
   "execution_count": null,
   "id": "977142e5",
   "metadata": {},
   "outputs": [],
   "source": []
  },
  {
   "cell_type": "code",
   "execution_count": null,
   "id": "00b428ca",
   "metadata": {},
   "outputs": [],
   "source": []
  },
  {
   "cell_type": "code",
   "execution_count": null,
   "id": "5d294f2c",
   "metadata": {},
   "outputs": [],
   "source": []
  },
  {
   "cell_type": "code",
   "execution_count": null,
   "id": "7971e3fa",
   "metadata": {},
   "outputs": [],
   "source": []
  },
  {
   "cell_type": "code",
   "execution_count": null,
   "id": "7a5ecad3",
   "metadata": {},
   "outputs": [],
   "source": []
  },
  {
   "cell_type": "code",
   "execution_count": null,
   "id": "10c98284",
   "metadata": {},
   "outputs": [],
   "source": []
  },
  {
   "cell_type": "code",
   "execution_count": null,
   "id": "9d3e228d",
   "metadata": {},
   "outputs": [],
   "source": []
  },
  {
   "cell_type": "code",
   "execution_count": null,
   "id": "ed03e036",
   "metadata": {},
   "outputs": [],
   "source": []
  },
  {
   "cell_type": "code",
   "execution_count": null,
   "id": "c406e9f4",
   "metadata": {},
   "outputs": [],
   "source": []
  },
  {
   "cell_type": "code",
   "execution_count": null,
   "id": "22cfa63c",
   "metadata": {},
   "outputs": [],
   "source": []
  },
  {
   "cell_type": "code",
   "execution_count": null,
   "id": "95e57bd4",
   "metadata": {},
   "outputs": [],
   "source": []
  },
  {
   "cell_type": "code",
   "execution_count": null,
   "id": "70f83733",
   "metadata": {},
   "outputs": [],
   "source": []
  },
  {
   "cell_type": "code",
   "execution_count": 22,
   "id": "a0abc5ab",
   "metadata": {},
   "outputs": [
    {
     "data": {
      "text/plain": [
       "{'S1': array([ 0.0008269 , -0.01496745,  0.18418246,  0.00639928, -0.01174437,\n",
       "         0.55496678,  0.77910727]),\n",
       " 'S1_conf': array([0.17111052, 0.03665097, 0.28509729, 0.12564102, 0.05360042,\n",
       "        0.80816551, 0.72242255]),\n",
       " 'ST': array([0.02368216, 0.00094096, 0.05846661, 0.00803795, 0.00174271,\n",
       "        0.8095196 , 0.39725199]),\n",
       " 'ST_conf': array([0.04574729, 0.00160147, 0.05791073, 0.01270855, 0.00193785,\n",
       "        0.42377558, 0.46183401]),\n",
       " 'S2': array([[        nan, -0.07692704, -0.08818309, -0.09302216, -0.0684389 ,\n",
       "          0.00718061, -0.01902615],\n",
       "        [        nan,         nan,  0.00700224,  0.0029669 ,  0.00404023,\n",
       "          0.01363693,  0.0120727 ],\n",
       "        [        nan,         nan,         nan, -0.25216987, -0.25139747,\n",
       "         -0.1441806 , -0.32412246],\n",
       "        [        nan,         nan,         nan,         nan, -0.02308243,\n",
       "         -0.01363571,  0.07035161],\n",
       "        [        nan,         nan,         nan,         nan,         nan,\n",
       "          0.01810385, -0.00319305],\n",
       "        [        nan,         nan,         nan,         nan,         nan,\n",
       "                 nan,  0.08217405],\n",
       "        [        nan,         nan,         nan,         nan,         nan,\n",
       "                 nan,         nan]]),\n",
       " 'S2_conf': array([[       nan, 0.29453036, 0.33025542, 0.32193008, 0.28922385,\n",
       "         0.19698137, 0.33025286],\n",
       "        [       nan,        nan, 0.04454142, 0.04017693, 0.04378732,\n",
       "         0.04113928, 0.0733164 ],\n",
       "        [       nan,        nan,        nan, 0.32217036, 0.30868138,\n",
       "         0.32943338, 0.30874585],\n",
       "        [       nan,        nan,        nan,        nan, 0.1516156 ,\n",
       "         0.13236046, 0.31550315],\n",
       "        [       nan,        nan,        nan,        nan,        nan,\n",
       "         0.05355514, 0.11446614],\n",
       "        [       nan,        nan,        nan,        nan,        nan,\n",
       "                nan, 1.30610186],\n",
       "        [       nan,        nan,        nan,        nan,        nan,\n",
       "                nan,        nan]])}"
      ]
     },
     "execution_count": 22,
     "metadata": {},
     "output_type": "execute_result"
    }
   ],
   "source": [
    "Si"
   ]
  },
  {
   "cell_type": "code",
   "execution_count": null,
   "id": "c2e51e51",
   "metadata": {},
   "outputs": [],
   "source": []
  },
  {
   "cell_type": "code",
   "execution_count": null,
   "id": "7ea248cd",
   "metadata": {},
   "outputs": [],
   "source": []
  },
  {
   "cell_type": "code",
   "execution_count": null,
   "id": "aad8ee68",
   "metadata": {},
   "outputs": [],
   "source": []
  },
  {
   "cell_type": "code",
   "execution_count": 67,
   "id": "bf6b78f5",
   "metadata": {},
   "outputs": [],
   "source": []
  },
  {
   "cell_type": "code",
   "execution_count": 83,
   "id": "be24d73f",
   "metadata": {},
   "outputs": [],
   "source": [
    "problem = {\n",
    "    'num_vars': 3,\n",
    "    'names': ['x1', 'x2', 'x3'],\n",
    "    'bounds': [[-3.14159265359, 3.14159265359],\n",
    "               [-3.14159265359, 3.14159265359],\n",
    "               [-3.14159265359, 3.14159265359]]\n",
    "}"
   ]
  },
  {
   "cell_type": "code",
   "execution_count": 101,
   "id": "f25ca553",
   "metadata": {
    "scrolled": true
   },
   "outputs": [
    {
     "name": "stderr",
     "output_type": "stream",
     "text": [
      "/Users/aaron/opt/anaconda3/envs/Fairv2.0.0/lib/python3.9/site-packages/SALib/sample/saltelli.py:94: UserWarning: \n",
      "        Convergence properties of the Sobol' sequence is only valid if\n",
      "        `N` (1) is equal to `2^n`.\n",
      "        \n",
      "  warnings.warn(msg)\n"
     ]
    }
   ],
   "source": [
    "param_values = saltelli.sample(problem, 1, calc_second_order=True)"
   ]
  },
  {
   "cell_type": "code",
   "execution_count": 103,
   "id": "ffa7b135",
   "metadata": {},
   "outputs": [
    {
     "data": {
      "text/plain": [
       "array([[-2.55254403, -0.19634954, -0.19634954],\n",
       "       [ 0.9817477 , -0.19634954, -0.19634954],\n",
       "       [-2.55254403, -1.37444679, -0.19634954],\n",
       "       [-2.55254403, -0.19634954,  2.94524311],\n",
       "       [-2.55254403, -1.37444679,  2.94524311],\n",
       "       [ 0.9817477 , -0.19634954,  2.94524311],\n",
       "       [ 0.9817477 , -1.37444679, -0.19634954],\n",
       "       [ 0.9817477 , -1.37444679,  2.94524311]])"
      ]
     },
     "execution_count": 103,
     "metadata": {},
     "output_type": "execute_result"
    }
   ],
   "source": [
    "param_values"
   ]
  },
  {
   "cell_type": "code",
   "execution_count": 96,
   "id": "ff20a229",
   "metadata": {},
   "outputs": [],
   "source": [
    "Y = Ishigami.evaluate(param_values)"
   ]
  },
  {
   "cell_type": "code",
   "execution_count": 97,
   "id": "7a4e662f",
   "metadata": {},
   "outputs": [
    {
     "data": {
      "text/plain": [
       "array([3.426362  , 3.3527401 , 0.85463176, ..., 0.7979166 , 0.2301734 ,\n",
       "       0.67233814])"
      ]
     },
     "execution_count": 97,
     "metadata": {},
     "output_type": "execute_result"
    }
   ],
   "source": [
    "Y"
   ]
  },
  {
   "cell_type": "code",
   "execution_count": 98,
   "id": "fa10bef9",
   "metadata": {},
   "outputs": [],
   "source": [
    "Si = sobol.analyze(problem, Y, print_to_console=False)"
   ]
  },
  {
   "cell_type": "code",
   "execution_count": 99,
   "id": "13af22f3",
   "metadata": {},
   "outputs": [
    {
     "name": "stdout",
     "output_type": "stream",
     "text": [
      "[0.31234581 0.44299361 0.00903086]\n"
     ]
    }
   ],
   "source": [
    "print(Si['S1'])"
   ]
  },
  {
   "cell_type": "code",
   "execution_count": 100,
   "id": "9399be3f",
   "metadata": {},
   "outputs": [
    {
     "data": {
      "text/plain": [
       "{'S1': array([0.31234581, 0.44299361, 0.00903086]),\n",
       " 'S1_conf': array([0.0694774 , 0.05934529, 0.05299454]),\n",
       " 'ST': array([0.55434535, 0.4375372 , 0.24557732]),\n",
       " 'ST_conf': array([0.09325615, 0.03715347, 0.02601968]),\n",
       " 'S2': array([[        nan,  0.01027382,  0.23771139],\n",
       "        [        nan,         nan, -0.01460333],\n",
       "        [        nan,         nan,         nan]]),\n",
       " 'S2_conf': array([[       nan, 0.09681713, 0.11137362],\n",
       "        [       nan,        nan, 0.06180639],\n",
       "        [       nan,        nan,        nan]])}"
      ]
     },
     "execution_count": 100,
     "metadata": {},
     "output_type": "execute_result"
    }
   ],
   "source": [
    "Si"
   ]
  },
  {
   "cell_type": "code",
   "execution_count": null,
   "id": "ab44abe6",
   "metadata": {},
   "outputs": [],
   "source": []
  },
  {
   "cell_type": "markdown",
   "id": "8a5b75e5",
   "metadata": {},
   "source": [
    "## Sensitivity Analysis"
   ]
  },
  {
   "cell_type": "code",
   "execution_count": 11,
   "id": "6f74a176",
   "metadata": {},
   "outputs": [],
   "source": [
    "Am_array = np.arange(1, 1.5, 0.1)\n",
    "s_array = np.arange(15, 19, 1)"
   ]
  },
  {
   "cell_type": "code",
   "execution_count": 12,
   "id": "a9a319b6",
   "metadata": {
    "scrolled": false
   },
   "outputs": [
    {
     "name": "stdout",
     "output_type": "stream",
     "text": [
      "0\n"
     ]
    },
    {
     "name": "stderr",
     "output_type": "stream",
     "text": [
      "/Users/aaron/Documents/oxford_physics/Year_4/MPhys/drivers-of-peak-warming/peak_warming_calculator/peak_warming_calculator.py:200: RuntimeWarning: divide by zero encountered in power\n",
      "  A = Am / (1 + ((P - P0) / P_h) ** (-r / s))\n"
     ]
    },
    {
     "name": "stdout",
     "output_type": "stream",
     "text": [
      "1\n",
      "2\n",
      "3\n",
      "4\n"
     ]
    }
   ],
   "source": [
    "peak_T_list = []\n",
    "Am_list = []\n",
    "s_list = []\n",
    "for i in range(len(Am_array)):\n",
    "    print(i)\n",
    "    for j in range(len(s_array)):\n",
    "        peak_T_list.append(peak_warming_calculator(Am=Am_array[i], s=s_array[j]))\n",
    "        Am_list.append(Am_array[i])\n",
    "        s_list.append(s_array[j])"
   ]
  },
  {
   "cell_type": "code",
   "execution_count": 13,
   "id": "fe2835fa",
   "metadata": {},
   "outputs": [],
   "source": [
    "df = pd.DataFrame(list(zip(Am_list, s_list, peak_T_list)),\n",
    "               columns =['Am', 's', 'peak_T'])"
   ]
  },
  {
   "cell_type": "code",
   "execution_count": 14,
   "id": "5f04cbec",
   "metadata": {},
   "outputs": [
    {
     "data": {
      "text/html": [
       "<div>\n",
       "<style scoped>\n",
       "    .dataframe tbody tr th:only-of-type {\n",
       "        vertical-align: middle;\n",
       "    }\n",
       "\n",
       "    .dataframe tbody tr th {\n",
       "        vertical-align: top;\n",
       "    }\n",
       "\n",
       "    .dataframe thead th {\n",
       "        text-align: right;\n",
       "    }\n",
       "</style>\n",
       "<table border=\"1\" class=\"dataframe\">\n",
       "  <thead>\n",
       "    <tr style=\"text-align: right;\">\n",
       "      <th></th>\n",
       "      <th>Am</th>\n",
       "      <th>s</th>\n",
       "      <th>peak_T</th>\n",
       "    </tr>\n",
       "  </thead>\n",
       "  <tbody>\n",
       "    <tr>\n",
       "      <th>0</th>\n",
       "      <td>1.0</td>\n",
       "      <td>15</td>\n",
       "      <td>2.185813</td>\n",
       "    </tr>\n",
       "    <tr>\n",
       "      <th>1</th>\n",
       "      <td>1.0</td>\n",
       "      <td>16</td>\n",
       "      <td>2.204075</td>\n",
       "    </tr>\n",
       "    <tr>\n",
       "      <th>2</th>\n",
       "      <td>1.0</td>\n",
       "      <td>17</td>\n",
       "      <td>2.223022</td>\n",
       "    </tr>\n",
       "    <tr>\n",
       "      <th>3</th>\n",
       "      <td>1.0</td>\n",
       "      <td>18</td>\n",
       "      <td>2.242604</td>\n",
       "    </tr>\n",
       "    <tr>\n",
       "      <th>4</th>\n",
       "      <td>1.1</td>\n",
       "      <td>15</td>\n",
       "      <td>2.027282</td>\n",
       "    </tr>\n",
       "    <tr>\n",
       "      <th>5</th>\n",
       "      <td>1.1</td>\n",
       "      <td>16</td>\n",
       "      <td>2.033403</td>\n",
       "    </tr>\n",
       "    <tr>\n",
       "      <th>6</th>\n",
       "      <td>1.1</td>\n",
       "      <td>17</td>\n",
       "      <td>2.040170</td>\n",
       "    </tr>\n",
       "    <tr>\n",
       "      <th>7</th>\n",
       "      <td>1.1</td>\n",
       "      <td>18</td>\n",
       "      <td>2.047525</td>\n",
       "    </tr>\n",
       "    <tr>\n",
       "      <th>8</th>\n",
       "      <td>1.2</td>\n",
       "      <td>15</td>\n",
       "      <td>1.945404</td>\n",
       "    </tr>\n",
       "    <tr>\n",
       "      <th>9</th>\n",
       "      <td>1.2</td>\n",
       "      <td>16</td>\n",
       "      <td>1.945631</td>\n",
       "    </tr>\n",
       "    <tr>\n",
       "      <th>10</th>\n",
       "      <td>1.2</td>\n",
       "      <td>17</td>\n",
       "      <td>1.946449</td>\n",
       "    </tr>\n",
       "    <tr>\n",
       "      <th>11</th>\n",
       "      <td>1.2</td>\n",
       "      <td>18</td>\n",
       "      <td>1.947816</td>\n",
       "    </tr>\n",
       "    <tr>\n",
       "      <th>12</th>\n",
       "      <td>1.3</td>\n",
       "      <td>15</td>\n",
       "      <td>1.885623</td>\n",
       "    </tr>\n",
       "    <tr>\n",
       "      <th>13</th>\n",
       "      <td>1.3</td>\n",
       "      <td>16</td>\n",
       "      <td>1.881782</td>\n",
       "    </tr>\n",
       "    <tr>\n",
       "      <th>14</th>\n",
       "      <td>1.3</td>\n",
       "      <td>17</td>\n",
       "      <td>1.878533</td>\n",
       "    </tr>\n",
       "    <tr>\n",
       "      <th>15</th>\n",
       "      <td>1.3</td>\n",
       "      <td>18</td>\n",
       "      <td>1.875822</td>\n",
       "    </tr>\n",
       "    <tr>\n",
       "      <th>16</th>\n",
       "      <td>1.4</td>\n",
       "      <td>15</td>\n",
       "      <td>1.838063</td>\n",
       "    </tr>\n",
       "    <tr>\n",
       "      <th>17</th>\n",
       "      <td>1.4</td>\n",
       "      <td>16</td>\n",
       "      <td>1.831164</td>\n",
       "    </tr>\n",
       "    <tr>\n",
       "      <th>18</th>\n",
       "      <td>1.4</td>\n",
       "      <td>17</td>\n",
       "      <td>1.824840</td>\n",
       "    </tr>\n",
       "    <tr>\n",
       "      <th>19</th>\n",
       "      <td>1.4</td>\n",
       "      <td>18</td>\n",
       "      <td>1.819080</td>\n",
       "    </tr>\n",
       "  </tbody>\n",
       "</table>\n",
       "</div>"
      ],
      "text/plain": [
       "     Am   s    peak_T\n",
       "0   1.0  15  2.185813\n",
       "1   1.0  16  2.204075\n",
       "2   1.0  17  2.223022\n",
       "3   1.0  18  2.242604\n",
       "4   1.1  15  2.027282\n",
       "5   1.1  16  2.033403\n",
       "6   1.1  17  2.040170\n",
       "7   1.1  18  2.047525\n",
       "8   1.2  15  1.945404\n",
       "9   1.2  16  1.945631\n",
       "10  1.2  17  1.946449\n",
       "11  1.2  18  1.947816\n",
       "12  1.3  15  1.885623\n",
       "13  1.3  16  1.881782\n",
       "14  1.3  17  1.878533\n",
       "15  1.3  18  1.875822\n",
       "16  1.4  15  1.838063\n",
       "17  1.4  16  1.831164\n",
       "18  1.4  17  1.824840\n",
       "19  1.4  18  1.819080"
      ]
     },
     "execution_count": 14,
     "metadata": {},
     "output_type": "execute_result"
    }
   ],
   "source": [
    "df"
   ]
  },
  {
   "cell_type": "code",
   "execution_count": 15,
   "id": "6f8e9e6f",
   "metadata": {},
   "outputs": [
    {
     "data": {
      "text/plain": [
       "<matplotlib.collections.PathCollection at 0x7ff89f533a90>"
      ]
     },
     "execution_count": 15,
     "metadata": {},
     "output_type": "execute_result"
    },
    {
     "data": {
      "image/png": "[encoded data removed]",
      "text/plain": [
       "<Figure size 432x288 with 1 Axes>"
      ]
     },
     "metadata": {},
     "output_type": "display_data"
    }
   ],
   "source": [
    "plt.scatter(df.Am, df.s, s=200, c=df.peak_T, vmin=1.8, vmax=2.5)  # , cmap='gray'"
   ]
  },
  {
   "cell_type": "code",
   "execution_count": null,
   "id": "e5e0b9f3",
   "metadata": {},
   "outputs": [],
   "source": []
  },
  {
   "cell_type": "code",
   "execution_count": 16,
   "id": "827ea40d",
   "metadata": {},
   "outputs": [],
   "source": [
    "def varying_r_Ph_all_outputs(r, P_h):\n",
    "    Am_array = np.arange(1, 1.5, 0.1)\n",
    "    s_array = np.arange(15, 19, 1)\n",
    "    \n",
    "    peak_T_list = []\n",
    "    SCC_forecasted_list = [] \n",
    "    forecasted_abatement_list = []\n",
    "    forecasted_emissions_list = []\n",
    "    T_complete_list = []\n",
    "    \n",
    "    Am_list = []\n",
    "    s_list = []\n",
    "    for i in range(len(Am_array)):\n",
    "        for j in range(len(s_array)):\n",
    "            peak_T, SCC_forecasted, forecasted_abatement, forecasted_emissions, T_complete = peak_warming_calculator(Am=Am_array[i], s=s_array[j], r=r, P_h=P_h, return_all_output=True)\n",
    "            peak_T_list.append(peak_T)\n",
    "            SCC_forecasted_list.append(SCC_forecasted)\n",
    "            forecasted_abatement_list.append(forecasted_abatement)\n",
    "            forecasted_emissions_list.append(forecasted_emissions)\n",
    "            T_complete_list.append(T_complete)\n",
    "            \n",
    "            Am_list.append(Am_array[i])\n",
    "            s_list.append(s_array[j])\n",
    "    df = pd.DataFrame(list(zip(Am_list, s_list, peak_T_list, SCC_forecasted_list, forecasted_abatement_list, forecasted_emissions_list, T_complete_list)),\n",
    "               columns =['Am', 's', 'peak_T', 'SCC_forecasted', 'forecasted_abatement', 'forecasted_emissions', 'T_complete'])\n",
    "    return df"
   ]
  },
  {
   "cell_type": "code",
   "execution_count": null,
   "id": "78a883d0",
   "metadata": {},
   "outputs": [],
   "source": []
  },
  {
   "cell_type": "code",
   "execution_count": 17,
   "id": "ebc8935c",
   "metadata": {},
   "outputs": [
    {
     "name": "stderr",
     "output_type": "stream",
     "text": [
      "/Users/aaron/Documents/oxford_physics/Year_4/MPhys/drivers-of-peak-warming/peak_warming_calculator/peak_warming_calculator.py:185: RuntimeWarning: divide by zero encountered in power\n",
      "  A = Am / (1 + ((P - P0) / P_h) ** (-r / s))\n"
     ]
    }
   ],
   "source": [
    "df_test = varying_r_Ph_all_outputs(r=20, P_h=30)"
   ]
  },
  {
   "cell_type": "code",
   "execution_count": 18,
   "id": "6e5c2260",
   "metadata": {},
   "outputs": [
    {
     "data": {
      "text/plain": [
       "[<matplotlib.lines.Line2D at 0x7ff89f862bb0>]"
      ]
     },
     "execution_count": 18,
     "metadata": {},
     "output_type": "execute_result"
    },
    {
     "data": {
      "image/png": "[encoded data removed]",
      "text/plain": [
       "<Figure size 432x288 with 1 Axes>"
      ]
     },
     "metadata": {},
     "output_type": "display_data"
    }
   ],
   "source": [
    "plt.plot(years, df_test['T_complete'][0])"
   ]
  },
  {
   "cell_type": "code",
   "execution_count": 19,
   "id": "a1849884",
   "metadata": {},
   "outputs": [
    {
     "ename": "NameError",
     "evalue": "name 'time' is not defined",
     "output_type": "error",
     "traceback": [
      "\u001b[0;31m---------------------------------------------------------------------------\u001b[0m",
      "\u001b[0;31mNameError\u001b[0m                                 Traceback (most recent call last)",
      "\u001b[0;32m/var/folders/m4/mbpwp5q15070t8lqj4fj7mjr0000gn/T/ipykernel_79358/465778919.py\u001b[0m in \u001b[0;36m<module>\u001b[0;34m\u001b[0m\n\u001b[0;32m----> 1\u001b[0;31m \u001b[0mt\u001b[0m \u001b[0;34m=\u001b[0m \u001b[0mtime\u001b[0m\u001b[0;34m.\u001b[0m\u001b[0mlocaltime\u001b[0m\u001b[0;34m(\u001b[0m\u001b[0;34m)\u001b[0m\u001b[0;34m\u001b[0m\u001b[0;34m\u001b[0m\u001b[0m\n\u001b[0m\u001b[1;32m      2\u001b[0m \u001b[0mcurrent_time\u001b[0m \u001b[0;34m=\u001b[0m \u001b[0mtime\u001b[0m\u001b[0;34m.\u001b[0m\u001b[0mstrftime\u001b[0m\u001b[0;34m(\u001b[0m\u001b[0;34m\"%H:%M:%S\"\u001b[0m\u001b[0;34m,\u001b[0m \u001b[0mt\u001b[0m\u001b[0;34m)\u001b[0m\u001b[0;34m\u001b[0m\u001b[0;34m\u001b[0m\u001b[0m\n\u001b[1;32m      3\u001b[0m \u001b[0mprint\u001b[0m\u001b[0;34m(\u001b[0m\u001b[0mcurrent_time\u001b[0m\u001b[0;34m)\u001b[0m\u001b[0;34m\u001b[0m\u001b[0;34m\u001b[0m\u001b[0m\n\u001b[1;32m      4\u001b[0m \u001b[0;34m\u001b[0m\u001b[0m\n\u001b[1;32m      5\u001b[0m \u001b[0mdf_dict\u001b[0m \u001b[0;34m=\u001b[0m \u001b[0;34m{\u001b[0m\u001b[0;34m}\u001b[0m\u001b[0;34m\u001b[0m\u001b[0;34m\u001b[0m\u001b[0m\n",
      "\u001b[0;31mNameError\u001b[0m: name 'time' is not defined"
     ]
    }
   ],
   "source": [
    "t = time.localtime()\n",
    "current_time = time.strftime(\"%H:%M:%S\", t)\n",
    "print(current_time)\n",
    "\n",
    "df_dict = {}\n",
    "keys = []\n",
    "r_array = np.arange(20, 27, 3)\n",
    "P_h_array = np.arange(40, 120, 20)\n",
    "for i in range(len(r_array)):\n",
    "    keys_const_r = []\n",
    "    for j in range(len(P_h_array)):\n",
    "        text = str(r_array[i]) + ',' + str(P_h_array[j])\n",
    "        df_dict[text] = varying_r_Ph_all_outputs(r=r_array[i], P_h=P_h_array[j])\n",
    "        keys_const_r.append(text)\n",
    "    keys.append(keys_const_r)\n",
    "    \n",
    "    t = time.localtime()\n",
    "    current_time = time.strftime(\"%H:%M:%S\", t)\n",
    "    print(current_time)"
   ]
  },
  {
   "cell_type": "code",
   "execution_count": null,
   "id": "133c9f06",
   "metadata": {},
   "outputs": [],
   "source": [
    "r_length = len(r_array)\n",
    "\n",
    "P_h_length = len(P_h_array)\n",
    "\n",
    "fig, axs = plt.subplots(P_h_length, r_length)\n",
    "cm = plt.cm.get_cmap('RdYlBu')\n",
    "for i in range(r_length):\n",
    "    print(i)\n",
    "    key = keys[i]\n",
    "    for j in range(P_h_length):\n",
    "        ax = axs[j, i].scatter(df_dict[key[j]].Am, df_dict[key[j]].s, s=200, c=df_dict[key[j]].peak_T, vmin=1.5, vmax=3)\n",
    "\n",
    "fig.tight_layout()\n",
    "fig.subplots_adjust(right=0.8)\n",
    "cbar_ax = fig.add_axes([0.85, 0.15, 0.05, 0.7])\n",
    "fig.colorbar(ax, cax=cbar_ax)\n",
    "for ax in axs.flat:\n",
    "    ax.set(xlabel='A$_{m}$', ylabel='s')\n",
    "for ax in axs.flat:\n",
    "    ax.label_outer()\n"
   ]
  },
  {
   "cell_type": "code",
   "execution_count": null,
   "id": "2c0bd40a",
   "metadata": {},
   "outputs": [],
   "source": [
    "r_array"
   ]
  },
  {
   "cell_type": "code",
   "execution_count": null,
   "id": "80752d3b",
   "metadata": {},
   "outputs": [],
   "source": [
    "# df_dict['20,40']"
   ]
  },
  {
   "cell_type": "code",
   "execution_count": null,
   "id": "be6ed11c",
   "metadata": {
    "scrolled": true
   },
   "outputs": [],
   "source": [
    "for i in range(len(df_dict['20,40'])):\n",
    "    label = \"Am: \" + str(round(df_dict['20,40']['Am'][i], 2)) + \", s: \" + str(df_dict['20,40']['s'][i])\n",
    "    plt.plot(years, df_dict['20,40']['T_complete'][i], label=label)\n",
    "\n",
    "plt.xlabel('year')\n",
    "plt.ylabel('T')\n",
    "plt.legend(loc=2)"
   ]
  },
  {
   "cell_type": "code",
   "execution_count": null,
   "id": "d4714fbe",
   "metadata": {},
   "outputs": [],
   "source": [
    "fig, axs = plt.subplots(P_h_length, r_length)\n",
    "\n",
    "for i in range(r_length):\n",
    "    key = keys[i]\n",
    "    for j in range(P_h_length):\n",
    "        for k in range(len(df_dict['20,40'])):\n",
    "            ax = axs[j, i].plot(years, df_dict[key[j]]['T_complete'][k])\n",
    "#             ax.set_xlim([2000, 2200])\n",
    "#         ax = axs[j, i].scatter(df_dict[key[j]].Am, df_dict[key[j]].s, s=200, c=df_dict[key[j]].peak_T, vmin=1.5, vmax=3)\n",
    "\n",
    "fig.tight_layout()\n",
    "fig.subplots_adjust(right=0.8)\n",
    "# cbar_ax = fig.add_axes([0.85, 0.15, 0.05, 0.7])\n",
    "# fig.colorbar(ax, cax=cbar_ax)\n",
    "for ax in axs.flat:\n",
    "    ax.set(xlabel='year', ylabel='T')\n",
    "    ax.set_ylim([0, 3])\n",
    "for ax in axs.flat:\n",
    "    ax.label_outer()\n",
    "\n"
   ]
  },
  {
   "cell_type": "code",
   "execution_count": null,
   "id": "c9ac79e7",
   "metadata": {},
   "outputs": [],
   "source": [
    "keys"
   ]
  },
  {
   "cell_type": "code",
   "execution_count": null,
   "id": "159a69c6",
   "metadata": {},
   "outputs": [],
   "source": [
    "for i in range(len(df_dict['20,40'])):\n",
    "    label = \"Am: \" + str(round(df_dict['20,40']['Am'][i], 2)) + \", s: \" + str(df_dict['20,40']['s'][i])\n",
    "    plt.plot(years_forecasted, df_dict['20,40']['SCC_forecasted'][i], label=label)\n",
    "\n",
    "plt.xlim(2000, 2100)\n",
    "plt.ylim(0, 100)\n",
    "plt.xlabel('year')\n",
    "plt.ylabel('SCC')\n",
    "plt.legend(loc=1)"
   ]
  },
  {
   "cell_type": "code",
   "execution_count": null,
   "id": "0f4e8d06",
   "metadata": {},
   "outputs": [],
   "source": [
    "fig, axs = plt.subplots(P_h_length, r_length)\n",
    "\n",
    "for i in range(r_length):\n",
    "    key = keys[i]\n",
    "    for j in range(P_h_length):\n",
    "        for k in range(len(df_dict['20,40'])):\n",
    "            ax = axs[j, i].plot(years_forecasted, df_dict[key[j]]['SCC_forecasted'][k])\n",
    "#             ax.set_xlim([2000, 2200])\n",
    "#         ax = axs[j, i].scatter(df_dict[key[j]].Am, df_dict[key[j]].s, s=200, c=df_dict[key[j]].peak_T, vmin=1.5, vmax=3)\n",
    "\n",
    "fig.tight_layout()\n",
    "fig.subplots_adjust(right=0.8)\n",
    "# cbar_ax = fig.add_axes([0.85, 0.15, 0.05, 0.7])\n",
    "# fig.colorbar(ax, cax=cbar_ax)\n",
    "for ax in axs.flat:\n",
    "    ax.set(xlabel='year', ylabel='SCC')\n",
    "    ax.set_xlim([2000, 2100])\n",
    "    ax.set_ylim([0, 100])\n",
    "for ax in axs.flat:\n",
    "    ax.label_outer()\n"
   ]
  },
  {
   "cell_type": "code",
   "execution_count": null,
   "id": "78dc7d41",
   "metadata": {},
   "outputs": [],
   "source": []
  },
  {
   "cell_type": "code",
   "execution_count": null,
   "id": "a67e75e4",
   "metadata": {},
   "outputs": [],
   "source": []
  },
  {
   "cell_type": "code",
   "execution_count": null,
   "id": "8585ada7",
   "metadata": {},
   "outputs": [],
   "source": []
  },
  {
   "cell_type": "code",
   "execution_count": null,
   "id": "f68bb71c",
   "metadata": {},
   "outputs": [],
   "source": []
  },
  {
   "cell_type": "code",
   "execution_count": null,
   "id": "fd3576b6",
   "metadata": {},
   "outputs": [],
   "source": []
  },
  {
   "cell_type": "code",
   "execution_count": null,
   "id": "0b2fe391",
   "metadata": {},
   "outputs": [],
   "source": []
  },
  {
   "cell_type": "code",
   "execution_count": null,
   "id": "9a6d9a97",
   "metadata": {},
   "outputs": [],
   "source": []
  },
  {
   "cell_type": "code",
   "execution_count": null,
   "id": "8a6bfa91",
   "metadata": {},
   "outputs": [],
   "source": [
    "def varying_D0_gamma_all_outputs(r, P_h):\n",
    "    Am_array = np.arange(2, 1.5, 0.1)\n",
    "    s_array = np.arange(15, 19, 1)\n",
    "    \n",
    "    peak_T_list = []\n",
    "    SCC_forecasted_list = [] \n",
    "    forecasted_abatement_list = []\n",
    "    forecasted_emissions_list = []\n",
    "    T_complete_list = []\n",
    "    \n",
    "    Am_list = []\n",
    "    s_list = []\n",
    "    for i in range(len(Am_array)):\n",
    "        for j in range(len(s_array)):\n",
    "            peak_T, SCC_forecasted, forecasted_abatement, forecasted_emissions, T_complete = peak_warming_calculator(Am=Am_array[i], s=s_array[j], r=r, P_h=P_h, return_all_output=True)\n",
    "            peak_T_list.append(peak_T)\n",
    "            SCC_forecasted_list.append(SCC_forecasted)\n",
    "            forecasted_abatement_list.append(forecasted_abatement)\n",
    "            forecasted_emissions_list.append(forecasted_emissions)\n",
    "            T_complete_list.append(T_complete)\n",
    "            \n",
    "            Am_list.append(Am_array[i])\n",
    "            s_list.append(s_array[j])\n",
    "    df = pd.DataFrame(list(zip(Am_list, s_list, peak_T_list, SCC_forecasted_list, forecasted_abatement_list, forecasted_emissions_list, T_complete_list)),\n",
    "               columns =['Am', 's', 'peak_T', 'SCC_forecasted', 'forecasted_abatement', 'forecasted_emissions', 'T_complete'])\n",
    "    return df"
   ]
  },
  {
   "cell_type": "code",
   "execution_count": null,
   "id": "0b081d00",
   "metadata": {},
   "outputs": [],
   "source": [
    "D0_array = np.arange(2.5, 3, 0.1)*10**(-3)\n",
    "gamma_array = np.arange(2, 2.3, 0.05)"
   ]
  },
  {
   "cell_type": "code",
   "execution_count": null,
   "id": "98321ceb",
   "metadata": {},
   "outputs": [],
   "source": [
    "gamma_array"
   ]
  },
  {
   "cell_type": "code",
   "execution_count": null,
   "id": "bf42867b",
   "metadata": {},
   "outputs": [],
   "source": [
    "peak_T_list = []\n",
    "SCC_forecasted_list = [] \n",
    "forecasted_abatement_list = []\n",
    "forecasted_emissions_list = []\n",
    "T_complete_list = []\n",
    "\n",
    "gamma_list = []\n",
    "D0_list = []\n",
    "\n",
    "\n",
    "for i in range(len(gamma_array)):\n",
    "        for j in range(len(D0_array)):\n",
    "            peak_T, SCC_forecasted, forecasted_abatement, forecasted_emissions, T_complete = peak_warming_calculator(gamma=gamma_array[i], D0=D0_array[j], return_all_output=True)\n",
    "            peak_T_list.append(peak_T)\n",
    "            SCC_forecasted_list.append(SCC_forecasted)\n",
    "            forecasted_abatement_list.append(forecasted_abatement)\n",
    "            forecasted_emissions_list.append(forecasted_emissions)\n",
    "            T_complete_list.append(T_complete)\n",
    "            \n",
    "            gamma_list.append(gamma_array[i])\n",
    "            D0_list.append(D0_array[j])\n",
    "\n",
    "df = pd.DataFrame(list(zip(gamma_list, D0_list, peak_T_list, SCC_forecasted_list, forecasted_abatement_list, forecasted_emissions_list, T_complete_list)),\n",
    "                  columns =['gamma', 'D0', 'peak_T', 'SCC_forecasted', 'forecasted_abatement', 'forecasted_emissions', 'T_complete'])"
   ]
  },
  {
   "cell_type": "code",
   "execution_count": null,
   "id": "0bee410f",
   "metadata": {},
   "outputs": [],
   "source": [
    "df"
   ]
  },
  {
   "cell_type": "code",
   "execution_count": null,
   "id": "d14c4fb4",
   "metadata": {},
   "outputs": [],
   "source": [
    "fig, axs = plt.subplots(1, 1)\n",
    "ax = axs.scatter(df.gamma, df.D0, s=200, c=df.peak_T, vmin=1.8, vmax=2.2)\n",
    "fig.tight_layout()\n",
    "fig.subplots_adjust(right=0.8)\n",
    "cbar_ax = fig.add_axes([0.85, 0.15, 0.05, 0.7])\n",
    "fig.colorbar(ax, cax=cbar_ax)\n",
    "fig.colorbar(ax, cax=cbar_ax)\n",
    "axs.set_xlabel('$\\gamma$')\n",
    "axs.set_ylabel('D0')\n",
    "# for ax in axs.flat:\n",
    "#     ax.label_outer()"
   ]
  },
  {
   "cell_type": "code",
   "execution_count": null,
   "id": "6df76e29",
   "metadata": {},
   "outputs": [],
   "source": []
  },
  {
   "cell_type": "code",
   "execution_count": null,
   "id": "1948feef",
   "metadata": {
    "scrolled": true
   },
   "outputs": [],
   "source": [
    "for i in range(len(df)):\n",
    "    plt.plot(years, df['T_complete'][i])"
   ]
  },
  {
   "cell_type": "code",
   "execution_count": null,
   "id": "229e7228",
   "metadata": {},
   "outputs": [],
   "source": [
    "for i in range(len(df)):\n",
    "    if df['D0'][i] == 0.0025:\n",
    "        plt.plot(years, df['T_complete'][i], label=df['gamma'][i])\n",
    "        \n",
    "plt.legend()"
   ]
  },
  {
   "cell_type": "code",
   "execution_count": null,
   "id": "19891ae0",
   "metadata": {},
   "outputs": [],
   "source": [
    "for i in range(len(df)):\n",
    "    if df['gamma'][i] == 2:\n",
    "        plt.plot(years, df['T_complete'][i], label=df['D0'][i])\n",
    "\n",
    "plt.legend()"
   ]
  },
  {
   "cell_type": "code",
   "execution_count": null,
   "id": "97aa8ee3",
   "metadata": {},
   "outputs": [],
   "source": [
    "df"
   ]
  },
  {
   "cell_type": "code",
   "execution_count": null,
   "id": "29df9077",
   "metadata": {},
   "outputs": [],
   "source": []
  },
  {
   "cell_type": "code",
   "execution_count": null,
   "id": "577d6280",
   "metadata": {},
   "outputs": [],
   "source": []
  },
  {
   "cell_type": "code",
   "execution_count": null,
   "id": "a761b5f3",
   "metadata": {},
   "outputs": [],
   "source": []
  },
  {
   "cell_type": "code",
   "execution_count": null,
   "id": "fc0ede92",
   "metadata": {},
   "outputs": [],
   "source": []
  },
  {
   "cell_type": "code",
   "execution_count": null,
   "id": "ffb32ca0",
   "metadata": {},
   "outputs": [],
   "source": []
  },
  {
   "cell_type": "code",
   "execution_count": null,
   "id": "9a13506e",
   "metadata": {},
   "outputs": [],
   "source": []
  },
  {
   "cell_type": "code",
   "execution_count": null,
   "id": "0da48160",
   "metadata": {},
   "outputs": [],
   "source": []
  },
  {
   "cell_type": "code",
   "execution_count": null,
   "id": "86c3f8d7",
   "metadata": {},
   "outputs": [],
   "source": []
  },
  {
   "cell_type": "code",
   "execution_count": null,
   "id": "7fd17c66",
   "metadata": {
    "scrolled": false
   },
   "outputs": [],
   "source": [
    "def varying_r_Ph(r, P_h):\n",
    "    peak_T_list = []\n",
    "    Am_list = []\n",
    "    s_list = []\n",
    "    for i in range(len(Am_array)):\n",
    "        for j in range(len(s_array)):\n",
    "            peak_T_list.append(peak_warming_calculator(Am=Am_array[i], s=s_array[j], r=r, P_h=P_h))\n",
    "            Am_list.append(Am_array[i])\n",
    "            s_list.append(s_array[j])\n",
    "    df = pd.DataFrame(list(zip(Am_list, s_list, peak_T_list)),\n",
    "               columns =['Am', 's', 'peak_T'])\n",
    "    return df"
   ]
  },
  {
   "cell_type": "code",
   "execution_count": null,
   "id": "c36420cf",
   "metadata": {},
   "outputs": [],
   "source": [
    "import time"
   ]
  },
  {
   "cell_type": "code",
   "execution_count": null,
   "id": "68b94398",
   "metadata": {},
   "outputs": [],
   "source": [
    "t = time.localtime()\n",
    "current_time = time.strftime(\"%H:%M:%S\", t)\n",
    "print(current_time)\n",
    "\n",
    "df_dict = {}\n",
    "keys = []\n",
    "r_array = np.arange(20, 27, 3)\n",
    "P_h_array = np.arange(30, 100, 30)\n",
    "for i in range(len(r_array)):\n",
    "    keys_const_r = []\n",
    "    for j in range(len(P_h_array)):\n",
    "        text = str(r_array[i]) + ',' + str(P_h_array[j])\n",
    "        df_dict[text] = varying_r_Ph(r=r_array[i], P_h=P_h_array[j])\n",
    "        keys_const_r.append(text)\n",
    "    keys.append(keys_const_r)\n",
    "    \n",
    "    t = time.localtime()\n",
    "    current_time = time.strftime(\"%H:%M:%S\", t)\n",
    "    print(current_time)"
   ]
  },
  {
   "cell_type": "code",
   "execution_count": null,
   "id": "49fc78d7",
   "metadata": {},
   "outputs": [],
   "source": [
    "r_length = len(r_array)"
   ]
  },
  {
   "cell_type": "code",
   "execution_count": null,
   "id": "001ea244",
   "metadata": {},
   "outputs": [],
   "source": [
    "P_h_length = len(P_h_array)"
   ]
  },
  {
   "cell_type": "code",
   "execution_count": null,
   "id": "f11841c8",
   "metadata": {},
   "outputs": [],
   "source": [
    "fig, axs = plt.subplots(P_h_length, r_length)\n",
    "cm = plt.cm.get_cmap('RdYlBu')\n",
    "for i in range(r_length):\n",
    "    print(i)\n",
    "    key = keys[i]\n",
    "    for j in range(P_h_length):\n",
    "        ax = axs[j, i].scatter(df_dict[key[j]].Am, df_dict[key[j]].s, s=200, c=df_dict[key[j]].peak_T, vmin=1.5, vmax=3)\n",
    "\n",
    "fig.tight_layout()\n",
    "fig.subplots_adjust(right=0.8)\n",
    "cbar_ax = fig.add_axes([0.85, 0.15, 0.05, 0.7])\n",
    "fig.colorbar(ax, cax=cbar_ax)\n",
    "for ax in axs.flat:\n",
    "    ax.set(xlabel='A$_{m}$', ylabel='s')\n",
    "for ax in axs.flat:\n",
    "    ax.label_outer()\n"
   ]
  },
  {
   "cell_type": "markdown",
   "id": "3fdc80c6",
   "metadata": {},
   "source": [
    "5 min 20 s for 180 runs"
   ]
  },
  {
   "cell_type": "code",
   "execution_count": null,
   "id": "c12b7a08",
   "metadata": {},
   "outputs": [],
   "source": [
    "P_h_array"
   ]
  },
  {
   "cell_type": "code",
   "execution_count": null,
   "id": "90c0f0c9",
   "metadata": {},
   "outputs": [],
   "source": [
    "df_dict['20,30']"
   ]
  },
  {
   "cell_type": "code",
   "execution_count": null,
   "id": "636d8e53",
   "metadata": {},
   "outputs": [],
   "source": []
  },
  {
   "cell_type": "markdown",
   "id": "48a57156",
   "metadata": {},
   "source": [
    "gamma"
   ]
  },
  {
   "cell_type": "code",
   "execution_count": null,
   "id": "9cb520e4",
   "metadata": {},
   "outputs": [],
   "source": []
  },
  {
   "cell_type": "code",
   "execution_count": null,
   "id": "fc6191d7",
   "metadata": {},
   "outputs": [],
   "source": []
  },
  {
   "cell_type": "code",
   "execution_count": null,
   "id": "0ed173e1",
   "metadata": {},
   "outputs": [],
   "source": []
  },
  {
   "cell_type": "code",
   "execution_count": null,
   "id": "202312ea",
   "metadata": {},
   "outputs": [],
   "source": []
  }
 ],
 "metadata": {
  "kernelspec": {
   "display_name": "Python 3 (ipykernel)",
   "language": "python",
   "name": "python3"
  },
  "language_info": {
   "codemirror_mode": {
    "name": "ipython",
    "version": 3
   },
   "file_extension": ".py",
   "mimetype": "text/x-python",
   "name": "python",
   "nbconvert_exporter": "python",
   "pygments_lexer": "ipython3",
   "version": "3.9.7"
  }
 },
 "nbformat": 4,
 "nbformat_minor": 5
}
