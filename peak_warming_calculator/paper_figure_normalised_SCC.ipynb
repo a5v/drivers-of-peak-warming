{
 "cells": [
  {
   "cell_type": "code",
   "execution_count": 1,
   "id": "c4f09662",
   "metadata": {},
   "outputs": [],
   "source": [
    "import matplotlib.pyplot as plt"
   ]
  },
  {
   "cell_type": "code",
   "execution_count": 2,
   "id": "79fbd116",
   "metadata": {},
   "outputs": [],
   "source": [
    "from peak_warming_calculator import peak_warming_calculator"
   ]
  },
  {
   "cell_type": "code",
   "execution_count": 3,
   "id": "b7e21726",
   "metadata": {},
   "outputs": [],
   "source": [
    "from peak_warming_calculator_Pretis_const_r import peak_warming_calculator_Pretis"
   ]
  },
  {
   "cell_type": "markdown",
   "id": "b7dc0238",
   "metadata": {},
   "source": [
    "## Checking Function is Working"
   ]
  },
  {
   "cell_type": "markdown",
   "id": "23631c02",
   "metadata": {},
   "source": [
    "return_all_output=False"
   ]
  },
  {
   "cell_type": "code",
   "execution_count": 4,
   "id": "04cb2521",
   "metadata": {},
   "outputs": [],
   "source": [
    "# peak_warming_calculator(P_100=500)"
   ]
  },
  {
   "cell_type": "code",
   "execution_count": 5,
   "id": "806abf34",
   "metadata": {},
   "outputs": [],
   "source": [
    "# default setting\n",
    "# peak_warming_calculator(consumption_growth=0.03, consumption_discount=0.045)  # P_100=400, s=0.06"
   ]
  },
  {
   "cell_type": "code",
   "execution_count": 6,
   "id": "549bcd16",
   "metadata": {},
   "outputs": [],
   "source": [
    "beta=0.001"
   ]
  },
  {
   "cell_type": "code",
   "execution_count": 7,
   "id": "5cf4eec0",
   "metadata": {},
   "outputs": [
    {
     "name": "stderr",
     "output_type": "stream",
     "text": [
      "/Users/aaron/Documents/oxford_physics/Year_4/MPhys/drivers-of-peak-warming/peak_warming_calculator/peak_warming_calculator.py:126: RuntimeWarning: divide by zero encountered in power\n",
      "  A = Am / (1 + ((P - P0) / (P_h - P0)) ** (-s / r))\n"
     ]
    }
   ],
   "source": [
    "peak_T, output_df = peak_warming_calculator(return_all_output=True)"
   ]
  },
  {
   "cell_type": "code",
   "execution_count": 8,
   "id": "1324ea69",
   "metadata": {},
   "outputs": [
    {
     "name": "stderr",
     "output_type": "stream",
     "text": [
      "/Users/aaron/Documents/oxford_physics/Year_4/MPhys/drivers-of-peak-warming/peak_warming_calculator/peak_warming_calculator_Pretis_const_r.py:158: RuntimeWarning: divide by zero encountered in power\n",
      "  A = Am / (1 + ((P - P0) / (P_h - P0)) ** (-s / r))\n"
     ]
    }
   ],
   "source": [
    "peak_T_Pretis, output_df_Pretis = peak_warming_calculator_Pretis(return_all_output=True, beta=beta)"
   ]
  },
  {
   "cell_type": "code",
   "execution_count": 9,
   "id": "8c250eef",
   "metadata": {
    "scrolled": false
   },
   "outputs": [
    {
     "data": {
      "text/plain": [
       "years\n",
       "2020    370.452551\n",
       "2021    378.187076\n",
       "2022    386.035322\n",
       "2023    394.000235\n",
       "2024    402.085121\n",
       "           ...    \n",
       "2996    649.691321\n",
       "2997    649.691321\n",
       "2998    649.691321\n",
       "2999    649.691321\n",
       "3000    649.691321\n",
       "Name: SCC actual, Length: 981, dtype: float64"
      ]
     },
     "execution_count": 9,
     "metadata": {},
     "output_type": "execute_result"
    }
   ],
   "source": [
    "output_df_Pretis['SCC actual']"
   ]
  },
  {
   "cell_type": "code",
   "execution_count": 10,
   "id": "31f7a711",
   "metadata": {},
   "outputs": [
    {
     "data": {
      "text/plain": [
       "20.761229673595825"
      ]
     },
     "execution_count": 10,
     "metadata": {},
     "output_type": "execute_result"
    }
   ],
   "source": [
    "output_df['SCC'].loc[2020]"
   ]
  },
  {
   "cell_type": "code",
   "execution_count": 11,
   "id": "ce21dd4e",
   "metadata": {},
   "outputs": [
    {
     "data": {
      "text/plain": [
       "14.45001113693861"
      ]
     },
     "execution_count": 11,
     "metadata": {},
     "output_type": "execute_result"
    }
   ],
   "source": [
    "output_df['SCC'].loc[2200]/output_df['SCC'].loc[2020]"
   ]
  },
  {
   "cell_type": "code",
   "execution_count": 12,
   "id": "789a28fc",
   "metadata": {},
   "outputs": [
    {
     "data": {
      "text/plain": [
       "370.45255092827523"
      ]
     },
     "execution_count": 12,
     "metadata": {},
     "output_type": "execute_result"
    }
   ],
   "source": [
    "output_df_Pretis['SCC actual'].loc[2020]"
   ]
  },
  {
   "cell_type": "code",
   "execution_count": 13,
   "id": "073e2427",
   "metadata": {},
   "outputs": [
    {
     "data": {
      "text/plain": [
       "1.7537774260878791"
      ]
     },
     "execution_count": 13,
     "metadata": {},
     "output_type": "execute_result"
    }
   ],
   "source": [
    "output_df_Pretis['SCC actual'].loc[2200]/output_df_Pretis['SCC actual'].loc[2020]"
   ]
  },
  {
   "cell_type": "code",
   "execution_count": 14,
   "id": "3f7a37cd",
   "metadata": {},
   "outputs": [
    {
     "data": {
      "text/plain": [
       "<matplotlib.legend.Legend at 0x124b9eb50>"
      ]
     },
     "execution_count": 14,
     "metadata": {},
     "output_type": "execute_result"
    },
    {
     "data": {
      "image/png": "[encoded data removed]",
      "text/plain": [
       "<Figure size 432x288 with 1 Axes>"
      ]
     },
     "metadata": {
      "needs_background": "light"
     },
     "output_type": "display_data"
    }
   ],
   "source": [
    "plt.plot(output_df['SCC'].loc[2020:2100]/output_df['SCC'].loc[2020], label=\"Nordhaus\")\n",
    "plt.plot(output_df_Pretis['SCC actual'].loc[2020:2100]/output_df_Pretis['SCC actual'].loc[2020], label=\"Pretis\")\n",
    "plt.xlabel(\"Years\")\n",
    "plt.ylabel(\"SCC normalised by SCC 2020\")\n",
    "plt.legend(title=\"Damage Function\")\n",
    "# plt.xlim(2020, 2100)\n",
    "# plt.ylim(0,5)"
   ]
  },
  {
   "cell_type": "code",
   "execution_count": 15,
   "id": "7d3c70b8",
   "metadata": {},
   "outputs": [
    {
     "data": {
      "text/plain": [
       "1.437383068424953"
      ]
     },
     "execution_count": 15,
     "metadata": {},
     "output_type": "execute_result"
    }
   ],
   "source": [
    "peak_T_Pretis"
   ]
  },
  {
   "cell_type": "markdown",
   "id": "28a9712d",
   "metadata": {},
   "source": [
    "const_r: 402.790784\n",
    "varying r: 398.679838"
   ]
  },
  {
   "cell_type": "markdown",
   "id": "35828fb8",
   "metadata": {},
   "source": [
    "const_r: 1.4222542447572035, varying_r: 1.3828021528355723"
   ]
  },
  {
   "cell_type": "code",
   "execution_count": null,
   "id": "a369cbeb",
   "metadata": {},
   "outputs": [],
   "source": []
  }
 ],
 "metadata": {
  "kernelspec": {
   "display_name": "Python 3 (ipykernel)",
   "language": "python",
   "name": "python3"
  },
  "language_info": {
   "codemirror_mode": {
    "name": "ipython",
    "version": 3
   },
   "file_extension": ".py",
   "mimetype": "text/x-python",
   "name": "python",
   "nbconvert_exporter": "python",
   "pygments_lexer": "ipython3",
   "version": "3.9.7"
  }
 },
 "nbformat": 4,
 "nbformat_minor": 5
}
