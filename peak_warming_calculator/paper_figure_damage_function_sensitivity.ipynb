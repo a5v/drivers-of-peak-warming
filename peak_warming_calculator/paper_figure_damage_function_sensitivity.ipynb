{
 "cells": [
  {
   "cell_type": "code",
   "execution_count": 1,
   "id": "79fbd116",
   "metadata": {
    "scrolled": true
   },
   "outputs": [],
   "source": [
    "from peak_warming_calculator import peak_warming_calculator\n",
    "import matplotlib.pyplot as plt\n",
    "import numpy as np"
   ]
  },
  {
   "cell_type": "code",
   "execution_count": 2,
   "id": "e60331f0",
   "metadata": {},
   "outputs": [],
   "source": [
    "import seaborn as sns\n",
    "sns.set()\n",
    "sns.set_style(\"whitegrid\")\n",
    "plt.rc('font', family='serif')"
   ]
  },
  {
   "cell_type": "code",
   "execution_count": 3,
   "id": "019be719",
   "metadata": {},
   "outputs": [],
   "source": [
    "import time"
   ]
  },
  {
   "cell_type": "code",
   "execution_count": 4,
   "id": "07fb0072",
   "metadata": {},
   "outputs": [],
   "source": [
    "import pandas as pd"
   ]
  },
  {
   "cell_type": "markdown",
   "id": "026e922f",
   "metadata": {},
   "source": [
    "# Sensitivity Analysis"
   ]
  },
  {
   "cell_type": "code",
   "execution_count": 5,
   "id": "d29eed9b",
   "metadata": {},
   "outputs": [],
   "source": [
    "r_minus_g = 0.015\n",
    "consumption_growth = 0.02\n",
    "consumption_discount = consumption_growth + r_minus_g"
   ]
  },
  {
   "cell_type": "code",
   "execution_count": 6,
   "id": "e2c561f9",
   "metadata": {},
   "outputs": [],
   "source": [
    "num_of_sample = 6\n",
    "# gamma_sample = np.linspace(2, 2*2, num_of_sample)\n",
    "D0_sample = np.linspace(0.00236, 0.00236*2, num_of_sample)\n",
    "D2_sample = np.linspace(0.01, 0.01*2, num_of_sample)"
   ]
  },
  {
   "cell_type": "code",
   "execution_count": 7,
   "id": "af73379f",
   "metadata": {},
   "outputs": [],
   "source": [
    "T = 2\n",
    "# gamma_sample = (1/np.log(2))*np.log(D2_sample/D0_sample)"
   ]
  },
  {
   "cell_type": "code",
   "execution_count": 8,
   "id": "75ffa0e7",
   "metadata": {},
   "outputs": [],
   "source": [
    "# D2_sample"
   ]
  },
  {
   "cell_type": "code",
   "execution_count": 9,
   "id": "ae489c9b",
   "metadata": {
    "scrolled": true
   },
   "outputs": [],
   "source": [
    "# gamma_sample"
   ]
  },
  {
   "cell_type": "code",
   "execution_count": 10,
   "id": "5a125a59",
   "metadata": {},
   "outputs": [],
   "source": [
    "P_100 = 300\n",
    "P_50 = 0.4 * P_100\n",
    "r = consumption_discount\n",
    "s = 3 * r\n",
    "T_TCRE_1 = 0.00045"
   ]
  },
  {
   "cell_type": "code",
   "execution_count": 11,
   "id": "1146ad30",
   "metadata": {},
   "outputs": [
    {
     "name": "stdout",
     "output_type": "stream",
     "text": [
      "0\n"
     ]
    },
    {
     "name": "stderr",
     "output_type": "stream",
     "text": [
      "/Users/aaron/Documents/oxford_physics/Year_4/MPhys/drivers-of-peak-warming/peak_warming_calc/peak_warming_calculator.py:141: RuntimeWarning: divide by zero encountered in power\n",
      "  A = Am / (1 + ((P - P0) / (P_h - P0)) ** (-s / r))\n"
     ]
    },
    {
     "name": "stdout",
     "output_type": "stream",
     "text": [
      "1\n",
      "2\n",
      "3\n",
      "4\n",
      "5\n"
     ]
    }
   ],
   "source": [
    "peak_T_list = []\n",
    "output_data_list = []\n",
    "\n",
    "for i in range(num_of_sample):\n",
    "#     gamma = gamma_sample[i]\n",
    "    D2 = D2_sample[i]\n",
    "    print(i)\n",
    "    \n",
    "    peak_T_const_gamma = []\n",
    "    output_data_const_gamma = []\n",
    "    for j in range(num_of_sample):\n",
    "        D0 = D0_sample[j]\n",
    "        gamma = (1/np.log(2))*np.log(D2/D0)\n",
    "        peak_T, output_data = peak_warming_calculator(P_50=P_50, P_100=P_100, gamma=gamma, D0=D0, consumption_growth=consumption_growth, consumption_discount=consumption_discount, s=s, r=r, T_TCRE_1=T_TCRE_1, delta_T=1.5, return_all_output=True)\n",
    "#         print(D0, gamma, peak_T)\n",
    "#         print(peak_T)\n",
    "        peak_T_const_gamma.append(peak_T)\n",
    "        output_data_const_gamma.append(output_data)\n",
    "#         peak_T_list.append(peak_T)\n",
    "    \n",
    "    peak_T_list.append(peak_T_const_gamma)\n",
    "    output_data_list.append(output_data_const_gamma)\n",
    "\n"
   ]
  },
  {
   "cell_type": "code",
   "execution_count": 12,
   "id": "e055560f",
   "metadata": {},
   "outputs": [],
   "source": [
    "peak_T_array = np.asarray(peak_T_list)"
   ]
  },
  {
   "cell_type": "code",
   "execution_count": 13,
   "id": "7105578a",
   "metadata": {},
   "outputs": [],
   "source": [
    "D0_sample_i, D2_sample_i = np.meshgrid(D0_sample, D2_sample)"
   ]
  },
  {
   "cell_type": "code",
   "execution_count": 14,
   "id": "ee2dcf2b",
   "metadata": {},
   "outputs": [
    {
     "data": {
      "text/plain": [
       "array([[0.01 , 0.01 , 0.01 , 0.01 , 0.01 , 0.01 ],\n",
       "       [0.012, 0.012, 0.012, 0.012, 0.012, 0.012],\n",
       "       [0.014, 0.014, 0.014, 0.014, 0.014, 0.014],\n",
       "       [0.016, 0.016, 0.016, 0.016, 0.016, 0.016],\n",
       "       [0.018, 0.018, 0.018, 0.018, 0.018, 0.018],\n",
       "       [0.02 , 0.02 , 0.02 , 0.02 , 0.02 , 0.02 ]])"
      ]
     },
     "execution_count": 14,
     "metadata": {},
     "output_type": "execute_result"
    }
   ],
   "source": [
    "D2_sample_i"
   ]
  },
  {
   "cell_type": "code",
   "execution_count": 15,
   "id": "e88afe90",
   "metadata": {},
   "outputs": [
    {
     "data": {
      "text/plain": [
       "array([[0.00236 , 0.002832, 0.003304, 0.003776, 0.004248, 0.00472 ],\n",
       "       [0.00236 , 0.002832, 0.003304, 0.003776, 0.004248, 0.00472 ],\n",
       "       [0.00236 , 0.002832, 0.003304, 0.003776, 0.004248, 0.00472 ],\n",
       "       [0.00236 , 0.002832, 0.003304, 0.003776, 0.004248, 0.00472 ],\n",
       "       [0.00236 , 0.002832, 0.003304, 0.003776, 0.004248, 0.00472 ],\n",
       "       [0.00236 , 0.002832, 0.003304, 0.003776, 0.004248, 0.00472 ]])"
      ]
     },
     "execution_count": 15,
     "metadata": {},
     "output_type": "execute_result"
    }
   ],
   "source": [
    "D0_sample_i"
   ]
  },
  {
   "cell_type": "code",
   "execution_count": 16,
   "id": "869e0e4e",
   "metadata": {},
   "outputs": [
    {
     "data": {
      "text/plain": [
       "array([[2.35388105, 2.45529909, 2.56211556, 2.6780189 , 2.80468011,\n",
       "        2.94273573],\n",
       "       [2.19685562, 2.26579079, 2.34269756, 2.42232995, 2.50771523,\n",
       "        2.60087979],\n",
       "       [2.08528945, 2.14027061, 2.19435941, 2.25371406, 2.31684642,\n",
       "        2.38317738],\n",
       "       [2.00744558, 2.04674149, 2.09111956, 2.13477956, 2.18264426,\n",
       "        2.23351876],\n",
       "       [1.94347035, 1.97621292, 2.01314824, 2.04799635, 2.08402364,\n",
       "        2.12348655],\n",
       "       [1.89692516, 1.92392168, 1.94952305, 1.98032132, 2.00810602,\n",
       "        2.04006023]])"
      ]
     },
     "execution_count": 16,
     "metadata": {},
     "output_type": "execute_result"
    }
   ],
   "source": [
    "peak_T_array"
   ]
  },
  {
   "cell_type": "code",
   "execution_count": 17,
   "id": "d5c0bf7f",
   "metadata": {},
   "outputs": [
    {
     "data": {
      "text/plain": [
       "<matplotlib.colorbar.Colorbar at 0x12560bbe0>"
      ]
     },
     "execution_count": 17,
     "metadata": {},
     "output_type": "execute_result"
    },
    {
     "data": {
      "image/png": "[encoded data removed]",
      "text/plain": [
       "<Figure size 432x288 with 2 Axes>"
      ]
     },
     "metadata": {},
     "output_type": "display_data"
    }
   ],
   "source": [
    "fig, axs = plt.subplots(1,1)\n",
    "\n",
    "cs = axs.contourf(D0_sample_i, D2_sample_i, peak_T_array)\n",
    "plt.xlabel(\"D1\")\n",
    "plt.ylabel(\"D2\")\n",
    "# plt.ylim(2, 3.25)\n",
    "fig.colorbar(cs, ax=axs)\n",
    "# fig.savefig('paper_figures/Nordhaus_peak_T_sensitivity.png', bbox_inches='tight', dpi = 300)"
   ]
  },
  {
   "cell_type": "code",
   "execution_count": 18,
   "id": "326baab5",
   "metadata": {},
   "outputs": [],
   "source": [
    "SCC_list = []\n",
    "\n",
    "for j in range(len(output_data_list)):\n",
    "    SCC_const_gamma = []\n",
    "    for i in range(len(output_data_list[j])):\n",
    "        if type(output_data_list[j][i]) is pd.DataFrame:\n",
    "            SCC = output_data_list[j][i]['SCC'].loc[2020]\n",
    "        else:\n",
    "            SCC = None\n",
    "        SCC_const_gamma.append(SCC)\n",
    "    SCC_list.append(SCC_const_gamma)"
   ]
  },
  {
   "cell_type": "code",
   "execution_count": 19,
   "id": "d12082b1",
   "metadata": {},
   "outputs": [],
   "source": [
    "SCC_array = np.asarray(SCC_list)"
   ]
  },
  {
   "cell_type": "code",
   "execution_count": 20,
   "id": "9d2be6a4",
   "metadata": {},
   "outputs": [
    {
     "ename": "NameError",
     "evalue": "name 'gamma_sample_i' is not defined",
     "output_type": "error",
     "traceback": [
      "\u001b[0;31m---------------------------------------------------------------------------\u001b[0m",
      "\u001b[0;31mNameError\u001b[0m                                 Traceback (most recent call last)",
      "\u001b[0;32m/var/folders/m4/mbpwp5q15070t8lqj4fj7mjr0000gn/T/ipykernel_72718/4018092297.py\u001b[0m in \u001b[0;36m<module>\u001b[0;34m\u001b[0m\n\u001b[1;32m      1\u001b[0m \u001b[0mfig\u001b[0m\u001b[0;34m,\u001b[0m \u001b[0maxs\u001b[0m \u001b[0;34m=\u001b[0m \u001b[0mplt\u001b[0m\u001b[0;34m.\u001b[0m\u001b[0msubplots\u001b[0m\u001b[0;34m(\u001b[0m\u001b[0;36m1\u001b[0m\u001b[0;34m,\u001b[0m\u001b[0;36m1\u001b[0m\u001b[0;34m)\u001b[0m\u001b[0;34m\u001b[0m\u001b[0;34m\u001b[0m\u001b[0m\n\u001b[1;32m      2\u001b[0m \u001b[0;34m\u001b[0m\u001b[0m\n\u001b[0;32m----> 3\u001b[0;31m \u001b[0mcs\u001b[0m \u001b[0;34m=\u001b[0m \u001b[0maxs\u001b[0m\u001b[0;34m.\u001b[0m\u001b[0mcontourf\u001b[0m\u001b[0;34m(\u001b[0m\u001b[0mD0_sample_i\u001b[0m\u001b[0;34m,\u001b[0m \u001b[0mgamma_sample_i\u001b[0m\u001b[0;34m,\u001b[0m \u001b[0mSCC_array\u001b[0m\u001b[0;34m)\u001b[0m\u001b[0;34m\u001b[0m\u001b[0;34m\u001b[0m\u001b[0m\n\u001b[0m\u001b[1;32m      4\u001b[0m \u001b[0mplt\u001b[0m\u001b[0;34m.\u001b[0m\u001b[0mxlabel\u001b[0m\u001b[0;34m(\u001b[0m\u001b[0;34m\"D0\"\u001b[0m\u001b[0;34m)\u001b[0m\u001b[0;34m\u001b[0m\u001b[0;34m\u001b[0m\u001b[0m\n\u001b[1;32m      5\u001b[0m \u001b[0mplt\u001b[0m\u001b[0;34m.\u001b[0m\u001b[0mylabel\u001b[0m\u001b[0;34m(\u001b[0m\u001b[0;34m\"gamma\"\u001b[0m\u001b[0;34m)\u001b[0m\u001b[0;34m\u001b[0m\u001b[0;34m\u001b[0m\u001b[0m\n",
      "\u001b[0;31mNameError\u001b[0m: name 'gamma_sample_i' is not defined"
     ]
    },
    {
     "data": {
      "image/png": "[encoded data removed]",
      "text/plain": [
       "<Figure size 432x288 with 1 Axes>"
      ]
     },
     "metadata": {},
     "output_type": "display_data"
    }
   ],
   "source": [
    "fig, axs = plt.subplots(1,1)\n",
    "\n",
    "cs = axs.contourf(D0_sample_i, gamma_sample_i, SCC_array)\n",
    "plt.xlabel(\"D0\")\n",
    "plt.ylabel(\"gamma\")\n",
    "# plt.ylim(2, 3.25)\n",
    "fig.colorbar(cs, ax=axs)\n",
    "\n",
    "# fig.savefig('paper_figures/Nordhaus_SCC_sensitivity.png', bbox_inches='tight', dpi = 300)"
   ]
  },
  {
   "cell_type": "code",
   "execution_count": null,
   "id": "cc9106c3",
   "metadata": {},
   "outputs": [],
   "source": []
  },
  {
   "cell_type": "code",
   "execution_count": null,
   "id": "e591311d",
   "metadata": {},
   "outputs": [],
   "source": []
  }
 ],
 "metadata": {
  "kernelspec": {
   "display_name": "Python 3 (ipykernel)",
   "language": "python",
   "name": "python3"
  },
  "language_info": {
   "codemirror_mode": {
    "name": "ipython",
    "version": 3
   },
   "file_extension": ".py",
   "mimetype": "text/x-python",
   "name": "python",
   "nbconvert_exporter": "python",
   "pygments_lexer": "ipython3",
   "version": "3.9.7"
  }
 },
 "nbformat": 4,
 "nbformat_minor": 5
}
