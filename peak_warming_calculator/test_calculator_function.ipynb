{
 "cells": [
  {
   "cell_type": "code",
   "execution_count": 1,
   "id": "79fbd116",
   "metadata": {},
   "outputs": [],
   "source": [
    "from peak_warming_calculator import peak_warming_calculator\n",
    "from peak_warming_calculator_Pretis import peak_warming_calculator_Pretis\n",
    "from peak_warming_calculator_fast import peak_warming_calculator_fast"
   ]
  },
  {
   "cell_type": "code",
   "execution_count": 2,
   "id": "befdd1dd",
   "metadata": {},
   "outputs": [],
   "source": [
    "import time"
   ]
  },
  {
   "cell_type": "markdown",
   "id": "b7dc0238",
   "metadata": {},
   "source": [
    "## Checking Function is Working"
   ]
  },
  {
   "cell_type": "markdown",
   "id": "23631c02",
   "metadata": {},
   "source": [
    "return_all_output=False"
   ]
  },
  {
   "cell_type": "code",
   "execution_count": null,
   "id": "5c53bc84",
   "metadata": {},
   "outputs": [],
   "source": []
  },
  {
   "cell_type": "code",
   "execution_count": 3,
   "id": "5cf4eec0",
   "metadata": {},
   "outputs": [
    {
     "name": "stderr",
     "output_type": "stream",
     "text": [
      "/Users/aaron/Documents/oxford_physics/Year_4/MPhys/drivers-of-peak-warming/peak_warming_calc/MAC_functions.py:10: RuntimeWarning: divide by zero encountered in power\n",
      "  A = Am / (1 + ((P - P0) / (P_h - P0)) ** (-s / r))\n"
     ]
    }
   ],
   "source": [
    "s = time.time()\n",
    "\n",
    "peak_T, output_df = peak_warming_calculator(return_all_output=True, gamma=4)\n",
    "\n",
    "e = time.time()"
   ]
  },
  {
   "cell_type": "code",
   "execution_count": 4,
   "id": "f5865cd2",
   "metadata": {},
   "outputs": [
    {
     "data": {
      "text/plain": [
       "1.6901955793170502"
      ]
     },
     "execution_count": 4,
     "metadata": {},
     "output_type": "execute_result"
    }
   ],
   "source": [
    "peak_T"
   ]
  },
  {
   "cell_type": "code",
   "execution_count": 5,
   "id": "1a5c7697",
   "metadata": {},
   "outputs": [
    {
     "name": "stdout",
     "output_type": "stream",
     "text": [
      "run time 18.307976245880127\n"
     ]
    }
   ],
   "source": [
    "print(f\"run time {e-s}\")"
   ]
  },
  {
   "cell_type": "code",
   "execution_count": 15,
   "id": "e6dba4f8",
   "metadata": {},
   "outputs": [
    {
     "data": {
      "text/html": [
       "<div>\n",
       "<style scoped>\n",
       "    .dataframe tbody tr th:only-of-type {\n",
       "        vertical-align: middle;\n",
       "    }\n",
       "\n",
       "    .dataframe tbody tr th {\n",
       "        vertical-align: top;\n",
       "    }\n",
       "\n",
       "    .dataframe thead th {\n",
       "        text-align: right;\n",
       "    }\n",
       "</style>\n",
       "<table border=\"1\" class=\"dataframe\">\n",
       "  <thead>\n",
       "    <tr style=\"text-align: right;\">\n",
       "      <th></th>\n",
       "      <th>SCC</th>\n",
       "      <th>abatement</th>\n",
       "      <th>T</th>\n",
       "      <th>emissions</th>\n",
       "      <th>SCC actual</th>\n",
       "    </tr>\n",
       "    <tr>\n",
       "      <th>years</th>\n",
       "      <th></th>\n",
       "      <th></th>\n",
       "      <th></th>\n",
       "      <th></th>\n",
       "      <th></th>\n",
       "    </tr>\n",
       "  </thead>\n",
       "  <tbody>\n",
       "    <tr>\n",
       "      <th>2020</th>\n",
       "      <td>50.000000</td>\n",
       "      <td>0.000000</td>\n",
       "      <td>1.200000</td>\n",
       "      <td>40.000000</td>\n",
       "      <td>86.140310</td>\n",
       "    </tr>\n",
       "    <tr>\n",
       "      <th>2021</th>\n",
       "      <td>52.328113</td>\n",
       "      <td>0.003020</td>\n",
       "      <td>1.218000</td>\n",
       "      <td>39.879219</td>\n",
       "      <td>88.468423</td>\n",
       "    </tr>\n",
       "    <tr>\n",
       "      <th>2022</th>\n",
       "      <td>54.697822</td>\n",
       "      <td>0.009673</td>\n",
       "      <td>1.235946</td>\n",
       "      <td>39.613061</td>\n",
       "      <td>90.838132</td>\n",
       "    </tr>\n",
       "    <tr>\n",
       "      <th>2023</th>\n",
       "      <td>57.109138</td>\n",
       "      <td>0.019136</td>\n",
       "      <td>1.253772</td>\n",
       "      <td>39.234554</td>\n",
       "      <td>93.249448</td>\n",
       "    </tr>\n",
       "    <tr>\n",
       "      <th>2024</th>\n",
       "      <td>59.562100</td>\n",
       "      <td>0.031035</td>\n",
       "      <td>1.271427</td>\n",
       "      <td>38.758599</td>\n",
       "      <td>95.702410</td>\n",
       "    </tr>\n",
       "    <tr>\n",
       "      <th>...</th>\n",
       "      <td>...</td>\n",
       "      <td>...</td>\n",
       "      <td>...</td>\n",
       "      <td>...</td>\n",
       "      <td>...</td>\n",
       "    </tr>\n",
       "    <tr>\n",
       "      <th>2996</th>\n",
       "      <td>300.000000</td>\n",
       "      <td>1.000000</td>\n",
       "      <td>1.690196</td>\n",
       "      <td>0.000000</td>\n",
       "      <td>336.140310</td>\n",
       "    </tr>\n",
       "    <tr>\n",
       "      <th>2997</th>\n",
       "      <td>300.000000</td>\n",
       "      <td>1.000000</td>\n",
       "      <td>1.690196</td>\n",
       "      <td>0.000000</td>\n",
       "      <td>336.140310</td>\n",
       "    </tr>\n",
       "    <tr>\n",
       "      <th>2998</th>\n",
       "      <td>300.000000</td>\n",
       "      <td>1.000000</td>\n",
       "      <td>1.690196</td>\n",
       "      <td>0.000000</td>\n",
       "      <td>336.140310</td>\n",
       "    </tr>\n",
       "    <tr>\n",
       "      <th>2999</th>\n",
       "      <td>300.000000</td>\n",
       "      <td>1.000000</td>\n",
       "      <td>1.690196</td>\n",
       "      <td>0.000000</td>\n",
       "      <td>336.140310</td>\n",
       "    </tr>\n",
       "    <tr>\n",
       "      <th>3000</th>\n",
       "      <td>300.000000</td>\n",
       "      <td>1.000000</td>\n",
       "      <td>1.690196</td>\n",
       "      <td>0.000000</td>\n",
       "      <td>336.140310</td>\n",
       "    </tr>\n",
       "  </tbody>\n",
       "</table>\n",
       "<p>981 rows × 5 columns</p>\n",
       "</div>"
      ],
      "text/plain": [
       "              SCC  abatement         T  emissions  SCC actual\n",
       "years                                                        \n",
       "2020    50.000000   0.000000  1.200000  40.000000   86.140310\n",
       "2021    52.328113   0.003020  1.218000  39.879219   88.468423\n",
       "2022    54.697822   0.009673  1.235946  39.613061   90.838132\n",
       "2023    57.109138   0.019136  1.253772  39.234554   93.249448\n",
       "2024    59.562100   0.031035  1.271427  38.758599   95.702410\n",
       "...           ...        ...       ...        ...         ...\n",
       "2996   300.000000   1.000000  1.690196   0.000000  336.140310\n",
       "2997   300.000000   1.000000  1.690196   0.000000  336.140310\n",
       "2998   300.000000   1.000000  1.690196   0.000000  336.140310\n",
       "2999   300.000000   1.000000  1.690196   0.000000  336.140310\n",
       "3000   300.000000   1.000000  1.690196   0.000000  336.140310\n",
       "\n",
       "[981 rows x 5 columns]"
      ]
     },
     "execution_count": 15,
     "metadata": {},
     "output_type": "execute_result"
    }
   ],
   "source": [
    "output_df"
   ]
  },
  {
   "cell_type": "code",
   "execution_count": null,
   "id": "7b461869",
   "metadata": {},
   "outputs": [],
   "source": []
  },
  {
   "cell_type": "code",
   "execution_count": null,
   "id": "7affc90e",
   "metadata": {},
   "outputs": [],
   "source": []
  },
  {
   "cell_type": "code",
   "execution_count": 6,
   "id": "52117cfb",
   "metadata": {},
   "outputs": [
    {
     "name": "stdout",
     "output_type": "stream",
     "text": [
      "4\n"
     ]
    }
   ],
   "source": [
    "s = time.time()\n",
    "\n",
    "peak_T_fast, output_df_fast = peak_warming_calculator_fast(return_all_output=True, gamma=4)\n",
    "\n",
    "e = time.time()"
   ]
  },
  {
   "cell_type": "code",
   "execution_count": 7,
   "id": "ecb98a46",
   "metadata": {},
   "outputs": [
    {
     "data": {
      "text/plain": [
       "1.6902156841055858"
      ]
     },
     "execution_count": 7,
     "metadata": {},
     "output_type": "execute_result"
    }
   ],
   "source": [
    "peak_T_fast"
   ]
  },
  {
   "cell_type": "code",
   "execution_count": 8,
   "id": "77d57d86",
   "metadata": {},
   "outputs": [
    {
     "name": "stdout",
     "output_type": "stream",
     "text": [
      "run time 6.446294069290161\n"
     ]
    }
   ],
   "source": [
    "print(f\"run time {e-s}\")"
   ]
  },
  {
   "cell_type": "code",
   "execution_count": null,
   "id": "a4b483f9",
   "metadata": {},
   "outputs": [],
   "source": []
  },
  {
   "cell_type": "code",
   "execution_count": 14,
   "id": "62c2f961",
   "metadata": {},
   "outputs": [
    {
     "data": {
      "text/html": [
       "<div>\n",
       "<style scoped>\n",
       "    .dataframe tbody tr th:only-of-type {\n",
       "        vertical-align: middle;\n",
       "    }\n",
       "\n",
       "    .dataframe tbody tr th {\n",
       "        vertical-align: top;\n",
       "    }\n",
       "\n",
       "    .dataframe thead th {\n",
       "        text-align: right;\n",
       "    }\n",
       "</style>\n",
       "<table border=\"1\" class=\"dataframe\">\n",
       "  <thead>\n",
       "    <tr style=\"text-align: right;\">\n",
       "      <th></th>\n",
       "      <th>SCC</th>\n",
       "      <th>abatement</th>\n",
       "      <th>T</th>\n",
       "      <th>emissions</th>\n",
       "      <th>SCC actual</th>\n",
       "    </tr>\n",
       "    <tr>\n",
       "      <th>years</th>\n",
       "      <th></th>\n",
       "      <th></th>\n",
       "      <th></th>\n",
       "      <th></th>\n",
       "      <th></th>\n",
       "    </tr>\n",
       "  </thead>\n",
       "  <tbody>\n",
       "    <tr>\n",
       "      <th>2020</th>\n",
       "      <td>50.000000</td>\n",
       "      <td>0.000000</td>\n",
       "      <td>1.200000</td>\n",
       "      <td>40.000000</td>\n",
       "      <td>86.137075</td>\n",
       "    </tr>\n",
       "    <tr>\n",
       "      <th>2021</th>\n",
       "      <td>52.328000</td>\n",
       "      <td>0.003019</td>\n",
       "      <td>1.218000</td>\n",
       "      <td>39.879229</td>\n",
       "      <td>88.465075</td>\n",
       "    </tr>\n",
       "    <tr>\n",
       "      <th>2022</th>\n",
       "      <td>54.697593</td>\n",
       "      <td>0.009673</td>\n",
       "      <td>1.235946</td>\n",
       "      <td>39.613092</td>\n",
       "      <td>90.834668</td>\n",
       "    </tr>\n",
       "    <tr>\n",
       "      <th>2023</th>\n",
       "      <td>57.108790</td>\n",
       "      <td>0.019135</td>\n",
       "      <td>1.253772</td>\n",
       "      <td>39.234615</td>\n",
       "      <td>93.245865</td>\n",
       "    </tr>\n",
       "    <tr>\n",
       "      <th>2024</th>\n",
       "      <td>59.561628</td>\n",
       "      <td>0.031033</td>\n",
       "      <td>1.271427</td>\n",
       "      <td>38.758698</td>\n",
       "      <td>95.698703</td>\n",
       "    </tr>\n",
       "    <tr>\n",
       "      <th>...</th>\n",
       "      <td>...</td>\n",
       "      <td>...</td>\n",
       "      <td>...</td>\n",
       "      <td>...</td>\n",
       "      <td>...</td>\n",
       "    </tr>\n",
       "    <tr>\n",
       "      <th>2996</th>\n",
       "      <td>300.000000</td>\n",
       "      <td>1.000000</td>\n",
       "      <td>1.690216</td>\n",
       "      <td>0.000000</td>\n",
       "      <td>336.137075</td>\n",
       "    </tr>\n",
       "    <tr>\n",
       "      <th>2997</th>\n",
       "      <td>300.000000</td>\n",
       "      <td>1.000000</td>\n",
       "      <td>1.690216</td>\n",
       "      <td>0.000000</td>\n",
       "      <td>336.137075</td>\n",
       "    </tr>\n",
       "    <tr>\n",
       "      <th>2998</th>\n",
       "      <td>300.000000</td>\n",
       "      <td>1.000000</td>\n",
       "      <td>1.690216</td>\n",
       "      <td>0.000000</td>\n",
       "      <td>336.137075</td>\n",
       "    </tr>\n",
       "    <tr>\n",
       "      <th>2999</th>\n",
       "      <td>300.000000</td>\n",
       "      <td>1.000000</td>\n",
       "      <td>1.690216</td>\n",
       "      <td>0.000000</td>\n",
       "      <td>336.137075</td>\n",
       "    </tr>\n",
       "    <tr>\n",
       "      <th>3000</th>\n",
       "      <td>300.000000</td>\n",
       "      <td>1.000000</td>\n",
       "      <td>1.690216</td>\n",
       "      <td>0.000000</td>\n",
       "      <td>336.137075</td>\n",
       "    </tr>\n",
       "  </tbody>\n",
       "</table>\n",
       "<p>981 rows × 5 columns</p>\n",
       "</div>"
      ],
      "text/plain": [
       "              SCC  abatement         T  emissions  SCC actual\n",
       "years                                                        \n",
       "2020    50.000000   0.000000  1.200000  40.000000   86.137075\n",
       "2021    52.328000   0.003019  1.218000  39.879229   88.465075\n",
       "2022    54.697593   0.009673  1.235946  39.613092   90.834668\n",
       "2023    57.108790   0.019135  1.253772  39.234615   93.245865\n",
       "2024    59.561628   0.031033  1.271427  38.758698   95.698703\n",
       "...           ...        ...       ...        ...         ...\n",
       "2996   300.000000   1.000000  1.690216   0.000000  336.137075\n",
       "2997   300.000000   1.000000  1.690216   0.000000  336.137075\n",
       "2998   300.000000   1.000000  1.690216   0.000000  336.137075\n",
       "2999   300.000000   1.000000  1.690216   0.000000  336.137075\n",
       "3000   300.000000   1.000000  1.690216   0.000000  336.137075\n",
       "\n",
       "[981 rows x 5 columns]"
      ]
     },
     "execution_count": 14,
     "metadata": {},
     "output_type": "execute_result"
    }
   ],
   "source": [
    "output_df_fast"
   ]
  },
  {
   "cell_type": "code",
   "execution_count": null,
   "id": "8d2bf654",
   "metadata": {},
   "outputs": [],
   "source": []
  },
  {
   "cell_type": "code",
   "execution_count": null,
   "id": "a33a463f",
   "metadata": {},
   "outputs": [],
   "source": []
  },
  {
   "cell_type": "code",
   "execution_count": null,
   "id": "81f2d66c",
   "metadata": {},
   "outputs": [],
   "source": []
  },
  {
   "cell_type": "code",
   "execution_count": null,
   "id": "1b40c291",
   "metadata": {},
   "outputs": [],
   "source": [
    "peak_T_fast = peak_warming_calculator_fast(gamma=6, P0 = 50, P_50=361.0693359375, s=0.07500000000000001, r=0.025, P_100=490.625, consumption_growth=0.01, consumption_discount=0.025)"
   ]
  },
  {
   "cell_type": "code",
   "execution_count": null,
   "id": "02b7f7cf",
   "metadata": {},
   "outputs": [],
   "source": [
    "peak_T_fast"
   ]
  },
  {
   "cell_type": "code",
   "execution_count": null,
   "id": "2c46e0ea",
   "metadata": {},
   "outputs": [],
   "source": []
  },
  {
   "cell_type": "code",
   "execution_count": null,
   "id": "c2037cb2",
   "metadata": {},
   "outputs": [],
   "source": []
  },
  {
   "cell_type": "code",
   "execution_count": null,
   "id": "fb947375",
   "metadata": {},
   "outputs": [],
   "source": []
  },
  {
   "cell_type": "code",
   "execution_count": null,
   "id": "7862c070",
   "metadata": {},
   "outputs": [],
   "source": []
  },
  {
   "cell_type": "code",
   "execution_count": null,
   "id": "02336c81",
   "metadata": {},
   "outputs": [],
   "source": []
  },
  {
   "cell_type": "code",
   "execution_count": null,
   "id": "e608488f",
   "metadata": {},
   "outputs": [],
   "source": []
  },
  {
   "cell_type": "code",
   "execution_count": null,
   "id": "e708023a",
   "metadata": {},
   "outputs": [],
   "source": []
  },
  {
   "cell_type": "code",
   "execution_count": null,
   "id": "8d9a681b",
   "metadata": {},
   "outputs": [],
   "source": []
  },
  {
   "cell_type": "code",
   "execution_count": 10,
   "id": "1324ea69",
   "metadata": {
    "scrolled": false
   },
   "outputs": [
    {
     "name": "stderr",
     "output_type": "stream",
     "text": [
      "/Users/aaron/Documents/oxford_physics/Year_4/MPhys/drivers-of-peak-warming/peak_warming_calc/peak_warming_calculator_Pretis.py:163: RuntimeWarning: divide by zero encountered in power\n",
      "  A = Am / (1 + ((P - P0) / (P_h - P0)) ** (-s / r))\n"
     ]
    }
   ],
   "source": [
    "peak_T_Pretis, output_df_Pretis = peak_warming_calculator_Pretis(return_all_output=True)"
   ]
  },
  {
   "cell_type": "code",
   "execution_count": 11,
   "id": "ebca07a9",
   "metadata": {},
   "outputs": [
    {
     "data": {
      "text/plain": [
       "1.3594938864699835"
      ]
     },
     "execution_count": 11,
     "metadata": {},
     "output_type": "execute_result"
    }
   ],
   "source": [
    "peak_T_Pretis"
   ]
  },
  {
   "cell_type": "code",
   "execution_count": 12,
   "id": "bec370b9",
   "metadata": {},
   "outputs": [
    {
     "data": {
      "text/html": [
       "<div>\n",
       "<style scoped>\n",
       "    .dataframe tbody tr th:only-of-type {\n",
       "        vertical-align: middle;\n",
       "    }\n",
       "\n",
       "    .dataframe tbody tr th {\n",
       "        vertical-align: top;\n",
       "    }\n",
       "\n",
       "    .dataframe thead th {\n",
       "        text-align: right;\n",
       "    }\n",
       "</style>\n",
       "<table border=\"1\" class=\"dataframe\">\n",
       "  <thead>\n",
       "    <tr style=\"text-align: right;\">\n",
       "      <th></th>\n",
       "      <th>SCC</th>\n",
       "      <th>abatement</th>\n",
       "      <th>T</th>\n",
       "      <th>emissions</th>\n",
       "      <th>SCC actual</th>\n",
       "    </tr>\n",
       "    <tr>\n",
       "      <th>years</th>\n",
       "      <th></th>\n",
       "      <th></th>\n",
       "      <th></th>\n",
       "      <th></th>\n",
       "      <th></th>\n",
       "    </tr>\n",
       "  </thead>\n",
       "  <tbody>\n",
       "    <tr>\n",
       "      <th>2020</th>\n",
       "      <td>50.000000</td>\n",
       "      <td>0.000000</td>\n",
       "      <td>1.200000</td>\n",
       "      <td>40.000000</td>\n",
       "      <td>361.841208</td>\n",
       "    </tr>\n",
       "    <tr>\n",
       "      <th>2021</th>\n",
       "      <td>59.662486</td>\n",
       "      <td>0.031565</td>\n",
       "      <td>1.218000</td>\n",
       "      <td>38.737396</td>\n",
       "      <td>371.503694</td>\n",
       "    </tr>\n",
       "    <tr>\n",
       "      <th>2022</th>\n",
       "      <td>69.507464</td>\n",
       "      <td>0.095973</td>\n",
       "      <td>1.235432</td>\n",
       "      <td>36.161092</td>\n",
       "      <td>381.348672</td>\n",
       "    </tr>\n",
       "    <tr>\n",
       "      <th>2023</th>\n",
       "      <td>79.456009</td>\n",
       "      <td>0.176305</td>\n",
       "      <td>1.251704</td>\n",
       "      <td>32.947806</td>\n",
       "      <td>391.297217</td>\n",
       "    </tr>\n",
       "    <tr>\n",
       "      <th>2024</th>\n",
       "      <td>89.459351</td>\n",
       "      <td>0.261956</td>\n",
       "      <td>1.266531</td>\n",
       "      <td>29.521777</td>\n",
       "      <td>401.300559</td>\n",
       "    </tr>\n",
       "    <tr>\n",
       "      <th>...</th>\n",
       "      <td>...</td>\n",
       "      <td>...</td>\n",
       "      <td>...</td>\n",
       "      <td>...</td>\n",
       "      <td>...</td>\n",
       "    </tr>\n",
       "    <tr>\n",
       "      <th>2996</th>\n",
       "      <td>300.000000</td>\n",
       "      <td>1.000000</td>\n",
       "      <td>1.359494</td>\n",
       "      <td>0.000000</td>\n",
       "      <td>611.841208</td>\n",
       "    </tr>\n",
       "    <tr>\n",
       "      <th>2997</th>\n",
       "      <td>300.000000</td>\n",
       "      <td>1.000000</td>\n",
       "      <td>1.359494</td>\n",
       "      <td>0.000000</td>\n",
       "      <td>611.841208</td>\n",
       "    </tr>\n",
       "    <tr>\n",
       "      <th>2998</th>\n",
       "      <td>300.000000</td>\n",
       "      <td>1.000000</td>\n",
       "      <td>1.359494</td>\n",
       "      <td>0.000000</td>\n",
       "      <td>611.841208</td>\n",
       "    </tr>\n",
       "    <tr>\n",
       "      <th>2999</th>\n",
       "      <td>300.000000</td>\n",
       "      <td>1.000000</td>\n",
       "      <td>1.359494</td>\n",
       "      <td>0.000000</td>\n",
       "      <td>611.841208</td>\n",
       "    </tr>\n",
       "    <tr>\n",
       "      <th>3000</th>\n",
       "      <td>300.000000</td>\n",
       "      <td>1.000000</td>\n",
       "      <td>1.359494</td>\n",
       "      <td>0.000000</td>\n",
       "      <td>611.841208</td>\n",
       "    </tr>\n",
       "  </tbody>\n",
       "</table>\n",
       "<p>981 rows × 5 columns</p>\n",
       "</div>"
      ],
      "text/plain": [
       "              SCC  abatement         T  emissions  SCC actual\n",
       "years                                                        \n",
       "2020    50.000000   0.000000  1.200000  40.000000  361.841208\n",
       "2021    59.662486   0.031565  1.218000  38.737396  371.503694\n",
       "2022    69.507464   0.095973  1.235432  36.161092  381.348672\n",
       "2023    79.456009   0.176305  1.251704  32.947806  391.297217\n",
       "2024    89.459351   0.261956  1.266531  29.521777  401.300559\n",
       "...           ...        ...       ...        ...         ...\n",
       "2996   300.000000   1.000000  1.359494   0.000000  611.841208\n",
       "2997   300.000000   1.000000  1.359494   0.000000  611.841208\n",
       "2998   300.000000   1.000000  1.359494   0.000000  611.841208\n",
       "2999   300.000000   1.000000  1.359494   0.000000  611.841208\n",
       "3000   300.000000   1.000000  1.359494   0.000000  611.841208\n",
       "\n",
       "[981 rows x 5 columns]"
      ]
     },
     "execution_count": 12,
     "metadata": {},
     "output_type": "execute_result"
    }
   ],
   "source": [
    "output_df_Pretis"
   ]
  },
  {
   "cell_type": "code",
   "execution_count": null,
   "id": "e0fcdb28",
   "metadata": {},
   "outputs": [],
   "source": []
  }
 ],
 "metadata": {
  "kernelspec": {
   "display_name": "Python 3 (ipykernel)",
   "language": "python",
   "name": "python3"
  },
  "language_info": {
   "codemirror_mode": {
    "name": "ipython",
    "version": 3
   },
   "file_extension": ".py",
   "mimetype": "text/x-python",
   "name": "python",
   "nbconvert_exporter": "python",
   "pygments_lexer": "ipython3",
   "version": "3.9.7"
  }
 },
 "nbformat": 4,
 "nbformat_minor": 5
}
