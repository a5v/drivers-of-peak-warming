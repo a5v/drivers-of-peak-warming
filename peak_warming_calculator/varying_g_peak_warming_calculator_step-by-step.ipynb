{
 "cells": [
  {
   "cell_type": "code",
   "execution_count": 1,
   "id": "a8198da9",
   "metadata": {},
   "outputs": [],
   "source": [
    "import pandas as pd\n",
    "import numpy as np\n",
    "import matplotlib.pyplot as plt\n",
    "import seaborn as sns\n",
    "sns.set()\n",
    "from scipy.optimize import curve_fit\n",
    "from scipy.integrate import simps\n",
    "from scipy.optimize import curve_fit"
   ]
  },
  {
   "cell_type": "markdown",
   "id": "1b40a359",
   "metadata": {},
   "source": [
    "## Define Functions"
   ]
  },
  {
   "cell_type": "code",
   "execution_count": 2,
   "id": "df85a918",
   "metadata": {},
   "outputs": [],
   "source": [
    "## calculate cost of perturbation due to carbon\n",
    "## input: temperature profile, perturbed temperature profile, total consumption, and discount function\n",
    "\n",
    "def cost_of_perturbation(W, W_prime, discount_function, gamma=2, D0=0.00267):\n",
    "    absolute_consumption_loss = W-W_prime\n",
    "    discounted_consumption_loss = absolute_consumption_loss*discount_function\n",
    "    area = simps(discounted_consumption_loss, dx=1)\n",
    "    cost = area*10**12  # convert to dollar amount\n",
    "    \n",
    "    return cost"
   ]
  },
  {
   "cell_type": "code",
   "execution_count": 3,
   "id": "5a11eab5",
   "metadata": {},
   "outputs": [],
   "source": [
    "## calculate abatement given a carbon price\n",
    "\n",
    "## default settings\n",
    "# P_50 = 300  # 187.5 * 0.7625000000000001\n",
    "# P_100 = 500  # 187.5\n",
    "# g_2019 = 0.02\n",
    "# g_grad = 0.0004  # 0.00034\n",
    "# W_2019 = 80\n",
    "# consumption_discount = g_2019 + 0.015\n",
    "# s = 0.05\n",
    "# r = 0.04\n",
    "\n",
    "## test \n",
    "# P_50 = 112.5 * 0.6375\n",
    "# P_100 = 112.5 \n",
    "# g_2019 = 0.02\n",
    "# g_grad = 0.0004  # g_grad = 0.0004\n",
    "# W_2019 = 80\n",
    "# consumption_discount = g_2019 + 0.015\n",
    "# constraint = 2.5  # param_values_2[i][1]\n",
    "# r = consumption_discount\n",
    "# s = r * np.log(constraint)/np.log((P_100)/(P_50))\n",
    "P_50 = 100  # 187.5 * 0.7625000000000001\n",
    "P_100 = 500  # 187.5\n",
    "g_2019 = 0.02\n",
    "g_grad = 0.0013 # 0.00034\n",
    "W_2019 = 80\n",
    "consumption_discount = g_2019 + 0.015\n",
    "# s = 0.05\n",
    "r = 0.04\n",
    "P0_prime = 20\n",
    "s = 0.1\n",
    "\n",
    "\n",
    "def abatement(P, P0, P_50=P_50, r=r, s=s, P_100=P_100):  # 0.05\n",
    "    if P0 >= P_50:\n",
    "        print(\"P0 is greater than P_50\")\n",
    "    elif ((P_100-P0)/(P_50-P0))**(s/r) <= 2:\n",
    "        print(\"MAC curve condition not satisfied\")\n",
    "    \n",
    "    P_h = P0 + ((P_50 - P0) ** (-s / r) - 2 * (P_100 - P0) ** (-s / r)) ** (-r / s)\n",
    "    Am = 1 + ((P_100 - P0) / (P_h - P0)) ** (-s / r)\n",
    "    \n",
    "    A = Am / (1 + ((P - P0) / (P_h - P0)) ** (-s / r))\n",
    "    \n",
    "    return A"
   ]
  },
  {
   "cell_type": "code",
   "execution_count": 4,
   "id": "26ce409f",
   "metadata": {},
   "outputs": [],
   "source": [
    "## calculate emissions from forecasted abatement and CO2 baseline\n",
    "\n",
    "def abatement_to_emissions(forecasted_abatement, CO2_baseline):\n",
    "    CO2_emissions = CO2_baseline*(1-forecasted_abatement)\n",
    "    \n",
    "    return CO2_emissions"
   ]
  },
  {
   "cell_type": "code",
   "execution_count": 5,
   "id": "cda22b33",
   "metadata": {},
   "outputs": [],
   "source": [
    "def create_W(W_2019, last_historical_year, start_year, T_forecast_years, g):\n",
    "    W = []\n",
    "    W_historical = [W_2019] * (last_historical_year - start_year + 1)\n",
    "    W_forecast = []\n",
    "    W_previous_year = W_historical[-1]\n",
    "\n",
    "    for i in range(len(T_forecast_years) - 1):\n",
    "        W_this_year = W_previous_year*np.exp(g[i])\n",
    "        W_forecast.append(W_this_year)\n",
    "        W_previous_year = W_this_year\n",
    "\n",
    "    W = W_historical + W_forecast\n",
    "\n",
    "    W = np.asarray(W)\n",
    "    return W"
   ]
  },
  {
   "cell_type": "markdown",
   "id": "4bb1c315",
   "metadata": {},
   "source": [
    "# Steps outlined in Email"
   ]
  },
  {
   "cell_type": "markdown",
   "id": "9e286a49",
   "metadata": {},
   "source": [
    "## 1. Create Unperturbed Temperature Profile"
   ]
  },
  {
   "cell_type": "code",
   "execution_count": 6,
   "id": "d3bc2acf",
   "metadata": {},
   "outputs": [],
   "source": [
    "# get historical data (taken from chrisroadmap)\n",
    "\n",
    "T_gas_df = pd.read_csv(\"T_gas.csv\", index_col=0)\n",
    "\n",
    "T_2019 = T_gas_df['CO2_best'][2019]"
   ]
  },
  {
   "cell_type": "code",
   "execution_count": 7,
   "id": "a1096d77",
   "metadata": {},
   "outputs": [],
   "source": [
    "start_year = 1750\n",
    "last_historical_year = 2019\n",
    "end_year = 3000\n",
    "\n",
    "years = np.arange(start_year, end_year+1)\n",
    "T_forecast_years = np.arange(last_historical_year, end_year+1)\n",
    "T_forecast_length = end_year - last_historical_year + 1"
   ]
  },
  {
   "cell_type": "code",
   "execution_count": 8,
   "id": "da772f99",
   "metadata": {},
   "outputs": [],
   "source": [
    "delta_T = 1\n",
    "alpha = 0.02\n",
    "T_forecast = T_2019 + delta_T * (1 - np.exp(-alpha*np.arange(T_forecast_length)))"
   ]
  },
  {
   "cell_type": "code",
   "execution_count": 9,
   "id": "9d69f693",
   "metadata": {},
   "outputs": [],
   "source": [
    "T = np.concatenate([T_gas_df['CO2_best'],T_forecast[1:]])"
   ]
  },
  {
   "cell_type": "code",
   "execution_count": 10,
   "id": "8d7f6882",
   "metadata": {
    "scrolled": true
   },
   "outputs": [
    {
     "data": {
      "text/plain": [
       "<matplotlib.legend.Legend at 0x7fe0fb864d30>"
      ]
     },
     "execution_count": 10,
     "metadata": {},
     "output_type": "execute_result"
    },
    {
     "data": {
      "image/png": "[encoded data removed]",
      "text/plain": [
       "<Figure size 432x288 with 1 Axes>"
      ]
     },
     "metadata": {},
     "output_type": "display_data"
    }
   ],
   "source": [
    "plt.plot(T_gas_df['CO2_best'], label=\"historical\")\n",
    "plt.plot(T_forecast_years, T_forecast, label=\"projected\")\n",
    "plt.xlabel(\"Year\")\n",
    "plt.ylabel(\"Attributed temperature change relative to 1750\")\n",
    "plt.legend()"
   ]
  },
  {
   "cell_type": "markdown",
   "id": "b0e49485",
   "metadata": {},
   "source": [
    "## 2. Calculate SCC as a function of time for a range of years"
   ]
  },
  {
   "cell_type": "code",
   "execution_count": 11,
   "id": "916e795f",
   "metadata": {},
   "outputs": [],
   "source": [
    "## years to calculate SCC\n",
    "first_perturbed_year = last_historical_year\n",
    "last_perturbed_year = 2500\n",
    "year_of_perturbation = np.arange(first_perturbed_year, last_perturbed_year+1)\n",
    "\n",
    "\n",
    "SCC_list = []\n",
    "\n",
    "for j in range(len(year_of_perturbation)):\n",
    "    ## define perturbed temperature profile for a given year\n",
    "    T_TCRE = 0.00054  # need to check this for FAIR!\n",
    "    k_s = 0.12\n",
    "\n",
    "    T_p = np.zeros(T_forecast_length)\n",
    "    for i in range(len(T_forecast_years)):\n",
    "        if year_of_perturbation[j] <= T_forecast_years[i]:\n",
    "            T_p[i] = T_TCRE*(1-np.exp(-k_s*(T_forecast_years[i]-year_of_perturbation[j])))\n",
    "    T_forecast_perturbed = T_forecast+T_p\n",
    "    T_perturbed = np.concatenate([T_gas_df['CO2_best'],T_forecast_perturbed[1:]])\n",
    "    \n",
    "\n",
    "    g = g_2019 - g_grad*(T_forecast[:-1]-T_2019)**1\n",
    "    g_prime = g_2019 - g_grad*(T_forecast_perturbed[:-1]-T_2019)**1\n",
    "    \n",
    "\n",
    "    W = create_W(W_2019, last_historical_year, start_year, T_forecast_years, g)\n",
    "    W_prime = create_W(W_2019, last_historical_year, start_year, T_forecast_years, g_prime)\n",
    "\n",
    "    ## define discount function\n",
    "    num_of_years = len(years)\n",
    "    discount_function = np.zeros(num_of_years)\n",
    "\n",
    "    for i in range(num_of_years):\n",
    "        if years[i] >= year_of_perturbation[j]:\n",
    "            discount_function[i] = np.exp(-consumption_discount*(years[i]-year_of_perturbation[j]))\n",
    "    \n",
    "    cost = cost_of_perturbation(W, W_prime, discount_function, gamma=2, D0=0.00267)\n",
    "    SCC = cost/(10**9)\n",
    "    \n",
    "    if j == 0 and SCC > P_100:\n",
    "        print(\"P_100 achieved in first year\")\n",
    "        print(SCC)\n",
    "    elif SCC < P_100:\n",
    "        SCC_list.append(SCC)\n",
    "#         print(SCC)\n",
    "    else:\n",
    "        SCC_list.append(P_100)\n",
    "        break"
   ]
  },
  {
   "cell_type": "code",
   "execution_count": 12,
   "id": "e06f34f8",
   "metadata": {},
   "outputs": [],
   "source": [
    "SCC_array = np.asarray(SCC_list)  # convert to numpy array"
   ]
  },
  {
   "cell_type": "code",
   "execution_count": 13,
   "id": "17a234fe",
   "metadata": {
    "scrolled": true
   },
   "outputs": [
    {
     "data": {
      "text/plain": [
       "array([194.83858425, 198.56013618, 202.35304475, 206.21634125,\n",
       "       210.15371583, 214.16415701, 218.25150148, 222.41469331,\n",
       "       226.65772133, 230.97948349, 235.38412652, 239.87050052,\n",
       "       244.44291613, 249.10017376, 253.84675423, 258.68140637,\n",
       "       263.60878763, 268.62759331, 273.74266423, 278.95264011,\n",
       "       284.26255213, 289.67098231, 295.18315945, 300.79760567,\n",
       "       306.5197549 , 312.34806711, 318.28818915, 324.33851647,\n",
       "       330.50491698, 336.78571915, 343.18702033, 349.70707947,\n",
       "       356.35223216, 363.12066514, 370.01896127, 377.0452324 ,\n",
       "       384.20631806, 391.50025236, 398.93414128, 406.50593818,\n",
       "       414.22302569, 422.08327338, 430.09435101, 438.25404118,\n",
       "       446.57031173, 455.04085495, 463.67394813, 472.46718987,\n",
       "       481.42917862, 490.55741572, 499.8608331 , 500.        ])"
      ]
     },
     "execution_count": 13,
     "metadata": {},
     "output_type": "execute_result"
    }
   ],
   "source": [
    "SCC_array"
   ]
  },
  {
   "cell_type": "code",
   "execution_count": 14,
   "id": "824dda4d",
   "metadata": {},
   "outputs": [
    {
     "data": {
      "text/plain": [
       "Text(0, 0.5, 'SCC ($)')"
      ]
     },
     "execution_count": 14,
     "metadata": {},
     "output_type": "execute_result"
    },
    {
     "data": {
      "image/png": "[encoded data removed]",
      "text/plain": [
       "<Figure size 432x288 with 1 Axes>"
      ]
     },
     "metadata": {},
     "output_type": "display_data"
    }
   ],
   "source": [
    "plt.plot(year_of_perturbation[:len(SCC_array)], SCC_array)\n",
    "plt.xlabel(\"Year\")\n",
    "plt.ylabel(\"SCC ($)\")"
   ]
  },
  {
   "cell_type": "markdown",
   "id": "4527dfe3",
   "metadata": {},
   "source": [
    "### Check 100% abatement has been achieved!"
   ]
  },
  {
   "cell_type": "code",
   "execution_count": 15,
   "id": "2afc6578",
   "metadata": {},
   "outputs": [],
   "source": [
    "if SCC_array[-1] < P_100:\n",
    "    print(\"P_100 not achieved by achieved by final perturbed year\")"
   ]
  },
  {
   "cell_type": "code",
   "execution_count": 16,
   "id": "8926e6b1",
   "metadata": {},
   "outputs": [],
   "source": [
    "SCC_forecasted = []\n",
    "\n",
    "for i in range(T_forecast_length):\n",
    "    if i < len(SCC_array):\n",
    "        SCC_forecasted.append(SCC_array[i])\n",
    "    else:\n",
    "#         SCC_forecasted.append(SCC_array[-1])\n",
    "        SCC_forecasted.append(P_100)\n",
    "\n",
    "SCC_forecasted = np.array(SCC_forecasted)"
   ]
  },
  {
   "cell_type": "code",
   "execution_count": 17,
   "id": "ae6b677a",
   "metadata": {},
   "outputs": [],
   "source": [
    "# SCC_forecasted"
   ]
  },
  {
   "cell_type": "code",
   "execution_count": 18,
   "id": "ef9dcd63",
   "metadata": {},
   "outputs": [
    {
     "data": {
      "image/png": "[encoded data removed]",
      "text/plain": [
       "<Figure size 432x288 with 1 Axes>"
      ]
     },
     "metadata": {},
     "output_type": "display_data"
    }
   ],
   "source": [
    "plt.plot(T_forecast_years, SCC_forecasted)\n",
    "plt.xlabel(\"Year\")\n",
    "plt.ylabel(\"SCC ($)\")\n",
    "plt.yscale(\"log\")"
   ]
  },
  {
   "cell_type": "markdown",
   "id": "b85d4a61",
   "metadata": {},
   "source": [
    "## 3. Abatement as a function of time"
   ]
  },
  {
   "cell_type": "code",
   "execution_count": 19,
   "id": "a598428e",
   "metadata": {},
   "outputs": [],
   "source": [
    "P0 = SCC_forecasted[0]"
   ]
  },
  {
   "cell_type": "code",
   "execution_count": 20,
   "id": "0483d697",
   "metadata": {},
   "outputs": [],
   "source": [
    "# P0"
   ]
  },
  {
   "cell_type": "code",
   "execution_count": 21,
   "id": "b90c019f",
   "metadata": {
    "scrolled": true
   },
   "outputs": [
    {
     "name": "stderr",
     "output_type": "stream",
     "text": [
      "/var/folders/m4/mbpwp5q15070t8lqj4fj7mjr0000gn/T/ipykernel_73238/3915375078.py:44: RuntimeWarning: divide by zero encountered in power\n",
      "  A = Am / (1 + ((P - P0) / (P_h - P0)) ** (-s / r))\n"
     ]
    }
   ],
   "source": [
    "forecasted_abatement = abatement(P=SCC_forecasted-(P0-P0_prime), P0=P0_prime)  # , r=consumption_discount"
   ]
  },
  {
   "cell_type": "code",
   "execution_count": 22,
   "id": "0ebe8a6d",
   "metadata": {},
   "outputs": [
    {
     "data": {
      "text/plain": [
       "array([0.00000000e+00, 4.61247514e-04, 2.66636863e-03, 7.48579331e-03,\n",
       "       1.56088323e-02, 2.75833183e-02, 4.38254285e-02, 6.45670206e-02,\n",
       "       8.98743729e-02, 1.19586482e-01, 1.53380304e-01, 1.90719259e-01,\n",
       "       2.30970895e-01, 2.73363445e-01, 3.17135147e-01, 3.61481781e-01,\n",
       "       4.05706025e-01, 4.49141922e-01, 4.91282641e-01, 5.31682702e-01,\n",
       "       5.70059590e-01, 6.06185960e-01, 6.39970804e-01, 6.71355169e-01,\n",
       "       7.00380008e-01, 7.27093982e-01, 7.51612513e-01, 7.74040668e-01,\n",
       "       7.94525343e-01, 8.13192631e-01, 8.30193741e-01, 8.45654732e-01,\n",
       "       8.59716422e-01, 8.72494091e-01, 8.84111708e-01, 8.94669492e-01,\n",
       "       9.04272946e-01, 9.13006562e-01, 9.20958274e-01, 9.28197976e-01,\n",
       "       9.34798026e-01, 9.40815582e-01, 9.46309742e-01, 9.51326933e-01,\n",
       "       9.55915239e-01, 9.60112239e-01, 9.63957005e-01, 9.67479915e-01,\n",
       "       9.70712726e-01, 9.73680008e-01, 9.76407609e-01, 9.76446328e-01,\n",
       "       9.76446328e-01, 9.76446328e-01, 9.76446328e-01, 9.76446328e-01,\n",
       "       9.76446328e-01, 9.76446328e-01, 9.76446328e-01, 9.76446328e-01,\n",
       "       9.76446328e-01, 9.76446328e-01, 9.76446328e-01, 9.76446328e-01,\n",
       "       9.76446328e-01, 9.76446328e-01, 9.76446328e-01, 9.76446328e-01,\n",
       "       9.76446328e-01, 9.76446328e-01, 9.76446328e-01, 9.76446328e-01,\n",
       "       9.76446328e-01, 9.76446328e-01, 9.76446328e-01, 9.76446328e-01,\n",
       "       9.76446328e-01, 9.76446328e-01, 9.76446328e-01, 9.76446328e-01,\n",
       "       9.76446328e-01, 9.76446328e-01, 9.76446328e-01, 9.76446328e-01,\n",
       "       9.76446328e-01, 9.76446328e-01, 9.76446328e-01, 9.76446328e-01,\n",
       "       9.76446328e-01, 9.76446328e-01, 9.76446328e-01, 9.76446328e-01,\n",
       "       9.76446328e-01, 9.76446328e-01, 9.76446328e-01, 9.76446328e-01,\n",
       "       9.76446328e-01, 9.76446328e-01, 9.76446328e-01, 9.76446328e-01,\n",
       "       9.76446328e-01, 9.76446328e-01, 9.76446328e-01, 9.76446328e-01,\n",
       "       9.76446328e-01, 9.76446328e-01, 9.76446328e-01, 9.76446328e-01,\n",
       "       9.76446328e-01, 9.76446328e-01, 9.76446328e-01, 9.76446328e-01,\n",
       "       9.76446328e-01, 9.76446328e-01, 9.76446328e-01, 9.76446328e-01,\n",
       "       9.76446328e-01, 9.76446328e-01, 9.76446328e-01, 9.76446328e-01,\n",
       "       9.76446328e-01, 9.76446328e-01, 9.76446328e-01, 9.76446328e-01,\n",
       "       9.76446328e-01, 9.76446328e-01, 9.76446328e-01, 9.76446328e-01,\n",
       "       9.76446328e-01, 9.76446328e-01, 9.76446328e-01, 9.76446328e-01,\n",
       "       9.76446328e-01, 9.76446328e-01, 9.76446328e-01, 9.76446328e-01,\n",
       "       9.76446328e-01, 9.76446328e-01, 9.76446328e-01, 9.76446328e-01,\n",
       "       9.76446328e-01, 9.76446328e-01, 9.76446328e-01, 9.76446328e-01,\n",
       "       9.76446328e-01, 9.76446328e-01, 9.76446328e-01, 9.76446328e-01,\n",
       "       9.76446328e-01, 9.76446328e-01, 9.76446328e-01, 9.76446328e-01,\n",
       "       9.76446328e-01, 9.76446328e-01, 9.76446328e-01, 9.76446328e-01,\n",
       "       9.76446328e-01, 9.76446328e-01, 9.76446328e-01, 9.76446328e-01,\n",
       "       9.76446328e-01, 9.76446328e-01, 9.76446328e-01, 9.76446328e-01,\n",
       "       9.76446328e-01, 9.76446328e-01, 9.76446328e-01, 9.76446328e-01,\n",
       "       9.76446328e-01, 9.76446328e-01, 9.76446328e-01, 9.76446328e-01,\n",
       "       9.76446328e-01, 9.76446328e-01, 9.76446328e-01, 9.76446328e-01,\n",
       "       9.76446328e-01, 9.76446328e-01, 9.76446328e-01, 9.76446328e-01,\n",
       "       9.76446328e-01, 9.76446328e-01, 9.76446328e-01, 9.76446328e-01,\n",
       "       9.76446328e-01, 9.76446328e-01, 9.76446328e-01, 9.76446328e-01,\n",
       "       9.76446328e-01, 9.76446328e-01, 9.76446328e-01, 9.76446328e-01,\n",
       "       9.76446328e-01, 9.76446328e-01, 9.76446328e-01, 9.76446328e-01,\n",
       "       9.76446328e-01, 9.76446328e-01, 9.76446328e-01, 9.76446328e-01,\n",
       "       9.76446328e-01, 9.76446328e-01, 9.76446328e-01, 9.76446328e-01,\n",
       "       9.76446328e-01, 9.76446328e-01, 9.76446328e-01, 9.76446328e-01,\n",
       "       9.76446328e-01, 9.76446328e-01, 9.76446328e-01, 9.76446328e-01,\n",
       "       9.76446328e-01, 9.76446328e-01, 9.76446328e-01, 9.76446328e-01,\n",
       "       9.76446328e-01, 9.76446328e-01, 9.76446328e-01, 9.76446328e-01,\n",
       "       9.76446328e-01, 9.76446328e-01, 9.76446328e-01, 9.76446328e-01,\n",
       "       9.76446328e-01, 9.76446328e-01, 9.76446328e-01, 9.76446328e-01,\n",
       "       9.76446328e-01, 9.76446328e-01, 9.76446328e-01, 9.76446328e-01,\n",
       "       9.76446328e-01, 9.76446328e-01, 9.76446328e-01, 9.76446328e-01,\n",
       "       9.76446328e-01, 9.76446328e-01, 9.76446328e-01, 9.76446328e-01,\n",
       "       9.76446328e-01, 9.76446328e-01, 9.76446328e-01, 9.76446328e-01,\n",
       "       9.76446328e-01, 9.76446328e-01, 9.76446328e-01, 9.76446328e-01,\n",
       "       9.76446328e-01, 9.76446328e-01, 9.76446328e-01, 9.76446328e-01,\n",
       "       9.76446328e-01, 9.76446328e-01, 9.76446328e-01, 9.76446328e-01,\n",
       "       9.76446328e-01, 9.76446328e-01, 9.76446328e-01, 9.76446328e-01,\n",
       "       9.76446328e-01, 9.76446328e-01, 9.76446328e-01, 9.76446328e-01,\n",
       "       9.76446328e-01, 9.76446328e-01, 9.76446328e-01, 9.76446328e-01,\n",
       "       9.76446328e-01, 9.76446328e-01, 9.76446328e-01, 9.76446328e-01,\n",
       "       9.76446328e-01, 9.76446328e-01, 9.76446328e-01, 9.76446328e-01,\n",
       "       9.76446328e-01, 9.76446328e-01, 9.76446328e-01, 9.76446328e-01,\n",
       "       9.76446328e-01, 9.76446328e-01, 9.76446328e-01, 9.76446328e-01,\n",
       "       9.76446328e-01, 9.76446328e-01, 9.76446328e-01, 9.76446328e-01,\n",
       "       9.76446328e-01, 9.76446328e-01, 9.76446328e-01, 9.76446328e-01,\n",
       "       9.76446328e-01, 9.76446328e-01, 9.76446328e-01, 9.76446328e-01,\n",
       "       9.76446328e-01, 9.76446328e-01, 9.76446328e-01, 9.76446328e-01,\n",
       "       9.76446328e-01, 9.76446328e-01, 9.76446328e-01, 9.76446328e-01,\n",
       "       9.76446328e-01, 9.76446328e-01, 9.76446328e-01, 9.76446328e-01,\n",
       "       9.76446328e-01, 9.76446328e-01, 9.76446328e-01, 9.76446328e-01,\n",
       "       9.76446328e-01, 9.76446328e-01, 9.76446328e-01, 9.76446328e-01,\n",
       "       9.76446328e-01, 9.76446328e-01, 9.76446328e-01, 9.76446328e-01,\n",
       "       9.76446328e-01, 9.76446328e-01, 9.76446328e-01, 9.76446328e-01,\n",
       "       9.76446328e-01, 9.76446328e-01, 9.76446328e-01, 9.76446328e-01,\n",
       "       9.76446328e-01, 9.76446328e-01, 9.76446328e-01, 9.76446328e-01,\n",
       "       9.76446328e-01, 9.76446328e-01, 9.76446328e-01, 9.76446328e-01,\n",
       "       9.76446328e-01, 9.76446328e-01, 9.76446328e-01, 9.76446328e-01,\n",
       "       9.76446328e-01, 9.76446328e-01, 9.76446328e-01, 9.76446328e-01,\n",
       "       9.76446328e-01, 9.76446328e-01, 9.76446328e-01, 9.76446328e-01,\n",
       "       9.76446328e-01, 9.76446328e-01, 9.76446328e-01, 9.76446328e-01,\n",
       "       9.76446328e-01, 9.76446328e-01, 9.76446328e-01, 9.76446328e-01,\n",
       "       9.76446328e-01, 9.76446328e-01, 9.76446328e-01, 9.76446328e-01,\n",
       "       9.76446328e-01, 9.76446328e-01, 9.76446328e-01, 9.76446328e-01,\n",
       "       9.76446328e-01, 9.76446328e-01, 9.76446328e-01, 9.76446328e-01,\n",
       "       9.76446328e-01, 9.76446328e-01, 9.76446328e-01, 9.76446328e-01,\n",
       "       9.76446328e-01, 9.76446328e-01, 9.76446328e-01, 9.76446328e-01,\n",
       "       9.76446328e-01, 9.76446328e-01, 9.76446328e-01, 9.76446328e-01,\n",
       "       9.76446328e-01, 9.76446328e-01, 9.76446328e-01, 9.76446328e-01,\n",
       "       9.76446328e-01, 9.76446328e-01, 9.76446328e-01, 9.76446328e-01,\n",
       "       9.76446328e-01, 9.76446328e-01, 9.76446328e-01, 9.76446328e-01,\n",
       "       9.76446328e-01, 9.76446328e-01, 9.76446328e-01, 9.76446328e-01,\n",
       "       9.76446328e-01, 9.76446328e-01, 9.76446328e-01, 9.76446328e-01,\n",
       "       9.76446328e-01, 9.76446328e-01, 9.76446328e-01, 9.76446328e-01,\n",
       "       9.76446328e-01, 9.76446328e-01, 9.76446328e-01, 9.76446328e-01,\n",
       "       9.76446328e-01, 9.76446328e-01, 9.76446328e-01, 9.76446328e-01,\n",
       "       9.76446328e-01, 9.76446328e-01, 9.76446328e-01, 9.76446328e-01,\n",
       "       9.76446328e-01, 9.76446328e-01, 9.76446328e-01, 9.76446328e-01,\n",
       "       9.76446328e-01, 9.76446328e-01, 9.76446328e-01, 9.76446328e-01,\n",
       "       9.76446328e-01, 9.76446328e-01, 9.76446328e-01, 9.76446328e-01,\n",
       "       9.76446328e-01, 9.76446328e-01, 9.76446328e-01, 9.76446328e-01,\n",
       "       9.76446328e-01, 9.76446328e-01, 9.76446328e-01, 9.76446328e-01,\n",
       "       9.76446328e-01, 9.76446328e-01, 9.76446328e-01, 9.76446328e-01,\n",
       "       9.76446328e-01, 9.76446328e-01, 9.76446328e-01, 9.76446328e-01,\n",
       "       9.76446328e-01, 9.76446328e-01, 9.76446328e-01, 9.76446328e-01,\n",
       "       9.76446328e-01, 9.76446328e-01, 9.76446328e-01, 9.76446328e-01,\n",
       "       9.76446328e-01, 9.76446328e-01, 9.76446328e-01, 9.76446328e-01,\n",
       "       9.76446328e-01, 9.76446328e-01, 9.76446328e-01, 9.76446328e-01,\n",
       "       9.76446328e-01, 9.76446328e-01, 9.76446328e-01, 9.76446328e-01,\n",
       "       9.76446328e-01, 9.76446328e-01, 9.76446328e-01, 9.76446328e-01,\n",
       "       9.76446328e-01, 9.76446328e-01, 9.76446328e-01, 9.76446328e-01,\n",
       "       9.76446328e-01, 9.76446328e-01, 9.76446328e-01, 9.76446328e-01,\n",
       "       9.76446328e-01, 9.76446328e-01, 9.76446328e-01, 9.76446328e-01,\n",
       "       9.76446328e-01, 9.76446328e-01, 9.76446328e-01, 9.76446328e-01,\n",
       "       9.76446328e-01, 9.76446328e-01, 9.76446328e-01, 9.76446328e-01,\n",
       "       9.76446328e-01, 9.76446328e-01, 9.76446328e-01, 9.76446328e-01,\n",
       "       9.76446328e-01, 9.76446328e-01, 9.76446328e-01, 9.76446328e-01,\n",
       "       9.76446328e-01, 9.76446328e-01, 9.76446328e-01, 9.76446328e-01,\n",
       "       9.76446328e-01, 9.76446328e-01, 9.76446328e-01, 9.76446328e-01,\n",
       "       9.76446328e-01, 9.76446328e-01, 9.76446328e-01, 9.76446328e-01,\n",
       "       9.76446328e-01, 9.76446328e-01, 9.76446328e-01, 9.76446328e-01,\n",
       "       9.76446328e-01, 9.76446328e-01, 9.76446328e-01, 9.76446328e-01,\n",
       "       9.76446328e-01, 9.76446328e-01, 9.76446328e-01, 9.76446328e-01,\n",
       "       9.76446328e-01, 9.76446328e-01, 9.76446328e-01, 9.76446328e-01,\n",
       "       9.76446328e-01, 9.76446328e-01, 9.76446328e-01, 9.76446328e-01,\n",
       "       9.76446328e-01, 9.76446328e-01, 9.76446328e-01, 9.76446328e-01,\n",
       "       9.76446328e-01, 9.76446328e-01, 9.76446328e-01, 9.76446328e-01,\n",
       "       9.76446328e-01, 9.76446328e-01, 9.76446328e-01, 9.76446328e-01,\n",
       "       9.76446328e-01, 9.76446328e-01, 9.76446328e-01, 9.76446328e-01,\n",
       "       9.76446328e-01, 9.76446328e-01, 9.76446328e-01, 9.76446328e-01,\n",
       "       9.76446328e-01, 9.76446328e-01, 9.76446328e-01, 9.76446328e-01,\n",
       "       9.76446328e-01, 9.76446328e-01, 9.76446328e-01, 9.76446328e-01,\n",
       "       9.76446328e-01, 9.76446328e-01, 9.76446328e-01, 9.76446328e-01,\n",
       "       9.76446328e-01, 9.76446328e-01, 9.76446328e-01, 9.76446328e-01,\n",
       "       9.76446328e-01, 9.76446328e-01, 9.76446328e-01, 9.76446328e-01,\n",
       "       9.76446328e-01, 9.76446328e-01, 9.76446328e-01, 9.76446328e-01,\n",
       "       9.76446328e-01, 9.76446328e-01, 9.76446328e-01, 9.76446328e-01,\n",
       "       9.76446328e-01, 9.76446328e-01, 9.76446328e-01, 9.76446328e-01,\n",
       "       9.76446328e-01, 9.76446328e-01, 9.76446328e-01, 9.76446328e-01,\n",
       "       9.76446328e-01, 9.76446328e-01, 9.76446328e-01, 9.76446328e-01,\n",
       "       9.76446328e-01, 9.76446328e-01, 9.76446328e-01, 9.76446328e-01,\n",
       "       9.76446328e-01, 9.76446328e-01, 9.76446328e-01, 9.76446328e-01,\n",
       "       9.76446328e-01, 9.76446328e-01, 9.76446328e-01, 9.76446328e-01,\n",
       "       9.76446328e-01, 9.76446328e-01, 9.76446328e-01, 9.76446328e-01,\n",
       "       9.76446328e-01, 9.76446328e-01, 9.76446328e-01, 9.76446328e-01,\n",
       "       9.76446328e-01, 9.76446328e-01, 9.76446328e-01, 9.76446328e-01,\n",
       "       9.76446328e-01, 9.76446328e-01, 9.76446328e-01, 9.76446328e-01,\n",
       "       9.76446328e-01, 9.76446328e-01, 9.76446328e-01, 9.76446328e-01,\n",
       "       9.76446328e-01, 9.76446328e-01, 9.76446328e-01, 9.76446328e-01,\n",
       "       9.76446328e-01, 9.76446328e-01, 9.76446328e-01, 9.76446328e-01,\n",
       "       9.76446328e-01, 9.76446328e-01, 9.76446328e-01, 9.76446328e-01,\n",
       "       9.76446328e-01, 9.76446328e-01, 9.76446328e-01, 9.76446328e-01,\n",
       "       9.76446328e-01, 9.76446328e-01, 9.76446328e-01, 9.76446328e-01,\n",
       "       9.76446328e-01, 9.76446328e-01, 9.76446328e-01, 9.76446328e-01,\n",
       "       9.76446328e-01, 9.76446328e-01, 9.76446328e-01, 9.76446328e-01,\n",
       "       9.76446328e-01, 9.76446328e-01, 9.76446328e-01, 9.76446328e-01,\n",
       "       9.76446328e-01, 9.76446328e-01, 9.76446328e-01, 9.76446328e-01,\n",
       "       9.76446328e-01, 9.76446328e-01, 9.76446328e-01, 9.76446328e-01,\n",
       "       9.76446328e-01, 9.76446328e-01, 9.76446328e-01, 9.76446328e-01,\n",
       "       9.76446328e-01, 9.76446328e-01, 9.76446328e-01, 9.76446328e-01,\n",
       "       9.76446328e-01, 9.76446328e-01, 9.76446328e-01, 9.76446328e-01,\n",
       "       9.76446328e-01, 9.76446328e-01, 9.76446328e-01, 9.76446328e-01,\n",
       "       9.76446328e-01, 9.76446328e-01, 9.76446328e-01, 9.76446328e-01,\n",
       "       9.76446328e-01, 9.76446328e-01, 9.76446328e-01, 9.76446328e-01,\n",
       "       9.76446328e-01, 9.76446328e-01, 9.76446328e-01, 9.76446328e-01,\n",
       "       9.76446328e-01, 9.76446328e-01, 9.76446328e-01, 9.76446328e-01,\n",
       "       9.76446328e-01, 9.76446328e-01, 9.76446328e-01, 9.76446328e-01,\n",
       "       9.76446328e-01, 9.76446328e-01, 9.76446328e-01, 9.76446328e-01,\n",
       "       9.76446328e-01, 9.76446328e-01, 9.76446328e-01, 9.76446328e-01,\n",
       "       9.76446328e-01, 9.76446328e-01, 9.76446328e-01, 9.76446328e-01,\n",
       "       9.76446328e-01, 9.76446328e-01, 9.76446328e-01, 9.76446328e-01,\n",
       "       9.76446328e-01, 9.76446328e-01, 9.76446328e-01, 9.76446328e-01,\n",
       "       9.76446328e-01, 9.76446328e-01, 9.76446328e-01, 9.76446328e-01,\n",
       "       9.76446328e-01, 9.76446328e-01, 9.76446328e-01, 9.76446328e-01,\n",
       "       9.76446328e-01, 9.76446328e-01, 9.76446328e-01, 9.76446328e-01,\n",
       "       9.76446328e-01, 9.76446328e-01, 9.76446328e-01, 9.76446328e-01,\n",
       "       9.76446328e-01, 9.76446328e-01, 9.76446328e-01, 9.76446328e-01,\n",
       "       9.76446328e-01, 9.76446328e-01, 9.76446328e-01, 9.76446328e-01,\n",
       "       9.76446328e-01, 9.76446328e-01, 9.76446328e-01, 9.76446328e-01,\n",
       "       9.76446328e-01, 9.76446328e-01, 9.76446328e-01, 9.76446328e-01,\n",
       "       9.76446328e-01, 9.76446328e-01, 9.76446328e-01, 9.76446328e-01,\n",
       "       9.76446328e-01, 9.76446328e-01, 9.76446328e-01, 9.76446328e-01,\n",
       "       9.76446328e-01, 9.76446328e-01, 9.76446328e-01, 9.76446328e-01,\n",
       "       9.76446328e-01, 9.76446328e-01, 9.76446328e-01, 9.76446328e-01,\n",
       "       9.76446328e-01, 9.76446328e-01, 9.76446328e-01, 9.76446328e-01,\n",
       "       9.76446328e-01, 9.76446328e-01, 9.76446328e-01, 9.76446328e-01,\n",
       "       9.76446328e-01, 9.76446328e-01, 9.76446328e-01, 9.76446328e-01,\n",
       "       9.76446328e-01, 9.76446328e-01, 9.76446328e-01, 9.76446328e-01,\n",
       "       9.76446328e-01, 9.76446328e-01, 9.76446328e-01, 9.76446328e-01,\n",
       "       9.76446328e-01, 9.76446328e-01, 9.76446328e-01, 9.76446328e-01,\n",
       "       9.76446328e-01, 9.76446328e-01, 9.76446328e-01, 9.76446328e-01,\n",
       "       9.76446328e-01, 9.76446328e-01, 9.76446328e-01, 9.76446328e-01,\n",
       "       9.76446328e-01, 9.76446328e-01, 9.76446328e-01, 9.76446328e-01,\n",
       "       9.76446328e-01, 9.76446328e-01, 9.76446328e-01, 9.76446328e-01,\n",
       "       9.76446328e-01, 9.76446328e-01, 9.76446328e-01, 9.76446328e-01,\n",
       "       9.76446328e-01, 9.76446328e-01, 9.76446328e-01, 9.76446328e-01,\n",
       "       9.76446328e-01, 9.76446328e-01, 9.76446328e-01, 9.76446328e-01,\n",
       "       9.76446328e-01, 9.76446328e-01, 9.76446328e-01, 9.76446328e-01,\n",
       "       9.76446328e-01, 9.76446328e-01, 9.76446328e-01, 9.76446328e-01,\n",
       "       9.76446328e-01, 9.76446328e-01, 9.76446328e-01, 9.76446328e-01,\n",
       "       9.76446328e-01, 9.76446328e-01, 9.76446328e-01, 9.76446328e-01,\n",
       "       9.76446328e-01, 9.76446328e-01, 9.76446328e-01, 9.76446328e-01,\n",
       "       9.76446328e-01, 9.76446328e-01, 9.76446328e-01, 9.76446328e-01,\n",
       "       9.76446328e-01, 9.76446328e-01, 9.76446328e-01, 9.76446328e-01,\n",
       "       9.76446328e-01, 9.76446328e-01, 9.76446328e-01, 9.76446328e-01,\n",
       "       9.76446328e-01, 9.76446328e-01, 9.76446328e-01, 9.76446328e-01,\n",
       "       9.76446328e-01, 9.76446328e-01, 9.76446328e-01, 9.76446328e-01,\n",
       "       9.76446328e-01, 9.76446328e-01, 9.76446328e-01, 9.76446328e-01,\n",
       "       9.76446328e-01, 9.76446328e-01, 9.76446328e-01, 9.76446328e-01,\n",
       "       9.76446328e-01, 9.76446328e-01, 9.76446328e-01, 9.76446328e-01,\n",
       "       9.76446328e-01, 9.76446328e-01, 9.76446328e-01, 9.76446328e-01,\n",
       "       9.76446328e-01, 9.76446328e-01, 9.76446328e-01, 9.76446328e-01,\n",
       "       9.76446328e-01, 9.76446328e-01, 9.76446328e-01, 9.76446328e-01,\n",
       "       9.76446328e-01, 9.76446328e-01, 9.76446328e-01, 9.76446328e-01,\n",
       "       9.76446328e-01, 9.76446328e-01, 9.76446328e-01, 9.76446328e-01,\n",
       "       9.76446328e-01, 9.76446328e-01, 9.76446328e-01, 9.76446328e-01,\n",
       "       9.76446328e-01, 9.76446328e-01, 9.76446328e-01, 9.76446328e-01,\n",
       "       9.76446328e-01, 9.76446328e-01, 9.76446328e-01, 9.76446328e-01,\n",
       "       9.76446328e-01, 9.76446328e-01, 9.76446328e-01, 9.76446328e-01,\n",
       "       9.76446328e-01, 9.76446328e-01, 9.76446328e-01, 9.76446328e-01,\n",
       "       9.76446328e-01, 9.76446328e-01, 9.76446328e-01, 9.76446328e-01,\n",
       "       9.76446328e-01, 9.76446328e-01, 9.76446328e-01, 9.76446328e-01,\n",
       "       9.76446328e-01, 9.76446328e-01, 9.76446328e-01, 9.76446328e-01,\n",
       "       9.76446328e-01, 9.76446328e-01, 9.76446328e-01, 9.76446328e-01,\n",
       "       9.76446328e-01, 9.76446328e-01, 9.76446328e-01, 9.76446328e-01,\n",
       "       9.76446328e-01, 9.76446328e-01, 9.76446328e-01, 9.76446328e-01,\n",
       "       9.76446328e-01, 9.76446328e-01, 9.76446328e-01, 9.76446328e-01,\n",
       "       9.76446328e-01, 9.76446328e-01, 9.76446328e-01, 9.76446328e-01,\n",
       "       9.76446328e-01, 9.76446328e-01, 9.76446328e-01, 9.76446328e-01,\n",
       "       9.76446328e-01, 9.76446328e-01, 9.76446328e-01, 9.76446328e-01,\n",
       "       9.76446328e-01, 9.76446328e-01, 9.76446328e-01, 9.76446328e-01,\n",
       "       9.76446328e-01, 9.76446328e-01, 9.76446328e-01, 9.76446328e-01,\n",
       "       9.76446328e-01, 9.76446328e-01, 9.76446328e-01, 9.76446328e-01,\n",
       "       9.76446328e-01, 9.76446328e-01, 9.76446328e-01, 9.76446328e-01,\n",
       "       9.76446328e-01, 9.76446328e-01, 9.76446328e-01, 9.76446328e-01,\n",
       "       9.76446328e-01, 9.76446328e-01, 9.76446328e-01, 9.76446328e-01,\n",
       "       9.76446328e-01, 9.76446328e-01, 9.76446328e-01, 9.76446328e-01,\n",
       "       9.76446328e-01, 9.76446328e-01, 9.76446328e-01, 9.76446328e-01,\n",
       "       9.76446328e-01, 9.76446328e-01])"
      ]
     },
     "execution_count": 22,
     "metadata": {},
     "output_type": "execute_result"
    }
   ],
   "source": [
    "forecasted_abatement"
   ]
  },
  {
   "cell_type": "markdown",
   "id": "ce23d485",
   "metadata": {},
   "source": [
    "problems with certain values due to constraints of the model"
   ]
  },
  {
   "cell_type": "code",
   "execution_count": 39,
   "id": "742752dd",
   "metadata": {},
   "outputs": [
    {
     "data": {
      "text/plain": [
       "88.18163074019441"
      ]
     },
     "execution_count": 39,
     "metadata": {},
     "output_type": "execute_result"
    }
   ],
   "source": [
    "((P_100-P0)/(P_50-P0))**(s/r)"
   ]
  },
  {
   "cell_type": "code",
   "execution_count": 24,
   "id": "74f04839",
   "metadata": {},
   "outputs": [
    {
     "data": {
      "text/plain": [
       "Text(0, 0.5, 'Abatement')"
      ]
     },
     "execution_count": 24,
     "metadata": {},
     "output_type": "execute_result"
    },
    {
     "data": {
      "image/png": "[encoded data removed]",
      "text/plain": [
       "<Figure size 432x288 with 1 Axes>"
      ]
     },
     "metadata": {},
     "output_type": "display_data"
    }
   ],
   "source": [
    "plt.plot(T_forecast_years, forecasted_abatement)\n",
    "plt.xlabel(\"Year\")\n",
    "plt.ylabel(\"Abatement\")"
   ]
  },
  {
   "cell_type": "markdown",
   "id": "351acbf6",
   "metadata": {},
   "source": [
    "## 4. Abatement to emissions"
   ]
  },
  {
   "cell_type": "code",
   "execution_count": 25,
   "id": "fc4b70e0",
   "metadata": {},
   "outputs": [],
   "source": [
    "ssp_df = pd.read_csv(\"ssp245.csv\", index_col=0)"
   ]
  },
  {
   "cell_type": "code",
   "execution_count": 26,
   "id": "9931f49d",
   "metadata": {},
   "outputs": [],
   "source": [
    "ssp245_CO2_past = ssp_df[\"carbon_dioxide\"]*(44/12)  "
   ]
  },
  {
   "cell_type": "code",
   "execution_count": 27,
   "id": "517f8ae9",
   "metadata": {},
   "outputs": [],
   "source": [
    "CO2_baseline = ssp245_CO2_past[2019] # set baseline to current emissions"
   ]
  },
  {
   "cell_type": "code",
   "execution_count": 28,
   "id": "d5b39b78",
   "metadata": {},
   "outputs": [],
   "source": [
    "forecasted_emissions = abatement_to_emissions(forecasted_abatement, CO2_baseline)"
   ]
  },
  {
   "cell_type": "code",
   "execution_count": 29,
   "id": "3836f4ce",
   "metadata": {},
   "outputs": [
    {
     "data": {
      "text/plain": [
       "<matplotlib.legend.Legend at 0x7fe0fbf89cd0>"
      ]
     },
     "execution_count": 29,
     "metadata": {},
     "output_type": "execute_result"
    },
    {
     "data": {
      "image/png": "[encoded data removed]",
      "text/plain": [
       "<Figure size 432x288 with 1 Axes>"
      ]
     },
     "metadata": {},
     "output_type": "display_data"
    }
   ],
   "source": [
    "plt.plot(ssp245_CO2_past, label=\"historical emissions\")\n",
    "plt.plot(T_forecast_years, forecasted_emissions, label=\"forecasted emissions\")\n",
    "plt.xlabel(\"Year\")\n",
    "plt.ylabel(\"CO2 Emissions / GtCO2\")\n",
    "plt.legend()"
   ]
  },
  {
   "cell_type": "markdown",
   "id": "3a514bf1",
   "metadata": {},
   "source": [
    "## 5. Cumulative Emissions to Temperature Change"
   ]
  },
  {
   "cell_type": "code",
   "execution_count": 30,
   "id": "73bf2aa6",
   "metadata": {},
   "outputs": [],
   "source": [
    "cumulative_emissions_array = np.append(np.zeros(1), np.cumsum(forecasted_emissions)[:-1])"
   ]
  },
  {
   "cell_type": "code",
   "execution_count": 31,
   "id": "0ea3fb64",
   "metadata": {},
   "outputs": [],
   "source": [
    "temperature_change = T_TCRE*cumulative_emissions_array"
   ]
  },
  {
   "cell_type": "code",
   "execution_count": 32,
   "id": "098a473c",
   "metadata": {},
   "outputs": [],
   "source": [
    "T_forecast_iteration0 = T_2019 + temperature_change\n",
    "# T_forecast_iteration0_plateau = T_2019 + temperature_change_plateau"
   ]
  },
  {
   "cell_type": "code",
   "execution_count": 33,
   "id": "2d4905dc",
   "metadata": {},
   "outputs": [
    {
     "data": {
      "text/plain": [
       "<matplotlib.legend.Legend at 0x7fe0fc2e13a0>"
      ]
     },
     "execution_count": 33,
     "metadata": {},
     "output_type": "execute_result"
    },
    {
     "data": {
      "image/png": "[encoded data removed]",
      "text/plain": [
       "<Figure size 432x288 with 1 Axes>"
      ]
     },
     "metadata": {},
     "output_type": "display_data"
    }
   ],
   "source": [
    "plt.plot(T_forecast_years, T_forecast, label=\"initial guess\")\n",
    "plt.plot(T_forecast_years, T_forecast_iteration0, label=\"iteration 0\")\n",
    "# plt.plot(T_forecast_years, T_forecast_iteration0_plateau, label=\"iteration 0 plateau\")\n",
    "plt.xlabel(\"year\")\n",
    "plt.ylabel(\"temperature / K\")\n",
    "plt.legend()"
   ]
  },
  {
   "cell_type": "markdown",
   "id": "5caeb893",
   "metadata": {},
   "source": [
    "# Iterating Further"
   ]
  },
  {
   "cell_type": "code",
   "execution_count": 34,
   "id": "d69d4920",
   "metadata": {},
   "outputs": [],
   "source": [
    "# T_forecast_first_loop = T_forecast_iteration0_plateau\n",
    "# T_forecast_iteration = T_forecast_iteration0_plateau"
   ]
  },
  {
   "cell_type": "code",
   "execution_count": 35,
   "id": "d6664051",
   "metadata": {},
   "outputs": [],
   "source": [
    "T_forecast_first_loop = T_forecast_iteration0\n",
    "T_forecast_iteration = T_forecast_iteration0"
   ]
  },
  {
   "cell_type": "code",
   "execution_count": 36,
   "id": "0bdc0913",
   "metadata": {},
   "outputs": [
    {
     "name": "stderr",
     "output_type": "stream",
     "text": [
      "/var/folders/m4/mbpwp5q15070t8lqj4fj7mjr0000gn/T/ipykernel_73238/3915375078.py:44: RuntimeWarning: divide by zero encountered in power\n",
      "  A = Am / (1 + ((P - P0) / (P_h - P0)) ** (-s / r))\n"
     ]
    },
    {
     "name": "stdout",
     "output_type": "stream",
     "text": [
      "1\n"
     ]
    },
    {
     "name": "stderr",
     "output_type": "stream",
     "text": [
      "/var/folders/m4/mbpwp5q15070t8lqj4fj7mjr0000gn/T/ipykernel_73238/3915375078.py:44: RuntimeWarning: divide by zero encountered in power\n",
      "  A = Am / (1 + ((P - P0) / (P_h - P0)) ** (-s / r))\n"
     ]
    },
    {
     "data": {
      "text/plain": [
       "<matplotlib.legend.Legend at 0x7fe0fc344c70>"
      ]
     },
     "execution_count": 36,
     "metadata": {},
     "output_type": "execute_result"
    },
    {
     "data": {
      "image/png": "[encoded data removed]",
      "text/plain": [
       "<Figure size 432x288 with 1 Axes>"
      ]
     },
     "metadata": {},
     "output_type": "display_data"
    }
   ],
   "source": [
    "num_of_iterations = 99\n",
    "\n",
    "first_perturbed_year = last_historical_year\n",
    "\n",
    "year_of_perturbation = np.arange(first_perturbed_year, last_perturbed_year+1)\n",
    "\n",
    "plt.plot(T_forecast_years, T_forecast, label=\"initial guess\")\n",
    "plt.plot(T_forecast_years, T_forecast_first_loop, label=\"iteration 0\")\n",
    "\n",
    "for k in range(num_of_iterations):\n",
    "    T_iteration = np.concatenate([T_gas_df['CO2_best'],T_forecast_iteration[1:]])\n",
    "\n",
    "    SCC_list = []\n",
    "\n",
    "    for j in range(len(year_of_perturbation)):\n",
    "        ## define perturbation\n",
    "        T_TCRE = 0.00054  # need to check this! *100 for 100GtCO2 added\n",
    "        k_s = 0.12\n",
    "\n",
    "        T_p = np.zeros(T_forecast_length)\n",
    "\n",
    "        for i in range(len(T_forecast_years)):\n",
    "            if year_of_perturbation[j] <= T_forecast_years[i]:\n",
    "                T_p[i] = T_TCRE*(1-np.exp(-k_s*(T_forecast_years[i]-year_of_perturbation[j])))\n",
    "\n",
    "        T_forecast_perturbed = T_forecast_iteration+T_p\n",
    "\n",
    "        T_perturbed = np.concatenate([T_gas_df['CO2_best'],T_forecast_perturbed[1:]])\n",
    "\n",
    "        g = g_2019 - g_grad*(T_forecast_iteration[:-1]-T_2019)**1\n",
    "        g_prime = g_2019 - g_grad*(T_forecast_perturbed[:-1]-T_2019)**1\n",
    "        \n",
    "        \n",
    "        W = create_W(W_2019, last_historical_year, start_year, T_forecast_years, g)\n",
    "        W_prime = create_W(W_2019, last_historical_year, start_year, T_forecast_years, g_prime)\n",
    "\n",
    "        ## define discount function\n",
    "        num_of_years = len(years)\n",
    "\n",
    "        discount_function = np.zeros(num_of_years)\n",
    "\n",
    "        for i in range(num_of_years):\n",
    "            if years[i] >= year_of_perturbation[j]:\n",
    "                discount_function[i] = np.exp(-consumption_discount*(years[i]-year_of_perturbation[j]))\n",
    "\n",
    "        absolute_consumption_loss = W-W_prime\n",
    "        discounted_consumption_loss = absolute_consumption_loss*discount_function\n",
    "        area = simps(discounted_consumption_loss, dx=1)\n",
    "        cost = area*10**12  # convert to dollar amount\n",
    "        \n",
    "        SCC = cost/(10**9)\n",
    "        \n",
    "        if SCC < P_100:\n",
    "            SCC_list.append(SCC)\n",
    "        else:\n",
    "            SCC_list.append(P_100)\n",
    "            break\n",
    "\n",
    "    SCC_array = np.asarray(SCC_list)\n",
    "\n",
    "    SCC_forecasted = []\n",
    "\n",
    "    for i in range(T_forecast_length):\n",
    "        if i < len(SCC_array):\n",
    "            SCC_forecasted.append(SCC_array[i])\n",
    "        else:\n",
    "            SCC_forecasted.append(P_100)\n",
    "\n",
    "    SCC_forecasted = np.array(SCC_forecasted)\n",
    "\n",
    "    P0 = SCC_forecasted[0]\n",
    "\n",
    "    forecasted_abatement = abatement(P=SCC_forecasted-(P0-P0_prime), P0=P0_prime)  # , r=consumption_discount\n",
    "    forecasted_emissions = abatement_to_emissions(forecasted_abatement, CO2_baseline)\n",
    "\n",
    "    cumulative_emissions_array = np.append(np.zeros(1), np.cumsum(forecasted_emissions)[:-1])\n",
    "\n",
    "    temperature_change = T_TCRE*cumulative_emissions_array\n",
    "    \n",
    "    T_forecast_iteration = T_2019 + temperature_change\n",
    "    \n",
    "    plt.plot(T_forecast_years, T_forecast_iteration, label=\"iteration \"+str(k+1))\n",
    "    \n",
    "    if k == 0:\n",
    "        peak_T = max(T_forecast_iteration)\n",
    "    else:\n",
    "        previous_peak_T = peak_T\n",
    "        peak_T = max(T_forecast_iteration)\n",
    "        if abs(peak_T - previous_peak_T) < 0.005:\n",
    "            print(k)\n",
    "            break\n",
    "    \n",
    "    if k == num_of_iterations - 1:\n",
    "        print(\"convergence condition not achieved\")\n",
    "        print(f\"{consumption_discount=}\")\n",
    "        print(f\"{g_2019=}\")\n",
    "        print(f\"{P_50=}\")\n",
    "        print(f\"{s=}\")\n",
    "        print(f\"{r=}\")\n",
    "        print(f\"{P_100=}\")\n",
    "\n",
    "plt.xlabel(\"Year\")\n",
    "plt.ylabel(\"Temperature / K\")\n",
    "plt.legend()"
   ]
  },
  {
   "cell_type": "code",
   "execution_count": 37,
   "id": "1f5ead24",
   "metadata": {},
   "outputs": [
    {
     "data": {
      "text/plain": [
       "204.08912471002859"
      ]
     },
     "execution_count": 37,
     "metadata": {},
     "output_type": "execute_result"
    }
   ],
   "source": [
    "P0"
   ]
  },
  {
   "cell_type": "code",
   "execution_count": 38,
   "id": "1b270877",
   "metadata": {},
   "outputs": [
    {
     "data": {
      "text/plain": [
       "1.9730648290138288"
      ]
     },
     "execution_count": 38,
     "metadata": {},
     "output_type": "execute_result"
    }
   ],
   "source": [
    "## peak Temperature\n",
    "max(T_forecast_iteration)"
   ]
  },
  {
   "cell_type": "code",
   "execution_count": null,
   "id": "fafb778c",
   "metadata": {},
   "outputs": [],
   "source": []
  },
  {
   "cell_type": "code",
   "execution_count": null,
   "id": "bda6e83f",
   "metadata": {},
   "outputs": [],
   "source": []
  },
  {
   "cell_type": "markdown",
   "id": "40251493",
   "metadata": {},
   "source": [
    "hard constraint on absolute reduction that can be achieved in one year"
   ]
  },
  {
   "cell_type": "markdown",
   "id": "d95b3e5e",
   "metadata": {},
   "source": [
    "- max ~2GtCO2 in year (look in IAMs)\n",
    "- directions MACC non...\n",
    "- comment on efficiency\n",
    "- equation on flowchart\n",
    "- balance between forcing log and errors\n",
    "- gradient MACC\n",
    "- table for Sobol\n",
    "- peak warming and year of peak warming; scatter with growth rate"
   ]
  },
  {
   "cell_type": "code",
   "execution_count": null,
   "id": "2a78ecd2",
   "metadata": {},
   "outputs": [],
   "source": []
  },
  {
   "cell_type": "code",
   "execution_count": null,
   "id": "dc4b33f9",
   "metadata": {},
   "outputs": [],
   "source": []
  }
 ],
 "metadata": {
  "kernelspec": {
   "display_name": "Python 3 (ipykernel)",
   "language": "python",
   "name": "python3"
  },
  "language_info": {
   "codemirror_mode": {
    "name": "ipython",
    "version": 3
   },
   "file_extension": ".py",
   "mimetype": "text/x-python",
   "name": "python",
   "nbconvert_exporter": "python",
   "pygments_lexer": "ipython3",
   "version": "3.9.7"
  }
 },
 "nbformat": 4,
 "nbformat_minor": 5
}
