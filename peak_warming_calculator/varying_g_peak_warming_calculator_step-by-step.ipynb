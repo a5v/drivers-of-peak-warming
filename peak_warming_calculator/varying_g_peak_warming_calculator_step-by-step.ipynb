{
 "cells": [
  {
   "cell_type": "code",
   "execution_count": 1,
   "id": "a8198da9",
   "metadata": {},
   "outputs": [],
   "source": [
    "import pandas as pd\n",
    "import numpy as np\n",
    "import matplotlib.pyplot as plt\n",
    "import seaborn as sns\n",
    "sns.set()\n",
    "from scipy.optimize import curve_fit\n",
    "from scipy.integrate import simps\n",
    "from scipy.optimize import curve_fit"
   ]
  },
  {
   "cell_type": "code",
   "execution_count": 2,
   "id": "3dc7ce4e",
   "metadata": {},
   "outputs": [],
   "source": [
    "# from fair import *\n",
    "# from fair.scripts.data_retrieval import *"
   ]
  },
  {
   "cell_type": "markdown",
   "id": "1b40a359",
   "metadata": {},
   "source": [
    "## Define Functions"
   ]
  },
  {
   "cell_type": "code",
   "execution_count": 3,
   "id": "df85a918",
   "metadata": {},
   "outputs": [],
   "source": [
    "## calculate cost of perturbation due to carbon\n",
    "## input: temperature profile, perturbed temperature profile, total consumption, and discount function\n",
    "\n",
    "def cost_of_perturbation(W, W_prime, discount_function, gamma=2, D0=0.00267):\n",
    "#     S_Wt = D0*T**gamma\n",
    "#     S_Wt_perturb = D0*T_perturb**gamma\n",
    "#     consumption_loss_fraction = S_Wt_perturb-S_Wt\n",
    "#     absolute_consumption_loss = consumption_loss_fraction*W\n",
    "#     discounted_consumption_loss = absolute_consumption_loss*discount_function\n",
    "#     area = simps(discounted_consumption_loss, dx=1)\n",
    "#     cost = area*10**12  # convert to dollar amount\n",
    "    absolute_consumption_loss = W-W_prime\n",
    "    discounted_consumption_loss = absolute_consumption_loss*discount_function\n",
    "    area = simps(discounted_consumption_loss, dx=1)\n",
    "    cost = area*10**12  # convert to dollar amount\n",
    "    \n",
    "    return cost"
   ]
  },
  {
   "cell_type": "code",
   "execution_count": 4,
   "id": "5a11eab5",
   "metadata": {},
   "outputs": [],
   "source": [
    "## calculate abatement given a carbon price\n",
    "\n",
    "# def abatement(P, P0, P_h=44, r=20, s=18, Am=1.1):\n",
    "#     A = Am/(1+((P-P0)/P_h)**(-r/s))\n",
    "    \n",
    "#     return A\n",
    "\n",
    "# P_100 = 500\n",
    "\n",
    "# def abatement(P, P0, r=0.04, P_h=100, s=0.05, P_100=P_100):\n",
    "#     if P0 >= P_h:\n",
    "#         print(\"P0 is greater than P_h\")\n",
    "\n",
    "#     Am = 1+((P_100-P0)/(P_h-P0))**(-s/r)\n",
    "#     A = Am/(1+((P-P0)/(P_h-P0))**(-s/r))\n",
    "        \n",
    "#     return A\n",
    "\n",
    "P_50 = 200  # 187.5 * 0.7625000000000001\n",
    "P_100 = 400  # 187.5\n",
    "s = 0.05\n",
    "r = 0.04\n",
    "\n",
    "# P_50=100, s=0.05, r=0.04, P_100=500\n",
    "\n",
    "def abatement(P, P0, P_50=P_50, r=r, s=s, P_100=P_100):  # 0.05\n",
    "    if P0 >= P_50:\n",
    "        print(\"P0 is greater than P_50\")\n",
    "    elif ((P_100-P0)/(P_50-P0))**(s/r) <= 2:\n",
    "        print(\"MAC curve condition not satisfied\")\n",
    "    \n",
    "    P_h = P0 + ((P_50 - P0) ** (-s / r) - 2 * (P_100 - P0) ** (-s / r)) ** (-r / s)\n",
    "    Am = 1 + ((P_100 - P0) / (P_h - P0)) ** (-s / r)\n",
    "    \n",
    "    A = Am / (1 + ((P - P0) / (P_h - P0)) ** (-s / r))\n",
    "    \n",
    "    return A"
   ]
  },
  {
   "cell_type": "code",
   "execution_count": 5,
   "id": "2ede457f",
   "metadata": {},
   "outputs": [],
   "source": [
    "# ## Nick's function to get SSP emissions data (use to get historical data to 2019)\n",
    "\n",
    "# def get_ssp_emissions(ssp, end_year = 2019):\n",
    "    \n",
    "#     emms = RCMIP_to_FaIR_input_emms(ssp).interpolate().loc[1750:end_year]\n",
    "\n",
    "#     ## rebase emission-driven forcings & species with natural emissions included in RCMIP to zero @ 1750\n",
    "#     rebase_species = ['so2','nox','co','nmvoc','bc','nh3','oc','nox_avi','methyl_bromide','methyl_chloride','chcl3','ch2cl2']\n",
    "#     emms.loc[:,rebase_species] -= emms.loc[1750,rebase_species]\n",
    "    \n",
    "#     return emms"
   ]
  },
  {
   "cell_type": "code",
   "execution_count": 6,
   "id": "26ce409f",
   "metadata": {},
   "outputs": [],
   "source": [
    "## calculate emissions from forecasted abatement and CO2 baseline\n",
    "\n",
    "def abatement_to_emissions(forecasted_abatement, CO2_baseline):\n",
    "    CO2_emissions = CO2_baseline*(1-forecasted_abatement)\n",
    "    \n",
    "    return CO2_emissions"
   ]
  },
  {
   "cell_type": "markdown",
   "id": "4bb1c315",
   "metadata": {},
   "source": [
    "# Steps outlined in Email"
   ]
  },
  {
   "cell_type": "markdown",
   "id": "9e286a49",
   "metadata": {},
   "source": [
    "## 1. Create Unperturbed Temperature Profile"
   ]
  },
  {
   "cell_type": "code",
   "execution_count": 7,
   "id": "d3bc2acf",
   "metadata": {},
   "outputs": [],
   "source": [
    "# get historical data (taken from chrisroadmap)\n",
    "\n",
    "T_gas_df = pd.read_csv(\"T_gas.csv\", index_col=0)\n",
    "\n",
    "T_2019 = T_gas_df['CO2_best'][2019]"
   ]
  },
  {
   "cell_type": "code",
   "execution_count": 8,
   "id": "a1096d77",
   "metadata": {},
   "outputs": [],
   "source": [
    "start_year = 1750\n",
    "last_historical_year = 2019\n",
    "end_year = 3000\n",
    "\n",
    "years = np.arange(start_year, end_year+1)\n",
    "T_forecast_years = np.arange(last_historical_year, end_year+1)\n",
    "T_forecast_length = end_year - last_historical_year + 1"
   ]
  },
  {
   "cell_type": "code",
   "execution_count": 9,
   "id": "da772f99",
   "metadata": {},
   "outputs": [],
   "source": [
    "delta_T = 2\n",
    "alpha = 0.02\n",
    "T_forecast = T_2019 + delta_T * (1 - np.exp(-alpha*np.arange(T_forecast_length)))"
   ]
  },
  {
   "cell_type": "code",
   "execution_count": 10,
   "id": "9d69f693",
   "metadata": {},
   "outputs": [],
   "source": [
    "T = np.concatenate([T_gas_df['CO2_best'],T_forecast[1:]])"
   ]
  },
  {
   "cell_type": "code",
   "execution_count": 11,
   "id": "8d7f6882",
   "metadata": {
    "scrolled": true
   },
   "outputs": [
    {
     "data": {
      "text/plain": [
       "<matplotlib.legend.Legend at 0x7feb8e9927f0>"
      ]
     },
     "execution_count": 11,
     "metadata": {},
     "output_type": "execute_result"
    },
    {
     "data": {
      "image/png": "[encoded data removed]",
      "text/plain": [
       "<Figure size 432x288 with 1 Axes>"
      ]
     },
     "metadata": {},
     "output_type": "display_data"
    }
   ],
   "source": [
    "plt.plot(T_gas_df['CO2_best'], label=\"historical\")\n",
    "plt.plot(T_forecast_years, T_forecast, label=\"projected\")\n",
    "plt.xlabel(\"Year\")\n",
    "plt.ylabel(\"Attributed temperature change relative to 1750\")\n",
    "plt.legend()"
   ]
  },
  {
   "cell_type": "markdown",
   "id": "ead91d1f",
   "metadata": {},
   "source": [
    "## Total Consumption"
   ]
  },
  {
   "cell_type": "code",
   "execution_count": 12,
   "id": "adbba940",
   "metadata": {},
   "outputs": [],
   "source": [
    "# consumption_growth = 0.02\n",
    "# W0 = 80\n",
    "\n",
    "# W = []\n",
    "\n",
    "# # for i in range(len(years)):\n",
    "# #     W.append(W0*consumption_growth**(i-(last_historical_year - start_year)))\n",
    "    \n",
    "# for i in range(len(years)):\n",
    "#     W.append(W0*np.exp(consumption_growth*(i-(last_historical_year - start_year))))\n",
    "\n",
    "# W = np.asarray(W)"
   ]
  },
  {
   "cell_type": "code",
   "execution_count": 13,
   "id": "95906ae2",
   "metadata": {},
   "outputs": [],
   "source": [
    "# plt.plot(years, W)\n",
    "# plt.xlabel(\"Year\")\n",
    "# plt.ylabel(\"Absolute Consumption ($trillion/year)\")\n",
    "# plt.xlim(2000, 2100)\n",
    "# plt.ylim(0, 400)"
   ]
  },
  {
   "cell_type": "markdown",
   "id": "152831a9",
   "metadata": {},
   "source": [
    "alternative functional form for above for the fast transition"
   ]
  },
  {
   "cell_type": "markdown",
   "id": "b0e49485",
   "metadata": {},
   "source": [
    "## 2. Calculate SCC as a function of time for a range of years"
   ]
  },
  {
   "cell_type": "code",
   "execution_count": 14,
   "id": "f80e4ed9",
   "metadata": {},
   "outputs": [],
   "source": [
    "def create_W(W_2019, last_historical_year, start_year, T_forecast_years, g):\n",
    "    W = []\n",
    "    W_historical = [W_2019] * (last_historical_year - start_year + 1)\n",
    "    W_forecast = []\n",
    "    W_previous_year = W_historical[-1]\n",
    "\n",
    "    for i in range(len(T_forecast_years) - 1):\n",
    "        W_this_year = W_previous_year*np.exp(g[i])\n",
    "        W_forecast.append(W_this_year)\n",
    "        W_previous_year = W_this_year\n",
    "\n",
    "    W = W_historical + W_forecast\n",
    "\n",
    "    W = np.asarray(W)\n",
    "    return W"
   ]
  },
  {
   "cell_type": "code",
   "execution_count": 15,
   "id": "957ca128",
   "metadata": {},
   "outputs": [],
   "source": [
    "# def cost_of_perturbation_g():\n",
    "#     absolute_consumption_loss = W-W_prime\n",
    "#     discounted_consumption_loss = absolute_consumption_loss*discount_function\n",
    "#     area = simps(discounted_consumption_loss, dx=1)\n",
    "#     cost = area*10**12  # convert to dollar amount\n",
    "#     SCC = cost/(10**9)"
   ]
  },
  {
   "cell_type": "code",
   "execution_count": 16,
   "id": "916e795f",
   "metadata": {},
   "outputs": [
    {
     "name": "stdout",
     "output_type": "stream",
     "text": [
      "[1.01369292 1.05335663 1.09222926 1.1303271  1.16766608 1.20426172\n",
      " 1.2401292  1.27528332 1.30973858 1.34350911 1.37660876 1.40905107\n",
      " 1.44084925 1.47201627 1.50256479 1.53250721 1.56185567 1.59062205\n",
      " 1.61881799 1.64645486 1.67354384 1.70009583 1.72612154 1.75163145\n",
      " 1.77663582 1.80114471 1.82516797 1.84871526 1.87179603 1.89441955\n",
      " 1.91659489 1.93833095 1.95963646 1.98051995 2.0009898  2.02105421\n",
      " 2.04072122 2.05999871 2.07889441 2.09741588 2.11557054 2.13336567\n",
      " 2.15080837 2.16790565 2.18466434 2.20109116 2.21719267 2.23297533\n",
      " 2.24844544 2.26360921 2.27847269 2.29304185 2.3073225  2.32132036\n",
      " 2.33504104 2.34849001 2.36167267 2.37459429 2.38726004 2.39967498\n",
      " 2.41184409 2.42377222 2.43546416 2.44692458 2.45815807 2.46916911\n",
      " 2.47996212 2.4905414  2.50091121 2.51107567 2.52103887 2.53080477\n",
      " 2.5403773  2.54976028 2.55895746 2.56797253 2.57680908 2.58547066\n",
      " 2.59396073 2.60228268 2.61043984 2.61843549 2.6262728  2.63395493\n",
      " 2.64148494 2.64886585 2.6561006  2.6631921  2.67014317 2.67695661\n",
      " 2.68363513 2.6901814  2.69659805 2.70288765 2.7090527  2.71509567\n",
      " 2.72101899 2.72682501 2.73251607 2.73809444 2.74356235 2.74892198\n",
      " 2.75417549 2.75932497 2.76437249 2.76932006 2.77416966 2.77892323\n",
      " 2.78358267 2.78814985 2.7926266  2.7970147  2.80131591 2.80553195\n",
      " 2.8096645  2.81371523 2.81768574 2.82157764 2.82539247 2.82913176\n",
      " 2.83279701 2.83638968 2.83991121 2.84336301 2.84674646 2.85006292\n",
      " 2.8533137  2.85650012 2.85962343 2.86268491 2.86568576 2.86862719\n",
      " 2.87151038 2.87433647 2.87710661 2.87982189 2.88248341 2.88509222\n",
      " 2.88764938 2.8901559  2.89261279 2.89502103 2.89738158 2.8996954\n",
      " 2.90196339 2.90418648 2.90636554 2.90850146 2.91059508 2.91264725\n",
      " 2.91465878 2.91663048 2.91856314 2.92045753 2.9223144  2.92413451\n",
      " 2.92591858 2.92766732 2.92938143 2.93106161 2.93270851 2.9343228\n",
      " 2.93590513 2.93745612 2.9389764  2.94046658 2.94192725 2.943359\n",
      " 2.9447624  2.94613801 2.94748638 2.94880805 2.95010355 2.95137339\n",
      " 2.95261809 2.95383815 2.95503405 2.95620626 2.95735527 2.95848152\n",
      " 2.95958547 2.96066756 2.96172823 2.96276789 2.96378697 2.96478586\n",
      " 2.96576498 2.96672471 2.96766543 2.96858753 2.96949137 2.97037731\n",
      " 2.97124571 2.97209692 2.97293127 2.97374909 2.97455073 2.97533649\n",
      " 2.97610669 2.97686164 2.97760164 2.97832699 2.97903797 2.97973488\n",
      " 2.98041798 2.98108756 2.98174389 2.98238721 2.9830178  2.9836359\n",
      " 2.98424176 2.98483563 2.98541773 2.98598831 2.98654759 2.9870958\n",
      " 2.98763315 2.98815986 2.98867614 2.9891822  2.98967824 2.99016445\n",
      " 2.99064104 2.99110819 2.99156609 2.99201492 2.99245487 2.9928861\n",
      " 2.9933088  2.99372312 2.99412924 2.99452732 2.99491752 2.99529999\n",
      " 2.99567489 2.99604236 2.99640256 2.99675562 2.9971017  2.99744092\n",
      " 2.99777342 2.99809934 2.99841881 2.99873195 2.99903889 2.99933975\n",
      " 2.99963465 2.99992372 3.00020706 3.00048479 3.00075702 3.00102386\n",
      " 3.00128542 3.0015418  3.0017931  3.00203942 3.00228087 3.00251754\n",
      " 3.00274952 3.0029769  3.00319979 3.00341826 3.0036324  3.00384231\n",
      " 3.00404805 3.00424973 3.00444741 3.00464117 3.0048311  3.00501727\n",
      " 3.00519975 3.00537862 3.00555395 3.0057258  3.00589426 3.00605937\n",
      " 3.00622122 3.00637986 3.00653536 3.00668778 3.00683719 3.00698363\n",
      " 3.00712718 3.00726788 3.0074058  3.00754098 3.00767349 3.00780338\n",
      " 3.00793069 3.00805548 3.00817781 3.00829771 3.00841523 3.00853043\n",
      " 3.00864335 3.00875403 3.00886252 3.00896886 3.00907309 3.00917526\n",
      " 3.00927541 3.00937358 3.0094698  3.00956411 3.00965656 3.00974718\n",
      " 3.009836   3.00992307 3.01000841 3.01009206 3.01017405 3.01025443\n",
      " 3.0103332  3.01041042 3.01048611 3.01056031 3.01063303 3.01070431\n",
      " 3.01077418 3.01084267 3.0109098  3.0109756  3.0110401  3.01110332\n",
      " 3.01116529 3.01122604 3.01128558 3.01134394 3.01140114 3.01145722\n",
      " 3.01151218 3.01156605 3.01161886 3.01167062 3.01172136 3.01177109\n",
      " 3.01181984 3.01186762 3.01191446 3.01196037 3.01200537 3.01204947\n",
      " 3.01209271 3.01213509 3.01217663 3.01221734 3.01225726 3.01229638\n",
      " 3.01233472 3.01237231 3.01240915 3.01244526 3.01248066 3.01251536\n",
      " 3.01254937 3.01258271 3.01261538 3.01264741 3.01267881 3.01270958\n",
      " 3.01273974 3.01276931 3.01279829 3.0128267  3.01285454 3.01288184\n",
      " 3.01290859 3.01293481 3.01296052 3.01298571 3.01301041 3.01303462\n",
      " 3.01305835 3.0130816  3.0131044  3.01312675 3.01314865 3.01317012\n",
      " 3.01319117 3.01321179 3.01323201 3.01325183 3.01327126 3.0132903\n",
      " 3.01330897 3.01332726 3.01334519 3.01336277 3.01338    3.01339689\n",
      " 3.01341345 3.01342967 3.01344558 3.01346117 3.01347645 3.01349143\n",
      " 3.01350611 3.0135205  3.01353461 3.01354844 3.01356199 3.01357528\n",
      " 3.0135883  3.01360106 3.01361357 3.01362584 3.01363786 3.01364964\n",
      " 3.01366119 3.01367251 3.01368361 3.01369449 3.01370515 3.0137156\n",
      " 3.01372584 3.01373588 3.01374572 3.01375537 3.01376483 3.0137741\n",
      " 3.01378318 3.01379209 3.01380082 3.01380937 3.01381776 3.01382598\n",
      " 3.01383404 3.01384194 3.01384968 3.01385727 3.0138647  3.013872\n",
      " 3.01387914 3.01388615 3.01389301 3.01389974 3.01390634 3.01391281\n",
      " 3.01391915 3.01392536 3.01393145 3.01393742 3.01394327 3.01394901\n",
      " 3.01395463 3.01396014 3.01396554 3.01397083 3.01397602 3.01398111\n",
      " 3.0139861  3.01399098 3.01399577 3.01400047 3.01400507 3.01400958\n",
      " 3.01401401 3.01401834 3.01402259 3.01402675 3.01403084 3.01403484\n",
      " 3.01403876 3.01404261 3.01404637 3.01405007 3.01405369 3.01405724\n",
      " 3.01406072 3.01406413 3.01406747 3.01407074 3.01407395 3.0140771\n",
      " 3.01408019 3.01408321 3.01408618 3.01408908 3.01409193 3.01409472\n",
      " 3.01409746 3.01410014 3.01410277 3.01410535 3.01410787 3.01411035\n",
      " 3.01411278 3.01411515 3.01411749 3.01411977 3.01412201 3.01412421\n",
      " 3.01412636 3.01412847 3.01413054 3.01413257 3.01413455 3.0141365\n",
      " 3.01413841 3.01414028 3.01414212 3.01414391 3.01414568 3.0141474\n",
      " 3.0141491  3.01415076 3.01415238 3.01415398 3.01415554 3.01415707\n",
      " 3.01415858 3.01416005 3.01416149 3.0141629  3.01416429 3.01416565\n",
      " 3.01416698 3.01416829 3.01416957 3.01417082 3.01417205 3.01417326\n",
      " 3.01417444 3.0141756  3.01417673 3.01417784 3.01417893 3.01418\n",
      " 3.01418105 3.01418208 3.01418308 3.01418407 3.01418504 3.01418599\n",
      " 3.01418691 3.01418783 3.01418872 3.01418959 3.01419045 3.01419129\n",
      " 3.01419212 3.01419292 3.01419372 3.01419449 3.01419525 3.014196\n",
      " 3.01419673 3.01419745 3.01419815 3.01419884 3.01419951 3.01420017\n",
      " 3.01420082 3.01420146 3.01420208 3.01420269 3.01420329 3.01420388\n",
      " 3.01420445 3.01420501 3.01420557 3.01420611 3.01420664 3.01420716\n",
      " 3.01420767 3.01420817 3.01420866 3.01420914 3.01420961 3.01421007\n",
      " 3.01421052 3.01421097 3.0142114  3.01421183 3.01421225 3.01421266\n",
      " 3.01421306 3.01421345 3.01421384 3.01421421 3.01421458 3.01421495\n",
      " 3.0142153  3.01421565 3.01421599 3.01421633 3.01421666 3.01421698\n",
      " 3.01421729 3.0142176  3.01421791 3.0142182  3.0142185  3.01421878\n",
      " 3.01421906 3.01421933 3.0142196  3.01421987 3.01422013 3.01422038\n",
      " 3.01422063 3.01422087 3.01422111 3.01422134 3.01422157 3.0142218\n",
      " 3.01422202 3.01422223 3.01422244 3.01422265 3.01422285 3.01422305\n",
      " 3.01422325 3.01422344 3.01422363 3.01422381 3.01422399 3.01422417\n",
      " 3.01422434 3.01422451 3.01422468 3.01422484 3.014225   3.01422516\n",
      " 3.01422531 3.01422546 3.01422561 3.01422575 3.0142259  3.01422604\n",
      " 3.01422617 3.01422631 3.01422644 3.01422656 3.01422669 3.01422681\n",
      " 3.01422693 3.01422705 3.01422717 3.01422728 3.01422739 3.0142275\n",
      " 3.01422761 3.01422772 3.01422782 3.01422792 3.01422802 3.01422812\n",
      " 3.01422821 3.0142283  3.0142284  3.01422848 3.01422857 3.01422866\n",
      " 3.01422874 3.01422883 3.01422891 3.01422899 3.01422906 3.01422914\n",
      " 3.01422921 3.01422929 3.01422936 3.01422943 3.0142295  3.01422957\n",
      " 3.01422963 3.0142297  3.01422976 3.01422982 3.01422989 3.01422995\n",
      " 3.01423    3.01423006 3.01423012 3.01423017 3.01423023 3.01423028\n",
      " 3.01423033 3.01423038 3.01423043 3.01423048 3.01423053 3.01423058\n",
      " 3.01423063 3.01423067 3.01423072 3.01423076 3.0142308  3.01423084\n",
      " 3.01423088 3.01423092 3.01423096 3.014231   3.01423104 3.01423108\n",
      " 3.01423111 3.01423115 3.01423118 3.01423122 3.01423125 3.01423129\n",
      " 3.01423132 3.01423135 3.01423138 3.01423141 3.01423144 3.01423147\n",
      " 3.0142315  3.01423153 3.01423155 3.01423158 3.01423161 3.01423163\n",
      " 3.01423166 3.01423168 3.01423171 3.01423173 3.01423176 3.01423178\n",
      " 3.0142318  3.01423182 3.01423184 3.01423187 3.01423189 3.01423191\n",
      " 3.01423193 3.01423195 3.01423197 3.01423198 3.014232   3.01423202\n",
      " 3.01423204 3.01423206 3.01423207 3.01423209 3.01423211 3.01423212\n",
      " 3.01423214 3.01423215 3.01423217 3.01423218 3.0142322  3.01423221\n",
      " 3.01423223 3.01423224 3.01423225 3.01423227 3.01423228 3.01423229\n",
      " 3.0142323  3.01423232 3.01423233 3.01423234 3.01423235 3.01423236\n",
      " 3.01423237 3.01423238 3.01423239 3.0142324  3.01423241 3.01423242\n",
      " 3.01423243 3.01423244 3.01423245 3.01423246 3.01423247 3.01423248\n",
      " 3.01423249 3.0142325  3.01423251 3.01423251 3.01423252 3.01423253\n",
      " 3.01423254 3.01423254 3.01423255 3.01423256 3.01423257 3.01423257\n",
      " 3.01423258 3.01423259 3.01423259 3.0142326  3.01423261 3.01423261\n",
      " 3.01423262 3.01423262 3.01423263 3.01423264 3.01423264 3.01423265\n",
      " 3.01423265 3.01423266 3.01423266 3.01423267 3.01423267 3.01423268\n",
      " 3.01423268 3.01423269 3.01423269 3.0142327  3.0142327  3.0142327\n",
      " 3.01423271 3.01423271 3.01423272 3.01423272 3.01423272 3.01423273\n",
      " 3.01423273 3.01423274 3.01423274 3.01423274 3.01423275 3.01423275\n",
      " 3.01423275 3.01423276 3.01423276 3.01423276 3.01423276 3.01423277\n",
      " 3.01423277 3.01423277 3.01423278 3.01423278 3.01423278 3.01423278\n",
      " 3.01423279 3.01423279 3.01423279 3.01423279 3.0142328  3.0142328\n",
      " 3.0142328  3.0142328  3.01423281 3.01423281 3.01423281 3.01423281\n",
      " 3.01423281 3.01423282 3.01423282 3.01423282 3.01423282 3.01423282\n",
      " 3.01423283 3.01423283 3.01423283 3.01423283 3.01423283 3.01423283\n",
      " 3.01423284 3.01423284 3.01423284 3.01423284 3.01423284 3.01423284\n",
      " 3.01423285 3.01423285 3.01423285 3.01423285 3.01423285 3.01423285\n",
      " 3.01423285 3.01423285 3.01423286 3.01423286 3.01423286 3.01423286\n",
      " 3.01423286 3.01423286 3.01423286 3.01423286 3.01423286 3.01423287\n",
      " 3.01423287 3.01423287 3.01423287 3.01423287 3.01423287 3.01423287\n",
      " 3.01423287 3.01423287 3.01423287 3.01423287 3.01423288 3.01423288\n",
      " 3.01423288 3.01423288 3.01423288 3.01423288 3.01423288 3.01423288\n",
      " 3.01423288 3.01423288 3.01423288 3.01423288 3.01423288 3.01423288\n",
      " 3.01423289 3.01423289 3.01423289 3.01423289 3.01423289 3.01423289\n",
      " 3.01423289 3.01423289 3.01423289 3.01423289 3.01423289 3.01423289\n",
      " 3.01423289 3.01423289 3.01423289 3.01423289 3.01423289 3.01423289\n",
      " 3.01423289 3.01423289 3.0142329  3.0142329  3.0142329  3.0142329\n",
      " 3.0142329  3.0142329  3.0142329  3.0142329  3.0142329  3.0142329\n",
      " 3.0142329  3.0142329  3.0142329  3.0142329  3.0142329  3.0142329\n",
      " 3.0142329  3.0142329  3.0142329  3.0142329  3.0142329  3.0142329\n",
      " 3.0142329  3.0142329  3.0142329  3.0142329  3.0142329  3.0142329\n",
      " 3.0142329  3.0142329  3.0142329  3.0142329  3.0142329  3.01423291\n",
      " 3.01423291 3.01423291 3.01423291 3.01423291 3.01423291 3.01423291\n",
      " 3.01423291 3.01423291 3.01423291 3.01423291 3.01423291 3.01423291\n",
      " 3.01423291 3.01423291 3.01423291 3.01423291 3.01423291 3.01423291\n",
      " 3.01423291 3.01423291 3.01423291 3.01423291 3.01423291 3.01423291\n",
      " 3.01423291 3.01423291 3.01423291 3.01423291]\n"
     ]
    }
   ],
   "source": [
    "## years to calculate SCC\n",
    "first_perturbed_year = last_historical_year\n",
    "last_perturbed_year = 2500\n",
    "year_of_perturbation = np.arange(first_perturbed_year, last_perturbed_year+1)\n",
    "\n",
    "consumption_growth = 0.02\n",
    "W_2019 = 80\n",
    "consumption_discount = 0.035\n",
    "# consumption_discount = consumption_growth + 0.015\n",
    "\n",
    "g_2019 = 0.02\n",
    "# g_grad = 0.0001  # 0.00034\n",
    "g_grad = 0.0004\n",
    "\n",
    "SCC_list = []\n",
    "\n",
    "for j in range(len(year_of_perturbation)):\n",
    "    ## define perturbed temperature profile for a given year\n",
    "    T_TCRE = 0.00054  # need to check this for FAIR!\n",
    "    k_s = 0.12\n",
    "\n",
    "    T_p = np.zeros(T_forecast_length)\n",
    "    for i in range(len(T_forecast_years)):\n",
    "        if year_of_perturbation[j] <= T_forecast_years[i]:\n",
    "            T_p[i] = T_TCRE*(1-np.exp(-k_s*(T_forecast_years[i]-year_of_perturbation[j])))\n",
    "    T_forecast_perturbed = T_forecast+T_p\n",
    "    T_perturbed = np.concatenate([T_gas_df['CO2_best'],T_forecast_perturbed[1:]])\n",
    "    \n",
    "\n",
    "    g = g_2019 - g_grad*(T_forecast[:-1]-T_2019)**2\n",
    "    g_prime = g_2019 - g_grad*(T_forecast_perturbed[:-1]-T_2019)**2\n",
    "    \n",
    "#     W = []\n",
    "#     W_historical = [W_2019] * (last_historical_year - start_year + 1)\n",
    "#     W_forecast = []\n",
    "#     W_previous_year = W_historical[-1]\n",
    "\n",
    "#     for i in range(len(T_forecast_years) - 1):\n",
    "#         W_this_year = W_previous_year*np.exp(g[i])\n",
    "#         W_forecast.append(W_this_year)\n",
    "#         W_previous_year = W_this_year\n",
    "\n",
    "#     W = W_historical + W_forecast\n",
    "\n",
    "#     W = np.asarray(W)\n",
    "    W = create_W(W_2019, last_historical_year, start_year, T_forecast_years, g)\n",
    "    \n",
    "    \n",
    "#     W_prime = []\n",
    "#     W_historical = [W_2019] * (last_historical_year - start_year + 1)\n",
    "#     W_forecast = []\n",
    "#     W_previous_year = W_historical[-1]\n",
    "\n",
    "#     for i in range(len(T_forecast_years) - 1):\n",
    "#         W_this_year = W_previous_year*np.exp(g_prime[i])\n",
    "#         W_forecast.append(W_this_year)\n",
    "#         W_previous_year = W_this_year\n",
    "\n",
    "#     W_prime = W_historical + W_forecast\n",
    "\n",
    "#     W_prime = np.asarray(W_prime)\n",
    "    \n",
    "    W_prime = create_W(W_2019, last_historical_year, start_year, T_forecast_years, g_prime)\n",
    "\n",
    "    ## define discount function\n",
    "    num_of_years = len(years)\n",
    "    discount_function = np.zeros(num_of_years)\n",
    "\n",
    "    for i in range(num_of_years):\n",
    "        if years[i] >= year_of_perturbation[j]:\n",
    "            discount_function[i] = np.exp(-consumption_discount*(years[i]-year_of_perturbation[j]))\n",
    "    \n",
    "    ## calculate SCC\n",
    "#     cost = cost_of_perturbation(T=T, T_perturb=T_perturbed, W=W, discount_function=discount_function)\n",
    "#     SCC = cost/(10**9)\n",
    "#     absolute_consumption_loss = W-W_prime\n",
    "#     discounted_consumption_loss = absolute_consumption_loss*discount_function\n",
    "#     area = simps(discounted_consumption_loss, dx=1)\n",
    "#     cost = area*10**12  # convert to dollar amount\n",
    "    cost = cost_of_perturbation(W, W_prime, discount_function, gamma=2, D0=0.00267)\n",
    "    SCC = cost/(10**9)\n",
    "    \n",
    "    if j == 0:\n",
    "        print(T_forecast_perturbed)\n",
    "#         plt.plot(T_forecast[:-1], g)\n",
    "#         plt.plot(years, discounted_consumption_loss)\n",
    "    \n",
    "    if SCC < P_100:\n",
    "        SCC_list.append(SCC)\n",
    "    else:\n",
    "        SCC_list.append(P_100)\n",
    "        break"
   ]
  },
  {
   "cell_type": "code",
   "execution_count": 17,
   "id": "e06f34f8",
   "metadata": {},
   "outputs": [],
   "source": [
    "SCC_array = np.asarray(SCC_list)  # convert to numpy array"
   ]
  },
  {
   "cell_type": "code",
   "execution_count": 18,
   "id": "17a234fe",
   "metadata": {
    "scrolled": true
   },
   "outputs": [
    {
     "data": {
      "text/plain": [
       "array([146.31096293, 150.97495695, 155.72507863, 160.56280798,\n",
       "       165.48988345, 170.50772851, 175.61825896, 180.82283932,\n",
       "       186.12356987, 191.52175373, 197.01968304, 202.61859689,\n",
       "       208.320987  , 214.12802573, 220.04241228, 226.06524947,\n",
       "       232.19945224, 238.44605092, 244.80818471, 251.28680844,\n",
       "       257.88529439, 264.60451874, 271.44809596, 278.41682034,\n",
       "       285.51455806, 292.74201806, 300.10332803, 307.59910814,\n",
       "       315.2337577 , 323.00780446, 330.9259299 , 338.98856559,\n",
       "       347.20068607, 355.56262285, 364.07965483, 372.75200938,\n",
       "       381.58528151, 390.5795903 , 399.74085893, 400.        ])"
      ]
     },
     "execution_count": 18,
     "metadata": {},
     "output_type": "execute_result"
    }
   ],
   "source": [
    "SCC_array"
   ]
  },
  {
   "cell_type": "code",
   "execution_count": 19,
   "id": "824dda4d",
   "metadata": {},
   "outputs": [
    {
     "data": {
      "text/plain": [
       "Text(0, 0.5, 'SCC ($)')"
      ]
     },
     "execution_count": 19,
     "metadata": {},
     "output_type": "execute_result"
    },
    {
     "data": {
      "image/png": "[encoded data removed]",
      "text/plain": [
       "<Figure size 432x288 with 1 Axes>"
      ]
     },
     "metadata": {},
     "output_type": "display_data"
    }
   ],
   "source": [
    "plt.plot(year_of_perturbation[:len(SCC_array)], SCC_array)\n",
    "plt.xlabel(\"Year\")\n",
    "plt.ylabel(\"SCC ($)\")"
   ]
  },
  {
   "cell_type": "markdown",
   "id": "4527dfe3",
   "metadata": {},
   "source": [
    "### Check 100% abatement has been achieved!"
   ]
  },
  {
   "cell_type": "code",
   "execution_count": 20,
   "id": "2afc6578",
   "metadata": {},
   "outputs": [],
   "source": [
    "if SCC_array[-1] < P_100:\n",
    "    print(\"P_100 not achieved by achieved by final perturbed year\")"
   ]
  },
  {
   "cell_type": "markdown",
   "id": "43df3ec9",
   "metadata": {},
   "source": [
    "### Fit SCC line to forecast"
   ]
  },
  {
   "cell_type": "code",
   "execution_count": 21,
   "id": "275ac1de",
   "metadata": {},
   "outputs": [],
   "source": [
    "# plt.plot(year_of_perturbation, SCC_array)\n",
    "# plt.xlabel(\"Year\")\n",
    "# plt.ylabel(\"SCC ($)\")\n",
    "# plt.yscale(\"log\")"
   ]
  },
  {
   "cell_type": "code",
   "execution_count": 22,
   "id": "244421d9",
   "metadata": {},
   "outputs": [],
   "source": [
    "# log_SCC = np.log(SCC_array)"
   ]
  },
  {
   "cell_type": "code",
   "execution_count": 23,
   "id": "fc615b64",
   "metadata": {},
   "outputs": [],
   "source": [
    "# ## add linear fit\n",
    "# X = sm.add_constant(year_of_perturbation) # add a constant to fit\n",
    "# results = sm.OLS(log_SCC, X).fit() # save results of fit"
   ]
  },
  {
   "cell_type": "code",
   "execution_count": 24,
   "id": "aae9a79e",
   "metadata": {},
   "outputs": [],
   "source": [
    "# #Plot with Fit & Summary \n",
    "# plt.plot(year_of_perturbation, log_SCC)\n",
    "# plt.plot(year_of_perturbation, results.params[0]+results.params[1]*year_of_perturbation, 'r' , label='fitted_line')\n",
    "# plt.xlabel(\"Year\")\n",
    "# plt.ylabel(\"ln(SCC)\")"
   ]
  },
  {
   "cell_type": "code",
   "execution_count": 25,
   "id": "0e7ad256",
   "metadata": {},
   "outputs": [],
   "source": [
    "# SCC_forecasted = np.exp(results.params[0]+results.params[1]*T_forecast_years)"
   ]
  },
  {
   "cell_type": "code",
   "execution_count": 26,
   "id": "099b7b14",
   "metadata": {},
   "outputs": [
    {
     "data": {
      "text/plain": [
       "982"
      ]
     },
     "execution_count": 26,
     "metadata": {},
     "output_type": "execute_result"
    }
   ],
   "source": [
    "T_forecast_length"
   ]
  },
  {
   "cell_type": "code",
   "execution_count": 27,
   "id": "8926e6b1",
   "metadata": {},
   "outputs": [],
   "source": [
    "SCC_forecasted = []\n",
    "\n",
    "for i in range(T_forecast_length):\n",
    "    if i < len(SCC_array):\n",
    "        SCC_forecasted.append(SCC_array[i])\n",
    "    else:\n",
    "#         SCC_forecasted.append(SCC_array[-1])\n",
    "        SCC_forecasted.append(P_100)\n",
    "\n",
    "SCC_forecasted = np.array(SCC_forecasted)"
   ]
  },
  {
   "cell_type": "code",
   "execution_count": 28,
   "id": "ae6b677a",
   "metadata": {},
   "outputs": [
    {
     "data": {
      "text/plain": [
       "array([146.31096293, 150.97495695, 155.72507863, 160.56280798,\n",
       "       165.48988345, 170.50772851, 175.61825896, 180.82283932,\n",
       "       186.12356987, 191.52175373, 197.01968304, 202.61859689,\n",
       "       208.320987  , 214.12802573, 220.04241228, 226.06524947,\n",
       "       232.19945224, 238.44605092, 244.80818471, 251.28680844,\n",
       "       257.88529439, 264.60451874, 271.44809596, 278.41682034,\n",
       "       285.51455806, 292.74201806, 300.10332803, 307.59910814,\n",
       "       315.2337577 , 323.00780446, 330.9259299 , 338.98856559,\n",
       "       347.20068607, 355.56262285, 364.07965483, 372.75200938,\n",
       "       381.58528151, 390.5795903 , 399.74085893, 400.        ,\n",
       "       400.        , 400.        , 400.        , 400.        ,\n",
       "       400.        , 400.        , 400.        , 400.        ,\n",
       "       400.        , 400.        , 400.        , 400.        ,\n",
       "       400.        , 400.        , 400.        , 400.        ,\n",
       "       400.        , 400.        , 400.        , 400.        ,\n",
       "       400.        , 400.        , 400.        , 400.        ,\n",
       "       400.        , 400.        , 400.        , 400.        ,\n",
       "       400.        , 400.        , 400.        , 400.        ,\n",
       "       400.        , 400.        , 400.        , 400.        ,\n",
       "       400.        , 400.        , 400.        , 400.        ,\n",
       "       400.        , 400.        , 400.        , 400.        ,\n",
       "       400.        , 400.        , 400.        , 400.        ,\n",
       "       400.        , 400.        , 400.        , 400.        ,\n",
       "       400.        , 400.        , 400.        , 400.        ,\n",
       "       400.        , 400.        , 400.        , 400.        ,\n",
       "       400.        , 400.        , 400.        , 400.        ,\n",
       "       400.        , 400.        , 400.        , 400.        ,\n",
       "       400.        , 400.        , 400.        , 400.        ,\n",
       "       400.        , 400.        , 400.        , 400.        ,\n",
       "       400.        , 400.        , 400.        , 400.        ,\n",
       "       400.        , 400.        , 400.        , 400.        ,\n",
       "       400.        , 400.        , 400.        , 400.        ,\n",
       "       400.        , 400.        , 400.        , 400.        ,\n",
       "       400.        , 400.        , 400.        , 400.        ,\n",
       "       400.        , 400.        , 400.        , 400.        ,\n",
       "       400.        , 400.        , 400.        , 400.        ,\n",
       "       400.        , 400.        , 400.        , 400.        ,\n",
       "       400.        , 400.        , 400.        , 400.        ,\n",
       "       400.        , 400.        , 400.        , 400.        ,\n",
       "       400.        , 400.        , 400.        , 400.        ,\n",
       "       400.        , 400.        , 400.        , 400.        ,\n",
       "       400.        , 400.        , 400.        , 400.        ,\n",
       "       400.        , 400.        , 400.        , 400.        ,\n",
       "       400.        , 400.        , 400.        , 400.        ,\n",
       "       400.        , 400.        , 400.        , 400.        ,\n",
       "       400.        , 400.        , 400.        , 400.        ,\n",
       "       400.        , 400.        , 400.        , 400.        ,\n",
       "       400.        , 400.        , 400.        , 400.        ,\n",
       "       400.        , 400.        , 400.        , 400.        ,\n",
       "       400.        , 400.        , 400.        , 400.        ,\n",
       "       400.        , 400.        , 400.        , 400.        ,\n",
       "       400.        , 400.        , 400.        , 400.        ,\n",
       "       400.        , 400.        , 400.        , 400.        ,\n",
       "       400.        , 400.        , 400.        , 400.        ,\n",
       "       400.        , 400.        , 400.        , 400.        ,\n",
       "       400.        , 400.        , 400.        , 400.        ,\n",
       "       400.        , 400.        , 400.        , 400.        ,\n",
       "       400.        , 400.        , 400.        , 400.        ,\n",
       "       400.        , 400.        , 400.        , 400.        ,\n",
       "       400.        , 400.        , 400.        , 400.        ,\n",
       "       400.        , 400.        , 400.        , 400.        ,\n",
       "       400.        , 400.        , 400.        , 400.        ,\n",
       "       400.        , 400.        , 400.        , 400.        ,\n",
       "       400.        , 400.        , 400.        , 400.        ,\n",
       "       400.        , 400.        , 400.        , 400.        ,\n",
       "       400.        , 400.        , 400.        , 400.        ,\n",
       "       400.        , 400.        , 400.        , 400.        ,\n",
       "       400.        , 400.        , 400.        , 400.        ,\n",
       "       400.        , 400.        , 400.        , 400.        ,\n",
       "       400.        , 400.        , 400.        , 400.        ,\n",
       "       400.        , 400.        , 400.        , 400.        ,\n",
       "       400.        , 400.        , 400.        , 400.        ,\n",
       "       400.        , 400.        , 400.        , 400.        ,\n",
       "       400.        , 400.        , 400.        , 400.        ,\n",
       "       400.        , 400.        , 400.        , 400.        ,\n",
       "       400.        , 400.        , 400.        , 400.        ,\n",
       "       400.        , 400.        , 400.        , 400.        ,\n",
       "       400.        , 400.        , 400.        , 400.        ,\n",
       "       400.        , 400.        , 400.        , 400.        ,\n",
       "       400.        , 400.        , 400.        , 400.        ,\n",
       "       400.        , 400.        , 400.        , 400.        ,\n",
       "       400.        , 400.        , 400.        , 400.        ,\n",
       "       400.        , 400.        , 400.        , 400.        ,\n",
       "       400.        , 400.        , 400.        , 400.        ,\n",
       "       400.        , 400.        , 400.        , 400.        ,\n",
       "       400.        , 400.        , 400.        , 400.        ,\n",
       "       400.        , 400.        , 400.        , 400.        ,\n",
       "       400.        , 400.        , 400.        , 400.        ,\n",
       "       400.        , 400.        , 400.        , 400.        ,\n",
       "       400.        , 400.        , 400.        , 400.        ,\n",
       "       400.        , 400.        , 400.        , 400.        ,\n",
       "       400.        , 400.        , 400.        , 400.        ,\n",
       "       400.        , 400.        , 400.        , 400.        ,\n",
       "       400.        , 400.        , 400.        , 400.        ,\n",
       "       400.        , 400.        , 400.        , 400.        ,\n",
       "       400.        , 400.        , 400.        , 400.        ,\n",
       "       400.        , 400.        , 400.        , 400.        ,\n",
       "       400.        , 400.        , 400.        , 400.        ,\n",
       "       400.        , 400.        , 400.        , 400.        ,\n",
       "       400.        , 400.        , 400.        , 400.        ,\n",
       "       400.        , 400.        , 400.        , 400.        ,\n",
       "       400.        , 400.        , 400.        , 400.        ,\n",
       "       400.        , 400.        , 400.        , 400.        ,\n",
       "       400.        , 400.        , 400.        , 400.        ,\n",
       "       400.        , 400.        , 400.        , 400.        ,\n",
       "       400.        , 400.        , 400.        , 400.        ,\n",
       "       400.        , 400.        , 400.        , 400.        ,\n",
       "       400.        , 400.        , 400.        , 400.        ,\n",
       "       400.        , 400.        , 400.        , 400.        ,\n",
       "       400.        , 400.        , 400.        , 400.        ,\n",
       "       400.        , 400.        , 400.        , 400.        ,\n",
       "       400.        , 400.        , 400.        , 400.        ,\n",
       "       400.        , 400.        , 400.        , 400.        ,\n",
       "       400.        , 400.        , 400.        , 400.        ,\n",
       "       400.        , 400.        , 400.        , 400.        ,\n",
       "       400.        , 400.        , 400.        , 400.        ,\n",
       "       400.        , 400.        , 400.        , 400.        ,\n",
       "       400.        , 400.        , 400.        , 400.        ,\n",
       "       400.        , 400.        , 400.        , 400.        ,\n",
       "       400.        , 400.        , 400.        , 400.        ,\n",
       "       400.        , 400.        , 400.        , 400.        ,\n",
       "       400.        , 400.        , 400.        , 400.        ,\n",
       "       400.        , 400.        , 400.        , 400.        ,\n",
       "       400.        , 400.        , 400.        , 400.        ,\n",
       "       400.        , 400.        , 400.        , 400.        ,\n",
       "       400.        , 400.        , 400.        , 400.        ,\n",
       "       400.        , 400.        , 400.        , 400.        ,\n",
       "       400.        , 400.        , 400.        , 400.        ,\n",
       "       400.        , 400.        , 400.        , 400.        ,\n",
       "       400.        , 400.        , 400.        , 400.        ,\n",
       "       400.        , 400.        , 400.        , 400.        ,\n",
       "       400.        , 400.        , 400.        , 400.        ,\n",
       "       400.        , 400.        , 400.        , 400.        ,\n",
       "       400.        , 400.        , 400.        , 400.        ,\n",
       "       400.        , 400.        , 400.        , 400.        ,\n",
       "       400.        , 400.        , 400.        , 400.        ,\n",
       "       400.        , 400.        , 400.        , 400.        ,\n",
       "       400.        , 400.        , 400.        , 400.        ,\n",
       "       400.        , 400.        , 400.        , 400.        ,\n",
       "       400.        , 400.        , 400.        , 400.        ,\n",
       "       400.        , 400.        , 400.        , 400.        ,\n",
       "       400.        , 400.        , 400.        , 400.        ,\n",
       "       400.        , 400.        , 400.        , 400.        ,\n",
       "       400.        , 400.        , 400.        , 400.        ,\n",
       "       400.        , 400.        , 400.        , 400.        ,\n",
       "       400.        , 400.        , 400.        , 400.        ,\n",
       "       400.        , 400.        , 400.        , 400.        ,\n",
       "       400.        , 400.        , 400.        , 400.        ,\n",
       "       400.        , 400.        , 400.        , 400.        ,\n",
       "       400.        , 400.        , 400.        , 400.        ,\n",
       "       400.        , 400.        , 400.        , 400.        ,\n",
       "       400.        , 400.        , 400.        , 400.        ,\n",
       "       400.        , 400.        , 400.        , 400.        ,\n",
       "       400.        , 400.        , 400.        , 400.        ,\n",
       "       400.        , 400.        , 400.        , 400.        ,\n",
       "       400.        , 400.        , 400.        , 400.        ,\n",
       "       400.        , 400.        , 400.        , 400.        ,\n",
       "       400.        , 400.        , 400.        , 400.        ,\n",
       "       400.        , 400.        , 400.        , 400.        ,\n",
       "       400.        , 400.        , 400.        , 400.        ,\n",
       "       400.        , 400.        , 400.        , 400.        ,\n",
       "       400.        , 400.        , 400.        , 400.        ,\n",
       "       400.        , 400.        , 400.        , 400.        ,\n",
       "       400.        , 400.        , 400.        , 400.        ,\n",
       "       400.        , 400.        , 400.        , 400.        ,\n",
       "       400.        , 400.        , 400.        , 400.        ,\n",
       "       400.        , 400.        , 400.        , 400.        ,\n",
       "       400.        , 400.        , 400.        , 400.        ,\n",
       "       400.        , 400.        , 400.        , 400.        ,\n",
       "       400.        , 400.        , 400.        , 400.        ,\n",
       "       400.        , 400.        , 400.        , 400.        ,\n",
       "       400.        , 400.        , 400.        , 400.        ,\n",
       "       400.        , 400.        , 400.        , 400.        ,\n",
       "       400.        , 400.        , 400.        , 400.        ,\n",
       "       400.        , 400.        , 400.        , 400.        ,\n",
       "       400.        , 400.        , 400.        , 400.        ,\n",
       "       400.        , 400.        , 400.        , 400.        ,\n",
       "       400.        , 400.        , 400.        , 400.        ,\n",
       "       400.        , 400.        , 400.        , 400.        ,\n",
       "       400.        , 400.        , 400.        , 400.        ,\n",
       "       400.        , 400.        , 400.        , 400.        ,\n",
       "       400.        , 400.        , 400.        , 400.        ,\n",
       "       400.        , 400.        , 400.        , 400.        ,\n",
       "       400.        , 400.        , 400.        , 400.        ,\n",
       "       400.        , 400.        , 400.        , 400.        ,\n",
       "       400.        , 400.        , 400.        , 400.        ,\n",
       "       400.        , 400.        , 400.        , 400.        ,\n",
       "       400.        , 400.        , 400.        , 400.        ,\n",
       "       400.        , 400.        , 400.        , 400.        ,\n",
       "       400.        , 400.        , 400.        , 400.        ,\n",
       "       400.        , 400.        , 400.        , 400.        ,\n",
       "       400.        , 400.        , 400.        , 400.        ,\n",
       "       400.        , 400.        , 400.        , 400.        ,\n",
       "       400.        , 400.        , 400.        , 400.        ,\n",
       "       400.        , 400.        , 400.        , 400.        ,\n",
       "       400.        , 400.        , 400.        , 400.        ,\n",
       "       400.        , 400.        , 400.        , 400.        ,\n",
       "       400.        , 400.        , 400.        , 400.        ,\n",
       "       400.        , 400.        , 400.        , 400.        ,\n",
       "       400.        , 400.        , 400.        , 400.        ,\n",
       "       400.        , 400.        , 400.        , 400.        ,\n",
       "       400.        , 400.        , 400.        , 400.        ,\n",
       "       400.        , 400.        , 400.        , 400.        ,\n",
       "       400.        , 400.        , 400.        , 400.        ,\n",
       "       400.        , 400.        , 400.        , 400.        ,\n",
       "       400.        , 400.        , 400.        , 400.        ,\n",
       "       400.        , 400.        , 400.        , 400.        ,\n",
       "       400.        , 400.        , 400.        , 400.        ,\n",
       "       400.        , 400.        , 400.        , 400.        ,\n",
       "       400.        , 400.        , 400.        , 400.        ,\n",
       "       400.        , 400.        , 400.        , 400.        ,\n",
       "       400.        , 400.        , 400.        , 400.        ,\n",
       "       400.        , 400.        , 400.        , 400.        ,\n",
       "       400.        , 400.        , 400.        , 400.        ,\n",
       "       400.        , 400.        , 400.        , 400.        ,\n",
       "       400.        , 400.        , 400.        , 400.        ,\n",
       "       400.        , 400.        , 400.        , 400.        ,\n",
       "       400.        , 400.        , 400.        , 400.        ,\n",
       "       400.        , 400.        , 400.        , 400.        ,\n",
       "       400.        , 400.        , 400.        , 400.        ,\n",
       "       400.        , 400.        , 400.        , 400.        ,\n",
       "       400.        , 400.        , 400.        , 400.        ,\n",
       "       400.        , 400.        , 400.        , 400.        ,\n",
       "       400.        , 400.        , 400.        , 400.        ,\n",
       "       400.        , 400.        , 400.        , 400.        ,\n",
       "       400.        , 400.        , 400.        , 400.        ,\n",
       "       400.        , 400.        , 400.        , 400.        ,\n",
       "       400.        , 400.        , 400.        , 400.        ,\n",
       "       400.        , 400.        , 400.        , 400.        ,\n",
       "       400.        , 400.        , 400.        , 400.        ,\n",
       "       400.        , 400.        , 400.        , 400.        ,\n",
       "       400.        , 400.        , 400.        , 400.        ,\n",
       "       400.        , 400.        , 400.        , 400.        ,\n",
       "       400.        , 400.        , 400.        , 400.        ,\n",
       "       400.        , 400.        , 400.        , 400.        ,\n",
       "       400.        , 400.        , 400.        , 400.        ,\n",
       "       400.        , 400.        , 400.        , 400.        ,\n",
       "       400.        , 400.        , 400.        , 400.        ,\n",
       "       400.        , 400.        , 400.        , 400.        ,\n",
       "       400.        , 400.        , 400.        , 400.        ,\n",
       "       400.        , 400.        , 400.        , 400.        ,\n",
       "       400.        , 400.        , 400.        , 400.        ,\n",
       "       400.        , 400.        , 400.        , 400.        ,\n",
       "       400.        , 400.        , 400.        , 400.        ,\n",
       "       400.        , 400.        , 400.        , 400.        ,\n",
       "       400.        , 400.        ])"
      ]
     },
     "execution_count": 28,
     "metadata": {},
     "output_type": "execute_result"
    }
   ],
   "source": [
    "SCC_forecasted"
   ]
  },
  {
   "cell_type": "code",
   "execution_count": 29,
   "id": "ef9dcd63",
   "metadata": {},
   "outputs": [
    {
     "data": {
      "image/png": "[encoded data removed]",
      "text/plain": [
       "<Figure size 432x288 with 1 Axes>"
      ]
     },
     "metadata": {},
     "output_type": "display_data"
    }
   ],
   "source": [
    "plt.plot(T_forecast_years, SCC_forecasted)\n",
    "plt.xlabel(\"Year\")\n",
    "plt.ylabel(\"SCC ($)\")\n",
    "plt.yscale(\"log\")"
   ]
  },
  {
   "cell_type": "markdown",
   "id": "b85d4a61",
   "metadata": {},
   "source": [
    "## 3. Abatement as a function of time"
   ]
  },
  {
   "cell_type": "code",
   "execution_count": 30,
   "id": "a598428e",
   "metadata": {},
   "outputs": [],
   "source": [
    "P0 = SCC_forecasted[0]"
   ]
  },
  {
   "cell_type": "code",
   "execution_count": 31,
   "id": "b90c019f",
   "metadata": {
    "scrolled": true
   },
   "outputs": [
    {
     "name": "stderr",
     "output_type": "stream",
     "text": [
      "/var/folders/m4/mbpwp5q15070t8lqj4fj7mjr0000gn/T/ipykernel_7061/2392669901.py:35: RuntimeWarning: divide by zero encountered in power\n",
      "  A = Am / (1 + ((P - P0) / (P_h - P0)) ** (-s / r))\n"
     ]
    }
   ],
   "source": [
    "forecasted_abatement = abatement(P=SCC_forecasted, P0=P0)  # , r=consumption_discount"
   ]
  },
  {
   "cell_type": "markdown",
   "id": "ce23d485",
   "metadata": {},
   "source": [
    "problems with certain values due to constraints of the model"
   ]
  },
  {
   "cell_type": "code",
   "execution_count": 32,
   "id": "742752dd",
   "metadata": {},
   "outputs": [
    {
     "data": {
      "text/plain": [
       "6.966587664308996"
      ]
     },
     "execution_count": 32,
     "metadata": {},
     "output_type": "execute_result"
    }
   ],
   "source": [
    "((P_100-P0)/(P_50-P0))**(s/0.04)"
   ]
  },
  {
   "cell_type": "code",
   "execution_count": 33,
   "id": "4bd0b545",
   "metadata": {},
   "outputs": [
    {
     "data": {
      "text/plain": [
       "array([146.31096293, 150.97495695, 155.72507863, 160.56280798,\n",
       "       165.48988345, 170.50772851, 175.61825896, 180.82283932,\n",
       "       186.12356987, 191.52175373, 197.01968304, 202.61859689,\n",
       "       208.320987  , 214.12802573, 220.04241228, 226.06524947,\n",
       "       232.19945224, 238.44605092, 244.80818471, 251.28680844,\n",
       "       257.88529439, 264.60451874, 271.44809596, 278.41682034,\n",
       "       285.51455806, 292.74201806, 300.10332803, 307.59910814,\n",
       "       315.2337577 , 323.00780446, 330.9259299 , 338.98856559,\n",
       "       347.20068607, 355.56262285, 364.07965483, 372.75200938,\n",
       "       381.58528151, 390.5795903 , 399.74085893, 400.        ,\n",
       "       400.        , 400.        , 400.        , 400.        ,\n",
       "       400.        , 400.        , 400.        , 400.        ,\n",
       "       400.        , 400.        , 400.        , 400.        ,\n",
       "       400.        , 400.        , 400.        , 400.        ,\n",
       "       400.        , 400.        , 400.        , 400.        ,\n",
       "       400.        , 400.        , 400.        , 400.        ,\n",
       "       400.        , 400.        , 400.        , 400.        ,\n",
       "       400.        , 400.        , 400.        , 400.        ,\n",
       "       400.        , 400.        , 400.        , 400.        ,\n",
       "       400.        , 400.        , 400.        , 400.        ,\n",
       "       400.        , 400.        , 400.        , 400.        ,\n",
       "       400.        , 400.        , 400.        , 400.        ,\n",
       "       400.        , 400.        , 400.        , 400.        ,\n",
       "       400.        , 400.        , 400.        , 400.        ,\n",
       "       400.        , 400.        , 400.        , 400.        ,\n",
       "       400.        , 400.        , 400.        , 400.        ,\n",
       "       400.        , 400.        , 400.        , 400.        ,\n",
       "       400.        , 400.        , 400.        , 400.        ,\n",
       "       400.        , 400.        , 400.        , 400.        ,\n",
       "       400.        , 400.        , 400.        , 400.        ,\n",
       "       400.        , 400.        , 400.        , 400.        ,\n",
       "       400.        , 400.        , 400.        , 400.        ,\n",
       "       400.        , 400.        , 400.        , 400.        ,\n",
       "       400.        , 400.        , 400.        , 400.        ,\n",
       "       400.        , 400.        , 400.        , 400.        ,\n",
       "       400.        , 400.        , 400.        , 400.        ,\n",
       "       400.        , 400.        , 400.        , 400.        ,\n",
       "       400.        , 400.        , 400.        , 400.        ,\n",
       "       400.        , 400.        , 400.        , 400.        ,\n",
       "       400.        , 400.        , 400.        , 400.        ,\n",
       "       400.        , 400.        , 400.        , 400.        ,\n",
       "       400.        , 400.        , 400.        , 400.        ,\n",
       "       400.        , 400.        , 400.        , 400.        ,\n",
       "       400.        , 400.        , 400.        , 400.        ,\n",
       "       400.        , 400.        , 400.        , 400.        ,\n",
       "       400.        , 400.        , 400.        , 400.        ,\n",
       "       400.        , 400.        , 400.        , 400.        ,\n",
       "       400.        , 400.        , 400.        , 400.        ,\n",
       "       400.        , 400.        , 400.        , 400.        ,\n",
       "       400.        , 400.        , 400.        , 400.        ,\n",
       "       400.        , 400.        , 400.        , 400.        ,\n",
       "       400.        , 400.        , 400.        , 400.        ,\n",
       "       400.        , 400.        , 400.        , 400.        ,\n",
       "       400.        , 400.        , 400.        , 400.        ,\n",
       "       400.        , 400.        , 400.        , 400.        ,\n",
       "       400.        , 400.        , 400.        , 400.        ,\n",
       "       400.        , 400.        , 400.        , 400.        ,\n",
       "       400.        , 400.        , 400.        , 400.        ,\n",
       "       400.        , 400.        , 400.        , 400.        ,\n",
       "       400.        , 400.        , 400.        , 400.        ,\n",
       "       400.        , 400.        , 400.        , 400.        ,\n",
       "       400.        , 400.        , 400.        , 400.        ,\n",
       "       400.        , 400.        , 400.        , 400.        ,\n",
       "       400.        , 400.        , 400.        , 400.        ,\n",
       "       400.        , 400.        , 400.        , 400.        ,\n",
       "       400.        , 400.        , 400.        , 400.        ,\n",
       "       400.        , 400.        , 400.        , 400.        ,\n",
       "       400.        , 400.        , 400.        , 400.        ,\n",
       "       400.        , 400.        , 400.        , 400.        ,\n",
       "       400.        , 400.        , 400.        , 400.        ,\n",
       "       400.        , 400.        , 400.        , 400.        ,\n",
       "       400.        , 400.        , 400.        , 400.        ,\n",
       "       400.        , 400.        , 400.        , 400.        ,\n",
       "       400.        , 400.        , 400.        , 400.        ,\n",
       "       400.        , 400.        , 400.        , 400.        ,\n",
       "       400.        , 400.        , 400.        , 400.        ,\n",
       "       400.        , 400.        , 400.        , 400.        ,\n",
       "       400.        , 400.        , 400.        , 400.        ,\n",
       "       400.        , 400.        , 400.        , 400.        ,\n",
       "       400.        , 400.        , 400.        , 400.        ,\n",
       "       400.        , 400.        , 400.        , 400.        ,\n",
       "       400.        , 400.        , 400.        , 400.        ,\n",
       "       400.        , 400.        , 400.        , 400.        ,\n",
       "       400.        , 400.        , 400.        , 400.        ,\n",
       "       400.        , 400.        , 400.        , 400.        ,\n",
       "       400.        , 400.        , 400.        , 400.        ,\n",
       "       400.        , 400.        , 400.        , 400.        ,\n",
       "       400.        , 400.        , 400.        , 400.        ,\n",
       "       400.        , 400.        , 400.        , 400.        ,\n",
       "       400.        , 400.        , 400.        , 400.        ,\n",
       "       400.        , 400.        , 400.        , 400.        ,\n",
       "       400.        , 400.        , 400.        , 400.        ,\n",
       "       400.        , 400.        , 400.        , 400.        ,\n",
       "       400.        , 400.        , 400.        , 400.        ,\n",
       "       400.        , 400.        , 400.        , 400.        ,\n",
       "       400.        , 400.        , 400.        , 400.        ,\n",
       "       400.        , 400.        , 400.        , 400.        ,\n",
       "       400.        , 400.        , 400.        , 400.        ,\n",
       "       400.        , 400.        , 400.        , 400.        ,\n",
       "       400.        , 400.        , 400.        , 400.        ,\n",
       "       400.        , 400.        , 400.        , 400.        ,\n",
       "       400.        , 400.        , 400.        , 400.        ,\n",
       "       400.        , 400.        , 400.        , 400.        ,\n",
       "       400.        , 400.        , 400.        , 400.        ,\n",
       "       400.        , 400.        , 400.        , 400.        ,\n",
       "       400.        , 400.        , 400.        , 400.        ,\n",
       "       400.        , 400.        , 400.        , 400.        ,\n",
       "       400.        , 400.        , 400.        , 400.        ,\n",
       "       400.        , 400.        , 400.        , 400.        ,\n",
       "       400.        , 400.        , 400.        , 400.        ,\n",
       "       400.        , 400.        , 400.        , 400.        ,\n",
       "       400.        , 400.        , 400.        , 400.        ,\n",
       "       400.        , 400.        , 400.        , 400.        ,\n",
       "       400.        , 400.        , 400.        , 400.        ,\n",
       "       400.        , 400.        , 400.        , 400.        ,\n",
       "       400.        , 400.        , 400.        , 400.        ,\n",
       "       400.        , 400.        , 400.        , 400.        ,\n",
       "       400.        , 400.        , 400.        , 400.        ,\n",
       "       400.        , 400.        , 400.        , 400.        ,\n",
       "       400.        , 400.        , 400.        , 400.        ,\n",
       "       400.        , 400.        , 400.        , 400.        ,\n",
       "       400.        , 400.        , 400.        , 400.        ,\n",
       "       400.        , 400.        , 400.        , 400.        ,\n",
       "       400.        , 400.        , 400.        , 400.        ,\n",
       "       400.        , 400.        , 400.        , 400.        ,\n",
       "       400.        , 400.        , 400.        , 400.        ,\n",
       "       400.        , 400.        , 400.        , 400.        ,\n",
       "       400.        , 400.        , 400.        , 400.        ,\n",
       "       400.        , 400.        , 400.        , 400.        ,\n",
       "       400.        , 400.        , 400.        , 400.        ,\n",
       "       400.        , 400.        , 400.        , 400.        ,\n",
       "       400.        , 400.        , 400.        , 400.        ,\n",
       "       400.        , 400.        , 400.        , 400.        ,\n",
       "       400.        , 400.        , 400.        , 400.        ,\n",
       "       400.        , 400.        , 400.        , 400.        ,\n",
       "       400.        , 400.        , 400.        , 400.        ,\n",
       "       400.        , 400.        , 400.        , 400.        ,\n",
       "       400.        , 400.        , 400.        , 400.        ,\n",
       "       400.        , 400.        , 400.        , 400.        ,\n",
       "       400.        , 400.        , 400.        , 400.        ,\n",
       "       400.        , 400.        , 400.        , 400.        ,\n",
       "       400.        , 400.        , 400.        , 400.        ,\n",
       "       400.        , 400.        , 400.        , 400.        ,\n",
       "       400.        , 400.        , 400.        , 400.        ,\n",
       "       400.        , 400.        , 400.        , 400.        ,\n",
       "       400.        , 400.        , 400.        , 400.        ,\n",
       "       400.        , 400.        , 400.        , 400.        ,\n",
       "       400.        , 400.        , 400.        , 400.        ,\n",
       "       400.        , 400.        , 400.        , 400.        ,\n",
       "       400.        , 400.        , 400.        , 400.        ,\n",
       "       400.        , 400.        , 400.        , 400.        ,\n",
       "       400.        , 400.        , 400.        , 400.        ,\n",
       "       400.        , 400.        , 400.        , 400.        ,\n",
       "       400.        , 400.        , 400.        , 400.        ,\n",
       "       400.        , 400.        , 400.        , 400.        ,\n",
       "       400.        , 400.        , 400.        , 400.        ,\n",
       "       400.        , 400.        , 400.        , 400.        ,\n",
       "       400.        , 400.        , 400.        , 400.        ,\n",
       "       400.        , 400.        , 400.        , 400.        ,\n",
       "       400.        , 400.        , 400.        , 400.        ,\n",
       "       400.        , 400.        , 400.        , 400.        ,\n",
       "       400.        , 400.        , 400.        , 400.        ,\n",
       "       400.        , 400.        , 400.        , 400.        ,\n",
       "       400.        , 400.        , 400.        , 400.        ,\n",
       "       400.        , 400.        , 400.        , 400.        ,\n",
       "       400.        , 400.        , 400.        , 400.        ,\n",
       "       400.        , 400.        , 400.        , 400.        ,\n",
       "       400.        , 400.        , 400.        , 400.        ,\n",
       "       400.        , 400.        , 400.        , 400.        ,\n",
       "       400.        , 400.        , 400.        , 400.        ,\n",
       "       400.        , 400.        , 400.        , 400.        ,\n",
       "       400.        , 400.        , 400.        , 400.        ,\n",
       "       400.        , 400.        , 400.        , 400.        ,\n",
       "       400.        , 400.        , 400.        , 400.        ,\n",
       "       400.        , 400.        , 400.        , 400.        ,\n",
       "       400.        , 400.        , 400.        , 400.        ,\n",
       "       400.        , 400.        , 400.        , 400.        ,\n",
       "       400.        , 400.        , 400.        , 400.        ,\n",
       "       400.        , 400.        , 400.        , 400.        ,\n",
       "       400.        , 400.        , 400.        , 400.        ,\n",
       "       400.        , 400.        , 400.        , 400.        ,\n",
       "       400.        , 400.        , 400.        , 400.        ,\n",
       "       400.        , 400.        , 400.        , 400.        ,\n",
       "       400.        , 400.        , 400.        , 400.        ,\n",
       "       400.        , 400.        , 400.        , 400.        ,\n",
       "       400.        , 400.        , 400.        , 400.        ,\n",
       "       400.        , 400.        , 400.        , 400.        ,\n",
       "       400.        , 400.        , 400.        , 400.        ,\n",
       "       400.        , 400.        , 400.        , 400.        ,\n",
       "       400.        , 400.        , 400.        , 400.        ,\n",
       "       400.        , 400.        , 400.        , 400.        ,\n",
       "       400.        , 400.        , 400.        , 400.        ,\n",
       "       400.        , 400.        , 400.        , 400.        ,\n",
       "       400.        , 400.        , 400.        , 400.        ,\n",
       "       400.        , 400.        , 400.        , 400.        ,\n",
       "       400.        , 400.        , 400.        , 400.        ,\n",
       "       400.        , 400.        , 400.        , 400.        ,\n",
       "       400.        , 400.        , 400.        , 400.        ,\n",
       "       400.        , 400.        , 400.        , 400.        ,\n",
       "       400.        , 400.        , 400.        , 400.        ,\n",
       "       400.        , 400.        , 400.        , 400.        ,\n",
       "       400.        , 400.        , 400.        , 400.        ,\n",
       "       400.        , 400.        , 400.        , 400.        ,\n",
       "       400.        , 400.        , 400.        , 400.        ,\n",
       "       400.        , 400.        , 400.        , 400.        ,\n",
       "       400.        , 400.        , 400.        , 400.        ,\n",
       "       400.        , 400.        , 400.        , 400.        ,\n",
       "       400.        , 400.        , 400.        , 400.        ,\n",
       "       400.        , 400.        , 400.        , 400.        ,\n",
       "       400.        , 400.        , 400.        , 400.        ,\n",
       "       400.        , 400.        , 400.        , 400.        ,\n",
       "       400.        , 400.        , 400.        , 400.        ,\n",
       "       400.        , 400.        , 400.        , 400.        ,\n",
       "       400.        , 400.        , 400.        , 400.        ,\n",
       "       400.        , 400.        , 400.        , 400.        ,\n",
       "       400.        , 400.        , 400.        , 400.        ,\n",
       "       400.        , 400.        , 400.        , 400.        ,\n",
       "       400.        , 400.        , 400.        , 400.        ,\n",
       "       400.        , 400.        , 400.        , 400.        ,\n",
       "       400.        , 400.        , 400.        , 400.        ,\n",
       "       400.        , 400.        , 400.        , 400.        ,\n",
       "       400.        , 400.        , 400.        , 400.        ,\n",
       "       400.        , 400.        , 400.        , 400.        ,\n",
       "       400.        , 400.        , 400.        , 400.        ,\n",
       "       400.        , 400.        , 400.        , 400.        ,\n",
       "       400.        , 400.        , 400.        , 400.        ,\n",
       "       400.        , 400.        , 400.        , 400.        ,\n",
       "       400.        , 400.        , 400.        , 400.        ,\n",
       "       400.        , 400.        , 400.        , 400.        ,\n",
       "       400.        , 400.        , 400.        , 400.        ,\n",
       "       400.        , 400.        , 400.        , 400.        ,\n",
       "       400.        , 400.        , 400.        , 400.        ,\n",
       "       400.        , 400.        , 400.        , 400.        ,\n",
       "       400.        , 400.        , 400.        , 400.        ,\n",
       "       400.        , 400.        , 400.        , 400.        ,\n",
       "       400.        , 400.        , 400.        , 400.        ,\n",
       "       400.        , 400.        , 400.        , 400.        ,\n",
       "       400.        , 400.        , 400.        , 400.        ,\n",
       "       400.        , 400.        , 400.        , 400.        ,\n",
       "       400.        , 400.        , 400.        , 400.        ,\n",
       "       400.        , 400.        , 400.        , 400.        ,\n",
       "       400.        , 400.        , 400.        , 400.        ,\n",
       "       400.        , 400.        , 400.        , 400.        ,\n",
       "       400.        , 400.        , 400.        , 400.        ,\n",
       "       400.        , 400.        , 400.        , 400.        ,\n",
       "       400.        , 400.        ])"
      ]
     },
     "execution_count": 33,
     "metadata": {},
     "output_type": "execute_result"
    }
   ],
   "source": [
    "SCC_forecasted"
   ]
  },
  {
   "cell_type": "code",
   "execution_count": 34,
   "id": "f5eda68d",
   "metadata": {},
   "outputs": [
    {
     "data": {
      "text/plain": [
       "array([0.        , 0.03907819, 0.08990649, 0.1436718 , 0.19761819,\n",
       "       0.25035387, 0.30112643, 0.34953158, 0.39538519, 0.43862862,\n",
       "       0.47929431, 0.51745775, 0.55323346, 0.58674376, 0.61812735,\n",
       "       0.64751538, 0.6750455 , 0.70084152, 0.72502979, 0.74772075,\n",
       "       0.76902609, 0.78904152, 0.80786386, 0.82557482, 0.84225752,\n",
       "       0.8579811 , 0.87281661, 0.88682235, 0.90005899, 0.91257561,\n",
       "       0.92442403, 0.9356456 , 0.9462847 , 0.9563762 , 0.96595818,\n",
       "       0.97506012, 0.98371482, 0.99194726, 0.9997858 , 1.        ,\n",
       "       1.        , 1.        , 1.        , 1.        , 1.        ,\n",
       "       1.        , 1.        , 1.        , 1.        , 1.        ,\n",
       "       1.        , 1.        , 1.        , 1.        , 1.        ,\n",
       "       1.        , 1.        , 1.        , 1.        , 1.        ,\n",
       "       1.        , 1.        , 1.        , 1.        , 1.        ,\n",
       "       1.        , 1.        , 1.        , 1.        , 1.        ,\n",
       "       1.        , 1.        , 1.        , 1.        , 1.        ,\n",
       "       1.        , 1.        , 1.        , 1.        , 1.        ,\n",
       "       1.        , 1.        , 1.        , 1.        , 1.        ,\n",
       "       1.        , 1.        , 1.        , 1.        , 1.        ,\n",
       "       1.        , 1.        , 1.        , 1.        , 1.        ,\n",
       "       1.        , 1.        , 1.        , 1.        , 1.        ,\n",
       "       1.        , 1.        , 1.        , 1.        , 1.        ,\n",
       "       1.        , 1.        , 1.        , 1.        , 1.        ,\n",
       "       1.        , 1.        , 1.        , 1.        , 1.        ,\n",
       "       1.        , 1.        , 1.        , 1.        , 1.        ,\n",
       "       1.        , 1.        , 1.        , 1.        , 1.        ,\n",
       "       1.        , 1.        , 1.        , 1.        , 1.        ,\n",
       "       1.        , 1.        , 1.        , 1.        , 1.        ,\n",
       "       1.        , 1.        , 1.        , 1.        , 1.        ,\n",
       "       1.        , 1.        , 1.        , 1.        , 1.        ,\n",
       "       1.        , 1.        , 1.        , 1.        , 1.        ,\n",
       "       1.        , 1.        , 1.        , 1.        , 1.        ,\n",
       "       1.        , 1.        , 1.        , 1.        , 1.        ,\n",
       "       1.        , 1.        , 1.        , 1.        , 1.        ,\n",
       "       1.        , 1.        , 1.        , 1.        , 1.        ,\n",
       "       1.        , 1.        , 1.        , 1.        , 1.        ,\n",
       "       1.        , 1.        , 1.        , 1.        , 1.        ,\n",
       "       1.        , 1.        , 1.        , 1.        , 1.        ,\n",
       "       1.        , 1.        , 1.        , 1.        , 1.        ,\n",
       "       1.        , 1.        , 1.        , 1.        , 1.        ,\n",
       "       1.        , 1.        , 1.        , 1.        , 1.        ,\n",
       "       1.        , 1.        , 1.        , 1.        , 1.        ,\n",
       "       1.        , 1.        , 1.        , 1.        , 1.        ,\n",
       "       1.        , 1.        , 1.        , 1.        , 1.        ,\n",
       "       1.        , 1.        , 1.        , 1.        , 1.        ,\n",
       "       1.        , 1.        , 1.        , 1.        , 1.        ,\n",
       "       1.        , 1.        , 1.        , 1.        , 1.        ,\n",
       "       1.        , 1.        , 1.        , 1.        , 1.        ,\n",
       "       1.        , 1.        , 1.        , 1.        , 1.        ,\n",
       "       1.        , 1.        , 1.        , 1.        , 1.        ,\n",
       "       1.        , 1.        , 1.        , 1.        , 1.        ,\n",
       "       1.        , 1.        , 1.        , 1.        , 1.        ,\n",
       "       1.        , 1.        , 1.        , 1.        , 1.        ,\n",
       "       1.        , 1.        , 1.        , 1.        , 1.        ,\n",
       "       1.        , 1.        , 1.        , 1.        , 1.        ,\n",
       "       1.        , 1.        , 1.        , 1.        , 1.        ,\n",
       "       1.        , 1.        , 1.        , 1.        , 1.        ,\n",
       "       1.        , 1.        , 1.        , 1.        , 1.        ,\n",
       "       1.        , 1.        , 1.        , 1.        , 1.        ,\n",
       "       1.        , 1.        , 1.        , 1.        , 1.        ,\n",
       "       1.        , 1.        , 1.        , 1.        , 1.        ,\n",
       "       1.        , 1.        , 1.        , 1.        , 1.        ,\n",
       "       1.        , 1.        , 1.        , 1.        , 1.        ,\n",
       "       1.        , 1.        , 1.        , 1.        , 1.        ,\n",
       "       1.        , 1.        , 1.        , 1.        , 1.        ,\n",
       "       1.        , 1.        , 1.        , 1.        , 1.        ,\n",
       "       1.        , 1.        , 1.        , 1.        , 1.        ,\n",
       "       1.        , 1.        , 1.        , 1.        , 1.        ,\n",
       "       1.        , 1.        , 1.        , 1.        , 1.        ,\n",
       "       1.        , 1.        , 1.        , 1.        , 1.        ,\n",
       "       1.        , 1.        , 1.        , 1.        , 1.        ,\n",
       "       1.        , 1.        , 1.        , 1.        , 1.        ,\n",
       "       1.        , 1.        , 1.        , 1.        , 1.        ,\n",
       "       1.        , 1.        , 1.        , 1.        , 1.        ,\n",
       "       1.        , 1.        , 1.        , 1.        , 1.        ,\n",
       "       1.        , 1.        , 1.        , 1.        , 1.        ,\n",
       "       1.        , 1.        , 1.        , 1.        , 1.        ,\n",
       "       1.        , 1.        , 1.        , 1.        , 1.        ,\n",
       "       1.        , 1.        , 1.        , 1.        , 1.        ,\n",
       "       1.        , 1.        , 1.        , 1.        , 1.        ,\n",
       "       1.        , 1.        , 1.        , 1.        , 1.        ,\n",
       "       1.        , 1.        , 1.        , 1.        , 1.        ,\n",
       "       1.        , 1.        , 1.        , 1.        , 1.        ,\n",
       "       1.        , 1.        , 1.        , 1.        , 1.        ,\n",
       "       1.        , 1.        , 1.        , 1.        , 1.        ,\n",
       "       1.        , 1.        , 1.        , 1.        , 1.        ,\n",
       "       1.        , 1.        , 1.        , 1.        , 1.        ,\n",
       "       1.        , 1.        , 1.        , 1.        , 1.        ,\n",
       "       1.        , 1.        , 1.        , 1.        , 1.        ,\n",
       "       1.        , 1.        , 1.        , 1.        , 1.        ,\n",
       "       1.        , 1.        , 1.        , 1.        , 1.        ,\n",
       "       1.        , 1.        , 1.        , 1.        , 1.        ,\n",
       "       1.        , 1.        , 1.        , 1.        , 1.        ,\n",
       "       1.        , 1.        , 1.        , 1.        , 1.        ,\n",
       "       1.        , 1.        , 1.        , 1.        , 1.        ,\n",
       "       1.        , 1.        , 1.        , 1.        , 1.        ,\n",
       "       1.        , 1.        , 1.        , 1.        , 1.        ,\n",
       "       1.        , 1.        , 1.        , 1.        , 1.        ,\n",
       "       1.        , 1.        , 1.        , 1.        , 1.        ,\n",
       "       1.        , 1.        , 1.        , 1.        , 1.        ,\n",
       "       1.        , 1.        , 1.        , 1.        , 1.        ,\n",
       "       1.        , 1.        , 1.        , 1.        , 1.        ,\n",
       "       1.        , 1.        , 1.        , 1.        , 1.        ,\n",
       "       1.        , 1.        , 1.        , 1.        , 1.        ,\n",
       "       1.        , 1.        , 1.        , 1.        , 1.        ,\n",
       "       1.        , 1.        , 1.        , 1.        , 1.        ,\n",
       "       1.        , 1.        , 1.        , 1.        , 1.        ,\n",
       "       1.        , 1.        , 1.        , 1.        , 1.        ,\n",
       "       1.        , 1.        , 1.        , 1.        , 1.        ,\n",
       "       1.        , 1.        , 1.        , 1.        , 1.        ,\n",
       "       1.        , 1.        , 1.        , 1.        , 1.        ,\n",
       "       1.        , 1.        , 1.        , 1.        , 1.        ,\n",
       "       1.        , 1.        , 1.        , 1.        , 1.        ,\n",
       "       1.        , 1.        , 1.        , 1.        , 1.        ,\n",
       "       1.        , 1.        , 1.        , 1.        , 1.        ,\n",
       "       1.        , 1.        , 1.        , 1.        , 1.        ,\n",
       "       1.        , 1.        , 1.        , 1.        , 1.        ,\n",
       "       1.        , 1.        , 1.        , 1.        , 1.        ,\n",
       "       1.        , 1.        , 1.        , 1.        , 1.        ,\n",
       "       1.        , 1.        , 1.        , 1.        , 1.        ,\n",
       "       1.        , 1.        , 1.        , 1.        , 1.        ,\n",
       "       1.        , 1.        , 1.        , 1.        , 1.        ,\n",
       "       1.        , 1.        , 1.        , 1.        , 1.        ,\n",
       "       1.        , 1.        , 1.        , 1.        , 1.        ,\n",
       "       1.        , 1.        , 1.        , 1.        , 1.        ,\n",
       "       1.        , 1.        , 1.        , 1.        , 1.        ,\n",
       "       1.        , 1.        , 1.        , 1.        , 1.        ,\n",
       "       1.        , 1.        , 1.        , 1.        , 1.        ,\n",
       "       1.        , 1.        , 1.        , 1.        , 1.        ,\n",
       "       1.        , 1.        , 1.        , 1.        , 1.        ,\n",
       "       1.        , 1.        , 1.        , 1.        , 1.        ,\n",
       "       1.        , 1.        , 1.        , 1.        , 1.        ,\n",
       "       1.        , 1.        , 1.        , 1.        , 1.        ,\n",
       "       1.        , 1.        , 1.        , 1.        , 1.        ,\n",
       "       1.        , 1.        , 1.        , 1.        , 1.        ,\n",
       "       1.        , 1.        , 1.        , 1.        , 1.        ,\n",
       "       1.        , 1.        , 1.        , 1.        , 1.        ,\n",
       "       1.        , 1.        , 1.        , 1.        , 1.        ,\n",
       "       1.        , 1.        , 1.        , 1.        , 1.        ,\n",
       "       1.        , 1.        , 1.        , 1.        , 1.        ,\n",
       "       1.        , 1.        , 1.        , 1.        , 1.        ,\n",
       "       1.        , 1.        , 1.        , 1.        , 1.        ,\n",
       "       1.        , 1.        , 1.        , 1.        , 1.        ,\n",
       "       1.        , 1.        , 1.        , 1.        , 1.        ,\n",
       "       1.        , 1.        , 1.        , 1.        , 1.        ,\n",
       "       1.        , 1.        , 1.        , 1.        , 1.        ,\n",
       "       1.        , 1.        , 1.        , 1.        , 1.        ,\n",
       "       1.        , 1.        , 1.        , 1.        , 1.        ,\n",
       "       1.        , 1.        , 1.        , 1.        , 1.        ,\n",
       "       1.        , 1.        , 1.        , 1.        , 1.        ,\n",
       "       1.        , 1.        , 1.        , 1.        , 1.        ,\n",
       "       1.        , 1.        , 1.        , 1.        , 1.        ,\n",
       "       1.        , 1.        , 1.        , 1.        , 1.        ,\n",
       "       1.        , 1.        , 1.        , 1.        , 1.        ,\n",
       "       1.        , 1.        , 1.        , 1.        , 1.        ,\n",
       "       1.        , 1.        , 1.        , 1.        , 1.        ,\n",
       "       1.        , 1.        , 1.        , 1.        , 1.        ,\n",
       "       1.        , 1.        , 1.        , 1.        , 1.        ,\n",
       "       1.        , 1.        , 1.        , 1.        , 1.        ,\n",
       "       1.        , 1.        , 1.        , 1.        , 1.        ,\n",
       "       1.        , 1.        , 1.        , 1.        , 1.        ,\n",
       "       1.        , 1.        , 1.        , 1.        , 1.        ,\n",
       "       1.        , 1.        , 1.        , 1.        , 1.        ,\n",
       "       1.        , 1.        , 1.        , 1.        , 1.        ,\n",
       "       1.        , 1.        , 1.        , 1.        , 1.        ,\n",
       "       1.        , 1.        , 1.        , 1.        , 1.        ,\n",
       "       1.        , 1.        , 1.        , 1.        , 1.        ,\n",
       "       1.        , 1.        , 1.        , 1.        , 1.        ,\n",
       "       1.        , 1.        , 1.        , 1.        , 1.        ,\n",
       "       1.        , 1.        , 1.        , 1.        , 1.        ,\n",
       "       1.        , 1.        , 1.        , 1.        , 1.        ,\n",
       "       1.        , 1.        , 1.        , 1.        , 1.        ,\n",
       "       1.        , 1.        , 1.        , 1.        , 1.        ,\n",
       "       1.        , 1.        , 1.        , 1.        , 1.        ,\n",
       "       1.        , 1.        , 1.        , 1.        , 1.        ,\n",
       "       1.        , 1.        , 1.        , 1.        , 1.        ,\n",
       "       1.        , 1.        , 1.        , 1.        , 1.        ,\n",
       "       1.        , 1.        , 1.        , 1.        , 1.        ,\n",
       "       1.        , 1.        , 1.        , 1.        , 1.        ,\n",
       "       1.        , 1.        , 1.        , 1.        , 1.        ,\n",
       "       1.        , 1.        , 1.        , 1.        , 1.        ,\n",
       "       1.        , 1.        , 1.        , 1.        , 1.        ,\n",
       "       1.        , 1.        , 1.        , 1.        , 1.        ,\n",
       "       1.        , 1.        , 1.        , 1.        , 1.        ,\n",
       "       1.        , 1.        , 1.        , 1.        , 1.        ,\n",
       "       1.        , 1.        , 1.        , 1.        , 1.        ,\n",
       "       1.        , 1.        , 1.        , 1.        , 1.        ,\n",
       "       1.        , 1.        , 1.        , 1.        , 1.        ,\n",
       "       1.        , 1.        , 1.        , 1.        , 1.        ,\n",
       "       1.        , 1.        , 1.        , 1.        , 1.        ,\n",
       "       1.        , 1.        , 1.        , 1.        , 1.        ,\n",
       "       1.        , 1.        , 1.        , 1.        , 1.        ,\n",
       "       1.        , 1.        , 1.        , 1.        , 1.        ,\n",
       "       1.        , 1.        , 1.        , 1.        , 1.        ,\n",
       "       1.        , 1.        , 1.        , 1.        , 1.        ,\n",
       "       1.        , 1.        , 1.        , 1.        , 1.        ,\n",
       "       1.        , 1.        , 1.        , 1.        , 1.        ,\n",
       "       1.        , 1.        ])"
      ]
     },
     "execution_count": 34,
     "metadata": {},
     "output_type": "execute_result"
    }
   ],
   "source": [
    "forecasted_abatement"
   ]
  },
  {
   "cell_type": "code",
   "execution_count": 35,
   "id": "ee6144a3",
   "metadata": {
    "scrolled": true
   },
   "outputs": [],
   "source": [
    "# abatement(P=np.array([50]), P0=P0, r=consumption_discount, P_100=200)"
   ]
  },
  {
   "cell_type": "code",
   "execution_count": 36,
   "id": "ad9ae8c7",
   "metadata": {},
   "outputs": [],
   "source": [
    "# P0"
   ]
  },
  {
   "cell_type": "code",
   "execution_count": 37,
   "id": "13ad0aee",
   "metadata": {},
   "outputs": [],
   "source": [
    "# r=0.04\n",
    "# s=0.029687500000000006\n",
    "# (P_50 - P0) ** (-s / r) - 2 * (P_100 - P0) ** (-s / r)"
   ]
  },
  {
   "cell_type": "code",
   "execution_count": 38,
   "id": "54d9db47",
   "metadata": {},
   "outputs": [],
   "source": [
    "# ((P_50 - P0) ** (-s / r) - 2 * (P_100 - P0) ** (-s / r)) ** (-r / s)"
   ]
  },
  {
   "cell_type": "code",
   "execution_count": null,
   "id": "aa2c7a0f",
   "metadata": {},
   "outputs": [],
   "source": []
  },
  {
   "cell_type": "code",
   "execution_count": 39,
   "id": "7a45a7c4",
   "metadata": {},
   "outputs": [
    {
     "data": {
      "text/plain": [
       "2500"
      ]
     },
     "execution_count": 39,
     "metadata": {},
     "output_type": "execute_result"
    }
   ],
   "source": [
    "T_forecast_years[last_perturbed_year - 2019]"
   ]
  },
  {
   "cell_type": "code",
   "execution_count": 40,
   "id": "832b66da",
   "metadata": {},
   "outputs": [
    {
     "data": {
      "text/plain": [
       "1.0"
      ]
     },
     "execution_count": 40,
     "metadata": {},
     "output_type": "execute_result"
    }
   ],
   "source": [
    "forecasted_abatement[last_perturbed_year - 2019]"
   ]
  },
  {
   "cell_type": "code",
   "execution_count": 41,
   "id": "74f04839",
   "metadata": {},
   "outputs": [
    {
     "data": {
      "text/plain": [
       "Text(0, 0.5, 'Abatement')"
      ]
     },
     "execution_count": 41,
     "metadata": {},
     "output_type": "execute_result"
    },
    {
     "data": {
      "image/png": "[encoded data removed]",
      "text/plain": [
       "<Figure size 432x288 with 1 Axes>"
      ]
     },
     "metadata": {},
     "output_type": "display_data"
    }
   ],
   "source": [
    "plt.plot(T_forecast_years, forecasted_abatement)\n",
    "plt.xlabel(\"Year\")\n",
    "plt.ylabel(\"Abatement\")"
   ]
  },
  {
   "cell_type": "markdown",
   "id": "351acbf6",
   "metadata": {},
   "source": [
    "## 4. Abatement to emissions"
   ]
  },
  {
   "cell_type": "code",
   "execution_count": 42,
   "id": "d50edac1",
   "metadata": {},
   "outputs": [],
   "source": [
    "# # choose ssp to use\n",
    "# ssp='ssp245'\n",
    "\n",
    "# # get emissions data using imported scripts + convert into FaIRv2.0.0-alpha multiindex format\n",
    "# ssp_emms = pd.concat([get_ssp_emissions(ssp)],axis=1,keys=[ssp])"
   ]
  },
  {
   "cell_type": "code",
   "execution_count": 43,
   "id": "cab40b26",
   "metadata": {},
   "outputs": [],
   "source": [
    "# ssp_emms[\"ssp245\"].to_csv(\"ssp245.csv\")"
   ]
  },
  {
   "cell_type": "code",
   "execution_count": 44,
   "id": "fc4b70e0",
   "metadata": {},
   "outputs": [],
   "source": [
    "ssp_df = pd.read_csv(\"ssp245.csv\", index_col=0)"
   ]
  },
  {
   "cell_type": "code",
   "execution_count": 45,
   "id": "d35c6e25",
   "metadata": {},
   "outputs": [],
   "source": [
    "# ssp245_CO2_past = ssp_emms[\"ssp245\"][\"carbon_dioxide\"]*(44/12)  "
   ]
  },
  {
   "cell_type": "code",
   "execution_count": 46,
   "id": "9931f49d",
   "metadata": {},
   "outputs": [],
   "source": [
    "ssp245_CO2_past = ssp_df[\"carbon_dioxide\"]*(44/12)  "
   ]
  },
  {
   "cell_type": "code",
   "execution_count": 47,
   "id": "517f8ae9",
   "metadata": {},
   "outputs": [],
   "source": [
    "CO2_baseline = ssp245_CO2_past[2019] # set baseline to current emissions"
   ]
  },
  {
   "cell_type": "code",
   "execution_count": 48,
   "id": "d5b39b78",
   "metadata": {},
   "outputs": [],
   "source": [
    "forecasted_emissions = abatement_to_emissions(forecasted_abatement, CO2_baseline)"
   ]
  },
  {
   "cell_type": "code",
   "execution_count": 49,
   "id": "3836f4ce",
   "metadata": {},
   "outputs": [
    {
     "data": {
      "text/plain": [
       "<matplotlib.legend.Legend at 0x7feb90138520>"
      ]
     },
     "execution_count": 49,
     "metadata": {},
     "output_type": "execute_result"
    },
    {
     "data": {
      "image/png": "[encoded data removed]",
      "text/plain": [
       "<Figure size 432x288 with 1 Axes>"
      ]
     },
     "metadata": {},
     "output_type": "display_data"
    }
   ],
   "source": [
    "plt.plot(ssp245_CO2_past, label=\"historical emissions\")\n",
    "plt.plot(T_forecast_years, forecasted_emissions, label=\"forecasted emissions\")\n",
    "plt.xlabel(\"Year\")\n",
    "plt.ylabel(\"CO2 Emissions / GtCO2\")\n",
    "plt.legend()"
   ]
  },
  {
   "cell_type": "markdown",
   "id": "3a514bf1",
   "metadata": {},
   "source": [
    "## 5. Cumulative Emissions to Temperature Change"
   ]
  },
  {
   "cell_type": "code",
   "execution_count": 50,
   "id": "73bf2aa6",
   "metadata": {},
   "outputs": [],
   "source": [
    "cumulative_emissions_array = np.append(np.zeros(1), np.cumsum(forecasted_emissions)[:-1])"
   ]
  },
  {
   "cell_type": "code",
   "execution_count": 51,
   "id": "fd92bad9",
   "metadata": {},
   "outputs": [],
   "source": [
    "# cumulative_emissions"
   ]
  },
  {
   "cell_type": "code",
   "execution_count": 52,
   "id": "312af8b5",
   "metadata": {},
   "outputs": [],
   "source": [
    "# len(cumulative_emissions)"
   ]
  },
  {
   "cell_type": "code",
   "execution_count": 53,
   "id": "ab8dc657",
   "metadata": {},
   "outputs": [],
   "source": [
    "# cumulative_emissions = []\n",
    "\n",
    "# for i in range(len(T_forecast_years)):\n",
    "#     area = simps(forecasted_emissions[:i+1], dx=1)\n",
    "#     cumulative_emissions.append(area)"
   ]
  },
  {
   "cell_type": "code",
   "execution_count": 54,
   "id": "2d272b2b",
   "metadata": {},
   "outputs": [],
   "source": [
    "# cumulative_emissions_array = np.asarray(cumulative_emissions)"
   ]
  },
  {
   "cell_type": "code",
   "execution_count": 55,
   "id": "0ea3fb64",
   "metadata": {},
   "outputs": [],
   "source": [
    "temperature_change = T_TCRE*cumulative_emissions_array"
   ]
  },
  {
   "cell_type": "code",
   "execution_count": 56,
   "id": "1bc01e55",
   "metadata": {},
   "outputs": [],
   "source": [
    "# temperature_change_plateau = np.array(temperature_change, copy=True)\n",
    "\n",
    "# for i in range(len(temperature_change_plateau)):\n",
    "#     if i > np.argmax(temperature_change_plateau):\n",
    "#         temperature_change_plateau[i] = max(temperature_change_plateau)"
   ]
  },
  {
   "cell_type": "code",
   "execution_count": 57,
   "id": "6fd34d07",
   "metadata": {},
   "outputs": [
    {
     "data": {
      "text/plain": [
       "0.2919062519029056"
      ]
     },
     "execution_count": 57,
     "metadata": {},
     "output_type": "execute_result"
    }
   ],
   "source": [
    "max(temperature_change)"
   ]
  },
  {
   "cell_type": "code",
   "execution_count": 58,
   "id": "098a473c",
   "metadata": {},
   "outputs": [],
   "source": [
    "T_forecast_iteration0 = T_2019 + temperature_change\n",
    "# T_forecast_iteration0_plateau = T_2019 + temperature_change_plateau"
   ]
  },
  {
   "cell_type": "code",
   "execution_count": 59,
   "id": "2d4905dc",
   "metadata": {},
   "outputs": [
    {
     "data": {
      "text/plain": [
       "<matplotlib.legend.Legend at 0x7feb8fed1fa0>"
      ]
     },
     "execution_count": 59,
     "metadata": {},
     "output_type": "execute_result"
    },
    {
     "data": {
      "image/png": "[encoded data removed]",
      "text/plain": [
       "<Figure size 432x288 with 1 Axes>"
      ]
     },
     "metadata": {},
     "output_type": "display_data"
    }
   ],
   "source": [
    "plt.plot(T_forecast_years, T_forecast, label=\"initial guess\")\n",
    "plt.plot(T_forecast_years, T_forecast_iteration0, label=\"iteration 0\")\n",
    "# plt.plot(T_forecast_years, T_forecast_iteration0_plateau, label=\"iteration 0 plateau\")\n",
    "plt.xlabel(\"year\")\n",
    "plt.ylabel(\"temperature / K\")\n",
    "plt.legend()"
   ]
  },
  {
   "cell_type": "markdown",
   "id": "5caeb893",
   "metadata": {},
   "source": [
    "# Iterating Further"
   ]
  },
  {
   "cell_type": "code",
   "execution_count": 60,
   "id": "d69d4920",
   "metadata": {},
   "outputs": [],
   "source": [
    "# T_forecast_first_loop = T_forecast_iteration0_plateau\n",
    "# T_forecast_iteration = T_forecast_iteration0_plateau"
   ]
  },
  {
   "cell_type": "code",
   "execution_count": 61,
   "id": "d6664051",
   "metadata": {},
   "outputs": [],
   "source": [
    "T_forecast_first_loop = T_forecast_iteration0\n",
    "T_forecast_iteration = T_forecast_iteration0"
   ]
  },
  {
   "cell_type": "code",
   "execution_count": 62,
   "id": "6f94dba2",
   "metadata": {},
   "outputs": [],
   "source": [
    "# T_forecast_iteration"
   ]
  },
  {
   "cell_type": "code",
   "execution_count": 63,
   "id": "0bdc0913",
   "metadata": {},
   "outputs": [
    {
     "name": "stderr",
     "output_type": "stream",
     "text": [
      "/var/folders/m4/mbpwp5q15070t8lqj4fj7mjr0000gn/T/ipykernel_7061/2392669901.py:35: RuntimeWarning: divide by zero encountered in power\n",
      "  A = Am / (1 + ((P - P0) / (P_h - P0)) ** (-s / r))\n",
      "/var/folders/m4/mbpwp5q15070t8lqj4fj7mjr0000gn/T/ipykernel_7061/2392669901.py:35: RuntimeWarning: divide by zero encountered in power\n",
      "  A = Am / (1 + ((P - P0) / (P_h - P0)) ** (-s / r))\n",
      "/var/folders/m4/mbpwp5q15070t8lqj4fj7mjr0000gn/T/ipykernel_7061/2392669901.py:35: RuntimeWarning: divide by zero encountered in power\n",
      "  A = Am / (1 + ((P - P0) / (P_h - P0)) ** (-s / r))\n",
      "/var/folders/m4/mbpwp5q15070t8lqj4fj7mjr0000gn/T/ipykernel_7061/2392669901.py:35: RuntimeWarning: divide by zero encountered in power\n",
      "  A = Am / (1 + ((P - P0) / (P_h - P0)) ** (-s / r))\n",
      "/var/folders/m4/mbpwp5q15070t8lqj4fj7mjr0000gn/T/ipykernel_7061/2392669901.py:35: RuntimeWarning: divide by zero encountered in power\n",
      "  A = Am / (1 + ((P - P0) / (P_h - P0)) ** (-s / r))\n",
      "/var/folders/m4/mbpwp5q15070t8lqj4fj7mjr0000gn/T/ipykernel_7061/2392669901.py:35: RuntimeWarning: divide by zero encountered in power\n",
      "  A = Am / (1 + ((P - P0) / (P_h - P0)) ** (-s / r))\n",
      "/var/folders/m4/mbpwp5q15070t8lqj4fj7mjr0000gn/T/ipykernel_7061/2392669901.py:35: RuntimeWarning: divide by zero encountered in power\n",
      "  A = Am / (1 + ((P - P0) / (P_h - P0)) ** (-s / r))\n",
      "/var/folders/m4/mbpwp5q15070t8lqj4fj7mjr0000gn/T/ipykernel_7061/2392669901.py:35: RuntimeWarning: divide by zero encountered in power\n",
      "  A = Am / (1 + ((P - P0) / (P_h - P0)) ** (-s / r))\n",
      "/var/folders/m4/mbpwp5q15070t8lqj4fj7mjr0000gn/T/ipykernel_7061/2392669901.py:35: RuntimeWarning: divide by zero encountered in power\n",
      "  A = Am / (1 + ((P - P0) / (P_h - P0)) ** (-s / r))\n",
      "/var/folders/m4/mbpwp5q15070t8lqj4fj7mjr0000gn/T/ipykernel_7061/2392669901.py:35: RuntimeWarning: divide by zero encountered in power\n",
      "  A = Am / (1 + ((P - P0) / (P_h - P0)) ** (-s / r))\n",
      "/var/folders/m4/mbpwp5q15070t8lqj4fj7mjr0000gn/T/ipykernel_7061/2392669901.py:35: RuntimeWarning: divide by zero encountered in power\n",
      "  A = Am / (1 + ((P - P0) / (P_h - P0)) ** (-s / r))\n",
      "/var/folders/m4/mbpwp5q15070t8lqj4fj7mjr0000gn/T/ipykernel_7061/2392669901.py:35: RuntimeWarning: divide by zero encountered in power\n",
      "  A = Am / (1 + ((P - P0) / (P_h - P0)) ** (-s / r))\n",
      "/var/folders/m4/mbpwp5q15070t8lqj4fj7mjr0000gn/T/ipykernel_7061/2392669901.py:35: RuntimeWarning: divide by zero encountered in power\n",
      "  A = Am / (1 + ((P - P0) / (P_h - P0)) ** (-s / r))\n",
      "/var/folders/m4/mbpwp5q15070t8lqj4fj7mjr0000gn/T/ipykernel_7061/2392669901.py:35: RuntimeWarning: divide by zero encountered in power\n",
      "  A = Am / (1 + ((P - P0) / (P_h - P0)) ** (-s / r))\n",
      "/var/folders/m4/mbpwp5q15070t8lqj4fj7mjr0000gn/T/ipykernel_7061/2392669901.py:35: RuntimeWarning: divide by zero encountered in power\n",
      "  A = Am / (1 + ((P - P0) / (P_h - P0)) ** (-s / r))\n",
      "/var/folders/m4/mbpwp5q15070t8lqj4fj7mjr0000gn/T/ipykernel_7061/2392669901.py:35: RuntimeWarning: divide by zero encountered in power\n",
      "  A = Am / (1 + ((P - P0) / (P_h - P0)) ** (-s / r))\n",
      "/var/folders/m4/mbpwp5q15070t8lqj4fj7mjr0000gn/T/ipykernel_7061/2392669901.py:35: RuntimeWarning: divide by zero encountered in power\n",
      "  A = Am / (1 + ((P - P0) / (P_h - P0)) ** (-s / r))\n",
      "/var/folders/m4/mbpwp5q15070t8lqj4fj7mjr0000gn/T/ipykernel_7061/2392669901.py:35: RuntimeWarning: divide by zero encountered in power\n",
      "  A = Am / (1 + ((P - P0) / (P_h - P0)) ** (-s / r))\n",
      "/var/folders/m4/mbpwp5q15070t8lqj4fj7mjr0000gn/T/ipykernel_7061/2392669901.py:35: RuntimeWarning: divide by zero encountered in power\n",
      "  A = Am / (1 + ((P - P0) / (P_h - P0)) ** (-s / r))\n",
      "/var/folders/m4/mbpwp5q15070t8lqj4fj7mjr0000gn/T/ipykernel_7061/2392669901.py:35: RuntimeWarning: divide by zero encountered in power\n",
      "  A = Am / (1 + ((P - P0) / (P_h - P0)) ** (-s / r))\n",
      "/var/folders/m4/mbpwp5q15070t8lqj4fj7mjr0000gn/T/ipykernel_7061/2392669901.py:35: RuntimeWarning: divide by zero encountered in power\n",
      "  A = Am / (1 + ((P - P0) / (P_h - P0)) ** (-s / r))\n",
      "/var/folders/m4/mbpwp5q15070t8lqj4fj7mjr0000gn/T/ipykernel_7061/2392669901.py:35: RuntimeWarning: divide by zero encountered in power\n",
      "  A = Am / (1 + ((P - P0) / (P_h - P0)) ** (-s / r))\n",
      "/var/folders/m4/mbpwp5q15070t8lqj4fj7mjr0000gn/T/ipykernel_7061/2392669901.py:35: RuntimeWarning: divide by zero encountered in power\n",
      "  A = Am / (1 + ((P - P0) / (P_h - P0)) ** (-s / r))\n",
      "/var/folders/m4/mbpwp5q15070t8lqj4fj7mjr0000gn/T/ipykernel_7061/2392669901.py:35: RuntimeWarning: divide by zero encountered in power\n",
      "  A = Am / (1 + ((P - P0) / (P_h - P0)) ** (-s / r))\n",
      "/var/folders/m4/mbpwp5q15070t8lqj4fj7mjr0000gn/T/ipykernel_7061/2392669901.py:35: RuntimeWarning: divide by zero encountered in power\n",
      "  A = Am / (1 + ((P - P0) / (P_h - P0)) ** (-s / r))\n",
      "/var/folders/m4/mbpwp5q15070t8lqj4fj7mjr0000gn/T/ipykernel_7061/2392669901.py:35: RuntimeWarning: divide by zero encountered in power\n",
      "  A = Am / (1 + ((P - P0) / (P_h - P0)) ** (-s / r))\n",
      "/var/folders/m4/mbpwp5q15070t8lqj4fj7mjr0000gn/T/ipykernel_7061/2392669901.py:35: RuntimeWarning: divide by zero encountered in power\n",
      "  A = Am / (1 + ((P - P0) / (P_h - P0)) ** (-s / r))\n",
      "/var/folders/m4/mbpwp5q15070t8lqj4fj7mjr0000gn/T/ipykernel_7061/2392669901.py:35: RuntimeWarning: divide by zero encountered in power\n",
      "  A = Am / (1 + ((P - P0) / (P_h - P0)) ** (-s / r))\n",
      "/var/folders/m4/mbpwp5q15070t8lqj4fj7mjr0000gn/T/ipykernel_7061/2392669901.py:35: RuntimeWarning: divide by zero encountered in power\n",
      "  A = Am / (1 + ((P - P0) / (P_h - P0)) ** (-s / r))\n",
      "/var/folders/m4/mbpwp5q15070t8lqj4fj7mjr0000gn/T/ipykernel_7061/2392669901.py:35: RuntimeWarning: divide by zero encountered in power\n",
      "  A = Am / (1 + ((P - P0) / (P_h - P0)) ** (-s / r))\n",
      "/var/folders/m4/mbpwp5q15070t8lqj4fj7mjr0000gn/T/ipykernel_7061/2392669901.py:35: RuntimeWarning: divide by zero encountered in power\n",
      "  A = Am / (1 + ((P - P0) / (P_h - P0)) ** (-s / r))\n",
      "/var/folders/m4/mbpwp5q15070t8lqj4fj7mjr0000gn/T/ipykernel_7061/2392669901.py:35: RuntimeWarning: divide by zero encountered in power\n",
      "  A = Am / (1 + ((P - P0) / (P_h - P0)) ** (-s / r))\n",
      "/var/folders/m4/mbpwp5q15070t8lqj4fj7mjr0000gn/T/ipykernel_7061/2392669901.py:35: RuntimeWarning: divide by zero encountered in power\n",
      "  A = Am / (1 + ((P - P0) / (P_h - P0)) ** (-s / r))\n",
      "/var/folders/m4/mbpwp5q15070t8lqj4fj7mjr0000gn/T/ipykernel_7061/2392669901.py:35: RuntimeWarning: divide by zero encountered in power\n",
      "  A = Am / (1 + ((P - P0) / (P_h - P0)) ** (-s / r))\n",
      "/var/folders/m4/mbpwp5q15070t8lqj4fj7mjr0000gn/T/ipykernel_7061/2392669901.py:35: RuntimeWarning: divide by zero encountered in power\n",
      "  A = Am / (1 + ((P - P0) / (P_h - P0)) ** (-s / r))\n",
      "/var/folders/m4/mbpwp5q15070t8lqj4fj7mjr0000gn/T/ipykernel_7061/2392669901.py:35: RuntimeWarning: divide by zero encountered in power\n",
      "  A = Am / (1 + ((P - P0) / (P_h - P0)) ** (-s / r))\n",
      "/var/folders/m4/mbpwp5q15070t8lqj4fj7mjr0000gn/T/ipykernel_7061/2392669901.py:35: RuntimeWarning: divide by zero encountered in power\n",
      "  A = Am / (1 + ((P - P0) / (P_h - P0)) ** (-s / r))\n",
      "/var/folders/m4/mbpwp5q15070t8lqj4fj7mjr0000gn/T/ipykernel_7061/2392669901.py:35: RuntimeWarning: divide by zero encountered in power\n",
      "  A = Am / (1 + ((P - P0) / (P_h - P0)) ** (-s / r))\n",
      "/var/folders/m4/mbpwp5q15070t8lqj4fj7mjr0000gn/T/ipykernel_7061/2392669901.py:35: RuntimeWarning: divide by zero encountered in power\n",
      "  A = Am / (1 + ((P - P0) / (P_h - P0)) ** (-s / r))\n",
      "/var/folders/m4/mbpwp5q15070t8lqj4fj7mjr0000gn/T/ipykernel_7061/2392669901.py:35: RuntimeWarning: divide by zero encountered in power\n",
      "  A = Am / (1 + ((P - P0) / (P_h - P0)) ** (-s / r))\n",
      "/var/folders/m4/mbpwp5q15070t8lqj4fj7mjr0000gn/T/ipykernel_7061/2392669901.py:35: RuntimeWarning: divide by zero encountered in power\n",
      "  A = Am / (1 + ((P - P0) / (P_h - P0)) ** (-s / r))\n",
      "/var/folders/m4/mbpwp5q15070t8lqj4fj7mjr0000gn/T/ipykernel_7061/2392669901.py:35: RuntimeWarning: divide by zero encountered in power\n",
      "  A = Am / (1 + ((P - P0) / (P_h - P0)) ** (-s / r))\n",
      "/var/folders/m4/mbpwp5q15070t8lqj4fj7mjr0000gn/T/ipykernel_7061/2392669901.py:35: RuntimeWarning: divide by zero encountered in power\n",
      "  A = Am / (1 + ((P - P0) / (P_h - P0)) ** (-s / r))\n",
      "/var/folders/m4/mbpwp5q15070t8lqj4fj7mjr0000gn/T/ipykernel_7061/2392669901.py:35: RuntimeWarning: divide by zero encountered in power\n",
      "  A = Am / (1 + ((P - P0) / (P_h - P0)) ** (-s / r))\n"
     ]
    },
    {
     "name": "stderr",
     "output_type": "stream",
     "text": [
      "/var/folders/m4/mbpwp5q15070t8lqj4fj7mjr0000gn/T/ipykernel_7061/2392669901.py:35: RuntimeWarning: divide by zero encountered in power\n",
      "  A = Am / (1 + ((P - P0) / (P_h - P0)) ** (-s / r))\n",
      "/var/folders/m4/mbpwp5q15070t8lqj4fj7mjr0000gn/T/ipykernel_7061/2392669901.py:35: RuntimeWarning: divide by zero encountered in power\n",
      "  A = Am / (1 + ((P - P0) / (P_h - P0)) ** (-s / r))\n",
      "/var/folders/m4/mbpwp5q15070t8lqj4fj7mjr0000gn/T/ipykernel_7061/2392669901.py:35: RuntimeWarning: divide by zero encountered in power\n",
      "  A = Am / (1 + ((P - P0) / (P_h - P0)) ** (-s / r))\n",
      "/var/folders/m4/mbpwp5q15070t8lqj4fj7mjr0000gn/T/ipykernel_7061/2392669901.py:35: RuntimeWarning: divide by zero encountered in power\n",
      "  A = Am / (1 + ((P - P0) / (P_h - P0)) ** (-s / r))\n"
     ]
    },
    {
     "name": "stdout",
     "output_type": "stream",
     "text": [
      "convergence condition not achieved\n"
     ]
    },
    {
     "name": "stderr",
     "output_type": "stream",
     "text": [
      "/var/folders/m4/mbpwp5q15070t8lqj4fj7mjr0000gn/T/ipykernel_7061/2392669901.py:35: RuntimeWarning: divide by zero encountered in power\n",
      "  A = Am / (1 + ((P - P0) / (P_h - P0)) ** (-s / r))\n"
     ]
    },
    {
     "data": {
      "text/plain": [
       "<matplotlib.legend.Legend at 0x7feb90660ca0>"
      ]
     },
     "execution_count": 63,
     "metadata": {},
     "output_type": "execute_result"
    },
    {
     "data": {
      "image/png": "[encoded data removed]",
      "text/plain": [
       "<Figure size 432x288 with 1 Axes>"
      ]
     },
     "metadata": {},
     "output_type": "display_data"
    }
   ],
   "source": [
    "num_of_iterations = 49\n",
    "\n",
    "first_perturbed_year = last_historical_year\n",
    "\n",
    "year_of_perturbation = np.arange(first_perturbed_year, last_perturbed_year+1)\n",
    "\n",
    "plt.plot(T_forecast_years, T_forecast, label=\"initial guess\")\n",
    "plt.plot(T_forecast_years, T_forecast_first_loop, label=\"iteration 0\")\n",
    "\n",
    "for k in range(num_of_iterations):\n",
    "    T_iteration = np.concatenate([T_gas_df['CO2_best'],T_forecast_iteration[1:]])\n",
    "\n",
    "    SCC_list = []\n",
    "\n",
    "    for j in range(len(year_of_perturbation)):\n",
    "        ## define perturbation\n",
    "        T_TCRE = 0.00054  # need to check this! *100 for 100GtCO2 added\n",
    "        k_s = 0.12\n",
    "\n",
    "        T_p = np.zeros(T_forecast_length)\n",
    "\n",
    "        for i in range(len(T_forecast_years)):\n",
    "            if year_of_perturbation[j] <= T_forecast_years[i]:\n",
    "                T_p[i] = T_TCRE*(1-np.exp(-k_s*(T_forecast_years[i]-year_of_perturbation[j])))\n",
    "\n",
    "        T_forecast_perturbed = T_forecast_iteration+T_p\n",
    "\n",
    "        T_perturbed = np.concatenate([T_gas_df['CO2_best'],T_forecast_perturbed[1:]])\n",
    "        \n",
    "#         g_2019 = 0.02\n",
    "#         g_grad = 0.00034\n",
    "\n",
    "        g = g_2019 - g_grad*(T_forecast_iteration[:-1]-T_2019)**2\n",
    "        g_prime = g_2019 - g_grad*(T_forecast_perturbed[:-1]-T_2019)**2\n",
    "        \n",
    "        \n",
    "        W = create_W(W_2019, last_historical_year, start_year, T_forecast_years, g)\n",
    "        W_prime = create_W(W_2019, last_historical_year, start_year, T_forecast_years, g_prime)\n",
    "\n",
    "        ## define discount function\n",
    "        num_of_years = len(years)\n",
    "\n",
    "#         consumption_discount = 0.035\n",
    "        discount_function = np.zeros(num_of_years)\n",
    "\n",
    "        for i in range(num_of_years):\n",
    "            if years[i] >= year_of_perturbation[j]:\n",
    "                discount_function[i] = np.exp(-consumption_discount*(years[i]-year_of_perturbation[j]))\n",
    "#         cost = cost_of_perturbation(T=T_iteration, T_perturb=T_perturbed, W=W, discount_function=discount_function)\n",
    "#         cost = cost_of_perturbation(W, W_prime, discount_function, gamma=2, D0=0.00267)\n",
    "        absolute_consumption_loss = W-W_prime\n",
    "        discounted_consumption_loss = absolute_consumption_loss*discount_function\n",
    "        area = simps(discounted_consumption_loss, dx=1)\n",
    "        cost = area*10**12  # convert to dollar amount\n",
    "        \n",
    "        SCC = cost/(10**9)\n",
    "    \n",
    "#         if j == 0:\n",
    "# #             plt.plot(T_forecast[:-1], g)\n",
    "# #             plt.plot(years, discounted_consumption_loss)\n",
    "#             print(W)\n",
    "# #             print(g_prime[1])\n",
    "# #             print(T_forecast_perturbed)\n",
    "#             print(W_prime)\n",
    "#             print(W-W_prime)\n",
    "#             print(T_p)\n",
    "#             print(T_forecast_perturbed-T_forecast_iteration)\n",
    "    \n",
    "        \n",
    "        if SCC < P_100:\n",
    "            SCC_list.append(SCC)\n",
    "        else:\n",
    "            SCC_list.append(P_100)\n",
    "            break\n",
    "\n",
    "    SCC_array = np.asarray(SCC_list)\n",
    "#     log_SCC = np.log(SCC_array)\n",
    "\n",
    "#     ## add linear fit\n",
    "#     X = sm.add_constant(year_of_perturbation) # add a constant to fit\n",
    "#     results = sm.OLS(log_SCC, X).fit() # save results of fit\n",
    "\n",
    "#     SCC_forecasted = np.exp(results.params[0]+results.params[1]*T_forecast_years)\n",
    "    SCC_forecasted = []\n",
    "\n",
    "    for i in range(T_forecast_length):\n",
    "        if i < len(SCC_array):\n",
    "            SCC_forecasted.append(SCC_array[i])\n",
    "        else:\n",
    "#             SCC_forecasted.append(SCC_array[-1])\n",
    "            SCC_forecasted.append(P_100)\n",
    "\n",
    "    SCC_forecasted = np.array(SCC_forecasted)\n",
    "\n",
    "    P0 = SCC_forecasted[0]\n",
    "\n",
    "    forecasted_abatement = abatement(P=SCC_forecasted, P0=P0)  # , r=consumption_discount\n",
    "    forecasted_emissions = abatement_to_emissions(forecasted_abatement, CO2_baseline)\n",
    "\n",
    "#     cumulative_emissions = []\n",
    "\n",
    "#     for i in range(len(T_forecast_years)):\n",
    "#         area = simps(forecasted_emissions[:i+1], dx=1)\n",
    "#         cumulative_emissions.append(area)\n",
    "\n",
    "#     cumulative_emissions_array = np.asarray(cumulative_emissions)\n",
    "\n",
    "    cumulative_emissions_array = np.append(np.zeros(1), np.cumsum(forecasted_emissions)[:-1])\n",
    "\n",
    "    temperature_change = T_TCRE*cumulative_emissions_array\n",
    "    \n",
    "    # to return to the previous method remove for loop and T_forecast_iteration = T_2019 + temperature_change\n",
    "#     temperature_change_plateau = np.array(temperature_change, copy=True)\n",
    "#     for i in range(len(temperature_change_plateau)):\n",
    "#         if i > np.argmax(temperature_change_plateau):\n",
    "#             temperature_change_plateau[i] = max(temperature_change_plateau)\n",
    "\n",
    "#     T_forecast_iteration = T_2019 + temperature_change_plateau\n",
    "    \n",
    "    T_forecast_iteration = T_2019 + temperature_change\n",
    "    \n",
    "    plt.plot(T_forecast_years, T_forecast_iteration, label=\"iteration \"+str(k+1))\n",
    "    \n",
    "    if k == 0:\n",
    "        peak_T = max(T_forecast_iteration)\n",
    "#         print(f\"{g_prime = }\")\n",
    "    else:\n",
    "        previous_peak_T = peak_T\n",
    "        peak_T = max(T_forecast_iteration)\n",
    "        if abs(peak_T - previous_peak_T) < 0.005:\n",
    "            print(k)\n",
    "            break\n",
    "    \n",
    "    if k == num_of_iterations - 1:\n",
    "        print(\"convergence condition not achieved\")\n",
    "\n",
    "plt.xlabel(\"Year\")\n",
    "plt.ylabel(\"Temperature / K\")\n",
    "plt.legend()"
   ]
  },
  {
   "cell_type": "code",
   "execution_count": 64,
   "id": "7a32bc18",
   "metadata": {},
   "outputs": [
    {
     "data": {
      "text/plain": [
       "76.31329151859799"
      ]
     },
     "execution_count": 64,
     "metadata": {},
     "output_type": "execute_result"
    }
   ],
   "source": [
    "SCC_forecasted[0]"
   ]
  },
  {
   "cell_type": "code",
   "execution_count": 65,
   "id": "79521f23",
   "metadata": {},
   "outputs": [],
   "source": [
    "# SCC_forecasted[2040-2019]"
   ]
  },
  {
   "cell_type": "markdown",
   "id": "31832dbd",
   "metadata": {},
   "source": [
    "***this is fairly analogous to the Newton-Raphson Method***\n",
    "- the initial temperature profile is essentially just a starting guess; getting pushed toward temperature profile solution\n",
    "- could stop the iterations when the difference between two consecutive lines is small"
   ]
  },
  {
   "cell_type": "code",
   "execution_count": 66,
   "id": "3fe11615",
   "metadata": {},
   "outputs": [
    {
     "data": {
      "text/plain": [
       "3.3285285969997833"
      ]
     },
     "execution_count": 66,
     "metadata": {},
     "output_type": "execute_result"
    }
   ],
   "source": [
    "((P_100-P0)/(P_50-P0))**(s/r)"
   ]
  },
  {
   "cell_type": "code",
   "execution_count": 67,
   "id": "1f5ead24",
   "metadata": {},
   "outputs": [
    {
     "data": {
      "text/plain": [
       "76.31329151859799"
      ]
     },
     "execution_count": 67,
     "metadata": {},
     "output_type": "execute_result"
    }
   ],
   "source": [
    "P0"
   ]
  },
  {
   "cell_type": "code",
   "execution_count": 68,
   "id": "1b270877",
   "metadata": {},
   "outputs": [
    {
     "data": {
      "text/plain": [
       "1.861561414749053"
      ]
     },
     "execution_count": 68,
     "metadata": {},
     "output_type": "execute_result"
    }
   ],
   "source": [
    "## peak Temperature\n",
    "max(T_forecast_iteration)"
   ]
  },
  {
   "cell_type": "markdown",
   "id": "f24261ed",
   "metadata": {},
   "source": [
    "under default settings: 2.0439370757585076"
   ]
  },
  {
   "cell_type": "code",
   "execution_count": 69,
   "id": "96ee018d",
   "metadata": {},
   "outputs": [
    {
     "data": {
      "text/plain": [
       "76.31329151859799"
      ]
     },
     "execution_count": 69,
     "metadata": {},
     "output_type": "execute_result"
    }
   ],
   "source": [
    "SCC_forecasted[0]"
   ]
  },
  {
   "cell_type": "code",
   "execution_count": null,
   "id": "fafb778c",
   "metadata": {},
   "outputs": [],
   "source": []
  },
  {
   "cell_type": "code",
   "execution_count": null,
   "id": "bda6e83f",
   "metadata": {},
   "outputs": [],
   "source": []
  },
  {
   "cell_type": "code",
   "execution_count": null,
   "id": "f812782c",
   "metadata": {},
   "outputs": [],
   "source": []
  },
  {
   "cell_type": "code",
   "execution_count": null,
   "id": "30e589cb",
   "metadata": {},
   "outputs": [],
   "source": []
  },
  {
   "cell_type": "code",
   "execution_count": null,
   "id": "2a78ecd2",
   "metadata": {},
   "outputs": [],
   "source": []
  },
  {
   "cell_type": "code",
   "execution_count": null,
   "id": "dc4b33f9",
   "metadata": {},
   "outputs": [],
   "source": []
  }
 ],
 "metadata": {
  "kernelspec": {
   "display_name": "Python 3 (ipykernel)",
   "language": "python",
   "name": "python3"
  },
  "language_info": {
   "codemirror_mode": {
    "name": "ipython",
    "version": 3
   },
   "file_extension": ".py",
   "mimetype": "text/x-python",
   "name": "python",
   "nbconvert_exporter": "python",
   "pygments_lexer": "ipython3",
   "version": "3.9.7"
  }
 },
 "nbformat": 4,
 "nbformat_minor": 5
}
