{
 "cells": [
  {
   "cell_type": "code",
   "execution_count": 1,
   "id": "c4f09662",
   "metadata": {},
   "outputs": [],
   "source": [
    "import matplotlib.pyplot as plt"
   ]
  },
  {
   "cell_type": "code",
   "execution_count": 2,
   "id": "79fbd116",
   "metadata": {},
   "outputs": [],
   "source": [
    "from peak_warming_calculator_test import *"
   ]
  },
  {
   "cell_type": "markdown",
   "id": "b7dc0238",
   "metadata": {},
   "source": [
    "## Checking Function is Working"
   ]
  },
  {
   "cell_type": "markdown",
   "id": "23631c02",
   "metadata": {},
   "source": [
    "return_all_output=False"
   ]
  },
  {
   "cell_type": "code",
   "execution_count": 3,
   "id": "04cb2521",
   "metadata": {},
   "outputs": [
    {
     "name": "stderr",
     "output_type": "stream",
     "text": [
      "/Users/aaron/Documents/oxford_physics/Year_4/MPhys/drivers-of-peak-warming/peak_warming_calculator/peak_warming_calculator_test.py:128: RuntimeWarning: divide by zero encountered in power\n",
      "  A = Am / (1 + ((P - P0) / (P_h - P0)) ** (-s / r))\n"
     ]
    },
    {
     "data": {
      "text/plain": [
       "2.6152973812886984"
      ]
     },
     "execution_count": 3,
     "metadata": {},
     "output_type": "execute_result"
    }
   ],
   "source": [
    "peak_warming_calculator()"
   ]
  },
  {
   "cell_type": "code",
   "execution_count": 4,
   "id": "806abf34",
   "metadata": {},
   "outputs": [
    {
     "data": {
      "text/plain": [
       "2.2420355629357496"
      ]
     },
     "execution_count": 4,
     "metadata": {},
     "output_type": "execute_result"
    }
   ],
   "source": [
    "# default setting\n",
    "peak_warming_calculator(consumption_growth=0.03, consumption_discount=0.045)  # P_100=400, s=0.06"
   ]
  },
  {
   "cell_type": "code",
   "execution_count": 5,
   "id": "5cf4eec0",
   "metadata": {},
   "outputs": [],
   "source": [
    "# peak_T, output_df = peak_warming_calculator(return_all_output=True)"
   ]
  },
  {
   "cell_type": "markdown",
   "id": "2c018043",
   "metadata": {},
   "source": [
    "return_all_output=True"
   ]
  },
  {
   "cell_type": "code",
   "execution_count": null,
   "id": "81e0c4ca",
   "metadata": {},
   "outputs": [],
   "source": []
  }
 ],
 "metadata": {
  "kernelspec": {
   "display_name": "Python 3 (ipykernel)",
   "language": "python",
   "name": "python3"
  },
  "language_info": {
   "codemirror_mode": {
    "name": "ipython",
    "version": 3
   },
   "file_extension": ".py",
   "mimetype": "text/x-python",
   "name": "python",
   "nbconvert_exporter": "python",
   "pygments_lexer": "ipython3",
   "version": "3.9.7"
  }
 },
 "nbformat": 4,
 "nbformat_minor": 5
}
