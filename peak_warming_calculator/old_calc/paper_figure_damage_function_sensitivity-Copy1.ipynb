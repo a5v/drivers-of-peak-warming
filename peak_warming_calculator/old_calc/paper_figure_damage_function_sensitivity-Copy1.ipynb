{
 "cells": [
  {
   "cell_type": "code",
   "execution_count": 1,
   "id": "79fbd116",
   "metadata": {
    "scrolled": true
   },
   "outputs": [],
   "source": [
    "from peak_warming_calculator  import *\n",
    "import matplotlib.pyplot as plt"
   ]
  },
  {
   "cell_type": "code",
   "execution_count": 2,
   "id": "f88ad1ae",
   "metadata": {},
   "outputs": [],
   "source": [
    "from SALib.sample import saltelli\n",
    "from SALib.analyze import sobol\n",
    "import numpy as np\n",
    "from numpy import genfromtxt\n",
    "import matplotlib.cm as cm"
   ]
  },
  {
   "cell_type": "code",
   "execution_count": 3,
   "id": "019be719",
   "metadata": {},
   "outputs": [],
   "source": [
    "import time"
   ]
  },
  {
   "cell_type": "markdown",
   "id": "026e922f",
   "metadata": {},
   "source": [
    "# Sensitivity Analysis"
   ]
  },
  {
   "cell_type": "code",
   "execution_count": 4,
   "id": "d29eed9b",
   "metadata": {},
   "outputs": [],
   "source": [
    "r_minus_g = 0.015\n",
    "consumption_growth = 0.02\n",
    "consumption_discount = consumption_growth + r_minus_g"
   ]
  },
  {
   "cell_type": "code",
   "execution_count": 5,
   "id": "e2c561f9",
   "metadata": {},
   "outputs": [],
   "source": [
    "num_of_sample = 10\n",
    "gamma_sample = np.linspace(2, 2*2, num_of_sample)\n",
    "D0_sample = np.linspace(0.00236, 0.00236*2, num_of_sample)"
   ]
  },
  {
   "cell_type": "code",
   "execution_count": 6,
   "id": "ae489c9b",
   "metadata": {},
   "outputs": [
    {
     "data": {
      "text/plain": [
       "array([2.        , 2.22222222, 2.44444444, 2.66666667, 2.88888889,\n",
       "       3.11111111, 3.33333333, 3.55555556, 3.77777778, 4.        ])"
      ]
     },
     "execution_count": 6,
     "metadata": {},
     "output_type": "execute_result"
    }
   ],
   "source": [
    "gamma_sample"
   ]
  },
  {
   "cell_type": "code",
   "execution_count": 7,
   "id": "5a125a59",
   "metadata": {},
   "outputs": [],
   "source": [
    "P_100 = 300\n",
    "P_50 = 0.4 * P_100\n",
    "r = consumption_discount\n",
    "s = 3 * r\n",
    "T_TCRE_1 = 0.00045"
   ]
  },
  {
   "cell_type": "code",
   "execution_count": 8,
   "id": "1146ad30",
   "metadata": {},
   "outputs": [
    {
     "name": "stdout",
     "output_type": "stream",
     "text": [
      "0\n"
     ]
    },
    {
     "name": "stderr",
     "output_type": "stream",
     "text": [
      "/Users/aaron/Documents/oxford_physics/Year_4/MPhys/drivers-of-peak-warming/peak_warming_calculator/peak_warming_calculator.py:138: RuntimeWarning: divide by zero encountered in power\n",
      "  A = Am / (1 + ((P - P0) / (P_h - P0)) ** (-s / r))\n"
     ]
    },
    {
     "name": "stdout",
     "output_type": "stream",
     "text": [
      "1\n",
      "2\n",
      "3\n",
      "4\n",
      "5\n",
      "convergence condition not achieved\n",
      "consumption_discount=0.035\n",
      "consumption_growth=0.02\n",
      "P_50=120.0\n",
      "s=0.10500000000000001\n",
      "r=0.035\n",
      "P_100=300\n",
      "convergence condition not achieved\n",
      "consumption_discount=0.035\n",
      "consumption_growth=0.02\n",
      "P_50=120.0\n",
      "s=0.10500000000000001\n",
      "r=0.035\n",
      "P_100=300\n",
      "convergence condition not achieved\n",
      "consumption_discount=0.035\n",
      "consumption_growth=0.02\n",
      "P_50=120.0\n",
      "s=0.10500000000000001\n",
      "r=0.035\n",
      "P_100=300\n",
      "convergence condition not achieved\n",
      "consumption_discount=0.035\n",
      "consumption_growth=0.02\n",
      "P_50=120.0\n",
      "s=0.10500000000000001\n",
      "r=0.035\n",
      "P_100=300\n",
      "convergence condition not achieved\n",
      "consumption_discount=0.035\n",
      "consumption_growth=0.02\n",
      "P_50=120.0\n",
      "s=0.10500000000000001\n",
      "r=0.035\n",
      "P_100=300\n",
      "convergence condition not achieved\n",
      "consumption_discount=0.035\n",
      "consumption_growth=0.02\n",
      "P_50=120.0\n",
      "s=0.10500000000000001\n",
      "r=0.035\n",
      "P_100=300\n",
      "6\n",
      "convergence condition not achieved\n",
      "consumption_discount=0.035\n",
      "consumption_growth=0.02\n",
      "P_50=120.0\n",
      "s=0.10500000000000001\n",
      "r=0.035\n",
      "P_100=300\n",
      "convergence condition not achieved\n",
      "consumption_discount=0.035\n",
      "consumption_growth=0.02\n",
      "P_50=120.0\n",
      "s=0.10500000000000001\n",
      "r=0.035\n",
      "P_100=300\n",
      "convergence condition not achieved\n",
      "consumption_discount=0.035\n",
      "consumption_growth=0.02\n",
      "P_50=120.0\n",
      "s=0.10500000000000001\n",
      "r=0.035\n",
      "P_100=300\n",
      "convergence condition not achieved\n",
      "consumption_discount=0.035\n",
      "consumption_growth=0.02\n",
      "P_50=120.0\n",
      "s=0.10500000000000001\n",
      "r=0.035\n",
      "P_100=300\n",
      "convergence condition not achieved\n",
      "consumption_discount=0.035\n",
      "consumption_growth=0.02\n",
      "P_50=120.0\n",
      "s=0.10500000000000001\n",
      "r=0.035\n",
      "P_100=300\n",
      "P0 is greater than P_50\n",
      "P0 is greater than P_50\n",
      "P0 is greater than P_50\n",
      "P0 is greater than P_50\n",
      "P0 is greater than P_50\n",
      "7\n",
      "P0 is greater than P_50\n",
      "P0 is greater than P_50\n",
      "P0 is greater than P_50\n",
      "P0 is greater than P_50\n",
      "P0 is greater than P_50\n",
      "P0 is greater than P_50\n",
      "P0 is greater than P_50\n",
      "P0 is greater than P_50\n",
      "P0 is greater than P_50\n",
      "P0 is greater than P_50\n",
      "8\n",
      "P0 is greater than P_50\n",
      "P0 is greater than P_50\n",
      "P0 is greater than P_50\n",
      "P0 is greater than P_50\n",
      "P0 is greater than P_50\n",
      "P0 is greater than P_50\n",
      "P0 is greater than P_50\n",
      "P0 is greater than P_50\n",
      "P0 is greater than P_50\n",
      "P0 is greater than P_50\n",
      "9\n",
      "P0 is greater than P_50\n",
      "P0 is greater than P_50\n",
      "P0 is greater than P_50\n",
      "P0 is greater than P_50\n",
      "P0 is greater than P_50\n",
      "P0 is greater than P_50\n",
      "P0 is greater than P_50\n",
      "P0 is greater than P_50\n",
      "P0 is greater than P_50\n",
      "P0 is greater than P_50\n"
     ]
    }
   ],
   "source": [
    "peak_T_list = []\n",
    "output_data_list = []\n",
    "\n",
    "for i in range(num_of_sample):\n",
    "    gamma = gamma_sample[i]\n",
    "    print(i)\n",
    "    \n",
    "    peak_T_const_gamma = []\n",
    "    output_data_const_gamma = []\n",
    "    for j in range(num_of_sample):\n",
    "        D0 = D0_sample[j]\n",
    "        peak_T, output_data = peak_warming_calculator(P_50=P_50, P_100=P_100, gamma=gamma, D0=D0, delta_T=1.5, consumption_growth=consumption_growth, consumption_discount=consumption_discount, s=s, r=r, T_TCRE_1=T_TCRE_1, return_all_output=True)\n",
    "#         print(D0, gamma, peak_T)\n",
    "#         print(peak_T)\n",
    "#         if peak_T == 1.2:\n",
    "#             peak_T = None\n",
    "        peak_T_const_gamma.append(peak_T)\n",
    "        output_data_const_gamma.append(output_data_const_gamma)\n",
    "#         peak_T_list.append(peak_T)\n",
    "    \n",
    "    peak_T_list.append(peak_T_const_gamma)\n",
    "    output_data_list.append(output_data_const_gamma)\n",
    "\n"
   ]
  },
  {
   "cell_type": "code",
   "execution_count": 9,
   "id": "e055560f",
   "metadata": {},
   "outputs": [],
   "source": [
    "peak_T_array = np.asarray(peak_T_list)"
   ]
  },
  {
   "cell_type": "code",
   "execution_count": 10,
   "id": "7105578a",
   "metadata": {},
   "outputs": [],
   "source": [
    "D0_sample_i, gamma_sample_i = np.meshgrid(D0_sample, gamma_sample)"
   ]
  },
  {
   "cell_type": "code",
   "execution_count": 11,
   "id": "ee2dcf2b",
   "metadata": {},
   "outputs": [
    {
     "data": {
      "text/plain": [
       "array([[2.        , 2.        , 2.        , 2.        , 2.        ,\n",
       "        2.        , 2.        , 2.        , 2.        , 2.        ],\n",
       "       [2.22222222, 2.22222222, 2.22222222, 2.22222222, 2.22222222,\n",
       "        2.22222222, 2.22222222, 2.22222222, 2.22222222, 2.22222222],\n",
       "       [2.44444444, 2.44444444, 2.44444444, 2.44444444, 2.44444444,\n",
       "        2.44444444, 2.44444444, 2.44444444, 2.44444444, 2.44444444],\n",
       "       [2.66666667, 2.66666667, 2.66666667, 2.66666667, 2.66666667,\n",
       "        2.66666667, 2.66666667, 2.66666667, 2.66666667, 2.66666667],\n",
       "       [2.88888889, 2.88888889, 2.88888889, 2.88888889, 2.88888889,\n",
       "        2.88888889, 2.88888889, 2.88888889, 2.88888889, 2.88888889],\n",
       "       [3.11111111, 3.11111111, 3.11111111, 3.11111111, 3.11111111,\n",
       "        3.11111111, 3.11111111, 3.11111111, 3.11111111, 3.11111111],\n",
       "       [3.33333333, 3.33333333, 3.33333333, 3.33333333, 3.33333333,\n",
       "        3.33333333, 3.33333333, 3.33333333, 3.33333333, 3.33333333],\n",
       "       [3.55555556, 3.55555556, 3.55555556, 3.55555556, 3.55555556,\n",
       "        3.55555556, 3.55555556, 3.55555556, 3.55555556, 3.55555556],\n",
       "       [3.77777778, 3.77777778, 3.77777778, 3.77777778, 3.77777778,\n",
       "        3.77777778, 3.77777778, 3.77777778, 3.77777778, 3.77777778],\n",
       "       [4.        , 4.        , 4.        , 4.        , 4.        ,\n",
       "        4.        , 4.        , 4.        , 4.        , 4.        ]])"
      ]
     },
     "execution_count": 11,
     "metadata": {},
     "output_type": "execute_result"
    }
   ],
   "source": [
    "gamma_sample_i"
   ]
  },
  {
   "cell_type": "code",
   "execution_count": 12,
   "id": "e88afe90",
   "metadata": {},
   "outputs": [
    {
     "data": {
      "text/plain": [
       "array([[0.00236   , 0.00262222, 0.00288444, 0.00314667, 0.00340889,\n",
       "        0.00367111, 0.00393333, 0.00419556, 0.00445778, 0.00472   ],\n",
       "       [0.00236   , 0.00262222, 0.00288444, 0.00314667, 0.00340889,\n",
       "        0.00367111, 0.00393333, 0.00419556, 0.00445778, 0.00472   ],\n",
       "       [0.00236   , 0.00262222, 0.00288444, 0.00314667, 0.00340889,\n",
       "        0.00367111, 0.00393333, 0.00419556, 0.00445778, 0.00472   ],\n",
       "       [0.00236   , 0.00262222, 0.00288444, 0.00314667, 0.00340889,\n",
       "        0.00367111, 0.00393333, 0.00419556, 0.00445778, 0.00472   ],\n",
       "       [0.00236   , 0.00262222, 0.00288444, 0.00314667, 0.00340889,\n",
       "        0.00367111, 0.00393333, 0.00419556, 0.00445778, 0.00472   ],\n",
       "       [0.00236   , 0.00262222, 0.00288444, 0.00314667, 0.00340889,\n",
       "        0.00367111, 0.00393333, 0.00419556, 0.00445778, 0.00472   ],\n",
       "       [0.00236   , 0.00262222, 0.00288444, 0.00314667, 0.00340889,\n",
       "        0.00367111, 0.00393333, 0.00419556, 0.00445778, 0.00472   ],\n",
       "       [0.00236   , 0.00262222, 0.00288444, 0.00314667, 0.00340889,\n",
       "        0.00367111, 0.00393333, 0.00419556, 0.00445778, 0.00472   ],\n",
       "       [0.00236   , 0.00262222, 0.00288444, 0.00314667, 0.00340889,\n",
       "        0.00367111, 0.00393333, 0.00419556, 0.00445778, 0.00472   ],\n",
       "       [0.00236   , 0.00262222, 0.00288444, 0.00314667, 0.00340889,\n",
       "        0.00367111, 0.00393333, 0.00419556, 0.00445778, 0.00472   ]])"
      ]
     },
     "execution_count": 12,
     "metadata": {},
     "output_type": "execute_result"
    }
   ],
   "source": [
    "D0_sample_i"
   ]
  },
  {
   "cell_type": "code",
   "execution_count": 13,
   "id": "869e0e4e",
   "metadata": {},
   "outputs": [
    {
     "data": {
      "text/plain": [
       "array([[2.5879547242762504, 2.5195324533181607, 2.458096925887944,\n",
       "        2.4023892963282973, 2.3531822115134817, 2.306435672299467,\n",
       "        2.263168102331797, 2.2229027442208027, 2.185271164181475,\n",
       "        2.149957144041246],\n",
       "       [2.3963434882605386, 2.3332031651851333, 2.276544762174799,\n",
       "        2.225207133728854, 2.1783035130664445, 2.135142990611155,\n",
       "        2.095195167060729, 2.0580196128971453, 2.0232677288949668,\n",
       "        1.990649170842068],\n",
       "       [2.2363965898199103, 2.175865473613878, 2.123505344194328,\n",
       "        2.0760599060432297, 2.0326950324998863, 1.9927847817813633,\n",
       "        1.9588907117372156, 1.9249399136978245, 1.8932505981654435,\n",
       "        1.863561395303928],\n",
       "       [2.0960178797060114, 2.0451042836237505, 1.9972589611375688,\n",
       "        1.950471552606232, 1.9101858899630697, 1.8769992933938193,\n",
       "        1.8399702024382962, 1.807967826437903, 1.7823048112497577,\n",
       "        1.7509609156030348],\n",
       "       [1.9788687408746664, 1.9326631826018013, 1.8878142488049443,\n",
       "        1.8473500692145257, 1.8105596680286569, 1.772653935163487,\n",
       "        1.745332921446335, 1.711877523671511, 1.6844452073012561,\n",
       "        1.6632626014509655],\n",
       "       [1.8822593526366511, 1.8315035987660475, 1.79457311570019,\n",
       "        1.7523633677872166, None, None, None, None, None, None],\n",
       "       [None, None, None, None, None, None, None, None, None, None],\n",
       "       [None, None, None, None, None, None, None, None, None, None],\n",
       "       [None, None, None, None, None, None, None, None, None, None],\n",
       "       [None, None, None, None, None, None, None, None, None, None]],\n",
       "      dtype=object)"
      ]
     },
     "execution_count": 13,
     "metadata": {},
     "output_type": "execute_result"
    }
   ],
   "source": [
    "peak_T_array"
   ]
  },
  {
   "cell_type": "code",
   "execution_count": 14,
   "id": "d5c0bf7f",
   "metadata": {},
   "outputs": [
    {
     "data": {
      "text/plain": [
       "<matplotlib.colorbar.Colorbar at 0x1249d2520>"
      ]
     },
     "execution_count": 14,
     "metadata": {},
     "output_type": "execute_result"
    },
    {
     "data": {
      "image/png": "[encoded data removed]",
      "text/plain": [
       "<Figure size 432x288 with 2 Axes>"
      ]
     },
     "metadata": {
      "needs_background": "light"
     },
     "output_type": "display_data"
    }
   ],
   "source": [
    "fig, axs = plt.subplots(1,1)\n",
    "\n",
    "cs = axs.contourf(D0_sample_i, gamma_sample_i, peak_T_array)\n",
    "plt.xlabel(\"D0\")\n",
    "plt.ylabel(\"gamma\")\n",
    "fig.colorbar(cs, ax=axs)"
   ]
  },
  {
   "cell_type": "code",
   "execution_count": null,
   "id": "5125fb46",
   "metadata": {},
   "outputs": [],
   "source": []
  },
  {
   "cell_type": "code",
   "execution_count": 15,
   "id": "52d79ad7",
   "metadata": {},
   "outputs": [
    {
     "data": {
      "text/plain": [
       "(2.0, 4.0)"
      ]
     },
     "execution_count": 15,
     "metadata": {},
     "output_type": "execute_result"
    },
    {
     "data": {
      "image/png": "[encoded data removed]",
      "text/plain": [
       "<Figure size 432x288 with 2 Axes>"
      ]
     },
     "metadata": {
      "needs_background": "light"
     },
     "output_type": "display_data"
    }
   ],
   "source": [
    "fig, axs = plt.subplots(1,1)\n",
    "\n",
    "cs = axs.contourf(D0_sample_i, gamma_sample_i, peak_T_array)\n",
    "plt.xlabel(\"D0\")\n",
    "plt.ylabel(\"gamma\")\n",
    "fig.colorbar(cs, ax=axs)\n",
    "\n",
    "# const = 0.09\n",
    "const_list = np.linspace(0.3, 0.6, 5)\n",
    "exp = 0.35\n",
    "for const in const_list:\n",
    "    D_0_range = np.linspace(0.00236*0.1, 0.00236*1.9, 50)\n",
    "    gamma_0 = const/(D_0_range**exp)\n",
    "    axs.plot(D_0_range, gamma_0)\n",
    "\n",
    "    \n",
    "plt.ylim(2, 4)"
   ]
  },
  {
   "cell_type": "code",
   "execution_count": null,
   "id": "13f66eef",
   "metadata": {},
   "outputs": [],
   "source": []
  },
  {
   "cell_type": "code",
   "execution_count": null,
   "id": "ceebb423",
   "metadata": {},
   "outputs": [],
   "source": []
  }
 ],
 "metadata": {
  "kernelspec": {
   "display_name": "Python 3 (ipykernel)",
   "language": "python",
   "name": "python3"
  },
  "language_info": {
   "codemirror_mode": {
    "name": "ipython",
    "version": 3
   },
   "file_extension": ".py",
   "mimetype": "text/x-python",
   "name": "python",
   "nbconvert_exporter": "python",
   "pygments_lexer": "ipython3",
   "version": "3.9.7"
  }
 },
 "nbformat": 4,
 "nbformat_minor": 5
}
