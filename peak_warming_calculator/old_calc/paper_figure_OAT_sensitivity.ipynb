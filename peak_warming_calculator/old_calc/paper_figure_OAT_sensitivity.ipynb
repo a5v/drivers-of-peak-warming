{
 "cells": [
  {
   "cell_type": "code",
   "execution_count": 1,
   "id": "79fbd116",
   "metadata": {
    "scrolled": true
   },
   "outputs": [],
   "source": [
    "from peak_warming_calculator  import *\n",
    "import matplotlib.pyplot as plt\n",
    "import seaborn as sns"
   ]
  },
  {
   "cell_type": "code",
   "execution_count": 2,
   "id": "f88ad1ae",
   "metadata": {},
   "outputs": [],
   "source": [
    "from SALib.sample import saltelli\n",
    "from SALib.analyze import sobol\n",
    "import numpy as np\n",
    "from numpy import genfromtxt\n",
    "import matplotlib.cm as cm"
   ]
  },
  {
   "cell_type": "code",
   "execution_count": 3,
   "id": "019be719",
   "metadata": {},
   "outputs": [],
   "source": [
    "import time"
   ]
  },
  {
   "cell_type": "markdown",
   "id": "026e922f",
   "metadata": {},
   "source": [
    "# Sensitivity Analysis"
   ]
  },
  {
   "cell_type": "code",
   "execution_count": 4,
   "id": "d29eed9b",
   "metadata": {},
   "outputs": [],
   "source": [
    "r_minus_g = 0.015\n",
    "consumption_growth = 0.02\n",
    "consumption_discount = consumption_growth + r_minus_g"
   ]
  },
  {
   "cell_type": "code",
   "execution_count": 5,
   "id": "7979568c",
   "metadata": {},
   "outputs": [],
   "source": [
    "param_list = [2, 0.00236, 300, 0.4, 2, 0.00045]"
   ]
  },
  {
   "cell_type": "code",
   "execution_count": 6,
   "id": "e87b7f32",
   "metadata": {},
   "outputs": [
    {
     "data": {
      "text/plain": [
       "[2, 0.00236, 300, 0.4, 2, 0.00045]"
      ]
     },
     "execution_count": 6,
     "metadata": {},
     "output_type": "execute_result"
    }
   ],
   "source": [
    "param_list"
   ]
  },
  {
   "cell_type": "code",
   "execution_count": 7,
   "id": "0ea0ceff",
   "metadata": {},
   "outputs": [],
   "source": [
    "import copy"
   ]
  },
  {
   "cell_type": "code",
   "execution_count": 8,
   "id": "dc35f76d",
   "metadata": {},
   "outputs": [],
   "source": [
    "param_list_2 = []\n",
    "param_list_2.append(param_list)\n",
    "\n",
    "for i in range(len(param_list)):\n",
    "    param_list_3 = copy.deepcopy(param_list)\n",
    "    param_list_3[i] = param_list[i] * 0.9\n",
    "    param_list_2.append(param_list_3)\n",
    "    param_list_3 = copy.deepcopy(param_list)\n",
    "    param_list_3[i] = param_list_3[i] * 1.1\n",
    "    param_list_2.append(param_list_3)"
   ]
  },
  {
   "cell_type": "code",
   "execution_count": 9,
   "id": "00ac04df",
   "metadata": {},
   "outputs": [
    {
     "data": {
      "text/plain": [
       "[[2, 0.00236, 300, 0.4, 2, 0.00045],\n",
       " [1.8, 0.00236, 300, 0.4, 2, 0.00045],\n",
       " [2.2, 0.00236, 300, 0.4, 2, 0.00045],\n",
       " [2, 0.002124, 300, 0.4, 2, 0.00045],\n",
       " [2, 0.0025960000000000002, 300, 0.4, 2, 0.00045],\n",
       " [2, 0.00236, 270.0, 0.4, 2, 0.00045],\n",
       " [2, 0.00236, 330.0, 0.4, 2, 0.00045],\n",
       " [2, 0.00236, 300, 0.36000000000000004, 2, 0.00045],\n",
       " [2, 0.00236, 300, 0.44000000000000006, 2, 0.00045],\n",
       " [2, 0.00236, 300, 0.4, 1.8, 0.00045],\n",
       " [2, 0.00236, 300, 0.4, 2.2, 0.00045],\n",
       " [2, 0.00236, 300, 0.4, 2, 0.000405],\n",
       " [2, 0.00236, 300, 0.4, 2, 0.000495]]"
      ]
     },
     "execution_count": 9,
     "metadata": {},
     "output_type": "execute_result"
    }
   ],
   "source": [
    "param_list_2"
   ]
  },
  {
   "cell_type": "code",
   "execution_count": 10,
   "id": "c7633ba0",
   "metadata": {},
   "outputs": [
    {
     "data": {
      "text/plain": [
       "[2, 0.00236, 300, 0.4, 2, 0.00045]"
      ]
     },
     "execution_count": 10,
     "metadata": {},
     "output_type": "execute_result"
    }
   ],
   "source": [
    "param_list"
   ]
  },
  {
   "cell_type": "code",
   "execution_count": 11,
   "id": "96750081",
   "metadata": {},
   "outputs": [
    {
     "name": "stderr",
     "output_type": "stream",
     "text": [
      "/Users/aaron/Documents/oxford_physics/Year_4/MPhys/drivers-of-peak-warming/peak_warming_calculator/peak_warming_calculator.py:138: RuntimeWarning: divide by zero encountered in power\n",
      "  A = Am / (1 + ((P - P0) / (P_h - P0)) ** (-s / r))\n"
     ]
    }
   ],
   "source": [
    "peak_T_list = []\n",
    "\n",
    "for i in range(len(param_list_2)):\n",
    "    gamma = param_list_2[i][0]\n",
    "    D0 = param_list_2[i][1]\n",
    "    P_100 = param_list_2[i][2]\n",
    "    P_50 = param_list_2[i][3] * P_100\n",
    "    r = consumption_discount\n",
    "    s = param_list_2[i][4]*r\n",
    "    T_TCRE_1 = param_list_2[i][5]\n",
    "    \n",
    "    peak_T = peak_warming_calculator(P_50=P_50, P_100=P_100, gamma=gamma, D0=D0, consumption_growth=consumption_growth, consumption_discount=consumption_discount, s=s, r=r, T_TCRE_1=T_TCRE_1)\n",
    "    peak_T_list.append(peak_T)"
   ]
  },
  {
   "cell_type": "code",
   "execution_count": 12,
   "id": "f17d5537",
   "metadata": {},
   "outputs": [
    {
     "data": {
      "text/plain": [
       "[2.5741917629221933,\n",
       " 2.773085947276924,\n",
       " 2.406655083384181,\n",
       " 2.6416360033437645,\n",
       " 2.513656997359324,\n",
       " 2.5073024409707614,\n",
       " 2.6351674498430393,\n",
       " 2.5156023093052857,\n",
       " 2.6270087904234014,\n",
       " 2.5688498719836623,\n",
       " 2.578469385941303,\n",
       " 2.5300274479690206,\n",
       " 2.610496687348429]"
      ]
     },
     "execution_count": 12,
     "metadata": {},
     "output_type": "execute_result"
    }
   ],
   "source": [
    "peak_T_list"
   ]
  },
  {
   "cell_type": "code",
   "execution_count": 13,
   "id": "2cde0348",
   "metadata": {},
   "outputs": [
    {
     "data": {
      "text/plain": [
       "<BarContainer object of 13 artists>"
      ]
     },
     "execution_count": 13,
     "metadata": {},
     "output_type": "execute_result"
    },
    {
     "data": {
      "image/png": "[encoded data removed]",
      "text/plain": [
       "<Figure size 432x288 with 1 Axes>"
      ]
     },
     "metadata": {
      "needs_background": "light"
     },
     "output_type": "display_data"
    }
   ],
   "source": [
    "plt.bar(np.arange(len(peak_T_list)), peak_T_list-peak_T_list[0])"
   ]
  },
  {
   "cell_type": "code",
   "execution_count": null,
   "id": "4d02fb4c",
   "metadata": {},
   "outputs": [],
   "source": []
  },
  {
   "cell_type": "code",
   "execution_count": 14,
   "id": "b7f796ea",
   "metadata": {},
   "outputs": [],
   "source": [
    "# for i in range(len(param_list_2)):\n",
    "#     gamma = param_list_2[i][0]\n",
    "#     D0 = param_list_2[i][1]\n",
    "#     P_100 = param_list_2[i][2]\n",
    "#     P_50 = param_list_2[i][3] * P_100\n",
    "#     r = consumption_discount\n",
    "#     s = param_list_2[i][4]*r\n",
    "#     T_TCRE_1 = param_list_2[i][5]"
   ]
  },
  {
   "cell_type": "code",
   "execution_count": 15,
   "id": "8150c319",
   "metadata": {},
   "outputs": [],
   "source": [
    "\n",
    "variables = [\n",
    "    'gamma',\n",
    "    'D0',\n",
    "    'P_100',\n",
    "    'P_50/P_100',\n",
    "    's/r',\n",
    "    'T_TCRE_1',\n",
    "]\n",
    "\n",
    "base = peak_T_list[0]\n",
    "\n",
    "lows = np.array([\n",
    "    peak_T_list[2],\n",
    "    peak_T_list[4],\n",
    "    peak_T_list[5],\n",
    "    peak_T_list[7],\n",
    "    peak_T_list[9],\n",
    "    peak_T_list[11],\n",
    "])\n",
    "\n",
    "values = np.array([\n",
    "    peak_T_list[1]-peak_T_list[2],\n",
    "    peak_T_list[3]-peak_T_list[4],\n",
    "    peak_T_list[6]-peak_T_list[5],\n",
    "    peak_T_list[8]-peak_T_list[7],\n",
    "    peak_T_list[10]-peak_T_list[9],\n",
    "    peak_T_list[12]-peak_T_list[11],\n",
    "])\n",
    "\n"
   ]
  },
  {
   "cell_type": "code",
   "execution_count": 16,
   "id": "58c06e41",
   "metadata": {},
   "outputs": [
    {
     "data": {
      "text/plain": [
       "array([0.36643086, 0.12797901, 0.12786501, 0.11140648, 0.00961951,\n",
       "       0.08046924])"
      ]
     },
     "execution_count": 16,
     "metadata": {},
     "output_type": "execute_result"
    }
   ],
   "source": [
    "values"
   ]
  },
  {
   "cell_type": "code",
   "execution_count": 17,
   "id": "e7c509f7",
   "metadata": {},
   "outputs": [
    {
     "data": {
      "text/plain": [
       "array([2.40665508, 2.513657  , 2.50730244, 2.51560231, 2.56884987,\n",
       "       2.53002745])"
      ]
     },
     "execution_count": 17,
     "metadata": {},
     "output_type": "execute_result"
    }
   ],
   "source": [
    "lows"
   ]
  },
  {
   "cell_type": "code",
   "execution_count": null,
   "id": "47cc4c3c",
   "metadata": {},
   "outputs": [],
   "source": []
  },
  {
   "cell_type": "code",
   "execution_count": 27,
   "id": "ff13f980",
   "metadata": {},
   "outputs": [
    {
     "data": {
      "image/png": "[encoded data removed]",
      "text/plain": [
       "<Figure size 432x288 with 1 Axes>"
      ]
     },
     "metadata": {
      "needs_background": "light"
     },
     "output_type": "display_data"
    }
   ],
   "source": [
    "fig = plt.figure()\n",
    "\n",
    "###############################################################################\n",
    "# The actual drawing part\n",
    "\n",
    "# The y position for each variable\n",
    "ys = range(len(values))[::-1]  # top to bottom\n",
    "\n",
    "# Plot the bars, one by one\n",
    "for y, low, value in zip(ys, lows, values):\n",
    "    # The width of the 'low' and 'high' pieces\n",
    "    low_width = base - low\n",
    "    high_width = low + value - base\n",
    "\n",
    "    # Each bar is a \"broken\" horizontal bar chart\n",
    "    plt.broken_barh(\n",
    "        [(low, low_width), (base, high_width)],\n",
    "        (y - 0.4, 0.8),\n",
    "        facecolors=['white', 'white'],  # Try different colors if you like\n",
    "        edgecolors=['black', 'black'],\n",
    "        linewidth=1,\n",
    "    )\n",
    "\n",
    "    # Display the value as text. It should be positioned in the center of\n",
    "    # the 'high' bar, except if there isn't any room there, then it should be\n",
    "    # next to bar instead.\n",
    "#     x = base + high_width / 2\n",
    "#     if x <= base + 50:\n",
    "#         x = base + high_width + 50\n",
    "#     plt.text(x, y, str(value), va='center', ha='center')\n",
    "\n",
    "# Draw a vertical line down the middle\n",
    "plt.axvline(base, color='black')\n",
    "\n",
    "# Position the x-axis on the top, hide all the other spines (=axis lines)\n",
    "axes = plt.gca()  # (gca = get current axes)\n",
    "axes.spines['left'].set_visible(False)\n",
    "axes.spines['right'].set_visible(False)\n",
    "axes.spines['bottom'].set_visible(False)\n",
    "axes.xaxis.set_ticks_position('top')\n",
    "axes.xaxis.set_label_position('top')\n",
    "\n",
    "# Make the y-axis display the variables\n",
    "plt.yticks(ys, variables)\n",
    "\n",
    "# Set the portion of the x- and y-axes to show\n",
    "plt.xlim(base - 1, base + 1)\n",
    "plt.ylim(-1, len(variables))\n",
    "plt.xlabel(\"Peak Warming (K)\")\n",
    "\n",
    "fig.savefig('paper_figures/Nordhaus_OAT_sensitivity.png', bbox_inches='tight', dpi = 300)"
   ]
  },
  {
   "cell_type": "code",
   "execution_count": 19,
   "id": "6ecdf675",
   "metadata": {},
   "outputs": [
    {
     "data": {
      "text/plain": [
       "array([0.36643086, 0.12797901, 0.12786501, 0.11140648, 0.00961951,\n",
       "       0.08046924])"
      ]
     },
     "execution_count": 19,
     "metadata": {},
     "output_type": "execute_result"
    }
   ],
   "source": [
    "values"
   ]
  },
  {
   "cell_type": "code",
   "execution_count": 20,
   "id": "1cef89c7",
   "metadata": {},
   "outputs": [
    {
     "data": {
      "text/plain": [
       "array([2.40665508, 2.513657  , 2.50730244, 2.51560231, 2.56884987,\n",
       "       2.53002745])"
      ]
     },
     "execution_count": 20,
     "metadata": {},
     "output_type": "execute_result"
    }
   ],
   "source": [
    "lows"
   ]
  },
  {
   "cell_type": "code",
   "execution_count": 21,
   "id": "19f870e5",
   "metadata": {},
   "outputs": [
    {
     "data": {
      "text/plain": [
       "2.5741917629221933"
      ]
     },
     "execution_count": 21,
     "metadata": {},
     "output_type": "execute_result"
    }
   ],
   "source": [
    "base"
   ]
  },
  {
   "cell_type": "code",
   "execution_count": null,
   "id": "322bf22b",
   "metadata": {},
   "outputs": [],
   "source": []
  }
 ],
 "metadata": {
  "kernelspec": {
   "display_name": "Python 3 (ipykernel)",
   "language": "python",
   "name": "python3"
  },
  "language_info": {
   "codemirror_mode": {
    "name": "ipython",
    "version": 3
   },
   "file_extension": ".py",
   "mimetype": "text/x-python",
   "name": "python",
   "nbconvert_exporter": "python",
   "pygments_lexer": "ipython3",
   "version": "3.9.7"
  }
 },
 "nbformat": 4,
 "nbformat_minor": 5
}
