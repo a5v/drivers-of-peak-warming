{
 "cells": [
  {
   "cell_type": "code",
   "execution_count": 1,
   "id": "79fbd116",
   "metadata": {
    "scrolled": true
   },
   "outputs": [],
   "source": [
    "from peak_warming_calculator import peak_warming_calculator\n",
    "import matplotlib.pyplot as plt\n",
    "import numpy as np"
   ]
  },
  {
   "cell_type": "code",
   "execution_count": 2,
   "id": "019be719",
   "metadata": {},
   "outputs": [],
   "source": [
    "import time"
   ]
  },
  {
   "cell_type": "markdown",
   "id": "8dbf997c",
   "metadata": {},
   "source": [
    "## Varying Growth Corrected Discount Rate"
   ]
  },
  {
   "cell_type": "code",
   "execution_count": 3,
   "id": "d3b53564",
   "metadata": {},
   "outputs": [],
   "source": [
    "consumption_growth= 0.02\n",
    "growth_corrected_discount_rate = np.linspace(0.005, 0.035, 10)\n",
    "consumption_discount_array = consumption_growth + growth_corrected_discount_rate"
   ]
  },
  {
   "cell_type": "code",
   "execution_count": 4,
   "id": "32311347",
   "metadata": {},
   "outputs": [
    {
     "name": "stderr",
     "output_type": "stream",
     "text": [
      "/Users/aaron/Documents/oxford_physics/Year_4/MPhys/drivers-of-peak-warming/peak_warming_calculator/peak_warming_calculator.py:138: RuntimeWarning: divide by zero encountered in power\n",
      "  A = Am / (1 + ((P - P0) / (P_h - P0)) ** (-s / r))\n"
     ]
    }
   ],
   "source": [
    "peak_T_list = []\n",
    "# output_data_list = []\n",
    "SCC_list = []\n",
    "\n",
    "for i in range(len(consumption_discount_array)):\n",
    "    consumption_discount = consumption_discount_array[i]\n",
    "    r = consumption_discount\n",
    "    s = r * 3\n",
    "#     s = r * np.log(5)/np.log((P_100)/(P_50))\n",
    "    peak_T, output_data = peak_warming_calculator(consumption_growth=consumption_growth, consumption_discount=consumption_discount, s=s, r=r, return_all_output=True)\n",
    "    peak_T_list.append(peak_T)\n",
    "#     output_data_list.append(output_data)\n",
    "    SCC_list.append(output_data['SCC'].loc[2020])"
   ]
  },
  {
   "cell_type": "code",
   "execution_count": 7,
   "id": "e17f2f72",
   "metadata": {},
   "outputs": [
    {
     "data": {
      "image/png": "[encoded data removed]",
      "text/plain": [
       "<Figure size 432x288 with 1 Axes>"
      ]
     },
     "metadata": {
      "needs_background": "light"
     },
     "output_type": "display_data"
    }
   ],
   "source": [
    "fig = plt.figure()\n",
    "\n",
    "plt.plot(growth_corrected_discount_rate, SCC_list)\n",
    "plt.xlabel(\"Growth-Adjusted Discount Rate\")\n",
    "plt.ylabel(\"SCC in 2020 ($)\")\n",
    "fig.savefig('paper_figures/Nordhaus_SCC_varying_gadr.png', bbox_inches='tight', dpi = 300)"
   ]
  },
  {
   "cell_type": "code",
   "execution_count": null,
   "id": "3736b8d4",
   "metadata": {},
   "outputs": [],
   "source": []
  }
 ],
 "metadata": {
  "kernelspec": {
   "display_name": "Python 3 (ipykernel)",
   "language": "python",
   "name": "python3"
  },
  "language_info": {
   "codemirror_mode": {
    "name": "ipython",
    "version": 3
   },
   "file_extension": ".py",
   "mimetype": "text/x-python",
   "name": "python",
   "nbconvert_exporter": "python",
   "pygments_lexer": "ipython3",
   "version": "3.9.7"
  }
 },
 "nbformat": 4,
 "nbformat_minor": 5
}
