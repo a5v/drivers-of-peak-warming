{
 "cells": [
  {
   "cell_type": "code",
   "execution_count": 1,
   "id": "79fbd116",
   "metadata": {
    "scrolled": true
   },
   "outputs": [],
   "source": [
    "from peak_warming_calculator  import *\n",
    "import matplotlib.pyplot as plt"
   ]
  },
  {
   "cell_type": "code",
   "execution_count": 2,
   "id": "f88ad1ae",
   "metadata": {},
   "outputs": [],
   "source": [
    "from SALib.sample import saltelli\n",
    "from SALib.analyze import sobol\n",
    "import numpy as np\n",
    "from numpy import genfromtxt\n",
    "import matplotlib.cm as cm"
   ]
  },
  {
   "cell_type": "code",
   "execution_count": 3,
   "id": "019be719",
   "metadata": {},
   "outputs": [],
   "source": [
    "import time"
   ]
  },
  {
   "cell_type": "markdown",
   "id": "026e922f",
   "metadata": {},
   "source": [
    "# Sensitivity Analysis"
   ]
  },
  {
   "cell_type": "code",
   "execution_count": 4,
   "id": "d29eed9b",
   "metadata": {},
   "outputs": [],
   "source": [
    "r_minus_g = 0.015\n",
    "consumption_growth = 0.02\n",
    "consumption_discount = consumption_growth + r_minus_g"
   ]
  },
  {
   "cell_type": "code",
   "execution_count": 5,
   "id": "6a779b49",
   "metadata": {},
   "outputs": [],
   "source": [
    "problem = {\n",
    "'num_vars': 6,\n",
    "'names': ['gamma', 'D0', 'P_100', 'P_50/P_100', 's/r', 'TCRE_1'],\n",
    "'bounds': [\n",
    "[2*0.9, 2*1.1],\n",
    "[0.00236*0.9, 0.00236*1.1],\n",
    "[300*0.9, 300*1.1],\n",
    "[0.4*0.9, 0.4*1.1],\n",
    "[2*0.9, 2*1.1],\n",
    "[0.00045*0.9, 0.00045*1.1]]\n",
    "}\n",
    "\n",
    "# Generate samples\n",
    "param_values = saltelli.sample(problem, 64)    "
   ]
  },
  {
   "cell_type": "code",
   "execution_count": 6,
   "id": "98136c23",
   "metadata": {},
   "outputs": [
    {
     "data": {
      "text/plain": [
       "array([1.80937500e+00, 2.31206250e-03, 3.19218750e+02, 4.26875000e-01,\n",
       "       2.05937500e+00, 4.45078125e-04])"
      ]
     },
     "execution_count": 6,
     "metadata": {},
     "output_type": "execute_result"
    }
   ],
   "source": [
    "param_values[0]"
   ]
  },
  {
   "cell_type": "code",
   "execution_count": 7,
   "id": "8c3a1661",
   "metadata": {},
   "outputs": [
    {
     "data": {
      "text/plain": [
       "896"
      ]
     },
     "execution_count": 7,
     "metadata": {},
     "output_type": "execute_result"
    }
   ],
   "source": [
    "len(param_values)"
   ]
  },
  {
   "cell_type": "code",
   "execution_count": 8,
   "id": "99bf769c",
   "metadata": {},
   "outputs": [
    {
     "name": "stdout",
     "output_type": "stream",
     "text": [
      "0\n",
      "12:25:30\n"
     ]
    },
    {
     "name": "stderr",
     "output_type": "stream",
     "text": [
      "/Users/aaron/Documents/oxford_physics/Year_4/MPhys/drivers-of-peak-warming/peak_warming_calculator/peak_warming_calculator.py:126: RuntimeWarning: divide by zero encountered in power\n",
      "  A = Am / (1 + ((P - P0) / (P_h - P0)) ** (-s / r))\n"
     ]
    },
    {
     "name": "stdout",
     "output_type": "stream",
     "text": [
      "32\n",
      "12:28:56\n",
      "64\n",
      "12:32:38\n",
      "96\n",
      "12:36:12\n",
      "128\n",
      "12:39:41\n",
      "160\n",
      "12:43:18\n",
      "192\n",
      "12:46:54\n",
      "224\n",
      "12:50:39\n",
      "256\n",
      "12:54:09\n",
      "288\n",
      "12:57:54\n",
      "320\n",
      "13:01:32\n",
      "352\n",
      "13:04:57\n",
      "384\n",
      "13:08:49\n",
      "416\n",
      "13:12:26\n",
      "448\n",
      "13:16:08\n",
      "480\n",
      "13:19:53\n",
      "512\n",
      "13:23:34\n",
      "544\n",
      "13:27:15\n",
      "576\n",
      "13:30:29\n",
      "608\n",
      "13:34:24\n",
      "640\n",
      "13:38:07\n",
      "672\n",
      "13:41:49\n",
      "704\n",
      "13:45:27\n",
      "736\n",
      "13:48:56\n",
      "768\n",
      "13:52:33\n",
      "800\n",
      "13:55:54\n",
      "832\n",
      "13:59:33\n",
      "864\n",
      "14:03:16\n"
     ]
    }
   ],
   "source": [
    "peak_T_list = []\n",
    "\n",
    "for i in range(len(param_values)):\n",
    "    if i % 32 == 0:\n",
    "        print(i)\n",
    "        t = time.localtime()\n",
    "        current_time = time.strftime(\"%H:%M:%S\", t)\n",
    "        print(current_time)\n",
    "    \n",
    "    gamma = param_values[i][0]\n",
    "    D0 = param_values[i][1]\n",
    "    P_100 = param_values[i][2]\n",
    "    P_50 = param_values[i][3] * P_100\n",
    "    r = consumption_discount\n",
    "    s = param_values[i][4]*r\n",
    "    T_TCRE_1 = param_values[i][5]\n",
    "    \n",
    "    peak_T = peak_warming_calculator(P_50=P_50, P_100=P_100, gamma=gamma, D0=D0, consumption_growth=consumption_growth, consumption_discount=consumption_discount, s=s, r=r, T_TCRE_1=T_TCRE_1)\n",
    "    peak_T_list.append(peak_T)"
   ]
  },
  {
   "cell_type": "code",
   "execution_count": 9,
   "id": "227accb9",
   "metadata": {},
   "outputs": [
    {
     "name": "stdout",
     "output_type": "stream",
     "text": [
      "                  ST   ST_conf\n",
      "gamma       0.751396  0.230050\n",
      "D0          0.090526  0.026744\n",
      "P_100       0.091297  0.041740\n",
      "P_50/P_100  0.066039  0.024511\n",
      "s/r         0.000479  0.000212\n",
      "TCRE_1      0.037321  0.016282\n",
      "                  S1   S1_conf\n",
      "gamma       0.767661  0.287944\n",
      "D0          0.068952  0.117725\n",
      "P_100       0.089528  0.113684\n",
      "P_50/P_100  0.062587  0.076737\n",
      "s/r         0.000264  0.006144\n",
      "TCRE_1      0.034215  0.070138\n",
      "                            S2   S2_conf\n",
      "(gamma, D0)          -0.025830  0.314224\n",
      "(gamma, P_100)       -0.020238  0.370788\n",
      "(gamma, P_50/P_100)  -0.013365  0.322047\n",
      "(gamma, s/r)         -0.020547  0.317515\n",
      "(gamma, TCRE_1)      -0.013401  0.344310\n",
      "(D0, P_100)           0.049436  0.177187\n",
      "(D0, P_50/P_100)      0.032967  0.173128\n",
      "(D0, s/r)             0.033750  0.173854\n",
      "(D0, TCRE_1)          0.027344  0.174191\n",
      "(P_100, P_50/P_100)  -0.012669  0.120327\n",
      "(P_100, s/r)         -0.012914  0.111308\n",
      "(P_100, TCRE_1)      -0.010535  0.122944\n",
      "(P_50/P_100, s/r)    -0.002695  0.068022\n",
      "(P_50/P_100, TCRE_1) -0.004813  0.072298\n",
      "(s/r, TCRE_1)        -0.000468  0.009637\n"
     ]
    },
    {
     "data": {
      "text/plain": [
       "([0, 1, 2, 3, 4, 5],\n",
       " [Text(0, 0, ''),\n",
       "  Text(0, 0, ''),\n",
       "  Text(0, 0, ''),\n",
       "  Text(0, 0, ''),\n",
       "  Text(0, 0, ''),\n",
       "  Text(0, 0, '')])"
      ]
     },
     "execution_count": 9,
     "metadata": {},
     "output_type": "execute_result"
    },
    {
     "data": {
      "image/png": "[encoded data removed]",
      "text/plain": [
       "<Figure size 432x288 with 1 Axes>"
      ]
     },
     "metadata": {
      "needs_background": "light"
     },
     "output_type": "display_data"
    }
   ],
   "source": [
    "peak_T_list = np.asarray(peak_T_list)\n",
    "\n",
    "Si = sobol.analyze(problem, peak_T_list, print_to_console=True)\n",
    "\n",
    "total_Si, first_Si, second_Si = Si.to_df()\n",
    "\n",
    "plt.title(\"Total Order Interactions\")\n",
    "plt.bar(total_Si.index, total_Si['ST'], yerr=total_Si['ST_conf'])\n",
    "plt.xticks(rotation=90)"
   ]
  },
  {
   "cell_type": "code",
   "execution_count": null,
   "id": "6ecdf675",
   "metadata": {},
   "outputs": [],
   "source": []
  }
 ],
 "metadata": {
  "kernelspec": {
   "display_name": "Python 3 (ipykernel)",
   "language": "python",
   "name": "python3"
  },
  "language_info": {
   "codemirror_mode": {
    "name": "ipython",
    "version": 3
   },
   "file_extension": ".py",
   "mimetype": "text/x-python",
   "name": "python",
   "nbconvert_exporter": "python",
   "pygments_lexer": "ipython3",
   "version": "3.9.7"
  }
 },
 "nbformat": 4,
 "nbformat_minor": 5
}
