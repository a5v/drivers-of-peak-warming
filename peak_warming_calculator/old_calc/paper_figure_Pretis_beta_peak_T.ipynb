{
 "cells": [
  {
   "cell_type": "code",
   "execution_count": 13,
   "id": "79fbd116",
   "metadata": {
    "scrolled": true
   },
   "outputs": [],
   "source": [
    "from peak_warming_calculator_Pretis import peak_warming_calculator_Pretis\n",
    "import matplotlib.pyplot as plt\n",
    "import numpy as np"
   ]
  },
  {
   "cell_type": "code",
   "execution_count": 14,
   "id": "019be719",
   "metadata": {},
   "outputs": [],
   "source": [
    "import time"
   ]
  },
  {
   "cell_type": "markdown",
   "id": "8dbf997c",
   "metadata": {},
   "source": [
    "## Varying Growth Corrected Discount Rate"
   ]
  },
  {
   "cell_type": "code",
   "execution_count": 25,
   "id": "d3b53564",
   "metadata": {},
   "outputs": [],
   "source": [
    "consumption_growth= 0.02\n",
    "beta_array = np.linspace(0.0002, 0.002, 10)\n",
    "growth_corrected_discount_rate = 0.015\n"
   ]
  },
  {
   "cell_type": "code",
   "execution_count": 26,
   "id": "32311347",
   "metadata": {},
   "outputs": [
    {
     "name": "stderr",
     "output_type": "stream",
     "text": [
      "/Users/aaron/Documents/oxford_physics/Year_4/MPhys/drivers-of-peak-warming/peak_warming_calculator/peak_warming_calculator.py:138: RuntimeWarning: divide by zero encountered in power\n",
      "  A = Am / (1 + ((P - P0) / (P_h - P0)) ** (-s / r))\n",
      "/Users/aaron/Documents/oxford_physics/Year_4/MPhys/drivers-of-peak-warming/peak_warming_calculator/peak_warming_calculator_Pretis.py:165: RuntimeWarning: divide by zero encountered in power\n",
      "  A = Am / (1 + ((P - P0) / (P_h - P0)) ** (-s / r))\n"
     ]
    }
   ],
   "source": [
    "peak_T_list = []\n",
    "# output_data_list = []\n",
    "SCC_list = []\n",
    "\n",
    "for i in range(len(beta_array)):\n",
    "    beta = beta_array[i]\n",
    "    r = consumption_growth + growth_corrected_discount_rate\n",
    "    s = r * 3\n",
    "#     s = r * np.log(5)/np.log((P_100)/(P_50))\n",
    "    peak_T, output_data = peak_warming_calculator_Pretis(g_0=consumption_growth, r_minus_g=growth_corrected_discount_rate, beta=beta, s=s, r=r, return_all_output=True)\n",
    "    peak_T_list.append(peak_T)\n",
    "#     output_data_list.append(output_data)\n",
    "    SCC_list.append(output_data['SCC'].loc[2020])"
   ]
  },
  {
   "cell_type": "code",
   "execution_count": 28,
   "id": "e17f2f72",
   "metadata": {},
   "outputs": [
    {
     "data": {
      "image/png": "[encoded data removed]",
      "text/plain": [
       "<Figure size 432x288 with 1 Axes>"
      ]
     },
     "metadata": {
      "needs_background": "light"
     },
     "output_type": "display_data"
    }
   ],
   "source": [
    "fig = plt.figure()\n",
    "\n",
    "plt.plot(beta_array*100, peak_T_list)\n",
    "plt.xlabel(\"Beta (% K$^{-1}$)\")\n",
    "plt.ylabel(\"Peak T (K)\")\n",
    "fig.savefig('paper_figures/Pretis_beta_peak_T.png', bbox_inches='tight', dpi = 300)"
   ]
  },
  {
   "cell_type": "code",
   "execution_count": null,
   "id": "3736b8d4",
   "metadata": {},
   "outputs": [],
   "source": []
  },
  {
   "cell_type": "code",
   "execution_count": null,
   "id": "9e164045",
   "metadata": {},
   "outputs": [],
   "source": []
  },
  {
   "cell_type": "code",
   "execution_count": null,
   "id": "6bd08179",
   "metadata": {},
   "outputs": [],
   "source": []
  }
 ],
 "metadata": {
  "kernelspec": {
   "display_name": "Python 3 (ipykernel)",
   "language": "python",
   "name": "python3"
  },
  "language_info": {
   "codemirror_mode": {
    "name": "ipython",
    "version": 3
   },
   "file_extension": ".py",
   "mimetype": "text/x-python",
   "name": "python",
   "nbconvert_exporter": "python",
   "pygments_lexer": "ipython3",
   "version": "3.9.7"
  }
 },
 "nbformat": 4,
 "nbformat_minor": 5
}
