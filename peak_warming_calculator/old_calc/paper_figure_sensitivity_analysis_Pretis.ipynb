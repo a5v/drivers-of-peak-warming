{
 "cells": [
  {
   "cell_type": "code",
   "execution_count": 1,
   "id": "79fbd116",
   "metadata": {
    "scrolled": true
   },
   "outputs": [],
   "source": [
    "from peak_warming_calculator_Pretis  import *\n",
    "import matplotlib.pyplot as plt"
   ]
  },
  {
   "cell_type": "code",
   "execution_count": 2,
   "id": "f88ad1ae",
   "metadata": {},
   "outputs": [],
   "source": [
    "from SALib.sample import saltelli\n",
    "from SALib.analyze import sobol\n",
    "import numpy as np\n",
    "from numpy import genfromtxt\n",
    "import matplotlib.cm as cm"
   ]
  },
  {
   "cell_type": "code",
   "execution_count": 3,
   "id": "019be719",
   "metadata": {},
   "outputs": [],
   "source": [
    "import time"
   ]
  },
  {
   "cell_type": "markdown",
   "id": "026e922f",
   "metadata": {},
   "source": [
    "# Sensitivity Analysis"
   ]
  },
  {
   "cell_type": "code",
   "execution_count": 4,
   "id": "d29eed9b",
   "metadata": {},
   "outputs": [],
   "source": [
    "r_minus_g = 0.015\n",
    "consumption_growth = 0.03\n",
    "consumption_discount = consumption_growth + r_minus_g"
   ]
  },
  {
   "cell_type": "code",
   "execution_count": 5,
   "id": "6a779b49",
   "metadata": {},
   "outputs": [],
   "source": [
    "problem = {\n",
    "'num_vars': 6,\n",
    "'names': ['gamma', 'D0', 'P_100', 'P_50/P_100', 's/r', 'TCRE_1'],\n",
    "'bounds': [\n",
    "[2*0.95, 2*1.05],\n",
    "[0.00236*0.95, 0.00236*1.05],\n",
    "[300*0.95, 300*1.05],\n",
    "[0.4*0.95, 0.4*1.05],\n",
    "[2*0.95, 2*1.05],\n",
    "[0.00054*0.95, 0.00054*1.05]]\n",
    "}\n",
    "\n",
    "# Generate samples\n",
    "param_values = saltelli.sample(problem, 16)    "
   ]
  },
  {
   "cell_type": "code",
   "execution_count": 6,
   "id": "98136c23",
   "metadata": {},
   "outputs": [
    {
     "data": {
      "text/plain": [
       "array([1.918750e+00, 2.352625e-03, 2.990625e+02, 4.062500e-01,\n",
       "       1.956250e+00, 5.653125e-04])"
      ]
     },
     "execution_count": 6,
     "metadata": {},
     "output_type": "execute_result"
    }
   ],
   "source": [
    "param_values[0]"
   ]
  },
  {
   "cell_type": "code",
   "execution_count": 7,
   "id": "8c3a1661",
   "metadata": {},
   "outputs": [
    {
     "data": {
      "text/plain": [
       "224"
      ]
     },
     "execution_count": 7,
     "metadata": {},
     "output_type": "execute_result"
    }
   ],
   "source": [
    "len(param_values)"
   ]
  },
  {
   "cell_type": "code",
   "execution_count": 8,
   "id": "99bf769c",
   "metadata": {},
   "outputs": [
    {
     "name": "stdout",
     "output_type": "stream",
     "text": [
      "0\n",
      "14:11:16\n"
     ]
    },
    {
     "name": "stderr",
     "output_type": "stream",
     "text": [
      "/Users/aaron/Documents/oxford_physics/Year_4/MPhys/drivers-of-peak-warming/peak_warming_calculator/peak_warming_calculator.py:128: RuntimeWarning: divide by zero encountered in power\n",
      "  A = Am / (1 + ((P - P0) / (P_h - P0)) ** (-s / r))\n"
     ]
    },
    {
     "name": "stdout",
     "output_type": "stream",
     "text": [
      "P0_Nordhaus = 23.429866201300523\n"
     ]
    },
    {
     "name": "stderr",
     "output_type": "stream",
     "text": [
      "/Users/aaron/Documents/oxford_physics/Year_4/MPhys/drivers-of-peak-warming/peak_warming_calculator/peak_warming_calculator_Pretis.py:155: RuntimeWarning: divide by zero encountered in power\n",
      "  A = Am / (1 + ((P - P0) / (P_h - P0)) ** (-s / r))\n"
     ]
    },
    {
     "name": "stdout",
     "output_type": "stream",
     "text": [
      "P0_Nordhaus = 25.69794582805547\n",
      "P0_Nordhaus = 24.196817952681617\n",
      "P0_Nordhaus = 23.429866201300523\n",
      "P0_Nordhaus = 23.28870321009801\n",
      "P0_Nordhaus = 23.419559037205083\n",
      "P0_Nordhaus = 21.9280022674226\n",
      "P0_Nordhaus = 22.51147158313997\n",
      "P0_Nordhaus = 23.884195842308795\n",
      "P0_Nordhaus = 24.656298340669952\n",
      "P0_Nordhaus = 24.817564521208407\n",
      "P0_Nordhaus = 24.66732413055005\n",
      "P0_Nordhaus = 26.328920779446747\n",
      "P0_Nordhaus = 24.656298340669952\n",
      "P0_Nordhaus = 25.636233267978472\n",
      "P0_Nordhaus = 22.785441874464947\n",
      "P0_Nordhaus = 24.313548720027114\n",
      "P0_Nordhaus = 25.636233267978472\n",
      "P0_Nordhaus = 25.8064223525179\n",
      "P0_Nordhaus = 25.625583448295334\n",
      "P0_Nordhaus = 26.98488884198147\n",
      "P0_Nordhaus = 25.764912744813795\n",
      "P0_Nordhaus = 24.116638295118047\n",
      "P0_Nordhaus = 22.84818815295894\n",
      "P0_Nordhaus = 22.716718762745256\n",
      "P0_Nordhaus = 22.857390504221968\n",
      "P0_Nordhaus = 21.693773184531153\n",
      "P0_Nordhaus = 22.84818815295894\n",
      "P0_Nordhaus = 24.50576963115405\n",
      "P0_Nordhaus = 24.199968200757716\n",
      "P0_Nordhaus = 24.235140496671715\n",
      "P0_Nordhaus = 24.68008925450201\n",
      "32\n",
      "14:14:00\n",
      "P0_Nordhaus = 24.50576963115405\n",
      "P0_Nordhaus = 24.523759552072892\n",
      "P0_Nordhaus = 25.80369237944415\n",
      "P0_Nordhaus = 25.767821208962726\n",
      "P0_Nordhaus = 25.72619450460177\n",
      "P0_Nordhaus = 25.258304330475482\n",
      "P0_Nordhaus = 25.44266381335754\n",
      "P0_Nordhaus = 25.42371591155591\n",
      "P0_Nordhaus = 24.116790566224036\n",
      "P0_Nordhaus = 25.44266381335754\n",
      "P0_Nordhaus = 24.5190665883308\n",
      "P0_Nordhaus = 24.199043647656\n",
      "P0_Nordhaus = 24.258993294788876\n",
      "P0_Nordhaus = 24.353395781778755\n",
      "P0_Nordhaus = 24.5190665883308\n",
      "P0_Nordhaus = 24.53741225789013\n",
      "P0_Nordhaus = 22.909304561387476\n",
      "P0_Nordhaus = 22.537013338426174\n",
      "P0_Nordhaus = 22.485307358562878\n",
      "P0_Nordhaus = 22.384397600050995\n",
      "P0_Nordhaus = 22.244750655148792\n",
      "P0_Nordhaus = 22.228536547115468\n",
      "P0_Nordhaus = 23.80094898683561\n",
      "P0_Nordhaus = 22.244750655148792\n",
      "P0_Nordhaus = 24.19080732170681\n",
      "P0_Nordhaus = 26.406862443324215\n",
      "P0_Nordhaus = 24.462635277520377\n",
      "P0_Nordhaus = 24.109674946014184\n",
      "P0_Nordhaus = 24.268836060292593\n",
      "P0_Nordhaus = 24.23624694027454\n",
      "P0_Nordhaus = 21.913852482111036\n",
      "P0_Nordhaus = 22.201952455236334\n",
      "64\n",
      "14:16:37\n",
      "P0_Nordhaus = 24.003980322799805\n",
      "P0_Nordhaus = 24.356263209606045\n",
      "P0_Nordhaus = 24.190405733613378\n",
      "P0_Nordhaus = 24.224818924495768\n",
      "P0_Nordhaus = 26.74417189427524\n",
      "P0_Nordhaus = 24.27214918910946\n",
      "P0_Nordhaus = 26.315462656253093\n",
      "P0_Nordhaus = 23.52603683118441\n",
      "P0_Nordhaus = 26.590602412234134\n",
      "P0_Nordhaus = 26.21066490794416\n",
      "P0_Nordhaus = 26.026087686822766\n",
      "P0_Nordhaus = 26.30386080644925\n",
      "P0_Nordhaus = 26.915414129158382\n",
      "P0_Nordhaus = 26.765810522365364\n",
      "P0_Nordhaus = 23.741517477283466\n",
      "P0_Nordhaus = 24.080010928177934\n",
      "P0_Nordhaus = 24.228849505025387\n",
      "P0_Nordhaus = 24.004248429868877\n",
      "P0_Nordhaus = 23.46356982638786\n",
      "P0_Nordhaus = 23.994516539694192\n",
      "P0_Nordhaus = 23.660296995433463\n",
      "P0_Nordhaus = 23.364075528780536\n",
      "P0_Nordhaus = 24.945042892652392\n",
      "P0_Nordhaus = 23.577364338014313\n",
      "P0_Nordhaus = 23.740309588071813\n",
      "P0_Nordhaus = 23.62299715049449\n",
      "P0_Nordhaus = 25.669143092193384\n",
      "P0_Nordhaus = 26.995812595841784\n",
      "P0_Nordhaus = 25.341251937467078\n",
      "P0_Nordhaus = 26.80526438163574\n",
      "P0_Nordhaus = 26.567068692507352\n",
      "P0_Nordhaus = 26.706337874874812\n",
      "96\n",
      "14:19:52\n",
      "P0_Nordhaus = 24.59519704588588\n",
      "P0_Nordhaus = 26.665975255773354\n",
      "P0_Nordhaus = 23.645294903294218\n",
      "P0_Nordhaus = 23.335533108966537\n",
      "P0_Nordhaus = 22.897783991320964\n",
      "P0_Nordhaus = 23.87618576209815\n",
      "P0_Nordhaus = 23.716364630715002\n",
      "P0_Nordhaus = 23.66129751985875\n",
      "P0_Nordhaus = 22.77622798056408\n",
      "P0_Nordhaus = 22.335712337505072\n",
      "P0_Nordhaus = 22.765140966490968\n",
      "P0_Nordhaus = 21.83838777679052\n",
      "P0_Nordhaus = 21.976185214155162\n",
      "P0_Nordhaus = 22.021325640984315\n",
      "P0_Nordhaus = 22.88992966105069\n",
      "P0_Nordhaus = 22.03648705826855\n",
      "P0_Nordhaus = 22.362977856232625\n",
      "P0_Nordhaus = 26.428073213297637\n",
      "P0_Nordhaus = 22.362977856232625\n",
      "P0_Nordhaus = 22.362977856232625\n",
      "P0_Nordhaus = 22.267546324520058\n",
      "P0_Nordhaus = 22.353949004488715\n",
      "P0_Nordhaus = 21.865104373566044\n",
      "P0_Nordhaus = 21.764986209055095\n",
      "P0_Nordhaus = 25.69427295801453\n",
      "P0_Nordhaus = 25.69427295801453\n",
      "P0_Nordhaus = 25.83029818814445\n",
      "P0_Nordhaus = 25.705291268208043\n",
      "P0_Nordhaus = 26.27462516526756\n",
      "P0_Nordhaus = 25.69427295801453\n",
      "P0_Nordhaus = 24.067243917402248\n",
      "P0_Nordhaus = 23.172167325596487\n",
      "128\n",
      "14:23:00\n",
      "P0_Nordhaus = 24.067243917402248\n",
      "P0_Nordhaus = 24.067243917402248\n",
      "P0_Nordhaus = 24.261101610549108\n",
      "P0_Nordhaus = 24.05647440303371\n",
      "P0_Nordhaus = 26.451259375217806\n",
      "P0_Nordhaus = 26.71105405851391\n",
      "P0_Nordhaus = 25.708617309769608\n",
      "P0_Nordhaus = 25.708617309769608\n",
      "P0_Nordhaus = 25.49652751649481\n",
      "P0_Nordhaus = 25.72027069317841\n",
      "P0_Nordhaus = 23.33963850623789\n",
      "P0_Nordhaus = 25.708617309769608\n",
      "P0_Nordhaus = 25.84878479448775\n",
      "P0_Nordhaus = 24.92904937491195\n",
      "P0_Nordhaus = 26.952099880639736\n",
      "P0_Nordhaus = 25.654695200727875\n",
      "P0_Nordhaus = 25.930430349730667\n",
      "P0_Nordhaus = 25.869059065137666\n",
      "P0_Nordhaus = 26.831292067077\n",
      "P0_Nordhaus = 27.820690304964447\n",
      "P0_Nordhaus = 25.75641909306921\n",
      "P0_Nordhaus = 27.058871325513497\n",
      "P0_Nordhaus = 26.772956150119434\n",
      "P0_Nordhaus = 26.799814615069486\n",
      "P0_Nordhaus = 25.88225997264459\n",
      "P0_Nordhaus = 26.81997392485454\n",
      "P0_Nordhaus = 25.552740514875726\n",
      "P0_Nordhaus = 24.580263851229777\n",
      "P0_Nordhaus = 24.496361371660512\n",
      "P0_Nordhaus = 25.73500632383891\n",
      "P0_Nordhaus = 25.59730586046873\n",
      "P0_Nordhaus = 25.569507815489217\n",
      "160\n",
      "14:26:06\n",
      "P0_Nordhaus = 23.563743255988033\n",
      "P0_Nordhaus = 22.777033658407365\n",
      "P0_Nordhaus = 22.859227718348524\n",
      "P0_Nordhaus = 21.759226657831505\n",
      "P0_Nordhaus = 21.86079574304161\n",
      "P0_Nordhaus = 21.87890052133208\n",
      "P0_Nordhaus = 23.7662007691527\n",
      "P0_Nordhaus = 21.893338247866463\n",
      "P0_Nordhaus = 22.599919693562633\n",
      "P0_Nordhaus = 24.10561809468444\n",
      "P0_Nordhaus = 23.599112612059116\n",
      "P0_Nordhaus = 22.675299064529398\n",
      "P0_Nordhaus = 22.771427506176924\n",
      "P0_Nordhaus = 22.578046508338534\n",
      "P0_Nordhaus = 21.425668766535498\n",
      "P0_Nordhaus = 22.59447318306638\n",
      "P0_Nordhaus = 23.08733258354441\n",
      "P0_Nordhaus = 24.02447453991343\n",
      "P0_Nordhaus = 23.91769739294061\n",
      "P0_Nordhaus = 24.13198510149729\n",
      "P0_Nordhaus = 25.434081308035022\n",
      "P0_Nordhaus = 24.10743731067898\n",
      "P0_Nordhaus = 24.88460193282\n",
      "P0_Nordhaus = 21.570378928548894\n",
      "P0_Nordhaus = 23.837438765623926\n",
      "P0_Nordhaus = 24.968369645992865\n",
      "P0_Nordhaus = 24.76324824473674\n",
      "P0_Nordhaus = 24.917945859871356\n",
      "P0_Nordhaus = 26.662218539046425\n",
      "P0_Nordhaus = 25.546007046430415\n",
      "P0_Nordhaus = 23.106973691636043\n",
      "P0_Nordhaus = 22.052116892061296\n",
      "192\n",
      "14:29:09\n",
      "P0_Nordhaus = 22.210301554378738\n",
      "P0_Nordhaus = 22.089686137753812\n",
      "P0_Nordhaus = 20.638515557989592\n",
      "P0_Nordhaus = 22.11715144434554\n",
      "P0_Nordhaus = 22.719128711509704\n",
      "P0_Nordhaus = 24.210679171661507\n",
      "P0_Nordhaus = 22.719128711509704\n",
      "P0_Nordhaus = 22.793877369862656\n",
      "P0_Nordhaus = 22.61041992596512\n",
      "P0_Nordhaus = 22.722432906900085\n",
      "P0_Nordhaus = 24.30236856482701\n",
      "P0_Nordhaus = 24.26835776480498\n",
      "P0_Nordhaus = 25.81698145910416\n",
      "P0_Nordhaus = 25.716561214356396\n",
      "P0_Nordhaus = 25.960411619251012\n",
      "P0_Nordhaus = 25.813209774690467\n",
      "P0_Nordhaus = 24.17603300273725\n",
      "P0_Nordhaus = 25.81698145910416\n",
      "P0_Nordhaus = 22.974402759095696\n",
      "P0_Nordhaus = 24.58432036390602\n",
      "P0_Nordhaus = 22.974402759095696\n",
      "P0_Nordhaus = 22.767190047730782\n",
      "P0_Nordhaus = 22.880201647564952\n",
      "P0_Nordhaus = 22.92655318555846\n",
      "P0_Nordhaus = 21.79824294169918\n",
      "P0_Nordhaus = 21.47990213894189\n",
      "P0_Nordhaus = 22.953394406651817\n",
      "P0_Nordhaus = 23.174055770357718\n",
      "P0_Nordhaus = 23.05451567427886\n",
      "P0_Nordhaus = 23.001774859976653\n",
      "P0_Nordhaus = 24.17799916889115\n",
      "P0_Nordhaus = 22.953394406651817\n"
     ]
    }
   ],
   "source": [
    "peak_T_list = []\n",
    "\n",
    "for i in range(len(param_values)):\n",
    "    if i % 32 == 0:\n",
    "        print(i)\n",
    "        t = time.localtime()\n",
    "        current_time = time.strftime(\"%H:%M:%S\", t)\n",
    "        print(current_time)\n",
    "    \n",
    "    gamma = param_values[i][0]\n",
    "    D0 = param_values[i][1]\n",
    "    P_100 = param_values[i][2]\n",
    "    P_50 = param_values[i][3] * P_100\n",
    "    r = consumption_discount\n",
    "    s = param_values[i][4]*r\n",
    "    T_TCRE_1 = param_values[i][5]\n",
    "    \n",
    "    peak_T = peak_warming_calculator_Pretis(P_50=P_50, P_100=P_100, gamma=gamma, D0=D0, g_0=consumption_growth, r_minus_g=r_minus_g, s=s, r=r, T_TCRE_1=T_TCRE_1)\n",
    "    peak_T_list.append(peak_T)"
   ]
  },
  {
   "cell_type": "code",
   "execution_count": 9,
   "id": "227accb9",
   "metadata": {},
   "outputs": [
    {
     "name": "stdout",
     "output_type": "stream",
     "text": [
      "                  ST   ST_conf\n",
      "gamma       0.066885  0.048332\n",
      "D0          0.010158  0.006688\n",
      "P_100       0.492279  0.251783\n",
      "P_50/P_100  0.308088  0.160116\n",
      "s/r         0.000996  0.000712\n",
      "TCRE_1      0.022688  0.014463\n",
      "                  S1   S1_conf\n",
      "gamma       0.079627  0.171427\n",
      "D0          0.098601  0.067902\n",
      "P_100       0.628939  0.388268\n",
      "P_50/P_100  0.368517  0.409311\n",
      "s/r        -0.016465  0.017215\n",
      "TCRE_1      0.012540  0.104440\n",
      "                            S2   S2_conf\n",
      "(gamma, D0)          -0.003929  0.301363\n",
      "(gamma, P_100)       -0.012618  0.327697\n",
      "(gamma, P_50/P_100)  -0.010570  0.279100\n",
      "(gamma, s/r)          0.019239  0.276114\n",
      "(gamma, TCRE_1)       0.055517  0.266092\n",
      "(D0, P_100)          -0.155198  0.110351\n",
      "(D0, P_50/P_100)     -0.096528  0.099678\n",
      "(D0, s/r)            -0.094211  0.092824\n",
      "(D0, TCRE_1)         -0.097511  0.091723\n",
      "(P_100, P_50/P_100)  -0.212817  0.541021\n",
      "(P_100, s/r)         -0.049243  0.624384\n",
      "(P_100, TCRE_1)      -0.051531  0.625426\n",
      "(P_50/P_100, s/r)     0.040043  0.681232\n",
      "(P_50/P_100, TCRE_1)  0.053164  0.724476\n",
      "(s/r, TCRE_1)         0.014595  0.040993\n"
     ]
    },
    {
     "data": {
      "text/plain": [
       "([0, 1, 2, 3, 4, 5],\n",
       " [Text(0, 0, ''),\n",
       "  Text(0, 0, ''),\n",
       "  Text(0, 0, ''),\n",
       "  Text(0, 0, ''),\n",
       "  Text(0, 0, ''),\n",
       "  Text(0, 0, '')])"
      ]
     },
     "execution_count": 9,
     "metadata": {},
     "output_type": "execute_result"
    },
    {
     "data": {
      "image/png": "[encoded data removed]",
      "text/plain": [
       "<Figure size 432x288 with 1 Axes>"
      ]
     },
     "metadata": {
      "needs_background": "light"
     },
     "output_type": "display_data"
    }
   ],
   "source": [
    "peak_T_list = np.asarray(peak_T_list)\n",
    "\n",
    "Si = sobol.analyze(problem, peak_T_list, print_to_console=True)\n",
    "\n",
    "total_Si, first_Si, second_Si = Si.to_df()\n",
    "\n",
    "plt.title(\"Total Order Interactions\")\n",
    "plt.bar(total_Si.index, total_Si['ST'], yerr=total_Si['ST_conf'])\n",
    "plt.xticks(rotation=90)"
   ]
  },
  {
   "cell_type": "code",
   "execution_count": null,
   "id": "6ecdf675",
   "metadata": {},
   "outputs": [],
   "source": []
  },
  {
   "cell_type": "code",
   "execution_count": null,
   "id": "2cd88a1f",
   "metadata": {},
   "outputs": [],
   "source": []
  },
  {
   "cell_type": "code",
   "execution_count": null,
   "id": "e34b8b2d",
   "metadata": {},
   "outputs": [],
   "source": []
  }
 ],
 "metadata": {
  "kernelspec": {
   "display_name": "Python 3 (ipykernel)",
   "language": "python",
   "name": "python3"
  },
  "language_info": {
   "codemirror_mode": {
    "name": "ipython",
    "version": 3
   },
   "file_extension": ".py",
   "mimetype": "text/x-python",
   "name": "python",
   "nbconvert_exporter": "python",
   "pygments_lexer": "ipython3",
   "version": "3.9.7"
  }
 },
 "nbformat": 4,
 "nbformat_minor": 5
}
