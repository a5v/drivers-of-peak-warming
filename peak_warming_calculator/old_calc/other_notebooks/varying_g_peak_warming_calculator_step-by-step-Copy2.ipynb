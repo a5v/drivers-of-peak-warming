{
 "cells": [
  {
   "cell_type": "code",
   "execution_count": 1,
   "id": "a8198da9",
   "metadata": {},
   "outputs": [],
   "source": [
    "import pandas as pd\n",
    "import numpy as np\n",
    "import matplotlib.pyplot as plt\n",
    "import seaborn as sns\n",
    "sns.set()\n",
    "from scipy.optimize import curve_fit\n",
    "from scipy.integrate import simps\n",
    "from scipy.optimize import curve_fit"
   ]
  },
  {
   "cell_type": "markdown",
   "id": "1b40a359",
   "metadata": {},
   "source": [
    "## Define Functions"
   ]
  },
  {
   "cell_type": "code",
   "execution_count": 2,
   "id": "df85a918",
   "metadata": {},
   "outputs": [],
   "source": [
    "## calculate cost of perturbation due to carbon\n",
    "## input: temperature profile, perturbed temperature profile, total consumption, and discount function\n",
    "\n",
    "def cost_of_perturbation(W, W_prime, discount_function, gamma=2, D0=0.00267):\n",
    "    absolute_consumption_loss = W-W_prime\n",
    "    discounted_consumption_loss = absolute_consumption_loss*discount_function\n",
    "    area = simps(discounted_consumption_loss, dx=1)\n",
    "    cost = area*10**12  # convert to dollar amount\n",
    "    \n",
    "    return cost"
   ]
  },
  {
   "cell_type": "code",
   "execution_count": 3,
   "id": "5a11eab5",
   "metadata": {},
   "outputs": [],
   "source": [
    "## calculate abatement given a carbon price\n",
    "\n",
    "## default settings\n",
    "# P_50 = 300  # 187.5 * 0.7625000000000001\n",
    "# P_100 = 500  # 187.5\n",
    "# g_2019 = 0.02\n",
    "# g_grad = 0.0004  # 0.00034\n",
    "# W_2019 = 80\n",
    "# consumption_discount = g_2019 + 0.015\n",
    "# s = 0.05\n",
    "# r = 0.04\n",
    "\n",
    "## test \n",
    "P_100 = 287.5\n",
    "P_50 = P_100 * 0.528125\n",
    "g_2019 = 0.01\n",
    "g_grad = 0.0013  # g_grad = 0.0004\n",
    "W_2019 = 80\n",
    "consumption_discount_adjustment = 0.015\n",
    "consumption_discount = g_2019 + consumption_discount_adjustment\n",
    "constraint = 5  # param_values_2[i][1]\n",
    "r = consumption_discount\n",
    "s = r * np.log(constraint)/np.log((P_100)/(P_50))\n",
    "P0_prime = 31.33586359531034\n",
    "\n",
    "    \n",
    "# P_50 = 300  # 187.5 * 0.7625000000000001\n",
    "# P_100 = 500  # 187.5\n",
    "# g_2019 = 0.02\n",
    "# g_grad = 0.0013 # 0.00034\n",
    "# W_2019 = 80\n",
    "# consumption_discount = g_2019 + 0.015\n",
    "# s = 0.05\n",
    "# r = 0.03\n",
    "# P0_prime = 20\n",
    "# # s = 0.1\n",
    "\n",
    "\n",
    "def abatement(P, P0, P_50=P_50, r=r, s=s, P_100=P_100):  # 0.05\n",
    "    if P0 >= P_50:\n",
    "        print(\"P0 is greater than P_50\")\n",
    "    elif ((P_100-P0)/(P_50-P0))**(s/r) <= 2:\n",
    "        print(\"MAC curve condition not satisfied\")\n",
    "    \n",
    "    P_h = P0 + ((P_50 - P0) ** (-s / r) - 2 * (P_100 - P0) ** (-s / r)) ** (-r / s)\n",
    "    Am = 1 + ((P_100 - P0) / (P_h - P0)) ** (-s / r)\n",
    "    \n",
    "    A = Am / (1 + ((P - P0) / (P_h - P0)) ** (-s / r))\n",
    "    \n",
    "    return A"
   ]
  },
  {
   "cell_type": "code",
   "execution_count": 4,
   "id": "26ce409f",
   "metadata": {},
   "outputs": [],
   "source": [
    "## calculate emissions from forecasted abatement and CO2 baseline\n",
    "\n",
    "def abatement_to_emissions(forecasted_abatement, CO2_baseline):\n",
    "    CO2_emissions = CO2_baseline*(1-forecasted_abatement)\n",
    "    \n",
    "    return CO2_emissions"
   ]
  },
  {
   "cell_type": "code",
   "execution_count": 5,
   "id": "cda22b33",
   "metadata": {},
   "outputs": [],
   "source": [
    "def create_W(W_2019, last_historical_year, start_year, T_forecast_years, g):\n",
    "    W = []\n",
    "    W_historical = [W_2019] * (last_historical_year - start_year + 1)\n",
    "    W_forecast = []\n",
    "    W_previous_year = W_historical[-1]\n",
    "\n",
    "    for i in range(len(T_forecast_years) - 1):\n",
    "        W_this_year = W_previous_year*np.exp(g[i])\n",
    "        W_forecast.append(W_this_year)\n",
    "        W_previous_year = W_this_year\n",
    "\n",
    "    W = W_historical + W_forecast\n",
    "\n",
    "    W = np.asarray(W)\n",
    "    return W"
   ]
  },
  {
   "cell_type": "markdown",
   "id": "4bb1c315",
   "metadata": {},
   "source": [
    "# Steps outlined in Email"
   ]
  },
  {
   "cell_type": "markdown",
   "id": "9e286a49",
   "metadata": {},
   "source": [
    "## 1. Create Unperturbed Temperature Profile"
   ]
  },
  {
   "cell_type": "code",
   "execution_count": 6,
   "id": "d3bc2acf",
   "metadata": {},
   "outputs": [],
   "source": [
    "# get historical data (taken from chrisroadmap)\n",
    "\n",
    "T_gas_df = pd.read_csv(\"T_gas.csv\", index_col=0)\n",
    "\n",
    "T_2019 = T_gas_df['CO2_best'][2019]"
   ]
  },
  {
   "cell_type": "code",
   "execution_count": 7,
   "id": "a1096d77",
   "metadata": {},
   "outputs": [],
   "source": [
    "start_year = 1750\n",
    "last_historical_year = 2019\n",
    "end_year = 3000\n",
    "\n",
    "years = np.arange(start_year, end_year+1)\n",
    "T_forecast_years = np.arange(last_historical_year, end_year+1)\n",
    "T_forecast_length = end_year - last_historical_year + 1"
   ]
  },
  {
   "cell_type": "code",
   "execution_count": 8,
   "id": "da772f99",
   "metadata": {},
   "outputs": [],
   "source": [
    "delta_T = 2\n",
    "alpha = 0.02\n",
    "T_forecast = T_2019 + delta_T * (1 - np.exp(-alpha*np.arange(T_forecast_length)))"
   ]
  },
  {
   "cell_type": "code",
   "execution_count": 9,
   "id": "9d69f693",
   "metadata": {},
   "outputs": [],
   "source": [
    "T = np.concatenate([T_gas_df['CO2_best'],T_forecast[1:]])"
   ]
  },
  {
   "cell_type": "code",
   "execution_count": 10,
   "id": "8d7f6882",
   "metadata": {
    "scrolled": true
   },
   "outputs": [
    {
     "data": {
      "text/plain": [
       "<matplotlib.legend.Legend at 0x7f951af6fc40>"
      ]
     },
     "execution_count": 10,
     "metadata": {},
     "output_type": "execute_result"
    },
    {
     "data": {
      "image/png": "[encoded data removed]",
      "text/plain": [
       "<Figure size 432x288 with 1 Axes>"
      ]
     },
     "metadata": {},
     "output_type": "display_data"
    }
   ],
   "source": [
    "plt.plot(T_gas_df['CO2_best'], label=\"historical\")\n",
    "plt.plot(T_forecast_years, T_forecast, label=\"projected\")\n",
    "plt.xlabel(\"Year\")\n",
    "plt.ylabel(\"Attributed temperature change relative to 1750\")\n",
    "plt.legend()"
   ]
  },
  {
   "cell_type": "markdown",
   "id": "b0e49485",
   "metadata": {},
   "source": [
    "## 2. Calculate SCC as a function of time for a range of years"
   ]
  },
  {
   "cell_type": "code",
   "execution_count": 11,
   "id": "916e795f",
   "metadata": {},
   "outputs": [],
   "source": [
    "## years to calculate SCC\n",
    "first_perturbed_year = last_historical_year\n",
    "last_perturbed_year = 2500\n",
    "year_of_perturbation = np.arange(first_perturbed_year, last_perturbed_year+1)\n",
    "\n",
    "\n",
    "SCC_list = []\n",
    "SCC_list_actual = []\n",
    "\n",
    "for j in range(len(year_of_perturbation)):\n",
    "    ## define perturbed temperature profile for a given year\n",
    "    T_TCRE = 0.00054  # need to check this for FAIR!\n",
    "    k_s = 0.12\n",
    "\n",
    "    T_p = np.zeros(T_forecast_length)\n",
    "    for i in range(len(T_forecast_years)):\n",
    "        if year_of_perturbation[j] <= T_forecast_years[i]:\n",
    "            T_p[i] = T_TCRE*(1-np.exp(-k_s*(T_forecast_years[i]-year_of_perturbation[j])))\n",
    "    T_forecast_perturbed = T_forecast+T_p\n",
    "    T_perturbed = np.concatenate([T_gas_df['CO2_best'],T_forecast_perturbed[1:]])\n",
    "    \n",
    "\n",
    "    g = g_2019 - g_grad*(T_forecast[:-1]-T_2019)**1\n",
    "    g_prime = g_2019 - g_grad*(T_forecast_perturbed[:-1]-T_2019)**1\n",
    "    \n",
    "    growth_adjusted_consumption_discount = g_prime[j] + consumption_discount_adjustment\n",
    "    \n",
    "\n",
    "    W = create_W(W_2019, last_historical_year, start_year, T_forecast_years, g)\n",
    "    W_prime = create_W(W_2019, last_historical_year, start_year, T_forecast_years, g_prime)\n",
    "\n",
    "    ## define discount function\n",
    "    num_of_years = len(years)\n",
    "    discount_function = np.zeros(num_of_years)\n",
    "\n",
    "\n",
    "    for i in range(num_of_years):\n",
    "        if years[i] >= year_of_perturbation[j]:\n",
    "            discount_function[i] = np.exp(-growth_adjusted_consumption_discount*(years[i]-year_of_perturbation[j]))\n",
    "    \n",
    "    cost = cost_of_perturbation(W, W_prime, discount_function, gamma=2, D0=0.00267)\n",
    "    SCC = cost/(10**9)\n",
    "    SCC_list_actual.append(SCC)\n",
    "    \n",
    "    if j == 0 and P0_prime > P_100:\n",
    "        print(\"P_100 achieved in first year\")\n",
    "        print(SCC)\n",
    "    elif j == 0:  #  and SCC > P_100\n",
    "        P0 = SCC\n",
    "        SCC_adjusted = SCC - (P0-P0_prime)\n",
    "        SCC_list.append(P0_prime)\n",
    "    else:\n",
    "        SCC_adjusted = SCC - (P0-P0_prime)\n",
    "        if SCC_adjusted < P_100:\n",
    "            SCC_list.append(SCC_adjusted)\n",
    "        else:\n",
    "            SCC_list.append(P_100)\n",
    "            break"
   ]
  },
  {
   "cell_type": "code",
   "execution_count": 12,
   "id": "e06f34f8",
   "metadata": {},
   "outputs": [],
   "source": [
    "SCC_array = np.asarray(SCC_list)  # convert to numpy array"
   ]
  },
  {
   "cell_type": "code",
   "execution_count": 13,
   "id": "17a234fe",
   "metadata": {
    "scrolled": true
   },
   "outputs": [
    {
     "data": {
      "text/plain": [
       "array([ 31.3358636 ,  33.83148408,  36.34230013,  38.86599118,\n",
       "        41.40478235,  43.95631652,  46.52287288,  49.10205738,\n",
       "        51.69620381,  54.30288081,  56.92447727,  59.55852408,\n",
       "        62.20746568,  64.86879479,  67.54501183,  70.23357084,\n",
       "        72.93702868,  75.65280011,  78.38349892,  81.12650002,\n",
       "        83.88447453,  86.6547569 ,  89.44007598,  92.23772515,\n",
       "        95.0504914 ,  97.87562636, 100.71597557, 103.56874825,\n",
       "       106.43684888, 109.31744354, 112.21349607, 115.12212871,\n",
       "       118.04636504, 120.98328271, 123.93596546, 126.90144558,\n",
       "       129.88286741, 132.8772171 , 135.88770002, 138.91125533,\n",
       "       141.95114991, 145.00427516, 148.07395985, 151.15704683,\n",
       "       154.25692724, 157.3703945 , 160.50090262, 163.64519476,\n",
       "       166.80678829, 169.98237522, 173.17553678, 176.38291301,\n",
       "       179.60814952, 182.8478335 , 186.10567544, 189.37820879,\n",
       "       192.66920956, 195.97515652, 199.29989174, 202.63983846,\n",
       "       205.99890542, 209.37345935, 212.7674763 , 216.17726564,\n",
       "       219.6068713 , 223.05254434, 226.51839732, 230.00062198,\n",
       "       233.50340017, 237.02286345, 240.56326364, 244.1206711 ,\n",
       "       247.6994084 , 251.29548378, 254.9132912 , 258.54877584,\n",
       "       262.2064039 , 265.88205648, 269.58027276, 273.29686876,\n",
       "       277.03645756, 280.79478906, 284.57655103, 287.5       ])"
      ]
     },
     "execution_count": 13,
     "metadata": {},
     "output_type": "execute_result"
    }
   ],
   "source": [
    "SCC_array"
   ]
  },
  {
   "cell_type": "code",
   "execution_count": 14,
   "id": "824dda4d",
   "metadata": {},
   "outputs": [
    {
     "data": {
      "text/plain": [
       "Text(0, 0.5, 'SCC ($)')"
      ]
     },
     "execution_count": 14,
     "metadata": {},
     "output_type": "execute_result"
    },
    {
     "data": {
      "image/png": "[encoded data removed]",
      "text/plain": [
       "<Figure size 432x288 with 1 Axes>"
      ]
     },
     "metadata": {},
     "output_type": "display_data"
    }
   ],
   "source": [
    "plt.plot(year_of_perturbation[:len(SCC_array)], SCC_array)\n",
    "plt.xlabel(\"Year\")\n",
    "plt.ylabel(\"SCC ($)\")"
   ]
  },
  {
   "cell_type": "markdown",
   "id": "4527dfe3",
   "metadata": {},
   "source": [
    "### Check 100% abatement has been achieved!"
   ]
  },
  {
   "cell_type": "code",
   "execution_count": 15,
   "id": "2afc6578",
   "metadata": {},
   "outputs": [],
   "source": [
    "if SCC_array[-1] < P_100:\n",
    "    print(\"P_100 not achieved by achieved by final perturbed year\")"
   ]
  },
  {
   "cell_type": "code",
   "execution_count": 16,
   "id": "8926e6b1",
   "metadata": {},
   "outputs": [],
   "source": [
    "SCC_forecasted = []\n",
    "\n",
    "for i in range(T_forecast_length):\n",
    "    if i < len(SCC_array):\n",
    "        SCC_forecasted.append(SCC_array[i])\n",
    "    else:\n",
    "#         SCC_forecasted.append(SCC_array[-1])\n",
    "        SCC_forecasted.append(P_100)\n",
    "\n",
    "SCC_forecasted = np.array(SCC_forecasted)"
   ]
  },
  {
   "cell_type": "code",
   "execution_count": 17,
   "id": "ae6b677a",
   "metadata": {},
   "outputs": [],
   "source": [
    "# SCC_forecasted"
   ]
  },
  {
   "cell_type": "code",
   "execution_count": 18,
   "id": "ef9dcd63",
   "metadata": {},
   "outputs": [
    {
     "data": {
      "image/png": "[encoded data removed]",
      "text/plain": [
       "<Figure size 432x288 with 1 Axes>"
      ]
     },
     "metadata": {},
     "output_type": "display_data"
    }
   ],
   "source": [
    "plt.plot(T_forecast_years, SCC_forecasted)\n",
    "plt.xlabel(\"Year\")\n",
    "plt.ylabel(\"SCC ($)\")\n",
    "plt.yscale(\"log\")"
   ]
  },
  {
   "cell_type": "markdown",
   "id": "b85d4a61",
   "metadata": {},
   "source": [
    "## 3. Abatement as a function of time"
   ]
  },
  {
   "cell_type": "code",
   "execution_count": 19,
   "id": "a598428e",
   "metadata": {},
   "outputs": [],
   "source": [
    "P0 = SCC_forecasted[0]"
   ]
  },
  {
   "cell_type": "code",
   "execution_count": 20,
   "id": "0483d697",
   "metadata": {},
   "outputs": [],
   "source": [
    "# P0"
   ]
  },
  {
   "cell_type": "code",
   "execution_count": 21,
   "id": "b90c019f",
   "metadata": {
    "scrolled": true
   },
   "outputs": [
    {
     "name": "stderr",
     "output_type": "stream",
     "text": [
      "/var/folders/m4/mbpwp5q15070t8lqj4fj7mjr0000gn/T/ipykernel_26444/3947233283.py:48: RuntimeWarning: divide by zero encountered in power\n",
      "  A = Am / (1 + ((P - P0) / (P_h - P0)) ** (-s / r))\n"
     ]
    }
   ],
   "source": [
    "forecasted_abatement = abatement(P=SCC_forecasted, P0=P0_prime)  # , r=consumption_discount"
   ]
  },
  {
   "cell_type": "code",
   "execution_count": 22,
   "id": "0ebe8a6d",
   "metadata": {},
   "outputs": [
    {
     "data": {
      "text/plain": [
       "array([0.00000000e+00, 4.84059591e-05, 2.79916850e-04, 7.82976639e-04,\n",
       "       1.62757979e-03, 2.87330592e-03, 4.57561058e-03, 6.78247970e-03,\n",
       "       9.54138378e-03, 1.28912915e-02, 1.68730093e-02, 2.15165790e-02,\n",
       "       2.68560655e-02, 3.29119133e-02, 3.97109046e-02, 4.72630392e-02,\n",
       "       5.55872072e-02, 6.46822382e-02, 7.45586804e-02, 8.52037806e-02,\n",
       "       9.66196033e-02, 1.08781834e-01, 1.21684307e-01, 1.35291667e-01,\n",
       "       1.49590193e-01, 1.64534508e-01, 1.80104422e-01, 1.96245993e-01,\n",
       "       2.12933980e-01, 2.30107683e-01, 2.47738444e-01, 2.65760830e-01,\n",
       "       2.84144494e-01, 3.02821358e-01, 3.21761088e-01, 3.40894973e-01,\n",
       "       3.60194235e-01, 3.79591357e-01, 3.99060422e-01, 4.18536649e-01,\n",
       "       4.37997986e-01, 4.57383607e-01, 4.76676006e-01, 4.95819177e-01,\n",
       "       5.14800532e-01, 5.33569423e-01, 5.52118262e-01, 5.70401995e-01,\n",
       "       5.88417889e-01, 6.06126469e-01, 6.23529525e-01, 6.40592955e-01,\n",
       "       6.57322615e-01, 6.73689427e-01, 6.89702780e-01, 7.05338183e-01,\n",
       "       7.20607987e-01, 7.35491804e-01, 7.50004381e-01, 7.64128930e-01,\n",
       "       7.77882054e-01, 7.91250076e-01, 8.04250956e-01, 8.16873664e-01,\n",
       "       8.29137077e-01, 8.41032387e-01, 8.52579001e-01, 8.63769957e-01,\n",
       "       8.74624866e-01, 8.85138277e-01, 8.95329736e-01, 9.05195017e-01,\n",
       "       9.14753385e-01, 9.24001594e-01, 9.32958457e-01, 9.41621504e-01,\n",
       "       9.50008968e-01, 9.58118983e-01, 9.65969108e-01, 9.73557943e-01,\n",
       "       9.80902309e-01, 9.88001158e-01, 9.94870532e-01, 1.00000000e+00,\n",
       "       1.00000000e+00, 1.00000000e+00, 1.00000000e+00, 1.00000000e+00,\n",
       "       1.00000000e+00, 1.00000000e+00, 1.00000000e+00, 1.00000000e+00,\n",
       "       1.00000000e+00, 1.00000000e+00, 1.00000000e+00, 1.00000000e+00,\n",
       "       1.00000000e+00, 1.00000000e+00, 1.00000000e+00, 1.00000000e+00,\n",
       "       1.00000000e+00, 1.00000000e+00, 1.00000000e+00, 1.00000000e+00,\n",
       "       1.00000000e+00, 1.00000000e+00, 1.00000000e+00, 1.00000000e+00,\n",
       "       1.00000000e+00, 1.00000000e+00, 1.00000000e+00, 1.00000000e+00,\n",
       "       1.00000000e+00, 1.00000000e+00, 1.00000000e+00, 1.00000000e+00,\n",
       "       1.00000000e+00, 1.00000000e+00, 1.00000000e+00, 1.00000000e+00,\n",
       "       1.00000000e+00, 1.00000000e+00, 1.00000000e+00, 1.00000000e+00,\n",
       "       1.00000000e+00, 1.00000000e+00, 1.00000000e+00, 1.00000000e+00,\n",
       "       1.00000000e+00, 1.00000000e+00, 1.00000000e+00, 1.00000000e+00,\n",
       "       1.00000000e+00, 1.00000000e+00, 1.00000000e+00, 1.00000000e+00,\n",
       "       1.00000000e+00, 1.00000000e+00, 1.00000000e+00, 1.00000000e+00,\n",
       "       1.00000000e+00, 1.00000000e+00, 1.00000000e+00, 1.00000000e+00,\n",
       "       1.00000000e+00, 1.00000000e+00, 1.00000000e+00, 1.00000000e+00,\n",
       "       1.00000000e+00, 1.00000000e+00, 1.00000000e+00, 1.00000000e+00,\n",
       "       1.00000000e+00, 1.00000000e+00, 1.00000000e+00, 1.00000000e+00,\n",
       "       1.00000000e+00, 1.00000000e+00, 1.00000000e+00, 1.00000000e+00,\n",
       "       1.00000000e+00, 1.00000000e+00, 1.00000000e+00, 1.00000000e+00,\n",
       "       1.00000000e+00, 1.00000000e+00, 1.00000000e+00, 1.00000000e+00,\n",
       "       1.00000000e+00, 1.00000000e+00, 1.00000000e+00, 1.00000000e+00,\n",
       "       1.00000000e+00, 1.00000000e+00, 1.00000000e+00, 1.00000000e+00,\n",
       "       1.00000000e+00, 1.00000000e+00, 1.00000000e+00, 1.00000000e+00,\n",
       "       1.00000000e+00, 1.00000000e+00, 1.00000000e+00, 1.00000000e+00,\n",
       "       1.00000000e+00, 1.00000000e+00, 1.00000000e+00, 1.00000000e+00,\n",
       "       1.00000000e+00, 1.00000000e+00, 1.00000000e+00, 1.00000000e+00,\n",
       "       1.00000000e+00, 1.00000000e+00, 1.00000000e+00, 1.00000000e+00,\n",
       "       1.00000000e+00, 1.00000000e+00, 1.00000000e+00, 1.00000000e+00,\n",
       "       1.00000000e+00, 1.00000000e+00, 1.00000000e+00, 1.00000000e+00,\n",
       "       1.00000000e+00, 1.00000000e+00, 1.00000000e+00, 1.00000000e+00,\n",
       "       1.00000000e+00, 1.00000000e+00, 1.00000000e+00, 1.00000000e+00,\n",
       "       1.00000000e+00, 1.00000000e+00, 1.00000000e+00, 1.00000000e+00,\n",
       "       1.00000000e+00, 1.00000000e+00, 1.00000000e+00, 1.00000000e+00,\n",
       "       1.00000000e+00, 1.00000000e+00, 1.00000000e+00, 1.00000000e+00,\n",
       "       1.00000000e+00, 1.00000000e+00, 1.00000000e+00, 1.00000000e+00,\n",
       "       1.00000000e+00, 1.00000000e+00, 1.00000000e+00, 1.00000000e+00,\n",
       "       1.00000000e+00, 1.00000000e+00, 1.00000000e+00, 1.00000000e+00,\n",
       "       1.00000000e+00, 1.00000000e+00, 1.00000000e+00, 1.00000000e+00,\n",
       "       1.00000000e+00, 1.00000000e+00, 1.00000000e+00, 1.00000000e+00,\n",
       "       1.00000000e+00, 1.00000000e+00, 1.00000000e+00, 1.00000000e+00,\n",
       "       1.00000000e+00, 1.00000000e+00, 1.00000000e+00, 1.00000000e+00,\n",
       "       1.00000000e+00, 1.00000000e+00, 1.00000000e+00, 1.00000000e+00,\n",
       "       1.00000000e+00, 1.00000000e+00, 1.00000000e+00, 1.00000000e+00,\n",
       "       1.00000000e+00, 1.00000000e+00, 1.00000000e+00, 1.00000000e+00,\n",
       "       1.00000000e+00, 1.00000000e+00, 1.00000000e+00, 1.00000000e+00,\n",
       "       1.00000000e+00, 1.00000000e+00, 1.00000000e+00, 1.00000000e+00,\n",
       "       1.00000000e+00, 1.00000000e+00, 1.00000000e+00, 1.00000000e+00,\n",
       "       1.00000000e+00, 1.00000000e+00, 1.00000000e+00, 1.00000000e+00,\n",
       "       1.00000000e+00, 1.00000000e+00, 1.00000000e+00, 1.00000000e+00,\n",
       "       1.00000000e+00, 1.00000000e+00, 1.00000000e+00, 1.00000000e+00,\n",
       "       1.00000000e+00, 1.00000000e+00, 1.00000000e+00, 1.00000000e+00,\n",
       "       1.00000000e+00, 1.00000000e+00, 1.00000000e+00, 1.00000000e+00,\n",
       "       1.00000000e+00, 1.00000000e+00, 1.00000000e+00, 1.00000000e+00,\n",
       "       1.00000000e+00, 1.00000000e+00, 1.00000000e+00, 1.00000000e+00,\n",
       "       1.00000000e+00, 1.00000000e+00, 1.00000000e+00, 1.00000000e+00,\n",
       "       1.00000000e+00, 1.00000000e+00, 1.00000000e+00, 1.00000000e+00,\n",
       "       1.00000000e+00, 1.00000000e+00, 1.00000000e+00, 1.00000000e+00,\n",
       "       1.00000000e+00, 1.00000000e+00, 1.00000000e+00, 1.00000000e+00,\n",
       "       1.00000000e+00, 1.00000000e+00, 1.00000000e+00, 1.00000000e+00,\n",
       "       1.00000000e+00, 1.00000000e+00, 1.00000000e+00, 1.00000000e+00,\n",
       "       1.00000000e+00, 1.00000000e+00, 1.00000000e+00, 1.00000000e+00,\n",
       "       1.00000000e+00, 1.00000000e+00, 1.00000000e+00, 1.00000000e+00,\n",
       "       1.00000000e+00, 1.00000000e+00, 1.00000000e+00, 1.00000000e+00,\n",
       "       1.00000000e+00, 1.00000000e+00, 1.00000000e+00, 1.00000000e+00,\n",
       "       1.00000000e+00, 1.00000000e+00, 1.00000000e+00, 1.00000000e+00,\n",
       "       1.00000000e+00, 1.00000000e+00, 1.00000000e+00, 1.00000000e+00,\n",
       "       1.00000000e+00, 1.00000000e+00, 1.00000000e+00, 1.00000000e+00,\n",
       "       1.00000000e+00, 1.00000000e+00, 1.00000000e+00, 1.00000000e+00,\n",
       "       1.00000000e+00, 1.00000000e+00, 1.00000000e+00, 1.00000000e+00,\n",
       "       1.00000000e+00, 1.00000000e+00, 1.00000000e+00, 1.00000000e+00,\n",
       "       1.00000000e+00, 1.00000000e+00, 1.00000000e+00, 1.00000000e+00,\n",
       "       1.00000000e+00, 1.00000000e+00, 1.00000000e+00, 1.00000000e+00,\n",
       "       1.00000000e+00, 1.00000000e+00, 1.00000000e+00, 1.00000000e+00,\n",
       "       1.00000000e+00, 1.00000000e+00, 1.00000000e+00, 1.00000000e+00,\n",
       "       1.00000000e+00, 1.00000000e+00, 1.00000000e+00, 1.00000000e+00,\n",
       "       1.00000000e+00, 1.00000000e+00, 1.00000000e+00, 1.00000000e+00,\n",
       "       1.00000000e+00, 1.00000000e+00, 1.00000000e+00, 1.00000000e+00,\n",
       "       1.00000000e+00, 1.00000000e+00, 1.00000000e+00, 1.00000000e+00,\n",
       "       1.00000000e+00, 1.00000000e+00, 1.00000000e+00, 1.00000000e+00,\n",
       "       1.00000000e+00, 1.00000000e+00, 1.00000000e+00, 1.00000000e+00,\n",
       "       1.00000000e+00, 1.00000000e+00, 1.00000000e+00, 1.00000000e+00,\n",
       "       1.00000000e+00, 1.00000000e+00, 1.00000000e+00, 1.00000000e+00,\n",
       "       1.00000000e+00, 1.00000000e+00, 1.00000000e+00, 1.00000000e+00,\n",
       "       1.00000000e+00, 1.00000000e+00, 1.00000000e+00, 1.00000000e+00,\n",
       "       1.00000000e+00, 1.00000000e+00, 1.00000000e+00, 1.00000000e+00,\n",
       "       1.00000000e+00, 1.00000000e+00, 1.00000000e+00, 1.00000000e+00,\n",
       "       1.00000000e+00, 1.00000000e+00, 1.00000000e+00, 1.00000000e+00,\n",
       "       1.00000000e+00, 1.00000000e+00, 1.00000000e+00, 1.00000000e+00,\n",
       "       1.00000000e+00, 1.00000000e+00, 1.00000000e+00, 1.00000000e+00,\n",
       "       1.00000000e+00, 1.00000000e+00, 1.00000000e+00, 1.00000000e+00,\n",
       "       1.00000000e+00, 1.00000000e+00, 1.00000000e+00, 1.00000000e+00,\n",
       "       1.00000000e+00, 1.00000000e+00, 1.00000000e+00, 1.00000000e+00,\n",
       "       1.00000000e+00, 1.00000000e+00, 1.00000000e+00, 1.00000000e+00,\n",
       "       1.00000000e+00, 1.00000000e+00, 1.00000000e+00, 1.00000000e+00,\n",
       "       1.00000000e+00, 1.00000000e+00, 1.00000000e+00, 1.00000000e+00,\n",
       "       1.00000000e+00, 1.00000000e+00, 1.00000000e+00, 1.00000000e+00,\n",
       "       1.00000000e+00, 1.00000000e+00, 1.00000000e+00, 1.00000000e+00,\n",
       "       1.00000000e+00, 1.00000000e+00, 1.00000000e+00, 1.00000000e+00,\n",
       "       1.00000000e+00, 1.00000000e+00, 1.00000000e+00, 1.00000000e+00,\n",
       "       1.00000000e+00, 1.00000000e+00, 1.00000000e+00, 1.00000000e+00,\n",
       "       1.00000000e+00, 1.00000000e+00, 1.00000000e+00, 1.00000000e+00,\n",
       "       1.00000000e+00, 1.00000000e+00, 1.00000000e+00, 1.00000000e+00,\n",
       "       1.00000000e+00, 1.00000000e+00, 1.00000000e+00, 1.00000000e+00,\n",
       "       1.00000000e+00, 1.00000000e+00, 1.00000000e+00, 1.00000000e+00,\n",
       "       1.00000000e+00, 1.00000000e+00, 1.00000000e+00, 1.00000000e+00,\n",
       "       1.00000000e+00, 1.00000000e+00, 1.00000000e+00, 1.00000000e+00,\n",
       "       1.00000000e+00, 1.00000000e+00, 1.00000000e+00, 1.00000000e+00,\n",
       "       1.00000000e+00, 1.00000000e+00, 1.00000000e+00, 1.00000000e+00,\n",
       "       1.00000000e+00, 1.00000000e+00, 1.00000000e+00, 1.00000000e+00,\n",
       "       1.00000000e+00, 1.00000000e+00, 1.00000000e+00, 1.00000000e+00,\n",
       "       1.00000000e+00, 1.00000000e+00, 1.00000000e+00, 1.00000000e+00,\n",
       "       1.00000000e+00, 1.00000000e+00, 1.00000000e+00, 1.00000000e+00,\n",
       "       1.00000000e+00, 1.00000000e+00, 1.00000000e+00, 1.00000000e+00,\n",
       "       1.00000000e+00, 1.00000000e+00, 1.00000000e+00, 1.00000000e+00,\n",
       "       1.00000000e+00, 1.00000000e+00, 1.00000000e+00, 1.00000000e+00,\n",
       "       1.00000000e+00, 1.00000000e+00, 1.00000000e+00, 1.00000000e+00,\n",
       "       1.00000000e+00, 1.00000000e+00, 1.00000000e+00, 1.00000000e+00,\n",
       "       1.00000000e+00, 1.00000000e+00, 1.00000000e+00, 1.00000000e+00,\n",
       "       1.00000000e+00, 1.00000000e+00, 1.00000000e+00, 1.00000000e+00,\n",
       "       1.00000000e+00, 1.00000000e+00, 1.00000000e+00, 1.00000000e+00,\n",
       "       1.00000000e+00, 1.00000000e+00, 1.00000000e+00, 1.00000000e+00,\n",
       "       1.00000000e+00, 1.00000000e+00, 1.00000000e+00, 1.00000000e+00,\n",
       "       1.00000000e+00, 1.00000000e+00, 1.00000000e+00, 1.00000000e+00,\n",
       "       1.00000000e+00, 1.00000000e+00, 1.00000000e+00, 1.00000000e+00,\n",
       "       1.00000000e+00, 1.00000000e+00, 1.00000000e+00, 1.00000000e+00,\n",
       "       1.00000000e+00, 1.00000000e+00, 1.00000000e+00, 1.00000000e+00,\n",
       "       1.00000000e+00, 1.00000000e+00, 1.00000000e+00, 1.00000000e+00,\n",
       "       1.00000000e+00, 1.00000000e+00, 1.00000000e+00, 1.00000000e+00,\n",
       "       1.00000000e+00, 1.00000000e+00, 1.00000000e+00, 1.00000000e+00,\n",
       "       1.00000000e+00, 1.00000000e+00, 1.00000000e+00, 1.00000000e+00,\n",
       "       1.00000000e+00, 1.00000000e+00, 1.00000000e+00, 1.00000000e+00,\n",
       "       1.00000000e+00, 1.00000000e+00, 1.00000000e+00, 1.00000000e+00,\n",
       "       1.00000000e+00, 1.00000000e+00, 1.00000000e+00, 1.00000000e+00,\n",
       "       1.00000000e+00, 1.00000000e+00, 1.00000000e+00, 1.00000000e+00,\n",
       "       1.00000000e+00, 1.00000000e+00, 1.00000000e+00, 1.00000000e+00,\n",
       "       1.00000000e+00, 1.00000000e+00, 1.00000000e+00, 1.00000000e+00,\n",
       "       1.00000000e+00, 1.00000000e+00, 1.00000000e+00, 1.00000000e+00,\n",
       "       1.00000000e+00, 1.00000000e+00, 1.00000000e+00, 1.00000000e+00,\n",
       "       1.00000000e+00, 1.00000000e+00, 1.00000000e+00, 1.00000000e+00,\n",
       "       1.00000000e+00, 1.00000000e+00, 1.00000000e+00, 1.00000000e+00,\n",
       "       1.00000000e+00, 1.00000000e+00, 1.00000000e+00, 1.00000000e+00,\n",
       "       1.00000000e+00, 1.00000000e+00, 1.00000000e+00, 1.00000000e+00,\n",
       "       1.00000000e+00, 1.00000000e+00, 1.00000000e+00, 1.00000000e+00,\n",
       "       1.00000000e+00, 1.00000000e+00, 1.00000000e+00, 1.00000000e+00,\n",
       "       1.00000000e+00, 1.00000000e+00, 1.00000000e+00, 1.00000000e+00,\n",
       "       1.00000000e+00, 1.00000000e+00, 1.00000000e+00, 1.00000000e+00,\n",
       "       1.00000000e+00, 1.00000000e+00, 1.00000000e+00, 1.00000000e+00,\n",
       "       1.00000000e+00, 1.00000000e+00, 1.00000000e+00, 1.00000000e+00,\n",
       "       1.00000000e+00, 1.00000000e+00, 1.00000000e+00, 1.00000000e+00,\n",
       "       1.00000000e+00, 1.00000000e+00, 1.00000000e+00, 1.00000000e+00,\n",
       "       1.00000000e+00, 1.00000000e+00, 1.00000000e+00, 1.00000000e+00,\n",
       "       1.00000000e+00, 1.00000000e+00, 1.00000000e+00, 1.00000000e+00,\n",
       "       1.00000000e+00, 1.00000000e+00, 1.00000000e+00, 1.00000000e+00,\n",
       "       1.00000000e+00, 1.00000000e+00, 1.00000000e+00, 1.00000000e+00,\n",
       "       1.00000000e+00, 1.00000000e+00, 1.00000000e+00, 1.00000000e+00,\n",
       "       1.00000000e+00, 1.00000000e+00, 1.00000000e+00, 1.00000000e+00,\n",
       "       1.00000000e+00, 1.00000000e+00, 1.00000000e+00, 1.00000000e+00,\n",
       "       1.00000000e+00, 1.00000000e+00, 1.00000000e+00, 1.00000000e+00,\n",
       "       1.00000000e+00, 1.00000000e+00, 1.00000000e+00, 1.00000000e+00,\n",
       "       1.00000000e+00, 1.00000000e+00, 1.00000000e+00, 1.00000000e+00,\n",
       "       1.00000000e+00, 1.00000000e+00, 1.00000000e+00, 1.00000000e+00,\n",
       "       1.00000000e+00, 1.00000000e+00, 1.00000000e+00, 1.00000000e+00,\n",
       "       1.00000000e+00, 1.00000000e+00, 1.00000000e+00, 1.00000000e+00,\n",
       "       1.00000000e+00, 1.00000000e+00, 1.00000000e+00, 1.00000000e+00,\n",
       "       1.00000000e+00, 1.00000000e+00, 1.00000000e+00, 1.00000000e+00,\n",
       "       1.00000000e+00, 1.00000000e+00, 1.00000000e+00, 1.00000000e+00,\n",
       "       1.00000000e+00, 1.00000000e+00, 1.00000000e+00, 1.00000000e+00,\n",
       "       1.00000000e+00, 1.00000000e+00, 1.00000000e+00, 1.00000000e+00,\n",
       "       1.00000000e+00, 1.00000000e+00, 1.00000000e+00, 1.00000000e+00,\n",
       "       1.00000000e+00, 1.00000000e+00, 1.00000000e+00, 1.00000000e+00,\n",
       "       1.00000000e+00, 1.00000000e+00, 1.00000000e+00, 1.00000000e+00,\n",
       "       1.00000000e+00, 1.00000000e+00, 1.00000000e+00, 1.00000000e+00,\n",
       "       1.00000000e+00, 1.00000000e+00, 1.00000000e+00, 1.00000000e+00,\n",
       "       1.00000000e+00, 1.00000000e+00, 1.00000000e+00, 1.00000000e+00,\n",
       "       1.00000000e+00, 1.00000000e+00, 1.00000000e+00, 1.00000000e+00,\n",
       "       1.00000000e+00, 1.00000000e+00, 1.00000000e+00, 1.00000000e+00,\n",
       "       1.00000000e+00, 1.00000000e+00, 1.00000000e+00, 1.00000000e+00,\n",
       "       1.00000000e+00, 1.00000000e+00, 1.00000000e+00, 1.00000000e+00,\n",
       "       1.00000000e+00, 1.00000000e+00, 1.00000000e+00, 1.00000000e+00,\n",
       "       1.00000000e+00, 1.00000000e+00, 1.00000000e+00, 1.00000000e+00,\n",
       "       1.00000000e+00, 1.00000000e+00, 1.00000000e+00, 1.00000000e+00,\n",
       "       1.00000000e+00, 1.00000000e+00, 1.00000000e+00, 1.00000000e+00,\n",
       "       1.00000000e+00, 1.00000000e+00, 1.00000000e+00, 1.00000000e+00,\n",
       "       1.00000000e+00, 1.00000000e+00, 1.00000000e+00, 1.00000000e+00,\n",
       "       1.00000000e+00, 1.00000000e+00, 1.00000000e+00, 1.00000000e+00,\n",
       "       1.00000000e+00, 1.00000000e+00, 1.00000000e+00, 1.00000000e+00,\n",
       "       1.00000000e+00, 1.00000000e+00, 1.00000000e+00, 1.00000000e+00,\n",
       "       1.00000000e+00, 1.00000000e+00, 1.00000000e+00, 1.00000000e+00,\n",
       "       1.00000000e+00, 1.00000000e+00, 1.00000000e+00, 1.00000000e+00,\n",
       "       1.00000000e+00, 1.00000000e+00, 1.00000000e+00, 1.00000000e+00,\n",
       "       1.00000000e+00, 1.00000000e+00, 1.00000000e+00, 1.00000000e+00,\n",
       "       1.00000000e+00, 1.00000000e+00, 1.00000000e+00, 1.00000000e+00,\n",
       "       1.00000000e+00, 1.00000000e+00, 1.00000000e+00, 1.00000000e+00,\n",
       "       1.00000000e+00, 1.00000000e+00, 1.00000000e+00, 1.00000000e+00,\n",
       "       1.00000000e+00, 1.00000000e+00, 1.00000000e+00, 1.00000000e+00,\n",
       "       1.00000000e+00, 1.00000000e+00, 1.00000000e+00, 1.00000000e+00,\n",
       "       1.00000000e+00, 1.00000000e+00, 1.00000000e+00, 1.00000000e+00,\n",
       "       1.00000000e+00, 1.00000000e+00, 1.00000000e+00, 1.00000000e+00,\n",
       "       1.00000000e+00, 1.00000000e+00, 1.00000000e+00, 1.00000000e+00,\n",
       "       1.00000000e+00, 1.00000000e+00, 1.00000000e+00, 1.00000000e+00,\n",
       "       1.00000000e+00, 1.00000000e+00, 1.00000000e+00, 1.00000000e+00,\n",
       "       1.00000000e+00, 1.00000000e+00, 1.00000000e+00, 1.00000000e+00,\n",
       "       1.00000000e+00, 1.00000000e+00, 1.00000000e+00, 1.00000000e+00,\n",
       "       1.00000000e+00, 1.00000000e+00, 1.00000000e+00, 1.00000000e+00,\n",
       "       1.00000000e+00, 1.00000000e+00, 1.00000000e+00, 1.00000000e+00,\n",
       "       1.00000000e+00, 1.00000000e+00, 1.00000000e+00, 1.00000000e+00,\n",
       "       1.00000000e+00, 1.00000000e+00, 1.00000000e+00, 1.00000000e+00,\n",
       "       1.00000000e+00, 1.00000000e+00, 1.00000000e+00, 1.00000000e+00,\n",
       "       1.00000000e+00, 1.00000000e+00, 1.00000000e+00, 1.00000000e+00,\n",
       "       1.00000000e+00, 1.00000000e+00, 1.00000000e+00, 1.00000000e+00,\n",
       "       1.00000000e+00, 1.00000000e+00, 1.00000000e+00, 1.00000000e+00,\n",
       "       1.00000000e+00, 1.00000000e+00, 1.00000000e+00, 1.00000000e+00,\n",
       "       1.00000000e+00, 1.00000000e+00, 1.00000000e+00, 1.00000000e+00,\n",
       "       1.00000000e+00, 1.00000000e+00, 1.00000000e+00, 1.00000000e+00,\n",
       "       1.00000000e+00, 1.00000000e+00, 1.00000000e+00, 1.00000000e+00,\n",
       "       1.00000000e+00, 1.00000000e+00, 1.00000000e+00, 1.00000000e+00,\n",
       "       1.00000000e+00, 1.00000000e+00, 1.00000000e+00, 1.00000000e+00,\n",
       "       1.00000000e+00, 1.00000000e+00, 1.00000000e+00, 1.00000000e+00,\n",
       "       1.00000000e+00, 1.00000000e+00, 1.00000000e+00, 1.00000000e+00,\n",
       "       1.00000000e+00, 1.00000000e+00, 1.00000000e+00, 1.00000000e+00,\n",
       "       1.00000000e+00, 1.00000000e+00, 1.00000000e+00, 1.00000000e+00,\n",
       "       1.00000000e+00, 1.00000000e+00, 1.00000000e+00, 1.00000000e+00,\n",
       "       1.00000000e+00, 1.00000000e+00, 1.00000000e+00, 1.00000000e+00,\n",
       "       1.00000000e+00, 1.00000000e+00])"
      ]
     },
     "execution_count": 22,
     "metadata": {},
     "output_type": "execute_result"
    }
   ],
   "source": [
    "forecasted_abatement"
   ]
  },
  {
   "cell_type": "markdown",
   "id": "ce23d485",
   "metadata": {},
   "source": [
    "problems with certain values due to constraints of the model"
   ]
  },
  {
   "cell_type": "code",
   "execution_count": 23,
   "id": "742752dd",
   "metadata": {},
   "outputs": [
    {
     "data": {
      "text/plain": [
       "6.694112957605529"
      ]
     },
     "execution_count": 23,
     "metadata": {},
     "output_type": "execute_result"
    }
   ],
   "source": [
    "((P_100-P0)/(P_50-P0))**(s/r)"
   ]
  },
  {
   "cell_type": "code",
   "execution_count": 24,
   "id": "74f04839",
   "metadata": {},
   "outputs": [
    {
     "data": {
      "text/plain": [
       "Text(0, 0.5, 'Abatement')"
      ]
     },
     "execution_count": 24,
     "metadata": {},
     "output_type": "execute_result"
    },
    {
     "data": {
      "image/png": "[encoded data removed]",
      "text/plain": [
       "<Figure size 432x288 with 1 Axes>"
      ]
     },
     "metadata": {},
     "output_type": "display_data"
    }
   ],
   "source": [
    "plt.plot(T_forecast_years, forecasted_abatement)\n",
    "plt.xlabel(\"Year\")\n",
    "plt.ylabel(\"Abatement\")"
   ]
  },
  {
   "cell_type": "markdown",
   "id": "351acbf6",
   "metadata": {},
   "source": [
    "## 4. Abatement to emissions"
   ]
  },
  {
   "cell_type": "code",
   "execution_count": 25,
   "id": "fc4b70e0",
   "metadata": {},
   "outputs": [],
   "source": [
    "ssp_df = pd.read_csv(\"ssp245.csv\", index_col=0)"
   ]
  },
  {
   "cell_type": "code",
   "execution_count": 26,
   "id": "9931f49d",
   "metadata": {},
   "outputs": [],
   "source": [
    "ssp245_CO2_past = ssp_df[\"carbon_dioxide\"]*(44/12)  "
   ]
  },
  {
   "cell_type": "code",
   "execution_count": 27,
   "id": "517f8ae9",
   "metadata": {},
   "outputs": [],
   "source": [
    "CO2_baseline = ssp245_CO2_past[2019] # set baseline to current emissions"
   ]
  },
  {
   "cell_type": "code",
   "execution_count": 28,
   "id": "d5b39b78",
   "metadata": {},
   "outputs": [],
   "source": [
    "forecasted_emissions = abatement_to_emissions(forecasted_abatement, CO2_baseline)"
   ]
  },
  {
   "cell_type": "code",
   "execution_count": 29,
   "id": "3836f4ce",
   "metadata": {},
   "outputs": [
    {
     "data": {
      "text/plain": [
       "<matplotlib.legend.Legend at 0x7f95163df340>"
      ]
     },
     "execution_count": 29,
     "metadata": {},
     "output_type": "execute_result"
    },
    {
     "data": {
      "image/png": "[encoded data removed]",
      "text/plain": [
       "<Figure size 432x288 with 1 Axes>"
      ]
     },
     "metadata": {},
     "output_type": "display_data"
    }
   ],
   "source": [
    "plt.plot(ssp245_CO2_past, label=\"historical emissions\")\n",
    "plt.plot(T_forecast_years, forecasted_emissions, label=\"forecasted emissions\")\n",
    "plt.xlabel(\"Year\")\n",
    "plt.ylabel(\"CO2 Emissions / GtCO2\")\n",
    "plt.legend()"
   ]
  },
  {
   "cell_type": "markdown",
   "id": "3a514bf1",
   "metadata": {},
   "source": [
    "## 5. Cumulative Emissions to Temperature Change"
   ]
  },
  {
   "cell_type": "code",
   "execution_count": 30,
   "id": "73bf2aa6",
   "metadata": {},
   "outputs": [],
   "source": [
    "cumulative_emissions_array = np.append(np.zeros(1), np.cumsum(forecasted_emissions)[:-1])"
   ]
  },
  {
   "cell_type": "code",
   "execution_count": 31,
   "id": "0ea3fb64",
   "metadata": {},
   "outputs": [],
   "source": [
    "temperature_change = T_TCRE*cumulative_emissions_array"
   ]
  },
  {
   "cell_type": "code",
   "execution_count": 32,
   "id": "098a473c",
   "metadata": {},
   "outputs": [],
   "source": [
    "T_forecast_iteration0 = T_2019 + temperature_change\n",
    "# T_forecast_iteration0_plateau = T_2019 + temperature_change_plateau"
   ]
  },
  {
   "cell_type": "code",
   "execution_count": 33,
   "id": "2d4905dc",
   "metadata": {},
   "outputs": [
    {
     "data": {
      "text/plain": [
       "<matplotlib.legend.Legend at 0x7f951b9a2bb0>"
      ]
     },
     "execution_count": 33,
     "metadata": {},
     "output_type": "execute_result"
    },
    {
     "data": {
      "image/png": "[encoded data removed]",
      "text/plain": [
       "<Figure size 432x288 with 1 Axes>"
      ]
     },
     "metadata": {},
     "output_type": "display_data"
    }
   ],
   "source": [
    "plt.plot(T_forecast_years, T_forecast, label=\"initial guess\")\n",
    "plt.plot(T_forecast_years, T_forecast_iteration0, label=\"iteration 0\")\n",
    "# plt.plot(T_forecast_years, T_forecast_iteration0_plateau, label=\"iteration 0 plateau\")\n",
    "plt.xlabel(\"year\")\n",
    "plt.ylabel(\"temperature / K\")\n",
    "plt.legend()"
   ]
  },
  {
   "cell_type": "markdown",
   "id": "5caeb893",
   "metadata": {},
   "source": [
    "# Iterating Further"
   ]
  },
  {
   "cell_type": "code",
   "execution_count": 34,
   "id": "d69d4920",
   "metadata": {},
   "outputs": [],
   "source": [
    "# T_forecast_first_loop = T_forecast_iteration0_plateau\n",
    "# T_forecast_iteration = T_forecast_iteration0_plateau"
   ]
  },
  {
   "cell_type": "code",
   "execution_count": 35,
   "id": "d6664051",
   "metadata": {},
   "outputs": [],
   "source": [
    "T_forecast_first_loop = T_forecast_iteration0\n",
    "T_forecast_iteration = T_forecast_iteration0"
   ]
  },
  {
   "cell_type": "code",
   "execution_count": 36,
   "id": "0bdc0913",
   "metadata": {},
   "outputs": [
    {
     "name": "stdout",
     "output_type": "stream",
     "text": [
      "191.4838350862246\n"
     ]
    },
    {
     "name": "stderr",
     "output_type": "stream",
     "text": [
      "/var/folders/m4/mbpwp5q15070t8lqj4fj7mjr0000gn/T/ipykernel_26444/3947233283.py:48: RuntimeWarning: divide by zero encountered in power\n",
      "  A = Am / (1 + ((P - P0) / (P_h - P0)) ** (-s / r))\n"
     ]
    },
    {
     "name": "stdout",
     "output_type": "stream",
     "text": [
      "1.9298970435041616\n",
      "192.65912128892458\n",
      "1.9249790040525223\n",
      "1\n"
     ]
    },
    {
     "name": "stderr",
     "output_type": "stream",
     "text": [
      "/var/folders/m4/mbpwp5q15070t8lqj4fj7mjr0000gn/T/ipykernel_26444/3947233283.py:48: RuntimeWarning: divide by zero encountered in power\n",
      "  A = Am / (1 + ((P - P0) / (P_h - P0)) ** (-s / r))\n"
     ]
    },
    {
     "data": {
      "text/plain": [
       "<matplotlib.legend.Legend at 0x7f951ba257f0>"
      ]
     },
     "execution_count": 36,
     "metadata": {},
     "output_type": "execute_result"
    },
    {
     "data": {
      "image/png": "[encoded data removed]",
      "text/plain": [
       "<Figure size 432x288 with 1 Axes>"
      ]
     },
     "metadata": {},
     "output_type": "display_data"
    }
   ],
   "source": [
    "num_of_iterations = 99\n",
    "\n",
    "first_perturbed_year = last_historical_year\n",
    "\n",
    "year_of_perturbation = np.arange(first_perturbed_year, last_perturbed_year+1)\n",
    "\n",
    "plt.plot(T_forecast_years, T_forecast, label=\"initial guess\")\n",
    "plt.plot(T_forecast_years, T_forecast_first_loop, label=\"iteration 0\")\n",
    "\n",
    "for k in range(num_of_iterations):\n",
    "    T_iteration = np.concatenate([T_gas_df['CO2_best'],T_forecast_iteration[1:]])\n",
    "\n",
    "    SCC_list = []\n",
    "    SCC_list_actual = []\n",
    "\n",
    "    for j in range(len(year_of_perturbation)):\n",
    "        ## define perturbation\n",
    "        T_TCRE = 0.00054  # need to check this! *100 for 100GtCO2 added\n",
    "        k_s = 0.12\n",
    "\n",
    "        T_p = np.zeros(T_forecast_length)\n",
    "\n",
    "        for i in range(len(T_forecast_years)):\n",
    "            if year_of_perturbation[j] <= T_forecast_years[i]:\n",
    "                T_p[i] = T_TCRE*(1-np.exp(-k_s*(T_forecast_years[i]-year_of_perturbation[j])))\n",
    "\n",
    "        T_forecast_perturbed = T_forecast_iteration+T_p\n",
    "\n",
    "        T_perturbed = np.concatenate([T_gas_df['CO2_best'],T_forecast_perturbed[1:]])\n",
    "\n",
    "        g = g_2019 - g_grad*(T_forecast_iteration[:-1]-T_2019)**1\n",
    "        g_prime = g_2019 - g_grad*(T_forecast_perturbed[:-1]-T_2019)**1\n",
    "        \n",
    "        growth_adjusted_consumption_discount = g_prime[j] + consumption_discount_adjustment\n",
    "        \n",
    "        W = create_W(W_2019, last_historical_year, start_year, T_forecast_years, g)\n",
    "        W_prime = create_W(W_2019, last_historical_year, start_year, T_forecast_years, g_prime)\n",
    "\n",
    "        ## define discount function\n",
    "        num_of_years = len(years)\n",
    "\n",
    "        discount_function = np.zeros(num_of_years)\n",
    "\n",
    "        for i in range(num_of_years):\n",
    "            if years[i] >= year_of_perturbation[j]:\n",
    "                discount_function[i] = np.exp(-growth_adjusted_consumption_discount*(years[i]-year_of_perturbation[j]))\n",
    "\n",
    "        absolute_consumption_loss = W-W_prime\n",
    "        discounted_consumption_loss = absolute_consumption_loss*discount_function\n",
    "        area = simps(discounted_consumption_loss, dx=1)\n",
    "        cost = area*10**12  # convert to dollar amount\n",
    "        \n",
    "        SCC = cost/(10**9)\n",
    "        SCC_list_actual.append(SCC)\n",
    "        \n",
    "#         if SCC < P_100:\n",
    "#             SCC_list.append(SCC)\n",
    "#         else:\n",
    "#             SCC_list.append(P_100)\n",
    "#             break\n",
    "        if j == 0 and P0_prime > P_100:\n",
    "            print(\"P_100 achieved in first year\")\n",
    "            print(SCC)\n",
    "        elif j == 0:  #  and SCC > P_100\n",
    "            P0 = SCC\n",
    "            print(SCC)\n",
    "            SCC_list.append(P0_prime)\n",
    "        else:\n",
    "            SCC_adjusted = SCC - (P0-P0_prime)\n",
    "            if SCC_adjusted < P_100:\n",
    "                SCC_list.append(SCC_adjusted)\n",
    "        #         print(SCC)\n",
    "            else:\n",
    "                SCC_list.append(P_100)\n",
    "                break\n",
    "\n",
    "    SCC_array = np.asarray(SCC_list)\n",
    "    if SCC_array[-1] < P_100:\n",
    "        print(\"P_100 not achieved by achieved by final perturbed year\")\n",
    "    SCC_forecasted = []\n",
    "\n",
    "    for i in range(T_forecast_length):\n",
    "        if i < len(SCC_array):\n",
    "            SCC_forecasted.append(SCC_array[i])\n",
    "        else:\n",
    "            SCC_forecasted.append(P_100)\n",
    "\n",
    "    SCC_forecasted = np.array(SCC_forecasted)\n",
    "\n",
    "    P0 = SCC_forecasted[0]\n",
    "\n",
    "    forecasted_abatement = abatement(P=SCC_forecasted, P0=P0_prime)  # , r=consumption_discount\n",
    "    forecasted_emissions = abatement_to_emissions(forecasted_abatement, CO2_baseline)\n",
    "\n",
    "    cumulative_emissions_array = np.append(np.zeros(1), np.cumsum(forecasted_emissions)[:-1])\n",
    "\n",
    "    temperature_change = T_TCRE*cumulative_emissions_array\n",
    "    \n",
    "    T_forecast_iteration = T_2019 + temperature_change\n",
    "    \n",
    "    plt.plot(T_forecast_years, T_forecast_iteration, label=\"iteration \"+str(k+1))\n",
    "    \n",
    "    if k == 0:\n",
    "        peak_T = max(T_forecast_iteration)\n",
    "        print(peak_T)\n",
    "    else:\n",
    "        previous_peak_T = peak_T\n",
    "        peak_T = max(T_forecast_iteration)\n",
    "        print(peak_T)\n",
    "        if abs(peak_T - previous_peak_T) < 0.005:\n",
    "            print(k)\n",
    "            break\n",
    "    \n",
    "    if k == num_of_iterations - 1:\n",
    "        print(\"convergence condition not achieved\")\n",
    "        print(f\"{consumption_discount=}\")\n",
    "        print(f\"{g_2019=}\")\n",
    "        print(f\"{P_50=}\")\n",
    "        print(f\"{s=}\")\n",
    "        print(f\"{r=}\")\n",
    "        print(f\"{P_100=}\")\n",
    "\n",
    "plt.xlabel(\"Year\")\n",
    "plt.ylabel(\"Temperature / K\")\n",
    "plt.legend()"
   ]
  },
  {
   "cell_type": "code",
   "execution_count": 37,
   "id": "1f5ead24",
   "metadata": {},
   "outputs": [
    {
     "data": {
      "text/plain": [
       "31.33586359531034"
      ]
     },
     "execution_count": 37,
     "metadata": {},
     "output_type": "execute_result"
    }
   ],
   "source": [
    "P0"
   ]
  },
  {
   "cell_type": "code",
   "execution_count": 38,
   "id": "1b270877",
   "metadata": {},
   "outputs": [
    {
     "data": {
      "text/plain": [
       "1.9249790040525223"
      ]
     },
     "execution_count": 38,
     "metadata": {},
     "output_type": "execute_result"
    }
   ],
   "source": [
    "## peak Temperature\n",
    "max(T_forecast_iteration)"
   ]
  },
  {
   "cell_type": "code",
   "execution_count": 39,
   "id": "fafb778c",
   "metadata": {},
   "outputs": [
    {
     "data": {
      "text/plain": [
       "array([ 31.3358636 ,  33.77733231,  36.25135384,  38.75598603,\n",
       "        41.29376124,  43.86256402,  46.46485201,  49.09834199,\n",
       "        51.76541358,  54.46360763,  57.19521802,  59.95760066,\n",
       "        62.7529573 ,  65.57845269,  68.436194  ,  71.32315366,\n",
       "        74.24134774,  77.18756172,  80.16373117,  83.16646758,\n",
       "        86.19764428,  89.25371931,  92.33652935,  95.44240632,\n",
       "        98.57318185, 101.72509418, 104.90000536, 108.09409503,\n",
       "       111.30929238, 114.54175337, 117.79350938, 121.06072465,\n",
       "       124.34556374, 127.64422589, 130.95903358, 134.28624091,\n",
       "       137.62834585, 140.98166973, 144.34889594, 147.72641807,\n",
       "       151.11710793, 154.5174298 , 157.93044095, 161.35266948,\n",
       "       164.78735067, 168.23106567, 171.68721723, 175.15242634,\n",
       "       178.63025096, 182.11733754, 185.61738639, 189.12705483,\n",
       "       192.65017295, 196.18339494, 199.73066903, 203.28863325,\n",
       "       206.86134363, 210.44541039, 214.04498842, 217.65664989,\n",
       "       221.28464116, 224.92548755, 228.58352093, 232.25521225,\n",
       "       235.94497435, 239.64921747, 243.37243198, 247.11096223,\n",
       "       250.86937376, 254.64394061, 258.439302  , 262.25165811,\n",
       "       266.08572104, 269.93761408, 273.81212212, 277.70528899,\n",
       "       281.62197274, 285.55813558, 287.5       , 287.5       ,\n",
       "       287.5       , 287.5       , 287.5       , 287.5       ,\n",
       "       287.5       , 287.5       , 287.5       , 287.5       ,\n",
       "       287.5       , 287.5       , 287.5       , 287.5       ,\n",
       "       287.5       , 287.5       , 287.5       , 287.5       ,\n",
       "       287.5       , 287.5       , 287.5       , 287.5       ,\n",
       "       287.5       , 287.5       , 287.5       , 287.5       ,\n",
       "       287.5       , 287.5       , 287.5       , 287.5       ,\n",
       "       287.5       , 287.5       , 287.5       , 287.5       ,\n",
       "       287.5       , 287.5       , 287.5       , 287.5       ,\n",
       "       287.5       , 287.5       , 287.5       , 287.5       ,\n",
       "       287.5       , 287.5       , 287.5       , 287.5       ,\n",
       "       287.5       , 287.5       , 287.5       , 287.5       ,\n",
       "       287.5       , 287.5       , 287.5       , 287.5       ,\n",
       "       287.5       , 287.5       , 287.5       , 287.5       ,\n",
       "       287.5       , 287.5       , 287.5       , 287.5       ,\n",
       "       287.5       , 287.5       , 287.5       , 287.5       ,\n",
       "       287.5       , 287.5       , 287.5       , 287.5       ,\n",
       "       287.5       , 287.5       , 287.5       , 287.5       ,\n",
       "       287.5       , 287.5       , 287.5       , 287.5       ,\n",
       "       287.5       , 287.5       , 287.5       , 287.5       ,\n",
       "       287.5       , 287.5       , 287.5       , 287.5       ,\n",
       "       287.5       , 287.5       , 287.5       , 287.5       ,\n",
       "       287.5       , 287.5       , 287.5       , 287.5       ,\n",
       "       287.5       , 287.5       , 287.5       , 287.5       ,\n",
       "       287.5       , 287.5       , 287.5       , 287.5       ,\n",
       "       287.5       , 287.5       , 287.5       , 287.5       ,\n",
       "       287.5       , 287.5       , 287.5       , 287.5       ,\n",
       "       287.5       , 287.5       , 287.5       , 287.5       ,\n",
       "       287.5       , 287.5       , 287.5       , 287.5       ,\n",
       "       287.5       , 287.5       , 287.5       , 287.5       ,\n",
       "       287.5       , 287.5       , 287.5       , 287.5       ,\n",
       "       287.5       , 287.5       , 287.5       , 287.5       ,\n",
       "       287.5       , 287.5       , 287.5       , 287.5       ,\n",
       "       287.5       , 287.5       , 287.5       , 287.5       ,\n",
       "       287.5       , 287.5       , 287.5       , 287.5       ,\n",
       "       287.5       , 287.5       , 287.5       , 287.5       ,\n",
       "       287.5       , 287.5       , 287.5       , 287.5       ,\n",
       "       287.5       , 287.5       , 287.5       , 287.5       ,\n",
       "       287.5       , 287.5       , 287.5       , 287.5       ,\n",
       "       287.5       , 287.5       , 287.5       , 287.5       ,\n",
       "       287.5       , 287.5       , 287.5       , 287.5       ,\n",
       "       287.5       , 287.5       , 287.5       , 287.5       ,\n",
       "       287.5       , 287.5       , 287.5       , 287.5       ,\n",
       "       287.5       , 287.5       , 287.5       , 287.5       ,\n",
       "       287.5       , 287.5       , 287.5       , 287.5       ,\n",
       "       287.5       , 287.5       , 287.5       , 287.5       ,\n",
       "       287.5       , 287.5       , 287.5       , 287.5       ,\n",
       "       287.5       , 287.5       , 287.5       , 287.5       ,\n",
       "       287.5       , 287.5       , 287.5       , 287.5       ,\n",
       "       287.5       , 287.5       , 287.5       , 287.5       ,\n",
       "       287.5       , 287.5       , 287.5       , 287.5       ,\n",
       "       287.5       , 287.5       , 287.5       , 287.5       ,\n",
       "       287.5       , 287.5       , 287.5       , 287.5       ,\n",
       "       287.5       , 287.5       , 287.5       , 287.5       ,\n",
       "       287.5       , 287.5       , 287.5       , 287.5       ,\n",
       "       287.5       , 287.5       , 287.5       , 287.5       ,\n",
       "       287.5       , 287.5       , 287.5       , 287.5       ,\n",
       "       287.5       , 287.5       , 287.5       , 287.5       ,\n",
       "       287.5       , 287.5       , 287.5       , 287.5       ,\n",
       "       287.5       , 287.5       , 287.5       , 287.5       ,\n",
       "       287.5       , 287.5       , 287.5       , 287.5       ,\n",
       "       287.5       , 287.5       , 287.5       , 287.5       ,\n",
       "       287.5       , 287.5       , 287.5       , 287.5       ,\n",
       "       287.5       , 287.5       , 287.5       , 287.5       ,\n",
       "       287.5       , 287.5       , 287.5       , 287.5       ,\n",
       "       287.5       , 287.5       , 287.5       , 287.5       ,\n",
       "       287.5       , 287.5       , 287.5       , 287.5       ,\n",
       "       287.5       , 287.5       , 287.5       , 287.5       ,\n",
       "       287.5       , 287.5       , 287.5       , 287.5       ,\n",
       "       287.5       , 287.5       , 287.5       , 287.5       ,\n",
       "       287.5       , 287.5       , 287.5       , 287.5       ,\n",
       "       287.5       , 287.5       , 287.5       , 287.5       ,\n",
       "       287.5       , 287.5       , 287.5       , 287.5       ,\n",
       "       287.5       , 287.5       , 287.5       , 287.5       ,\n",
       "       287.5       , 287.5       , 287.5       , 287.5       ,\n",
       "       287.5       , 287.5       , 287.5       , 287.5       ,\n",
       "       287.5       , 287.5       , 287.5       , 287.5       ,\n",
       "       287.5       , 287.5       , 287.5       , 287.5       ,\n",
       "       287.5       , 287.5       , 287.5       , 287.5       ,\n",
       "       287.5       , 287.5       , 287.5       , 287.5       ,\n",
       "       287.5       , 287.5       , 287.5       , 287.5       ,\n",
       "       287.5       , 287.5       , 287.5       , 287.5       ,\n",
       "       287.5       , 287.5       , 287.5       , 287.5       ,\n",
       "       287.5       , 287.5       , 287.5       , 287.5       ,\n",
       "       287.5       , 287.5       , 287.5       , 287.5       ,\n",
       "       287.5       , 287.5       , 287.5       , 287.5       ,\n",
       "       287.5       , 287.5       , 287.5       , 287.5       ,\n",
       "       287.5       , 287.5       , 287.5       , 287.5       ,\n",
       "       287.5       , 287.5       , 287.5       , 287.5       ,\n",
       "       287.5       , 287.5       , 287.5       , 287.5       ,\n",
       "       287.5       , 287.5       , 287.5       , 287.5       ,\n",
       "       287.5       , 287.5       , 287.5       , 287.5       ,\n",
       "       287.5       , 287.5       , 287.5       , 287.5       ,\n",
       "       287.5       , 287.5       , 287.5       , 287.5       ,\n",
       "       287.5       , 287.5       , 287.5       , 287.5       ,\n",
       "       287.5       , 287.5       , 287.5       , 287.5       ,\n",
       "       287.5       , 287.5       , 287.5       , 287.5       ,\n",
       "       287.5       , 287.5       , 287.5       , 287.5       ,\n",
       "       287.5       , 287.5       , 287.5       , 287.5       ,\n",
       "       287.5       , 287.5       , 287.5       , 287.5       ,\n",
       "       287.5       , 287.5       , 287.5       , 287.5       ,\n",
       "       287.5       , 287.5       , 287.5       , 287.5       ,\n",
       "       287.5       , 287.5       , 287.5       , 287.5       ,\n",
       "       287.5       , 287.5       , 287.5       , 287.5       ,\n",
       "       287.5       , 287.5       , 287.5       , 287.5       ,\n",
       "       287.5       , 287.5       , 287.5       , 287.5       ,\n",
       "       287.5       , 287.5       , 287.5       , 287.5       ,\n",
       "       287.5       , 287.5       , 287.5       , 287.5       ,\n",
       "       287.5       , 287.5       , 287.5       , 287.5       ,\n",
       "       287.5       , 287.5       , 287.5       , 287.5       ,\n",
       "       287.5       , 287.5       , 287.5       , 287.5       ,\n",
       "       287.5       , 287.5       , 287.5       , 287.5       ,\n",
       "       287.5       , 287.5       , 287.5       , 287.5       ,\n",
       "       287.5       , 287.5       , 287.5       , 287.5       ,\n",
       "       287.5       , 287.5       , 287.5       , 287.5       ,\n",
       "       287.5       , 287.5       , 287.5       , 287.5       ,\n",
       "       287.5       , 287.5       , 287.5       , 287.5       ,\n",
       "       287.5       , 287.5       , 287.5       , 287.5       ,\n",
       "       287.5       , 287.5       , 287.5       , 287.5       ,\n",
       "       287.5       , 287.5       , 287.5       , 287.5       ,\n",
       "       287.5       , 287.5       , 287.5       , 287.5       ,\n",
       "       287.5       , 287.5       , 287.5       , 287.5       ,\n",
       "       287.5       , 287.5       , 287.5       , 287.5       ,\n",
       "       287.5       , 287.5       , 287.5       , 287.5       ,\n",
       "       287.5       , 287.5       , 287.5       , 287.5       ,\n",
       "       287.5       , 287.5       , 287.5       , 287.5       ,\n",
       "       287.5       , 287.5       , 287.5       , 287.5       ,\n",
       "       287.5       , 287.5       , 287.5       , 287.5       ,\n",
       "       287.5       , 287.5       , 287.5       , 287.5       ,\n",
       "       287.5       , 287.5       , 287.5       , 287.5       ,\n",
       "       287.5       , 287.5       , 287.5       , 287.5       ,\n",
       "       287.5       , 287.5       , 287.5       , 287.5       ,\n",
       "       287.5       , 287.5       , 287.5       , 287.5       ,\n",
       "       287.5       , 287.5       , 287.5       , 287.5       ,\n",
       "       287.5       , 287.5       , 287.5       , 287.5       ,\n",
       "       287.5       , 287.5       , 287.5       , 287.5       ,\n",
       "       287.5       , 287.5       , 287.5       , 287.5       ,\n",
       "       287.5       , 287.5       , 287.5       , 287.5       ,\n",
       "       287.5       , 287.5       , 287.5       , 287.5       ,\n",
       "       287.5       , 287.5       , 287.5       , 287.5       ,\n",
       "       287.5       , 287.5       , 287.5       , 287.5       ,\n",
       "       287.5       , 287.5       , 287.5       , 287.5       ,\n",
       "       287.5       , 287.5       , 287.5       , 287.5       ,\n",
       "       287.5       , 287.5       , 287.5       , 287.5       ,\n",
       "       287.5       , 287.5       , 287.5       , 287.5       ,\n",
       "       287.5       , 287.5       , 287.5       , 287.5       ,\n",
       "       287.5       , 287.5       , 287.5       , 287.5       ,\n",
       "       287.5       , 287.5       , 287.5       , 287.5       ,\n",
       "       287.5       , 287.5       , 287.5       , 287.5       ,\n",
       "       287.5       , 287.5       , 287.5       , 287.5       ,\n",
       "       287.5       , 287.5       , 287.5       , 287.5       ,\n",
       "       287.5       , 287.5       , 287.5       , 287.5       ,\n",
       "       287.5       , 287.5       , 287.5       , 287.5       ,\n",
       "       287.5       , 287.5       , 287.5       , 287.5       ,\n",
       "       287.5       , 287.5       , 287.5       , 287.5       ,\n",
       "       287.5       , 287.5       , 287.5       , 287.5       ,\n",
       "       287.5       , 287.5       , 287.5       , 287.5       ,\n",
       "       287.5       , 287.5       , 287.5       , 287.5       ,\n",
       "       287.5       , 287.5       , 287.5       , 287.5       ,\n",
       "       287.5       , 287.5       , 287.5       , 287.5       ,\n",
       "       287.5       , 287.5       , 287.5       , 287.5       ,\n",
       "       287.5       , 287.5       , 287.5       , 287.5       ,\n",
       "       287.5       , 287.5       , 287.5       , 287.5       ,\n",
       "       287.5       , 287.5       , 287.5       , 287.5       ,\n",
       "       287.5       , 287.5       , 287.5       , 287.5       ,\n",
       "       287.5       , 287.5       , 287.5       , 287.5       ,\n",
       "       287.5       , 287.5       , 287.5       , 287.5       ,\n",
       "       287.5       , 287.5       , 287.5       , 287.5       ,\n",
       "       287.5       , 287.5       , 287.5       , 287.5       ,\n",
       "       287.5       , 287.5       , 287.5       , 287.5       ,\n",
       "       287.5       , 287.5       , 287.5       , 287.5       ,\n",
       "       287.5       , 287.5       , 287.5       , 287.5       ,\n",
       "       287.5       , 287.5       , 287.5       , 287.5       ,\n",
       "       287.5       , 287.5       , 287.5       , 287.5       ,\n",
       "       287.5       , 287.5       , 287.5       , 287.5       ,\n",
       "       287.5       , 287.5       , 287.5       , 287.5       ,\n",
       "       287.5       , 287.5       , 287.5       , 287.5       ,\n",
       "       287.5       , 287.5       , 287.5       , 287.5       ,\n",
       "       287.5       , 287.5       , 287.5       , 287.5       ,\n",
       "       287.5       , 287.5       , 287.5       , 287.5       ,\n",
       "       287.5       , 287.5       , 287.5       , 287.5       ,\n",
       "       287.5       , 287.5       , 287.5       , 287.5       ,\n",
       "       287.5       , 287.5       , 287.5       , 287.5       ,\n",
       "       287.5       , 287.5       , 287.5       , 287.5       ,\n",
       "       287.5       , 287.5       , 287.5       , 287.5       ,\n",
       "       287.5       , 287.5       , 287.5       , 287.5       ,\n",
       "       287.5       , 287.5       , 287.5       , 287.5       ,\n",
       "       287.5       , 287.5       , 287.5       , 287.5       ,\n",
       "       287.5       , 287.5       , 287.5       , 287.5       ,\n",
       "       287.5       , 287.5       , 287.5       , 287.5       ,\n",
       "       287.5       , 287.5       , 287.5       , 287.5       ,\n",
       "       287.5       , 287.5       , 287.5       , 287.5       ,\n",
       "       287.5       , 287.5       , 287.5       , 287.5       ,\n",
       "       287.5       , 287.5       , 287.5       , 287.5       ,\n",
       "       287.5       , 287.5       , 287.5       , 287.5       ,\n",
       "       287.5       , 287.5       , 287.5       , 287.5       ,\n",
       "       287.5       , 287.5       , 287.5       , 287.5       ,\n",
       "       287.5       , 287.5       , 287.5       , 287.5       ,\n",
       "       287.5       , 287.5       , 287.5       , 287.5       ,\n",
       "       287.5       , 287.5       , 287.5       , 287.5       ,\n",
       "       287.5       , 287.5       , 287.5       , 287.5       ,\n",
       "       287.5       , 287.5       , 287.5       , 287.5       ,\n",
       "       287.5       , 287.5       , 287.5       , 287.5       ,\n",
       "       287.5       , 287.5       , 287.5       , 287.5       ,\n",
       "       287.5       , 287.5       , 287.5       , 287.5       ,\n",
       "       287.5       , 287.5       , 287.5       , 287.5       ,\n",
       "       287.5       , 287.5       , 287.5       , 287.5       ,\n",
       "       287.5       , 287.5       , 287.5       , 287.5       ,\n",
       "       287.5       , 287.5       , 287.5       , 287.5       ,\n",
       "       287.5       , 287.5       , 287.5       , 287.5       ,\n",
       "       287.5       , 287.5       , 287.5       , 287.5       ,\n",
       "       287.5       , 287.5       , 287.5       , 287.5       ,\n",
       "       287.5       , 287.5       , 287.5       , 287.5       ,\n",
       "       287.5       , 287.5       , 287.5       , 287.5       ,\n",
       "       287.5       , 287.5       , 287.5       , 287.5       ,\n",
       "       287.5       , 287.5       , 287.5       , 287.5       ,\n",
       "       287.5       , 287.5       , 287.5       , 287.5       ,\n",
       "       287.5       , 287.5       , 287.5       , 287.5       ,\n",
       "       287.5       , 287.5       , 287.5       , 287.5       ,\n",
       "       287.5       , 287.5       , 287.5       , 287.5       ,\n",
       "       287.5       , 287.5       , 287.5       , 287.5       ,\n",
       "       287.5       , 287.5       , 287.5       , 287.5       ,\n",
       "       287.5       , 287.5       , 287.5       , 287.5       ,\n",
       "       287.5       , 287.5       , 287.5       , 287.5       ,\n",
       "       287.5       , 287.5       , 287.5       , 287.5       ,\n",
       "       287.5       , 287.5       ])"
      ]
     },
     "execution_count": 39,
     "metadata": {},
     "output_type": "execute_result"
    }
   ],
   "source": [
    "SCC_forecasted"
   ]
  },
  {
   "cell_type": "code",
   "execution_count": 40,
   "id": "bda6e83f",
   "metadata": {},
   "outputs": [
    {
     "data": {
      "text/plain": [
       "[192.65912128892458,\n",
       " 195.1005900069595,\n",
       " 197.57461153671207,\n",
       " 200.0792437216185,\n",
       " 202.61701893343735,\n",
       " 205.18582171289918,\n",
       " 207.7881097072404,\n",
       " 210.421599686977,\n",
       " 213.08867127789856,\n",
       " 215.7868653186241,\n",
       " 218.51847571562968,\n",
       " 221.28085835431625,\n",
       " 224.07621499413946,\n",
       " 226.90171038097824,\n",
       " 229.7594516944801,\n",
       " 232.64641135705145,\n",
       " 235.564605434943,\n",
       " 238.51081940994317,\n",
       " 241.48698886458646,\n",
       " 244.48972527136553,\n",
       " 247.52090197827994,\n",
       " 250.5769770085195,\n",
       " 253.65978704222226,\n",
       " 256.7656640157826,\n",
       " 259.896439538873,\n",
       " 263.0483518708343,\n",
       " 266.223263052756,\n",
       " 269.41735272824906,\n",
       " 272.63255007845925,\n",
       " 275.86501105893103,\n",
       " 279.1167670728852,\n",
       " 282.38398234097565,\n",
       " 285.6688214339208,\n",
       " 288.9674835823146,\n",
       " 292.2822912775737,\n",
       " 295.60949860468594,\n",
       " 298.95160354046146,\n",
       " 302.30492742244206,\n",
       " 305.6721536321658,\n",
       " 309.04967575996056,\n",
       " 312.4403656273544,\n",
       " 315.8406874942964,\n",
       " 319.253698647799,\n",
       " 322.6759271687619,\n",
       " 326.11060836410536,\n",
       " 329.5543233612881,\n",
       " 333.01047491994075,\n",
       " 336.4756840339918,\n",
       " 339.9535086549417,\n",
       " 343.4405952374865,\n",
       " 346.9406440809291,\n",
       " 350.4503125263277,\n",
       " 353.97343064112596,\n",
       " 357.5066526293372,\n",
       " 361.05392671960925,\n",
       " 364.61189094845423,\n",
       " 368.1846013270116,\n",
       " 371.76866808850446,\n",
       " 375.368246112077,\n",
       " 378.97990758721386,\n",
       " 382.60789885842183,\n",
       " 386.2487452448798,\n",
       " 389.90677862657117,\n",
       " 393.5784699459349,\n",
       " 397.26823203867457,\n",
       " 400.97247516469423,\n",
       " 404.69568967639236,\n",
       " 408.4342199283415,\n",
       " 412.19263145121704,\n",
       " 415.96719830797815,\n",
       " 419.7625596978687,\n",
       " 423.5749158018397,\n",
       " 427.40897873740187,\n",
       " 431.26087177148946,\n",
       " 435.1353798145013,\n",
       " 439.02854668758494,\n",
       " 442.94523043060036,\n",
       " 446.8813932729557,\n",
       " 450.84196711357356]"
      ]
     },
     "execution_count": 40,
     "metadata": {},
     "output_type": "execute_result"
    }
   ],
   "source": [
    "SCC_list_actual"
   ]
  },
  {
   "cell_type": "markdown",
   "id": "40251493",
   "metadata": {},
   "source": [
    "hard constraint on absolute reduction that can be achieved in one year"
   ]
  },
  {
   "cell_type": "markdown",
   "id": "f06941c3",
   "metadata": {},
   "source": [
    "2.013549671765545"
   ]
  },
  {
   "cell_type": "markdown",
   "id": "d95b3e5e",
   "metadata": {},
   "source": [
    "- max ~2GtCO2 in year (look in IAMs)\n",
    "- directions MACC non...\n",
    "- comment on efficiency\n",
    "- equation on flowchart\n",
    "- balance between forcing log and errors\n",
    "- gradient MACC\n",
    "- table for Sobol\n",
    "- peak warming and year of peak warming; scatter with growth rate"
   ]
  },
  {
   "cell_type": "code",
   "execution_count": null,
   "id": "2a78ecd2",
   "metadata": {},
   "outputs": [],
   "source": []
  },
  {
   "cell_type": "code",
   "execution_count": null,
   "id": "dc4b33f9",
   "metadata": {},
   "outputs": [],
   "source": []
  }
 ],
 "metadata": {
  "kernelspec": {
   "display_name": "Python 3 (ipykernel)",
   "language": "python",
   "name": "python3"
  },
  "language_info": {
   "codemirror_mode": {
    "name": "ipython",
    "version": 3
   },
   "file_extension": ".py",
   "mimetype": "text/x-python",
   "name": "python",
   "nbconvert_exporter": "python",
   "pygments_lexer": "ipython3",
   "version": "3.9.7"
  }
 },
 "nbformat": 4,
 "nbformat_minor": 5
}
