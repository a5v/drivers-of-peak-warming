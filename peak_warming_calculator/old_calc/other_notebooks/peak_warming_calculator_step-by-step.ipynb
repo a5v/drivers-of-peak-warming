{
 "cells": [
  {
   "cell_type": "code",
   "execution_count": 1,
   "id": "a8198da9",
   "metadata": {},
   "outputs": [],
   "source": [
    "import pandas as pd\n",
    "import numpy as np\n",
    "import matplotlib.pyplot as plt\n",
    "import seaborn as sns\n",
    "sns.set()\n",
    "from scipy.optimize import curve_fit\n",
    "from scipy.integrate import simps\n",
    "from scipy.optimize import curve_fit"
   ]
  },
  {
   "cell_type": "markdown",
   "id": "1b40a359",
   "metadata": {},
   "source": [
    "## Define Functions"
   ]
  },
  {
   "cell_type": "code",
   "execution_count": 2,
   "id": "df85a918",
   "metadata": {},
   "outputs": [],
   "source": [
    "## calculate cost of perturbation due to carbon\n",
    "## input: temperature profile, perturbed temperature profile, total consumption, and discount function\n",
    "\n",
    "def cost_of_perturbation(T, T_perturb, W, discount_function, gamma=2, D0=0.00267):\n",
    "    S_Wt = D0*T**gamma\n",
    "    S_Wt_perturb = D0*T_perturb**gamma\n",
    "    consumption_loss_fraction = S_Wt_perturb-S_Wt\n",
    "    absolute_consumption_loss = consumption_loss_fraction*W\n",
    "    discounted_consumption_loss = absolute_consumption_loss*discount_function\n",
    "#     area = simps(discounted_consumption_loss, dx=1)\n",
    "    area = sum(discounted_consumption_loss)\n",
    "    cost = area*10**12  # convert to dollar amount\n",
    "    \n",
    "    return cost"
   ]
  },
  {
   "cell_type": "code",
   "execution_count": 3,
   "id": "5a11eab5",
   "metadata": {},
   "outputs": [],
   "source": [
    "## calculate abatement given a carbon price\n",
    "\n",
    "# default settings\n",
    "P_50 = 100  # 187.5 * 0.7625000000000001\n",
    "P_100 = 300  # 187.5\n",
    "consumption_growth = 0.03\n",
    "W_2019 = 80\n",
    "# consumption_discount=0.035\n",
    "consumption_discount = consumption_growth + 0.015\n",
    "s = 0.05\n",
    "r = 0.04\n",
    "\n",
    "def abatement(P, P0, P_50=P_50, r=r, s=s, P_100=P_100):  # 0.05\n",
    "    if P0 >= P_50:\n",
    "        print(\"P0 is greater than P_50\")\n",
    "    elif ((P_100-P0)/(P_50-P0))**(s/r) <= 2:\n",
    "        print(\"MAC curve condition not satisfied\")\n",
    "    \n",
    "    P_h = P0 + ((P_50 - P0) ** (-s / r) - 2 * (P_100 - P0) ** (-s / r)) ** (-r / s)\n",
    "    Am = 1 + ((P_100 - P0) / (P_h - P0)) ** (-s / r)\n",
    "    \n",
    "    A = Am / (1 + ((P - P0) / (P_h - P0)) ** (-s / r))\n",
    "    \n",
    "    return A"
   ]
  },
  {
   "cell_type": "code",
   "execution_count": 4,
   "id": "26ce409f",
   "metadata": {},
   "outputs": [],
   "source": [
    "## calculate emissions from forecasted abatement and CO2 baseline\n",
    "\n",
    "def abatement_to_emissions(forecasted_abatement, CO2_baseline):\n",
    "    CO2_emissions = CO2_baseline*(1-forecasted_abatement)\n",
    "    \n",
    "    return CO2_emissions"
   ]
  },
  {
   "cell_type": "markdown",
   "id": "4bb1c315",
   "metadata": {},
   "source": [
    "# Steps outlined in Email"
   ]
  },
  {
   "cell_type": "markdown",
   "id": "9e286a49",
   "metadata": {},
   "source": [
    "## 1. Create Unperturbed Temperature Profile"
   ]
  },
  {
   "cell_type": "code",
   "execution_count": 5,
   "id": "d3bc2acf",
   "metadata": {},
   "outputs": [],
   "source": [
    "# get historical data (taken from chrisroadmap)\n",
    "\n",
    "T_gas_df = pd.read_csv(\"T_gas.csv\", index_col=0)\n",
    "\n",
    "T_2019 = T_gas_df['CO2_best'][2019]\n",
    "\n",
    "T_2019 = 1.2"
   ]
  },
  {
   "cell_type": "code",
   "execution_count": 6,
   "id": "756bf7e6",
   "metadata": {
    "scrolled": true
   },
   "outputs": [
    {
     "data": {
      "text/html": [
       "<div>\n",
       "<style scoped>\n",
       "    .dataframe tbody tr th:only-of-type {\n",
       "        vertical-align: middle;\n",
       "    }\n",
       "\n",
       "    .dataframe tbody tr th {\n",
       "        vertical-align: top;\n",
       "    }\n",
       "\n",
       "    .dataframe thead th {\n",
       "        text-align: right;\n",
       "    }\n",
       "</style>\n",
       "<table border=\"1\" class=\"dataframe\">\n",
       "  <thead>\n",
       "    <tr style=\"text-align: right;\">\n",
       "      <th></th>\n",
       "      <th>CO2_p05</th>\n",
       "      <th>CO2_best</th>\n",
       "      <th>CO2_p95</th>\n",
       "      <th>CH4_p05</th>\n",
       "      <th>CH4_best</th>\n",
       "      <th>CH4_p95</th>\n",
       "      <th>N2O_p05</th>\n",
       "      <th>N2O_best</th>\n",
       "      <th>N2O_p95</th>\n",
       "      <th>otherGHG_p05</th>\n",
       "      <th>...</th>\n",
       "      <th>anthro_p95</th>\n",
       "      <th>volcanic_p05</th>\n",
       "      <th>volcanic_best</th>\n",
       "      <th>volcanic_p95</th>\n",
       "      <th>solar_p05</th>\n",
       "      <th>solar_best</th>\n",
       "      <th>solar_p95</th>\n",
       "      <th>total_p05</th>\n",
       "      <th>total_best</th>\n",
       "      <th>total_p95</th>\n",
       "    </tr>\n",
       "    <tr>\n",
       "      <th>year</th>\n",
       "      <th></th>\n",
       "      <th></th>\n",
       "      <th></th>\n",
       "      <th></th>\n",
       "      <th></th>\n",
       "      <th></th>\n",
       "      <th></th>\n",
       "      <th></th>\n",
       "      <th></th>\n",
       "      <th></th>\n",
       "      <th></th>\n",
       "      <th></th>\n",
       "      <th></th>\n",
       "      <th></th>\n",
       "      <th></th>\n",
       "      <th></th>\n",
       "      <th></th>\n",
       "      <th></th>\n",
       "      <th></th>\n",
       "      <th></th>\n",
       "      <th></th>\n",
       "    </tr>\n",
       "  </thead>\n",
       "  <tbody>\n",
       "    <tr>\n",
       "      <th>1750.0</th>\n",
       "      <td>0.000000</td>\n",
       "      <td>0.000000</td>\n",
       "      <td>0.000000</td>\n",
       "      <td>0.000000</td>\n",
       "      <td>0.000000</td>\n",
       "      <td>0.000000</td>\n",
       "      <td>0.000000</td>\n",
       "      <td>0.000000</td>\n",
       "      <td>0.000000</td>\n",
       "      <td>0.000000e+00</td>\n",
       "      <td>...</td>\n",
       "      <td>0.000000</td>\n",
       "      <td>0.000000</td>\n",
       "      <td>0.000000</td>\n",
       "      <td>0.000000</td>\n",
       "      <td>0.000000</td>\n",
       "      <td>0.000000</td>\n",
       "      <td>0.000000</td>\n",
       "      <td>0.000000</td>\n",
       "      <td>0.000000</td>\n",
       "      <td>0.000000</td>\n",
       "    </tr>\n",
       "    <tr>\n",
       "      <th>1751.0</th>\n",
       "      <td>0.000063</td>\n",
       "      <td>0.000078</td>\n",
       "      <td>0.000104</td>\n",
       "      <td>0.000021</td>\n",
       "      <td>0.000028</td>\n",
       "      <td>0.000038</td>\n",
       "      <td>0.000003</td>\n",
       "      <td>0.000004</td>\n",
       "      <td>0.000005</td>\n",
       "      <td>3.336574e-11</td>\n",
       "      <td>...</td>\n",
       "      <td>0.000991</td>\n",
       "      <td>0.001458</td>\n",
       "      <td>0.003652</td>\n",
       "      <td>0.006261</td>\n",
       "      <td>0.002195</td>\n",
       "      <td>0.004637</td>\n",
       "      <td>0.007482</td>\n",
       "      <td>0.004874</td>\n",
       "      <td>0.008851</td>\n",
       "      <td>0.013245</td>\n",
       "    </tr>\n",
       "    <tr>\n",
       "      <th>1752.0</th>\n",
       "      <td>0.000234</td>\n",
       "      <td>0.000288</td>\n",
       "      <td>0.000370</td>\n",
       "      <td>0.000078</td>\n",
       "      <td>0.000104</td>\n",
       "      <td>0.000136</td>\n",
       "      <td>0.000012</td>\n",
       "      <td>0.000015</td>\n",
       "      <td>0.000019</td>\n",
       "      <td>1.236761e-10</td>\n",
       "      <td>...</td>\n",
       "      <td>0.003293</td>\n",
       "      <td>0.002497</td>\n",
       "      <td>0.006507</td>\n",
       "      <td>0.011455</td>\n",
       "      <td>0.002128</td>\n",
       "      <td>0.005561</td>\n",
       "      <td>0.009812</td>\n",
       "      <td>0.006393</td>\n",
       "      <td>0.013875</td>\n",
       "      <td>0.022041</td>\n",
       "    </tr>\n",
       "    <tr>\n",
       "      <th>1753.0</th>\n",
       "      <td>0.000490</td>\n",
       "      <td>0.000599</td>\n",
       "      <td>0.000749</td>\n",
       "      <td>0.000163</td>\n",
       "      <td>0.000215</td>\n",
       "      <td>0.000276</td>\n",
       "      <td>0.000025</td>\n",
       "      <td>0.000031</td>\n",
       "      <td>0.000039</td>\n",
       "      <td>2.589871e-10</td>\n",
       "      <td>...</td>\n",
       "      <td>0.005303</td>\n",
       "      <td>0.003234</td>\n",
       "      <td>0.008737</td>\n",
       "      <td>0.015902</td>\n",
       "      <td>-0.001555</td>\n",
       "      <td>0.002997</td>\n",
       "      <td>0.007192</td>\n",
       "      <td>0.003865</td>\n",
       "      <td>0.014541</td>\n",
       "      <td>0.025931</td>\n",
       "    </tr>\n",
       "    <tr>\n",
       "      <th>1754.0</th>\n",
       "      <td>0.000809</td>\n",
       "      <td>0.000987</td>\n",
       "      <td>0.001216</td>\n",
       "      <td>0.000270</td>\n",
       "      <td>0.000354</td>\n",
       "      <td>0.000452</td>\n",
       "      <td>0.000042</td>\n",
       "      <td>0.000051</td>\n",
       "      <td>0.000064</td>\n",
       "      <td>4.287973e-10</td>\n",
       "      <td>...</td>\n",
       "      <td>0.005352</td>\n",
       "      <td>0.003785</td>\n",
       "      <td>0.010506</td>\n",
       "      <td>0.019564</td>\n",
       "      <td>-0.009705</td>\n",
       "      <td>-0.002156</td>\n",
       "      <td>0.001567</td>\n",
       "      <td>-0.002897</td>\n",
       "      <td>0.011326</td>\n",
       "      <td>0.025058</td>\n",
       "    </tr>\n",
       "    <tr>\n",
       "      <th>...</th>\n",
       "      <td>...</td>\n",
       "      <td>...</td>\n",
       "      <td>...</td>\n",
       "      <td>...</td>\n",
       "      <td>...</td>\n",
       "      <td>...</td>\n",
       "      <td>...</td>\n",
       "      <td>...</td>\n",
       "      <td>...</td>\n",
       "      <td>...</td>\n",
       "      <td>...</td>\n",
       "      <td>...</td>\n",
       "      <td>...</td>\n",
       "      <td>...</td>\n",
       "      <td>...</td>\n",
       "      <td>...</td>\n",
       "      <td>...</td>\n",
       "      <td>...</td>\n",
       "      <td>...</td>\n",
       "      <td>...</td>\n",
       "      <td>...</td>\n",
       "    </tr>\n",
       "    <tr>\n",
       "      <th>2015.0</th>\n",
       "      <td>0.690630</td>\n",
       "      <td>0.946447</td>\n",
       "      <td>1.315948</td>\n",
       "      <td>0.187758</td>\n",
       "      <td>0.269860</td>\n",
       "      <td>0.385269</td>\n",
       "      <td>0.067561</td>\n",
       "      <td>0.092850</td>\n",
       "      <td>0.126852</td>\n",
       "      <td>1.330359e-01</td>\n",
       "      <td>...</td>\n",
       "      <td>1.497255</td>\n",
       "      <td>-0.032496</td>\n",
       "      <td>-0.020661</td>\n",
       "      <td>-0.013130</td>\n",
       "      <td>-0.029680</td>\n",
       "      <td>0.006904</td>\n",
       "      <td>0.049407</td>\n",
       "      <td>0.868757</td>\n",
       "      <td>1.156062</td>\n",
       "      <td>1.486544</td>\n",
       "    </tr>\n",
       "    <tr>\n",
       "      <th>2016.0</th>\n",
       "      <td>0.702726</td>\n",
       "      <td>0.962928</td>\n",
       "      <td>1.338630</td>\n",
       "      <td>0.188901</td>\n",
       "      <td>0.271437</td>\n",
       "      <td>0.387212</td>\n",
       "      <td>0.068619</td>\n",
       "      <td>0.094311</td>\n",
       "      <td>0.128864</td>\n",
       "      <td>1.338915e-01</td>\n",
       "      <td>...</td>\n",
       "      <td>1.533906</td>\n",
       "      <td>-0.033707</td>\n",
       "      <td>-0.021568</td>\n",
       "      <td>-0.013486</td>\n",
       "      <td>-0.031488</td>\n",
       "      <td>0.004876</td>\n",
       "      <td>0.047502</td>\n",
       "      <td>0.890845</td>\n",
       "      <td>1.185044</td>\n",
       "      <td>1.525629</td>\n",
       "    </tr>\n",
       "    <tr>\n",
       "      <th>2017.0</th>\n",
       "      <td>0.715303</td>\n",
       "      <td>0.980030</td>\n",
       "      <td>1.362135</td>\n",
       "      <td>0.190066</td>\n",
       "      <td>0.273081</td>\n",
       "      <td>0.389542</td>\n",
       "      <td>0.069654</td>\n",
       "      <td>0.095766</td>\n",
       "      <td>0.130865</td>\n",
       "      <td>1.348695e-01</td>\n",
       "      <td>...</td>\n",
       "      <td>1.573725</td>\n",
       "      <td>-0.031721</td>\n",
       "      <td>-0.020004</td>\n",
       "      <td>-0.011939</td>\n",
       "      <td>-0.035521</td>\n",
       "      <td>0.001077</td>\n",
       "      <td>0.044231</td>\n",
       "      <td>0.915329</td>\n",
       "      <td>1.214310</td>\n",
       "      <td>1.561045</td>\n",
       "    </tr>\n",
       "    <tr>\n",
       "      <th>2018.0</th>\n",
       "      <td>0.727590</td>\n",
       "      <td>0.996886</td>\n",
       "      <td>1.385532</td>\n",
       "      <td>0.191205</td>\n",
       "      <td>0.274761</td>\n",
       "      <td>0.391875</td>\n",
       "      <td>0.070737</td>\n",
       "      <td>0.097259</td>\n",
       "      <td>0.132921</td>\n",
       "      <td>1.358716e-01</td>\n",
       "      <td>...</td>\n",
       "      <td>1.610234</td>\n",
       "      <td>-0.029571</td>\n",
       "      <td>-0.018226</td>\n",
       "      <td>-0.010101</td>\n",
       "      <td>-0.039825</td>\n",
       "      <td>-0.002636</td>\n",
       "      <td>0.040540</td>\n",
       "      <td>0.939610</td>\n",
       "      <td>1.243054</td>\n",
       "      <td>1.600807</td>\n",
       "    </tr>\n",
       "    <tr>\n",
       "      <th>2019.0</th>\n",
       "      <td>0.739860</td>\n",
       "      <td>1.013693</td>\n",
       "      <td>1.409065</td>\n",
       "      <td>0.192290</td>\n",
       "      <td>0.276424</td>\n",
       "      <td>0.394402</td>\n",
       "      <td>0.071841</td>\n",
       "      <td>0.098779</td>\n",
       "      <td>0.135014</td>\n",
       "      <td>1.368460e-01</td>\n",
       "      <td>...</td>\n",
       "      <td>1.648483</td>\n",
       "      <td>-0.028393</td>\n",
       "      <td>-0.017330</td>\n",
       "      <td>-0.009016</td>\n",
       "      <td>-0.043826</td>\n",
       "      <td>-0.005721</td>\n",
       "      <td>0.037953</td>\n",
       "      <td>0.960531</td>\n",
       "      <td>1.270487</td>\n",
       "      <td>1.640206</td>\n",
       "    </tr>\n",
       "  </tbody>\n",
       "</table>\n",
       "<p>270 rows × 33 columns</p>\n",
       "</div>"
      ],
      "text/plain": [
       "         CO2_p05  CO2_best   CO2_p95   CH4_p05  CH4_best   CH4_p95   N2O_p05  \\\n",
       "year                                                                           \n",
       "1750.0  0.000000  0.000000  0.000000  0.000000  0.000000  0.000000  0.000000   \n",
       "1751.0  0.000063  0.000078  0.000104  0.000021  0.000028  0.000038  0.000003   \n",
       "1752.0  0.000234  0.000288  0.000370  0.000078  0.000104  0.000136  0.000012   \n",
       "1753.0  0.000490  0.000599  0.000749  0.000163  0.000215  0.000276  0.000025   \n",
       "1754.0  0.000809  0.000987  0.001216  0.000270  0.000354  0.000452  0.000042   \n",
       "...          ...       ...       ...       ...       ...       ...       ...   \n",
       "2015.0  0.690630  0.946447  1.315948  0.187758  0.269860  0.385269  0.067561   \n",
       "2016.0  0.702726  0.962928  1.338630  0.188901  0.271437  0.387212  0.068619   \n",
       "2017.0  0.715303  0.980030  1.362135  0.190066  0.273081  0.389542  0.069654   \n",
       "2018.0  0.727590  0.996886  1.385532  0.191205  0.274761  0.391875  0.070737   \n",
       "2019.0  0.739860  1.013693  1.409065  0.192290  0.276424  0.394402  0.071841   \n",
       "\n",
       "        N2O_best   N2O_p95  otherGHG_p05  ...  anthro_p95  volcanic_p05  \\\n",
       "year                                      ...                             \n",
       "1750.0  0.000000  0.000000  0.000000e+00  ...    0.000000      0.000000   \n",
       "1751.0  0.000004  0.000005  3.336574e-11  ...    0.000991      0.001458   \n",
       "1752.0  0.000015  0.000019  1.236761e-10  ...    0.003293      0.002497   \n",
       "1753.0  0.000031  0.000039  2.589871e-10  ...    0.005303      0.003234   \n",
       "1754.0  0.000051  0.000064  4.287973e-10  ...    0.005352      0.003785   \n",
       "...          ...       ...           ...  ...         ...           ...   \n",
       "2015.0  0.092850  0.126852  1.330359e-01  ...    1.497255     -0.032496   \n",
       "2016.0  0.094311  0.128864  1.338915e-01  ...    1.533906     -0.033707   \n",
       "2017.0  0.095766  0.130865  1.348695e-01  ...    1.573725     -0.031721   \n",
       "2018.0  0.097259  0.132921  1.358716e-01  ...    1.610234     -0.029571   \n",
       "2019.0  0.098779  0.135014  1.368460e-01  ...    1.648483     -0.028393   \n",
       "\n",
       "        volcanic_best  volcanic_p95  solar_p05  solar_best  solar_p95  \\\n",
       "year                                                                    \n",
       "1750.0       0.000000      0.000000   0.000000    0.000000   0.000000   \n",
       "1751.0       0.003652      0.006261   0.002195    0.004637   0.007482   \n",
       "1752.0       0.006507      0.011455   0.002128    0.005561   0.009812   \n",
       "1753.0       0.008737      0.015902  -0.001555    0.002997   0.007192   \n",
       "1754.0       0.010506      0.019564  -0.009705   -0.002156   0.001567   \n",
       "...               ...           ...        ...         ...        ...   \n",
       "2015.0      -0.020661     -0.013130  -0.029680    0.006904   0.049407   \n",
       "2016.0      -0.021568     -0.013486  -0.031488    0.004876   0.047502   \n",
       "2017.0      -0.020004     -0.011939  -0.035521    0.001077   0.044231   \n",
       "2018.0      -0.018226     -0.010101  -0.039825   -0.002636   0.040540   \n",
       "2019.0      -0.017330     -0.009016  -0.043826   -0.005721   0.037953   \n",
       "\n",
       "        total_p05  total_best  total_p95  \n",
       "year                                      \n",
       "1750.0   0.000000    0.000000   0.000000  \n",
       "1751.0   0.004874    0.008851   0.013245  \n",
       "1752.0   0.006393    0.013875   0.022041  \n",
       "1753.0   0.003865    0.014541   0.025931  \n",
       "1754.0  -0.002897    0.011326   0.025058  \n",
       "...           ...         ...        ...  \n",
       "2015.0   0.868757    1.156062   1.486544  \n",
       "2016.0   0.890845    1.185044   1.525629  \n",
       "2017.0   0.915329    1.214310   1.561045  \n",
       "2018.0   0.939610    1.243054   1.600807  \n",
       "2019.0   0.960531    1.270487   1.640206  \n",
       "\n",
       "[270 rows x 33 columns]"
      ]
     },
     "execution_count": 6,
     "metadata": {},
     "output_type": "execute_result"
    }
   ],
   "source": [
    "T_gas_df"
   ]
  },
  {
   "cell_type": "code",
   "execution_count": 7,
   "id": "a1096d77",
   "metadata": {},
   "outputs": [],
   "source": [
    "start_year = 1750\n",
    "last_historical_year = 2019\n",
    "end_year = 3000\n",
    "\n",
    "years = np.arange(start_year, end_year+1)\n",
    "T_forecast_years = np.arange(last_historical_year, end_year+1)\n",
    "T_forecast_length = end_year - last_historical_year + 1"
   ]
  },
  {
   "cell_type": "code",
   "execution_count": 8,
   "id": "bc40c8e1",
   "metadata": {
    "scrolled": true
   },
   "outputs": [],
   "source": [
    "historical_years = np.arange(start_year, last_historical_year+1)\n",
    "CO2_column = 1.2 * np.ones(len(historical_years))\n",
    "T_gas = {'year': historical_years, 'CO2_best': CO2_column}"
   ]
  },
  {
   "cell_type": "code",
   "execution_count": 9,
   "id": "7805a897",
   "metadata": {},
   "outputs": [],
   "source": [
    "# T_gas_df = pd.DataFrame(T_gas)"
   ]
  },
  {
   "cell_type": "code",
   "execution_count": 10,
   "id": "4e96f6c7",
   "metadata": {},
   "outputs": [],
   "source": [
    "# T_gas_df['CO2_best'] = 1.2 * np.ones(len(T_gas_df))"
   ]
  },
  {
   "cell_type": "code",
   "execution_count": 11,
   "id": "da772f99",
   "metadata": {},
   "outputs": [],
   "source": [
    "delta_T = 3\n",
    "alpha = 0.02\n",
    "T_forecast = T_2019 + (delta_T-T_2019) * (1 - np.exp(-alpha*np.arange(T_forecast_length)))"
   ]
  },
  {
   "cell_type": "code",
   "execution_count": 12,
   "id": "9d69f693",
   "metadata": {},
   "outputs": [],
   "source": [
    "T = np.concatenate([T_gas_df['CO2_best'],T_forecast[1:]])"
   ]
  },
  {
   "cell_type": "code",
   "execution_count": 13,
   "id": "8d7f6882",
   "metadata": {
    "scrolled": true
   },
   "outputs": [
    {
     "data": {
      "text/plain": [
       "<matplotlib.legend.Legend at 0x12ff88eb0>"
      ]
     },
     "execution_count": 13,
     "metadata": {},
     "output_type": "execute_result"
    },
    {
     "data": {
      "image/png": "[encoded data removed]",
      "text/plain": [
       "<Figure size 432x288 with 1 Axes>"
      ]
     },
     "metadata": {},
     "output_type": "display_data"
    }
   ],
   "source": [
    "plt.plot(T_gas_df['CO2_best'], label=\"historical\")\n",
    "# plt.plot(T_gas_df[\"year\"], T_gas_df['CO2_best'], label=\"historical\")\n",
    "plt.plot(T_forecast_years, T_forecast, label=\"projected\")\n",
    "plt.xlabel(\"Year\")\n",
    "plt.ylabel(\"Attributed temperature change relative to 1750\")\n",
    "plt.legend()"
   ]
  },
  {
   "cell_type": "markdown",
   "id": "ead91d1f",
   "metadata": {},
   "source": [
    "## Total Consumption"
   ]
  },
  {
   "cell_type": "code",
   "execution_count": 14,
   "id": "adbba940",
   "metadata": {},
   "outputs": [],
   "source": [
    "W = []\n",
    "\n",
    "# for i in range(len(years)):\n",
    "#     W.append(W0*consumption_growth**(i-(last_historical_year - start_year)))\n",
    "    \n",
    "for i in range(len(years)):\n",
    "    W.append(W_2019*np.exp(consumption_growth*(i-(last_historical_year - start_year))))\n",
    "\n",
    "W = np.asarray(W)"
   ]
  },
  {
   "cell_type": "code",
   "execution_count": 15,
   "id": "95906ae2",
   "metadata": {},
   "outputs": [
    {
     "data": {
      "image/png": "[encoded data removed]",
      "text/plain": [
       "<Figure size 432x288 with 1 Axes>"
      ]
     },
     "metadata": {},
     "output_type": "display_data"
    }
   ],
   "source": [
    "plt.plot(years, W)\n",
    "plt.xlabel(\"Year\")\n",
    "plt.ylabel(\"Absolute Consumption ($trillion/year)\")\n",
    "# plt.xlim(2000, 2100)\n",
    "# plt.ylim(0, 400)\n",
    "plt.xlim(2000, 2500)\n",
    "plt.ylim(10, 100000)\n",
    "plt.yscale(\"log\")"
   ]
  },
  {
   "cell_type": "markdown",
   "id": "152831a9",
   "metadata": {},
   "source": [
    "alternative functional form for above for the fast transition"
   ]
  },
  {
   "cell_type": "markdown",
   "id": "b0e49485",
   "metadata": {},
   "source": [
    "## 2. Calculate SCC as a function of time for a range of years"
   ]
  },
  {
   "cell_type": "code",
   "execution_count": 47,
   "id": "916e795f",
   "metadata": {},
   "outputs": [
    {
     "name": "stdout",
     "output_type": "stream",
     "text": [
      "306.6747975842411\n",
      "0.9139311852712282\n"
     ]
    }
   ],
   "source": [
    "## years to calculate SCC\n",
    "first_perturbed_year = last_historical_year\n",
    "last_perturbed_year = 2500\n",
    "year_of_perturbation = np.arange(first_perturbed_year, last_perturbed_year+1)\n",
    "\n",
    "# consumption_discount = 0.035\n",
    "# consumption_discount = consumption_growth + 0.015\n",
    "\n",
    "SCC_list = []\n",
    "\n",
    "for j in range(len(year_of_perturbation)):\n",
    "    ## define perturbed temperature profile for a given year\n",
    "    T_TCRE = 0.00054  # need to check this for FAIR!\n",
    "    k_s = 0.12\n",
    "\n",
    "    T_p = np.zeros(T_forecast_length)\n",
    "    for i in range(len(T_forecast_years)):\n",
    "        if year_of_perturbation[j] <= T_forecast_years[i]:\n",
    "            T_p[i] = T_TCRE*(1-np.exp(-k_s*(T_forecast_years[i]-year_of_perturbation[j])))\n",
    "    T_forecast_perturbed = T_forecast+T_p\n",
    "    T_perturbed = np.concatenate([T_gas_df['CO2_best'],T_forecast_perturbed[1:]])\n",
    "\n",
    "    ## define discount function\n",
    "    num_of_years = len(years)\n",
    "    discount_function = np.zeros(num_of_years)\n",
    "    \n",
    "\n",
    "    for i in range(num_of_years):\n",
    "        if years[i] >= year_of_perturbation[j]:\n",
    "            discount_function[i] = np.exp(-consumption_discount*(years[i]-year_of_perturbation[j]))\n",
    "    \n",
    "    if j  == 0:\n",
    "        print(SCC)\n",
    "        print(discount_function[first_perturbed_year-start_year+2])\n",
    "    \n",
    "    ## calculate SCC\n",
    "    cost = cost_of_perturbation(T=T, T_perturb=T_perturbed, W=W, discount_function=discount_function)\n",
    "    SCC = cost/(10**9)\n",
    "    \n",
    "    if SCC < P_100:\n",
    "        SCC_list.append(SCC)\n",
    "    else:\n",
    "        SCC_list.append(P_100)\n",
    "        break"
   ]
  },
  {
   "cell_type": "code",
   "execution_count": 17,
   "id": "e06f34f8",
   "metadata": {},
   "outputs": [],
   "source": [
    "SCC_array = np.asarray(SCC_list)  # convert to numpy array"
   ]
  },
  {
   "cell_type": "code",
   "execution_count": 18,
   "id": "17a234fe",
   "metadata": {},
   "outputs": [
    {
     "data": {
      "text/plain": [
       "array([ 31.82689038,  32.98349256,  34.17720121,  35.40916529,\n",
       "        36.68056898,  37.99263268,  39.34661418,  40.74380976,\n",
       "        42.18555538,  43.67322787,  45.2082462 ,  46.79207278,\n",
       "        48.42621473,  50.1122253 ,  51.85170524,  53.64630427,\n",
       "        55.49772257,  57.40771229,  59.37807919,  61.41068423,\n",
       "        63.50744527,  65.67033881,  67.90140175,  70.20273327,\n",
       "        72.57649672,  75.02492154,  77.55030533,  80.15501589,\n",
       "        82.84149337,  85.61225248,  88.46988477,  91.41706095,\n",
       "        94.45653332,  97.59113827, 100.82379879, 104.15752719,\n",
       "       107.59542776, 111.14069958, 114.79663946, 118.56664485,\n",
       "       122.45421695, 126.46296388, 130.59660388, 134.85896876,\n",
       "       139.25400726, 143.78578871, 148.45850661, 153.27648252,\n",
       "       158.24416984, 163.36615796, 168.64717629, 174.0920986 ,\n",
       "       179.70594738, 185.49389841, 191.4612854 , 197.61360479,\n",
       "       203.95652076, 210.49587031, 217.2376685 , 224.18811395,\n",
       "       231.35359435, 238.74069228, 246.35619112, 254.20708119,\n",
       "       262.30056603, 270.64406891, 279.24523953, 288.11196092,\n",
       "       297.25235653, 300.        ])"
      ]
     },
     "execution_count": 18,
     "metadata": {},
     "output_type": "execute_result"
    }
   ],
   "source": [
    "SCC_array"
   ]
  },
  {
   "cell_type": "code",
   "execution_count": 19,
   "id": "824dda4d",
   "metadata": {},
   "outputs": [
    {
     "data": {
      "text/plain": [
       "Text(0, 0.5, 'SCC ($)')"
      ]
     },
     "execution_count": 19,
     "metadata": {},
     "output_type": "execute_result"
    },
    {
     "data": {
      "image/png": "[encoded data removed]",
      "text/plain": [
       "<Figure size 432x288 with 1 Axes>"
      ]
     },
     "metadata": {},
     "output_type": "display_data"
    }
   ],
   "source": [
    "plt.plot(year_of_perturbation[:len(SCC_array)], SCC_array)\n",
    "plt.xlabel(\"Year\")\n",
    "plt.ylabel(\"SCC ($)\")"
   ]
  },
  {
   "cell_type": "markdown",
   "id": "4527dfe3",
   "metadata": {},
   "source": [
    "### Check 100% abatement has been achieved!"
   ]
  },
  {
   "cell_type": "code",
   "execution_count": 20,
   "id": "2afc6578",
   "metadata": {},
   "outputs": [],
   "source": [
    "if SCC_array[-1] < P_100:\n",
    "    print(\"P_100 not achieved by achieved by final perturbed year\")"
   ]
  },
  {
   "cell_type": "code",
   "execution_count": 21,
   "id": "8926e6b1",
   "metadata": {},
   "outputs": [],
   "source": [
    "SCC_forecasted = []\n",
    "\n",
    "for i in range(T_forecast_length):\n",
    "    if i < len(SCC_array):\n",
    "        SCC_forecasted.append(SCC_array[i])\n",
    "    else:\n",
    "#         SCC_forecasted.append(SCC_array[-1])\n",
    "        SCC_forecasted.append(P_100)\n",
    "\n",
    "SCC_forecasted = np.array(SCC_forecasted)"
   ]
  },
  {
   "cell_type": "code",
   "execution_count": 22,
   "id": "ae6b677a",
   "metadata": {},
   "outputs": [],
   "source": [
    "# SCC_forecasted"
   ]
  },
  {
   "cell_type": "code",
   "execution_count": 23,
   "id": "ef9dcd63",
   "metadata": {},
   "outputs": [
    {
     "data": {
      "image/png": "[encoded data removed]",
      "text/plain": [
       "<Figure size 432x288 with 1 Axes>"
      ]
     },
     "metadata": {},
     "output_type": "display_data"
    }
   ],
   "source": [
    "plt.plot(T_forecast_years, SCC_forecasted)\n",
    "plt.xlabel(\"Year\")\n",
    "plt.ylabel(\"SCC ($)\")\n",
    "plt.yscale(\"log\")"
   ]
  },
  {
   "cell_type": "markdown",
   "id": "b85d4a61",
   "metadata": {},
   "source": [
    "## 3. Abatement as a function of time"
   ]
  },
  {
   "cell_type": "code",
   "execution_count": 24,
   "id": "a598428e",
   "metadata": {},
   "outputs": [],
   "source": [
    "P0 = SCC_forecasted[0]"
   ]
  },
  {
   "cell_type": "code",
   "execution_count": 25,
   "id": "b90c019f",
   "metadata": {
    "scrolled": true
   },
   "outputs": [
    {
     "name": "stderr",
     "output_type": "stream",
     "text": [
      "/var/folders/m4/mbpwp5q15070t8lqj4fj7mjr0000gn/T/ipykernel_45727/1668003146.py:22: RuntimeWarning: divide by zero encountered in power\n",
      "  A = Am / (1 + ((P - P0) / (P_h - P0)) ** (-s / r))\n"
     ]
    }
   ],
   "source": [
    "forecasted_abatement = abatement(P=SCC_forecasted, P0=P0)  # , r=consumption_discount"
   ]
  },
  {
   "cell_type": "markdown",
   "id": "ce23d485",
   "metadata": {},
   "source": [
    "problems with certain values due to constraints of the model"
   ]
  },
  {
   "cell_type": "code",
   "execution_count": 26,
   "id": "74f04839",
   "metadata": {},
   "outputs": [
    {
     "data": {
      "text/plain": [
       "Text(0, 0.5, 'Abatement')"
      ]
     },
     "execution_count": 26,
     "metadata": {},
     "output_type": "execute_result"
    },
    {
     "data": {
      "image/png": "[encoded data removed]",
      "text/plain": [
       "<Figure size 432x288 with 1 Axes>"
      ]
     },
     "metadata": {},
     "output_type": "display_data"
    }
   ],
   "source": [
    "plt.plot(T_forecast_years, forecasted_abatement)\n",
    "plt.xlabel(\"Year\")\n",
    "plt.ylabel(\"Abatement\")"
   ]
  },
  {
   "cell_type": "markdown",
   "id": "351acbf6",
   "metadata": {},
   "source": [
    "## 4. Abatement to emissions"
   ]
  },
  {
   "cell_type": "code",
   "execution_count": 27,
   "id": "fc4b70e0",
   "metadata": {},
   "outputs": [],
   "source": [
    "ssp_df = pd.read_csv(\"ssp245.csv\", index_col=0)"
   ]
  },
  {
   "cell_type": "code",
   "execution_count": 28,
   "id": "9931f49d",
   "metadata": {},
   "outputs": [],
   "source": [
    "ssp245_CO2_past = ssp_df[\"carbon_dioxide\"]*(44/12)  "
   ]
  },
  {
   "cell_type": "code",
   "execution_count": 29,
   "id": "517f8ae9",
   "metadata": {},
   "outputs": [],
   "source": [
    "CO2_baseline = ssp245_CO2_past[2019] # set baseline to current emissions"
   ]
  },
  {
   "cell_type": "code",
   "execution_count": 30,
   "id": "d5b39b78",
   "metadata": {},
   "outputs": [],
   "source": [
    "forecasted_emissions = abatement_to_emissions(forecasted_abatement, CO2_baseline)"
   ]
  },
  {
   "cell_type": "code",
   "execution_count": 31,
   "id": "3836f4ce",
   "metadata": {},
   "outputs": [
    {
     "data": {
      "text/plain": [
       "<matplotlib.legend.Legend at 0x12fecb9d0>"
      ]
     },
     "execution_count": 31,
     "metadata": {},
     "output_type": "execute_result"
    },
    {
     "data": {
      "image/png": "[encoded data removed]",
      "text/plain": [
       "<Figure size 432x288 with 1 Axes>"
      ]
     },
     "metadata": {},
     "output_type": "display_data"
    }
   ],
   "source": [
    "plt.plot(ssp245_CO2_past, label=\"historical emissions\")\n",
    "plt.plot(T_forecast_years, forecasted_emissions, label=\"forecasted emissions\")\n",
    "plt.xlabel(\"Year\")\n",
    "plt.ylabel(\"CO2 Emissions / GtCO2\")\n",
    "plt.legend()"
   ]
  },
  {
   "cell_type": "code",
   "execution_count": 32,
   "id": "a545749c",
   "metadata": {},
   "outputs": [],
   "source": [
    "# for i in range(len(forecasted_emissions)-1):\n",
    "#     step = forecasted_emissions[i] - forecasted_emissions[i+1]\n",
    "#     if step > 0.4:\n",
    "#         print(i)"
   ]
  },
  {
   "cell_type": "markdown",
   "id": "3a514bf1",
   "metadata": {},
   "source": [
    "## 5. Cumulative Emissions to Temperature Change"
   ]
  },
  {
   "cell_type": "code",
   "execution_count": 33,
   "id": "73bf2aa6",
   "metadata": {},
   "outputs": [],
   "source": [
    "cumulative_emissions_array = np.append(np.zeros(1), np.cumsum(forecasted_emissions)[:-1])"
   ]
  },
  {
   "cell_type": "code",
   "execution_count": 34,
   "id": "0ea3fb64",
   "metadata": {},
   "outputs": [],
   "source": [
    "temperature_change = T_TCRE*cumulative_emissions_array"
   ]
  },
  {
   "cell_type": "code",
   "execution_count": 35,
   "id": "6fd34d07",
   "metadata": {},
   "outputs": [
    {
     "data": {
      "text/plain": [
       "0.7552517983686974"
      ]
     },
     "execution_count": 35,
     "metadata": {},
     "output_type": "execute_result"
    }
   ],
   "source": [
    "max(temperature_change)"
   ]
  },
  {
   "cell_type": "code",
   "execution_count": 36,
   "id": "098a473c",
   "metadata": {},
   "outputs": [],
   "source": [
    "T_forecast_iteration0 = T_2019 + temperature_change\n",
    "# T_forecast_iteration0_plateau = T_2019 + temperature_change_plateau"
   ]
  },
  {
   "cell_type": "code",
   "execution_count": 37,
   "id": "2d4905dc",
   "metadata": {},
   "outputs": [
    {
     "data": {
      "text/plain": [
       "<matplotlib.legend.Legend at 0x1303e4670>"
      ]
     },
     "execution_count": 37,
     "metadata": {},
     "output_type": "execute_result"
    },
    {
     "data": {
      "image/png": "[encoded data removed]",
      "text/plain": [
       "<Figure size 432x288 with 1 Axes>"
      ]
     },
     "metadata": {},
     "output_type": "display_data"
    }
   ],
   "source": [
    "plt.plot(T_forecast_years, T_forecast, label=\"initial guess\")\n",
    "plt.plot(T_forecast_years, T_forecast_iteration0, label=\"iteration 0\")\n",
    "# plt.plot(T_forecast_years, T_forecast_iteration0_plateau, label=\"iteration 0 plateau\")\n",
    "plt.xlabel(\"year\")\n",
    "plt.ylabel(\"temperature / K\")\n",
    "plt.legend()"
   ]
  },
  {
   "cell_type": "markdown",
   "id": "5caeb893",
   "metadata": {},
   "source": [
    "# Iterating Further"
   ]
  },
  {
   "cell_type": "code",
   "execution_count": 38,
   "id": "d69d4920",
   "metadata": {},
   "outputs": [],
   "source": [
    "# T_forecast_first_loop = T_forecast_iteration0_plateau\n",
    "# T_forecast_iteration = T_forecast_iteration0_plateau"
   ]
  },
  {
   "cell_type": "code",
   "execution_count": 39,
   "id": "d6664051",
   "metadata": {},
   "outputs": [],
   "source": [
    "T_forecast_first_loop = T_forecast_iteration0\n",
    "T_forecast_iteration = T_forecast_iteration0"
   ]
  },
  {
   "cell_type": "code",
   "execution_count": 40,
   "id": "0bdc0913",
   "metadata": {},
   "outputs": [
    {
     "name": "stderr",
     "output_type": "stream",
     "text": [
      "/var/folders/m4/mbpwp5q15070t8lqj4fj7mjr0000gn/T/ipykernel_45727/1668003146.py:22: RuntimeWarning: divide by zero encountered in power\n",
      "  A = Am / (1 + ((P - P0) / (P_h - P0)) ** (-s / r))\n",
      "/var/folders/m4/mbpwp5q15070t8lqj4fj7mjr0000gn/T/ipykernel_45727/1668003146.py:22: RuntimeWarning: divide by zero encountered in power\n",
      "  A = Am / (1 + ((P - P0) / (P_h - P0)) ** (-s / r))\n",
      "/var/folders/m4/mbpwp5q15070t8lqj4fj7mjr0000gn/T/ipykernel_45727/1668003146.py:22: RuntimeWarning: divide by zero encountered in power\n",
      "  A = Am / (1 + ((P - P0) / (P_h - P0)) ** (-s / r))\n"
     ]
    },
    {
     "name": "stdout",
     "output_type": "stream",
     "text": [
      "3\n"
     ]
    },
    {
     "name": "stderr",
     "output_type": "stream",
     "text": [
      "/var/folders/m4/mbpwp5q15070t8lqj4fj7mjr0000gn/T/ipykernel_45727/1668003146.py:22: RuntimeWarning: divide by zero encountered in power\n",
      "  A = Am / (1 + ((P - P0) / (P_h - P0)) ** (-s / r))\n"
     ]
    },
    {
     "data": {
      "text/plain": [
       "<matplotlib.legend.Legend at 0x130459b50>"
      ]
     },
     "execution_count": 40,
     "metadata": {},
     "output_type": "execute_result"
    },
    {
     "data": {
      "image/png": "[encoded data removed]",
      "text/plain": [
       "<Figure size 432x288 with 1 Axes>"
      ]
     },
     "metadata": {},
     "output_type": "display_data"
    }
   ],
   "source": [
    "num_of_iterations = 99\n",
    "\n",
    "first_perturbed_year = last_historical_year\n",
    "\n",
    "year_of_perturbation = np.arange(first_perturbed_year, last_perturbed_year+1)\n",
    "\n",
    "plt.plot(T_forecast_years, T_forecast, label=\"initial guess\")\n",
    "plt.plot(T_forecast_years, T_forecast_first_loop, label=\"iteration 0\")\n",
    "\n",
    "for k in range(num_of_iterations):\n",
    "    T_iteration = np.concatenate([T_gas_df['CO2_best'],T_forecast_iteration[1:]])\n",
    "\n",
    "    SCC_list = []\n",
    "\n",
    "    for j in range(len(year_of_perturbation)):\n",
    "        ## define perturbation\n",
    "        T_TCRE = 0.00054  # need to check this! *100 for 100GtCO2 added\n",
    "        k_s = 0.12\n",
    "\n",
    "        T_p = np.zeros(T_forecast_length)\n",
    "\n",
    "        for i in range(len(T_forecast_years)):\n",
    "            if year_of_perturbation[j] <= T_forecast_years[i]:\n",
    "                T_p[i] = T_TCRE*(1-np.exp(-k_s*(T_forecast_years[i]-year_of_perturbation[j])))\n",
    "\n",
    "        T_forecast_perturbed = T_forecast_iteration+T_p\n",
    "\n",
    "        T_perturbed = np.concatenate([T_gas_df['CO2_best'],T_forecast_perturbed[1:]])\n",
    "\n",
    "        ## define discount function\n",
    "        num_of_years = len(years)\n",
    "\n",
    "        discount_function = np.zeros(num_of_years)\n",
    "\n",
    "        for i in range(num_of_years):\n",
    "            if years[i] >= year_of_perturbation[j]:\n",
    "                discount_function[i] = np.exp(-consumption_discount*(years[i]-year_of_perturbation[j]))\n",
    "        cost = cost_of_perturbation(T=T_iteration, T_perturb=T_perturbed, W=W, discount_function=discount_function)\n",
    "        SCC = cost/(10**9)\n",
    "        if SCC < P_100:\n",
    "            SCC_list.append(SCC)\n",
    "        else:\n",
    "            SCC_list.append(P_100)\n",
    "            break\n",
    "\n",
    "    SCC_array = np.asarray(SCC_list)\n",
    "\n",
    "    SCC_forecasted = []\n",
    "\n",
    "    for i in range(T_forecast_length):\n",
    "        if i < len(SCC_array):\n",
    "            SCC_forecasted.append(SCC_array[i])\n",
    "        else:\n",
    "            SCC_forecasted.append(P_100)\n",
    "\n",
    "    SCC_forecasted = np.array(SCC_forecasted)\n",
    "\n",
    "    P0 = SCC_forecasted[0]\n",
    "\n",
    "    forecasted_abatement = abatement(P=SCC_forecasted, P0=P0)  # , r=consumption_discount\n",
    "    forecasted_emissions = abatement_to_emissions(forecasted_abatement, CO2_baseline)\n",
    "\n",
    "    cumulative_emissions_array = np.append(np.zeros(1), np.cumsum(forecasted_emissions)[:-1])\n",
    "\n",
    "    temperature_change = T_TCRE*cumulative_emissions_array\n",
    "    \n",
    "    T_forecast_iteration = T_2019 + temperature_change\n",
    "    \n",
    "    plt.plot(T_forecast_years, T_forecast_iteration, label=\"iteration \"+str(k+1))\n",
    "    \n",
    "    if k == 0:\n",
    "        peak_T = max(T_forecast_iteration)\n",
    "    else:\n",
    "        previous_peak_T = peak_T\n",
    "        peak_T = max(T_forecast_iteration)\n",
    "        if abs(peak_T - previous_peak_T) < 0.005:\n",
    "            print(k)\n",
    "            break\n",
    "    \n",
    "    if k == num_of_iterations - 1:\n",
    "        print(\"convergence condition not achieved\")\n",
    "        print(f\"{consumption_discount=}\")\n",
    "        print(f\"{consumption_growth=}\")\n",
    "        print(f\"{P_50=}\")\n",
    "        print(f\"{s=}\")\n",
    "        print(f\"{r=}\")\n",
    "        print(f\"{P_100=}\")\n",
    "\n",
    "plt.xlabel(\"Year\")\n",
    "plt.ylabel(\"Temperature / K\")\n",
    "plt.legend()"
   ]
  },
  {
   "cell_type": "markdown",
   "id": "31832dbd",
   "metadata": {},
   "source": [
    "***this is fairly analogous to the Newton-Raphson Method***\n",
    "- the initial temperature profile is essentially just a starting guess; getting pushed toward temperature profile solution\n",
    "- could stop the iterations when the difference between two consecutive lines is small"
   ]
  },
  {
   "cell_type": "code",
   "execution_count": 41,
   "id": "1b270877",
   "metadata": {},
   "outputs": [
    {
     "data": {
      "text/plain": [
       "2.1114489953478954"
      ]
     },
     "execution_count": 41,
     "metadata": {},
     "output_type": "execute_result"
    }
   ],
   "source": [
    "## peak Temperature\n",
    "max(T_forecast_iteration)"
   ]
  },
  {
   "cell_type": "markdown",
   "id": "f24261ed",
   "metadata": {},
   "source": [
    "under default settings: 2.435168016568933"
   ]
  },
  {
   "cell_type": "code",
   "execution_count": null,
   "id": "8c09b722",
   "metadata": {},
   "outputs": [],
   "source": []
  },
  {
   "cell_type": "markdown",
   "id": "78865f1f",
   "metadata": {},
   "source": [
    "- max ~2GtCO2 in year (look in IAMs)\n",
    "- directions MACC non...\n",
    "- comment on efficiency\n",
    "- equation on flowchart\n",
    "- balance between forcing log and errors\n",
    "- gradient MACC\n",
    "- table for Sobol\n",
    "- peak warming and year of peak warming; scatter with growth rate"
   ]
  },
  {
   "cell_type": "code",
   "execution_count": null,
   "id": "91c988ff",
   "metadata": {},
   "outputs": [],
   "source": []
  },
  {
   "cell_type": "code",
   "execution_count": null,
   "id": "dc4b33f9",
   "metadata": {},
   "outputs": [],
   "source": []
  }
 ],
 "metadata": {
  "kernelspec": {
   "display_name": "Python 3 (ipykernel)",
   "language": "python",
   "name": "python3"
  },
  "language_info": {
   "codemirror_mode": {
    "name": "ipython",
    "version": 3
   },
   "file_extension": ".py",
   "mimetype": "text/x-python",
   "name": "python",
   "nbconvert_exporter": "python",
   "pygments_lexer": "ipython3",
   "version": "3.9.7"
  }
 },
 "nbformat": 4,
 "nbformat_minor": 5
}
