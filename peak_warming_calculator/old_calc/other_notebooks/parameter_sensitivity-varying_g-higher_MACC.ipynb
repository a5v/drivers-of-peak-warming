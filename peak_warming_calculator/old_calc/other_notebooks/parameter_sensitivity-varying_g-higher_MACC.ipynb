{
 "cells": [
  {
   "cell_type": "code",
   "execution_count": 1,
   "id": "79fbd116",
   "metadata": {},
   "outputs": [],
   "source": [
    "from peak_warming_calculator import *\n",
    "import matplotlib.pyplot as plt\n",
    "import seaborn as sns\n",
    "sns.set()\n",
    "sns.set_style(\"whitegrid\")\n",
    "plt.rc('font', family='serif')"
   ]
  },
  {
   "cell_type": "code",
   "execution_count": 2,
   "id": "f88ad1ae",
   "metadata": {},
   "outputs": [],
   "source": [
    "from SALib.sample import saltelli\n",
    "from SALib.analyze import sobol\n",
    "import numpy as np\n",
    "from numpy import genfromtxt"
   ]
  },
  {
   "cell_type": "code",
   "execution_count": 3,
   "id": "019be719",
   "metadata": {},
   "outputs": [],
   "source": [
    "import time"
   ]
  },
  {
   "cell_type": "code",
   "execution_count": 4,
   "id": "84285261",
   "metadata": {},
   "outputs": [],
   "source": [
    "from varying_g_peak_warming_calculator import *"
   ]
  },
  {
   "cell_type": "markdown",
   "id": "9ad6df7c",
   "metadata": {},
   "source": [
    "# Varying g peak temperature calculator"
   ]
  },
  {
   "cell_type": "code",
   "execution_count": 5,
   "id": "64a18f16",
   "metadata": {},
   "outputs": [],
   "source": [
    "consumption_growth_array = np.linspace(0.01, 0.035, 6)\n",
    "# consumption_growth_array = np.linspace(0.035, 0.035, 1)"
   ]
  },
  {
   "cell_type": "code",
   "execution_count": 6,
   "id": "9e0a20a2",
   "metadata": {},
   "outputs": [
    {
     "data": {
      "text/plain": [
       "array([0.01 , 0.015, 0.02 , 0.025, 0.03 , 0.035])"
      ]
     },
     "execution_count": 6,
     "metadata": {},
     "output_type": "execute_result"
    }
   ],
   "source": [
    "consumption_growth_array"
   ]
  },
  {
   "cell_type": "code",
   "execution_count": 7,
   "id": "4fe6ed77",
   "metadata": {},
   "outputs": [],
   "source": [
    "# Define the model inputs\n",
    "problem_3 = {\n",
    "'num_vars': 2,\n",
    "'names': ['P_50/P_100', 'P_100'],\n",
    "'bounds': [[0.5, 0.8],\n",
    "[500, 1000]]\n",
    "}\n",
    "# Generate samples\n",
    "param_values_2 = saltelli.sample(problem_3, 8)"
   ]
  },
  {
   "cell_type": "code",
   "execution_count": 8,
   "id": "a4fe662e",
   "metadata": {},
   "outputs": [],
   "source": [
    "P_100_list = []\n",
    "\n",
    "for i in range(len(param_values_2)):\n",
    "    P_100_list.append(param_values_2[i][1])"
   ]
  },
  {
   "cell_type": "code",
   "execution_count": 9,
   "id": "14c50c15",
   "metadata": {},
   "outputs": [],
   "source": [
    "# P_100_list"
   ]
  },
  {
   "cell_type": "code",
   "execution_count": 10,
   "id": "3f65beae",
   "metadata": {},
   "outputs": [
    {
     "data": {
      "text/plain": [
       "734.375"
      ]
     },
     "execution_count": 10,
     "metadata": {},
     "output_type": "execute_result"
    }
   ],
   "source": [
    "param_values_2[0][1]"
   ]
  },
  {
   "cell_type": "code",
   "execution_count": 11,
   "id": "71e51b6c",
   "metadata": {},
   "outputs": [
    {
     "data": {
      "text/plain": [
       "387.84179687499994"
      ]
     },
     "execution_count": 11,
     "metadata": {},
     "output_type": "execute_result"
    }
   ],
   "source": [
    "param_values_2[0][1]*param_values_2[0][0]"
   ]
  },
  {
   "cell_type": "code",
   "execution_count": 12,
   "id": "0629953c",
   "metadata": {},
   "outputs": [
    {
     "data": {
      "text/plain": [
       "48"
      ]
     },
     "execution_count": 12,
     "metadata": {},
     "output_type": "execute_result"
    }
   ],
   "source": [
    "param_values_2.shape[0]"
   ]
  },
  {
   "cell_type": "code",
   "execution_count": 13,
   "id": "a5dc209a",
   "metadata": {},
   "outputs": [],
   "source": [
    "def vary_consumption_growth4(consumption_growth):\n",
    "    Y = np.zeros([param_values_2.shape[0]])\n",
    "    SCC_forecasted_0 = np.zeros([param_values_2.shape[0]])\n",
    "    T_year_list = np.zeros([param_values_2.shape[0]])\n",
    "\n",
    "#     consumption_growth = 0.020\n",
    "    consumption_discount = consumption_growth + 0.015\n",
    "\n",
    "    for i in range(len(param_values_2)):\n",
    "        if i%8 == 0:\n",
    "            print(i)\n",
    "            t = time.localtime()\n",
    "            current_time = time.strftime(\"%H:%M:%S\", t)\n",
    "            print(current_time)\n",
    "        \n",
    "        P_50 = param_values_2[i][0]*param_values_2[i][1]\n",
    "        P_100 = param_values_2[i][1]\n",
    "        r = consumption_discount\n",
    "        constraint = 2.5  # param_values_2[i][1]\n",
    "#         s = r * np.log(constraint)/np.log((P_100 - P0)/(P_50 - P0))\n",
    "        s = r * np.log(constraint)/np.log((P_100)/(P_50))\n",
    "#         g_grad = 0.0001\n",
    "\n",
    "        Y[i], SCC_forecasted, forecasted_abatement, forecasted_emissions, T_complete = varying_g_peak_warming_calculator(P_50=P_50, s=s, P_100=P_100, g_2019=consumption_growth, consumption_discount=consumption_discount, r=r, return_all_output=True)\n",
    "        SCC_forecasted_0[i] = SCC_forecasted[0]\n",
    "        start_year = 1750\n",
    "        peak_T = Y[i]\n",
    "        T_year_list[i] = next(x[0] for x in enumerate(T_complete) if x[1] == peak_T) + start_year\n",
    "        if Y[i] < 1.4:\n",
    "            print(param_values_2[i][0])\n",
    "            print(param_values_2[i][1])\n",
    "            print(consumption_discount)\n",
    "#             print(param_values_2[i][2])\n",
    "    return Y, SCC_forecasted_0, T_year_list"
   ]
  },
  {
   "cell_type": "code",
   "execution_count": 14,
   "id": "4a9fe86c",
   "metadata": {},
   "outputs": [
    {
     "name": "stdout",
     "output_type": "stream",
     "text": [
      "0\n",
      "13:44:50\n"
     ]
    },
    {
     "name": "stderr",
     "output_type": "stream",
     "text": [
      "/Users/aaron/Documents/oxford_physics/Year_4/MPhys/drivers-of-peak-warming/peak_warming_calculator/varying_g_peak_warming_calculator.py:272: RuntimeWarning: divide by zero encountered in power\n",
      "  A = Am / (1 + ((P - P0) / (P_h - P0)) ** (-s / r))\n"
     ]
    },
    {
     "name": "stdout",
     "output_type": "stream",
     "text": [
      "8\n",
      "13:46:02\n",
      "16\n",
      "13:47:30\n",
      "24\n",
      "13:48:55\n",
      "32\n",
      "13:50:33\n",
      "40\n",
      "13:52:02\n",
      "0\n",
      "13:53:32\n",
      "8\n",
      "13:54:44\n",
      "16\n",
      "13:56:01\n",
      "24\n",
      "13:57:21\n",
      "32\n",
      "13:58:57\n",
      "40\n",
      "14:00:24\n",
      "0\n",
      "14:02:00\n",
      "8\n",
      "14:03:07\n",
      "16\n",
      "14:04:24\n",
      "24\n",
      "14:05:34\n",
      "32\n",
      "14:06:55\n",
      "40\n",
      "14:08:08\n",
      "0\n",
      "14:09:26\n",
      "8\n",
      "14:10:28\n",
      "16\n",
      "14:11:32\n",
      "24\n",
      "14:12:31\n",
      "32\n",
      "14:13:36\n",
      "40\n",
      "14:14:36\n",
      "0\n",
      "14:15:38\n",
      "8\n",
      "14:16:27\n",
      "16\n",
      "14:17:17\n",
      "24\n",
      "14:18:08\n",
      "32\n",
      "14:19:01\n",
      "40\n",
      "14:19:51\n",
      "0\n",
      "14:20:44\n",
      "8\n",
      "14:21:26\n",
      "16\n",
      "14:22:08\n",
      "24\n",
      "14:22:53\n",
      "32\n",
      "14:23:39\n",
      "40\n",
      "14:24:22\n"
     ]
    }
   ],
   "source": [
    "Y_array = []\n",
    "SCC_0_array = []\n",
    "T_year_array = []\n",
    "\n",
    "for i in range(len(consumption_growth_array)):  # len(consumption_growth_array)\n",
    "    Y, SCC_0, T_year = vary_consumption_growth4(consumption_growth_array[i])\n",
    "    Y_array.append(Y)\n",
    "    SCC_0_array.append(SCC_0)\n",
    "    T_year_array.append(T_year)"
   ]
  },
  {
   "cell_type": "code",
   "execution_count": 17,
   "id": "6dc7f8b7",
   "metadata": {},
   "outputs": [
    {
     "data": {
      "text/plain": [
       "Text(0, 0.5, 'Peak Warming')"
      ]
     },
     "execution_count": 17,
     "metadata": {},
     "output_type": "execute_result"
    },
    {
     "data": {
      "image/png": "[encoded data removed]",
      "text/plain": [
       "<Figure size 432x288 with 1 Axes>"
      ]
     },
     "metadata": {},
     "output_type": "display_data"
    }
   ],
   "source": [
    "## plot output\n",
    "\n",
    "for i in range(len(Y_array)):\n",
    "    plt.scatter(P_100_list, Y_array[i], label=np.round(consumption_growth_array[i], 3))\n",
    "\n",
    "# plt.legend()\n",
    "plt.rc('font', family='serif')\n",
    "\n",
    "## plot curves from Myles' paper\n",
    "\n",
    "# W0 = 75*10**12  \n",
    "W0 = 80*10**12  \n",
    "D0 = 0.00267\n",
    "T_TCRE = 0.00054  # degrees Celsius per GtCO2\n",
    "# note: this corresponds to 0.002 degrees Celsius per GtC\n",
    "r_minus_g = 0.015  # 1.5%\n",
    "ks = 0.12  # per year\n",
    "\n",
    "G = W0*D0*T_TCRE*(1/(r_minus_g)-1/(ks+r_minus_g))\n",
    "\n",
    "gamma = 2\n",
    "# E_0 = 39  # 2014 level of emissions\n",
    "# percentage_of_emissions = 0.75  # set here the percentage of emisison\n",
    "# E_bar = percentage_of_emissions*E_0\n",
    "E_bar = 0.75*40.040508\n",
    "# T_0 = 0.9  # 1.0136929156818866  # degrees Celsius\n",
    "T_0 = 1.0136929156818866\n",
    "\n",
    "T_m = np.arange(1, 5,0.1)\n",
    "g_bar = consumption_growth_array  # np.arange(0.035, 0.04, 0.005)\n",
    "\n",
    "for i in range(len(g_bar)):\n",
    "    A_B = gamma*G*(T_m**(gamma-1))*np.exp((g_bar[i]/E_bar) * (T_m-T_0)/T_TCRE)\n",
    "#     print(gamma, G, T_m)\n",
    "#     print(np.exp((g_bar[i]/E_bar) * (T_m-T_0)/T_TCRE))\n",
    "    plt.plot(A_B*10**(-9), T_m, color=\"k\")  # convert cost into trillions of dollars # , label=g_bar[i]\n",
    "\n",
    "plt.legend(title=\"g_2019\")\n",
    "plt.xlim(0, 1000)\n",
    "plt.ylim(1, 4)\n",
    "plt.xlabel(\"Price at 100% abatement\")\n",
    "plt.ylabel(\"Peak Warming\")"
   ]
  },
  {
   "cell_type": "code",
   "execution_count": 18,
   "id": "632f9150",
   "metadata": {},
   "outputs": [],
   "source": [
    "# np.savetxt(\"parameter_sensitivity_runs/Y_array_varying_g\", Y_array, delimiter=\",\")"
   ]
  },
  {
   "cell_type": "code",
   "execution_count": null,
   "id": "202312ea",
   "metadata": {},
   "outputs": [],
   "source": []
  }
 ],
 "metadata": {
  "kernelspec": {
   "display_name": "Python 3 (ipykernel)",
   "language": "python",
   "name": "python3"
  },
  "language_info": {
   "codemirror_mode": {
    "name": "ipython",
    "version": 3
   },
   "file_extension": ".py",
   "mimetype": "text/x-python",
   "name": "python",
   "nbconvert_exporter": "python",
   "pygments_lexer": "ipython3",
   "version": "3.9.7"
  }
 },
 "nbformat": 4,
 "nbformat_minor": 5
}
