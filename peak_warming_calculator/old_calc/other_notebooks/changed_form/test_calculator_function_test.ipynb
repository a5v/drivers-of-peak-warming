{
 "cells": [
  {
   "cell_type": "code",
   "execution_count": 1,
   "id": "c4f09662",
   "metadata": {},
   "outputs": [],
   "source": [
    "import matplotlib.pyplot as plt"
   ]
  },
  {
   "cell_type": "code",
   "execution_count": 2,
   "id": "79fbd116",
   "metadata": {},
   "outputs": [],
   "source": [
    "from peak_warming_calculator_test import peak_warming_calculator"
   ]
  },
  {
   "cell_type": "code",
   "execution_count": 3,
   "id": "b7e21726",
   "metadata": {},
   "outputs": [],
   "source": [
    "from peak_warming_calculator_Pretis_test import peak_warming_calculator_Pretis"
   ]
  },
  {
   "cell_type": "markdown",
   "id": "b7dc0238",
   "metadata": {},
   "source": [
    "## Checking Function is Working"
   ]
  },
  {
   "cell_type": "markdown",
   "id": "23631c02",
   "metadata": {},
   "source": [
    "return_all_output=False"
   ]
  },
  {
   "cell_type": "code",
   "execution_count": 4,
   "id": "04cb2521",
   "metadata": {},
   "outputs": [
    {
     "name": "stderr",
     "output_type": "stream",
     "text": [
      "/Users/aaron/Documents/oxford_physics/Year_4/MPhys/drivers-of-peak-warming/peak_warming_calculator/peak_warming_calculator_test.py:138: RuntimeWarning: divide by zero encountered in power\n",
      "  A = Am / (1 + ((P - P0) / (P_h - P0)) ** (-s / r))\n"
     ]
    },
    {
     "data": {
      "text/plain": [
       "2.5696260200656615"
      ]
     },
     "execution_count": 4,
     "metadata": {},
     "output_type": "execute_result"
    }
   ],
   "source": [
    "peak_warming_calculator()"
   ]
  },
  {
   "cell_type": "code",
   "execution_count": 5,
   "id": "806abf34",
   "metadata": {},
   "outputs": [],
   "source": [
    "# default setting\n",
    "# peak_warming_calculator(consumption_growth=0.03, consumption_discount=0.045)  # P_100=400, s=0.06"
   ]
  },
  {
   "cell_type": "code",
   "execution_count": 6,
   "id": "336c8f8f",
   "metadata": {},
   "outputs": [],
   "source": [
    "beta=0.001"
   ]
  },
  {
   "cell_type": "code",
   "execution_count": 7,
   "id": "5cf4eec0",
   "metadata": {},
   "outputs": [],
   "source": [
    "peak_T, output_df = peak_warming_calculator(return_all_output=True)"
   ]
  },
  {
   "cell_type": "code",
   "execution_count": 8,
   "id": "5f64df3f",
   "metadata": {},
   "outputs": [
    {
     "name": "stderr",
     "output_type": "stream",
     "text": [
      "/Users/aaron/Documents/oxford_physics/Year_4/MPhys/drivers-of-peak-warming/peak_warming_calculator/peak_warming_calculator.py:128: RuntimeWarning: divide by zero encountered in power\n",
      "  A = Am / (1 + ((P - P0) / (P_h - P0)) ** (-s / r))\n",
      "/Users/aaron/Documents/oxford_physics/Year_4/MPhys/drivers-of-peak-warming/peak_warming_calculator/peak_warming_calculator_Pretis_test.py:163: RuntimeWarning: divide by zero encountered in power\n",
      "  A = Am / (1 + ((P - P0) / (P_h - P0)) ** (-s / r))\n"
     ]
    },
    {
     "data": {
      "text/plain": [
       "1.4101471838994508"
      ]
     },
     "execution_count": 8,
     "metadata": {},
     "output_type": "execute_result"
    }
   ],
   "source": [
    "peak_warming_calculator_Pretis()"
   ]
  },
  {
   "cell_type": "code",
   "execution_count": 9,
   "id": "1324ea69",
   "metadata": {},
   "outputs": [],
   "source": [
    "peak_T_Pretis, output_df_Pretis = peak_warming_calculator_Pretis(return_all_output=True, beta=beta)"
   ]
  },
  {
   "cell_type": "code",
   "execution_count": 13,
   "id": "8c250eef",
   "metadata": {
    "scrolled": true
   },
   "outputs": [
    {
     "data": {
      "text/plain": [
       "years\n",
       "2020     20.761230\n",
       "2021     28.736654\n",
       "2022     37.088522\n",
       "2023     45.800649\n",
       "2024     54.856618\n",
       "2025     64.239836\n",
       "2026     73.933620\n",
       "2027     83.921363\n",
       "2028     94.186736\n",
       "2029    104.713917\n",
       "2030    115.487810\n",
       "2031    126.494249\n",
       "2032    137.720156\n",
       "2033    149.153671\n",
       "2034    160.784233\n",
       "2035    172.602626\n",
       "2036    184.600993\n",
       "2037    196.772822\n",
       "2038    209.112901\n",
       "2039    221.617267\n",
       "2040    234.283133\n",
       "2041    247.108804\n",
       "2042    260.093596\n",
       "2043    273.237741\n",
       "2044    286.542292\n",
       "2045    300.000000\n",
       "2046    300.000000\n",
       "2047    300.000000\n",
       "2048    300.000000\n",
       "2049    300.000000\n",
       "2050    300.000000\n",
       "Name: SCC, dtype: float64"
      ]
     },
     "execution_count": 13,
     "metadata": {},
     "output_type": "execute_result"
    }
   ],
   "source": [
    "output_df_Pretis['SCC'].loc[2020:2050]"
   ]
  },
  {
   "cell_type": "code",
   "execution_count": 11,
   "id": "3f7a37cd",
   "metadata": {},
   "outputs": [
    {
     "data": {
      "text/plain": [
       "[<matplotlib.lines.Line2D at 0x117e9c490>]"
      ]
     },
     "execution_count": 11,
     "metadata": {},
     "output_type": "execute_result"
    },
    {
     "data": {
      "image/png": "[encoded data removed]",
      "text/plain": [
       "<Figure size 432x288 with 1 Axes>"
      ]
     },
     "metadata": {
      "needs_background": "light"
     },
     "output_type": "display_data"
    }
   ],
   "source": [
    "plt.plot(output_df['SCC'].loc[2020:2100]/output_df['SCC'].loc[2020])\n",
    "plt.plot(output_df_Pretis['SCC actual'].loc[2020:2100]/output_df_Pretis['SCC actual'].loc[2020])\n",
    "# plt.xlim(2020, 2100)\n",
    "# plt.ylim(0,5)"
   ]
  },
  {
   "cell_type": "code",
   "execution_count": null,
   "id": "fed688fa",
   "metadata": {},
   "outputs": [],
   "source": []
  }
 ],
 "metadata": {
  "kernelspec": {
   "display_name": "Python 3 (ipykernel)",
   "language": "python",
   "name": "python3"
  },
  "language_info": {
   "codemirror_mode": {
    "name": "ipython",
    "version": 3
   },
   "file_extension": ".py",
   "mimetype": "text/x-python",
   "name": "python",
   "nbconvert_exporter": "python",
   "pygments_lexer": "ipython3",
   "version": "3.9.7"
  }
 },
 "nbformat": 4,
 "nbformat_minor": 5
}
