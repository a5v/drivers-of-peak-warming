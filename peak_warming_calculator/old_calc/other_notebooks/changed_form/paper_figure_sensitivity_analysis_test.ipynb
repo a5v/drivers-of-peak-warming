{
 "cells": [
  {
   "cell_type": "code",
   "execution_count": 1,
   "id": "79fbd116",
   "metadata": {
    "scrolled": true
   },
   "outputs": [],
   "source": [
    "from peak_warming_calculator_test  import *\n",
    "import matplotlib.pyplot as plt"
   ]
  },
  {
   "cell_type": "code",
   "execution_count": 2,
   "id": "f88ad1ae",
   "metadata": {},
   "outputs": [],
   "source": [
    "from SALib.sample import saltelli\n",
    "from SALib.analyze import sobol\n",
    "import numpy as np\n",
    "from numpy import genfromtxt\n",
    "import matplotlib.cm as cm"
   ]
  },
  {
   "cell_type": "code",
   "execution_count": 3,
   "id": "019be719",
   "metadata": {},
   "outputs": [],
   "source": [
    "import time"
   ]
  },
  {
   "cell_type": "markdown",
   "id": "026e922f",
   "metadata": {},
   "source": [
    "# Sensitivity Analysis"
   ]
  },
  {
   "cell_type": "code",
   "execution_count": 4,
   "id": "d29eed9b",
   "metadata": {},
   "outputs": [],
   "source": [
    "r_minus_g = 0.015\n",
    "consumption_growth = 0.02\n",
    "consumption_discount = consumption_growth + r_minus_g"
   ]
  },
  {
   "cell_type": "code",
   "execution_count": 5,
   "id": "6a779b49",
   "metadata": {},
   "outputs": [],
   "source": [
    "problem = {\n",
    "'num_vars': 6,\n",
    "'names': ['gamma', 'D0', 'P_100', 'P_50/P_100', 's/r', 'TCRE_1'],\n",
    "'bounds': [\n",
    "[2*0.9, 2*1.1],\n",
    "[0.00236*0.9, 0.00236*1.1],\n",
    "[300*0.9, 300*1.1],\n",
    "[0.4*0.9, 0.4*1.1],\n",
    "[2*0.9, 2*1.1],\n",
    "[0.00054*0.9, 0.00054*1.1]]\n",
    "}\n",
    "\n",
    "# Generate samples\n",
    "param_values = saltelli.sample(problem, 64)    "
   ]
  },
  {
   "cell_type": "code",
   "execution_count": 6,
   "id": "98136c23",
   "metadata": {},
   "outputs": [
    {
     "data": {
      "text/plain": [
       "array([1.8093750e+00, 2.3120625e-03, 3.1921875e+02, 4.2687500e-01,\n",
       "       2.0593750e+00, 5.3409375e-04])"
      ]
     },
     "execution_count": 6,
     "metadata": {},
     "output_type": "execute_result"
    }
   ],
   "source": [
    "param_values[0]"
   ]
  },
  {
   "cell_type": "code",
   "execution_count": 7,
   "id": "8c3a1661",
   "metadata": {},
   "outputs": [
    {
     "data": {
      "text/plain": [
       "896"
      ]
     },
     "execution_count": 7,
     "metadata": {},
     "output_type": "execute_result"
    }
   ],
   "source": [
    "len(param_values)"
   ]
  },
  {
   "cell_type": "code",
   "execution_count": 8,
   "id": "99bf769c",
   "metadata": {},
   "outputs": [
    {
     "name": "stdout",
     "output_type": "stream",
     "text": [
      "0\n",
      "18:55:29\n"
     ]
    },
    {
     "name": "stderr",
     "output_type": "stream",
     "text": [
      "/Users/aaron/Documents/oxford_physics/Year_4/MPhys/drivers-of-peak-warming/peak_warming_calculator/peak_warming_calculator_test.py:138: RuntimeWarning: divide by zero encountered in power\n",
      "  A = Am / (1 + ((P - P0) / (P_h - P0)) ** (-s / r))\n"
     ]
    },
    {
     "name": "stdout",
     "output_type": "stream",
     "text": [
      "32\n",
      "18:59:41\n",
      "64\n",
      "19:04:04\n",
      "96\n",
      "19:08:22\n",
      "128\n",
      "19:12:17\n",
      "160\n",
      "19:16:27\n",
      "192\n",
      "19:20:47\n",
      "224\n",
      "19:25:03\n",
      "256\n",
      "19:29:04\n",
      "288\n",
      "19:33:32\n",
      "320\n",
      "19:38:04\n",
      "352\n",
      "19:42:01\n",
      "384\n",
      "19:46:28\n",
      "416\n",
      "19:50:35\n",
      "448\n",
      "19:55:04\n",
      "480\n",
      "19:59:09\n",
      "512\n",
      "20:03:07\n",
      "544\n",
      "20:07:15\n",
      "576\n",
      "20:10:46\n",
      "608\n",
      "20:15:12\n",
      "640\n",
      "20:19:27\n",
      "672\n",
      "20:23:30\n",
      "704\n",
      "20:27:40\n",
      "736\n",
      "20:31:40\n",
      "768\n",
      "20:36:00\n",
      "800\n",
      "20:39:47\n",
      "832\n",
      "20:43:56\n",
      "864\n",
      "20:48:14\n"
     ]
    }
   ],
   "source": [
    "peak_T_list = []\n",
    "\n",
    "for i in range(len(param_values)):\n",
    "    if i % 32 == 0:\n",
    "        print(i)\n",
    "        t = time.localtime()\n",
    "        current_time = time.strftime(\"%H:%M:%S\", t)\n",
    "        print(current_time)\n",
    "    \n",
    "    gamma = param_values[i][0]\n",
    "    D0 = param_values[i][1]\n",
    "    P_100 = param_values[i][2]\n",
    "    P_50 = param_values[i][3] * P_100\n",
    "    r = consumption_discount\n",
    "    s = param_values[i][4]*r\n",
    "    T_TCRE_1 = param_values[i][5]\n",
    "    \n",
    "    peak_T = peak_warming_calculator(P_50=P_50, P_100=P_100, gamma=gamma, D0=D0, consumption_growth=consumption_growth, consumption_discount=consumption_discount, s=s, r=r, T_TCRE_1=T_TCRE_1)\n",
    "    peak_T_list.append(peak_T)"
   ]
  },
  {
   "cell_type": "code",
   "execution_count": 9,
   "id": "227accb9",
   "metadata": {},
   "outputs": [
    {
     "name": "stdout",
     "output_type": "stream",
     "text": [
      "                  ST   ST_conf\n",
      "gamma       0.771107  0.207663\n",
      "D0          0.090751  0.025189\n",
      "P_100       0.091312  0.041439\n",
      "P_50/P_100  0.065548  0.020524\n",
      "s/r         0.000270  0.000114\n",
      "TCRE_1      0.020408  0.007830\n",
      "                  S1   S1_conf\n",
      "gamma       0.787481  0.310800\n",
      "D0          0.068807  0.114996\n",
      "P_100       0.089361  0.111439\n",
      "P_50/P_100  0.062109  0.083485\n",
      "s/r         0.000036  0.004104\n",
      "TCRE_1      0.017026  0.046779\n",
      "                            S2   S2_conf\n",
      "(gamma, D0)          -0.024988  0.381778\n",
      "(gamma, P_100)       -0.018603  0.432096\n",
      "(gamma, P_50/P_100)  -0.013805  0.378887\n",
      "(gamma, s/r)         -0.020454  0.365139\n",
      "(gamma, TCRE_1)      -0.012706  0.372631\n",
      "(D0, P_100)           0.048990  0.159765\n",
      "(D0, P_50/P_100)      0.032636  0.152455\n",
      "(D0, s/r)             0.033355  0.155969\n",
      "(D0, TCRE_1)          0.027528  0.158775\n",
      "(P_100, P_50/P_100)  -0.012694  0.126398\n",
      "(P_100, s/r)         -0.013157  0.112231\n",
      "(P_100, TCRE_1)      -0.010330  0.122008\n",
      "(P_50/P_100, s/r)    -0.002761  0.073008\n",
      "(P_50/P_100, TCRE_1) -0.005259  0.073021\n",
      "(s/r, TCRE_1)        -0.000202  0.007547\n"
     ]
    },
    {
     "data": {
      "text/plain": [
       "([0, 1, 2, 3, 4, 5],\n",
       " [Text(0, 0, ''),\n",
       "  Text(0, 0, ''),\n",
       "  Text(0, 0, ''),\n",
       "  Text(0, 0, ''),\n",
       "  Text(0, 0, ''),\n",
       "  Text(0, 0, '')])"
      ]
     },
     "execution_count": 9,
     "metadata": {},
     "output_type": "execute_result"
    },
    {
     "data": {
      "image/png": "[encoded data removed]",
      "text/plain": [
       "<Figure size 432x288 with 1 Axes>"
      ]
     },
     "metadata": {
      "needs_background": "light"
     },
     "output_type": "display_data"
    }
   ],
   "source": [
    "peak_T_list = np.asarray(peak_T_list)\n",
    "\n",
    "Si = sobol.analyze(problem, peak_T_list, print_to_console=True)\n",
    "\n",
    "total_Si, first_Si, second_Si = Si.to_df()\n",
    "\n",
    "plt.title(\"Total Order Interactions\")\n",
    "plt.bar(total_Si.index, total_Si['ST'], yerr=total_Si['ST_conf'])\n",
    "plt.xticks(rotation=90)"
   ]
  },
  {
   "cell_type": "code",
   "execution_count": null,
   "id": "6ecdf675",
   "metadata": {},
   "outputs": [],
   "source": []
  }
 ],
 "metadata": {
  "kernelspec": {
   "display_name": "Python 3 (ipykernel)",
   "language": "python",
   "name": "python3"
  },
  "language_info": {
   "codemirror_mode": {
    "name": "ipython",
    "version": 3
   },
   "file_extension": ".py",
   "mimetype": "text/x-python",
   "name": "python",
   "nbconvert_exporter": "python",
   "pygments_lexer": "ipython3",
   "version": "3.9.7"
  }
 },
 "nbformat": 4,
 "nbformat_minor": 5
}
