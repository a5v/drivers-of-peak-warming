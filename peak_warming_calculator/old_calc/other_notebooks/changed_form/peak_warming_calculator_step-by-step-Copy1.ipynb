{
 "cells": [
  {
   "cell_type": "code",
   "execution_count": 1,
   "id": "a8198da9",
   "metadata": {},
   "outputs": [],
   "source": [
    "import pandas as pd\n",
    "import numpy as np\n",
    "import matplotlib.pyplot as plt"
   ]
  },
  {
   "cell_type": "markdown",
   "id": "1b40a359",
   "metadata": {},
   "source": [
    "## Define Functions"
   ]
  },
  {
   "cell_type": "code",
   "execution_count": 2,
   "id": "df85a918",
   "metadata": {},
   "outputs": [],
   "source": [
    "## SCC functions\n",
    "from SCC_functions import *"
   ]
  },
  {
   "cell_type": "code",
   "execution_count": 3,
   "id": "5a11eab5",
   "metadata": {},
   "outputs": [],
   "source": [
    "## MACC functions and parameters\n",
    "\n",
    "# default settings\n",
    "P_50 = 120  # 187.5 * 0.7625000000000001\n",
    "P_100 = 300  # 187.5\n",
    "s = 0.05\n",
    "r = 0.03\n",
    "\n",
    "def abatement(P, P0, P_50=P_50, r=r, s=s, P_100=P_100):  # 0.05\n",
    "    if P0 >= P_50:\n",
    "        print(\"P0 is greater than P_50\")\n",
    "    elif ((P_100-P0)/(P_50-P0))**(s/r) <= 2:\n",
    "        print(\"MAC curve condition not satisfied\")\n",
    "    \n",
    "    P_h = P0 + ((P_50 - P0) ** (-s / r) - 2 * (P_100 - P0) ** (-s / r)) ** (-r / s)\n",
    "    Am = 1 + ((P_100 - P0) / (P_h - P0)) ** (-s / r)\n",
    "    \n",
    "    A = Am / (1 + ((P - P0) / (P_h - P0)) ** (-s / r))\n",
    "    \n",
    "    return A\n",
    "\n",
    "## calculate emissions from forecasted abatement and CO2 baseline\n",
    "\n",
    "def abatement_to_emissions(forecasted_abatement, CO2_baseline):\n",
    "    CO2_emissions = CO2_baseline*(1-forecasted_abatement)\n",
    "    \n",
    "    return CO2_emissions"
   ]
  },
  {
   "cell_type": "markdown",
   "id": "4bb1c315",
   "metadata": {},
   "source": [
    "# Steps"
   ]
  },
  {
   "cell_type": "markdown",
   "id": "7529a603",
   "metadata": {},
   "source": [
    "## 0. Years and Initial Temperature Anomaly"
   ]
  },
  {
   "cell_type": "code",
   "execution_count": 4,
   "id": "8e7f229b",
   "metadata": {},
   "outputs": [],
   "source": [
    "start_year = 2020\n",
    "end_year = 3000\n",
    "\n",
    "years = create_years_array(start_year, end_year)\n",
    "num_of_years = len(years)"
   ]
  },
  {
   "cell_type": "code",
   "execution_count": 5,
   "id": "e3c296e4",
   "metadata": {},
   "outputs": [],
   "source": [
    "## years to calculate SCC\n",
    "first_perturbed_year = start_year\n",
    "last_perturbed_year = 2500\n",
    "year_of_perturbation = create_years_array(start_year, last_perturbed_year)"
   ]
  },
  {
   "cell_type": "code",
   "execution_count": 6,
   "id": "3be6c8c3",
   "metadata": {},
   "outputs": [],
   "source": [
    "T_0 = 1.2"
   ]
  },
  {
   "cell_type": "markdown",
   "id": "9e286a49",
   "metadata": {},
   "source": [
    "## 1. Create Unperturbed Temperature Profile"
   ]
  },
  {
   "cell_type": "code",
   "execution_count": 7,
   "id": "da772f99",
   "metadata": {},
   "outputs": [],
   "source": [
    "delta_T = 3\n",
    "alpha = 0.02\n",
    "T = create_geometric_T(years, T_0=T_0, alpha=alpha, delta_T=delta_T)"
   ]
  },
  {
   "cell_type": "code",
   "execution_count": 8,
   "id": "8d7f6882",
   "metadata": {
    "scrolled": true
   },
   "outputs": [
    {
     "data": {
      "text/plain": [
       "[<matplotlib.lines.Line2D at 0x11e38cb50>]"
      ]
     },
     "execution_count": 8,
     "metadata": {},
     "output_type": "execute_result"
    },
    {
     "data": {
      "image/png": "[encoded data removed]",
      "text/plain": [
       "<Figure size 432x288 with 1 Axes>"
      ]
     },
     "metadata": {
      "needs_background": "light"
     },
     "output_type": "display_data"
    }
   ],
   "source": [
    "plt.plot(years, T)"
   ]
  },
  {
   "cell_type": "markdown",
   "id": "ead91d1f",
   "metadata": {},
   "source": [
    "## Total Consumption"
   ]
  },
  {
   "cell_type": "code",
   "execution_count": 9,
   "id": "540e63b3",
   "metadata": {},
   "outputs": [],
   "source": [
    "consumption_growth = 0.02"
   ]
  },
  {
   "cell_type": "code",
   "execution_count": 10,
   "id": "1088a474",
   "metadata": {},
   "outputs": [],
   "source": [
    "W = create_total_consumption(years, W_fixed_year=2020, W_fixed=80, consumption_growth=consumption_growth)"
   ]
  },
  {
   "cell_type": "code",
   "execution_count": 11,
   "id": "95906ae2",
   "metadata": {},
   "outputs": [
    {
     "data": {
      "image/png": "[encoded data removed]",
      "text/plain": [
       "<Figure size 432x288 with 1 Axes>"
      ]
     },
     "metadata": {
      "needs_background": "light"
     },
     "output_type": "display_data"
    }
   ],
   "source": [
    "plt.plot(years, W)\n",
    "plt.xlabel(\"Year\")\n",
    "plt.ylabel(\"Absolute Consumption ($trillion/year)\")\n",
    "# plt.xlim(2000, 2100)\n",
    "# plt.ylim(0, 400)\n",
    "plt.xlim(2000, 2500)\n",
    "plt.ylim(10, 100000)\n",
    "plt.yscale(\"log\")"
   ]
  },
  {
   "cell_type": "markdown",
   "id": "152831a9",
   "metadata": {},
   "source": [
    "alternative functional form for above for the fast transition"
   ]
  },
  {
   "cell_type": "markdown",
   "id": "b0e49485",
   "metadata": {},
   "source": [
    "## 2. Calculate SCC as a function of time for a range of years"
   ]
  },
  {
   "cell_type": "code",
   "execution_count": 12,
   "id": "d97e9e82",
   "metadata": {},
   "outputs": [],
   "source": [
    "T_TCRE_1 = 0.00045\n",
    "k_s = 0.12\n",
    "size_of_perturbation = 1"
   ]
  },
  {
   "cell_type": "code",
   "execution_count": 13,
   "id": "682416f3",
   "metadata": {},
   "outputs": [],
   "source": [
    "gamma = 2\n",
    "D0 = 0.00236"
   ]
  },
  {
   "cell_type": "code",
   "execution_count": 14,
   "id": "3204114d",
   "metadata": {},
   "outputs": [],
   "source": [
    "# consumption_discount = 0.035\n",
    "consumption_discount = consumption_growth + 0.015"
   ]
  },
  {
   "cell_type": "code",
   "execution_count": 15,
   "id": "916e795f",
   "metadata": {},
   "outputs": [
    {
     "name": "stdout",
     "output_type": "stream",
     "text": [
      "23.442601194891857\n",
      "                  W  discount function         T  T perturbed\n",
      "years                                                        \n",
      "2020   8.000000e+01       1.000000e+00  1.200000     1.200000\n",
      "2021   8.161611e+01       9.656054e-01  1.235642     1.235693\n",
      "2022   8.326486e+01       9.323938e-01  1.270579     1.270675\n",
      "2023   8.494692e+01       9.003245e-01  1.304824     1.304960\n",
      "2024   8.666297e+01       8.693582e-01  1.338391     1.338562\n",
      "...             ...                ...       ...          ...\n",
      "2996   2.401697e+10       1.460496e-15  3.000000     3.000450\n",
      "2997   2.450215e+10       1.410263e-15  3.000000     3.000450\n",
      "2998   2.499712e+10       1.361758e-15  3.000000     3.000450\n",
      "2999   2.550210e+10       1.314921e-15  3.000000     3.000450\n",
      "3000   2.601728e+10       1.269695e-15  3.000000     3.000450\n",
      "\n",
      "[981 rows x 4 columns]\n"
     ]
    }
   ],
   "source": [
    "# consumption_discount = 0.035\n",
    "# consumption_discount = consumption_growth + 0.015\n",
    "\n",
    "SCC_list = []\n",
    "\n",
    "for j in range(len(year_of_perturbation)):\n",
    "    T_perturbed = perturb_T_geometrically(years, T=T, perturbed_year=year_of_perturbation[j], T_TCRE_1=T_TCRE_1, size_of_perturbation=size_of_perturbation, k_s=k_s)\n",
    "    discount_function = create_discount_function(years, year_of_perturbation[j], consumption_discount=consumption_discount)\n",
    "    \n",
    "    time_series_data = {'years': years, 'W': W, 'discount function': discount_function, 'T': T, 'T perturbed': T_perturbed}\n",
    "\n",
    "    time_series_df = pd.DataFrame(data=time_series_data).set_index('years')\n",
    "\n",
    "    SCC = SCC_calculator(time_series_df, size_of_perturbation=size_of_perturbation, gamma=gamma, D0=D0)\n",
    "    \n",
    "    if j  == 0:\n",
    "        print(SCC)\n",
    "        print(time_series_df)\n",
    "\n",
    "    if SCC < P_100:\n",
    "        SCC_list.append(SCC)\n",
    "    else:\n",
    "        SCC_list.append(P_100)\n",
    "        break"
   ]
  },
  {
   "cell_type": "code",
   "execution_count": 16,
   "id": "e06f34f8",
   "metadata": {},
   "outputs": [],
   "source": [
    "SCC_array = np.asarray(SCC_list)  # convert to numpy array"
   ]
  },
  {
   "cell_type": "code",
   "execution_count": 17,
   "id": "824dda4d",
   "metadata": {},
   "outputs": [
    {
     "data": {
      "text/plain": [
       "Text(0, 0.5, 'SCC ($)')"
      ]
     },
     "execution_count": 17,
     "metadata": {},
     "output_type": "execute_result"
    },
    {
     "data": {
      "image/png": "[encoded data removed]",
      "text/plain": [
       "<Figure size 432x288 with 1 Axes>"
      ]
     },
     "metadata": {
      "needs_background": "light"
     },
     "output_type": "display_data"
    }
   ],
   "source": [
    "plt.plot(year_of_perturbation[:len(SCC_array)], SCC_array)\n",
    "plt.xlabel(\"Year\")\n",
    "plt.ylabel(\"SCC ($)\")"
   ]
  },
  {
   "cell_type": "markdown",
   "id": "4527dfe3",
   "metadata": {},
   "source": [
    "### Check 100% abatement has been achieved!"
   ]
  },
  {
   "cell_type": "code",
   "execution_count": 18,
   "id": "2afc6578",
   "metadata": {},
   "outputs": [],
   "source": [
    "if SCC_array[-1] < P_100:\n",
    "    print(\"P_100 not achieved by achieved by final perturbed year\")"
   ]
  },
  {
   "cell_type": "code",
   "execution_count": 19,
   "id": "ef9dcd63",
   "metadata": {},
   "outputs": [
    {
     "data": {
      "image/png": "[encoded data removed]",
      "text/plain": [
       "<Figure size 432x288 with 1 Axes>"
      ]
     },
     "metadata": {
      "needs_background": "light"
     },
     "output_type": "display_data"
    }
   ],
   "source": [
    "plt.plot(years[:len(SCC_array)], SCC_array)\n",
    "plt.xlabel(\"Year\")\n",
    "plt.ylabel(\"SCC ($)\")\n",
    "plt.yscale(\"log\")"
   ]
  },
  {
   "cell_type": "code",
   "execution_count": 20,
   "id": "669e1453",
   "metadata": {},
   "outputs": [
    {
     "data": {
      "text/plain": [
       "array([ 23.44260119,  24.05278291,  24.67529111,  25.3103748 ,\n",
       "        25.95828802,  26.61928995,  27.29364499,  27.9816229 ,\n",
       "        28.68349888,  29.39955368,  30.13007374,  30.87535127,\n",
       "        31.6356844 ,  32.41137727,  33.20274015,  34.01008962,\n",
       "        34.83374861,  35.67404661,  36.53131974,  37.40591092,\n",
       "        38.29817   ,  39.2084539 ,  40.13712673,  41.08455999,\n",
       "        42.05113264,  43.03723135,  44.04325055,  45.06959267,\n",
       "        46.11666826,  47.18489615,  48.27470367,  49.38652673,\n",
       "        50.52081009,  51.67800746,  52.85858176,  54.06300521,\n",
       "        55.2917596 ,  56.54533645,  57.82423721,  59.12897345,\n",
       "        60.46006708,  61.81805055,  63.20346708,  64.61687085,\n",
       "        66.05882724,  67.52991304,  69.03071671,  70.56183859,\n",
       "        72.12389114,  73.71749921,  75.34330026,  77.00194462,\n",
       "        78.69409578,  80.42043062,  82.18163968,  83.97842748,\n",
       "        85.81151275,  87.68162874,  89.58952353,  91.5359603 ,\n",
       "        93.52171764,  95.54758988,  97.61438738,  99.72293691,\n",
       "       101.87408189, 104.06868281, 106.30761754, 108.59178168,\n",
       "       110.92208892, 113.29947141, 115.72488013, 118.19928526,\n",
       "       120.72367661, 123.29906395, 125.92647748, 128.60696818,\n",
       "       131.34160828, 134.13149167, 136.97773434, 139.88147481,\n",
       "       142.8438746 , 145.86611873, 148.94941611, 152.09500009,\n",
       "       155.30412896, 158.57808638, 161.91818199, 165.32575186,\n",
       "       168.80215905, 172.34879416, 175.96707589, 179.65845158,\n",
       "       183.42439784, 187.26642106, 191.18605812, 195.18487689,\n",
       "       199.26447696, 203.42649021, 207.67258148, 212.00444925,\n",
       "       216.42382632, 220.93248049, 225.53221526, 230.22487057,\n",
       "       235.01232354, 239.89648919, 244.87932124, 249.96281287,\n",
       "       255.14899754, 260.43994976, 265.83778597, 271.34466535,\n",
       "       276.96279072, 282.69440938, 288.54181403, 294.50734369,\n",
       "       300.        ])"
      ]
     },
     "execution_count": 20,
     "metadata": {},
     "output_type": "execute_result"
    }
   ],
   "source": [
    "SCC_array"
   ]
  },
  {
   "cell_type": "code",
   "execution_count": 21,
   "id": "274d4beb",
   "metadata": {},
   "outputs": [],
   "source": [
    "SCC_forecasted = []\n",
    "\n",
    "for i in range(num_of_years):\n",
    "    if i < len(SCC_array):\n",
    "        SCC_forecasted.append(SCC_array[i])\n",
    "    else:\n",
    "#         SCC_forecasted.append(SCC_array[-1])\n",
    "        SCC_forecasted.append(P_100)\n",
    "\n",
    "SCC_forecasted = np.array(SCC_forecasted)"
   ]
  },
  {
   "cell_type": "markdown",
   "id": "b85d4a61",
   "metadata": {},
   "source": [
    "## 3. Abatement as a function of time"
   ]
  },
  {
   "cell_type": "code",
   "execution_count": 22,
   "id": "a598428e",
   "metadata": {},
   "outputs": [],
   "source": [
    "P0 = SCC_forecasted[0]"
   ]
  },
  {
   "cell_type": "code",
   "execution_count": 23,
   "id": "b90c019f",
   "metadata": {
    "scrolled": true
   },
   "outputs": [
    {
     "name": "stderr",
     "output_type": "stream",
     "text": [
      "/var/folders/m4/mbpwp5q15070t8lqj4fj7mjr0000gn/T/ipykernel_32619/2947447235.py:18: RuntimeWarning: divide by zero encountered in power\n",
      "  A = Am / (1 + ((P - P0) / (P_h - P0)) ** (-s / r))\n"
     ]
    }
   ],
   "source": [
    "forecasted_abatement = abatement(P=SCC_forecasted, P0=P0)  # , r=consumption_discount"
   ]
  },
  {
   "cell_type": "markdown",
   "id": "ce23d485",
   "metadata": {},
   "source": [
    "problems with certain values due to constraints of the model"
   ]
  },
  {
   "cell_type": "code",
   "execution_count": 24,
   "id": "74f04839",
   "metadata": {},
   "outputs": [
    {
     "data": {
      "text/plain": [
       "Text(0, 0.5, 'Abatement')"
      ]
     },
     "execution_count": 24,
     "metadata": {},
     "output_type": "execute_result"
    },
    {
     "data": {
      "image/png": "[encoded data removed]",
      "text/plain": [
       "<Figure size 432x288 with 1 Axes>"
      ]
     },
     "metadata": {
      "needs_background": "light"
     },
     "output_type": "display_data"
    }
   ],
   "source": [
    "plt.plot(years[:len(forecasted_abatement)], forecasted_abatement)\n",
    "plt.xlabel(\"Year\")\n",
    "plt.ylabel(\"Abatement\")"
   ]
  },
  {
   "cell_type": "code",
   "execution_count": 25,
   "id": "55f770a5",
   "metadata": {},
   "outputs": [
    {
     "data": {
      "text/plain": [
       "array([0.00000000e+00, 1.78582966e-04, 5.76360877e-04, 1.15154481e-03,\n",
       "       1.89051748e-03, 2.78699241e-03, 3.83807609e-03, 5.04279669e-03,\n",
       "       6.40140347e-03, 7.91498229e-03, 9.58522324e-03, 1.14142697e-02,\n",
       "       1.34046143e-02, 1.55590239e-02, 1.78804830e-02, 2.03721489e-02,\n",
       "       2.30373156e-02, 2.58793834e-02, 2.89018321e-02, 3.21081974e-02,\n",
       "       3.55020495e-02, 3.90869722e-02, 4.28665439e-02, 4.68443191e-02,\n",
       "       5.10238096e-02, 5.54084668e-02, 6.00016637e-02, 6.48066769e-02,\n",
       "       6.98266688e-02, 7.50646692e-02, 8.05235580e-02, 8.62060462e-02,\n",
       "       9.21146583e-02, 9.82517140e-02, 1.04619310e-01, 1.11219302e-01,\n",
       "       1.18053286e-01, 1.25122584e-01, 1.32428222e-01, 1.39970916e-01,\n",
       "       1.47751056e-01, 1.55768689e-01, 1.64023504e-01, 1.72514821e-01,\n",
       "       1.81241574e-01, 1.90202300e-01, 1.99395131e-01, 2.08817782e-01,\n",
       "       2.18467542e-01, 2.28341272e-01, 2.38435396e-01, 2.48745899e-01,\n",
       "       2.59268328e-01, 2.69997791e-01, 2.80928957e-01, 2.92056067e-01,\n",
       "       3.03372934e-01, 3.14872957e-01, 3.26549128e-01, 3.38394047e-01,\n",
       "       3.50399937e-01, 3.62558660e-01, 3.74861734e-01, 3.87300358e-01,\n",
       "       3.99865432e-01, 4.12547576e-01, 4.25337166e-01, 4.38224351e-01,\n",
       "       4.51199085e-01, 4.64251155e-01, 4.77370213e-01, 4.90545802e-01,\n",
       "       5.03767390e-01, 5.17024400e-01, 5.30306242e-01, 5.43602344e-01,\n",
       "       5.56902178e-01, 5.70195299e-01, 5.83471368e-01, 5.96720180e-01,\n",
       "       6.09931696e-01, 6.23096068e-01, 6.36203662e-01, 6.49245084e-01,\n",
       "       6.62211201e-01, 6.75093162e-01, 6.87882417e-01, 7.00570733e-01,\n",
       "       7.13150212e-01, 7.25613300e-01, 7.37952805e-01, 7.50161899e-01,\n",
       "       7.62234131e-01, 7.74163433e-01, 7.85944122e-01, 7.97570904e-01,\n",
       "       8.09038874e-01, 8.20343517e-01, 8.31480705e-01, 8.42446691e-01,\n",
       "       8.53238110e-01, 8.63851965e-01, 8.74285627e-01, 8.84536822e-01,\n",
       "       8.94603625e-01, 9.04484447e-01, 9.14178025e-01, 9.23683413e-01,\n",
       "       9.32999967e-01, 9.42127334e-01, 9.51065439e-01, 9.59814471e-01,\n",
       "       9.68374873e-01, 9.76747326e-01, 9.84932734e-01, 9.92932216e-01,\n",
       "       1.00000000e+00, 1.00000000e+00, 1.00000000e+00, 1.00000000e+00,\n",
       "       1.00000000e+00, 1.00000000e+00, 1.00000000e+00, 1.00000000e+00,\n",
       "       1.00000000e+00, 1.00000000e+00, 1.00000000e+00, 1.00000000e+00,\n",
       "       1.00000000e+00, 1.00000000e+00, 1.00000000e+00, 1.00000000e+00,\n",
       "       1.00000000e+00, 1.00000000e+00, 1.00000000e+00, 1.00000000e+00,\n",
       "       1.00000000e+00, 1.00000000e+00, 1.00000000e+00, 1.00000000e+00,\n",
       "       1.00000000e+00, 1.00000000e+00, 1.00000000e+00, 1.00000000e+00,\n",
       "       1.00000000e+00, 1.00000000e+00, 1.00000000e+00, 1.00000000e+00,\n",
       "       1.00000000e+00, 1.00000000e+00, 1.00000000e+00, 1.00000000e+00,\n",
       "       1.00000000e+00, 1.00000000e+00, 1.00000000e+00, 1.00000000e+00,\n",
       "       1.00000000e+00, 1.00000000e+00, 1.00000000e+00, 1.00000000e+00,\n",
       "       1.00000000e+00, 1.00000000e+00, 1.00000000e+00, 1.00000000e+00,\n",
       "       1.00000000e+00, 1.00000000e+00, 1.00000000e+00, 1.00000000e+00,\n",
       "       1.00000000e+00, 1.00000000e+00, 1.00000000e+00, 1.00000000e+00,\n",
       "       1.00000000e+00, 1.00000000e+00, 1.00000000e+00, 1.00000000e+00,\n",
       "       1.00000000e+00, 1.00000000e+00, 1.00000000e+00, 1.00000000e+00,\n",
       "       1.00000000e+00, 1.00000000e+00, 1.00000000e+00, 1.00000000e+00,\n",
       "       1.00000000e+00, 1.00000000e+00, 1.00000000e+00, 1.00000000e+00,\n",
       "       1.00000000e+00, 1.00000000e+00, 1.00000000e+00, 1.00000000e+00,\n",
       "       1.00000000e+00, 1.00000000e+00, 1.00000000e+00, 1.00000000e+00,\n",
       "       1.00000000e+00, 1.00000000e+00, 1.00000000e+00, 1.00000000e+00,\n",
       "       1.00000000e+00, 1.00000000e+00, 1.00000000e+00, 1.00000000e+00,\n",
       "       1.00000000e+00, 1.00000000e+00, 1.00000000e+00, 1.00000000e+00,\n",
       "       1.00000000e+00, 1.00000000e+00, 1.00000000e+00, 1.00000000e+00,\n",
       "       1.00000000e+00, 1.00000000e+00, 1.00000000e+00, 1.00000000e+00,\n",
       "       1.00000000e+00, 1.00000000e+00, 1.00000000e+00, 1.00000000e+00,\n",
       "       1.00000000e+00, 1.00000000e+00, 1.00000000e+00, 1.00000000e+00,\n",
       "       1.00000000e+00, 1.00000000e+00, 1.00000000e+00, 1.00000000e+00,\n",
       "       1.00000000e+00, 1.00000000e+00, 1.00000000e+00, 1.00000000e+00,\n",
       "       1.00000000e+00, 1.00000000e+00, 1.00000000e+00, 1.00000000e+00,\n",
       "       1.00000000e+00, 1.00000000e+00, 1.00000000e+00, 1.00000000e+00,\n",
       "       1.00000000e+00, 1.00000000e+00, 1.00000000e+00, 1.00000000e+00,\n",
       "       1.00000000e+00, 1.00000000e+00, 1.00000000e+00, 1.00000000e+00,\n",
       "       1.00000000e+00, 1.00000000e+00, 1.00000000e+00, 1.00000000e+00,\n",
       "       1.00000000e+00, 1.00000000e+00, 1.00000000e+00, 1.00000000e+00,\n",
       "       1.00000000e+00, 1.00000000e+00, 1.00000000e+00, 1.00000000e+00,\n",
       "       1.00000000e+00, 1.00000000e+00, 1.00000000e+00, 1.00000000e+00,\n",
       "       1.00000000e+00, 1.00000000e+00, 1.00000000e+00, 1.00000000e+00,\n",
       "       1.00000000e+00, 1.00000000e+00, 1.00000000e+00, 1.00000000e+00,\n",
       "       1.00000000e+00, 1.00000000e+00, 1.00000000e+00, 1.00000000e+00,\n",
       "       1.00000000e+00, 1.00000000e+00, 1.00000000e+00, 1.00000000e+00,\n",
       "       1.00000000e+00, 1.00000000e+00, 1.00000000e+00, 1.00000000e+00,\n",
       "       1.00000000e+00, 1.00000000e+00, 1.00000000e+00, 1.00000000e+00,\n",
       "       1.00000000e+00, 1.00000000e+00, 1.00000000e+00, 1.00000000e+00,\n",
       "       1.00000000e+00, 1.00000000e+00, 1.00000000e+00, 1.00000000e+00,\n",
       "       1.00000000e+00, 1.00000000e+00, 1.00000000e+00, 1.00000000e+00,\n",
       "       1.00000000e+00, 1.00000000e+00, 1.00000000e+00, 1.00000000e+00,\n",
       "       1.00000000e+00, 1.00000000e+00, 1.00000000e+00, 1.00000000e+00,\n",
       "       1.00000000e+00, 1.00000000e+00, 1.00000000e+00, 1.00000000e+00,\n",
       "       1.00000000e+00, 1.00000000e+00, 1.00000000e+00, 1.00000000e+00,\n",
       "       1.00000000e+00, 1.00000000e+00, 1.00000000e+00, 1.00000000e+00,\n",
       "       1.00000000e+00, 1.00000000e+00, 1.00000000e+00, 1.00000000e+00,\n",
       "       1.00000000e+00, 1.00000000e+00, 1.00000000e+00, 1.00000000e+00,\n",
       "       1.00000000e+00, 1.00000000e+00, 1.00000000e+00, 1.00000000e+00,\n",
       "       1.00000000e+00, 1.00000000e+00, 1.00000000e+00, 1.00000000e+00,\n",
       "       1.00000000e+00, 1.00000000e+00, 1.00000000e+00, 1.00000000e+00,\n",
       "       1.00000000e+00, 1.00000000e+00, 1.00000000e+00, 1.00000000e+00,\n",
       "       1.00000000e+00, 1.00000000e+00, 1.00000000e+00, 1.00000000e+00,\n",
       "       1.00000000e+00, 1.00000000e+00, 1.00000000e+00, 1.00000000e+00,\n",
       "       1.00000000e+00, 1.00000000e+00, 1.00000000e+00, 1.00000000e+00,\n",
       "       1.00000000e+00, 1.00000000e+00, 1.00000000e+00, 1.00000000e+00,\n",
       "       1.00000000e+00, 1.00000000e+00, 1.00000000e+00, 1.00000000e+00,\n",
       "       1.00000000e+00, 1.00000000e+00, 1.00000000e+00, 1.00000000e+00,\n",
       "       1.00000000e+00, 1.00000000e+00, 1.00000000e+00, 1.00000000e+00,\n",
       "       1.00000000e+00, 1.00000000e+00, 1.00000000e+00, 1.00000000e+00,\n",
       "       1.00000000e+00, 1.00000000e+00, 1.00000000e+00, 1.00000000e+00,\n",
       "       1.00000000e+00, 1.00000000e+00, 1.00000000e+00, 1.00000000e+00,\n",
       "       1.00000000e+00, 1.00000000e+00, 1.00000000e+00, 1.00000000e+00,\n",
       "       1.00000000e+00, 1.00000000e+00, 1.00000000e+00, 1.00000000e+00,\n",
       "       1.00000000e+00, 1.00000000e+00, 1.00000000e+00, 1.00000000e+00,\n",
       "       1.00000000e+00, 1.00000000e+00, 1.00000000e+00, 1.00000000e+00,\n",
       "       1.00000000e+00, 1.00000000e+00, 1.00000000e+00, 1.00000000e+00,\n",
       "       1.00000000e+00, 1.00000000e+00, 1.00000000e+00, 1.00000000e+00,\n",
       "       1.00000000e+00, 1.00000000e+00, 1.00000000e+00, 1.00000000e+00,\n",
       "       1.00000000e+00, 1.00000000e+00, 1.00000000e+00, 1.00000000e+00,\n",
       "       1.00000000e+00, 1.00000000e+00, 1.00000000e+00, 1.00000000e+00,\n",
       "       1.00000000e+00, 1.00000000e+00, 1.00000000e+00, 1.00000000e+00,\n",
       "       1.00000000e+00, 1.00000000e+00, 1.00000000e+00, 1.00000000e+00,\n",
       "       1.00000000e+00, 1.00000000e+00, 1.00000000e+00, 1.00000000e+00,\n",
       "       1.00000000e+00, 1.00000000e+00, 1.00000000e+00, 1.00000000e+00,\n",
       "       1.00000000e+00, 1.00000000e+00, 1.00000000e+00, 1.00000000e+00,\n",
       "       1.00000000e+00, 1.00000000e+00, 1.00000000e+00, 1.00000000e+00,\n",
       "       1.00000000e+00, 1.00000000e+00, 1.00000000e+00, 1.00000000e+00,\n",
       "       1.00000000e+00, 1.00000000e+00, 1.00000000e+00, 1.00000000e+00,\n",
       "       1.00000000e+00, 1.00000000e+00, 1.00000000e+00, 1.00000000e+00,\n",
       "       1.00000000e+00, 1.00000000e+00, 1.00000000e+00, 1.00000000e+00,\n",
       "       1.00000000e+00, 1.00000000e+00, 1.00000000e+00, 1.00000000e+00,\n",
       "       1.00000000e+00, 1.00000000e+00, 1.00000000e+00, 1.00000000e+00,\n",
       "       1.00000000e+00, 1.00000000e+00, 1.00000000e+00, 1.00000000e+00,\n",
       "       1.00000000e+00, 1.00000000e+00, 1.00000000e+00, 1.00000000e+00,\n",
       "       1.00000000e+00, 1.00000000e+00, 1.00000000e+00, 1.00000000e+00,\n",
       "       1.00000000e+00, 1.00000000e+00, 1.00000000e+00, 1.00000000e+00,\n",
       "       1.00000000e+00, 1.00000000e+00, 1.00000000e+00, 1.00000000e+00,\n",
       "       1.00000000e+00, 1.00000000e+00, 1.00000000e+00, 1.00000000e+00,\n",
       "       1.00000000e+00, 1.00000000e+00, 1.00000000e+00, 1.00000000e+00,\n",
       "       1.00000000e+00, 1.00000000e+00, 1.00000000e+00, 1.00000000e+00,\n",
       "       1.00000000e+00, 1.00000000e+00, 1.00000000e+00, 1.00000000e+00,\n",
       "       1.00000000e+00, 1.00000000e+00, 1.00000000e+00, 1.00000000e+00,\n",
       "       1.00000000e+00, 1.00000000e+00, 1.00000000e+00, 1.00000000e+00,\n",
       "       1.00000000e+00, 1.00000000e+00, 1.00000000e+00, 1.00000000e+00,\n",
       "       1.00000000e+00, 1.00000000e+00, 1.00000000e+00, 1.00000000e+00,\n",
       "       1.00000000e+00, 1.00000000e+00, 1.00000000e+00, 1.00000000e+00,\n",
       "       1.00000000e+00, 1.00000000e+00, 1.00000000e+00, 1.00000000e+00,\n",
       "       1.00000000e+00, 1.00000000e+00, 1.00000000e+00, 1.00000000e+00,\n",
       "       1.00000000e+00, 1.00000000e+00, 1.00000000e+00, 1.00000000e+00,\n",
       "       1.00000000e+00, 1.00000000e+00, 1.00000000e+00, 1.00000000e+00,\n",
       "       1.00000000e+00, 1.00000000e+00, 1.00000000e+00, 1.00000000e+00,\n",
       "       1.00000000e+00, 1.00000000e+00, 1.00000000e+00, 1.00000000e+00,\n",
       "       1.00000000e+00, 1.00000000e+00, 1.00000000e+00, 1.00000000e+00,\n",
       "       1.00000000e+00, 1.00000000e+00, 1.00000000e+00, 1.00000000e+00,\n",
       "       1.00000000e+00, 1.00000000e+00, 1.00000000e+00, 1.00000000e+00,\n",
       "       1.00000000e+00, 1.00000000e+00, 1.00000000e+00, 1.00000000e+00,\n",
       "       1.00000000e+00, 1.00000000e+00, 1.00000000e+00, 1.00000000e+00,\n",
       "       1.00000000e+00, 1.00000000e+00, 1.00000000e+00, 1.00000000e+00,\n",
       "       1.00000000e+00, 1.00000000e+00, 1.00000000e+00, 1.00000000e+00,\n",
       "       1.00000000e+00, 1.00000000e+00, 1.00000000e+00, 1.00000000e+00,\n",
       "       1.00000000e+00, 1.00000000e+00, 1.00000000e+00, 1.00000000e+00,\n",
       "       1.00000000e+00, 1.00000000e+00, 1.00000000e+00, 1.00000000e+00,\n",
       "       1.00000000e+00, 1.00000000e+00, 1.00000000e+00, 1.00000000e+00,\n",
       "       1.00000000e+00, 1.00000000e+00, 1.00000000e+00, 1.00000000e+00,\n",
       "       1.00000000e+00, 1.00000000e+00, 1.00000000e+00, 1.00000000e+00,\n",
       "       1.00000000e+00, 1.00000000e+00, 1.00000000e+00, 1.00000000e+00,\n",
       "       1.00000000e+00, 1.00000000e+00, 1.00000000e+00, 1.00000000e+00,\n",
       "       1.00000000e+00, 1.00000000e+00, 1.00000000e+00, 1.00000000e+00,\n",
       "       1.00000000e+00, 1.00000000e+00, 1.00000000e+00, 1.00000000e+00,\n",
       "       1.00000000e+00, 1.00000000e+00, 1.00000000e+00, 1.00000000e+00,\n",
       "       1.00000000e+00, 1.00000000e+00, 1.00000000e+00, 1.00000000e+00,\n",
       "       1.00000000e+00, 1.00000000e+00, 1.00000000e+00, 1.00000000e+00,\n",
       "       1.00000000e+00, 1.00000000e+00, 1.00000000e+00, 1.00000000e+00,\n",
       "       1.00000000e+00, 1.00000000e+00, 1.00000000e+00, 1.00000000e+00,\n",
       "       1.00000000e+00, 1.00000000e+00, 1.00000000e+00, 1.00000000e+00,\n",
       "       1.00000000e+00, 1.00000000e+00, 1.00000000e+00, 1.00000000e+00,\n",
       "       1.00000000e+00, 1.00000000e+00, 1.00000000e+00, 1.00000000e+00,\n",
       "       1.00000000e+00, 1.00000000e+00, 1.00000000e+00, 1.00000000e+00,\n",
       "       1.00000000e+00, 1.00000000e+00, 1.00000000e+00, 1.00000000e+00,\n",
       "       1.00000000e+00, 1.00000000e+00, 1.00000000e+00, 1.00000000e+00,\n",
       "       1.00000000e+00, 1.00000000e+00, 1.00000000e+00, 1.00000000e+00,\n",
       "       1.00000000e+00, 1.00000000e+00, 1.00000000e+00, 1.00000000e+00,\n",
       "       1.00000000e+00, 1.00000000e+00, 1.00000000e+00, 1.00000000e+00,\n",
       "       1.00000000e+00, 1.00000000e+00, 1.00000000e+00, 1.00000000e+00,\n",
       "       1.00000000e+00, 1.00000000e+00, 1.00000000e+00, 1.00000000e+00,\n",
       "       1.00000000e+00, 1.00000000e+00, 1.00000000e+00, 1.00000000e+00,\n",
       "       1.00000000e+00, 1.00000000e+00, 1.00000000e+00, 1.00000000e+00,\n",
       "       1.00000000e+00, 1.00000000e+00, 1.00000000e+00, 1.00000000e+00,\n",
       "       1.00000000e+00, 1.00000000e+00, 1.00000000e+00, 1.00000000e+00,\n",
       "       1.00000000e+00, 1.00000000e+00, 1.00000000e+00, 1.00000000e+00,\n",
       "       1.00000000e+00, 1.00000000e+00, 1.00000000e+00, 1.00000000e+00,\n",
       "       1.00000000e+00, 1.00000000e+00, 1.00000000e+00, 1.00000000e+00,\n",
       "       1.00000000e+00, 1.00000000e+00, 1.00000000e+00, 1.00000000e+00,\n",
       "       1.00000000e+00, 1.00000000e+00, 1.00000000e+00, 1.00000000e+00,\n",
       "       1.00000000e+00, 1.00000000e+00, 1.00000000e+00, 1.00000000e+00,\n",
       "       1.00000000e+00, 1.00000000e+00, 1.00000000e+00, 1.00000000e+00,\n",
       "       1.00000000e+00, 1.00000000e+00, 1.00000000e+00, 1.00000000e+00,\n",
       "       1.00000000e+00, 1.00000000e+00, 1.00000000e+00, 1.00000000e+00,\n",
       "       1.00000000e+00, 1.00000000e+00, 1.00000000e+00, 1.00000000e+00,\n",
       "       1.00000000e+00, 1.00000000e+00, 1.00000000e+00, 1.00000000e+00,\n",
       "       1.00000000e+00, 1.00000000e+00, 1.00000000e+00, 1.00000000e+00,\n",
       "       1.00000000e+00, 1.00000000e+00, 1.00000000e+00, 1.00000000e+00,\n",
       "       1.00000000e+00, 1.00000000e+00, 1.00000000e+00, 1.00000000e+00,\n",
       "       1.00000000e+00, 1.00000000e+00, 1.00000000e+00, 1.00000000e+00,\n",
       "       1.00000000e+00, 1.00000000e+00, 1.00000000e+00, 1.00000000e+00,\n",
       "       1.00000000e+00, 1.00000000e+00, 1.00000000e+00, 1.00000000e+00,\n",
       "       1.00000000e+00, 1.00000000e+00, 1.00000000e+00, 1.00000000e+00,\n",
       "       1.00000000e+00, 1.00000000e+00, 1.00000000e+00, 1.00000000e+00,\n",
       "       1.00000000e+00, 1.00000000e+00, 1.00000000e+00, 1.00000000e+00,\n",
       "       1.00000000e+00, 1.00000000e+00, 1.00000000e+00, 1.00000000e+00,\n",
       "       1.00000000e+00, 1.00000000e+00, 1.00000000e+00, 1.00000000e+00,\n",
       "       1.00000000e+00, 1.00000000e+00, 1.00000000e+00, 1.00000000e+00,\n",
       "       1.00000000e+00, 1.00000000e+00, 1.00000000e+00, 1.00000000e+00,\n",
       "       1.00000000e+00, 1.00000000e+00, 1.00000000e+00, 1.00000000e+00,\n",
       "       1.00000000e+00, 1.00000000e+00, 1.00000000e+00, 1.00000000e+00,\n",
       "       1.00000000e+00, 1.00000000e+00, 1.00000000e+00, 1.00000000e+00,\n",
       "       1.00000000e+00, 1.00000000e+00, 1.00000000e+00, 1.00000000e+00,\n",
       "       1.00000000e+00, 1.00000000e+00, 1.00000000e+00, 1.00000000e+00,\n",
       "       1.00000000e+00, 1.00000000e+00, 1.00000000e+00, 1.00000000e+00,\n",
       "       1.00000000e+00, 1.00000000e+00, 1.00000000e+00, 1.00000000e+00,\n",
       "       1.00000000e+00, 1.00000000e+00, 1.00000000e+00, 1.00000000e+00,\n",
       "       1.00000000e+00, 1.00000000e+00, 1.00000000e+00, 1.00000000e+00,\n",
       "       1.00000000e+00, 1.00000000e+00, 1.00000000e+00, 1.00000000e+00,\n",
       "       1.00000000e+00, 1.00000000e+00, 1.00000000e+00, 1.00000000e+00,\n",
       "       1.00000000e+00, 1.00000000e+00, 1.00000000e+00, 1.00000000e+00,\n",
       "       1.00000000e+00, 1.00000000e+00, 1.00000000e+00, 1.00000000e+00,\n",
       "       1.00000000e+00, 1.00000000e+00, 1.00000000e+00, 1.00000000e+00,\n",
       "       1.00000000e+00, 1.00000000e+00, 1.00000000e+00, 1.00000000e+00,\n",
       "       1.00000000e+00, 1.00000000e+00, 1.00000000e+00, 1.00000000e+00,\n",
       "       1.00000000e+00, 1.00000000e+00, 1.00000000e+00, 1.00000000e+00,\n",
       "       1.00000000e+00, 1.00000000e+00, 1.00000000e+00, 1.00000000e+00,\n",
       "       1.00000000e+00, 1.00000000e+00, 1.00000000e+00, 1.00000000e+00,\n",
       "       1.00000000e+00, 1.00000000e+00, 1.00000000e+00, 1.00000000e+00,\n",
       "       1.00000000e+00, 1.00000000e+00, 1.00000000e+00, 1.00000000e+00,\n",
       "       1.00000000e+00, 1.00000000e+00, 1.00000000e+00, 1.00000000e+00,\n",
       "       1.00000000e+00, 1.00000000e+00, 1.00000000e+00, 1.00000000e+00,\n",
       "       1.00000000e+00, 1.00000000e+00, 1.00000000e+00, 1.00000000e+00,\n",
       "       1.00000000e+00, 1.00000000e+00, 1.00000000e+00, 1.00000000e+00,\n",
       "       1.00000000e+00, 1.00000000e+00, 1.00000000e+00, 1.00000000e+00,\n",
       "       1.00000000e+00, 1.00000000e+00, 1.00000000e+00, 1.00000000e+00,\n",
       "       1.00000000e+00, 1.00000000e+00, 1.00000000e+00, 1.00000000e+00,\n",
       "       1.00000000e+00, 1.00000000e+00, 1.00000000e+00, 1.00000000e+00,\n",
       "       1.00000000e+00, 1.00000000e+00, 1.00000000e+00, 1.00000000e+00,\n",
       "       1.00000000e+00, 1.00000000e+00, 1.00000000e+00, 1.00000000e+00,\n",
       "       1.00000000e+00, 1.00000000e+00, 1.00000000e+00, 1.00000000e+00,\n",
       "       1.00000000e+00, 1.00000000e+00, 1.00000000e+00, 1.00000000e+00,\n",
       "       1.00000000e+00, 1.00000000e+00, 1.00000000e+00, 1.00000000e+00,\n",
       "       1.00000000e+00, 1.00000000e+00, 1.00000000e+00, 1.00000000e+00,\n",
       "       1.00000000e+00, 1.00000000e+00, 1.00000000e+00, 1.00000000e+00,\n",
       "       1.00000000e+00, 1.00000000e+00, 1.00000000e+00, 1.00000000e+00,\n",
       "       1.00000000e+00, 1.00000000e+00, 1.00000000e+00, 1.00000000e+00,\n",
       "       1.00000000e+00, 1.00000000e+00, 1.00000000e+00, 1.00000000e+00,\n",
       "       1.00000000e+00, 1.00000000e+00, 1.00000000e+00, 1.00000000e+00,\n",
       "       1.00000000e+00, 1.00000000e+00, 1.00000000e+00, 1.00000000e+00,\n",
       "       1.00000000e+00, 1.00000000e+00, 1.00000000e+00, 1.00000000e+00,\n",
       "       1.00000000e+00, 1.00000000e+00, 1.00000000e+00, 1.00000000e+00,\n",
       "       1.00000000e+00, 1.00000000e+00, 1.00000000e+00, 1.00000000e+00,\n",
       "       1.00000000e+00, 1.00000000e+00, 1.00000000e+00, 1.00000000e+00,\n",
       "       1.00000000e+00, 1.00000000e+00, 1.00000000e+00, 1.00000000e+00,\n",
       "       1.00000000e+00, 1.00000000e+00, 1.00000000e+00, 1.00000000e+00,\n",
       "       1.00000000e+00])"
      ]
     },
     "execution_count": 25,
     "metadata": {},
     "output_type": "execute_result"
    }
   ],
   "source": [
    "forecasted_abatement"
   ]
  },
  {
   "cell_type": "markdown",
   "id": "351acbf6",
   "metadata": {},
   "source": [
    "## 4. Abatement to emissions"
   ]
  },
  {
   "cell_type": "code",
   "execution_count": 26,
   "id": "71ee6ad9",
   "metadata": {},
   "outputs": [],
   "source": [
    "CO2_baseline = 40"
   ]
  },
  {
   "cell_type": "code",
   "execution_count": 27,
   "id": "d5b39b78",
   "metadata": {},
   "outputs": [],
   "source": [
    "forecasted_emissions = abatement_to_emissions(forecasted_abatement, CO2_baseline)"
   ]
  },
  {
   "cell_type": "code",
   "execution_count": 28,
   "id": "3836f4ce",
   "metadata": {},
   "outputs": [
    {
     "data": {
      "text/plain": [
       "<matplotlib.legend.Legend at 0x11e2c6a90>"
      ]
     },
     "execution_count": 28,
     "metadata": {},
     "output_type": "execute_result"
    },
    {
     "data": {
      "image/png": "[encoded data removed]",
      "text/plain": [
       "<Figure size 432x288 with 1 Axes>"
      ]
     },
     "metadata": {
      "needs_background": "light"
     },
     "output_type": "display_data"
    }
   ],
   "source": [
    "# plt.plot(ssp245_CO2_past, label=\"historical emissions\")\n",
    "plt.plot(years[:len(forecasted_emissions)], forecasted_emissions, label=\"forecasted emissions\")\n",
    "plt.xlabel(\"Year\")\n",
    "plt.ylabel(\"CO2 Emissions / GtCO2\")\n",
    "plt.legend()"
   ]
  },
  {
   "cell_type": "code",
   "execution_count": 29,
   "id": "2f0de691",
   "metadata": {},
   "outputs": [
    {
     "data": {
      "text/plain": [
       "array([40.        , 39.99285668, 39.97694556, 39.95393821, 39.9243793 ,\n",
       "       39.8885203 , 39.84647696, 39.79828813, 39.74394386, 39.68340071,\n",
       "       39.61659107, 39.54342921, 39.46381543, 39.37763904, 39.28478068,\n",
       "       39.18511405, 39.07850738, 38.96482466, 38.84392672, 38.7156721 ,\n",
       "       38.57991802, 38.43652111, 38.28533824, 38.12622724, 37.95904762,\n",
       "       37.78366133, 37.59993345, 37.40773292, 37.20693325, 36.99741323,\n",
       "       36.77905768, 36.55175815, 36.31541367, 36.06993144, 35.8152276 ,\n",
       "       35.55122793, 35.27786855, 34.99509663, 34.70287112, 34.40116336,\n",
       "       34.08995776, 33.76925245, 33.43905982, 33.09940715, 32.75033704,\n",
       "       32.39190799, 32.02419475, 31.64728874, 31.26129832, 30.86634913,\n",
       "       30.46258418, 30.05016404, 29.62926686, 29.20008836, 28.76284171,\n",
       "       28.31775732, 27.86508264, 27.40508173, 26.9380349 , 26.46423813,\n",
       "       25.98400252, 25.49765362, 25.00553064, 24.50798566, 24.00538274,\n",
       "       23.49809694, 22.98651335, 22.47102596, 21.95203661, 21.42995379,\n",
       "       20.90519149, 20.37816794, 19.84930442, 19.319024  , 18.7877503 ,\n",
       "       18.25590626, 17.72391287, 17.19218802, 16.66114529, 16.13119281,\n",
       "       15.60273215, 15.07615727, 14.55185351, 14.03019663, 13.51155196,\n",
       "       12.99627353, 12.48470334, 11.97717069, 11.47399154, 10.97546798,\n",
       "       10.4818878 ,  9.99352405,  9.51063476,  9.03346268,  8.56223512,\n",
       "        8.09716385,  7.63844504,  7.18625931,  6.7407718 ,  6.30213234,\n",
       "        5.87047561,  5.44592141,  5.02857493,  4.61852711,  4.21585499,\n",
       "        3.82062212,  3.43287898,  3.05266346,  2.68000131,  2.31490664,\n",
       "        1.95738245,  1.60742116,  1.26500507,  0.93010697,  0.60269063,\n",
       "        0.28271136,  0.        ,  0.        ,  0.        ,  0.        ,\n",
       "        0.        ,  0.        ,  0.        ,  0.        ,  0.        ,\n",
       "        0.        ,  0.        ,  0.        ,  0.        ,  0.        ,\n",
       "        0.        ,  0.        ,  0.        ,  0.        ,  0.        ,\n",
       "        0.        ,  0.        ,  0.        ,  0.        ,  0.        ,\n",
       "        0.        ,  0.        ,  0.        ,  0.        ,  0.        ,\n",
       "        0.        ,  0.        ,  0.        ,  0.        ,  0.        ,\n",
       "        0.        ,  0.        ,  0.        ,  0.        ,  0.        ,\n",
       "        0.        ,  0.        ,  0.        ,  0.        ,  0.        ,\n",
       "        0.        ,  0.        ,  0.        ,  0.        ,  0.        ,\n",
       "        0.        ,  0.        ,  0.        ,  0.        ,  0.        ,\n",
       "        0.        ,  0.        ,  0.        ,  0.        ,  0.        ,\n",
       "        0.        ,  0.        ,  0.        ,  0.        ,  0.        ,\n",
       "        0.        ,  0.        ,  0.        ,  0.        ,  0.        ,\n",
       "        0.        ,  0.        ,  0.        ,  0.        ,  0.        ,\n",
       "        0.        ,  0.        ,  0.        ,  0.        ,  0.        ,\n",
       "        0.        ,  0.        ,  0.        ,  0.        ,  0.        ,\n",
       "        0.        ,  0.        ,  0.        ,  0.        ,  0.        ,\n",
       "        0.        ,  0.        ,  0.        ,  0.        ,  0.        ,\n",
       "        0.        ,  0.        ,  0.        ,  0.        ,  0.        ,\n",
       "        0.        ,  0.        ,  0.        ,  0.        ,  0.        ,\n",
       "        0.        ,  0.        ,  0.        ,  0.        ,  0.        ,\n",
       "        0.        ,  0.        ,  0.        ,  0.        ,  0.        ,\n",
       "        0.        ,  0.        ,  0.        ,  0.        ,  0.        ,\n",
       "        0.        ,  0.        ,  0.        ,  0.        ,  0.        ,\n",
       "        0.        ,  0.        ,  0.        ,  0.        ,  0.        ,\n",
       "        0.        ,  0.        ,  0.        ,  0.        ,  0.        ,\n",
       "        0.        ,  0.        ,  0.        ,  0.        ,  0.        ,\n",
       "        0.        ,  0.        ,  0.        ,  0.        ,  0.        ,\n",
       "        0.        ,  0.        ,  0.        ,  0.        ,  0.        ,\n",
       "        0.        ,  0.        ,  0.        ,  0.        ,  0.        ,\n",
       "        0.        ,  0.        ,  0.        ,  0.        ,  0.        ,\n",
       "        0.        ,  0.        ,  0.        ,  0.        ,  0.        ,\n",
       "        0.        ,  0.        ,  0.        ,  0.        ,  0.        ,\n",
       "        0.        ,  0.        ,  0.        ,  0.        ,  0.        ,\n",
       "        0.        ,  0.        ,  0.        ,  0.        ,  0.        ,\n",
       "        0.        ,  0.        ,  0.        ,  0.        ,  0.        ,\n",
       "        0.        ,  0.        ,  0.        ,  0.        ,  0.        ,\n",
       "        0.        ,  0.        ,  0.        ,  0.        ,  0.        ,\n",
       "        0.        ,  0.        ,  0.        ,  0.        ,  0.        ,\n",
       "        0.        ,  0.        ,  0.        ,  0.        ,  0.        ,\n",
       "        0.        ,  0.        ,  0.        ,  0.        ,  0.        ,\n",
       "        0.        ,  0.        ,  0.        ,  0.        ,  0.        ,\n",
       "        0.        ,  0.        ,  0.        ,  0.        ,  0.        ,\n",
       "        0.        ,  0.        ,  0.        ,  0.        ,  0.        ,\n",
       "        0.        ,  0.        ,  0.        ,  0.        ,  0.        ,\n",
       "        0.        ,  0.        ,  0.        ,  0.        ,  0.        ,\n",
       "        0.        ,  0.        ,  0.        ,  0.        ,  0.        ,\n",
       "        0.        ,  0.        ,  0.        ,  0.        ,  0.        ,\n",
       "        0.        ,  0.        ,  0.        ,  0.        ,  0.        ,\n",
       "        0.        ,  0.        ,  0.        ,  0.        ,  0.        ,\n",
       "        0.        ,  0.        ,  0.        ,  0.        ,  0.        ,\n",
       "        0.        ,  0.        ,  0.        ,  0.        ,  0.        ,\n",
       "        0.        ,  0.        ,  0.        ,  0.        ,  0.        ,\n",
       "        0.        ,  0.        ,  0.        ,  0.        ,  0.        ,\n",
       "        0.        ,  0.        ,  0.        ,  0.        ,  0.        ,\n",
       "        0.        ,  0.        ,  0.        ,  0.        ,  0.        ,\n",
       "        0.        ,  0.        ,  0.        ,  0.        ,  0.        ,\n",
       "        0.        ,  0.        ,  0.        ,  0.        ,  0.        ,\n",
       "        0.        ,  0.        ,  0.        ,  0.        ,  0.        ,\n",
       "        0.        ,  0.        ,  0.        ,  0.        ,  0.        ,\n",
       "        0.        ,  0.        ,  0.        ,  0.        ,  0.        ,\n",
       "        0.        ,  0.        ,  0.        ,  0.        ,  0.        ,\n",
       "        0.        ,  0.        ,  0.        ,  0.        ,  0.        ,\n",
       "        0.        ,  0.        ,  0.        ,  0.        ,  0.        ,\n",
       "        0.        ,  0.        ,  0.        ,  0.        ,  0.        ,\n",
       "        0.        ,  0.        ,  0.        ,  0.        ,  0.        ,\n",
       "        0.        ,  0.        ,  0.        ,  0.        ,  0.        ,\n",
       "        0.        ,  0.        ,  0.        ,  0.        ,  0.        ,\n",
       "        0.        ,  0.        ,  0.        ,  0.        ,  0.        ,\n",
       "        0.        ,  0.        ,  0.        ,  0.        ,  0.        ,\n",
       "        0.        ,  0.        ,  0.        ,  0.        ,  0.        ,\n",
       "        0.        ,  0.        ,  0.        ,  0.        ,  0.        ,\n",
       "        0.        ,  0.        ,  0.        ,  0.        ,  0.        ,\n",
       "        0.        ,  0.        ,  0.        ,  0.        ,  0.        ,\n",
       "        0.        ,  0.        ,  0.        ,  0.        ,  0.        ,\n",
       "        0.        ,  0.        ,  0.        ,  0.        ,  0.        ,\n",
       "        0.        ,  0.        ,  0.        ,  0.        ,  0.        ,\n",
       "        0.        ,  0.        ,  0.        ,  0.        ,  0.        ,\n",
       "        0.        ,  0.        ,  0.        ,  0.        ,  0.        ,\n",
       "        0.        ,  0.        ,  0.        ,  0.        ,  0.        ,\n",
       "        0.        ,  0.        ,  0.        ,  0.        ,  0.        ,\n",
       "        0.        ,  0.        ,  0.        ,  0.        ,  0.        ,\n",
       "        0.        ,  0.        ,  0.        ,  0.        ,  0.        ,\n",
       "        0.        ,  0.        ,  0.        ,  0.        ,  0.        ,\n",
       "        0.        ,  0.        ,  0.        ,  0.        ,  0.        ,\n",
       "        0.        ,  0.        ,  0.        ,  0.        ,  0.        ,\n",
       "        0.        ,  0.        ,  0.        ,  0.        ,  0.        ,\n",
       "        0.        ,  0.        ,  0.        ,  0.        ,  0.        ,\n",
       "        0.        ,  0.        ,  0.        ,  0.        ,  0.        ,\n",
       "        0.        ,  0.        ,  0.        ,  0.        ,  0.        ,\n",
       "        0.        ,  0.        ,  0.        ,  0.        ,  0.        ,\n",
       "        0.        ,  0.        ,  0.        ,  0.        ,  0.        ,\n",
       "        0.        ,  0.        ,  0.        ,  0.        ,  0.        ,\n",
       "        0.        ,  0.        ,  0.        ,  0.        ,  0.        ,\n",
       "        0.        ,  0.        ,  0.        ,  0.        ,  0.        ,\n",
       "        0.        ,  0.        ,  0.        ,  0.        ,  0.        ,\n",
       "        0.        ,  0.        ,  0.        ,  0.        ,  0.        ,\n",
       "        0.        ,  0.        ,  0.        ,  0.        ,  0.        ,\n",
       "        0.        ,  0.        ,  0.        ,  0.        ,  0.        ,\n",
       "        0.        ,  0.        ,  0.        ,  0.        ,  0.        ,\n",
       "        0.        ,  0.        ,  0.        ,  0.        ,  0.        ,\n",
       "        0.        ,  0.        ,  0.        ,  0.        ,  0.        ,\n",
       "        0.        ,  0.        ,  0.        ,  0.        ,  0.        ,\n",
       "        0.        ,  0.        ,  0.        ,  0.        ,  0.        ,\n",
       "        0.        ,  0.        ,  0.        ,  0.        ,  0.        ,\n",
       "        0.        ,  0.        ,  0.        ,  0.        ,  0.        ,\n",
       "        0.        ,  0.        ,  0.        ,  0.        ,  0.        ,\n",
       "        0.        ,  0.        ,  0.        ,  0.        ,  0.        ,\n",
       "        0.        ,  0.        ,  0.        ,  0.        ,  0.        ,\n",
       "        0.        ,  0.        ,  0.        ,  0.        ,  0.        ,\n",
       "        0.        ,  0.        ,  0.        ,  0.        ,  0.        ,\n",
       "        0.        ,  0.        ,  0.        ,  0.        ,  0.        ,\n",
       "        0.        ,  0.        ,  0.        ,  0.        ,  0.        ,\n",
       "        0.        ,  0.        ,  0.        ,  0.        ,  0.        ,\n",
       "        0.        ,  0.        ,  0.        ,  0.        ,  0.        ,\n",
       "        0.        ,  0.        ,  0.        ,  0.        ,  0.        ,\n",
       "        0.        ,  0.        ,  0.        ,  0.        ,  0.        ,\n",
       "        0.        ,  0.        ,  0.        ,  0.        ,  0.        ,\n",
       "        0.        ,  0.        ,  0.        ,  0.        ,  0.        ,\n",
       "        0.        ,  0.        ,  0.        ,  0.        ,  0.        ,\n",
       "        0.        ,  0.        ,  0.        ,  0.        ,  0.        ,\n",
       "        0.        ,  0.        ,  0.        ,  0.        ,  0.        ,\n",
       "        0.        ,  0.        ,  0.        ,  0.        ,  0.        ,\n",
       "        0.        ,  0.        ,  0.        ,  0.        ,  0.        ,\n",
       "        0.        ,  0.        ,  0.        ,  0.        ,  0.        ,\n",
       "        0.        ,  0.        ,  0.        ,  0.        ,  0.        ,\n",
       "        0.        ,  0.        ,  0.        ,  0.        ,  0.        ,\n",
       "        0.        ,  0.        ,  0.        ,  0.        ,  0.        ,\n",
       "        0.        ,  0.        ,  0.        ,  0.        ,  0.        ,\n",
       "        0.        ,  0.        ,  0.        ,  0.        ,  0.        ,\n",
       "        0.        ,  0.        ,  0.        ,  0.        ,  0.        ,\n",
       "        0.        ,  0.        ,  0.        ,  0.        ,  0.        ,\n",
       "        0.        ,  0.        ,  0.        ,  0.        ,  0.        ,\n",
       "        0.        ,  0.        ,  0.        ,  0.        ,  0.        ,\n",
       "        0.        ,  0.        ,  0.        ,  0.        ,  0.        ,\n",
       "        0.        ,  0.        ,  0.        ,  0.        ,  0.        ,\n",
       "        0.        ,  0.        ,  0.        ,  0.        ,  0.        ,\n",
       "        0.        ,  0.        ,  0.        ,  0.        ,  0.        ,\n",
       "        0.        ,  0.        ,  0.        ,  0.        ,  0.        ,\n",
       "        0.        ,  0.        ,  0.        ,  0.        ,  0.        ,\n",
       "        0.        ,  0.        ,  0.        ,  0.        ,  0.        ,\n",
       "        0.        ,  0.        ,  0.        ,  0.        ,  0.        ,\n",
       "        0.        ,  0.        ,  0.        ,  0.        ,  0.        ,\n",
       "        0.        ,  0.        ,  0.        ,  0.        ,  0.        ,\n",
       "        0.        ,  0.        ,  0.        ,  0.        ,  0.        ,\n",
       "        0.        ,  0.        ,  0.        ,  0.        ,  0.        ,\n",
       "        0.        ,  0.        ,  0.        ,  0.        ,  0.        ,\n",
       "        0.        ,  0.        ,  0.        ,  0.        ,  0.        ,\n",
       "        0.        ,  0.        ,  0.        ,  0.        ,  0.        ,\n",
       "        0.        ,  0.        ,  0.        ,  0.        ,  0.        ,\n",
       "        0.        ,  0.        ,  0.        ,  0.        ,  0.        ,\n",
       "        0.        ,  0.        ,  0.        ,  0.        ,  0.        ,\n",
       "        0.        ,  0.        ,  0.        ,  0.        ,  0.        ,\n",
       "        0.        ,  0.        ,  0.        ,  0.        ,  0.        ,\n",
       "        0.        ,  0.        ,  0.        ,  0.        ,  0.        ,\n",
       "        0.        ,  0.        ,  0.        ,  0.        ,  0.        ,\n",
       "        0.        ,  0.        ,  0.        ,  0.        ,  0.        ,\n",
       "        0.        ,  0.        ,  0.        ,  0.        ,  0.        ,\n",
       "        0.        ,  0.        ,  0.        ,  0.        ,  0.        ,\n",
       "        0.        ,  0.        ,  0.        ,  0.        ,  0.        ,\n",
       "        0.        ,  0.        ,  0.        ,  0.        ,  0.        ,\n",
       "        0.        ,  0.        ,  0.        ,  0.        ,  0.        ,\n",
       "        0.        ,  0.        ,  0.        ,  0.        ,  0.        ,\n",
       "        0.        ,  0.        ,  0.        ,  0.        ,  0.        ,\n",
       "        0.        ,  0.        ,  0.        ,  0.        ,  0.        ,\n",
       "        0.        ,  0.        ,  0.        ,  0.        ,  0.        ,\n",
       "        0.        ,  0.        ,  0.        ,  0.        ,  0.        ,\n",
       "        0.        ,  0.        ,  0.        ,  0.        ,  0.        ,\n",
       "        0.        ,  0.        ,  0.        ,  0.        ,  0.        ,\n",
       "        0.        ,  0.        ,  0.        ,  0.        ,  0.        ,\n",
       "        0.        ,  0.        ,  0.        ,  0.        ,  0.        ,\n",
       "        0.        ,  0.        ,  0.        ,  0.        ,  0.        ,\n",
       "        0.        ])"
      ]
     },
     "execution_count": 29,
     "metadata": {},
     "output_type": "execute_result"
    }
   ],
   "source": [
    "forecasted_emissions"
   ]
  },
  {
   "cell_type": "markdown",
   "id": "3a514bf1",
   "metadata": {},
   "source": [
    "## 5. Cumulative Emissions to Temperature Change"
   ]
  },
  {
   "cell_type": "code",
   "execution_count": 30,
   "id": "3a0a6ff5",
   "metadata": {},
   "outputs": [],
   "source": [
    "T_forecast = np.ones(num_of_years)*T_0\n",
    "\n",
    "for i in range(len(forecasted_emissions)):\n",
    "    emission_size = forecasted_emissions[i]\n",
    "    if emission_size != 0:\n",
    "        T_forecast = perturb_T_geometrically(years, T=T_forecast, perturbed_year=years[i], T_TCRE_1=T_TCRE_1, k_s=k_s,size_of_perturbation=emission_size)"
   ]
  },
  {
   "cell_type": "code",
   "execution_count": 31,
   "id": "71c0b689",
   "metadata": {},
   "outputs": [],
   "source": [
    "# create_geometric_T_perturbed(years, T=T_forecast_iteration, SCC_year=year_of_perturbation[j], T_TCRE=T_TCRE_1*size_of_perturbation, k_s=k_s)"
   ]
  },
  {
   "cell_type": "code",
   "execution_count": 32,
   "id": "99089887",
   "metadata": {},
   "outputs": [
    {
     "data": {
      "text/plain": [
       "2.4699242596823923"
      ]
     },
     "execution_count": 32,
     "metadata": {},
     "output_type": "execute_result"
    }
   ],
   "source": [
    "T_forecast[-1]"
   ]
  },
  {
   "cell_type": "code",
   "execution_count": null,
   "id": "0a7727e0",
   "metadata": {},
   "outputs": [],
   "source": []
  },
  {
   "cell_type": "code",
   "execution_count": 33,
   "id": "73bf2aa6",
   "metadata": {},
   "outputs": [],
   "source": [
    "# cumulative_emissions_array = np.append(np.zeros(1), np.cumsum(forecasted_emissions)[:-1])"
   ]
  },
  {
   "cell_type": "code",
   "execution_count": 34,
   "id": "0ea3fb64",
   "metadata": {},
   "outputs": [],
   "source": [
    "# temperature_change = T_TCRE_1*cumulative_emissions_array"
   ]
  },
  {
   "cell_type": "code",
   "execution_count": 35,
   "id": "6fd34d07",
   "metadata": {},
   "outputs": [],
   "source": [
    "# max(temperature_change)"
   ]
  },
  {
   "cell_type": "code",
   "execution_count": 36,
   "id": "178fc6b2",
   "metadata": {},
   "outputs": [],
   "source": [
    "T_forecast_iteration0 = T_forecast"
   ]
  },
  {
   "cell_type": "code",
   "execution_count": 37,
   "id": "098a473c",
   "metadata": {},
   "outputs": [],
   "source": [
    "# T_forecast_iteration0 = T_0 + temperature_change\n",
    "# T_forecast_iteration0_plateau = T_2019 + temperature_change_plateau"
   ]
  },
  {
   "cell_type": "code",
   "execution_count": 38,
   "id": "2d4905dc",
   "metadata": {
    "scrolled": true
   },
   "outputs": [
    {
     "data": {
      "text/plain": [
       "<matplotlib.legend.Legend at 0x11e85eb50>"
      ]
     },
     "execution_count": 38,
     "metadata": {},
     "output_type": "execute_result"
    },
    {
     "data": {
      "image/png": "[encoded data removed]",
      "text/plain": [
       "<Figure size 432x288 with 1 Axes>"
      ]
     },
     "metadata": {
      "needs_background": "light"
     },
     "output_type": "display_data"
    }
   ],
   "source": [
    "plt.plot(years, T, label=\"initial guess\")\n",
    "plt.plot(years, T_forecast_iteration0, label=\"iteration 0\")\n",
    "# plt.plot(T_forecast_years, T_forecast_iteration0_plateau, label=\"iteration 0 plateau\")\n",
    "plt.xlabel(\"year\")\n",
    "plt.ylabel(\"temperature / K\")\n",
    "plt.legend()"
   ]
  },
  {
   "cell_type": "code",
   "execution_count": 39,
   "id": "dfd643a0",
   "metadata": {},
   "outputs": [
    {
     "data": {
      "text/plain": [
       "array([1.2       , 1.20203543, 1.20587577, 1.2113161 , 1.21817433,\n",
       "       1.22628861, 1.2355151 , 1.24572588, 1.2568072 , 1.26865785,\n",
       "       1.28118775, 1.2943167 , 1.30797323, 1.32209364, 1.33662108,\n",
       "       1.3515048 , 1.36669944, 1.38216442, 1.39786339, 1.41376372,\n",
       "       1.42983613, 1.44605425, 1.46239431, 1.47883482, 1.49535633,\n",
       "       1.51194117, 1.52857325, 1.54523789, 1.56192162, 1.57861207,\n",
       "       1.59529781, 1.61196826, 1.6286136 , 1.64522463, 1.66179273,\n",
       "       1.67830981, 1.6947682 , 1.71116062, 1.72748015, 1.74372016,\n",
       "       1.75987428, 1.7759364 , 1.7919006 , 1.80776114, 1.82351247,\n",
       "       1.83914918, 1.85466598, 1.87005773, 1.88531938, 1.900446  ,\n",
       "       1.91543278, 1.93027497, 1.94496793, 1.95950713, 1.97388812,\n",
       "       1.98810653, 2.0021581 , 2.01603866, 2.02974415, 2.04327058,\n",
       "       2.05661411, 2.06977098, 2.08273754, 2.09551027, 2.10808578,\n",
       "       2.12046078, 2.13263215, 2.14459687, 2.15635208, 2.16789507,\n",
       "       2.17922326, 2.19033424, 2.20122575, 2.21189571, 2.22234217,\n",
       "       2.23256339, 2.24255775, 2.25232386, 2.26186046, 2.27116648,\n",
       "       2.28024102, 2.28908338, 2.29769301, 2.30606955, 2.31421282,\n",
       "       2.32212279, 2.32979963, 2.33724367, 2.34445541, 2.35143552,\n",
       "       2.35818481, 2.36470427, 2.37099505, 2.37705842, 2.38289583,\n",
       "       2.38850884, 2.39389916, 2.39906864, 2.40401923, 2.40875302,\n",
       "       2.41327221, 2.41757909, 2.42167607, 2.42556565, 2.42925042,\n",
       "       2.43273304, 2.43601626, 2.4391029 , 2.44199585, 2.44469803,\n",
       "       2.44721245, 2.44954214, 2.45169019, 2.4536597 , 2.45545384,\n",
       "       2.45707576, 2.45852866, 2.45981727, 2.46096017, 2.46197382,\n",
       "       2.46287285, 2.46367022, 2.46437743, 2.46500466, 2.46556097,\n",
       "       2.46605437, 2.46649197, 2.46688009, 2.46722433, 2.46752963,\n",
       "       2.46780042, 2.46804058, 2.46825359, 2.46844251, 2.46861006,\n",
       "       2.46875867, 2.46889047, 2.46900737, 2.46911106, 2.46920301,\n",
       "       2.46928457, 2.46935691, 2.46942106, 2.46947796, 2.46952843,\n",
       "       2.46957319, 2.46961289, 2.4696481 , 2.46967933, 2.46970702,\n",
       "       2.46973159, 2.46975338, 2.4697727 , 2.46978984, 2.46980504,\n",
       "       2.46981852, 2.46983048, 2.46984108, 2.46985049, 2.46985883,\n",
       "       2.46986623, 2.46987279, 2.46987861, 2.46988377, 2.46988835,\n",
       "       2.46989241, 2.46989601, 2.46989921, 2.46990204, 2.46990455,\n",
       "       2.46990678, 2.46990876, 2.46991051, 2.46991207, 2.46991344,\n",
       "       2.46991467, 2.46991575, 2.46991671, 2.46991757, 2.46991832,\n",
       "       2.469919  , 2.46991959, 2.46992012, 2.46992059, 2.469921  ,\n",
       "       2.46992137, 2.4699217 , 2.46992199, 2.46992224, 2.46992247,\n",
       "       2.46992267, 2.46992285, 2.46992301, 2.46992315, 2.46992328,\n",
       "       2.46992339, 2.46992349, 2.46992358, 2.46992365, 2.46992372,\n",
       "       2.46992378, 2.46992384, 2.46992388, 2.46992393, 2.46992396,\n",
       "       2.469924  , 2.46992403, 2.46992405, 2.46992408, 2.4699241 ,\n",
       "       2.46992412, 2.46992413, 2.46992415, 2.46992416, 2.46992417,\n",
       "       2.46992418, 2.46992419, 2.4699242 , 2.4699242 , 2.46992421,\n",
       "       2.46992422, 2.46992422, 2.46992423, 2.46992423, 2.46992423,\n",
       "       2.46992424, 2.46992424, 2.46992424, 2.46992424, 2.46992424,\n",
       "       2.46992425, 2.46992425, 2.46992425, 2.46992425, 2.46992425,\n",
       "       2.46992425, 2.46992425, 2.46992425, 2.46992425, 2.46992426,\n",
       "       2.46992426, 2.46992426, 2.46992426, 2.46992426, 2.46992426,\n",
       "       2.46992426, 2.46992426, 2.46992426, 2.46992426, 2.46992426,\n",
       "       2.46992426, 2.46992426, 2.46992426, 2.46992426, 2.46992426,\n",
       "       2.46992426, 2.46992426, 2.46992426, 2.46992426, 2.46992426,\n",
       "       2.46992426, 2.46992426, 2.46992426, 2.46992426, 2.46992426,\n",
       "       2.46992426, 2.46992426, 2.46992426, 2.46992426, 2.46992426,\n",
       "       2.46992426, 2.46992426, 2.46992426, 2.46992426, 2.46992426,\n",
       "       2.46992426, 2.46992426, 2.46992426, 2.46992426, 2.46992426,\n",
       "       2.46992426, 2.46992426, 2.46992426, 2.46992426, 2.46992426,\n",
       "       2.46992426, 2.46992426, 2.46992426, 2.46992426, 2.46992426,\n",
       "       2.46992426, 2.46992426, 2.46992426, 2.46992426, 2.46992426,\n",
       "       2.46992426, 2.46992426, 2.46992426, 2.46992426, 2.46992426,\n",
       "       2.46992426, 2.46992426, 2.46992426, 2.46992426, 2.46992426,\n",
       "       2.46992426, 2.46992426, 2.46992426, 2.46992426, 2.46992426,\n",
       "       2.46992426, 2.46992426, 2.46992426, 2.46992426, 2.46992426,\n",
       "       2.46992426, 2.46992426, 2.46992426, 2.46992426, 2.46992426,\n",
       "       2.46992426, 2.46992426, 2.46992426, 2.46992426, 2.46992426,\n",
       "       2.46992426, 2.46992426, 2.46992426, 2.46992426, 2.46992426,\n",
       "       2.46992426, 2.46992426, 2.46992426, 2.46992426, 2.46992426,\n",
       "       2.46992426, 2.46992426, 2.46992426, 2.46992426, 2.46992426,\n",
       "       2.46992426, 2.46992426, 2.46992426, 2.46992426, 2.46992426,\n",
       "       2.46992426, 2.46992426, 2.46992426, 2.46992426, 2.46992426,\n",
       "       2.46992426, 2.46992426, 2.46992426, 2.46992426, 2.46992426,\n",
       "       2.46992426, 2.46992426, 2.46992426, 2.46992426, 2.46992426,\n",
       "       2.46992426, 2.46992426, 2.46992426, 2.46992426, 2.46992426,\n",
       "       2.46992426, 2.46992426, 2.46992426, 2.46992426, 2.46992426,\n",
       "       2.46992426, 2.46992426, 2.46992426, 2.46992426, 2.46992426,\n",
       "       2.46992426, 2.46992426, 2.46992426, 2.46992426, 2.46992426,\n",
       "       2.46992426, 2.46992426, 2.46992426, 2.46992426, 2.46992426,\n",
       "       2.46992426, 2.46992426, 2.46992426, 2.46992426, 2.46992426,\n",
       "       2.46992426, 2.46992426, 2.46992426, 2.46992426, 2.46992426,\n",
       "       2.46992426, 2.46992426, 2.46992426, 2.46992426, 2.46992426,\n",
       "       2.46992426, 2.46992426, 2.46992426, 2.46992426, 2.46992426,\n",
       "       2.46992426, 2.46992426, 2.46992426, 2.46992426, 2.46992426,\n",
       "       2.46992426, 2.46992426, 2.46992426, 2.46992426, 2.46992426,\n",
       "       2.46992426, 2.46992426, 2.46992426, 2.46992426, 2.46992426,\n",
       "       2.46992426, 2.46992426, 2.46992426, 2.46992426, 2.46992426,\n",
       "       2.46992426, 2.46992426, 2.46992426, 2.46992426, 2.46992426,\n",
       "       2.46992426, 2.46992426, 2.46992426, 2.46992426, 2.46992426,\n",
       "       2.46992426, 2.46992426, 2.46992426, 2.46992426, 2.46992426,\n",
       "       2.46992426, 2.46992426, 2.46992426, 2.46992426, 2.46992426,\n",
       "       2.46992426, 2.46992426, 2.46992426, 2.46992426, 2.46992426,\n",
       "       2.46992426, 2.46992426, 2.46992426, 2.46992426, 2.46992426,\n",
       "       2.46992426, 2.46992426, 2.46992426, 2.46992426, 2.46992426,\n",
       "       2.46992426, 2.46992426, 2.46992426, 2.46992426, 2.46992426,\n",
       "       2.46992426, 2.46992426, 2.46992426, 2.46992426, 2.46992426,\n",
       "       2.46992426, 2.46992426, 2.46992426, 2.46992426, 2.46992426,\n",
       "       2.46992426, 2.46992426, 2.46992426, 2.46992426, 2.46992426,\n",
       "       2.46992426, 2.46992426, 2.46992426, 2.46992426, 2.46992426,\n",
       "       2.46992426, 2.46992426, 2.46992426, 2.46992426, 2.46992426,\n",
       "       2.46992426, 2.46992426, 2.46992426, 2.46992426, 2.46992426,\n",
       "       2.46992426, 2.46992426, 2.46992426, 2.46992426, 2.46992426,\n",
       "       2.46992426, 2.46992426, 2.46992426, 2.46992426, 2.46992426,\n",
       "       2.46992426, 2.46992426, 2.46992426, 2.46992426, 2.46992426,\n",
       "       2.46992426, 2.46992426, 2.46992426, 2.46992426, 2.46992426,\n",
       "       2.46992426, 2.46992426, 2.46992426, 2.46992426, 2.46992426,\n",
       "       2.46992426, 2.46992426, 2.46992426, 2.46992426, 2.46992426,\n",
       "       2.46992426, 2.46992426, 2.46992426, 2.46992426, 2.46992426,\n",
       "       2.46992426, 2.46992426, 2.46992426, 2.46992426, 2.46992426,\n",
       "       2.46992426, 2.46992426, 2.46992426, 2.46992426, 2.46992426,\n",
       "       2.46992426, 2.46992426, 2.46992426, 2.46992426, 2.46992426,\n",
       "       2.46992426, 2.46992426, 2.46992426, 2.46992426, 2.46992426,\n",
       "       2.46992426, 2.46992426, 2.46992426, 2.46992426, 2.46992426,\n",
       "       2.46992426, 2.46992426, 2.46992426, 2.46992426, 2.46992426,\n",
       "       2.46992426, 2.46992426, 2.46992426, 2.46992426, 2.46992426,\n",
       "       2.46992426, 2.46992426, 2.46992426, 2.46992426, 2.46992426,\n",
       "       2.46992426, 2.46992426, 2.46992426, 2.46992426, 2.46992426,\n",
       "       2.46992426, 2.46992426, 2.46992426, 2.46992426, 2.46992426,\n",
       "       2.46992426, 2.46992426, 2.46992426, 2.46992426, 2.46992426,\n",
       "       2.46992426, 2.46992426, 2.46992426, 2.46992426, 2.46992426,\n",
       "       2.46992426, 2.46992426, 2.46992426, 2.46992426, 2.46992426,\n",
       "       2.46992426, 2.46992426, 2.46992426, 2.46992426, 2.46992426,\n",
       "       2.46992426, 2.46992426, 2.46992426, 2.46992426, 2.46992426,\n",
       "       2.46992426, 2.46992426, 2.46992426, 2.46992426, 2.46992426,\n",
       "       2.46992426, 2.46992426, 2.46992426, 2.46992426, 2.46992426,\n",
       "       2.46992426, 2.46992426, 2.46992426, 2.46992426, 2.46992426,\n",
       "       2.46992426, 2.46992426, 2.46992426, 2.46992426, 2.46992426,\n",
       "       2.46992426, 2.46992426, 2.46992426, 2.46992426, 2.46992426,\n",
       "       2.46992426, 2.46992426, 2.46992426, 2.46992426, 2.46992426,\n",
       "       2.46992426, 2.46992426, 2.46992426, 2.46992426, 2.46992426,\n",
       "       2.46992426, 2.46992426, 2.46992426, 2.46992426, 2.46992426,\n",
       "       2.46992426, 2.46992426, 2.46992426, 2.46992426, 2.46992426,\n",
       "       2.46992426, 2.46992426, 2.46992426, 2.46992426, 2.46992426,\n",
       "       2.46992426, 2.46992426, 2.46992426, 2.46992426, 2.46992426,\n",
       "       2.46992426, 2.46992426, 2.46992426, 2.46992426, 2.46992426,\n",
       "       2.46992426, 2.46992426, 2.46992426, 2.46992426, 2.46992426,\n",
       "       2.46992426, 2.46992426, 2.46992426, 2.46992426, 2.46992426,\n",
       "       2.46992426, 2.46992426, 2.46992426, 2.46992426, 2.46992426,\n",
       "       2.46992426, 2.46992426, 2.46992426, 2.46992426, 2.46992426,\n",
       "       2.46992426, 2.46992426, 2.46992426, 2.46992426, 2.46992426,\n",
       "       2.46992426, 2.46992426, 2.46992426, 2.46992426, 2.46992426,\n",
       "       2.46992426, 2.46992426, 2.46992426, 2.46992426, 2.46992426,\n",
       "       2.46992426, 2.46992426, 2.46992426, 2.46992426, 2.46992426,\n",
       "       2.46992426, 2.46992426, 2.46992426, 2.46992426, 2.46992426,\n",
       "       2.46992426, 2.46992426, 2.46992426, 2.46992426, 2.46992426,\n",
       "       2.46992426, 2.46992426, 2.46992426, 2.46992426, 2.46992426,\n",
       "       2.46992426, 2.46992426, 2.46992426, 2.46992426, 2.46992426,\n",
       "       2.46992426, 2.46992426, 2.46992426, 2.46992426, 2.46992426,\n",
       "       2.46992426, 2.46992426, 2.46992426, 2.46992426, 2.46992426,\n",
       "       2.46992426, 2.46992426, 2.46992426, 2.46992426, 2.46992426,\n",
       "       2.46992426, 2.46992426, 2.46992426, 2.46992426, 2.46992426,\n",
       "       2.46992426, 2.46992426, 2.46992426, 2.46992426, 2.46992426,\n",
       "       2.46992426, 2.46992426, 2.46992426, 2.46992426, 2.46992426,\n",
       "       2.46992426, 2.46992426, 2.46992426, 2.46992426, 2.46992426,\n",
       "       2.46992426, 2.46992426, 2.46992426, 2.46992426, 2.46992426,\n",
       "       2.46992426, 2.46992426, 2.46992426, 2.46992426, 2.46992426,\n",
       "       2.46992426, 2.46992426, 2.46992426, 2.46992426, 2.46992426,\n",
       "       2.46992426, 2.46992426, 2.46992426, 2.46992426, 2.46992426,\n",
       "       2.46992426, 2.46992426, 2.46992426, 2.46992426, 2.46992426,\n",
       "       2.46992426, 2.46992426, 2.46992426, 2.46992426, 2.46992426,\n",
       "       2.46992426, 2.46992426, 2.46992426, 2.46992426, 2.46992426,\n",
       "       2.46992426, 2.46992426, 2.46992426, 2.46992426, 2.46992426,\n",
       "       2.46992426, 2.46992426, 2.46992426, 2.46992426, 2.46992426,\n",
       "       2.46992426, 2.46992426, 2.46992426, 2.46992426, 2.46992426,\n",
       "       2.46992426, 2.46992426, 2.46992426, 2.46992426, 2.46992426,\n",
       "       2.46992426, 2.46992426, 2.46992426, 2.46992426, 2.46992426,\n",
       "       2.46992426, 2.46992426, 2.46992426, 2.46992426, 2.46992426,\n",
       "       2.46992426, 2.46992426, 2.46992426, 2.46992426, 2.46992426,\n",
       "       2.46992426, 2.46992426, 2.46992426, 2.46992426, 2.46992426,\n",
       "       2.46992426, 2.46992426, 2.46992426, 2.46992426, 2.46992426,\n",
       "       2.46992426, 2.46992426, 2.46992426, 2.46992426, 2.46992426,\n",
       "       2.46992426, 2.46992426, 2.46992426, 2.46992426, 2.46992426,\n",
       "       2.46992426, 2.46992426, 2.46992426, 2.46992426, 2.46992426,\n",
       "       2.46992426, 2.46992426, 2.46992426, 2.46992426, 2.46992426,\n",
       "       2.46992426, 2.46992426, 2.46992426, 2.46992426, 2.46992426,\n",
       "       2.46992426, 2.46992426, 2.46992426, 2.46992426, 2.46992426,\n",
       "       2.46992426, 2.46992426, 2.46992426, 2.46992426, 2.46992426,\n",
       "       2.46992426, 2.46992426, 2.46992426, 2.46992426, 2.46992426,\n",
       "       2.46992426, 2.46992426, 2.46992426, 2.46992426, 2.46992426,\n",
       "       2.46992426, 2.46992426, 2.46992426, 2.46992426, 2.46992426,\n",
       "       2.46992426, 2.46992426, 2.46992426, 2.46992426, 2.46992426,\n",
       "       2.46992426, 2.46992426, 2.46992426, 2.46992426, 2.46992426,\n",
       "       2.46992426, 2.46992426, 2.46992426, 2.46992426, 2.46992426,\n",
       "       2.46992426, 2.46992426, 2.46992426, 2.46992426, 2.46992426,\n",
       "       2.46992426, 2.46992426, 2.46992426, 2.46992426, 2.46992426,\n",
       "       2.46992426, 2.46992426, 2.46992426, 2.46992426, 2.46992426,\n",
       "       2.46992426, 2.46992426, 2.46992426, 2.46992426, 2.46992426,\n",
       "       2.46992426, 2.46992426, 2.46992426, 2.46992426, 2.46992426,\n",
       "       2.46992426, 2.46992426, 2.46992426, 2.46992426, 2.46992426,\n",
       "       2.46992426, 2.46992426, 2.46992426, 2.46992426, 2.46992426,\n",
       "       2.46992426, 2.46992426, 2.46992426, 2.46992426, 2.46992426,\n",
       "       2.46992426, 2.46992426, 2.46992426, 2.46992426, 2.46992426,\n",
       "       2.46992426, 2.46992426, 2.46992426, 2.46992426, 2.46992426,\n",
       "       2.46992426, 2.46992426, 2.46992426, 2.46992426, 2.46992426,\n",
       "       2.46992426, 2.46992426, 2.46992426, 2.46992426, 2.46992426,\n",
       "       2.46992426, 2.46992426, 2.46992426, 2.46992426, 2.46992426,\n",
       "       2.46992426, 2.46992426, 2.46992426, 2.46992426, 2.46992426,\n",
       "       2.46992426, 2.46992426, 2.46992426, 2.46992426, 2.46992426,\n",
       "       2.46992426])"
      ]
     },
     "execution_count": 39,
     "metadata": {},
     "output_type": "execute_result"
    }
   ],
   "source": [
    "T_forecast"
   ]
  },
  {
   "cell_type": "markdown",
   "id": "5caeb893",
   "metadata": {},
   "source": [
    "# Iterating Further"
   ]
  },
  {
   "cell_type": "code",
   "execution_count": 40,
   "id": "d69d4920",
   "metadata": {},
   "outputs": [],
   "source": [
    "# T_forecast_first_loop = T_forecast_iteration0_plateau\n",
    "# T_forecast_iteration = T_forecast_iteration0_plateau"
   ]
  },
  {
   "cell_type": "code",
   "execution_count": 41,
   "id": "d6664051",
   "metadata": {},
   "outputs": [],
   "source": [
    "T_forecast_first_loop = T_forecast_iteration0\n",
    "T_forecast_iteration = T_forecast_iteration0"
   ]
  },
  {
   "cell_type": "code",
   "execution_count": 42,
   "id": "0bdc0913",
   "metadata": {
    "scrolled": true
   },
   "outputs": [
    {
     "name": "stdout",
     "output_type": "stream",
     "text": [
      "19.59699831874365\n"
     ]
    },
    {
     "name": "stderr",
     "output_type": "stream",
     "text": [
      "/var/folders/m4/mbpwp5q15070t8lqj4fj7mjr0000gn/T/ipykernel_32619/2947447235.py:18: RuntimeWarning: divide by zero encountered in power\n",
      "  A = Am / (1 + ((P - P0) / (P_h - P0)) ** (-s / r))\n"
     ]
    },
    {
     "name": "stdout",
     "output_type": "stream",
     "text": [
      "2.5978608813373425\n",
      "20.019378448550867\n"
     ]
    },
    {
     "name": "stderr",
     "output_type": "stream",
     "text": [
      "/var/folders/m4/mbpwp5q15070t8lqj4fj7mjr0000gn/T/ipykernel_32619/2947447235.py:18: RuntimeWarning: divide by zero encountered in power\n",
      "  A = Am / (1 + ((P - P0) / (P_h - P0)) ** (-s / r))\n"
     ]
    },
    {
     "name": "stdout",
     "output_type": "stream",
     "text": [
      "19.912401488914206\n"
     ]
    },
    {
     "name": "stderr",
     "output_type": "stream",
     "text": [
      "/var/folders/m4/mbpwp5q15070t8lqj4fj7mjr0000gn/T/ipykernel_32619/2947447235.py:18: RuntimeWarning: divide by zero encountered in power\n",
      "  A = Am / (1 + ((P - P0) / (P_h - P0)) ** (-s / r))\n"
     ]
    },
    {
     "name": "stdout",
     "output_type": "stream",
     "text": [
      "19.94017600294987\n"
     ]
    },
    {
     "name": "stderr",
     "output_type": "stream",
     "text": [
      "/var/folders/m4/mbpwp5q15070t8lqj4fj7mjr0000gn/T/ipykernel_32619/2947447235.py:18: RuntimeWarning: divide by zero encountered in power\n",
      "  A = Am / (1 + ((P - P0) / (P_h - P0)) ** (-s / r))\n"
     ]
    },
    {
     "name": "stdout",
     "output_type": "stream",
     "text": [
      "3\n"
     ]
    },
    {
     "data": {
      "text/plain": [
       "<matplotlib.legend.Legend at 0x11e704b80>"
      ]
     },
     "execution_count": 42,
     "metadata": {},
     "output_type": "execute_result"
    },
    {
     "data": {
      "image/png": "[encoded data removed]",
      "text/plain": [
       "<Figure size 432x288 with 1 Axes>"
      ]
     },
     "metadata": {
      "needs_background": "light"
     },
     "output_type": "display_data"
    }
   ],
   "source": [
    "num_of_iterations = 99\n",
    "\n",
    "first_perturbed_year = start_year\n",
    "\n",
    "year_of_perturbation = np.arange(first_perturbed_year, last_perturbed_year+1)\n",
    "\n",
    "plt.plot(years, T, label=\"initial guess\")\n",
    "plt.plot(years, T_forecast_first_loop, label=\"iteration 0\")\n",
    "\n",
    "for k in range(num_of_iterations):\n",
    "#     T_iteration = np.concatenate([T_gas_df['CO2_best'],T_forecast_iteration[1:]])\n",
    "\n",
    "    SCC_list = []\n",
    "\n",
    "    for j in range(len(year_of_perturbation)):\n",
    "\n",
    "        T_perturbed = perturb_T_geometrically(years, T=T_forecast_iteration, perturbed_year=year_of_perturbation[j], T_TCRE_1=T_TCRE_1, size_of_perturbation=size_of_perturbation, k_s=k_s)\n",
    "        discount_function = create_discount_function(years, year_of_perturbation[j], consumption_discount=consumption_discount)\n",
    "\n",
    "        time_series_data = {'years': years, 'W': W, 'discount function': discount_function, 'T': T_forecast_iteration, 'T perturbed': T_perturbed}\n",
    "        time_series_df = pd.DataFrame(data=time_series_data).set_index('years')\n",
    "\n",
    "        SCC = SCC_calculator(time_series_df, size_of_perturbation=size_of_perturbation, gamma=gamma, D0=D0)\n",
    "\n",
    "        if j  == 0:\n",
    "            print(SCC)\n",
    "\n",
    "        if SCC < P_100:\n",
    "            SCC_list.append(SCC)\n",
    "        else:\n",
    "            SCC_list.append(P_100)\n",
    "            break\n",
    "\n",
    "    SCC_array = np.asarray(SCC_list)\n",
    "    SCC_forecasted = SCC_array\n",
    "#     SCC_forecasted = []\n",
    "\n",
    "#     for i in range(num_of_years):\n",
    "#         if i < len(SCC_array):\n",
    "#             SCC_forecasted.append(SCC_array[i])\n",
    "#         else:\n",
    "#             SCC_forecasted.append(P_100)\n",
    "\n",
    "#     SCC_forecasted = np.array(SCC_forecasted)\n",
    "#     print(SCC_forecasted)\n",
    "#     print(SCC_array) \n",
    "\n",
    "    P0 = SCC_forecasted[0]\n",
    "\n",
    "    forecasted_abatement = abatement(P=SCC_forecasted, P0=P0)\n",
    "    forecasted_emissions = abatement_to_emissions(forecasted_abatement, CO2_baseline)\n",
    "\n",
    "#     cumulative_emissions_array = np.append(np.zeros(1), np.cumsum(forecasted_emissions)[:-1])\n",
    "#     temperature_change = T_TCRE_1*cumulative_emissions_array\n",
    "    \n",
    "    T_forecast = np.ones(num_of_years)*T_0\n",
    "    \n",
    "    for i in range(len(forecasted_emissions)):\n",
    "        emission_size = forecasted_emissions[i]\n",
    "        if emission_size != 0:\n",
    "            T_forecast = perturb_T_geometrically(years, T=T_forecast, perturbed_year=years[i], T_TCRE_1=T_TCRE_1, k_s=k_s,size_of_perturbation=emission_size)\n",
    "\n",
    "#     for i in range(len(forecasted_emissions)):\n",
    "#         size_of_perturbation_cumulative = forecasted_emissions[i]\n",
    "#         T_forecast = perturb_T_geometrically(years, T=T_forecast, perturbed_year=years[i], T_TCRE_1=T_TCRE_1, k_s=k_s, size_of_perturbation=size_of_perturbation_cumulative)\n",
    "    \n",
    "#     T_forecast_iteration = T_0 + temperature_change\n",
    "    T_forecast_iteration = T_forecast\n",
    "#     print(T_forecast_iteration)\n",
    "    \n",
    "    plt.plot(years, T_forecast_iteration, label=\"iteration \"+str(k+1))\n",
    "    \n",
    "    if k == 0:\n",
    "        peak_T = sum(forecasted_emissions) * T_TCRE_1 + T_0\n",
    "        print(peak_T)\n",
    "    else:\n",
    "        previous_peak_T = peak_T\n",
    "        peak_T = sum(forecasted_emissions) * T_TCRE_1 + T_0\n",
    "        if abs(peak_T - previous_peak_T) < 0.005:\n",
    "            print(k)\n",
    "            break\n",
    "    \n",
    "    if k == num_of_iterations - 1:\n",
    "        print(\"convergence condition not achieved\")\n",
    "        print(f\"{consumption_discount=}\")\n",
    "        print(f\"{consumption_growth=}\")\n",
    "        print(f\"{P_50=}\")\n",
    "        print(f\"{s=}\")\n",
    "        print(f\"{r=}\")\n",
    "        print(f\"{P_100=}\")\n",
    "\n",
    "plt.xlabel(\"Year\")\n",
    "plt.ylabel(\"Temperature / K\")\n",
    "plt.legend()"
   ]
  },
  {
   "cell_type": "markdown",
   "id": "31832dbd",
   "metadata": {},
   "source": [
    "***this is fairly analogous to the Newton-Raphson Method***\n",
    "- the initial temperature profile is essentially just a starting guess; getting pushed toward temperature profile solution\n",
    "- could stop the iterations when the difference between two consecutive lines is small"
   ]
  },
  {
   "cell_type": "code",
   "execution_count": 43,
   "id": "1b270877",
   "metadata": {},
   "outputs": [
    {
     "data": {
      "text/plain": [
       "2.5696260200656615"
      ]
     },
     "execution_count": 43,
     "metadata": {},
     "output_type": "execute_result"
    }
   ],
   "source": [
    "## peak Temperature\n",
    "peak_T"
   ]
  },
  {
   "cell_type": "markdown",
   "id": "f24261ed",
   "metadata": {},
   "source": [
    "under default settings: 2.5696260200656615"
   ]
  },
  {
   "cell_type": "code",
   "execution_count": null,
   "id": "2f65ecd1",
   "metadata": {},
   "outputs": [],
   "source": []
  }
 ],
 "metadata": {
  "kernelspec": {
   "display_name": "Python 3 (ipykernel)",
   "language": "python",
   "name": "python3"
  },
  "language_info": {
   "codemirror_mode": {
    "name": "ipython",
    "version": 3
   },
   "file_extension": ".py",
   "mimetype": "text/x-python",
   "name": "python",
   "nbconvert_exporter": "python",
   "pygments_lexer": "ipython3",
   "version": "3.9.7"
  }
 },
 "nbformat": 4,
 "nbformat_minor": 5
}
