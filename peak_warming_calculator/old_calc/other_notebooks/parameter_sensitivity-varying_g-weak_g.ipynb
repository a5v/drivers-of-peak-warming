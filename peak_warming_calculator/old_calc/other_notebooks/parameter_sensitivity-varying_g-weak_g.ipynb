{
 "cells": [
  {
   "cell_type": "code",
   "execution_count": 1,
   "id": "79fbd116",
   "metadata": {},
   "outputs": [],
   "source": [
    "from peak_warming_calculator import *\n",
    "import matplotlib.pyplot as plt\n",
    "import seaborn as sns\n",
    "sns.set()\n",
    "sns.set_style(\"whitegrid\")\n",
    "plt.rc('font', family='serif')"
   ]
  },
  {
   "cell_type": "code",
   "execution_count": 2,
   "id": "f88ad1ae",
   "metadata": {},
   "outputs": [],
   "source": [
    "from SALib.sample import saltelli\n",
    "from SALib.analyze import sobol\n",
    "import numpy as np\n",
    "from numpy import genfromtxt"
   ]
  },
  {
   "cell_type": "code",
   "execution_count": 3,
   "id": "019be719",
   "metadata": {},
   "outputs": [],
   "source": [
    "import time"
   ]
  },
  {
   "cell_type": "code",
   "execution_count": 4,
   "id": "84285261",
   "metadata": {},
   "outputs": [],
   "source": [
    "from varying_g_peak_warming_calculator import *"
   ]
  },
  {
   "cell_type": "markdown",
   "id": "07de792c",
   "metadata": {},
   "source": [
    "### MAC curve variables:\n",
    "- P_50\n",
    "- s\n",
    "- P_100\n",
    "\n",
    "### Economic variables:\n",
    "- D0\n",
    "- gamma\n",
    "- alpha (discount factor)\n",
    "- g (consumption growth rate)"
   ]
  },
  {
   "cell_type": "markdown",
   "id": "1579055c",
   "metadata": {},
   "source": [
    "## Varying MAC curve parameters"
   ]
  },
  {
   "cell_type": "code",
   "execution_count": 5,
   "id": "8fd4d3f4",
   "metadata": {},
   "outputs": [],
   "source": [
    "problem_3 = {\n",
    "'num_vars': 2,\n",
    "'names': ['P_50/P_100', 'P_100'],\n",
    "'bounds': [[0.4, 0.8],\n",
    "[100, 500]]\n",
    "}\n",
    "# Generate samples\n",
    "param_values_2 = saltelli.sample(problem_3, 8)"
   ]
  },
  {
   "cell_type": "code",
   "execution_count": 6,
   "id": "2db5f719",
   "metadata": {},
   "outputs": [],
   "source": [
    "P_100_list = []\n",
    "\n",
    "for i in range(len(param_values_2)):\n",
    "    P_100_list.append(param_values_2[i][1])"
   ]
  },
  {
   "cell_type": "code",
   "execution_count": 7,
   "id": "98faedc9",
   "metadata": {},
   "outputs": [],
   "source": [
    "consumption_growth_array = np.linspace(0.01, 0.035, 6)"
   ]
  },
  {
   "cell_type": "code",
   "execution_count": 8,
   "id": "09532835",
   "metadata": {},
   "outputs": [],
   "source": [
    "def vary_consumption_growth4(consumption_growth):\n",
    "    Y = np.zeros([param_values_2.shape[0]])\n",
    "    SCC_forecasted_0 = np.zeros([param_values_2.shape[0]])\n",
    "    T_year_list = np.zeros([param_values_2.shape[0]])\n",
    "\n",
    "#     consumption_growth = 0.020\n",
    "    consumption_discount = consumption_growth + 0.015\n",
    "\n",
    "    for i in range(len(param_values_2)):\n",
    "        if i%8 == 0:\n",
    "            print(i)\n",
    "            t = time.localtime()\n",
    "            current_time = time.strftime(\"%H:%M:%S\", t)\n",
    "            print(current_time)\n",
    "        \n",
    "        P_50 = param_values_2[i][0]*param_values_2[i][1]\n",
    "        P_100 = param_values_2[i][1]\n",
    "        r = consumption_discount\n",
    "        constraint = 2.5  # param_values_2[i][1]\n",
    "#         s = r * np.log(constraint)/np.log((P_100 - P0)/(P_50 - P0))\n",
    "        s = r * np.log(constraint)/np.log((P_100)/(P_50))\n",
    "        g_grad = 0.0001\n",
    "#         if ((P_100 - P0) / (P_50 - P0)) ** (s / r) <= 2:\n",
    "#             print(\"MAC curve condition not satisfied\")\n",
    "\n",
    "        Y[i], SCC_forecasted, forecasted_abatement, forecasted_emissions, T_complete = varying_g_peak_warming_calculator(P_50=P_50, s=s, P_100=P_100, g_2019=consumption_growth, consumption_discount=consumption_discount, r=r, return_all_output=True, g_grad=g_grad)\n",
    "        SCC_forecasted_0[i] = SCC_forecasted[0]\n",
    "        start_year = 1750\n",
    "        peak_T = Y[i]\n",
    "#         print(peak_T)\n",
    "        T_year_list[i] = next(x[0] for x in enumerate(T_complete) if x[1] == peak_T) + start_year\n",
    "        if Y[i] < 1.4:\n",
    "            print(param_values_2[i][0])\n",
    "            print(param_values_2[i][1])\n",
    "            print(consumption_discount)\n",
    "#             print(param_values_2[i][2])\n",
    "    return Y, SCC_forecasted_0, T_year_list"
   ]
  },
  {
   "cell_type": "code",
   "execution_count": 9,
   "id": "a962cde7",
   "metadata": {},
   "outputs": [
    {
     "name": "stdout",
     "output_type": "stream",
     "text": [
      "0\n",
      "10:30:55\n"
     ]
    },
    {
     "name": "stderr",
     "output_type": "stream",
     "text": [
      "/Users/aaron/Documents/oxford_physics/Year_4/MPhys/drivers-of-peak-warming/peak_warming_calculator/varying_g_peak_warming_calculator.py:270: RuntimeWarning: divide by zero encountered in power\n",
      "  A = Am / (1 + ((P - P0) / (P_h - P0)) ** (-s / r))\n"
     ]
    },
    {
     "name": "stdout",
     "output_type": "stream",
     "text": [
      "8\n",
      "10:32:35\n",
      "16\n",
      "10:37:43\n",
      "24\n",
      "10:39:51\n",
      "convergence condition not achieved\n",
      "consumption_discount=0.025\n",
      "g_2019=0.01\n",
      "P_50=80.78125\n",
      "s=0.043068567996008916\n",
      "r=0.025\n",
      "P_100=137.5\n",
      "convergence condition not achieved\n",
      "consumption_discount=0.025\n",
      "g_2019=0.01\n",
      "P_50=101.40625\n",
      "s=0.07523179472829122\n",
      "r=0.025\n",
      "P_100=137.5\n",
      "convergence condition not achieved\n",
      "consumption_discount=0.025\n",
      "g_2019=0.01\n",
      "P_50=101.40625\n",
      "s=0.07523179472829122\n",
      "r=0.025\n",
      "P_100=137.5\n",
      "32\n",
      "10:45:37\n",
      "convergence condition not achieved\n",
      "consumption_discount=0.025\n",
      "g_2019=0.01\n",
      "P_50=77.34375\n",
      "s=0.06113602554569291\n",
      "r=0.025\n",
      "P_100=112.5\n",
      "convergence condition not achieved\n",
      "consumption_discount=0.025\n",
      "g_2019=0.01\n",
      "P_50=77.34375\n",
      "s=0.06113602554569291\n",
      "r=0.025\n",
      "P_100=112.5\n",
      "40\n",
      "10:49:45\n",
      "convergence condition not achieved\n",
      "consumption_discount=0.025\n",
      "g_2019=0.01\n",
      "P_50=71.71875000000001\n",
      "s=0.050882313006092784\n",
      "r=0.025\n",
      "P_100=112.5\n"
     ]
    }
   ],
   "source": [
    "Y_array = []\n",
    "SCC_0_array = []\n",
    "T_year_array = []\n",
    "\n",
    "for i in range(1):  # len(consumption_growth_array)\n",
    "    Y, SCC_0, T_year = vary_consumption_growth4(consumption_growth_array[i])\n",
    "    Y_array.append(Y)\n",
    "    SCC_0_array.append(SCC_0)\n",
    "    T_year_array.append(T_year)"
   ]
  },
  {
   "cell_type": "code",
   "execution_count": 10,
   "id": "2770d243",
   "metadata": {},
   "outputs": [
    {
     "data": {
      "text/plain": [
       "Text(0, 0.5, 'Peak Warming')"
      ]
     },
     "execution_count": 10,
     "metadata": {},
     "output_type": "execute_result"
    },
    {
     "data": {
      "image/png": "[encoded data removed]",
      "text/plain": [
       "<Figure size 432x288 with 1 Axes>"
      ]
     },
     "metadata": {},
     "output_type": "display_data"
    }
   ],
   "source": [
    "## plot output\n",
    "\n",
    "for i in range(len(Y_array)):\n",
    "    plt.scatter(P_100_list, Y_array[i], label=np.round(consumption_growth_array[i], 3))\n",
    "\n",
    "# plt.legend()\n",
    "plt.rc('font', family='serif')\n",
    "\n",
    "## plot curves from Myles' paper\n",
    "\n",
    "# W0 = 75*10**12  \n",
    "W0 = 80*10**12  \n",
    "D0 = 0.00267\n",
    "T_TCRE = 0.00054  # degrees Celsius per GtCO2\n",
    "# note: this corresponds to 0.002 degrees Celsius per GtC\n",
    "r_minus_g = 0.015  # 1.5%\n",
    "ks = 0.12  # per year\n",
    "\n",
    "G = W0*D0*T_TCRE*(1/(r_minus_g)-1/(ks+r_minus_g))\n",
    "\n",
    "gamma = 2\n",
    "# E_0 = 39  # 2014 level of emissions\n",
    "# percentage_of_emissions = 0.75  # set here the percentage of emisison\n",
    "# E_bar = percentage_of_emissions*E_0\n",
    "E_bar = 0.75*40.040508\n",
    "# T_0 = 0.9  # 1.0136929156818866  # degrees Celsius\n",
    "T_0 = 1.0136929156818866\n",
    "\n",
    "T_m = np.arange(1, 5,0.1)\n",
    "g_bar = consumption_growth_array  # np.arange(0.035, 0.04, 0.005)\n",
    "\n",
    "for i in range(len(g_bar)):\n",
    "    A_B = gamma*G*(T_m**(gamma-1))*np.exp((g_bar[i]/E_bar) * (T_m-T_0)/T_TCRE)\n",
    "#     print(gamma, G, T_m)\n",
    "#     print(np.exp((g_bar[i]/E_bar) * (T_m-T_0)/T_TCRE))\n",
    "    plt.plot(A_B*10**(-9), T_m, color=\"k\")  # convert cost into trillions of dollars # , label=g_bar[i]\n",
    "\n",
    "plt.legend(title=\"g\")\n",
    "plt.xlim(0, 500)\n",
    "plt.ylim(1, 4)\n",
    "plt.xlabel(\"Price at 100% abatement\")\n",
    "plt.ylabel(\"Peak Warming\")"
   ]
  },
  {
   "cell_type": "code",
   "execution_count": 11,
   "id": "f447e849",
   "metadata": {},
   "outputs": [],
   "source": [
    "# param_values_2"
   ]
  },
  {
   "cell_type": "code",
   "execution_count": 12,
   "id": "9153b8dc",
   "metadata": {},
   "outputs": [
    {
     "name": "stdout",
     "output_type": "stream",
     "text": [
      "[  0.6875 112.5   ]\n",
      "3.443681185745996\n",
      "[  0.6875 112.5   ]\n",
      "3.443681185745996\n",
      "[  0.6375 112.5   ]\n",
      "3.5033068027224643\n"
     ]
    }
   ],
   "source": [
    "for i in range(len(param_values_2)):\n",
    "    if param_values_2[i][1] == 112.5:\n",
    "        print(param_values_2[i])\n",
    "        print(Y_array[0][i])"
   ]
  },
  {
   "cell_type": "code",
   "execution_count": 13,
   "id": "d89f41e6",
   "metadata": {},
   "outputs": [
    {
     "data": {
      "text/plain": [
       "[array([2.82516179, 3.07404897, 3.05702539, 3.05702539, 3.07404897,\n",
       "        3.33354184, 3.80952601, 4.1278297 , 2.57796061, 2.57796061,\n",
       "        4.1278297 , 2.7652582 , 2.84519011, 2.50789039, 3.94585979,\n",
       "        3.94585979, 2.50789039, 3.42727728, 3.32090583, 3.60301837,\n",
       "        2.89886194, 2.89886194, 3.60301837, 3.13481094, 2.83784456,\n",
       "        2.95555508, 2.759934  , 2.759934  , 2.95555508, 2.97316853,\n",
       "        3.60762937, 3.16157404, 3.88187992, 3.88187992, 3.16157404,\n",
       "        3.39394756, 3.02049218, 2.94533795, 3.44368119, 3.44368119,\n",
       "        2.94533795, 3.5033068 , 3.36232205, 3.25699827, 2.99423669,\n",
       "        2.99423669, 3.25699827, 2.90627789])]"
      ]
     },
     "execution_count": 13,
     "metadata": {},
     "output_type": "execute_result"
    }
   ],
   "source": [
    "Y_array\n"
   ]
  },
  {
   "cell_type": "code",
   "execution_count": null,
   "id": "6947992f",
   "metadata": {},
   "outputs": [],
   "source": []
  }
 ],
 "metadata": {
  "kernelspec": {
   "display_name": "Python 3 (ipykernel)",
   "language": "python",
   "name": "python3"
  },
  "language_info": {
   "codemirror_mode": {
    "name": "ipython",
    "version": 3
   },
   "file_extension": ".py",
   "mimetype": "text/x-python",
   "name": "python",
   "nbconvert_exporter": "python",
   "pygments_lexer": "ipython3",
   "version": "3.9.7"
  }
 },
 "nbformat": 4,
 "nbformat_minor": 5
}
