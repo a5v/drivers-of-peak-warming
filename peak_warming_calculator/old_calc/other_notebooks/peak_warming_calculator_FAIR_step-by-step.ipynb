{
 "cells": [
  {
   "cell_type": "code",
   "execution_count": 3,
   "id": "a8198da9",
   "metadata": {},
   "outputs": [],
   "source": [
    "import pandas as pd\n",
    "import numpy as np\n",
    "import matplotlib.pyplot as plt"
   ]
  },
  {
   "cell_type": "markdown",
   "id": "1b40a359",
   "metadata": {},
   "source": [
    "## Define Functions"
   ]
  },
  {
   "cell_type": "code",
   "execution_count": 5,
   "id": "df85a918",
   "metadata": {},
   "outputs": [
    {
     "ename": "ModuleNotFoundError",
     "evalue": "No module named 'SCC_functions'",
     "output_type": "error",
     "traceback": [
      "\u001b[0;31m---------------------------------------------------------------------------\u001b[0m",
      "\u001b[0;31mModuleNotFoundError\u001b[0m                       Traceback (most recent call last)",
      "\u001b[0;32m/var/folders/m4/mbpwp5q15070t8lqj4fj7mjr0000gn/T/ipykernel_21215/3025311475.py\u001b[0m in \u001b[0;36m<module>\u001b[0;34m\u001b[0m\n\u001b[1;32m      1\u001b[0m \u001b[0;31m## SCC functions\u001b[0m\u001b[0;34m\u001b[0m\u001b[0;34m\u001b[0m\u001b[0m\n\u001b[0;32m----> 2\u001b[0;31m \u001b[0;32mfrom\u001b[0m \u001b[0mSCC_functions\u001b[0m \u001b[0;32mimport\u001b[0m \u001b[0;34m*\u001b[0m\u001b[0;34m\u001b[0m\u001b[0;34m\u001b[0m\u001b[0m\n\u001b[0m",
      "\u001b[0;31mModuleNotFoundError\u001b[0m: No module named 'SCC_functions'"
     ]
    }
   ],
   "source": [
    "## SCC functions\n",
    "from SCC_functions import *"
   ]
  },
  {
   "cell_type": "code",
   "execution_count": null,
   "id": "5a11eab5",
   "metadata": {},
   "outputs": [],
   "source": [
    "## MACC functions and parameters\n",
    "\n",
    "# default settings\n",
    "P_50 = 100  # 187.5 * 0.7625000000000001\n",
    "P_100 = 300  # 187.5\n",
    "s = 0.05\n",
    "r = 0.04\n",
    "\n",
    "def abatement(P, P0, P_50=P_50, r=r, s=s, P_100=P_100):  # 0.05\n",
    "    if P0 >= P_50:\n",
    "        print(\"P0 is greater than P_50\")\n",
    "    elif ((P_100-P0)/(P_50-P0))**(s/r) <= 2:\n",
    "        print(\"MAC curve condition not satisfied\")\n",
    "    \n",
    "    P_h = P0 + ((P_50 - P0) ** (-s / r) - 2 * (P_100 - P0) ** (-s / r)) ** (-r / s)\n",
    "    Am = 1 + ((P_100 - P0) / (P_h - P0)) ** (-s / r)\n",
    "    \n",
    "    A = Am / (1 + ((P - P0) / (P_h - P0)) ** (-s / r))\n",
    "    \n",
    "    return A\n",
    "\n",
    "## calculate emissions from forecasted abatement and CO2 baseline\n",
    "\n",
    "def abatement_to_emissions(forecasted_abatement, CO2_baseline):\n",
    "    CO2_emissions = CO2_baseline*(1-forecasted_abatement)\n",
    "    \n",
    "    return CO2_emissions"
   ]
  },
  {
   "cell_type": "markdown",
   "id": "4bb1c315",
   "metadata": {},
   "source": [
    "# Steps"
   ]
  },
  {
   "cell_type": "markdown",
   "id": "7529a603",
   "metadata": {},
   "source": [
    "## 0. Years and Initial Temperature Anomaly"
   ]
  },
  {
   "cell_type": "code",
   "execution_count": null,
   "id": "8e7f229b",
   "metadata": {},
   "outputs": [],
   "source": [
    "start_year = 1750\n",
    "last_historical_year = 2020\n",
    "end_year = 3000\n",
    "\n",
    "years = create_years_array(start_year, end_year)\n",
    "num_of_years = len(years)"
   ]
  },
  {
   "cell_type": "code",
   "execution_count": null,
   "id": "e3c296e4",
   "metadata": {},
   "outputs": [],
   "source": [
    "## years to calculate SCC\n",
    "first_perturbed_year = last_historical_year\n",
    "last_perturbed_year = 2500\n",
    "year_of_perturbation = create_years_array(first_perturbed_year, last_perturbed_year)"
   ]
  },
  {
   "cell_type": "code",
   "execution_count": null,
   "id": "ec5e08a1",
   "metadata": {},
   "outputs": [],
   "source": [
    "size_of_perturbation = 1"
   ]
  },
  {
   "cell_type": "markdown",
   "id": "9e286a49",
   "metadata": {},
   "source": [
    "## 1. Create Unperturbed Temperature Profile"
   ]
  },
  {
   "cell_type": "markdown",
   "id": "2cded264",
   "metadata": {},
   "source": [
    "- use historical emissions plus added on shape"
   ]
  },
  {
   "cell_type": "code",
   "execution_count": null,
   "id": "ecd77c00",
   "metadata": {},
   "outputs": [],
   "source": [
    "test_emissions = pd.read_csv(\"ssp245_CO2.csv\", index_col=0, nrows=last_historical_year-start_year+1)\n",
    "# test_emissions = pd.concat([test_emissions],keys=['ssp245'],axis=1)"
   ]
  },
  {
   "cell_type": "code",
   "execution_count": null,
   "id": "c712697e",
   "metadata": {},
   "outputs": [],
   "source": [
    "def perturb_co2(df,year):\n",
    "    df = df.copy()\n",
    "    df.loc[year,'carbon_dioxide'] += size_of_perturbation * 12/44 # perturbation of CO2 in GtC\n",
    "    return df\n",
    "# def perturb_gas(df,year,gas):\n",
    "#     df = df.copy()\n",
    "#     df.loc[year,gas] += 1 # perturbation of 1 GtCH4 (maybe it's MtCH4)\n",
    "#     return df\n",
    "\n",
    "# perturbed_emms = pd.concat([ssp_emms]+[perturb_co2(ssp_emms,SCC_year)],keys=['ssp245']+['ssp245-p'+str(SCC_year)],axis=1)\n",
    "# perturbed_emms = pd.concat([ssp_emms]+[perturb_co2(ssp_emms,year) for year in np.arange(1845,2101)],keys=['ssp245']+['ssp245-p'+str(year) for year in np.arange(1845,2101)],axis=1)\n",
    "# perturbed_emms_meth = pd.concat([ssp_emms]+[perturb_gas(ssp_emms,year,'methane') for year in np.arange(1845,2101)],keys=['ssp245']+['ssp245-p'+str(year) for year in np.arange(1845,2101)],axis=1)"
   ]
  },
  {
   "cell_type": "code",
   "execution_count": null,
   "id": "45ff299e",
   "metadata": {},
   "outputs": [],
   "source": [
    "test_emissions"
   ]
  },
  {
   "cell_type": "code",
   "execution_count": null,
   "id": "d942c983",
   "metadata": {},
   "outputs": [],
   "source": [
    "plt.plot(test_emissions)"
   ]
  },
  {
   "cell_type": "code",
   "execution_count": null,
   "id": "da6091ba",
   "metadata": {},
   "outputs": [],
   "source": [
    "for i in range(end_year-last_historical_year):\n",
    "#     if 12 - (i-2000) > 0:\n",
    "#         test_emissions.loc[last_historical_year+i+1] = 12 - (i-2000)\n",
    "#     else:\n",
    "    test_emissions.loc[last_historical_year+i+1] = 0\n",
    "#     test_emissions.loc[last_historical_year, 'Test']"
   ]
  },
  {
   "cell_type": "code",
   "execution_count": null,
   "id": "dffac5c3",
   "metadata": {},
   "outputs": [],
   "source": [
    "test_emissions.loc[last_historical_year]"
   ]
  },
  {
   "cell_type": "code",
   "execution_count": null,
   "id": "3cbaa1dc",
   "metadata": {
    "scrolled": false
   },
   "outputs": [],
   "source": [
    "plt.plot(test_emissions)"
   ]
  },
  {
   "cell_type": "code",
   "execution_count": null,
   "id": "ea9e05a8",
   "metadata": {},
   "outputs": [],
   "source": [
    "test_emissions"
   ]
  },
  {
   "cell_type": "code",
   "execution_count": null,
   "id": "2a6a4d51",
   "metadata": {},
   "outputs": [],
   "source": [
    "def perturb_co2(df,year):\n",
    "    df = df.copy()\n",
    "    df.loc[year,'carbon_dioxide'] += size_of_perturbation * 12/44 # perturbation of CO2 in GtC\n",
    "    return df\n",
    "# def perturb_gas(df,year,gas):\n",
    "#     df = df.copy()\n",
    "#     df.loc[year,gas] += 1 # perturbation of 1 GtCH4 (maybe it's MtCH4)\n",
    "#     return df\n",
    "\n",
    "# perturbed_emms = pd.concat([ssp_emms]+[perturb_co2(ssp_emms,SCC_year)],keys=['ssp245']+['ssp245-p'+str(SCC_year)],axis=1)\n",
    "perturbed_emms = pd.concat([test_emissions]+[perturb_co2(test_emissions,year) for year in year_of_perturbation],keys=['ssp245']+['ssp245-p'+str(year) for year in year_of_perturbation],axis=1)"
   ]
  },
  {
   "cell_type": "code",
   "execution_count": null,
   "id": "6dd941bb",
   "metadata": {},
   "outputs": [],
   "source": [
    "# Generate a default parameter dataframe:\n",
    "\n",
    "test_gas_parameters = get_gas_parameter_defaults()\n",
    "\n",
    "test_thermal_parameters = get_thermal_parameter_defaults()"
   ]
  },
  {
   "cell_type": "code",
   "execution_count": null,
   "id": "7c7203fa",
   "metadata": {},
   "outputs": [],
   "source": [
    "test_gas_parameters = test_gas_parameters.reindex(perturbed_emms.columns.levels[1],axis=1,level=1)"
   ]
  },
  {
   "cell_type": "code",
   "execution_count": null,
   "id": "6c464549",
   "metadata": {},
   "outputs": [],
   "source": [
    "perturbed_emms"
   ]
  },
  {
   "cell_type": "code",
   "execution_count": null,
   "id": "965402f2",
   "metadata": {},
   "outputs": [],
   "source": [
    "# pulse_run = run_FaIR(emissions_in=test_emissions,gas_parameters=test_gas_parameters,thermal_parameters=test_thermal_parameters)"
   ]
  },
  {
   "cell_type": "code",
   "execution_count": null,
   "id": "d14837a7",
   "metadata": {},
   "outputs": [],
   "source": [
    "# plt.plot(pulse_run['T'])"
   ]
  },
  {
   "cell_type": "code",
   "execution_count": null,
   "id": "39ede49f",
   "metadata": {},
   "outputs": [],
   "source": [
    "# pulse_run['T'].idxmax()"
   ]
  },
  {
   "cell_type": "code",
   "execution_count": null,
   "id": "c40c0706",
   "metadata": {},
   "outputs": [],
   "source": [
    "pulse_run = run_FaIR(emissions_in=perturbed_emms,gas_parameters=test_gas_parameters,thermal_parameters=test_thermal_parameters)"
   ]
  },
  {
   "cell_type": "code",
   "execution_count": null,
   "id": "0be0bc7b",
   "metadata": {},
   "outputs": [],
   "source": [
    "plt.plot(pulse_run['T']['ssp245'])"
   ]
  },
  {
   "cell_type": "code",
   "execution_count": null,
   "id": "a50ee380",
   "metadata": {},
   "outputs": [],
   "source": [
    "T = pulse_run['T']['ssp245']['default'].tolist()\n",
    "\n",
    "# T_perturbed = pulse_run['T']['ssp245-p'+str(SCC_year)]['default'].tolist()"
   ]
  },
  {
   "cell_type": "code",
   "execution_count": null,
   "id": "3c035997",
   "metadata": {},
   "outputs": [],
   "source": [
    "pulse_run"
   ]
  },
  {
   "cell_type": "code",
   "execution_count": null,
   "id": "9076e38a",
   "metadata": {},
   "outputs": [],
   "source": []
  },
  {
   "cell_type": "code",
   "execution_count": null,
   "id": "55940fa2",
   "metadata": {},
   "outputs": [],
   "source": []
  },
  {
   "cell_type": "markdown",
   "id": "ead91d1f",
   "metadata": {},
   "source": [
    "## Total Consumption"
   ]
  },
  {
   "cell_type": "code",
   "execution_count": null,
   "id": "540e63b3",
   "metadata": {},
   "outputs": [],
   "source": [
    "consumption_growth = 0.03"
   ]
  },
  {
   "cell_type": "code",
   "execution_count": null,
   "id": "1088a474",
   "metadata": {},
   "outputs": [],
   "source": [
    "W = create_total_consumption(years, W_fixed_year=2020, W_fixed=80, consumption_growth=consumption_growth)"
   ]
  },
  {
   "cell_type": "code",
   "execution_count": null,
   "id": "95906ae2",
   "metadata": {},
   "outputs": [],
   "source": [
    "plt.plot(years, W)\n",
    "plt.xlabel(\"Year\")\n",
    "plt.ylabel(\"Absolute Consumption ($trillion/year)\")\n",
    "# plt.xlim(2000, 2100)\n",
    "# plt.ylim(0, 400)\n",
    "plt.xlim(2000, 2500)\n",
    "plt.ylim(10, 100000)\n",
    "plt.yscale(\"log\")"
   ]
  },
  {
   "cell_type": "markdown",
   "id": "152831a9",
   "metadata": {},
   "source": [
    "alternative functional form for above for the fast transition"
   ]
  },
  {
   "cell_type": "markdown",
   "id": "b0e49485",
   "metadata": {},
   "source": [
    "## 2. Calculate SCC as a function of time for a range of years"
   ]
  },
  {
   "cell_type": "code",
   "execution_count": null,
   "id": "d97e9e82",
   "metadata": {},
   "outputs": [],
   "source": [
    "T_TCRE_1 = 0.00054  # need to check this for FAIR!\n",
    "k_s = 0.12"
   ]
  },
  {
   "cell_type": "code",
   "execution_count": null,
   "id": "682416f3",
   "metadata": {},
   "outputs": [],
   "source": [
    "gamma = 2\n",
    "D0 = 0.00267"
   ]
  },
  {
   "cell_type": "code",
   "execution_count": null,
   "id": "3204114d",
   "metadata": {},
   "outputs": [],
   "source": [
    "# consumption_discount = 0.035\n",
    "consumption_discount = consumption_growth + 0.015"
   ]
  },
  {
   "cell_type": "code",
   "execution_count": null,
   "id": "916e795f",
   "metadata": {},
   "outputs": [],
   "source": [
    "# consumption_discount = 0.035\n",
    "# consumption_discount = consumption_growth + 0.015\n",
    "\n",
    "SCC_list = []\n",
    "\n",
    "for j in range(len(year_of_perturbation)):\n",
    "#     T_perturbed = create_geometric_T_perturbed(years, T=T, SCC_year=year_of_perturbation[j], T_TCRE=T_TCRE_1*size_of_perturbation, k_s=k_s)   \n",
    "    T_perturbed = pulse_run['T']['ssp245-p'+str(year_of_perturbation[j])]['default'].tolist()\n",
    "    discount_function = create_discount_function(years, year_of_perturbation[j], consumption_discount=consumption_discount)\n",
    "    \n",
    "    time_series_data = {'years': years, 'W': W, 'discount function': discount_function, 'T': T, 'T perturbed': T_perturbed}\n",
    "#     print(len(time_series_data['T']))\n",
    "    time_series_df = pd.DataFrame(data=time_series_data).set_index('years')\n",
    "\n",
    "    SCC = SCC_calculator(time_series_df, size_of_perturbation=size_of_perturbation, gamma=gamma, D0=D0)\n",
    "    \n",
    "    if j  == 0:\n",
    "        print(SCC)\n",
    "#         print(time_series_df)\n",
    "\n",
    "    if SCC < P_100:\n",
    "        SCC_list.append(SCC)\n",
    "    else:\n",
    "        SCC_list.append(P_100)\n",
    "        break"
   ]
  },
  {
   "cell_type": "code",
   "execution_count": null,
   "id": "e06f34f8",
   "metadata": {},
   "outputs": [],
   "source": [
    "SCC_array = np.asarray(SCC_list)  # convert to numpy array"
   ]
  },
  {
   "cell_type": "code",
   "execution_count": null,
   "id": "824dda4d",
   "metadata": {},
   "outputs": [],
   "source": [
    "plt.plot(year_of_perturbation[:len(SCC_array)], SCC_array)\n",
    "plt.xlabel(\"Year\")\n",
    "plt.ylabel(\"SCC ($)\")"
   ]
  },
  {
   "cell_type": "markdown",
   "id": "4527dfe3",
   "metadata": {},
   "source": [
    "### Check 100% abatement has been achieved!"
   ]
  },
  {
   "cell_type": "code",
   "execution_count": null,
   "id": "2afc6578",
   "metadata": {},
   "outputs": [],
   "source": [
    "if SCC_array[-1] < P_100:\n",
    "    print(\"P_100 not achieved by achieved by final perturbed year\")"
   ]
  },
  {
   "cell_type": "code",
   "execution_count": null,
   "id": "8926e6b1",
   "metadata": {},
   "outputs": [],
   "source": [
    "SCC_forecasted = []\n",
    "\n",
    "for i in range(num_of_years):\n",
    "    if i < len(SCC_array):\n",
    "        SCC_forecasted.append(SCC_array[i])\n",
    "    else:\n",
    "#         SCC_forecasted.append(SCC_array[-1])\n",
    "        SCC_forecasted.append(P_100)\n",
    "\n",
    "SCC_forecasted = np.array(SCC_forecasted)"
   ]
  },
  {
   "cell_type": "code",
   "execution_count": null,
   "id": "ae6b677a",
   "metadata": {},
   "outputs": [],
   "source": [
    "# SCC_forecasted"
   ]
  },
  {
   "cell_type": "code",
   "execution_count": null,
   "id": "ef9dcd63",
   "metadata": {},
   "outputs": [],
   "source": [
    "plt.plot(years, SCC_forecasted)\n",
    "plt.xlabel(\"Year\")\n",
    "plt.ylabel(\"SCC ($)\")\n",
    "plt.yscale(\"log\")"
   ]
  },
  {
   "cell_type": "markdown",
   "id": "b85d4a61",
   "metadata": {},
   "source": [
    "## 3. Abatement as a function of time"
   ]
  },
  {
   "cell_type": "code",
   "execution_count": null,
   "id": "a598428e",
   "metadata": {},
   "outputs": [],
   "source": [
    "P0 = SCC_forecasted[0]"
   ]
  },
  {
   "cell_type": "code",
   "execution_count": null,
   "id": "b90c019f",
   "metadata": {
    "scrolled": true
   },
   "outputs": [],
   "source": [
    "forecasted_abatement = abatement(P=SCC_forecasted, P0=P0)  # , r=consumption_discount"
   ]
  },
  {
   "cell_type": "markdown",
   "id": "ce23d485",
   "metadata": {},
   "source": [
    "problems with certain values due to constraints of the model"
   ]
  },
  {
   "cell_type": "code",
   "execution_count": null,
   "id": "74f04839",
   "metadata": {},
   "outputs": [],
   "source": [
    "plt.plot(years, forecasted_abatement)\n",
    "plt.xlabel(\"Year\")\n",
    "plt.ylabel(\"Abatement\")"
   ]
  },
  {
   "cell_type": "markdown",
   "id": "351acbf6",
   "metadata": {},
   "source": [
    "## 4. Abatement to emissions"
   ]
  },
  {
   "cell_type": "code",
   "execution_count": null,
   "id": "71ee6ad9",
   "metadata": {},
   "outputs": [],
   "source": [
    "CO2_baseline = 40"
   ]
  },
  {
   "cell_type": "code",
   "execution_count": null,
   "id": "9eb977d0",
   "metadata": {},
   "outputs": [],
   "source": [
    "CO2_baseline"
   ]
  },
  {
   "cell_type": "code",
   "execution_count": null,
   "id": "d5b39b78",
   "metadata": {},
   "outputs": [],
   "source": [
    "forecasted_emissions = abatement_to_emissions(forecasted_abatement, CO2_baseline)"
   ]
  },
  {
   "cell_type": "code",
   "execution_count": null,
   "id": "3836f4ce",
   "metadata": {},
   "outputs": [],
   "source": [
    "# plt.plot(ssp245_CO2_past, label=\"historical emissions\")\n",
    "plt.plot(years, forecasted_emissions, label=\"forecasted emissions\")\n",
    "plt.xlabel(\"Year\")\n",
    "plt.ylabel(\"CO2 Emissions / GtCO2\")\n",
    "plt.legend()"
   ]
  },
  {
   "cell_type": "markdown",
   "id": "3a514bf1",
   "metadata": {},
   "source": [
    "## 5. Cumulative Emissions to Temperature Change"
   ]
  },
  {
   "cell_type": "code",
   "execution_count": null,
   "id": "73bf2aa6",
   "metadata": {},
   "outputs": [],
   "source": [
    "cumulative_emissions_array = np.append(np.zeros(1), np.cumsum(forecasted_emissions)[:-1])"
   ]
  },
  {
   "cell_type": "code",
   "execution_count": null,
   "id": "0ea3fb64",
   "metadata": {},
   "outputs": [],
   "source": [
    "temperature_change = T_TCRE_1*cumulative_emissions_array"
   ]
  },
  {
   "cell_type": "code",
   "execution_count": null,
   "id": "6fd34d07",
   "metadata": {},
   "outputs": [],
   "source": [
    "max(temperature_change)"
   ]
  },
  {
   "cell_type": "code",
   "execution_count": null,
   "id": "098a473c",
   "metadata": {},
   "outputs": [],
   "source": [
    "T_forecast_iteration0 = T_0 + temperature_change\n",
    "# T_forecast_iteration0_plateau = T_2019 + temperature_change_plateau"
   ]
  },
  {
   "cell_type": "code",
   "execution_count": null,
   "id": "2d4905dc",
   "metadata": {},
   "outputs": [],
   "source": [
    "plt.plot(years, T, label=\"initial guess\")\n",
    "plt.plot(years, T_forecast_iteration0, label=\"iteration 0\")\n",
    "# plt.plot(T_forecast_years, T_forecast_iteration0_plateau, label=\"iteration 0 plateau\")\n",
    "plt.xlabel(\"year\")\n",
    "plt.ylabel(\"temperature / K\")\n",
    "plt.legend()"
   ]
  },
  {
   "cell_type": "markdown",
   "id": "5caeb893",
   "metadata": {},
   "source": [
    "# Iterating Further"
   ]
  },
  {
   "cell_type": "code",
   "execution_count": null,
   "id": "d69d4920",
   "metadata": {},
   "outputs": [],
   "source": [
    "# T_forecast_first_loop = T_forecast_iteration0_plateau\n",
    "# T_forecast_iteration = T_forecast_iteration0_plateau"
   ]
  },
  {
   "cell_type": "code",
   "execution_count": null,
   "id": "d6664051",
   "metadata": {},
   "outputs": [],
   "source": [
    "T_forecast_first_loop = T_forecast_iteration0\n",
    "T_forecast_iteration = T_forecast_iteration0"
   ]
  },
  {
   "cell_type": "code",
   "execution_count": null,
   "id": "0bdc0913",
   "metadata": {
    "scrolled": true
   },
   "outputs": [],
   "source": [
    "num_of_iterations = 99\n",
    "\n",
    "first_perturbed_year = start_year\n",
    "\n",
    "year_of_perturbation = np.arange(first_perturbed_year, last_perturbed_year+1)\n",
    "\n",
    "plt.plot(years, T, label=\"initial guess\")\n",
    "plt.plot(years, T_forecast_first_loop, label=\"iteration 0\")\n",
    "\n",
    "for k in range(num_of_iterations):\n",
    "#     T_iteration = np.concatenate([T_gas_df['CO2_best'],T_forecast_iteration[1:]])\n",
    "\n",
    "    SCC_list = []\n",
    "\n",
    "    for j in range(len(year_of_perturbation)):\n",
    "\n",
    "        T_perturbed = create_geometric_T_perturbed(years, T=T_forecast_iteration, SCC_year=year_of_perturbation[j], T_TCRE=T_TCRE_1*size_of_perturbation, k_s=k_s)\n",
    "        discount_function = create_discount_function(years, year_of_perturbation[j], consumption_discount=consumption_discount)\n",
    "\n",
    "        time_series_data = {'years': years, 'W': W, 'discount function': discount_function, 'T': T_forecast_iteration, 'T perturbed': T_perturbed}\n",
    "        time_series_df = pd.DataFrame(data=time_series_data).set_index('years')\n",
    "\n",
    "        SCC = SCC_calculator(time_series_df, size_of_perturbation=size_of_perturbation, gamma=gamma, D0=D0)\n",
    "\n",
    "        if j  == 0:\n",
    "            print(SCC)\n",
    "\n",
    "        if SCC < P_100:\n",
    "            SCC_list.append(SCC)\n",
    "        else:\n",
    "            SCC_list.append(P_100)\n",
    "            break\n",
    "\n",
    "    SCC_array = np.asarray(SCC_list)\n",
    "\n",
    "    SCC_forecasted = []\n",
    "\n",
    "    for i in range(num_of_years):\n",
    "        if i < len(SCC_array):\n",
    "            SCC_forecasted.append(SCC_array[i])\n",
    "        else:\n",
    "            SCC_forecasted.append(P_100)\n",
    "\n",
    "    SCC_forecasted = np.array(SCC_forecasted)\n",
    "\n",
    "    P0 = SCC_forecasted[0]\n",
    "\n",
    "    forecasted_abatement = abatement(P=SCC_forecasted, P0=P0)\n",
    "    forecasted_emissions = abatement_to_emissions(forecasted_abatement, CO2_baseline)\n",
    "\n",
    "    cumulative_emissions_array = np.append(np.zeros(1), np.cumsum(forecasted_emissions)[:-1])\n",
    "\n",
    "    temperature_change = T_TCRE_1*cumulative_emissions_array\n",
    "    \n",
    "    T_forecast_iteration = T_0 + temperature_change\n",
    "    \n",
    "    plt.plot(years, T_forecast_iteration, label=\"iteration \"+str(k+1))\n",
    "    \n",
    "    if k == 0:\n",
    "        peak_T = max(T_forecast_iteration)\n",
    "    else:\n",
    "        previous_peak_T = peak_T\n",
    "        peak_T = max(T_forecast_iteration)\n",
    "        if abs(peak_T - previous_peak_T) < 0.005:\n",
    "            print(k)\n",
    "            break\n",
    "    \n",
    "    if k == num_of_iterations - 1:\n",
    "        print(\"convergence condition not achieved\")\n",
    "        print(f\"{consumption_discount=}\")\n",
    "        print(f\"{consumption_growth=}\")\n",
    "        print(f\"{P_50=}\")\n",
    "        print(f\"{s=}\")\n",
    "        print(f\"{r=}\")\n",
    "        print(f\"{P_100=}\")\n",
    "\n",
    "plt.xlabel(\"Year\")\n",
    "plt.ylabel(\"Temperature / K\")\n",
    "plt.legend()"
   ]
  },
  {
   "cell_type": "markdown",
   "id": "31832dbd",
   "metadata": {},
   "source": [
    "***this is fairly analogous to the Newton-Raphson Method***\n",
    "- the initial temperature profile is essentially just a starting guess; getting pushed toward temperature profile solution\n",
    "- could stop the iterations when the difference between two consecutive lines is small"
   ]
  },
  {
   "cell_type": "code",
   "execution_count": null,
   "id": "1b270877",
   "metadata": {},
   "outputs": [],
   "source": [
    "## peak Temperature\n",
    "max(T_forecast_iteration)"
   ]
  },
  {
   "cell_type": "markdown",
   "id": "f24261ed",
   "metadata": {},
   "source": [
    "under default settings: 2.435168016568933"
   ]
  },
  {
   "cell_type": "code",
   "execution_count": null,
   "id": "69e1e912",
   "metadata": {},
   "outputs": [],
   "source": []
  },
  {
   "cell_type": "code",
   "execution_count": null,
   "id": "39f8d5b3",
   "metadata": {},
   "outputs": [],
   "source": []
  },
  {
   "cell_type": "code",
   "execution_count": null,
   "id": "c0d0fd39",
   "metadata": {},
   "outputs": [],
   "source": []
  },
  {
   "cell_type": "code",
   "execution_count": null,
   "id": "2f65ecd1",
   "metadata": {},
   "outputs": [],
   "source": []
  }
 ],
 "metadata": {
  "kernelspec": {
   "display_name": "Python 3 (ipykernel)",
   "language": "python",
   "name": "python3"
  },
  "language_info": {
   "codemirror_mode": {
    "name": "ipython",
    "version": 3
   },
   "file_extension": ".py",
   "mimetype": "text/x-python",
   "name": "python",
   "nbconvert_exporter": "python",
   "pygments_lexer": "ipython3",
   "version": "3.9.7"
  }
 },
 "nbformat": 4,
 "nbformat_minor": 5
}
