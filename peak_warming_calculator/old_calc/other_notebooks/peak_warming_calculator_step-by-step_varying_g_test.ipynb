{
 "cells": [
  {
   "cell_type": "code",
   "execution_count": 314,
   "id": "a8198da9",
   "metadata": {},
   "outputs": [],
   "source": [
    "import pandas as pd\n",
    "import numpy as np\n",
    "import matplotlib.pyplot as plt\n",
    "import seaborn as sns\n",
    "sns.set()\n",
    "sns.set_style(\"whitegrid\")\n",
    "plt.rc('font', family='serif')\n",
    "from scipy.optimize import curve_fit\n",
    "from scipy.integrate import simps\n",
    "import statsmodels.api as sm # import stats package\n",
    "from scipy.optimize import curve_fit"
   ]
  },
  {
   "cell_type": "markdown",
   "id": "1b40a359",
   "metadata": {},
   "source": [
    "## Define Functions"
   ]
  },
  {
   "cell_type": "code",
   "execution_count": 315,
   "id": "df85a918",
   "metadata": {},
   "outputs": [],
   "source": [
    "## calculate cost of perturbation due to carbon\n",
    "## input: temperature profile, perturbed temperature profile, total consumption, and discount function\n",
    "\n",
    "def cost_of_perturbation(T, T_perturb, W, discount_function, gamma=2, D0=0.00267):\n",
    "    S_Wt = D0*T**gamma\n",
    "    S_Wt_perturb = D0*T_perturb**gamma\n",
    "    consumption_loss_fraction = S_Wt_perturb-S_Wt\n",
    "    absolute_consumption_loss = consumption_loss_fraction*W\n",
    "    discounted_consumption_loss = absolute_consumption_loss*discount_function\n",
    "    area = simps(discounted_consumption_loss, dx=1)\n",
    "    cost = area*10**12  # convert to dollar amount\n",
    "    \n",
    "    return cost"
   ]
  },
  {
   "cell_type": "code",
   "execution_count": 316,
   "id": "5a11eab5",
   "metadata": {},
   "outputs": [],
   "source": [
    "## calculate abatement given a carbon price\n",
    "\n",
    "def abatement(P, P0, P_h=44, r=20, s=18, Am=1.1):\n",
    "    A = Am/(1+((P-P0)/P_h)**(-r/s))\n",
    "    \n",
    "    return A"
   ]
  },
  {
   "cell_type": "code",
   "execution_count": 317,
   "id": "2ede457f",
   "metadata": {},
   "outputs": [],
   "source": [
    "## Nick's function to get SSP emissions data (use to get historical data to 2019)\n",
    "\n",
    "def get_ssp_emissions(ssp, end_year = 2019):\n",
    "    \n",
    "    emms = RCMIP_to_FaIR_input_emms(ssp).interpolate().loc[1750:end_year]\n",
    "\n",
    "    ## rebase emission-driven forcings & species with natural emissions included in RCMIP to zero @ 1750\n",
    "    rebase_species = ['so2','nox','co','nmvoc','bc','nh3','oc','nox_avi','methyl_bromide','methyl_chloride','chcl3','ch2cl2']\n",
    "    emms.loc[:,rebase_species] -= emms.loc[1750,rebase_species]\n",
    "    \n",
    "    return emms"
   ]
  },
  {
   "cell_type": "code",
   "execution_count": 318,
   "id": "26ce409f",
   "metadata": {},
   "outputs": [],
   "source": [
    "## calculate emissions from forecasted abatement and CO2 baseline\n",
    "\n",
    "def abatement_to_emissions(forecasted_abatement, CO2_baseline):\n",
    "    CO2_emissions = CO2_baseline*(1-forecasted_abatement)\n",
    "    \n",
    "    return CO2_emissions"
   ]
  },
  {
   "cell_type": "code",
   "execution_count": 319,
   "id": "a9613571",
   "metadata": {},
   "outputs": [],
   "source": [
    "def create_total_consumption(first_year, last_historical_year, years, T_forecast, T_2019, T_forecast_years, g_2019, g_grad):\n",
    "    g = g_2019 - g_grad*(T_forecast[:-1]-T_2019)\n",
    "    W_2019 = 80\n",
    "    \n",
    "    W = []\n",
    "\n",
    "    W_historical = [W_2019] * (last_historical_year - first_year + 1)\n",
    "\n",
    "    W_forecast = []\n",
    "\n",
    "    W_previous_year = W_historical[-1]\n",
    "\n",
    "    for i in range(len(T_forecast_years) - 1):\n",
    "        W_this_year = W_previous_year*np.exp(g[i])\n",
    "        W_forecast.append(W_this_year)\n",
    "        W_previous_year = W_this_year\n",
    "\n",
    "    W = W_historical + W_forecast\n",
    "\n",
    "    W = np.asarray(W)\n",
    "    \n",
    "    return W"
   ]
  },
  {
   "cell_type": "markdown",
   "id": "4bb1c315",
   "metadata": {},
   "source": [
    "# Steps outlined in Email"
   ]
  },
  {
   "cell_type": "markdown",
   "id": "9e286a49",
   "metadata": {},
   "source": [
    "## 1. Create Unperturbed Temperature Profile"
   ]
  },
  {
   "cell_type": "code",
   "execution_count": 320,
   "id": "d3bc2acf",
   "metadata": {},
   "outputs": [],
   "source": [
    "# get historical data (taken from chrisroadmap)\n",
    "\n",
    "T_gas_df = pd.read_csv(\"T_gas.csv\", index_col=0)\n",
    "\n",
    "T_2019 = T_gas_df['CO2_best'][2019]"
   ]
  },
  {
   "cell_type": "code",
   "execution_count": 321,
   "id": "a1096d77",
   "metadata": {},
   "outputs": [],
   "source": [
    "start_year = 1750\n",
    "last_historical_year = 2019\n",
    "end_year = 3000\n",
    "\n",
    "years = np.arange(start_year, end_year+1)\n",
    "T_forecast_years = np.arange(last_historical_year, end_year+1)\n",
    "T_forecast_length = end_year - last_historical_year + 1"
   ]
  },
  {
   "cell_type": "code",
   "execution_count": 322,
   "id": "da772f99",
   "metadata": {},
   "outputs": [],
   "source": [
    "delta_T = 2\n",
    "alpha = 0.02\n",
    "T_forecast = T_2019 + delta_T * (1 - np.exp(-alpha*np.arange(T_forecast_length)))"
   ]
  },
  {
   "cell_type": "code",
   "execution_count": 323,
   "id": "9d69f693",
   "metadata": {},
   "outputs": [],
   "source": [
    "T = np.concatenate([T_gas_df['CO2_best'],T_forecast[1:]])"
   ]
  },
  {
   "cell_type": "code",
   "execution_count": 324,
   "id": "8d7f6882",
   "metadata": {
    "scrolled": true
   },
   "outputs": [
    {
     "data": {
      "text/plain": [
       "<matplotlib.legend.Legend at 0x7fc158ec13d0>"
      ]
     },
     "execution_count": 324,
     "metadata": {},
     "output_type": "execute_result"
    },
    {
     "data": {
      "image/png": "[encoded data removed]",
      "text/plain": [
       "<Figure size 432x288 with 1 Axes>"
      ]
     },
     "metadata": {},
     "output_type": "display_data"
    }
   ],
   "source": [
    "plt.plot(T_gas_df['CO2_best'], label=\"historical\")\n",
    "plt.plot(T_forecast_years, T_forecast, label=\"projected\")\n",
    "plt.xlabel(\"Year\")\n",
    "plt.ylabel(\"Attributed temperature change relative to 1750\")\n",
    "plt.legend()"
   ]
  },
  {
   "cell_type": "markdown",
   "id": "78d93396",
   "metadata": {},
   "source": [
    "## Create Perturbed Temperature Profile (here just for first year)"
   ]
  },
  {
   "cell_type": "code",
   "execution_count": 325,
   "id": "34dad207",
   "metadata": {},
   "outputs": [],
   "source": [
    "first_perturbed_year = last_historical_year\n",
    "last_perturbed_year = 2500\n",
    "year_of_perturbation = np.arange(first_perturbed_year, last_perturbed_year+1)"
   ]
  },
  {
   "cell_type": "code",
   "execution_count": 326,
   "id": "d5d6ada5",
   "metadata": {},
   "outputs": [],
   "source": [
    "T_TCRE = 0.00054  # need to check this for FAIR!\n",
    "k_s = 0.12\n",
    "\n",
    "T_p = np.zeros(T_forecast_length)\n",
    "for i in range(len(T_forecast_years)):\n",
    "    if year_of_perturbation[0] <= T_forecast_years[i]:\n",
    "        T_p[i] = T_TCRE*(1-np.exp(-k_s*(T_forecast_years[i]-year_of_perturbation[0])))\n",
    "T_forecast_perturbed = T_forecast+T_p\n",
    "T_perturbed = np.concatenate([T_gas_df['CO2_best'],T_forecast_perturbed[1:]])"
   ]
  },
  {
   "cell_type": "code",
   "execution_count": 327,
   "id": "9cd1a67d",
   "metadata": {},
   "outputs": [],
   "source": [
    "# plt.plot(T_forecast_years, T_forecast_perturbed)\n",
    "# plt.plot(T_forecast_years, T_forecast)\n",
    "# plt.xlim(2000, 2100)\n",
    "# plt.ylim(1, 1.5)"
   ]
  },
  {
   "cell_type": "code",
   "execution_count": 328,
   "id": "800eb11f",
   "metadata": {},
   "outputs": [
    {
     "data": {
      "text/plain": [
       "[<matplotlib.lines.Line2D at 0x7fc1590a4220>]"
      ]
     },
     "execution_count": 328,
     "metadata": {},
     "output_type": "execute_result"
    },
    {
     "data": {
      "image/png": "[encoded data removed]",
      "text/plain": [
       "<Figure size 432x288 with 1 Axes>"
      ]
     },
     "metadata": {},
     "output_type": "display_data"
    }
   ],
   "source": [
    "plt.plot(T_forecast_years, T_forecast_perturbed - T_forecast)"
   ]
  },
  {
   "cell_type": "markdown",
   "id": "2a8baf3f",
   "metadata": {},
   "source": [
    "## Create g as a function of T"
   ]
  },
  {
   "cell_type": "markdown",
   "id": "03e9c037",
   "metadata": {},
   "source": [
    "Calculate parameters using Pretis Paper"
   ]
  },
  {
   "cell_type": "markdown",
   "id": "6bea0b49",
   "metadata": {},
   "source": [
    "$W = W_{0}e^{g(T)t}$,\n",
    "\n",
    "where $g(T)=g(0)-\\alpha (T-T_{2019})$.\n",
    "\n",
    "So $\\frac{\\Delta W}{W}=1-\\exp((g(T)-g(0)t) \\implies g(T) = g(0) + \\frac{1}{t} \\log(1-\\frac{\\Delta W}{W})$,"
   ]
  },
  {
   "cell_type": "markdown",
   "id": "f2b3c574",
   "metadata": {},
   "source": [
    "From Pretis paper (t=80):\n",
    "- $T=1.5 \\implies \\frac{\\Delta W}{W}=0.07 \\implies \\alpha = 0.000403170516$ \n",
    "- $T=2 \\implies \\frac{\\Delta W}{W}=0.12 \\implies \\alpha = 0.000399479286$"
   ]
  },
  {
   "cell_type": "code",
   "execution_count": 329,
   "id": "bfc312be",
   "metadata": {},
   "outputs": [
    {
     "data": {
      "text/plain": [
       "Text(0, 0.5, 'g')"
      ]
     },
     "execution_count": 329,
     "metadata": {},
     "output_type": "execute_result"
    },
    {
     "data": {
      "image/png": "[encoded data removed]",
      "text/plain": [
       "<Figure size 432x288 with 1 Axes>"
      ]
     },
     "metadata": {},
     "output_type": "display_data"
    }
   ],
   "source": [
    "# g_2019 = 0.03\n",
    "g_2019 = 0.02\n",
    "# g_grad = 0.0003\n",
    "# g_grad = 0.0013\n",
    "g_grad = 0.0003\n",
    "# g_grad = 0.0004\n",
    "\n",
    "g = g_2019 - g_grad*(T_forecast[:-1]-T_2019)**1\n",
    "g_prime = g_2019 - g_grad*(T_forecast_perturbed[:-1]-T_2019)**1\n",
    "plt.plot(T_forecast[:-1], g)\n",
    "\n",
    "plt.xlabel(\"T\")\n",
    "plt.ylabel(\"g\")"
   ]
  },
  {
   "cell_type": "code",
   "execution_count": 330,
   "id": "5a39ce26",
   "metadata": {
    "scrolled": true
   },
   "outputs": [
    {
     "data": {
      "text/plain": [
       "Text(0, 0.5, 'g')"
      ]
     },
     "execution_count": 330,
     "metadata": {},
     "output_type": "execute_result"
    },
    {
     "data": {
      "image/png": "[encoded data removed]",
      "text/plain": [
       "<Figure size 432x288 with 1 Axes>"
      ]
     },
     "metadata": {},
     "output_type": "display_data"
    }
   ],
   "source": [
    "plt.plot(T_forecast_years[:-1], g)\n",
    "plt.plot(T_forecast_years[:-1], g_prime)\n",
    "plt.xlabel(\"year\")\n",
    "plt.ylabel(\"g\")"
   ]
  },
  {
   "cell_type": "code",
   "execution_count": 331,
   "id": "2a03f793",
   "metadata": {},
   "outputs": [
    {
     "data": {
      "text/plain": [
       "Text(0, 0.5, 'g')"
      ]
     },
     "execution_count": 331,
     "metadata": {},
     "output_type": "execute_result"
    },
    {
     "data": {
      "image/png": "[encoded data removed]",
      "text/plain": [
       "<Figure size 432x288 with 1 Axes>"
      ]
     },
     "metadata": {},
     "output_type": "display_data"
    }
   ],
   "source": [
    "plt.plot(T_forecast_years[:-1], (g-g_prime)*100/g)\n",
    "plt.xlabel(\"year\")\n",
    "plt.ylabel(\"g\")"
   ]
  },
  {
   "cell_type": "markdown",
   "id": "d8222899",
   "metadata": {},
   "source": [
    "## Calculate SCC for first year"
   ]
  },
  {
   "cell_type": "code",
   "execution_count": 332,
   "id": "689097b3",
   "metadata": {},
   "outputs": [],
   "source": [
    "first_perturbed_year = last_historical_year\n",
    "last_perturbed_year = 3000\n",
    "year_of_perturbation = np.arange(first_perturbed_year, last_perturbed_year+1)\n",
    "\n",
    "W_2019 = 80"
   ]
  },
  {
   "cell_type": "code",
   "execution_count": 333,
   "id": "75aae715",
   "metadata": {},
   "outputs": [],
   "source": [
    "## consumption growth from unperturbed temperature profile\n",
    "\n",
    "W = []\n",
    "W_historical = [W_2019] * (last_historical_year - start_year + 1)\n",
    "W_forecast = []\n",
    "W_previous_year = W_historical[-1]\n",
    "\n",
    "for i in range(len(T_forecast_years) - 1):\n",
    "    W_this_year = W_previous_year*np.exp(g[i])\n",
    "    W_forecast.append(W_this_year)\n",
    "    W_previous_year = W_this_year\n",
    "\n",
    "W = W_historical + W_forecast\n",
    "\n",
    "W = np.asarray(W)"
   ]
  },
  {
   "cell_type": "code",
   "execution_count": 334,
   "id": "6d7a5601",
   "metadata": {},
   "outputs": [],
   "source": [
    "## consumption growth from perturbed temperature profile\n",
    "\n",
    "W_prime = []\n",
    "W_historical = [W_2019] * (last_historical_year - start_year + 1)\n",
    "W_forecast = []\n",
    "W_previous_year = W_historical[-1]\n",
    "\n",
    "for i in range(len(T_forecast_years) - 1):\n",
    "    W_this_year = W_previous_year*np.exp(g_prime[i])\n",
    "    W_forecast.append(W_this_year)\n",
    "    W_previous_year = W_this_year\n",
    "\n",
    "W_prime = W_historical + W_forecast\n",
    "\n",
    "W_prime = np.asarray(W_prime)"
   ]
  },
  {
   "cell_type": "markdown",
   "id": "7b0cf4cb",
   "metadata": {},
   "source": [
    "- constant baseline"
   ]
  },
  {
   "cell_type": "markdown",
   "id": "703dddf3",
   "metadata": {},
   "source": [
    "$g(T)=g(0)$"
   ]
  },
  {
   "cell_type": "code",
   "execution_count": 335,
   "id": "18a6391a",
   "metadata": {},
   "outputs": [],
   "source": [
    "# x = np.linspace(0, 0.5, len(T_forecast_years) - 1)"
   ]
  },
  {
   "cell_type": "code",
   "execution_count": 336,
   "id": "7fed65c7",
   "metadata": {},
   "outputs": [],
   "source": [
    "years_till_peak = 130\n",
    "SSP2_T = np.concatenate((np.linspace(0, 0.5, years_till_peak), np.ones(len(T_forecast_years) - years_till_peak -1)*0.5), axis=None)"
   ]
  },
  {
   "cell_type": "markdown",
   "id": "7c4006c9",
   "metadata": {},
   "source": [
    "when year < year_of_peak, $T_{SSP}=(0.5/year.till.peak)(year-2019)$"
   ]
  },
  {
   "cell_type": "code",
   "execution_count": 337,
   "id": "58eedefd",
   "metadata": {
    "scrolled": true
   },
   "outputs": [
    {
     "data": {
      "text/plain": [
       "[<matplotlib.lines.Line2D at 0x7fc1594b11c0>]"
      ]
     },
     "execution_count": 337,
     "metadata": {},
     "output_type": "execute_result"
    },
    {
     "data": {
      "image/png": "[encoded data removed]",
      "text/plain": [
       "<Figure size 432x288 with 1 Axes>"
      ]
     },
     "metadata": {},
     "output_type": "display_data"
    }
   ],
   "source": [
    "plt.plot(T_forecast_years[:-1], SSP2_T)"
   ]
  },
  {
   "cell_type": "markdown",
   "id": "6f25f23e",
   "metadata": {},
   "source": [
    "$g(T)=g(0)-\\alpha \\times (T_{SSP})^{2}$"
   ]
  },
  {
   "cell_type": "code",
   "execution_count": 338,
   "id": "3445ebd5",
   "metadata": {},
   "outputs": [],
   "source": [
    "## consumption growth from constant g with T=T_(2019)\n",
    "\n",
    "W_const = []\n",
    "W_historical = [W_2019] * (last_historical_year - start_year + 1)\n",
    "W_forecast = []\n",
    "W_previous_year = W_historical[-1]\n",
    "\n",
    "for i in range(len(T_forecast_years) - 1):\n",
    "    W_this_year = W_previous_year*np.exp(g_2019)\n",
    "#     W_this_year = W_previous_year*np.exp(g_2019 - g_grad*(SSP2_T[i])**2)\n",
    "    W_forecast.append(W_this_year)\n",
    "    W_previous_year = W_this_year\n",
    "\n",
    "W_const = W_historical + W_forecast\n",
    "\n",
    "W_const = np.asarray(W_const)"
   ]
  },
  {
   "cell_type": "markdown",
   "id": "a383d539",
   "metadata": {},
   "source": [
    "$g(T)=g(0)-\\alpha \\times 1.5$\n",
    "\n",
    "$g(T)=g(0)-\\alpha \\times (T_{SSP}+1.5)$"
   ]
  },
  {
   "cell_type": "code",
   "execution_count": 339,
   "id": "54a9cef8",
   "metadata": {},
   "outputs": [],
   "source": [
    "years_till_peak = 80\n",
    "T_1pt5 = np.concatenate((np.linspace(0, 1.5, years_till_peak), np.ones(len(T_forecast_years) - years_till_peak-1)*1.5), axis=None)"
   ]
  },
  {
   "cell_type": "code",
   "execution_count": 340,
   "id": "88ffbc60",
   "metadata": {},
   "outputs": [],
   "source": [
    "## consumption growth from constant g with T=T_(2019)+1.5\n",
    "\n",
    "W_const_1p5 = []\n",
    "W_historical = [W_2019] * (last_historical_year - start_year + 1)\n",
    "W_forecast = []\n",
    "W_previous_year = W_historical[-1]\n",
    "\n",
    "# g_1p5 = g_2019 - g_grad*(1.5)**2\n",
    "\n",
    "for i in range(len(T_forecast_years) - 1):\n",
    "#     W_this_year = W_previous_year*np.exp(g_1p5)\n",
    "    W_this_year = W_previous_year*np.exp(g_2019 - g_grad*(T_1pt5[i])**1)\n",
    "#     W_this_year = W_previous_year*np.exp(g_2019 - g_grad*(SSP2_T[i]+1.5)**2)\n",
    "    W_forecast.append(W_this_year)\n",
    "    W_previous_year = W_this_year\n",
    "\n",
    "W_const_1p5 = W_historical + W_forecast\n",
    "\n",
    "W_const_1p5 = np.asarray(W_const_1p5)"
   ]
  },
  {
   "cell_type": "markdown",
   "id": "eefcc026",
   "metadata": {},
   "source": [
    "$g(T)=g(0)-\\alpha \\times 2^{2}$\n",
    "\n",
    "$g(T)=g(0)-\\alpha \\times (T_{SSP}+2)^{2}$"
   ]
  },
  {
   "cell_type": "code",
   "execution_count": 341,
   "id": "48b38e95",
   "metadata": {},
   "outputs": [],
   "source": [
    "T_1pt2 = np.concatenate((np.linspace(0, 2, years_till_peak), np.ones(len(T_forecast_years) - years_till_peak-1)*2), axis=None)"
   ]
  },
  {
   "cell_type": "code",
   "execution_count": 342,
   "id": "ddf585a4",
   "metadata": {},
   "outputs": [],
   "source": [
    "## consumption growth from constant g with T=T_(2019)+2\n",
    "\n",
    "W_const_2 = []\n",
    "W_historical = [W_2019] * (last_historical_year - start_year + 1)\n",
    "W_forecast = []\n",
    "W_previous_year = W_historical[-1]\n",
    "\n",
    "# g_2 = g_2019 - g_grad*(2)**2\n",
    "\n",
    "for i in range(len(T_forecast_years) - 1):\n",
    "#     W_this_year = W_previous_year*np.exp(g_2)\n",
    "    W_this_year = W_previous_year*np.exp(g_2019 - g_grad*(T_1pt2[i])**1)\n",
    "#     W_this_year = W_previous_year*np.exp(g_2019 - g_grad*(SSP2_T[i]+2)**1)\n",
    "    W_forecast.append(W_this_year)\n",
    "    W_previous_year = W_this_year\n",
    "\n",
    "W_const_2 = W_historical + W_forecast\n",
    "\n",
    "W_const_2 = np.asarray(W_const_2)"
   ]
  },
  {
   "cell_type": "markdown",
   "id": "8e39a236",
   "metadata": {},
   "source": [
    "- SSP2 ~ 2 degrees (FAIR); change TCRE\n",
    "- temperature output with alpha value ~ 0.013\n",
    "- GDP in two cases: 1) not sensitive to temperature 2) sensitive to temperature\n",
    "- loss of GDP "
   ]
  },
  {
   "cell_type": "markdown",
   "id": "c696e5b4",
   "metadata": {},
   "source": [
    "grea"
   ]
  },
  {
   "cell_type": "code",
   "execution_count": 343,
   "id": "a3760ab1",
   "metadata": {},
   "outputs": [
    {
     "name": "stdout",
     "output_type": "stream",
     "text": [
      "394.54417302109954\n",
      "394.5395610371836\n"
     ]
    }
   ],
   "source": [
    "# total annual consumption is higher in 2100 in the unperturbed case (obviously)\n",
    "print(W[2100-start_year])\n",
    "print(W_prime[2100-start_year])"
   ]
  },
  {
   "cell_type": "code",
   "execution_count": 344,
   "id": "c1f04d33",
   "metadata": {},
   "outputs": [
    {
     "name": "stdout",
     "output_type": "stream",
     "text": [
      "404.2472253251083\n",
      "396.8572462046719\n",
      "394.42406384534956\n"
     ]
    }
   ],
   "source": [
    "# check compared to baseline\n",
    "\n",
    "print(W_const[2100-start_year])\n",
    "print(W_const_1p5[2100-start_year])\n",
    "print(W_const_2[2100-start_year])"
   ]
  },
  {
   "cell_type": "code",
   "execution_count": 345,
   "id": "b2513e78",
   "metadata": {},
   "outputs": [
    {
     "name": "stdout",
     "output_type": "stream",
     "text": [
      "0.01828084067736791\n"
     ]
    }
   ],
   "source": [
    "print((W_const[2100-start_year]-W_const_1p5[2100-start_year])/W_const[2100-start_year])"
   ]
  },
  {
   "cell_type": "code",
   "execution_count": 346,
   "id": "3abba7b4",
   "metadata": {},
   "outputs": [],
   "source": [
    "percentage_change_1p5 = (W_const_1p5-W_const)/W_const\n",
    "percentage_change_2 = (W_const_2-W_const)/W_const"
   ]
  },
  {
   "cell_type": "code",
   "execution_count": 347,
   "id": "6edffc3d",
   "metadata": {},
   "outputs": [
    {
     "data": {
      "text/plain": [
       "1251"
      ]
     },
     "execution_count": 347,
     "metadata": {},
     "output_type": "execute_result"
    }
   ],
   "source": [
    "len(W_const)"
   ]
  },
  {
   "cell_type": "code",
   "execution_count": 348,
   "id": "688674c4",
   "metadata": {},
   "outputs": [],
   "source": [
    "# plt.plot(years, time_evolution)\n",
    "# plt.title(\"1.5 Degrees Celsius Relative to No Additional Warming\")\n",
    "# plt.xlabel(\"Year\")\n",
    "# plt.ylabel(\"Percentage Change in GDP\")\n",
    "# plt.plot(years[2000-start_year:], time_evolution[2000-start_year:])"
   ]
  },
  {
   "cell_type": "code",
   "execution_count": 349,
   "id": "39ae7e49",
   "metadata": {},
   "outputs": [
    {
     "data": {
      "text/plain": [
       "Text(0, 0.5, 'Percentage Change in GDP')"
      ]
     },
     "execution_count": 349,
     "metadata": {},
     "output_type": "execute_result"
    },
    {
     "data": {
      "image/png": "[encoded data removed]",
      "text/plain": [
       "<Figure size 432x288 with 1 Axes>"
      ]
     },
     "metadata": {},
     "output_type": "display_data"
    }
   ],
   "source": [
    "plt.plot(years[2000-start_year:2100-start_year], percentage_change_1p5[2000-start_year:2100-start_year])\n",
    "plt.title(\"1.5 Degrees Celsius Relative to No Additional Warming\")\n",
    "plt.xlabel(\"Year\")\n",
    "plt.ylabel(\"Percentage Change in GDP\")\n",
    "# plt.plot(years[2000-start_year:], time_evolution[2000-start_year:])"
   ]
  },
  {
   "cell_type": "code",
   "execution_count": 350,
   "id": "9f09ca72",
   "metadata": {},
   "outputs": [
    {
     "name": "stdout",
     "output_type": "stream",
     "text": [
      "0.024299885971656617\n"
     ]
    }
   ],
   "source": [
    "print((W_const[2100-start_year]-W_const_2[2100-start_year])/W_const[2100-start_year])"
   ]
  },
  {
   "cell_type": "code",
   "execution_count": 351,
   "id": "6954386a",
   "metadata": {},
   "outputs": [
    {
     "data": {
      "text/plain": [
       "Text(0, 0.5, 'Percentage Change in GDP')"
      ]
     },
     "execution_count": 351,
     "metadata": {},
     "output_type": "execute_result"
    },
    {
     "data": {
      "image/png": "[encoded data removed]",
      "text/plain": [
       "<Figure size 432x288 with 1 Axes>"
      ]
     },
     "metadata": {},
     "output_type": "display_data"
    }
   ],
   "source": [
    "plt.plot(years[2000-start_year:2100-start_year], percentage_change_2[2000-start_year:2100-start_year])\n",
    "plt.title(\"2 Degrees Celsius Relative to No Additional Warming\")\n",
    "plt.xlabel(\"Year\")\n",
    "plt.ylabel(\"Percentage Change in GDP\")"
   ]
  },
  {
   "cell_type": "code",
   "execution_count": 313,
   "id": "4e38671a",
   "metadata": {},
   "outputs": [
    {
     "name": "stdout",
     "output_type": "stream",
     "text": [
      "0.006131127458530741\n"
     ]
    }
   ],
   "source": [
    "print((W_const_1p5[2100-start_year]-W_const_2[2100-start_year])/W_const_1p5[2100-start_year])"
   ]
  },
  {
   "cell_type": "markdown",
   "id": "91d2023c",
   "metadata": {},
   "source": [
    "## Finishing off SCC calculation"
   ]
  },
  {
   "cell_type": "code",
   "execution_count": 249,
   "id": "da585977",
   "metadata": {},
   "outputs": [
    {
     "data": {
      "text/plain": [
       "<matplotlib.legend.Legend at 0x7fc156cea430>"
      ]
     },
     "execution_count": 249,
     "metadata": {},
     "output_type": "execute_result"
    },
    {
     "data": {
      "image/png": "[encoded data removed]",
      "text/plain": [
       "<Figure size 432x288 with 1 Axes>"
      ]
     },
     "metadata": {},
     "output_type": "display_data"
    }
   ],
   "source": [
    "plt.plot(years, W, label=\"unperturbed\")\n",
    "plt.plot(years, W_prime, label=\"perturbed\")\n",
    "plt.xlabel(\"Year\")\n",
    "plt.ylabel(\"Absolute Consumption ($trillion/year)\")\n",
    "plt.xlim(2000, 2100)\n",
    "plt.ylim(0, 400)\n",
    "plt.legend()"
   ]
  },
  {
   "cell_type": "code",
   "execution_count": 250,
   "id": "81267d1f",
   "metadata": {},
   "outputs": [
    {
     "data": {
      "text/plain": [
       "[<matplotlib.lines.Line2D at 0x7fc156f8dc70>]"
      ]
     },
     "execution_count": 250,
     "metadata": {},
     "output_type": "execute_result"
    },
    {
     "data": {
      "image/png": "[encoded data removed]",
      "text/plain": [
       "<Figure size 432x288 with 1 Axes>"
      ]
     },
     "metadata": {},
     "output_type": "display_data"
    }
   ],
   "source": [
    "plt.plot(years, W-W_prime)"
   ]
  },
  {
   "cell_type": "code",
   "execution_count": 251,
   "id": "d79f0250",
   "metadata": {},
   "outputs": [],
   "source": [
    "num_of_years = len(years)\n",
    "# consumption_discount = 0.035\n",
    "consumption_discount = g_2019 + 0.015\n",
    "discount_function = np.zeros(num_of_years)\n",
    "\n",
    "for i in range(num_of_years):\n",
    "    if years[i] >= year_of_perturbation[0]:\n",
    "        discount_function[i] = np.exp(-consumption_discount*(years[i]-year_of_perturbation[0]))"
   ]
  },
  {
   "cell_type": "code",
   "execution_count": 252,
   "id": "94b6b07c",
   "metadata": {},
   "outputs": [
    {
     "data": {
      "text/plain": [
       "[<matplotlib.lines.Line2D at 0x7fc158153190>]"
      ]
     },
     "execution_count": 252,
     "metadata": {},
     "output_type": "execute_result"
    },
    {
     "data": {
      "image/png": "[encoded data removed]",
      "text/plain": [
       "<Figure size 432x288 with 1 Axes>"
      ]
     },
     "metadata": {},
     "output_type": "display_data"
    }
   ],
   "source": [
    "plt.plot(years, discount_function)"
   ]
  },
  {
   "cell_type": "code",
   "execution_count": null,
   "id": "3f2ffdfc",
   "metadata": {},
   "outputs": [],
   "source": []
  },
  {
   "cell_type": "code",
   "execution_count": 253,
   "id": "c55c0591",
   "metadata": {},
   "outputs": [],
   "source": [
    "# T_p = np.zeros(T_forecast_length)\n",
    "# for i in range(len(T_forecast_years)):\n",
    "#     if year_of_perturbation[0] <= T_forecast_years[i]:\n",
    "#         T_p[i] = T_TCRE*(1-np.exp(-k_s*(T_forecast_years[i]-year_of_perturbation[0])))\n",
    "# T_forecast_perturbed = T_forecast+T_p\n",
    "# T_perturbed = np.concatenate([T_gas_df['CO2_best'],T_forecast_perturbed[1:]])"
   ]
  },
  {
   "cell_type": "code",
   "execution_count": 254,
   "id": "a1c40c99",
   "metadata": {},
   "outputs": [],
   "source": [
    "# plt.plot(years, T)\n",
    "# plt.plot(years, T_perturbed)"
   ]
  },
  {
   "cell_type": "code",
   "execution_count": 255,
   "id": "96587d4c",
   "metadata": {},
   "outputs": [],
   "source": [
    "# plt.plot(years, T_perturbed-T)"
   ]
  },
  {
   "cell_type": "markdown",
   "id": "f13ba387",
   "metadata": {},
   "source": [
    "Old SCC calculation because I was confused"
   ]
  },
  {
   "cell_type": "code",
   "execution_count": 256,
   "id": "7d41932a",
   "metadata": {},
   "outputs": [],
   "source": [
    "# gamma=2\n",
    "# D0=0.00267\n",
    "\n",
    "# S_Wt = D0*T**gamma\n",
    "# S_Wt_perturb = D0*T_perturbed**gamma"
   ]
  },
  {
   "cell_type": "code",
   "execution_count": 257,
   "id": "87ab9bfa",
   "metadata": {},
   "outputs": [],
   "source": [
    "# # consumption_loss_fraction = S_Wt_perturb-S_Wt\n",
    "# absolute_consumption_loss = S_Wt*W-S_Wt_perturb*W_prime\n",
    "# discounted_consumption_loss = absolute_consumption_loss*discount_function\n",
    "# area = simps(discounted_consumption_loss, dx=1)\n",
    "# cost = area  # *10**12  # convert to dollar amount"
   ]
  },
  {
   "cell_type": "code",
   "execution_count": 258,
   "id": "5a52b728",
   "metadata": {
    "scrolled": true
   },
   "outputs": [],
   "source": [
    "# plt.plot(years, discounted_consumption_loss)"
   ]
  },
  {
   "cell_type": "code",
   "execution_count": 259,
   "id": "52c14e4c",
   "metadata": {},
   "outputs": [],
   "source": [
    "# cost"
   ]
  },
  {
   "cell_type": "markdown",
   "id": "82b7a0d7",
   "metadata": {},
   "source": [
    "New SCC calculation??"
   ]
  },
  {
   "cell_type": "code",
   "execution_count": 260,
   "id": "ea32e781",
   "metadata": {},
   "outputs": [],
   "source": [
    "absolute_consumption_loss = W-W_prime\n",
    "discounted_consumption_loss = absolute_consumption_loss*discount_function\n",
    "area = simps(discounted_consumption_loss, dx=1)\n",
    "cost = area*10**12  # convert to dollar amount\n",
    "SCC = cost/(10**9)"
   ]
  },
  {
   "cell_type": "code",
   "execution_count": 261,
   "id": "3c460bf1",
   "metadata": {},
   "outputs": [
    {
     "data": {
      "text/plain": [
       "[<matplotlib.lines.Line2D at 0x7fc156ff4970>]"
      ]
     },
     "execution_count": 261,
     "metadata": {},
     "output_type": "execute_result"
    },
    {
     "data": {
      "image/png": "[encoded data removed]",
      "text/plain": [
       "<Figure size 432x288 with 1 Axes>"
      ]
     },
     "metadata": {},
     "output_type": "display_data"
    }
   ],
   "source": [
    "plt.xlabel(\"Year\")\n",
    "plt.ylabel(\"Discounted Consumption Loss\")\n",
    "plt.plot(years, discounted_consumption_loss)"
   ]
  },
  {
   "cell_type": "code",
   "execution_count": 262,
   "id": "3be3aee0",
   "metadata": {},
   "outputs": [
    {
     "data": {
      "text/plain": [
       "77.00216986313396"
      ]
     },
     "execution_count": 262,
     "metadata": {},
     "output_type": "execute_result"
    }
   ],
   "source": [
    "SCC"
   ]
  },
  {
   "cell_type": "markdown",
   "id": "beb888ec",
   "metadata": {},
   "source": [
    "for the growth-reduction case we obtain a much larger estimate for the SCC:\n",
    "- this leads to problems in the method since P0 can exceed the value of P50, which causes the MACC curve to be undefined\n",
    "- also the model struggles to converge when P0 is close to P_50/P_100 (particularly when close to P_100)\n",
    "\n",
    "possible alterations:\n",
    "- reduce the sensitivity of the growth rate to temperature (still within the uncertainty in Pretis)\n",
    "- alter the MACC curves that are possible\n",
    "- increase the discount rate"
   ]
  },
  {
   "cell_type": "code",
   "execution_count": 263,
   "id": "ab23d0a3",
   "metadata": {},
   "outputs": [],
   "source": [
    "# absolute_consumption_loss = (W-W_prime)*D0\n",
    "# discounted_consumption_loss = absolute_consumption_loss*discount_function\n",
    "# area = simps(discounted_consumption_loss, dx=1)\n",
    "# cost = area*10**12  # convert to dollar amount"
   ]
  },
  {
   "cell_type": "code",
   "execution_count": 264,
   "id": "f4b1245f",
   "metadata": {},
   "outputs": [],
   "source": [
    "# plt.plot(years, discounted_consumption_loss)"
   ]
  },
  {
   "cell_type": "code",
   "execution_count": 265,
   "id": "a08d2096",
   "metadata": {},
   "outputs": [
    {
     "data": {
      "text/plain": [
       "77002169863.13396"
      ]
     },
     "execution_count": 265,
     "metadata": {},
     "output_type": "execute_result"
    }
   ],
   "source": [
    "cost"
   ]
  },
  {
   "cell_type": "code",
   "execution_count": null,
   "id": "9415a07c",
   "metadata": {},
   "outputs": [],
   "source": []
  },
  {
   "cell_type": "code",
   "execution_count": null,
   "id": "15bfb96c",
   "metadata": {},
   "outputs": [],
   "source": []
  },
  {
   "cell_type": "markdown",
   "id": "34e9f9e1",
   "metadata": {},
   "source": [
    "## For all Years"
   ]
  },
  {
   "cell_type": "code",
   "execution_count": 57,
   "id": "c16093e5",
   "metadata": {},
   "outputs": [],
   "source": [
    "T_TCRE = 0.00054  # need to check this for FAIR!\n",
    "k_s = 0.12\n",
    "\n",
    "T_p = np.zeros(T_forecast_length)\n",
    "for i in range(len(T_forecast_years)):\n",
    "    if year_of_perturbation[0] <= T_forecast_years[i]:\n",
    "        T_p[i] = T_TCRE*(1-np.exp(-k_s*(T_forecast_years[i]-year_of_perturbation[0])))\n",
    "T_forecast_perturbed = T_forecast+T_p\n",
    "T_perturbed = np.concatenate([T_gas_df['CO2_best'],T_forecast_perturbed[1:]])"
   ]
  },
  {
   "cell_type": "code",
   "execution_count": 58,
   "id": "1ba48299",
   "metadata": {},
   "outputs": [],
   "source": [
    "## years to calculate SCC\n",
    "first_perturbed_year = last_historical_year\n",
    "last_perturbed_year = 2500\n",
    "year_of_perturbation = np.arange(first_perturbed_year, last_perturbed_year+1)\n",
    "\n",
    "\n",
    "g_2019 = 0.02\n",
    "g_grad = 0.0004\n",
    "\n",
    "SCC_list = []\n",
    "\n",
    "for j in range(len(year_of_perturbation)):\n",
    "    ## define perturbed temperature profile for a given year\n",
    "    T_TCRE = 0.00054  # need to check this for FAIR!\n",
    "    k_s = 0.12\n",
    "\n",
    "    T_p = np.zeros(T_forecast_length)\n",
    "    for i in range(len(T_forecast_years)):\n",
    "        if year_of_perturbation[j] <= T_forecast_years[i]:\n",
    "            T_p[i] = T_TCRE*(1-np.exp(-k_s*(T_forecast_years[i]-year_of_perturbation[j])))\n",
    "    T_forecast_perturbed = T_forecast+T_p\n",
    "    T_perturbed = np.concatenate([T_gas_df['CO2_best'],T_forecast_perturbed[1:]])\n",
    "\n",
    "    g = g_2019 - g_grad*(T_forecast[:-1]-T_2019)**2\n",
    "    g_prime = g_2019 - g_grad*(T_forecast_perturbed[:-1]-T_2019)**2\n",
    "    \n",
    "    W = []\n",
    "    W_historical = [W_2019] * (last_historical_year - start_year + 1)\n",
    "    W_forecast = []\n",
    "    W_previous_year = W_historical[-1]\n",
    "\n",
    "    for i in range(len(T_forecast_years) - 1):\n",
    "        W_this_year = W_previous_year*np.exp(g[i])\n",
    "        W_forecast.append(W_this_year)\n",
    "        W_previous_year = W_this_year\n",
    "\n",
    "    W = W_historical + W_forecast\n",
    "\n",
    "    W = np.asarray(W)\n",
    "    \n",
    "    \n",
    "    W_prime = []\n",
    "    W_historical = [W_2019] * (last_historical_year - start_year + 1)\n",
    "    W_forecast = []\n",
    "    W_previous_year = W_historical[-1]\n",
    "\n",
    "    for i in range(len(T_forecast_years) - 1):\n",
    "        W_this_year = W_previous_year*np.exp(g_prime[i])\n",
    "        W_forecast.append(W_this_year)\n",
    "        W_previous_year = W_this_year\n",
    "\n",
    "    W_prime = W_historical + W_forecast\n",
    "\n",
    "    W_prime = np.asarray(W_prime)\n",
    "    \n",
    "    ## define discount function\n",
    "    num_of_years = len(years)\n",
    "    consumption_discount = 0.035\n",
    "    discount_function = np.zeros(num_of_years)\n",
    "\n",
    "    for i in range(num_of_years):\n",
    "        if years[i] >= year_of_perturbation[j]:\n",
    "            discount_function[i] = np.exp(-consumption_discount*(years[i]-year_of_perturbation[j]))\n",
    "    \n",
    "    ## calculate SCC\n",
    "#     cost = cost_of_perturbation(T=T, T_perturb=T_perturbed, W=W, discount_function=discount_function)\n",
    "#     SCC = cost/(10**9)\n",
    "\n",
    "    absolute_consumption_loss = W-W_prime\n",
    "    discounted_consumption_loss = absolute_consumption_loss*discount_function\n",
    "    area = simps(discounted_consumption_loss, dx=1)\n",
    "    cost = area*10**12  # convert to dollar amount\n",
    "    SCC = cost/(10**9)\n",
    "    SCC_list.append(SCC)"
   ]
  },
  {
   "cell_type": "code",
   "execution_count": 59,
   "id": "da9c779e",
   "metadata": {},
   "outputs": [],
   "source": [
    "SCC_array = np.asarray(SCC_list)"
   ]
  },
  {
   "cell_type": "code",
   "execution_count": 60,
   "id": "8c0c5bab",
   "metadata": {},
   "outputs": [
    {
     "data": {
      "text/plain": [
       "Text(0, 0.5, 'SCC ($)')"
      ]
     },
     "execution_count": 60,
     "metadata": {},
     "output_type": "execute_result"
    },
    {
     "data": {
      "image/png": "[encoded data removed]",
      "text/plain": [
       "<Figure size 432x288 with 1 Axes>"
      ]
     },
     "metadata": {},
     "output_type": "display_data"
    }
   ],
   "source": [
    "plt.plot(year_of_perturbation, SCC_array)\n",
    "plt.xlabel(\"Year\")\n",
    "plt.ylabel(\"SCC ($)\")"
   ]
  },
  {
   "cell_type": "code",
   "execution_count": 61,
   "id": "502a9852",
   "metadata": {},
   "outputs": [
    {
     "data": {
      "text/plain": [
       "146.3109629255208"
      ]
     },
     "execution_count": 61,
     "metadata": {},
     "output_type": "execute_result"
    }
   ],
   "source": [
    "SCC_array[0]"
   ]
  },
  {
   "cell_type": "code",
   "execution_count": null,
   "id": "fafb778c",
   "metadata": {},
   "outputs": [],
   "source": []
  },
  {
   "cell_type": "code",
   "execution_count": null,
   "id": "74ea2dcf",
   "metadata": {},
   "outputs": [],
   "source": []
  },
  {
   "cell_type": "markdown",
   "id": "8bba197a",
   "metadata": {},
   "source": [
    "Pretis style vs Nordhaus style damage function"
   ]
  },
  {
   "cell_type": "code",
   "execution_count": null,
   "id": "f812782c",
   "metadata": {},
   "outputs": [],
   "source": []
  },
  {
   "cell_type": "code",
   "execution_count": null,
   "id": "de381364",
   "metadata": {},
   "outputs": [],
   "source": []
  },
  {
   "cell_type": "code",
   "execution_count": null,
   "id": "15d7a819",
   "metadata": {},
   "outputs": [],
   "source": []
  },
  {
   "cell_type": "code",
   "execution_count": null,
   "id": "30e589cb",
   "metadata": {},
   "outputs": [],
   "source": []
  },
  {
   "cell_type": "code",
   "execution_count": null,
   "id": "398e88b6",
   "metadata": {},
   "outputs": [],
   "source": []
  },
  {
   "cell_type": "code",
   "execution_count": null,
   "id": "ddc3602d",
   "metadata": {},
   "outputs": [],
   "source": []
  }
 ],
 "metadata": {
  "kernelspec": {
   "display_name": "Python 3 (ipykernel)",
   "language": "python",
   "name": "python3"
  },
  "language_info": {
   "codemirror_mode": {
    "name": "ipython",
    "version": 3
   },
   "file_extension": ".py",
   "mimetype": "text/x-python",
   "name": "python",
   "nbconvert_exporter": "python",
   "pygments_lexer": "ipython3",
   "version": "3.9.7"
  }
 },
 "nbformat": 4,
 "nbformat_minor": 5
}
