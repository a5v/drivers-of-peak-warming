{
 "cells": [
  {
   "cell_type": "code",
   "execution_count": 1,
   "id": "a8198da9",
   "metadata": {},
   "outputs": [],
   "source": [
    "import pandas as pd\n",
    "import numpy as np\n",
    "import matplotlib.pyplot as plt\n",
    "import seaborn as sns\n",
    "sns.set()\n",
    "from scipy.optimize import curve_fit\n",
    "from scipy.integrate import simps\n",
    "from scipy.optimize import curve_fit"
   ]
  },
  {
   "cell_type": "code",
   "execution_count": 2,
   "id": "3dc7ce4e",
   "metadata": {},
   "outputs": [],
   "source": [
    "# from fair import *\n",
    "# from fair.scripts.data_retrieval import *"
   ]
  },
  {
   "cell_type": "markdown",
   "id": "1b40a359",
   "metadata": {},
   "source": [
    "## Define Functions"
   ]
  },
  {
   "cell_type": "code",
   "execution_count": 3,
   "id": "df85a918",
   "metadata": {},
   "outputs": [],
   "source": [
    "## calculate cost of perturbation due to carbon\n",
    "## input: temperature profile, perturbed temperature profile, total consumption, and discount function\n",
    "\n",
    "def cost_of_perturbation(T, T_perturb, W, discount_function, gamma=2, D0=0.00267):\n",
    "    S_Wt = D0*T**gamma\n",
    "    S_Wt_perturb = D0*T_perturb**gamma\n",
    "    consumption_loss_fraction = S_Wt_perturb-S_Wt\n",
    "    absolute_consumption_loss = consumption_loss_fraction*W\n",
    "    discounted_consumption_loss = absolute_consumption_loss*discount_function\n",
    "    area = simps(discounted_consumption_loss, dx=1)\n",
    "    cost = area*10**12  # convert to dollar amount\n",
    "    \n",
    "    return cost, absolute_consumption_loss, discounted_consumption_loss"
   ]
  },
  {
   "cell_type": "code",
   "execution_count": 4,
   "id": "5a11eab5",
   "metadata": {},
   "outputs": [],
   "source": [
    "## calculate abatement given a carbon price\n",
    "\n",
    "# def abatement(P, P0, P_h=44, r=20, s=18, Am=1.1):\n",
    "#     A = Am/(1+((P-P0)/P_h)**(-r/s))\n",
    "    \n",
    "#     return A\n",
    "\n",
    "# P_100 = 500\n",
    "\n",
    "# def abatement(P, P0, r=0.04, P_h=100, s=0.05, P_100=P_100):\n",
    "#     if P0 >= P_h:\n",
    "#         print(\"P0 is greater than P_h\")\n",
    "\n",
    "#     Am = 1+((P_100-P0)/(P_h-P0))**(-s/r)\n",
    "#     A = Am/(1+((P-P0)/(P_h-P0))**(-s/r))\n",
    "        \n",
    "#     return A\n",
    "\n",
    "P_50 = 100  # 187.5 * 0.7625000000000001\n",
    "P_100 = 500  # 187.5\n",
    "\n",
    "# P_50=100, s=0.05, r=0.04, P_100=500\n",
    "\n",
    "def abatement(P, P0, P_50=P_50, r=0.04, s=0.05, P_100=P_100):  # 0.05\n",
    "    if P0 >= P_50:\n",
    "        print(\"P0 is greater than P_50\")\n",
    "    elif ((P_100-P0)/(P_50-P0))**(s/r) <= 2:\n",
    "        print(\"MAC curve condition not satisfied\")\n",
    "    \n",
    "    P_h = P0 + ((P_50 - P0) ** (-s / r) - 2 * (P_100 - P0) ** (-s / r)) ** (-r / s)\n",
    "    Am = 1 + ((P_100 - P0) / (P_h - P0)) ** (-s / r)\n",
    "    \n",
    "    A = Am / (1 + ((P - P0) / (P_h - P0)) ** (-s / r))\n",
    "    \n",
    "    return A"
   ]
  },
  {
   "cell_type": "code",
   "execution_count": 5,
   "id": "2ede457f",
   "metadata": {},
   "outputs": [],
   "source": [
    "# ## Nick's function to get SSP emissions data (use to get historical data to 2019)\n",
    "\n",
    "# def get_ssp_emissions(ssp, end_year = 2019):\n",
    "    \n",
    "#     emms = RCMIP_to_FaIR_input_emms(ssp).interpolate().loc[1750:end_year]\n",
    "\n",
    "#     ## rebase emission-driven forcings & species with natural emissions included in RCMIP to zero @ 1750\n",
    "#     rebase_species = ['so2','nox','co','nmvoc','bc','nh3','oc','nox_avi','methyl_bromide','methyl_chloride','chcl3','ch2cl2']\n",
    "#     emms.loc[:,rebase_species] -= emms.loc[1750,rebase_species]\n",
    "    \n",
    "#     return emms"
   ]
  },
  {
   "cell_type": "code",
   "execution_count": 6,
   "id": "26ce409f",
   "metadata": {},
   "outputs": [],
   "source": [
    "## calculate emissions from forecasted abatement and CO2 baseline\n",
    "\n",
    "def abatement_to_emissions(forecasted_abatement, CO2_baseline):\n",
    "    CO2_emissions = CO2_baseline*(1-forecasted_abatement)\n",
    "    \n",
    "    return CO2_emissions"
   ]
  },
  {
   "cell_type": "markdown",
   "id": "4bb1c315",
   "metadata": {},
   "source": [
    "# Steps outlined in Email"
   ]
  },
  {
   "cell_type": "markdown",
   "id": "9e286a49",
   "metadata": {},
   "source": [
    "## 1. Create Unperturbed Temperature Profile"
   ]
  },
  {
   "cell_type": "code",
   "execution_count": 7,
   "id": "d3bc2acf",
   "metadata": {},
   "outputs": [],
   "source": [
    "# get historical data (taken from chrisroadmap)\n",
    "\n",
    "T_gas_df = pd.read_csv(\"T_gas.csv\", index_col=0)\n",
    "\n",
    "T_2019 = T_gas_df['CO2_best'][2019]"
   ]
  },
  {
   "cell_type": "code",
   "execution_count": 8,
   "id": "a1096d77",
   "metadata": {},
   "outputs": [],
   "source": [
    "start_year = 1750\n",
    "last_historical_year = 2019\n",
    "end_year = 3000\n",
    "\n",
    "years = np.arange(start_year, end_year+1)\n",
    "T_forecast_years = np.arange(last_historical_year, end_year+1)\n",
    "T_forecast_length = end_year - last_historical_year + 1"
   ]
  },
  {
   "cell_type": "code",
   "execution_count": 9,
   "id": "da772f99",
   "metadata": {},
   "outputs": [],
   "source": [
    "delta_T = 2\n",
    "alpha = 0.02\n",
    "T_forecast = T_2019 + delta_T * (1 - np.exp(-alpha*np.arange(T_forecast_length)))"
   ]
  },
  {
   "cell_type": "code",
   "execution_count": 10,
   "id": "9d69f693",
   "metadata": {},
   "outputs": [],
   "source": [
    "T = np.concatenate([T_gas_df['CO2_best'],T_forecast[1:]])"
   ]
  },
  {
   "cell_type": "code",
   "execution_count": 11,
   "id": "8d7f6882",
   "metadata": {
    "scrolled": true
   },
   "outputs": [
    {
     "data": {
      "text/plain": [
       "<matplotlib.legend.Legend at 0x7f95aa97d0d0>"
      ]
     },
     "execution_count": 11,
     "metadata": {},
     "output_type": "execute_result"
    },
    {
     "data": {
      "image/png": "[encoded data removed]",
      "text/plain": [
       "<Figure size 432x288 with 1 Axes>"
      ]
     },
     "metadata": {},
     "output_type": "display_data"
    }
   ],
   "source": [
    "plt.plot(T_gas_df['CO2_best'], label=\"historical\")\n",
    "plt.plot(T_forecast_years, T_forecast, label=\"projected\")\n",
    "plt.xlabel(\"Year\")\n",
    "plt.ylabel(\"Attributed temperature change relative to 1750\")\n",
    "plt.xlim(2000, 2250)\n",
    "plt.legend()"
   ]
  },
  {
   "cell_type": "markdown",
   "id": "ead91d1f",
   "metadata": {},
   "source": [
    "## Total Consumption"
   ]
  },
  {
   "cell_type": "code",
   "execution_count": 12,
   "id": "adbba940",
   "metadata": {},
   "outputs": [],
   "source": [
    "consumption_growth = 0.02\n",
    "W0 = 80\n",
    "\n",
    "W = []\n",
    "\n",
    "# for i in range(len(years)):\n",
    "#     W.append(W0*consumption_growth**(i-(last_historical_year - start_year)))\n",
    "    \n",
    "for i in range(len(years)):\n",
    "    W.append(W0*np.exp(consumption_growth*(i-(last_historical_year - start_year))))\n",
    "\n",
    "W = np.asarray(W)"
   ]
  },
  {
   "cell_type": "code",
   "execution_count": 13,
   "id": "95906ae2",
   "metadata": {},
   "outputs": [
    {
     "data": {
      "image/png": "[encoded data removed]",
      "text/plain": [
       "<Figure size 432x288 with 1 Axes>"
      ]
     },
     "metadata": {},
     "output_type": "display_data"
    }
   ],
   "source": [
    "plt.plot(years, W)\n",
    "plt.xlabel(\"Year\")\n",
    "plt.ylabel(\"Absolute Consumption ($trillion/year)\")\n",
    "# plt.xlim(2000, 2100)\n",
    "# plt.ylim(0, 400)\n",
    "plt.xlim(2000, 2500)\n",
    "plt.ylim(10, 100000)\n",
    "plt.yscale(\"log\")"
   ]
  },
  {
   "cell_type": "markdown",
   "id": "152831a9",
   "metadata": {},
   "source": [
    "alternative functional form for above for the fast transition"
   ]
  },
  {
   "cell_type": "markdown",
   "id": "b0e49485",
   "metadata": {},
   "source": [
    "## 2. Calculate SCC as a function of time for a range of years"
   ]
  },
  {
   "cell_type": "code",
   "execution_count": 62,
   "id": "916e795f",
   "metadata": {},
   "outputs": [
    {
     "data": {
      "text/plain": [
       "(1e-05, 0.1)"
      ]
     },
     "execution_count": 62,
     "metadata": {},
     "output_type": "execute_result"
    },
    {
     "data": {
      "image/png": "[encoded data removed]",
      "text/plain": [
       "<Figure size 432x288 with 1 Axes>"
      ]
     },
     "metadata": {},
     "output_type": "display_data"
    }
   ],
   "source": [
    "## years to calculate SCC\n",
    "first_perturbed_year = last_historical_year\n",
    "last_perturbed_year = 2500\n",
    "year_of_perturbation = np.arange(first_perturbed_year, last_perturbed_year+1)\n",
    "\n",
    "# consumption_discount = 0.035\n",
    "consumption_discount = consumption_growth + 0.015\n",
    "\n",
    "SCC_list = []\n",
    "\n",
    "for j in range(len(year_of_perturbation)):\n",
    "    ## define perturbed temperature profile for a given year\n",
    "    T_TCRE = 0.00054  # need to check this for FAIR!\n",
    "    k_s = 0.12\n",
    "\n",
    "    T_p = np.zeros(T_forecast_length)\n",
    "    for i in range(len(T_forecast_years)):\n",
    "        if year_of_perturbation[j] <= T_forecast_years[i]:\n",
    "            T_p[i] = T_TCRE*(1-np.exp(-k_s*(T_forecast_years[i]-year_of_perturbation[j])))\n",
    "    T_forecast_perturbed = T_forecast+T_p\n",
    "    T_perturbed = np.concatenate([T_gas_df['CO2_best'],T_forecast_perturbed[1:]])\n",
    "\n",
    "    ## define discount function\n",
    "    num_of_years = len(years)\n",
    "    discount_function = np.zeros(num_of_years)\n",
    "\n",
    "    for i in range(num_of_years):\n",
    "        if years[i] >= year_of_perturbation[j]:\n",
    "            discount_function[i] = np.exp(-consumption_discount*(years[i]-year_of_perturbation[j]))\n",
    "    \n",
    "    ## calculate SCC\n",
    "    cost, absolute_consumption_loss, discounted_consumption_loss = cost_of_perturbation(T=T, T_perturb=T_perturbed, W=W, discount_function=discount_function)\n",
    "    SCC = cost/(10**9)\n",
    "    \n",
    "#     if j % 50 == 0:\n",
    "#         plt.plot(years, discounted_consumption_loss)\n",
    "#         plt.plot(years, absolute_consumption_loss)\n",
    "#         plt.plot(years, discount_function)\n",
    "    \n",
    "    if SCC < P_100:\n",
    "        SCC_list.append(SCC)\n",
    "    else:\n",
    "        SCC_list.append(P_100)\n",
    "        break\n",
    "\n",
    "plt.plot(years, W)\n",
    "plt.xlabel(\"Year\")\n",
    "plt.ylabel(\"Absolute Consumption ($trillion/year)\")\n",
    "plt.yscale(\"log\")\n",
    "plt.xlim(2000, 2500)\n",
    "plt.ylim(0.00001, 0.1)"
   ]
  },
  {
   "cell_type": "code",
   "execution_count": 15,
   "id": "e06f34f8",
   "metadata": {},
   "outputs": [],
   "source": [
    "SCC_array = np.asarray(SCC_list)  # convert to numpy array"
   ]
  },
  {
   "cell_type": "code",
   "execution_count": 16,
   "id": "17a234fe",
   "metadata": {},
   "outputs": [
    {
     "data": {
      "text/plain": [
       "array([ 30.99161374,  31.82862249,  32.67252537,  33.54406869,\n",
       "        34.42203626,  35.32952354,  36.242946  ,  37.18784413,\n",
       "        38.13816842,  39.12200418,  40.11073628,  41.13509873,\n",
       "        42.16380611,  43.23034918,  44.30066325,  45.41110835,\n",
       "        46.52472711,  47.68086593,  48.83955668,  50.04325399,\n",
       "        51.24885615,  52.50205287,  53.75648091,  55.06119714,\n",
       "        56.3664437 ,  57.72478199,  59.082921  ,  60.49706969,\n",
       "        61.91025974,  63.3824965 ,  64.85298425,  66.3856797 ,\n",
       "        67.91580352,  69.51142502,  71.10361868,  72.76473429,\n",
       "        74.42153092,  76.15081349,  77.87484958,  79.67508106,\n",
       "        81.4691007 ,  83.34317656,  85.21003582,  87.1609697 ,\n",
       "        89.10364123,  91.13456976,  93.1561475 ,  95.27033532,\n",
       "        97.37403948,  99.57488446, 101.76406669, 104.05510536,\n",
       "       106.33325407, 108.71816731, 111.08891328, 113.57153216,\n",
       "       116.03865435, 118.62296631, 121.1903979 , 123.88055311,\n",
       "       126.55238779, 129.35270577, 132.13320431, 135.04818088,\n",
       "       137.94177791, 140.97609237, 143.98740352, 147.14592613,\n",
       "       150.27975539, 153.56755516, 156.82890257, 160.25125538,\n",
       "       163.64532505, 167.2077221 , 170.73993051, 174.4480871 ,\n",
       "       178.12407176, 181.98393644, 185.80956497, 189.82732902,\n",
       "       193.80870848, 197.99081589, 202.13430256, 206.48746029,\n",
       "       210.79966987, 215.33085858, 219.81867677, 224.53516202,\n",
       "       229.2057555 , 234.11509936, 238.97592731, 244.08600044,\n",
       "       249.14482644, 254.46382074, 259.72872521, 265.26516688,\n",
       "       270.74456   , 276.50732319, 282.20995837, 288.20827939,\n",
       "       294.14326728, 300.38675939, 306.56358242, 313.0622512 ,\n",
       "       319.49077881, 326.25503815, 332.94554255, 339.98623137,\n",
       "       346.94940396, 354.27780349, 361.52477203, 369.15262391,\n",
       "       376.69497026, 384.6344953 , 392.48427398, 400.74819174,\n",
       "       408.91794923, 417.51949834, 426.02229315, 434.97525252,\n",
       "       443.82467607, 453.14338694, 462.35358532, 472.0529742 ,\n",
       "       481.63867082, 491.73427337, 500.        ])"
      ]
     },
     "execution_count": 16,
     "metadata": {},
     "output_type": "execute_result"
    }
   ],
   "source": [
    "SCC_array"
   ]
  },
  {
   "cell_type": "code",
   "execution_count": 17,
   "id": "824dda4d",
   "metadata": {},
   "outputs": [
    {
     "data": {
      "text/plain": [
       "Text(0, 0.5, 'SCC ($)')"
      ]
     },
     "execution_count": 17,
     "metadata": {},
     "output_type": "execute_result"
    },
    {
     "data": {
      "image/png": "[encoded data removed]",
      "text/plain": [
       "<Figure size 432x288 with 1 Axes>"
      ]
     },
     "metadata": {},
     "output_type": "display_data"
    }
   ],
   "source": [
    "plt.plot(year_of_perturbation[:len(SCC_array)], SCC_array)\n",
    "plt.xlabel(\"Year\")\n",
    "plt.ylabel(\"SCC ($)\")"
   ]
  },
  {
   "cell_type": "markdown",
   "id": "4527dfe3",
   "metadata": {},
   "source": [
    "### Check 100% abatement has been achieved!"
   ]
  },
  {
   "cell_type": "code",
   "execution_count": 18,
   "id": "2afc6578",
   "metadata": {},
   "outputs": [],
   "source": [
    "if SCC_array[-1] < P_100:\n",
    "    print(\"P_100 not achieved by achieved by final perturbed year\")"
   ]
  },
  {
   "cell_type": "markdown",
   "id": "43df3ec9",
   "metadata": {},
   "source": [
    "### Fit SCC line to forecast"
   ]
  },
  {
   "cell_type": "code",
   "execution_count": 19,
   "id": "275ac1de",
   "metadata": {},
   "outputs": [],
   "source": [
    "# plt.plot(year_of_perturbation, SCC_array)\n",
    "# plt.xlabel(\"Year\")\n",
    "# plt.ylabel(\"SCC ($)\")\n",
    "# plt.yscale(\"log\")"
   ]
  },
  {
   "cell_type": "code",
   "execution_count": 20,
   "id": "244421d9",
   "metadata": {},
   "outputs": [],
   "source": [
    "# log_SCC = np.log(SCC_array)"
   ]
  },
  {
   "cell_type": "code",
   "execution_count": 21,
   "id": "fc615b64",
   "metadata": {},
   "outputs": [],
   "source": [
    "# ## add linear fit\n",
    "# X = sm.add_constant(year_of_perturbation) # add a constant to fit\n",
    "# results = sm.OLS(log_SCC, X).fit() # save results of fit"
   ]
  },
  {
   "cell_type": "code",
   "execution_count": 22,
   "id": "aae9a79e",
   "metadata": {},
   "outputs": [],
   "source": [
    "# #Plot with Fit & Summary \n",
    "# plt.plot(year_of_perturbation, log_SCC)\n",
    "# plt.plot(year_of_perturbation, results.params[0]+results.params[1]*year_of_perturbation, 'r' , label='fitted_line')\n",
    "# plt.xlabel(\"Year\")\n",
    "# plt.ylabel(\"ln(SCC)\")"
   ]
  },
  {
   "cell_type": "code",
   "execution_count": 23,
   "id": "0e7ad256",
   "metadata": {},
   "outputs": [],
   "source": [
    "# SCC_forecasted = np.exp(results.params[0]+results.params[1]*T_forecast_years)"
   ]
  },
  {
   "cell_type": "code",
   "execution_count": 24,
   "id": "099b7b14",
   "metadata": {},
   "outputs": [
    {
     "data": {
      "text/plain": [
       "982"
      ]
     },
     "execution_count": 24,
     "metadata": {},
     "output_type": "execute_result"
    }
   ],
   "source": [
    "T_forecast_length"
   ]
  },
  {
   "cell_type": "code",
   "execution_count": 25,
   "id": "8926e6b1",
   "metadata": {},
   "outputs": [],
   "source": [
    "SCC_forecasted = []\n",
    "\n",
    "for i in range(T_forecast_length):\n",
    "    if i < len(SCC_array):\n",
    "        SCC_forecasted.append(SCC_array[i])\n",
    "    else:\n",
    "#         SCC_forecasted.append(SCC_array[-1])\n",
    "        SCC_forecasted.append(P_100)\n",
    "\n",
    "SCC_forecasted = np.array(SCC_forecasted)"
   ]
  },
  {
   "cell_type": "code",
   "execution_count": 26,
   "id": "ae6b677a",
   "metadata": {},
   "outputs": [
    {
     "data": {
      "text/plain": [
       "array([ 30.99161374,  31.82862249,  32.67252537,  33.54406869,\n",
       "        34.42203626,  35.32952354,  36.242946  ,  37.18784413,\n",
       "        38.13816842,  39.12200418,  40.11073628,  41.13509873,\n",
       "        42.16380611,  43.23034918,  44.30066325,  45.41110835,\n",
       "        46.52472711,  47.68086593,  48.83955668,  50.04325399,\n",
       "        51.24885615,  52.50205287,  53.75648091,  55.06119714,\n",
       "        56.3664437 ,  57.72478199,  59.082921  ,  60.49706969,\n",
       "        61.91025974,  63.3824965 ,  64.85298425,  66.3856797 ,\n",
       "        67.91580352,  69.51142502,  71.10361868,  72.76473429,\n",
       "        74.42153092,  76.15081349,  77.87484958,  79.67508106,\n",
       "        81.4691007 ,  83.34317656,  85.21003582,  87.1609697 ,\n",
       "        89.10364123,  91.13456976,  93.1561475 ,  95.27033532,\n",
       "        97.37403948,  99.57488446, 101.76406669, 104.05510536,\n",
       "       106.33325407, 108.71816731, 111.08891328, 113.57153216,\n",
       "       116.03865435, 118.62296631, 121.1903979 , 123.88055311,\n",
       "       126.55238779, 129.35270577, 132.13320431, 135.04818088,\n",
       "       137.94177791, 140.97609237, 143.98740352, 147.14592613,\n",
       "       150.27975539, 153.56755516, 156.82890257, 160.25125538,\n",
       "       163.64532505, 167.2077221 , 170.73993051, 174.4480871 ,\n",
       "       178.12407176, 181.98393644, 185.80956497, 189.82732902,\n",
       "       193.80870848, 197.99081589, 202.13430256, 206.48746029,\n",
       "       210.79966987, 215.33085858, 219.81867677, 224.53516202,\n",
       "       229.2057555 , 234.11509936, 238.97592731, 244.08600044,\n",
       "       249.14482644, 254.46382074, 259.72872521, 265.26516688,\n",
       "       270.74456   , 276.50732319, 282.20995837, 288.20827939,\n",
       "       294.14326728, 300.38675939, 306.56358242, 313.0622512 ,\n",
       "       319.49077881, 326.25503815, 332.94554255, 339.98623137,\n",
       "       346.94940396, 354.27780349, 361.52477203, 369.15262391,\n",
       "       376.69497026, 384.6344953 , 392.48427398, 400.74819174,\n",
       "       408.91794923, 417.51949834, 426.02229315, 434.97525252,\n",
       "       443.82467607, 453.14338694, 462.35358532, 472.0529742 ,\n",
       "       481.63867082, 491.73427337, 500.        , 500.        ,\n",
       "       500.        , 500.        , 500.        , 500.        ,\n",
       "       500.        , 500.        , 500.        , 500.        ,\n",
       "       500.        , 500.        , 500.        , 500.        ,\n",
       "       500.        , 500.        , 500.        , 500.        ,\n",
       "       500.        , 500.        , 500.        , 500.        ,\n",
       "       500.        , 500.        , 500.        , 500.        ,\n",
       "       500.        , 500.        , 500.        , 500.        ,\n",
       "       500.        , 500.        , 500.        , 500.        ,\n",
       "       500.        , 500.        , 500.        , 500.        ,\n",
       "       500.        , 500.        , 500.        , 500.        ,\n",
       "       500.        , 500.        , 500.        , 500.        ,\n",
       "       500.        , 500.        , 500.        , 500.        ,\n",
       "       500.        , 500.        , 500.        , 500.        ,\n",
       "       500.        , 500.        , 500.        , 500.        ,\n",
       "       500.        , 500.        , 500.        , 500.        ,\n",
       "       500.        , 500.        , 500.        , 500.        ,\n",
       "       500.        , 500.        , 500.        , 500.        ,\n",
       "       500.        , 500.        , 500.        , 500.        ,\n",
       "       500.        , 500.        , 500.        , 500.        ,\n",
       "       500.        , 500.        , 500.        , 500.        ,\n",
       "       500.        , 500.        , 500.        , 500.        ,\n",
       "       500.        , 500.        , 500.        , 500.        ,\n",
       "       500.        , 500.        , 500.        , 500.        ,\n",
       "       500.        , 500.        , 500.        , 500.        ,\n",
       "       500.        , 500.        , 500.        , 500.        ,\n",
       "       500.        , 500.        , 500.        , 500.        ,\n",
       "       500.        , 500.        , 500.        , 500.        ,\n",
       "       500.        , 500.        , 500.        , 500.        ,\n",
       "       500.        , 500.        , 500.        , 500.        ,\n",
       "       500.        , 500.        , 500.        , 500.        ,\n",
       "       500.        , 500.        , 500.        , 500.        ,\n",
       "       500.        , 500.        , 500.        , 500.        ,\n",
       "       500.        , 500.        , 500.        , 500.        ,\n",
       "       500.        , 500.        , 500.        , 500.        ,\n",
       "       500.        , 500.        , 500.        , 500.        ,\n",
       "       500.        , 500.        , 500.        , 500.        ,\n",
       "       500.        , 500.        , 500.        , 500.        ,\n",
       "       500.        , 500.        , 500.        , 500.        ,\n",
       "       500.        , 500.        , 500.        , 500.        ,\n",
       "       500.        , 500.        , 500.        , 500.        ,\n",
       "       500.        , 500.        , 500.        , 500.        ,\n",
       "       500.        , 500.        , 500.        , 500.        ,\n",
       "       500.        , 500.        , 500.        , 500.        ,\n",
       "       500.        , 500.        , 500.        , 500.        ,\n",
       "       500.        , 500.        , 500.        , 500.        ,\n",
       "       500.        , 500.        , 500.        , 500.        ,\n",
       "       500.        , 500.        , 500.        , 500.        ,\n",
       "       500.        , 500.        , 500.        , 500.        ,\n",
       "       500.        , 500.        , 500.        , 500.        ,\n",
       "       500.        , 500.        , 500.        , 500.        ,\n",
       "       500.        , 500.        , 500.        , 500.        ,\n",
       "       500.        , 500.        , 500.        , 500.        ,\n",
       "       500.        , 500.        , 500.        , 500.        ,\n",
       "       500.        , 500.        , 500.        , 500.        ,\n",
       "       500.        , 500.        , 500.        , 500.        ,\n",
       "       500.        , 500.        , 500.        , 500.        ,\n",
       "       500.        , 500.        , 500.        , 500.        ,\n",
       "       500.        , 500.        , 500.        , 500.        ,\n",
       "       500.        , 500.        , 500.        , 500.        ,\n",
       "       500.        , 500.        , 500.        , 500.        ,\n",
       "       500.        , 500.        , 500.        , 500.        ,\n",
       "       500.        , 500.        , 500.        , 500.        ,\n",
       "       500.        , 500.        , 500.        , 500.        ,\n",
       "       500.        , 500.        , 500.        , 500.        ,\n",
       "       500.        , 500.        , 500.        , 500.        ,\n",
       "       500.        , 500.        , 500.        , 500.        ,\n",
       "       500.        , 500.        , 500.        , 500.        ,\n",
       "       500.        , 500.        , 500.        , 500.        ,\n",
       "       500.        , 500.        , 500.        , 500.        ,\n",
       "       500.        , 500.        , 500.        , 500.        ,\n",
       "       500.        , 500.        , 500.        , 500.        ,\n",
       "       500.        , 500.        , 500.        , 500.        ,\n",
       "       500.        , 500.        , 500.        , 500.        ,\n",
       "       500.        , 500.        , 500.        , 500.        ,\n",
       "       500.        , 500.        , 500.        , 500.        ,\n",
       "       500.        , 500.        , 500.        , 500.        ,\n",
       "       500.        , 500.        , 500.        , 500.        ,\n",
       "       500.        , 500.        , 500.        , 500.        ,\n",
       "       500.        , 500.        , 500.        , 500.        ,\n",
       "       500.        , 500.        , 500.        , 500.        ,\n",
       "       500.        , 500.        , 500.        , 500.        ,\n",
       "       500.        , 500.        , 500.        , 500.        ,\n",
       "       500.        , 500.        , 500.        , 500.        ,\n",
       "       500.        , 500.        , 500.        , 500.        ,\n",
       "       500.        , 500.        , 500.        , 500.        ,\n",
       "       500.        , 500.        , 500.        , 500.        ,\n",
       "       500.        , 500.        , 500.        , 500.        ,\n",
       "       500.        , 500.        , 500.        , 500.        ,\n",
       "       500.        , 500.        , 500.        , 500.        ,\n",
       "       500.        , 500.        , 500.        , 500.        ,\n",
       "       500.        , 500.        , 500.        , 500.        ,\n",
       "       500.        , 500.        , 500.        , 500.        ,\n",
       "       500.        , 500.        , 500.        , 500.        ,\n",
       "       500.        , 500.        , 500.        , 500.        ,\n",
       "       500.        , 500.        , 500.        , 500.        ,\n",
       "       500.        , 500.        , 500.        , 500.        ,\n",
       "       500.        , 500.        , 500.        , 500.        ,\n",
       "       500.        , 500.        , 500.        , 500.        ,\n",
       "       500.        , 500.        , 500.        , 500.        ,\n",
       "       500.        , 500.        , 500.        , 500.        ,\n",
       "       500.        , 500.        , 500.        , 500.        ,\n",
       "       500.        , 500.        , 500.        , 500.        ,\n",
       "       500.        , 500.        , 500.        , 500.        ,\n",
       "       500.        , 500.        , 500.        , 500.        ,\n",
       "       500.        , 500.        , 500.        , 500.        ,\n",
       "       500.        , 500.        , 500.        , 500.        ,\n",
       "       500.        , 500.        , 500.        , 500.        ,\n",
       "       500.        , 500.        , 500.        , 500.        ,\n",
       "       500.        , 500.        , 500.        , 500.        ,\n",
       "       500.        , 500.        , 500.        , 500.        ,\n",
       "       500.        , 500.        , 500.        , 500.        ,\n",
       "       500.        , 500.        , 500.        , 500.        ,\n",
       "       500.        , 500.        , 500.        , 500.        ,\n",
       "       500.        , 500.        , 500.        , 500.        ,\n",
       "       500.        , 500.        , 500.        , 500.        ,\n",
       "       500.        , 500.        , 500.        , 500.        ,\n",
       "       500.        , 500.        , 500.        , 500.        ,\n",
       "       500.        , 500.        , 500.        , 500.        ,\n",
       "       500.        , 500.        , 500.        , 500.        ,\n",
       "       500.        , 500.        , 500.        , 500.        ,\n",
       "       500.        , 500.        , 500.        , 500.        ,\n",
       "       500.        , 500.        , 500.        , 500.        ,\n",
       "       500.        , 500.        , 500.        , 500.        ,\n",
       "       500.        , 500.        , 500.        , 500.        ,\n",
       "       500.        , 500.        , 500.        , 500.        ,\n",
       "       500.        , 500.        , 500.        , 500.        ,\n",
       "       500.        , 500.        , 500.        , 500.        ,\n",
       "       500.        , 500.        , 500.        , 500.        ,\n",
       "       500.        , 500.        , 500.        , 500.        ,\n",
       "       500.        , 500.        , 500.        , 500.        ,\n",
       "       500.        , 500.        , 500.        , 500.        ,\n",
       "       500.        , 500.        , 500.        , 500.        ,\n",
       "       500.        , 500.        , 500.        , 500.        ,\n",
       "       500.        , 500.        , 500.        , 500.        ,\n",
       "       500.        , 500.        , 500.        , 500.        ,\n",
       "       500.        , 500.        , 500.        , 500.        ,\n",
       "       500.        , 500.        , 500.        , 500.        ,\n",
       "       500.        , 500.        , 500.        , 500.        ,\n",
       "       500.        , 500.        , 500.        , 500.        ,\n",
       "       500.        , 500.        , 500.        , 500.        ,\n",
       "       500.        , 500.        , 500.        , 500.        ,\n",
       "       500.        , 500.        , 500.        , 500.        ,\n",
       "       500.        , 500.        , 500.        , 500.        ,\n",
       "       500.        , 500.        , 500.        , 500.        ,\n",
       "       500.        , 500.        , 500.        , 500.        ,\n",
       "       500.        , 500.        , 500.        , 500.        ,\n",
       "       500.        , 500.        , 500.        , 500.        ,\n",
       "       500.        , 500.        , 500.        , 500.        ,\n",
       "       500.        , 500.        , 500.        , 500.        ,\n",
       "       500.        , 500.        , 500.        , 500.        ,\n",
       "       500.        , 500.        , 500.        , 500.        ,\n",
       "       500.        , 500.        , 500.        , 500.        ,\n",
       "       500.        , 500.        , 500.        , 500.        ,\n",
       "       500.        , 500.        , 500.        , 500.        ,\n",
       "       500.        , 500.        , 500.        , 500.        ,\n",
       "       500.        , 500.        , 500.        , 500.        ,\n",
       "       500.        , 500.        , 500.        , 500.        ,\n",
       "       500.        , 500.        , 500.        , 500.        ,\n",
       "       500.        , 500.        , 500.        , 500.        ,\n",
       "       500.        , 500.        , 500.        , 500.        ,\n",
       "       500.        , 500.        , 500.        , 500.        ,\n",
       "       500.        , 500.        , 500.        , 500.        ,\n",
       "       500.        , 500.        , 500.        , 500.        ,\n",
       "       500.        , 500.        , 500.        , 500.        ,\n",
       "       500.        , 500.        , 500.        , 500.        ,\n",
       "       500.        , 500.        , 500.        , 500.        ,\n",
       "       500.        , 500.        , 500.        , 500.        ,\n",
       "       500.        , 500.        , 500.        , 500.        ,\n",
       "       500.        , 500.        , 500.        , 500.        ,\n",
       "       500.        , 500.        , 500.        , 500.        ,\n",
       "       500.        , 500.        , 500.        , 500.        ,\n",
       "       500.        , 500.        , 500.        , 500.        ,\n",
       "       500.        , 500.        , 500.        , 500.        ,\n",
       "       500.        , 500.        , 500.        , 500.        ,\n",
       "       500.        , 500.        , 500.        , 500.        ,\n",
       "       500.        , 500.        , 500.        , 500.        ,\n",
       "       500.        , 500.        , 500.        , 500.        ,\n",
       "       500.        , 500.        , 500.        , 500.        ,\n",
       "       500.        , 500.        , 500.        , 500.        ,\n",
       "       500.        , 500.        , 500.        , 500.        ,\n",
       "       500.        , 500.        , 500.        , 500.        ,\n",
       "       500.        , 500.        , 500.        , 500.        ,\n",
       "       500.        , 500.        , 500.        , 500.        ,\n",
       "       500.        , 500.        , 500.        , 500.        ,\n",
       "       500.        , 500.        , 500.        , 500.        ,\n",
       "       500.        , 500.        , 500.        , 500.        ,\n",
       "       500.        , 500.        , 500.        , 500.        ,\n",
       "       500.        , 500.        , 500.        , 500.        ,\n",
       "       500.        , 500.        , 500.        , 500.        ,\n",
       "       500.        , 500.        , 500.        , 500.        ,\n",
       "       500.        , 500.        , 500.        , 500.        ,\n",
       "       500.        , 500.        , 500.        , 500.        ,\n",
       "       500.        , 500.        , 500.        , 500.        ,\n",
       "       500.        , 500.        , 500.        , 500.        ,\n",
       "       500.        , 500.        , 500.        , 500.        ,\n",
       "       500.        , 500.        , 500.        , 500.        ,\n",
       "       500.        , 500.        , 500.        , 500.        ,\n",
       "       500.        , 500.        , 500.        , 500.        ,\n",
       "       500.        , 500.        , 500.        , 500.        ,\n",
       "       500.        , 500.        , 500.        , 500.        ,\n",
       "       500.        , 500.        , 500.        , 500.        ,\n",
       "       500.        , 500.        , 500.        , 500.        ,\n",
       "       500.        , 500.        , 500.        , 500.        ,\n",
       "       500.        , 500.        , 500.        , 500.        ,\n",
       "       500.        , 500.        , 500.        , 500.        ,\n",
       "       500.        , 500.        , 500.        , 500.        ,\n",
       "       500.        , 500.        , 500.        , 500.        ,\n",
       "       500.        , 500.        , 500.        , 500.        ,\n",
       "       500.        , 500.        , 500.        , 500.        ,\n",
       "       500.        , 500.        , 500.        , 500.        ,\n",
       "       500.        , 500.        , 500.        , 500.        ,\n",
       "       500.        , 500.        , 500.        , 500.        ,\n",
       "       500.        , 500.        , 500.        , 500.        ,\n",
       "       500.        , 500.        ])"
      ]
     },
     "execution_count": 26,
     "metadata": {},
     "output_type": "execute_result"
    }
   ],
   "source": [
    "SCC_forecasted"
   ]
  },
  {
   "cell_type": "code",
   "execution_count": 27,
   "id": "ef9dcd63",
   "metadata": {},
   "outputs": [
    {
     "data": {
      "image/png": "[encoded data removed]",
      "text/plain": [
       "<Figure size 432x288 with 1 Axes>"
      ]
     },
     "metadata": {},
     "output_type": "display_data"
    }
   ],
   "source": [
    "plt.plot(T_forecast_years, SCC_forecasted)\n",
    "plt.xlabel(\"Year\")\n",
    "plt.ylabel(\"SCC ($)\")\n",
    "plt.yscale(\"log\")"
   ]
  },
  {
   "cell_type": "markdown",
   "id": "b85d4a61",
   "metadata": {},
   "source": [
    "## 3. Abatement as a function of time"
   ]
  },
  {
   "cell_type": "code",
   "execution_count": 28,
   "id": "a598428e",
   "metadata": {},
   "outputs": [],
   "source": [
    "P0 = SCC_forecasted[0]"
   ]
  },
  {
   "cell_type": "code",
   "execution_count": 29,
   "id": "b90c019f",
   "metadata": {
    "scrolled": true
   },
   "outputs": [
    {
     "name": "stderr",
     "output_type": "stream",
     "text": [
      "/var/folders/m4/mbpwp5q15070t8lqj4fj7mjr0000gn/T/ipykernel_99964/3748283578.py:33: RuntimeWarning: divide by zero encountered in power\n",
      "  A = Am / (1 + ((P - P0) / (P_h - P0)) ** (-s / r))\n"
     ]
    }
   ],
   "source": [
    "forecasted_abatement = abatement(P=SCC_forecasted, P0=P0)  # , r=consumption_discount"
   ]
  },
  {
   "cell_type": "markdown",
   "id": "ce23d485",
   "metadata": {},
   "source": [
    "problems with certain values due to constraints of the model"
   ]
  },
  {
   "cell_type": "code",
   "execution_count": 30,
   "id": "ee6144a3",
   "metadata": {
    "scrolled": true
   },
   "outputs": [],
   "source": [
    "# abatement(P=np.array([50]), P0=P0, r=consumption_discount, P_100=200)"
   ]
  },
  {
   "cell_type": "code",
   "execution_count": 31,
   "id": "ad9ae8c7",
   "metadata": {},
   "outputs": [],
   "source": [
    "# P0"
   ]
  },
  {
   "cell_type": "code",
   "execution_count": 32,
   "id": "13ad0aee",
   "metadata": {},
   "outputs": [],
   "source": [
    "# r=0.04\n",
    "# s=0.029687500000000006\n",
    "# (P_50 - P0) ** (-s / r) - 2 * (P_100 - P0) ** (-s / r)"
   ]
  },
  {
   "cell_type": "code",
   "execution_count": 33,
   "id": "54d9db47",
   "metadata": {},
   "outputs": [],
   "source": [
    "# ((P_50 - P0) ** (-s / r) - 2 * (P_100 - P0) ** (-s / r)) ** (-r / s)"
   ]
  },
  {
   "cell_type": "code",
   "execution_count": null,
   "id": "aa2c7a0f",
   "metadata": {},
   "outputs": [],
   "source": []
  },
  {
   "cell_type": "code",
   "execution_count": 34,
   "id": "7a45a7c4",
   "metadata": {},
   "outputs": [
    {
     "data": {
      "text/plain": [
       "2500"
      ]
     },
     "execution_count": 34,
     "metadata": {},
     "output_type": "execute_result"
    }
   ],
   "source": [
    "T_forecast_years[last_perturbed_year - 2019]"
   ]
  },
  {
   "cell_type": "code",
   "execution_count": 35,
   "id": "832b66da",
   "metadata": {},
   "outputs": [
    {
     "data": {
      "text/plain": [
       "1.0"
      ]
     },
     "execution_count": 35,
     "metadata": {},
     "output_type": "execute_result"
    }
   ],
   "source": [
    "forecasted_abatement[last_perturbed_year - 2019]"
   ]
  },
  {
   "cell_type": "code",
   "execution_count": 36,
   "id": "74f04839",
   "metadata": {},
   "outputs": [
    {
     "data": {
      "text/plain": [
       "Text(0, 0.5, 'Abatement')"
      ]
     },
     "execution_count": 36,
     "metadata": {},
     "output_type": "execute_result"
    },
    {
     "data": {
      "image/png": "[encoded data removed]",
      "text/plain": [
       "<Figure size 432x288 with 1 Axes>"
      ]
     },
     "metadata": {},
     "output_type": "display_data"
    }
   ],
   "source": [
    "plt.plot(T_forecast_years, forecasted_abatement)\n",
    "plt.xlabel(\"Year\")\n",
    "plt.ylabel(\"Abatement\")"
   ]
  },
  {
   "cell_type": "markdown",
   "id": "351acbf6",
   "metadata": {},
   "source": [
    "## 4. Abatement to emissions"
   ]
  },
  {
   "cell_type": "code",
   "execution_count": 37,
   "id": "d50edac1",
   "metadata": {},
   "outputs": [],
   "source": [
    "# # choose ssp to use\n",
    "# ssp='ssp245'\n",
    "\n",
    "# # get emissions data using imported scripts + convert into FaIRv2.0.0-alpha multiindex format\n",
    "# ssp_emms = pd.concat([get_ssp_emissions(ssp)],axis=1,keys=[ssp])"
   ]
  },
  {
   "cell_type": "code",
   "execution_count": 38,
   "id": "cab40b26",
   "metadata": {},
   "outputs": [],
   "source": [
    "# ssp_emms[\"ssp245\"].to_csv(\"ssp245.csv\")"
   ]
  },
  {
   "cell_type": "code",
   "execution_count": 39,
   "id": "fc4b70e0",
   "metadata": {},
   "outputs": [],
   "source": [
    "ssp_df = pd.read_csv(\"ssp245.csv\", index_col=0)"
   ]
  },
  {
   "cell_type": "code",
   "execution_count": 40,
   "id": "d35c6e25",
   "metadata": {},
   "outputs": [],
   "source": [
    "# ssp245_CO2_past = ssp_emms[\"ssp245\"][\"carbon_dioxide\"]*(44/12)  "
   ]
  },
  {
   "cell_type": "code",
   "execution_count": 41,
   "id": "9931f49d",
   "metadata": {},
   "outputs": [],
   "source": [
    "ssp245_CO2_past = ssp_df[\"carbon_dioxide\"]*(44/12)  "
   ]
  },
  {
   "cell_type": "code",
   "execution_count": 42,
   "id": "517f8ae9",
   "metadata": {},
   "outputs": [],
   "source": [
    "CO2_baseline = ssp245_CO2_past[2019] # set baseline to current emissions"
   ]
  },
  {
   "cell_type": "code",
   "execution_count": 43,
   "id": "d5b39b78",
   "metadata": {},
   "outputs": [],
   "source": [
    "forecasted_emissions = abatement_to_emissions(forecasted_abatement, CO2_baseline)"
   ]
  },
  {
   "cell_type": "code",
   "execution_count": 44,
   "id": "3836f4ce",
   "metadata": {},
   "outputs": [
    {
     "data": {
      "text/plain": [
       "<matplotlib.legend.Legend at 0x7f95ac46f1f0>"
      ]
     },
     "execution_count": 44,
     "metadata": {},
     "output_type": "execute_result"
    },
    {
     "data": {
      "image/png": "[encoded data removed]",
      "text/plain": [
       "<Figure size 432x288 with 1 Axes>"
      ]
     },
     "metadata": {},
     "output_type": "display_data"
    }
   ],
   "source": [
    "plt.plot(ssp245_CO2_past, label=\"historical emissions\")\n",
    "plt.plot(T_forecast_years, forecasted_emissions, label=\"forecasted emissions\")\n",
    "plt.xlabel(\"Year\")\n",
    "plt.ylabel(\"CO2 Emissions / GtCO2\")\n",
    "plt.legend()"
   ]
  },
  {
   "cell_type": "markdown",
   "id": "3a514bf1",
   "metadata": {},
   "source": [
    "## 5. Cumulative Emissions to Temperature Change"
   ]
  },
  {
   "cell_type": "code",
   "execution_count": 45,
   "id": "73bf2aa6",
   "metadata": {},
   "outputs": [],
   "source": [
    "cumulative_emissions_array = np.append(np.zeros(1), np.cumsum(forecasted_emissions)[:-1])"
   ]
  },
  {
   "cell_type": "code",
   "execution_count": 46,
   "id": "fd92bad9",
   "metadata": {},
   "outputs": [],
   "source": [
    "# cumulative_emissions"
   ]
  },
  {
   "cell_type": "code",
   "execution_count": 47,
   "id": "312af8b5",
   "metadata": {},
   "outputs": [],
   "source": [
    "# len(cumulative_emissions)"
   ]
  },
  {
   "cell_type": "code",
   "execution_count": 48,
   "id": "ab8dc657",
   "metadata": {},
   "outputs": [],
   "source": [
    "# cumulative_emissions = []\n",
    "\n",
    "# for i in range(len(T_forecast_years)):\n",
    "#     area = simps(forecasted_emissions[:i+1], dx=1)\n",
    "#     cumulative_emissions.append(area)"
   ]
  },
  {
   "cell_type": "code",
   "execution_count": 49,
   "id": "2d272b2b",
   "metadata": {},
   "outputs": [],
   "source": [
    "# cumulative_emissions_array = np.asarray(cumulative_emissions)"
   ]
  },
  {
   "cell_type": "code",
   "execution_count": 50,
   "id": "0ea3fb64",
   "metadata": {},
   "outputs": [],
   "source": [
    "temperature_change = T_TCRE*cumulative_emissions_array"
   ]
  },
  {
   "cell_type": "code",
   "execution_count": 51,
   "id": "1bc01e55",
   "metadata": {},
   "outputs": [],
   "source": [
    "# temperature_change_plateau = np.array(temperature_change, copy=True)\n",
    "\n",
    "# for i in range(len(temperature_change_plateau)):\n",
    "#     if i > np.argmax(temperature_change_plateau):\n",
    "#         temperature_change_plateau[i] = max(temperature_change_plateau)"
   ]
  },
  {
   "cell_type": "code",
   "execution_count": 52,
   "id": "6fd34d07",
   "metadata": {},
   "outputs": [
    {
     "data": {
      "text/plain": [
       "1.163385571122259"
      ]
     },
     "execution_count": 52,
     "metadata": {},
     "output_type": "execute_result"
    }
   ],
   "source": [
    "max(temperature_change)"
   ]
  },
  {
   "cell_type": "code",
   "execution_count": 53,
   "id": "098a473c",
   "metadata": {},
   "outputs": [],
   "source": [
    "T_forecast_iteration0 = T_2019 + temperature_change\n",
    "# T_forecast_iteration0_plateau = T_2019 + temperature_change_plateau"
   ]
  },
  {
   "cell_type": "code",
   "execution_count": 54,
   "id": "2d4905dc",
   "metadata": {},
   "outputs": [
    {
     "data": {
      "text/plain": [
       "<matplotlib.legend.Legend at 0x7f95ac676b20>"
      ]
     },
     "execution_count": 54,
     "metadata": {},
     "output_type": "execute_result"
    },
    {
     "data": {
      "image/png": "[encoded data removed]",
      "text/plain": [
       "<Figure size 432x288 with 1 Axes>"
      ]
     },
     "metadata": {},
     "output_type": "display_data"
    }
   ],
   "source": [
    "plt.plot(T_forecast_years, T_forecast, label=\"initial guess\")\n",
    "plt.plot(T_forecast_years, T_forecast_iteration0, label=\"iteration 0\")\n",
    "# plt.plot(T_forecast_years, T_forecast_iteration0_plateau, label=\"iteration 0 plateau\")\n",
    "plt.xlabel(\"year\")\n",
    "plt.ylabel(\"temperature / K\")\n",
    "plt.legend()"
   ]
  },
  {
   "cell_type": "markdown",
   "id": "5caeb893",
   "metadata": {},
   "source": [
    "# Iterating Further"
   ]
  },
  {
   "cell_type": "code",
   "execution_count": 64,
   "id": "d69d4920",
   "metadata": {},
   "outputs": [],
   "source": [
    "# T_forecast_first_loop = T_forecast_iteration0_plateau\n",
    "# T_forecast_iteration = T_forecast_iteration0_plateau"
   ]
  },
  {
   "cell_type": "code",
   "execution_count": 65,
   "id": "d6664051",
   "metadata": {},
   "outputs": [],
   "source": [
    "T_forecast_first_loop = T_forecast_iteration0\n",
    "T_forecast_iteration = T_forecast_iteration0"
   ]
  },
  {
   "cell_type": "code",
   "execution_count": 66,
   "id": "0bdc0913",
   "metadata": {},
   "outputs": [
    {
     "name": "stderr",
     "output_type": "stream",
     "text": [
      "/var/folders/m4/mbpwp5q15070t8lqj4fj7mjr0000gn/T/ipykernel_99964/3748283578.py:33: RuntimeWarning: divide by zero encountered in power\n",
      "  A = Am / (1 + ((P - P0) / (P_h - P0)) ** (-s / r))\n",
      "/var/folders/m4/mbpwp5q15070t8lqj4fj7mjr0000gn/T/ipykernel_99964/3748283578.py:33: RuntimeWarning: divide by zero encountered in power\n",
      "  A = Am / (1 + ((P - P0) / (P_h - P0)) ** (-s / r))\n",
      "/var/folders/m4/mbpwp5q15070t8lqj4fj7mjr0000gn/T/ipykernel_99964/3748283578.py:33: RuntimeWarning: divide by zero encountered in power\n",
      "  A = Am / (1 + ((P - P0) / (P_h - P0)) ** (-s / r))\n",
      "/var/folders/m4/mbpwp5q15070t8lqj4fj7mjr0000gn/T/ipykernel_99964/3748283578.py:33: RuntimeWarning: divide by zero encountered in power\n",
      "  A = Am / (1 + ((P - P0) / (P_h - P0)) ** (-s / r))\n",
      "/var/folders/m4/mbpwp5q15070t8lqj4fj7mjr0000gn/T/ipykernel_99964/3748283578.py:33: RuntimeWarning: divide by zero encountered in power\n",
      "  A = Am / (1 + ((P - P0) / (P_h - P0)) ** (-s / r))\n"
     ]
    },
    {
     "data": {
      "text/plain": [
       "<matplotlib.legend.Legend at 0x7f95aec99af0>"
      ]
     },
     "execution_count": 66,
     "metadata": {},
     "output_type": "execute_result"
    },
    {
     "data": {
      "image/png": "[encoded data removed]",
      "text/plain": [
       "<Figure size 432x288 with 1 Axes>"
      ]
     },
     "metadata": {},
     "output_type": "display_data"
    }
   ],
   "source": [
    "num_of_iterations = 5\n",
    "\n",
    "first_perturbed_year = last_historical_year\n",
    "\n",
    "year_of_perturbation = np.arange(first_perturbed_year, last_perturbed_year+1)\n",
    "\n",
    "plt.plot(T_forecast_years, T_forecast, label=\"initial guess\")\n",
    "plt.plot(T_forecast_years, T_forecast_first_loop, label=\"iteration 0\")\n",
    "\n",
    "for k in range(num_of_iterations):\n",
    "    T_iteration = np.concatenate([T_gas_df['CO2_best'],T_forecast_iteration[1:]])\n",
    "\n",
    "    SCC_list = []\n",
    "\n",
    "    for j in range(len(year_of_perturbation)):\n",
    "        ## define perturbation\n",
    "        T_TCRE = 0.00054  # need to check this! *100 for 100GtCO2 added\n",
    "        k_s = 0.12\n",
    "\n",
    "        T_p = np.zeros(T_forecast_length)\n",
    "\n",
    "        for i in range(len(T_forecast_years)):\n",
    "            if year_of_perturbation[j] <= T_forecast_years[i]:\n",
    "                T_p[i] = T_TCRE*(1-np.exp(-k_s*(T_forecast_years[i]-year_of_perturbation[j])))\n",
    "\n",
    "        T_forecast_perturbed = T_forecast_iteration+T_p\n",
    "\n",
    "        T_perturbed = np.concatenate([T_gas_df['CO2_best'],T_forecast_perturbed[1:]])\n",
    "\n",
    "        ## define discount function\n",
    "        num_of_years = len(years)\n",
    "\n",
    "#         consumption_discount = 0.035\n",
    "        discount_function = np.zeros(num_of_years)\n",
    "\n",
    "        for i in range(num_of_years):\n",
    "            if years[i] >= year_of_perturbation[j]:\n",
    "                discount_function[i] = np.exp(-consumption_discount*(years[i]-year_of_perturbation[j]))\n",
    "        cost, absolute_consumption_loss, discounted_consumption_loss = cost_of_perturbation(T=T_iteration, T_perturb=T_perturbed, W=W, discount_function=discount_function)\n",
    "        SCC = cost/(10**9)\n",
    "        if SCC < P_100:\n",
    "            SCC_list.append(SCC)\n",
    "        else:\n",
    "            SCC_list.append(P_100)\n",
    "            break\n",
    "\n",
    "    SCC_array = np.asarray(SCC_list)\n",
    "#     log_SCC = np.log(SCC_array)\n",
    "\n",
    "#     ## add linear fit\n",
    "#     X = sm.add_constant(year_of_perturbation) # add a constant to fit\n",
    "#     results = sm.OLS(log_SCC, X).fit() # save results of fit\n",
    "\n",
    "#     SCC_forecasted = np.exp(results.params[0]+results.params[1]*T_forecast_years)\n",
    "    SCC_forecasted = []\n",
    "\n",
    "    for i in range(T_forecast_length):\n",
    "        if i < len(SCC_array):\n",
    "            SCC_forecasted.append(SCC_array[i])\n",
    "        else:\n",
    "#             SCC_forecasted.append(SCC_array[-1])\n",
    "            SCC_forecasted.append(P_100)\n",
    "\n",
    "    SCC_forecasted = np.array(SCC_forecasted)\n",
    "\n",
    "    P0 = SCC_forecasted[0]\n",
    "\n",
    "    forecasted_abatement = abatement(P=SCC_forecasted, P0=P0)  # , r=consumption_discount\n",
    "    forecasted_emissions = abatement_to_emissions(forecasted_abatement, CO2_baseline)\n",
    "\n",
    "#     cumulative_emissions = []\n",
    "\n",
    "#     for i in range(len(T_forecast_years)):\n",
    "#         area = simps(forecasted_emissions[:i+1], dx=1)\n",
    "#         cumulative_emissions.append(area)\n",
    "\n",
    "#     cumulative_emissions_array = np.asarray(cumulative_emissions)\n",
    "\n",
    "    cumulative_emissions_array = np.append(np.zeros(1), np.cumsum(forecasted_emissions)[:-1])\n",
    "\n",
    "    temperature_change = T_TCRE*cumulative_emissions_array\n",
    "    \n",
    "    # to return to the previous method remove for loop and T_forecast_iteration = T_2019 + temperature_change\n",
    "#     temperature_change_plateau = np.array(temperature_change, copy=True)\n",
    "#     for i in range(len(temperature_change_plateau)):\n",
    "#         if i > np.argmax(temperature_change_plateau):\n",
    "#             temperature_change_plateau[i] = max(temperature_change_plateau)\n",
    "\n",
    "#     T_forecast_iteration = T_2019 + temperature_change_plateau\n",
    "    \n",
    "    T_forecast_iteration = T_2019 + temperature_change\n",
    "    \n",
    "    plt.plot(T_forecast_years, T_forecast_iteration, label=\"iteration \"+str(k+1))\n",
    "\n",
    "plt.plot(T_gas_df['CO2_best'])\n",
    "plt.xlabel(\"Year\")\n",
    "plt.ylabel(\"Temperature / K\")\n",
    "# plt.xlim(2000, 2250)\n",
    "plt.legend()"
   ]
  },
  {
   "cell_type": "markdown",
   "id": "31832dbd",
   "metadata": {},
   "source": [
    "***this is fairly analogous to the Newton-Raphson Method***\n",
    "- the initial temperature profile is essentially just a starting guess; getting pushed toward temperature profile solution\n",
    "- could stop the iterations when the difference between two consecutive lines is small"
   ]
  },
  {
   "cell_type": "code",
   "execution_count": 58,
   "id": "1b270877",
   "metadata": {},
   "outputs": [
    {
     "data": {
      "text/plain": [
       "2.3582030427921947"
      ]
     },
     "execution_count": 58,
     "metadata": {},
     "output_type": "execute_result"
    }
   ],
   "source": [
    "## peak Temperature\n",
    "max(T_forecast_iteration)"
   ]
  },
  {
   "cell_type": "markdown",
   "id": "f24261ed",
   "metadata": {},
   "source": [
    "under default settings: 2.0439370757585076"
   ]
  },
  {
   "cell_type": "code",
   "execution_count": 59,
   "id": "96ee018d",
   "metadata": {},
   "outputs": [
    {
     "data": {
      "text/plain": [
       "25.898598244111216"
      ]
     },
     "execution_count": 59,
     "metadata": {},
     "output_type": "execute_result"
    }
   ],
   "source": [
    "SCC_forecasted[0]"
   ]
  },
  {
   "cell_type": "code",
   "execution_count": null,
   "id": "fafb778c",
   "metadata": {},
   "outputs": [],
   "source": []
  },
  {
   "cell_type": "code",
   "execution_count": null,
   "id": "bda6e83f",
   "metadata": {},
   "outputs": [],
   "source": []
  },
  {
   "cell_type": "code",
   "execution_count": null,
   "id": "f812782c",
   "metadata": {},
   "outputs": [],
   "source": []
  },
  {
   "cell_type": "code",
   "execution_count": null,
   "id": "30e589cb",
   "metadata": {},
   "outputs": [],
   "source": []
  },
  {
   "cell_type": "code",
   "execution_count": null,
   "id": "2a78ecd2",
   "metadata": {},
   "outputs": [],
   "source": []
  },
  {
   "cell_type": "code",
   "execution_count": null,
   "id": "dc4b33f9",
   "metadata": {},
   "outputs": [],
   "source": []
  }
 ],
 "metadata": {
  "kernelspec": {
   "display_name": "Python 3 (ipykernel)",
   "language": "python",
   "name": "python3"
  },
  "language_info": {
   "codemirror_mode": {
    "name": "ipython",
    "version": 3
   },
   "file_extension": ".py",
   "mimetype": "text/x-python",
   "name": "python",
   "nbconvert_exporter": "python",
   "pygments_lexer": "ipython3",
   "version": "3.9.7"
  }
 },
 "nbformat": 4,
 "nbformat_minor": 5
}
