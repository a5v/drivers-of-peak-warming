{
 "cells": [
  {
   "cell_type": "code",
   "execution_count": 1,
   "id": "79fbd116",
   "metadata": {},
   "outputs": [],
   "source": [
    "from peak_warming_calculator import *\n",
    "import matplotlib.pyplot as plt\n",
    "import seaborn as sns\n",
    "sns.set()\n",
    "sns.set_style(\"whitegrid\")\n",
    "plt.rc('font', family='serif')"
   ]
  },
  {
   "cell_type": "code",
   "execution_count": 2,
   "id": "f88ad1ae",
   "metadata": {},
   "outputs": [],
   "source": [
    "from SALib.sample import saltelli\n",
    "from SALib.analyze import sobol\n",
    "import numpy as np\n",
    "from numpy import genfromtxt"
   ]
  },
  {
   "cell_type": "code",
   "execution_count": 3,
   "id": "019be719",
   "metadata": {},
   "outputs": [],
   "source": [
    "import time"
   ]
  },
  {
   "cell_type": "code",
   "execution_count": 4,
   "id": "84285261",
   "metadata": {},
   "outputs": [],
   "source": [
    "from varying_g_peak_warming_calculator import *"
   ]
  },
  {
   "cell_type": "markdown",
   "id": "8dbf997c",
   "metadata": {},
   "source": [
    "## Sampling Constraint"
   ]
  },
  {
   "cell_type": "code",
   "execution_count": 5,
   "id": "ca1e9747",
   "metadata": {},
   "outputs": [],
   "source": [
    "consumption_growth_array = np.linspace(0.01, 0.035, 6)"
   ]
  },
  {
   "cell_type": "code",
   "execution_count": 6,
   "id": "1557c7ae",
   "metadata": {},
   "outputs": [
    {
     "data": {
      "text/plain": [
       "array([0.01 , 0.015, 0.02 , 0.025, 0.03 , 0.035])"
      ]
     },
     "execution_count": 6,
     "metadata": {},
     "output_type": "execute_result"
    }
   ],
   "source": [
    "consumption_growth_array"
   ]
  },
  {
   "cell_type": "code",
   "execution_count": 7,
   "id": "6a4f7460",
   "metadata": {},
   "outputs": [],
   "source": [
    "# Define the model inputs\n",
    "problem_2 = {\n",
    "'num_vars': 3,\n",
    "'names': ['P_50/P_100', 'weak constraint', 'P_100'],\n",
    "'bounds': [[0.4, 0.8],\n",
    "[2.1, 3.1],\n",
    "[100, 500]]\n",
    "}\n",
    "# Generate samples\n",
    "param_values_2 = saltelli.sample(problem_2, 16)"
   ]
  },
  {
   "cell_type": "code",
   "execution_count": 8,
   "id": "8fc85f07",
   "metadata": {},
   "outputs": [],
   "source": [
    "P_100_list = []\n",
    "\n",
    "for i in range(len(param_values_2)):\n",
    "    P_100_list.append(param_values_2[i][2])"
   ]
  },
  {
   "cell_type": "code",
   "execution_count": 9,
   "id": "bb286cf2",
   "metadata": {},
   "outputs": [],
   "source": [
    "def vary_consumption_growth2(consumption_growth):\n",
    "    Y = np.zeros([param_values_2.shape[0]])\n",
    "    SCC_forecasted_0 = np.zeros([param_values_2.shape[0]])\n",
    "    T_year_list = np.zeros([param_values_2.shape[0]])\n",
    "\n",
    "#     consumption_growth = 0.020\n",
    "    consumption_discount = consumption_growth + 0.015\n",
    "\n",
    "    for i in range(len(param_values_2)):\n",
    "        if i%8 == 0:\n",
    "            print(i)\n",
    "            t = time.localtime()\n",
    "            current_time = time.strftime(\"%H:%M:%S\", t)\n",
    "            print(current_time)\n",
    "        \n",
    "        P_50 = param_values_2[i][0]*param_values_2[i][2]\n",
    "        P_100 = param_values_2[i][2]\n",
    "        r = consumption_discount\n",
    "        constraint = param_values_2[i][1]\n",
    "#         s = r * np.log(constraint)/np.log((P_100 - P0)/(P_50 - P0))\n",
    "        s = r * np.log(constraint)/np.log((P_100)/(P_50))\n",
    "\n",
    "        Y[i], SCC_forecasted, forecasted_abatement, forecasted_emissions, T_complete = peak_warming_calculator(P_50=P_50, s=s, P_100=P_100, consumption_growth=consumption_growth, consumption_discount=consumption_discount, r=r, return_all_output=True)\n",
    "        SCC_forecasted_0[i] = SCC_forecasted[0]\n",
    "        start_year = 1750\n",
    "        peak_T = Y[i]\n",
    "        T_year_list[i] = next(x[0] for x in enumerate(T_complete) if x[1] == peak_T) + start_year\n",
    "        if Y[i] < 1.4:\n",
    "            print(param_values_2[i][0])\n",
    "            print(param_values_2[i][1])\n",
    "            print(consumption_discount)\n",
    "            print(param_values_2[i][2])\n",
    "    return Y, SCC_forecasted_0, T_year_list"
   ]
  },
  {
   "cell_type": "code",
   "execution_count": 10,
   "id": "51e3a89b",
   "metadata": {},
   "outputs": [
    {
     "name": "stdout",
     "output_type": "stream",
     "text": [
      "0\n",
      "18:50:05\n"
     ]
    },
    {
     "name": "stderr",
     "output_type": "stream",
     "text": [
      "/Users/aaron/Documents/oxford_physics/Year_4/MPhys/drivers-of-peak-warming/peak_warming_calculator/peak_warming_calculator.py:233: RuntimeWarning: divide by zero encountered in power\n",
      "  A = Am / (1 + ((P - P0) / (P_h - P0)) ** (-s / r))\n"
     ]
    },
    {
     "name": "stdout",
     "output_type": "stream",
     "text": [
      "8\n",
      "18:51:10\n",
      "16\n",
      "18:52:14\n",
      "24\n",
      "18:53:22\n",
      "32\n",
      "18:54:36\n",
      "40\n",
      "18:55:47\n",
      "48\n",
      "18:56:58\n",
      "56\n",
      "18:57:59\n",
      "64\n",
      "18:59:02\n",
      "72\n",
      "19:00:12\n",
      "80\n",
      "19:01:12\n",
      "88\n",
      "19:02:22\n",
      "96\n",
      "19:03:22\n",
      "104\n",
      "19:04:18\n",
      "112\n",
      "19:05:19\n",
      "120\n",
      "19:06:16\n",
      "0\n",
      "19:07:21\n",
      "8\n",
      "19:07:58\n",
      "16\n",
      "19:08:35\n",
      "24\n",
      "19:08:59\n",
      "32\n",
      "19:09:36\n",
      "40\n",
      "19:10:15\n",
      "48\n",
      "19:10:44\n",
      "56\n",
      "19:11:21\n",
      "64\n",
      "19:11:55\n",
      "72\n",
      "19:12:27\n",
      "80\n",
      "19:13:05\n",
      "88\n",
      "19:13:41\n",
      "96\n",
      "19:14:18\n",
      "104\n",
      "19:14:48\n",
      "112\n",
      "19:15:25\n",
      "120\n",
      "19:15:50\n",
      "0\n",
      "19:16:29\n",
      "8\n",
      "19:16:56\n",
      "16\n",
      "19:17:22\n",
      "24\n",
      "19:17:47\n",
      "32\n",
      "19:18:11\n",
      "40\n",
      "19:18:31\n",
      "48\n",
      "19:18:55\n",
      "56\n",
      "19:19:21\n",
      "64\n",
      "19:19:49\n",
      "72\n",
      "19:20:13\n",
      "80\n",
      "19:20:40\n",
      "88\n",
      "19:21:05\n",
      "96\n",
      "19:21:31\n",
      "104\n",
      "19:22:02\n",
      "112\n",
      "19:22:26\n",
      "120\n",
      "19:22:54\n",
      "0\n",
      "19:23:22\n",
      "8\n",
      "19:23:45\n",
      "16\n",
      "19:24:08\n",
      "24\n",
      "19:24:31\n",
      "32\n",
      "19:24:54\n",
      "40\n",
      "19:25:19\n",
      "48\n",
      "19:25:42\n",
      "56\n",
      "19:26:06\n",
      "64\n",
      "19:26:30\n",
      "72\n",
      "19:26:54\n",
      "80\n",
      "19:27:16\n",
      "88\n",
      "19:27:38\n",
      "96\n",
      "19:28:02\n",
      "104\n",
      "19:28:28\n",
      "112\n",
      "19:28:50\n",
      "120\n",
      "19:29:14\n",
      "0\n",
      "19:29:34\n",
      "8\n",
      "19:29:55\n",
      "16\n",
      "19:30:17\n",
      "24\n",
      "19:30:36\n",
      "32\n",
      "19:30:56\n",
      "40\n",
      "19:31:18\n",
      "48\n",
      "19:31:37\n",
      "56\n",
      "19:31:56\n",
      "64\n",
      "19:32:15\n",
      "72\n",
      "19:32:35\n",
      "80\n",
      "19:32:54\n",
      "88\n",
      "19:33:14\n",
      "96\n",
      "19:33:36\n",
      "104\n",
      "19:33:55\n",
      "112\n",
      "19:34:14\n",
      "120\n",
      "19:34:36\n",
      "0\n",
      "19:34:56\n",
      "8\n",
      "19:35:14\n",
      "16\n",
      "19:35:33\n",
      "24\n",
      "19:35:50\n",
      "32\n",
      "19:36:09\n",
      "40\n",
      "19:36:28\n",
      "48\n",
      "19:36:43\n",
      "56\n",
      "19:37:00\n",
      "64\n",
      "19:37:17\n",
      "72\n",
      "19:37:35\n",
      "80\n",
      "19:37:51\n",
      "88\n",
      "19:38:08\n",
      "96\n",
      "19:38:27\n",
      "104\n",
      "19:38:45\n",
      "112\n",
      "19:39:01\n",
      "120\n",
      "19:39:18\n"
     ]
    }
   ],
   "source": [
    "Y_array = []\n",
    "SCC_0_array = []\n",
    "T_year_array = []\n",
    "\n",
    "for i in range(len(consumption_growth_array)):  # len(consumption_growth_array)\n",
    "    Y, SCC_0, T_year = vary_consumption_growth2(consumption_growth_array[i])\n",
    "    Y_array.append(Y)\n",
    "    SCC_0_array.append(SCC_0)\n",
    "    T_year_array.append(T_year)"
   ]
  },
  {
   "cell_type": "code",
   "execution_count": 11,
   "id": "ec505115",
   "metadata": {},
   "outputs": [
    {
     "data": {
      "text/plain": [
       "Text(0, 0.5, 'Peak Warming')"
      ]
     },
     "execution_count": 11,
     "metadata": {},
     "output_type": "execute_result"
    },
    {
     "data": {
      "image/png": "[encoded data removed]",
      "text/plain": [
       "<Figure size 432x288 with 1 Axes>"
      ]
     },
     "metadata": {},
     "output_type": "display_data"
    }
   ],
   "source": [
    "## plot output\n",
    "\n",
    "for i in range(len(Y_array)):\n",
    "    plt.scatter(P_100_list, Y_array[i], label=np.round(consumption_growth_array[i], 3))\n",
    "\n",
    "# plt.legend()\n",
    "plt.rc('font', family='serif')\n",
    "\n",
    "## plot curves from Myles' paper\n",
    "\n",
    "# W0 = 75*10**12  \n",
    "W0 = 80*10**12  \n",
    "D0 = 0.00267\n",
    "T_TCRE = 0.00054  # degrees Celsius per GtCO2\n",
    "# note: this corresponds to 0.002 degrees Celsius per GtC\n",
    "r_minus_g = 0.015  # 1.5%\n",
    "ks = 0.12  # per year\n",
    "\n",
    "G = W0*D0*T_TCRE*(1/(r_minus_g)-1/(ks+r_minus_g))\n",
    "\n",
    "gamma = 2\n",
    "# E_0 = 39  # 2014 level of emissions\n",
    "# percentage_of_emissions = 0.75  # set here the percentage of emisison\n",
    "# E_bar = percentage_of_emissions*E_0\n",
    "E_bar = 0.75*40.040508\n",
    "# T_0 = 0.9  # 1.0136929156818866  # degrees Celsius\n",
    "T_0 = 1.0136929156818866\n",
    "\n",
    "T_m = np.arange(1, 5,0.1)\n",
    "g_bar = np.arange(0.01, 0.04, 0.005)\n",
    "\n",
    "for i in range(len(g_bar)):\n",
    "    A_B = gamma*G*(T_m**(gamma-1))*np.exp((g_bar[i]/E_bar) * (T_m-T_0)/T_TCRE)\n",
    "#     print(gamma, G, T_m)\n",
    "#     print(np.exp((g_bar[i]/E_bar) * (T_m-T_0)/T_TCRE))\n",
    "    plt.plot(A_B*10**(-9), T_m, color=\"k\")  # convert cost into trillions of dollars # , label=g_bar[i]\n",
    "\n",
    "plt.legend(title=\"g\")\n",
    "plt.xlim(0, 500)\n",
    "plt.ylim(1, 4)\n",
    "plt.xlabel(\"Price at 100% abatement\")\n",
    "plt.ylabel(\"Peak Warming\")"
   ]
  },
  {
   "cell_type": "code",
   "execution_count": 12,
   "id": "9305fdf9",
   "metadata": {},
   "outputs": [],
   "source": [
    "# np.savetxt(\"parameter_sensitivity_runs/Y_array_condition\", Y_array, delimiter=\",\")"
   ]
  },
  {
   "cell_type": "code",
   "execution_count": 13,
   "id": "ff4fd8bd",
   "metadata": {},
   "outputs": [],
   "source": [
    "# np.savetxt(\"parameter_sensitivity_runs/SCC_0_array_condition\", SCC_0_array, delimiter=\",\")"
   ]
  },
  {
   "cell_type": "markdown",
   "id": "4612239b",
   "metadata": {},
   "source": [
    "### Plotting MAC curves for above"
   ]
  },
  {
   "cell_type": "code",
   "execution_count": 14,
   "id": "175e4bbc",
   "metadata": {},
   "outputs": [],
   "source": [
    "def abatement(P, P0, P_50, P_100, r=0.04, s=0.05):  # 0.05\n",
    "    if P0 >= P_50:\n",
    "        print(\"P0 is greater than P_50\")\n",
    "    elif ((P_100-P0)/(P_50-P0))**(s/r) <= 2:\n",
    "        print(\"MAC curve condition not satisfied\")\n",
    "    \n",
    "    P_h = P0 + ((P_50 - P0) ** (-s / r) - 2 * (P_100 - P0) ** (-s / r)) ** (-r / s)\n",
    "    Am = 1 + ((P_100 - P0) / (P_h - P0)) ** (-s / r)\n",
    "    \n",
    "    A = Am / (1 + ((P - P0) / (P_h - P0)) ** (-s / r))\n",
    "    \n",
    "    return A"
   ]
  },
  {
   "cell_type": "code",
   "execution_count": 15,
   "id": "6e36b8c9",
   "metadata": {},
   "outputs": [
    {
     "data": {
      "text/plain": [
       "(20, 1000)"
      ]
     },
     "execution_count": 15,
     "metadata": {},
     "output_type": "execute_result"
    },
    {
     "data": {
      "image/png": "[encoded data removed]",
      "text/plain": [
       "<Figure size 432x288 with 1 Axes>"
      ]
     },
     "metadata": {},
     "output_type": "display_data"
    }
   ],
   "source": [
    "SCC_25 = np.arange(25, 1000)\n",
    "consumption_growth = consumption_growth_array[0]\n",
    "\n",
    "for i in range(len(param_values_2)):  # 20\n",
    "    SCC = np.arange(SCC_0_array[0][i], 1000)\n",
    "    P0 = SCC_25[0]\n",
    "    P_50 = param_values_2[i][0]*param_values_2[i][2]\n",
    "    P_100 = param_values_2[i][2]\n",
    "    consumption_discount = consumption_growth + 0.015\n",
    "    r = consumption_discount\n",
    "    constraint = param_values_2[i][1]\n",
    "    s = r * np.log(constraint)/np.log((P_100)/(P_50))\n",
    "#     if constraint >2.5:\n",
    "#     print(constraint)\n",
    "    plt.plot(abatement(SCC, P0=P0, P_100=P_100, P_50=P_50, r=r, s=s), SCC)\n",
    "\n",
    "plt.xlabel(\"Abatement\")\n",
    "plt.ylabel(\"Carbon Price\")\n",
    "plt.yscale(\"log\")\n",
    "# plt.legend(title=\"P0 ($)\")\n",
    "plt.ylim(20, 1000)"
   ]
  },
  {
   "cell_type": "markdown",
   "id": "d707f00d",
   "metadata": {},
   "source": [
    "### Looking at SCC_0"
   ]
  },
  {
   "cell_type": "code",
   "execution_count": 16,
   "id": "689460a6",
   "metadata": {},
   "outputs": [
    {
     "data": {
      "text/plain": [
       "array([29.68541926, 32.06553107, 29.57904034, 31.52238776, 31.4051737 ,\n",
       "       33.49635012, 31.99942865, 33.43970206, 33.45647697, 32.02923036,\n",
       "       33.41809537, 31.99623475, 31.95115013, 30.21861254, 31.955343  ,\n",
       "       30.14786504, 31.03562331, 31.24210671, 31.11941505, 31.03562331,\n",
       "       31.11941505, 31.24210671, 31.31535387, 31.31535387, 32.00169577,\n",
       "       32.23151543, 31.63057443, 32.00169577, 31.63057443, 32.23151543,\n",
       "       31.88287298, 31.88287298, 32.51356164, 31.78364808, 32.54978896,\n",
       "       32.51356164, 32.54978896, 31.78364808, 31.82744602, 31.82744602,\n",
       "       32.35016543, 31.83231133, 32.35893413, 32.35016543, 32.35893413,\n",
       "       31.83231133, 31.84614921, 31.84614921, 32.70385272, 29.89823808,\n",
       "       32.83558876, 29.18916686, 29.3575483 , 25.75167644, 30.17819974,\n",
       "       25.91979607, 26.97875985, 28.55633297, 26.83715343, 31.06560698,\n",
       "       30.86708165, 32.27589862, 28.42058576, 32.1335639 , 30.13547499,\n",
       "       32.77660145, 30.4944047 , 30.6648733 , 31.0328272 , 33.17233562,\n",
       "       32.91072197, 33.30798253, 27.93154011, 26.42405631, 27.84110655,\n",
       "       29.86623974, 29.74935789, 28.46946653, 26.32684444, 28.3448035 ,\n",
       "       33.6687663 , 32.90594725, 33.6045254 , 32.47734083, 32.39936827,\n",
       "       31.51989703, 32.77456139, 31.3782644 , 30.11237251, 28.56017897,\n",
       "       29.99142845, 32.78747302, 32.6853016 , 31.57255535, 28.44024466,\n",
       "       31.42954066, 27.99803087, 27.66906064, 28.17477731, 30.80654266,\n",
       "       31.02888111, 30.51914684, 27.86641183, 30.73784391, 33.15877494,\n",
       "       33.00639105, 33.03082823, 28.50860207, 28.36024784, 28.22936738,\n",
       "       32.85937144, 28.09421693, 31.0972949 , 30.83990628, 31.31265329,\n",
       "       30.27578751, 30.48982627, 29.98926953, 31.06943749, 30.22886563,\n",
       "       31.0934296 , 34.02737142, 31.30238316, 30.71855904, 30.92444127,\n",
       "       33.80225074, 34.06568992, 33.84362314])"
      ]
     },
     "execution_count": 16,
     "metadata": {},
     "output_type": "execute_result"
    }
   ],
   "source": [
    "SCC_0_array[0]"
   ]
  },
  {
   "cell_type": "code",
   "execution_count": 17,
   "id": "bb316d31",
   "metadata": {},
   "outputs": [],
   "source": [
    "df = pd.DataFrame(SCC_0_array, index=np.round(consumption_growth_array,3)).transpose()"
   ]
  },
  {
   "cell_type": "code",
   "execution_count": 18,
   "id": "cdef05ae",
   "metadata": {},
   "outputs": [
    {
     "data": {
      "text/html": [
       "<div>\n",
       "<style scoped>\n",
       "    .dataframe tbody tr th:only-of-type {\n",
       "        vertical-align: middle;\n",
       "    }\n",
       "\n",
       "    .dataframe tbody tr th {\n",
       "        vertical-align: top;\n",
       "    }\n",
       "\n",
       "    .dataframe thead th {\n",
       "        text-align: right;\n",
       "    }\n",
       "</style>\n",
       "<table border=\"1\" class=\"dataframe\">\n",
       "  <thead>\n",
       "    <tr style=\"text-align: right;\">\n",
       "      <th></th>\n",
       "      <th>0.010</th>\n",
       "      <th>0.015</th>\n",
       "      <th>0.020</th>\n",
       "      <th>0.025</th>\n",
       "      <th>0.030</th>\n",
       "      <th>0.035</th>\n",
       "    </tr>\n",
       "  </thead>\n",
       "  <tbody>\n",
       "    <tr>\n",
       "      <th>0</th>\n",
       "      <td>29.685419</td>\n",
       "      <td>27.989806</td>\n",
       "      <td>26.599075</td>\n",
       "      <td>25.455374</td>\n",
       "      <td>24.500635</td>\n",
       "      <td>23.725774</td>\n",
       "    </tr>\n",
       "    <tr>\n",
       "      <th>1</th>\n",
       "      <td>32.065531</td>\n",
       "      <td>30.270268</td>\n",
       "      <td>28.756809</td>\n",
       "      <td>27.490316</td>\n",
       "      <td>26.413467</td>\n",
       "      <td>25.491130</td>\n",
       "    </tr>\n",
       "    <tr>\n",
       "      <th>2</th>\n",
       "      <td>29.579040</td>\n",
       "      <td>27.899402</td>\n",
       "      <td>26.520680</td>\n",
       "      <td>25.385762</td>\n",
       "      <td>24.437768</td>\n",
       "      <td>23.667528</td>\n",
       "    </tr>\n",
       "    <tr>\n",
       "      <th>3</th>\n",
       "      <td>31.522388</td>\n",
       "      <td>29.899466</td>\n",
       "      <td>28.513284</td>\n",
       "      <td>27.323221</td>\n",
       "      <td>26.301095</td>\n",
       "      <td>25.418151</td>\n",
       "    </tr>\n",
       "    <tr>\n",
       "      <th>4</th>\n",
       "      <td>31.405174</td>\n",
       "      <td>29.797126</td>\n",
       "      <td>28.421865</td>\n",
       "      <td>27.240689</td>\n",
       "      <td>26.225814</td>\n",
       "      <td>25.348930</td>\n",
       "    </tr>\n",
       "    <tr>\n",
       "      <th>...</th>\n",
       "      <td>...</td>\n",
       "      <td>...</td>\n",
       "      <td>...</td>\n",
       "      <td>...</td>\n",
       "      <td>...</td>\n",
       "      <td>...</td>\n",
       "    </tr>\n",
       "    <tr>\n",
       "      <th>123</th>\n",
       "      <td>30.718559</td>\n",
       "      <td>29.083485</td>\n",
       "      <td>27.700238</td>\n",
       "      <td>26.533247</td>\n",
       "      <td>25.539790</td>\n",
       "      <td>24.687657</td>\n",
       "    </tr>\n",
       "    <tr>\n",
       "      <th>124</th>\n",
       "      <td>30.924441</td>\n",
       "      <td>29.265056</td>\n",
       "      <td>27.856861</td>\n",
       "      <td>26.673697</td>\n",
       "      <td>25.667150</td>\n",
       "      <td>24.804328</td>\n",
       "    </tr>\n",
       "    <tr>\n",
       "      <th>125</th>\n",
       "      <td>33.802251</td>\n",
       "      <td>32.194996</td>\n",
       "      <td>30.722078</td>\n",
       "      <td>29.456934</td>\n",
       "      <td>28.320045</td>\n",
       "      <td>27.340010</td>\n",
       "    </tr>\n",
       "    <tr>\n",
       "      <th>126</th>\n",
       "      <td>34.065690</td>\n",
       "      <td>32.524492</td>\n",
       "      <td>31.078799</td>\n",
       "      <td>29.799180</td>\n",
       "      <td>28.666786</td>\n",
       "      <td>27.701315</td>\n",
       "    </tr>\n",
       "    <tr>\n",
       "      <th>127</th>\n",
       "      <td>33.843623</td>\n",
       "      <td>32.238765</td>\n",
       "      <td>30.765630</td>\n",
       "      <td>29.497356</td>\n",
       "      <td>28.361293</td>\n",
       "      <td>27.379169</td>\n",
       "    </tr>\n",
       "  </tbody>\n",
       "</table>\n",
       "<p>128 rows × 6 columns</p>\n",
       "</div>"
      ],
      "text/plain": [
       "         0.010      0.015      0.020      0.025      0.030      0.035\n",
       "0    29.685419  27.989806  26.599075  25.455374  24.500635  23.725774\n",
       "1    32.065531  30.270268  28.756809  27.490316  26.413467  25.491130\n",
       "2    29.579040  27.899402  26.520680  25.385762  24.437768  23.667528\n",
       "3    31.522388  29.899466  28.513284  27.323221  26.301095  25.418151\n",
       "4    31.405174  29.797126  28.421865  27.240689  26.225814  25.348930\n",
       "..         ...        ...        ...        ...        ...        ...\n",
       "123  30.718559  29.083485  27.700238  26.533247  25.539790  24.687657\n",
       "124  30.924441  29.265056  27.856861  26.673697  25.667150  24.804328\n",
       "125  33.802251  32.194996  30.722078  29.456934  28.320045  27.340010\n",
       "126  34.065690  32.524492  31.078799  29.799180  28.666786  27.701315\n",
       "127  33.843623  32.238765  30.765630  29.497356  28.361293  27.379169\n",
       "\n",
       "[128 rows x 6 columns]"
      ]
     },
     "execution_count": 18,
     "metadata": {},
     "output_type": "execute_result"
    }
   ],
   "source": [
    "df"
   ]
  },
  {
   "cell_type": "code",
   "execution_count": 19,
   "id": "a60b7356",
   "metadata": {},
   "outputs": [],
   "source": [
    "# df.boxplot(whis=100)"
   ]
  },
  {
   "cell_type": "code",
   "execution_count": 20,
   "id": "bb7b68d6",
   "metadata": {},
   "outputs": [
    {
     "data": {
      "text/plain": [
       "Text(0, 0.5, 'Social Cost of Carbon in 2019 ($)')"
      ]
     },
     "execution_count": 20,
     "metadata": {},
     "output_type": "execute_result"
    },
    {
     "data": {
      "image/png": "[encoded data removed]",
      "text/plain": [
       "<Figure size 432x288 with 1 Axes>"
      ]
     },
     "metadata": {},
     "output_type": "display_data"
    }
   ],
   "source": [
    "for i,d in enumerate(df):\n",
    "    y = df[df.columns[i]]\n",
    "    x = np.random.normal(i+1, 0.05, len(y))  # consumption_growth_array[i]\n",
    "    plt.plot(x, y, mfc = [\"orange\",\"blue\",\"yellow\",\"green\",\"purple\",\"red\"][i], mec='k', ms=4, marker=\"o\", linestyle=\"None\")\n",
    "    \n",
    "# plt.boxplot(df, whis=100)\n",
    "df.boxplot(whis=100)\n",
    "plt.xlabel(\"Consumption Growth Rate\")\n",
    "plt.ylabel(\"Social Cost of Carbon in 2019 ($)\")"
   ]
  },
  {
   "cell_type": "markdown",
   "id": "8620ee18",
   "metadata": {},
   "source": [
    "### Sobol"
   ]
  },
  {
   "cell_type": "code",
   "execution_count": 21,
   "id": "a38e3468",
   "metadata": {},
   "outputs": [],
   "source": [
    "Y_array_condition = pd.read_csv(\"parameter_sensitivity_runs/Y_array_condition\", header=None).transpose()\n",
    "SCC_0_array_condition = pd.read_csv(\"parameter_sensitivity_runs/SCC_0_array_condition\", header=None).transpose()"
   ]
  },
  {
   "cell_type": "code",
   "execution_count": 22,
   "id": "9184aa82",
   "metadata": {},
   "outputs": [
    {
     "name": "stdout",
     "output_type": "stream",
     "text": [
      "                       ST   ST_conf\n",
      "P_50/P_100       0.214012  0.144161\n",
      "weak constraint  0.000534  0.000515\n",
      "P_100            0.694980  0.313956\n",
      "                       S1   S1_conf\n",
      "P_50/P_100       0.496501  0.328308\n",
      "weak constraint  0.001288  0.020001\n",
      "P_100            0.663531  0.544701\n",
      "                                     S2   S2_conf\n",
      "(P_50/P_100, weak constraint) -0.328011  0.484045\n",
      "(P_50/P_100, P_100)           -0.554870  0.425198\n",
      "(weak constraint, P_100)       0.002965  0.028594\n"
     ]
    }
   ],
   "source": [
    "Si = sobol.analyze(problem_2, Y_array_condition[0].to_numpy(), print_to_console=True)"
   ]
  },
  {
   "cell_type": "code",
   "execution_count": 23,
   "id": "a8c2069b",
   "metadata": {},
   "outputs": [],
   "source": [
    "total_Si, first_Si, second_Si = Si.to_df()"
   ]
  },
  {
   "cell_type": "code",
   "execution_count": 24,
   "id": "f522564e",
   "metadata": {},
   "outputs": [
    {
     "data": {
      "text/plain": [
       "([0, 1, 2], [Text(0, 0, ''), Text(0, 0, ''), Text(0, 0, '')])"
      ]
     },
     "execution_count": 24,
     "metadata": {},
     "output_type": "execute_result"
    },
    {
     "data": {
      "image/png": "[encoded data removed]",
      "text/plain": [
       "<Figure size 432x288 with 1 Axes>"
      ]
     },
     "metadata": {},
     "output_type": "display_data"
    }
   ],
   "source": [
    "plt.title(\"Total Order Interactions\")\n",
    "plt.bar(total_Si.index, total_Si['ST'], yerr=total_Si['ST_conf'])\n",
    "plt.xticks(rotation=90)"
   ]
  },
  {
   "cell_type": "code",
   "execution_count": 25,
   "id": "90311844",
   "metadata": {
    "scrolled": true
   },
   "outputs": [
    {
     "data": {
      "text/plain": [
       "([0, 1, 2], [Text(0, 0, ''), Text(0, 0, ''), Text(0, 0, '')])"
      ]
     },
     "execution_count": 25,
     "metadata": {},
     "output_type": "execute_result"
    },
    {
     "data": {
      "image/png": "[encoded data removed]",
      "text/plain": [
       "<Figure size 432x288 with 1 Axes>"
      ]
     },
     "metadata": {},
     "output_type": "display_data"
    }
   ],
   "source": [
    "plt.title(\"First Order Interactions\")\n",
    "plt.bar(first_Si.index, first_Si['S1'], yerr=first_Si['S1_conf'])\n",
    "plt.xticks(rotation=90)"
   ]
  },
  {
   "cell_type": "code",
   "execution_count": 26,
   "id": "c5c1bae6",
   "metadata": {},
   "outputs": [],
   "source": [
    "# Si.plot()"
   ]
  },
  {
   "cell_type": "code",
   "execution_count": 27,
   "id": "30f94e89",
   "metadata": {},
   "outputs": [],
   "source": [
    "param_values_2 = saltelli.sample(problem_2, 256)"
   ]
  },
  {
   "cell_type": "code",
   "execution_count": 28,
   "id": "21a57bc8",
   "metadata": {},
   "outputs": [
    {
     "name": "stdout",
     "output_type": "stream",
     "text": [
      "0\n",
      "19:39:39\n"
     ]
    },
    {
     "name": "stderr",
     "output_type": "stream",
     "text": [
      "/Users/aaron/Documents/oxford_physics/Year_4/MPhys/drivers-of-peak-warming/peak_warming_calculator/peak_warming_calculator.py:233: RuntimeWarning: divide by zero encountered in power\n",
      "  A = Am / (1 + ((P - P0) / (P_h - P0)) ** (-s / r))\n"
     ]
    },
    {
     "name": "stdout",
     "output_type": "stream",
     "text": [
      "8\n",
      "19:39:56\n",
      "16\n",
      "19:40:14\n",
      "24\n",
      "19:40:33\n",
      "32\n",
      "19:40:51\n",
      "40\n",
      "19:41:07\n",
      "48\n",
      "19:41:25\n",
      "56\n",
      "19:41:44\n",
      "64\n",
      "19:42:02\n",
      "72\n",
      "19:42:20\n",
      "80\n",
      "19:42:39\n",
      "88\n",
      "19:42:56\n",
      "96\n",
      "19:43:12\n",
      "104\n",
      "19:43:30\n",
      "112\n",
      "19:43:49\n",
      "120\n",
      "19:44:07\n",
      "128\n",
      "19:44:25\n",
      "136\n",
      "19:44:44\n",
      "144\n",
      "19:45:01\n",
      "152\n",
      "19:45:18\n",
      "160\n",
      "19:45:35\n",
      "168\n",
      "19:45:53\n",
      "176\n",
      "19:46:12\n",
      "184\n",
      "19:46:28\n",
      "192\n",
      "19:46:46\n",
      "200\n",
      "19:47:03\n",
      "208\n",
      "19:47:21\n",
      "216\n",
      "19:47:38\n",
      "224\n",
      "19:47:57\n",
      "232\n",
      "19:48:15\n",
      "240\n",
      "19:48:30\n",
      "248\n",
      "19:48:49\n",
      "256\n",
      "19:49:08\n",
      "264\n",
      "19:49:26\n",
      "272\n",
      "19:49:43\n",
      "280\n",
      "19:50:00\n",
      "288\n",
      "19:50:19\n",
      "296\n",
      "19:50:38\n",
      "304\n",
      "19:50:54\n",
      "312\n",
      "19:51:12\n",
      "320\n",
      "19:51:29\n",
      "328\n",
      "19:51:48\n",
      "336\n",
      "19:52:05\n",
      "344\n",
      "19:52:21\n",
      "352\n",
      "19:52:39\n",
      "360\n",
      "19:52:56\n",
      "368\n",
      "19:53:12\n",
      "376\n",
      "19:53:28\n",
      "384\n",
      "19:53:46\n",
      "392\n",
      "19:54:02\n",
      "400\n",
      "19:54:20\n",
      "408\n",
      "19:54:37\n",
      "416\n",
      "19:54:54\n",
      "424\n",
      "19:55:12\n",
      "432\n",
      "19:55:29\n",
      "440\n",
      "19:55:47\n",
      "448\n",
      "19:56:02\n",
      "456\n",
      "19:56:19\n",
      "464\n",
      "19:56:35\n",
      "472\n",
      "19:56:53\n",
      "480\n",
      "19:57:09\n",
      "488\n",
      "19:57:26\n",
      "496\n",
      "19:57:44\n",
      "504\n",
      "19:58:01\n",
      "512\n",
      "19:58:19\n",
      "520\n",
      "19:58:36\n",
      "528\n",
      "19:58:55\n",
      "536\n",
      "19:59:12\n",
      "544\n",
      "19:59:29\n",
      "552\n",
      "19:59:48\n",
      "560\n",
      "20:00:04\n",
      "568\n",
      "20:00:21\n",
      "576\n",
      "20:00:37\n",
      "584\n",
      "20:00:54\n",
      "592\n",
      "20:01:10\n",
      "600\n",
      "20:01:28\n",
      "608\n",
      "20:01:46\n",
      "616\n",
      "20:02:02\n",
      "624\n",
      "20:02:19\n",
      "632\n",
      "20:02:36\n",
      "640\n",
      "20:02:54\n",
      "648\n",
      "20:03:10\n",
      "656\n",
      "20:03:26\n",
      "664\n",
      "20:03:43\n",
      "672\n",
      "20:04:01\n",
      "680\n",
      "20:04:19\n",
      "688\n",
      "20:04:36\n",
      "696\n",
      "20:04:53\n",
      "704\n",
      "20:05:11\n",
      "712\n",
      "20:05:29\n",
      "720\n",
      "20:05:46\n",
      "728\n",
      "20:06:02\n",
      "736\n",
      "20:06:19\n",
      "744\n",
      "20:06:37\n",
      "752\n",
      "20:06:54\n",
      "760\n",
      "20:07:10\n",
      "768\n",
      "20:07:27\n",
      "776\n",
      "20:07:45\n",
      "784\n",
      "20:08:01\n",
      "792\n",
      "20:08:18\n",
      "800\n",
      "20:08:34\n",
      "808\n",
      "20:08:51\n",
      "816\n",
      "20:09:08\n",
      "824\n",
      "20:09:24\n",
      "832\n",
      "20:09:42\n",
      "840\n",
      "20:10:00\n",
      "848\n",
      "20:10:17\n",
      "856\n",
      "20:10:33\n",
      "864\n",
      "20:10:51\n",
      "872\n",
      "20:11:09\n",
      "880\n",
      "20:11:25\n",
      "888\n",
      "20:11:42\n",
      "896\n",
      "20:12:01\n",
      "904\n",
      "20:12:18\n",
      "912\n",
      "20:12:36\n",
      "920\n",
      "20:12:54\n",
      "928\n",
      "20:13:11\n",
      "936\n",
      "20:13:26\n",
      "944\n",
      "20:13:43\n",
      "952\n",
      "20:14:01\n",
      "960\n",
      "20:14:18\n",
      "968\n",
      "20:14:35\n",
      "976\n",
      "20:14:53\n",
      "984\n",
      "20:15:09\n",
      "992\n",
      "20:15:26\n",
      "1000\n",
      "20:15:42\n",
      "1008\n",
      "20:15:58\n",
      "1016\n",
      "20:16:16\n",
      "1024\n",
      "20:16:33\n",
      "1032\n",
      "20:16:51\n",
      "1040\n",
      "20:17:07\n",
      "1048\n",
      "20:17:24\n",
      "1056\n",
      "20:17:42\n",
      "1064\n",
      "20:17:59\n",
      "1072\n",
      "20:18:16\n",
      "1080\n",
      "20:18:30\n",
      "1088\n",
      "20:18:48\n",
      "1096\n",
      "20:19:06\n",
      "1104\n",
      "20:19:22\n",
      "1112\n",
      "20:19:39\n",
      "1120\n",
      "20:19:56\n",
      "1128\n",
      "20:20:14\n",
      "1136\n",
      "20:20:31\n",
      "1144\n",
      "20:20:48\n",
      "1152\n",
      "20:21:04\n",
      "1160\n",
      "20:21:22\n",
      "1168\n",
      "20:21:38\n",
      "1176\n",
      "20:21:56\n",
      "1184\n",
      "20:22:12\n",
      "1192\n",
      "20:22:29\n",
      "1200\n",
      "20:22:47\n",
      "1208\n",
      "20:23:04\n",
      "1216\n",
      "20:23:22\n",
      "1224\n",
      "20:23:38\n",
      "1232\n",
      "20:23:56\n",
      "1240\n",
      "20:24:13\n",
      "1248\n",
      "20:24:30\n",
      "1256\n",
      "20:24:48\n",
      "1264\n",
      "20:25:04\n",
      "1272\n",
      "20:25:22\n",
      "1280\n",
      "20:25:38\n",
      "1288\n",
      "20:25:55\n",
      "1296\n",
      "20:26:13\n",
      "1304\n",
      "20:26:29\n",
      "1312\n",
      "20:26:46\n",
      "1320\n",
      "20:27:03\n",
      "1328\n",
      "20:27:21\n",
      "1336\n",
      "20:27:38\n",
      "1344\n",
      "20:27:55\n",
      "1352\n",
      "20:28:12\n",
      "1360\n",
      "20:28:28\n",
      "1368\n",
      "20:28:46\n",
      "1376\n",
      "20:29:03\n",
      "1384\n",
      "20:29:19\n",
      "1392\n",
      "20:29:36\n",
      "1400\n",
      "20:29:54\n",
      "1408\n",
      "20:30:11\n",
      "1416\n",
      "20:30:28\n",
      "1424\n",
      "20:30:45\n",
      "1432\n",
      "20:31:01\n",
      "1440\n",
      "20:31:20\n",
      "1448\n",
      "20:31:36\n",
      "1456\n",
      "20:31:50\n",
      "1464\n",
      "20:32:08\n",
      "1472\n",
      "20:32:26\n",
      "1480\n",
      "20:32:45\n",
      "1488\n",
      "20:33:00\n",
      "1496\n",
      "20:33:17\n",
      "1504\n",
      "20:33:34\n",
      "1512\n",
      "20:33:51\n",
      "1520\n",
      "20:34:09\n",
      "1528\n",
      "20:34:25\n",
      "1536\n",
      "20:34:43\n",
      "1544\n",
      "20:35:00\n",
      "1552\n",
      "20:35:18\n",
      "1560\n",
      "20:35:33\n",
      "1568\n",
      "20:35:51\n",
      "1576\n",
      "20:36:09\n",
      "1584\n",
      "20:36:24\n",
      "1592\n",
      "20:36:41\n",
      "1600\n",
      "20:36:59\n",
      "1608\n",
      "20:37:16\n",
      "1616\n",
      "20:37:33\n",
      "1624\n",
      "20:37:48\n",
      "1632\n",
      "20:38:05\n",
      "1640\n",
      "20:38:22\n",
      "1648\n",
      "20:38:39\n",
      "1656\n",
      "20:38:56\n",
      "1664\n",
      "20:39:14\n",
      "1672\n",
      "20:39:32\n",
      "1680\n",
      "20:39:50\n",
      "1688\n",
      "20:40:07\n",
      "1696\n",
      "20:40:23\n",
      "1704\n",
      "20:40:40\n",
      "1712\n",
      "20:40:57\n",
      "1720\n",
      "20:41:15\n",
      "1728\n",
      "20:41:33\n",
      "1736\n",
      "20:41:50\n",
      "1744\n",
      "20:42:08\n",
      "1752\n",
      "20:42:26\n",
      "1760\n",
      "20:42:42\n",
      "1768\n",
      "20:42:59\n",
      "1776\n",
      "20:43:17\n",
      "1784\n",
      "20:43:33\n",
      "1792\n",
      "20:43:49\n",
      "1800\n",
      "20:44:06\n",
      "1808\n",
      "20:44:22\n",
      "1816\n",
      "20:44:40\n",
      "1824\n",
      "20:44:57\n",
      "1832\n",
      "20:45:12\n",
      "1840\n",
      "20:45:29\n",
      "1848\n",
      "20:45:46\n",
      "1856\n",
      "20:46:04\n",
      "1864\n",
      "20:46:21\n",
      "1872\n",
      "20:46:39\n",
      "1880\n",
      "20:46:57\n",
      "1888\n",
      "20:47:14\n",
      "1896\n",
      "20:47:31\n",
      "1904\n",
      "20:47:49\n",
      "1912\n",
      "20:48:05\n",
      "1920\n",
      "20:48:21\n",
      "1928\n",
      "20:48:39\n",
      "1936\n",
      "20:48:57\n",
      "1944\n",
      "20:49:13\n",
      "1952\n",
      "20:49:30\n",
      "1960\n",
      "20:49:48\n",
      "1968\n",
      "20:50:05\n",
      "1976\n",
      "20:50:21\n",
      "1984\n",
      "20:50:39\n",
      "1992\n",
      "20:50:54\n",
      "2000\n",
      "20:51:09\n",
      "2008\n",
      "20:51:26\n",
      "2016\n",
      "20:51:44\n",
      "2024\n",
      "20:52:01\n",
      "2032\n",
      "20:52:17\n",
      "2040\n",
      "20:52:35\n"
     ]
    }
   ],
   "source": [
    "Y, SCC_0, T = vary_consumption_growth2(consumption_growth_array[i])"
   ]
  },
  {
   "cell_type": "code",
   "execution_count": 29,
   "id": "5461c534",
   "metadata": {},
   "outputs": [],
   "source": [
    "# np.savetxt(\"parameter_sensitivity_runs/Y_large\", Y, delimiter=\",\")"
   ]
  },
  {
   "cell_type": "code",
   "execution_count": 30,
   "id": "08e398ee",
   "metadata": {},
   "outputs": [
    {
     "name": "stdout",
     "output_type": "stream",
     "text": [
      "                       ST   ST_conf\n",
      "P_50/P_100       0.195017  0.032645\n",
      "weak constraint  0.000715  0.000159\n",
      "P_100            0.804033  0.115617\n",
      "                       S1   S1_conf\n",
      "P_50/P_100       0.202212  0.068859\n",
      "weak constraint  0.000871  0.004329\n",
      "P_100            0.800433  0.143511\n",
      "                                     S2   S2_conf\n",
      "(P_50/P_100, weak constraint) -0.007614  0.094140\n",
      "(P_50/P_100, P_100)           -0.008119  0.131579\n",
      "(weak constraint, P_100)      -0.000345  0.008134\n"
     ]
    }
   ],
   "source": [
    "Si = sobol.analyze(problem_2, Y, print_to_console=True)"
   ]
  },
  {
   "cell_type": "code",
   "execution_count": 31,
   "id": "64452b9e",
   "metadata": {},
   "outputs": [],
   "source": [
    "total_Si, first_Si, second_Si = Si.to_df()"
   ]
  },
  {
   "cell_type": "code",
   "execution_count": 32,
   "id": "cd72cf3d",
   "metadata": {},
   "outputs": [
    {
     "data": {
      "text/plain": [
       "([0, 1, 2], [Text(0, 0, ''), Text(0, 0, ''), Text(0, 0, '')])"
      ]
     },
     "execution_count": 32,
     "metadata": {},
     "output_type": "execute_result"
    },
    {
     "data": {
      "image/png": "[encoded data removed]",
      "text/plain": [
       "<Figure size 432x288 with 1 Axes>"
      ]
     },
     "metadata": {},
     "output_type": "display_data"
    }
   ],
   "source": [
    "plt.title(\"Total Order Interactions\")\n",
    "plt.bar(total_Si.index, total_Si['ST'], yerr=total_Si['ST_conf'])\n",
    "plt.xticks(rotation=90)"
   ]
  },
  {
   "cell_type": "code",
   "execution_count": 33,
   "id": "20c87bfe",
   "metadata": {},
   "outputs": [
    {
     "data": {
      "text/plain": [
       "([0, 1, 2], [Text(0, 0, ''), Text(0, 0, ''), Text(0, 0, '')])"
      ]
     },
     "execution_count": 33,
     "metadata": {},
     "output_type": "execute_result"
    },
    {
     "data": {
      "image/png": "[encoded data removed]",
      "text/plain": [
       "<Figure size 432x288 with 1 Axes>"
      ]
     },
     "metadata": {},
     "output_type": "display_data"
    }
   ],
   "source": [
    "plt.title(\"First Order Interactions\")\n",
    "plt.bar(first_Si.index, first_Si['S1'], yerr=first_Si['S1_conf'])\n",
    "plt.xticks(rotation=90)"
   ]
  },
  {
   "cell_type": "code",
   "execution_count": 34,
   "id": "4ce60f0a",
   "metadata": {},
   "outputs": [
    {
     "data": {
      "text/plain": [
       "array([<AxesSubplot:>, <AxesSubplot:>, <AxesSubplot:>], dtype=object)"
      ]
     },
     "execution_count": 34,
     "metadata": {},
     "output_type": "execute_result"
    },
    {
     "data": {
      "image/png": "[encoded data removed]",
      "text/plain": [
       "<Figure size 432x288 with 3 Axes>"
      ]
     },
     "metadata": {},
     "output_type": "display_data"
    }
   ],
   "source": [
    "Si.plot()"
   ]
  },
  {
   "cell_type": "code",
   "execution_count": 35,
   "id": "a1249ec5",
   "metadata": {},
   "outputs": [],
   "source": [
    "# Define the model inputs\n",
    "problem_2 = {\n",
    "'num_vars': 3,\n",
    "'names': ['P_50/P_100', 'weak constraint', 'P_100'],\n",
    "'bounds': [[0.4, 0.8],\n",
    "[2.1, 1000],\n",
    "[100, 500]]\n",
    "}\n",
    "# Generate samples\n",
    "param_values_2 = saltelli.sample(problem_2, 64)"
   ]
  },
  {
   "cell_type": "code",
   "execution_count": 36,
   "id": "01341c59",
   "metadata": {},
   "outputs": [
    {
     "name": "stdout",
     "output_type": "stream",
     "text": [
      "0\n",
      "20:52:52\n"
     ]
    },
    {
     "name": "stderr",
     "output_type": "stream",
     "text": [
      "/Users/aaron/Documents/oxford_physics/Year_4/MPhys/drivers-of-peak-warming/peak_warming_calculator/peak_warming_calculator.py:233: RuntimeWarning: divide by zero encountered in power\n",
      "  A = Am / (1 + ((P - P0) / (P_h - P0)) ** (-s / r))\n"
     ]
    },
    {
     "name": "stdout",
     "output_type": "stream",
     "text": [
      "8\n",
      "20:53:10\n",
      "16\n",
      "20:53:29\n",
      "24\n",
      "20:53:46\n",
      "32\n",
      "20:54:03\n",
      "40\n",
      "20:54:23\n",
      "48\n",
      "20:54:41\n",
      "56\n",
      "20:54:58\n",
      "64\n",
      "20:55:15\n",
      "72\n",
      "20:55:31\n",
      "80\n",
      "20:55:48\n",
      "88\n",
      "20:56:05\n",
      "96\n",
      "20:56:24\n",
      "104\n",
      "20:56:42\n",
      "112\n",
      "20:56:58\n",
      "120\n",
      "20:57:16\n",
      "128\n",
      "20:57:34\n",
      "136\n",
      "20:57:52\n",
      "144\n",
      "20:58:08\n",
      "152\n",
      "20:58:26\n",
      "160\n",
      "20:58:44\n",
      "168\n",
      "20:59:01\n",
      "176\n",
      "20:59:19\n",
      "184\n",
      "20:59:36\n",
      "192\n",
      "20:59:54\n",
      "200\n",
      "21:00:13\n",
      "208\n",
      "21:00:32\n",
      "216\n",
      "21:00:48\n",
      "224\n",
      "21:01:05\n",
      "232\n",
      "21:01:24\n",
      "240\n",
      "21:01:40\n",
      "248\n",
      "21:01:57\n",
      "256\n",
      "21:02:15\n",
      "264\n",
      "21:02:35\n",
      "272\n",
      "21:02:52\n",
      "280\n",
      "21:03:09\n",
      "288\n",
      "21:03:27\n",
      "296\n",
      "21:03:45\n",
      "304\n",
      "21:04:03\n",
      "312\n",
      "21:04:19\n",
      "320\n",
      "21:04:37\n",
      "328\n",
      "21:04:56\n",
      "336\n",
      "21:05:13\n",
      "344\n",
      "21:05:30\n",
      "352\n",
      "21:05:46\n",
      "360\n",
      "21:06:04\n",
      "368\n",
      "21:06:22\n",
      "376\n",
      "21:06:39\n",
      "384\n",
      "21:06:58\n",
      "392\n",
      "21:07:15\n",
      "400\n",
      "21:07:33\n",
      "408\n",
      "21:07:50\n",
      "416\n",
      "21:08:07\n",
      "424\n",
      "21:08:25\n",
      "432\n",
      "21:08:43\n",
      "440\n",
      "21:09:01\n",
      "448\n",
      "21:09:17\n",
      "456\n",
      "21:09:35\n",
      "464\n",
      "21:09:54\n",
      "472\n",
      "21:10:12\n",
      "480\n",
      "21:10:31\n",
      "488\n",
      "21:10:50\n",
      "496\n",
      "21:11:07\n",
      "504\n",
      "21:11:25\n"
     ]
    },
    {
     "ename": "ValueError",
     "evalue": "too many values to unpack (expected 2)",
     "output_type": "error",
     "traceback": [
      "\u001b[0;31m---------------------------------------------------------------------------\u001b[0m",
      "\u001b[0;31mValueError\u001b[0m                                Traceback (most recent call last)",
      "\u001b[0;32m/var/folders/m4/mbpwp5q15070t8lqj4fj7mjr0000gn/T/ipykernel_94939/1384508997.py\u001b[0m in \u001b[0;36m<module>\u001b[0;34m\u001b[0m\n\u001b[0;32m----> 1\u001b[0;31m \u001b[0mY\u001b[0m\u001b[0;34m,\u001b[0m \u001b[0mSCC_0\u001b[0m \u001b[0;34m=\u001b[0m \u001b[0mvary_consumption_growth2\u001b[0m\u001b[0;34m(\u001b[0m\u001b[0mconsumption_growth_array\u001b[0m\u001b[0;34m[\u001b[0m\u001b[0mi\u001b[0m\u001b[0;34m]\u001b[0m\u001b[0;34m)\u001b[0m\u001b[0;34m\u001b[0m\u001b[0;34m\u001b[0m\u001b[0m\n\u001b[0m",
      "\u001b[0;31mValueError\u001b[0m: too many values to unpack (expected 2)"
     ]
    }
   ],
   "source": [
    "Y, SCC_0 = vary_consumption_growth2(consumption_growth_array[i])"
   ]
  },
  {
   "cell_type": "code",
   "execution_count": null,
   "id": "1e93b2e4",
   "metadata": {
    "scrolled": true
   },
   "outputs": [],
   "source": [
    "Si = sobol.analyze(problem_2, Y, print_to_console=True)"
   ]
  },
  {
   "cell_type": "code",
   "execution_count": null,
   "id": "58090874",
   "metadata": {},
   "outputs": [],
   "source": [
    "total_Si, first_Si, second_Si = Si.to_df()"
   ]
  },
  {
   "cell_type": "code",
   "execution_count": null,
   "id": "3c7bb841",
   "metadata": {},
   "outputs": [],
   "source": [
    "plt.title(\"Total Order Interactions\")\n",
    "plt.bar(total_Si.index, total_Si['ST'], yerr=total_Si['ST_conf'])\n",
    "plt.xticks(rotation=90)"
   ]
  },
  {
   "cell_type": "code",
   "execution_count": null,
   "id": "202312ea",
   "metadata": {},
   "outputs": [],
   "source": []
  },
  {
   "cell_type": "code",
   "execution_count": null,
   "id": "01409eb0",
   "metadata": {},
   "outputs": [],
   "source": []
  },
  {
   "cell_type": "code",
   "execution_count": null,
   "id": "bab5be78",
   "metadata": {},
   "outputs": [],
   "source": []
  },
  {
   "cell_type": "code",
   "execution_count": null,
   "id": "1a79f0be",
   "metadata": {},
   "outputs": [],
   "source": []
  },
  {
   "cell_type": "code",
   "execution_count": null,
   "id": "8b6655c5",
   "metadata": {},
   "outputs": [],
   "source": []
  }
 ],
 "metadata": {
  "kernelspec": {
   "display_name": "Python 3 (ipykernel)",
   "language": "python",
   "name": "python3"
  },
  "language_info": {
   "codemirror_mode": {
    "name": "ipython",
    "version": 3
   },
   "file_extension": ".py",
   "mimetype": "text/x-python",
   "name": "python",
   "nbconvert_exporter": "python",
   "pygments_lexer": "ipython3",
   "version": "3.9.7"
  }
 },
 "nbformat": 4,
 "nbformat_minor": 5
}
