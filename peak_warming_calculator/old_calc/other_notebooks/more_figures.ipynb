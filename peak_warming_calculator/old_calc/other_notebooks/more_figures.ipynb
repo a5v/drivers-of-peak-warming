{
 "cells": [
  {
   "cell_type": "markdown",
   "id": "8d4d4147",
   "metadata": {},
   "source": [
    "note: change iteration to 1 in peak_warming_calculator_Pretis.py"
   ]
  },
  {
   "cell_type": "code",
   "execution_count": 1,
   "id": "c8990376",
   "metadata": {},
   "outputs": [],
   "source": [
    "from peak_warming_calculator_Pretis import peak_warming_calculator_Pretis\n",
    "import matplotlib.pyplot as plt\n",
    "import seaborn as sns\n",
    "import numpy as np\n",
    "sns.set()\n",
    "sns.set_style(\"whitegrid\")\n",
    "plt.rc('font', family='serif')\n",
    "import matplotlib.cm as cm"
   ]
  },
  {
   "cell_type": "code",
   "execution_count": 2,
   "id": "8557c289",
   "metadata": {},
   "outputs": [],
   "source": [
    "beta_array = np.linspace(0.0005, 0.0045, 5)\n",
    "\n",
    "delta_T_array = np.linspace(1.5, 3, 5)"
   ]
  },
  {
   "cell_type": "code",
   "execution_count": 7,
   "id": "ee5078f0",
   "metadata": {},
   "outputs": [],
   "source": [
    "g_0 = 0.02\n",
    "r_minus_g = 0.015\n",
    "consumption_growth = g_0\n",
    "consumption_discount = consumption_growth + r_minus_g"
   ]
  },
  {
   "cell_type": "code",
   "execution_count": 9,
   "id": "718735be",
   "metadata": {},
   "outputs": [
    {
     "name": "stderr",
     "output_type": "stream",
     "text": [
      "/Users/aaron/Documents/oxford_physics/Year_4/MPhys/drivers-of-peak-warming/peak_warming_calculator/peak_warming_calculator.py:126: RuntimeWarning: divide by zero encountered in power\n",
      "  A = Am / (1 + ((P - P0) / (P_h - P0)) ** (-s / r))\n",
      "/Users/aaron/Documents/oxford_physics/Year_4/MPhys/drivers-of-peak-warming/peak_warming_calculator/peak_warming_calculator_Pretis.py:158: RuntimeWarning: divide by zero encountered in power\n",
      "  A = Am / (1 + ((P - P0) / (P_h - P0)) ** (-s / r))\n"
     ]
    },
    {
     "name": "stdout",
     "output_type": "stream",
     "text": [
      "convergence condition not achieved\n",
      "consumption_discount=0.03477736496038697\n",
      "consumption_growth=0.02\n",
      "P_50=120\n",
      "s=0.05\n",
      "r=0.03\n",
      "P_100=300\n",
      "188.30369997528607\n",
      "convergence condition not achieved\n",
      "consumption_discount=0.03451417608844637\n",
      "consumption_growth=0.02\n",
      "P_50=120\n",
      "s=0.05\n",
      "r=0.03\n",
      "P_100=300\n",
      "207.34831335986064\n",
      "convergence condition not achieved\n",
      "consumption_discount=0.03424414839116806\n",
      "consumption_growth=0.02\n",
      "P_50=120\n",
      "s=0.05\n",
      "r=0.03\n",
      "P_100=300\n",
      "221.34011266485513\n",
      "convergence condition not achieved\n",
      "consumption_discount=0.03399312049810134\n",
      "consumption_growth=0.02\n",
      "P_50=120\n",
      "s=0.05\n",
      "r=0.03\n",
      "P_100=300\n",
      "230.65119100772796\n",
      "convergence condition not achieved\n",
      "consumption_discount=0.033735603566423356\n",
      "consumption_growth=0.02\n",
      "P_50=120\n",
      "s=0.05\n",
      "r=0.03\n",
      "P_100=300\n",
      "235.86136469051323\n",
      "convergence condition not achieved\n",
      "consumption_discount=0.03464507793479034\n",
      "consumption_growth=0.02\n",
      "P_50=120\n",
      "s=0.05\n",
      "r=0.03\n",
      "P_100=300\n",
      "523.6688520252189\n",
      "convergence condition not achieved\n",
      "consumption_discount=0.03424282439351943\n",
      "consumption_growth=0.02\n",
      "P_50=120\n",
      "s=0.05\n",
      "r=0.03\n",
      "P_100=300\n",
      "520.458352596189\n",
      "convergence condition not achieved\n",
      "consumption_discount=0.033840821453998596\n",
      "consumption_growth=0.02\n",
      "P_50=120\n",
      "s=0.05\n",
      "r=0.03\n",
      "P_100=300\n",
      "500.82379803236165\n",
      "convergence condition not achieved\n",
      "consumption_discount=0.0333667164575527\n",
      "consumption_growth=0.02\n",
      "P_50=120\n",
      "s=0.05\n",
      "r=0.03\n",
      "P_100=300\n",
      "472.4880894840101\n",
      "convergence condition not achieved\n",
      "consumption_discount=0.03286097321974457\n",
      "consumption_growth=0.02\n",
      "P_50=120\n",
      "s=0.05\n",
      "r=0.03\n",
      "P_100=300\n",
      "440.7649652388163\n",
      "convergence condition not achieved\n",
      "consumption_discount=0.03457609894476473\n",
      "consumption_growth=0.02\n",
      "P_50=120\n",
      "s=0.05\n",
      "r=0.03\n",
      "P_100=300\n",
      "812.602491928921\n",
      "convergence condition not achieved\n",
      "consumption_discount=0.0340839839760826\n",
      "consumption_growth=0.02\n",
      "P_50=120\n",
      "s=0.05\n",
      "r=0.03\n",
      "P_100=300\n",
      "742.4683432659521\n",
      "convergence condition not achieved\n",
      "consumption_discount=0.033530269885182984\n",
      "consumption_growth=0.02\n",
      "P_50=120\n",
      "s=0.05\n",
      "r=0.03\n",
      "P_100=300\n",
      "664.3628146089093\n",
      "convergence condition not achieved\n",
      "consumption_discount=0.032776390971427385\n",
      "consumption_growth=0.02\n",
      "P_50=120\n",
      "s=0.05\n",
      "r=0.03\n",
      "P_100=300\n",
      "590.4332238703028\n",
      "convergence condition not achieved\n",
      "consumption_discount=0.031879367602129186\n",
      "consumption_growth=0.02\n",
      "P_50=120\n",
      "s=0.05\n",
      "r=0.03\n",
      "P_100=300\n",
      "525.0800438828326\n",
      "convergence condition not achieved\n",
      "consumption_discount=0.03453285105769442\n",
      "consumption_growth=0.02\n",
      "P_50=120\n",
      "s=0.05\n",
      "r=0.03\n",
      "P_100=300\n",
      "1063.3613732828655\n",
      "convergence condition not achieved\n",
      "consumption_discount=0.03391980426713778\n",
      "consumption_growth=0.02\n",
      "P_50=120\n",
      "s=0.05\n",
      "r=0.03\n",
      "P_100=300\n",
      "905.720547136188\n",
      "convergence condition not achieved\n",
      "consumption_discount=0.0332744123513871\n",
      "consumption_growth=0.02\n",
      "P_50=120\n",
      "s=0.05\n",
      "r=0.03\n",
      "P_100=300\n",
      "768.2892337682715\n",
      "convergence condition not achieved\n",
      "consumption_discount=0.03235897804893194\n",
      "consumption_growth=0.02\n",
      "P_50=120\n",
      "s=0.05\n",
      "r=0.03\n",
      "P_100=300\n",
      "656.4227177964015\n",
      "convergence condition not achieved\n",
      "consumption_discount=0.03125752948523408\n",
      "consumption_growth=0.02\n",
      "P_50=120\n",
      "s=0.05\n",
      "r=0.03\n",
      "P_100=300\n",
      "567.113897694474\n",
      "convergence condition not achieved\n",
      "consumption_discount=0.03451209198529831\n",
      "consumption_growth=0.02\n",
      "P_50=120\n",
      "s=0.05\n",
      "r=0.03\n",
      "P_100=300\n",
      "1282.434314064729\n",
      "convergence condition not achieved\n",
      "consumption_discount=0.0338773053986181\n",
      "consumption_growth=0.02\n",
      "P_50=120\n",
      "s=0.05\n",
      "r=0.03\n",
      "P_100=300\n",
      "1029.2976363601458\n",
      "convergence condition not achieved\n",
      "consumption_discount=0.03299733619741227\n",
      "consumption_growth=0.02\n",
      "P_50=120\n",
      "s=0.05\n",
      "r=0.03\n",
      "P_100=300\n",
      "838.2601628930779\n",
      "convergence condition not achieved\n",
      "consumption_discount=0.03160440034862677\n",
      "consumption_growth=0.02\n",
      "P_50=120\n",
      "s=0.05\n",
      "r=0.03\n",
      "P_100=300\n",
      "696.5674043467037\n",
      "convergence condition not achieved\n",
      "consumption_discount=0.03018825219530096\n",
      "consumption_growth=0.02\n",
      "P_50=120\n",
      "s=0.05\n",
      "r=0.03\n",
      "P_100=300\n",
      "590.2442139861558\n"
     ]
    }
   ],
   "source": [
    "SCC = []\n",
    "for j in range(len(beta_array)):\n",
    "    SCC_list = []\n",
    "    for i in range(len(delta_T_array)):\n",
    "        peak_warming_Pretis, output_df_Pretis = peak_warming_calculator_Pretis(beta=beta_array[j], delta_T=delta_T_array[i], g_0=consumption_growth, r_minus_g=r_minus_g, return_all_output=True)\n",
    "        SCC_2020 = output_df_Pretis['SCC actual'].loc[2020]\n",
    "        print(SCC_2020)\n",
    "        SCC_list.append(SCC_2020)\n",
    "    SCC.append(SCC_list)"
   ]
  },
  {
   "cell_type": "code",
   "execution_count": 6,
   "id": "ccc5ba78",
   "metadata": {},
   "outputs": [],
   "source": [
    "# SCC_2 = []\n",
    "# for j in range(len(g_grad)):\n",
    "#     SCC_list = []\n",
    "#     for i in range(len(T_max_array)):\n",
    "#         SCC_list.append(peak_warming_calculator_test(T_max=T_max_array[i], consumption_growth=consumption_growth, consumption_discount=consumption_discount))\n",
    "#     SCC_2.append(SCC_list)"
   ]
  },
  {
   "cell_type": "code",
   "execution_count": 10,
   "id": "42af788f",
   "metadata": {},
   "outputs": [
    {
     "data": {
      "text/plain": [
       "array([1.5  , 1.875, 2.25 , 2.625, 3.   ])"
      ]
     },
     "execution_count": 10,
     "metadata": {},
     "output_type": "execute_result"
    }
   ],
   "source": [
    "delta_T_array"
   ]
  },
  {
   "cell_type": "code",
   "execution_count": 11,
   "id": "d7e65537",
   "metadata": {},
   "outputs": [
    {
     "data": {
      "text/plain": [
       "5"
      ]
     },
     "execution_count": 11,
     "metadata": {},
     "output_type": "execute_result"
    }
   ],
   "source": [
    "len(SCC)"
   ]
  },
  {
   "cell_type": "code",
   "execution_count": 12,
   "id": "6a40b021",
   "metadata": {},
   "outputs": [
    {
     "data": {
      "image/png": "[encoded data removed]",
      "text/plain": [
       "<Figure size 432x288 with 1 Axes>"
      ]
     },
     "metadata": {},
     "output_type": "display_data"
    }
   ],
   "source": [
    "fig = plt.figure()\n",
    "\n",
    "for i in range(len(beta_array)):\n",
    "    plt.plot(delta_T_array, SCC[i], label=np.round(beta_array[i]*100, 2), color=cm.inferno(i/len(beta_array)))\n",
    "    \n",
    "# plt.plot(T_max_array, SCC_2[0], linestyle=\"dashed\", color=\"black\")\n",
    "\n",
    "plt.legend(title=\"$\\\\beta$ (% yr$^{-1}$ K$^{-1}$)\")\n",
    "plt.xlim(1.5, 3)\n",
    "plt.ylim(0)\n",
    "plt.xlabel(\"Maximum Warming (K)\")\n",
    "plt.ylabel(\"SCC in 2020 ($)\")\n",
    "\n",
    "fig.savefig('figures/SCC_beta.png', bbox_inches='tight', dpi = 300)"
   ]
  },
  {
   "cell_type": "code",
   "execution_count": 10,
   "id": "240436eb",
   "metadata": {},
   "outputs": [
    {
     "name": "stdout",
     "output_type": "stream",
     "text": [
      "1.2\n"
     ]
    },
    {
     "data": {
      "text/plain": [
       "364.07865766241906"
      ]
     },
     "execution_count": 10,
     "metadata": {},
     "output_type": "execute_result"
    }
   ],
   "source": [
    "g_0 = 0.02\n",
    "consumption_discount = g_0 + 0.015\n",
    "varying_g_test(g_grad=0.0026, g_2019=g_0, consumption_discount=consumption_discount)"
   ]
  },
  {
   "cell_type": "markdown",
   "id": "764f9ded",
   "metadata": {},
   "source": [
    "349.67830266988335"
   ]
  },
  {
   "cell_type": "code",
   "execution_count": 11,
   "id": "db01b8e3",
   "metadata": {},
   "outputs": [
    {
     "data": {
      "text/plain": [
       "[83.44093711296465,\n",
       " 83.12062583109301,\n",
       " 82.80252108977423,\n",
       " 82.48660141870496,\n",
       " 82.1728456269836,\n",
       " 81.86123276656218,\n",
       " 81.55174216639915,\n",
       " 81.24435341226064,\n",
       " 80.93904632452214,\n",
       " 80.63580097158564,\n",
       " 80.33459769492907,\n",
       " 80.03541703043345,\n",
       " 79.73823978612407,\n",
       " 79.44304698263551,\n",
       " 79.14981988263303,\n",
       " 78.85853997557864,\n",
       " 78.56918895657411,\n",
       " 78.28174876339517,\n",
       " 77.996201534008,\n",
       " 77.71252962514603]"
      ]
     },
     "execution_count": 11,
     "metadata": {},
     "output_type": "execute_result"
    }
   ],
   "source": [
    "SCC[0]"
   ]
  },
  {
   "cell_type": "code",
   "execution_count": null,
   "id": "bce82256",
   "metadata": {},
   "outputs": [],
   "source": []
  },
  {
   "cell_type": "code",
   "execution_count": null,
   "id": "d6811ca4",
   "metadata": {},
   "outputs": [],
   "source": []
  }
 ],
 "metadata": {
  "kernelspec": {
   "display_name": "Python 3 (ipykernel)",
   "language": "python",
   "name": "python3"
  },
  "language_info": {
   "codemirror_mode": {
    "name": "ipython",
    "version": 3
   },
   "file_extension": ".py",
   "mimetype": "text/x-python",
   "name": "python",
   "nbconvert_exporter": "python",
   "pygments_lexer": "ipython3",
   "version": "3.9.7"
  }
 },
 "nbformat": 4,
 "nbformat_minor": 5
}
