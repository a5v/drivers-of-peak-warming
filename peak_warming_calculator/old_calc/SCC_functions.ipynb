{
 "cells": [
  {
   "cell_type": "code",
   "execution_count": 1,
   "id": "e0e54508",
   "metadata": {},
   "outputs": [],
   "source": [
    "from SCC_functions import *"
   ]
  },
  {
   "cell_type": "code",
   "execution_count": 2,
   "id": "3c9f6561",
   "metadata": {},
   "outputs": [],
   "source": [
    "import pandas as pd\n",
    "import matplotlib.pyplot as plt"
   ]
  },
  {
   "cell_type": "markdown",
   "id": "b1e84034",
   "metadata": {},
   "source": [
    "## years (time series index)\n",
    "- create_years_array()"
   ]
  },
  {
   "cell_type": "code",
   "execution_count": 3,
   "id": "b2e272b3",
   "metadata": {},
   "outputs": [],
   "source": [
    "# start_year = 1750\n",
    "# end_year = 3000\n",
    "start_year = 2020\n",
    "end_year = 3000\n",
    "\n",
    "years = create_years_array(start_year, end_year)"
   ]
  },
  {
   "cell_type": "code",
   "execution_count": 4,
   "id": "02ed29f7",
   "metadata": {},
   "outputs": [],
   "source": [
    "## set perturbed year\n",
    "SCC_year = 2020"
   ]
  },
  {
   "cell_type": "code",
   "execution_count": 5,
   "id": "138d1a18",
   "metadata": {},
   "outputs": [],
   "source": [
    "## set temperature anomaly in start year\n",
    "T_0 = 1.2"
   ]
  },
  {
   "cell_type": "markdown",
   "id": "8762addb",
   "metadata": {},
   "source": [
    "## consumption time series\n",
    "- create_total_consumption()"
   ]
  },
  {
   "cell_type": "code",
   "execution_count": 6,
   "id": "72a6123d",
   "metadata": {},
   "outputs": [],
   "source": [
    "W = create_total_consumption(years, W_fixed_year=2020, W_fixed=80)"
   ]
  },
  {
   "cell_type": "code",
   "execution_count": 7,
   "id": "dd86fd99",
   "metadata": {},
   "outputs": [],
   "source": [
    "d_W = {'years': years, 'W': W}"
   ]
  },
  {
   "cell_type": "code",
   "execution_count": 8,
   "id": "0bee1d05",
   "metadata": {},
   "outputs": [],
   "source": [
    "df_W = pd.DataFrame(data=d_W).set_index('years')"
   ]
  },
  {
   "cell_type": "code",
   "execution_count": 9,
   "id": "439d032c",
   "metadata": {},
   "outputs": [
    {
     "data": {
      "text/plain": [
       "W    80.0\n",
       "Name: 2020, dtype: float64"
      ]
     },
     "execution_count": 9,
     "metadata": {},
     "output_type": "execute_result"
    }
   ],
   "source": [
    "df_W.loc[2020]"
   ]
  },
  {
   "cell_type": "code",
   "execution_count": 10,
   "id": "a15be144",
   "metadata": {},
   "outputs": [
    {
     "data": {
      "text/plain": [
       "Text(0, 0.5, 'W / $trillion')"
      ]
     },
     "execution_count": 10,
     "metadata": {},
     "output_type": "execute_result"
    },
    {
     "data": {
      "image/png": "[encoded data removed]",
      "text/plain": [
       "<Figure size 432x288 with 1 Axes>"
      ]
     },
     "metadata": {
      "needs_background": "light"
     },
     "output_type": "display_data"
    }
   ],
   "source": [
    "plt.plot(df_W.loc[2000:2100])\n",
    "plt.xlabel(\"Years\")\n",
    "plt.ylabel(\"W / $trillion\")"
   ]
  },
  {
   "cell_type": "markdown",
   "id": "52e7d549",
   "metadata": {},
   "source": []
  },
  {
   "cell_type": "markdown",
   "id": "8bab855e",
   "metadata": {},
   "source": [
    "## discount function\n",
    "- create_discount_function()"
   ]
  },
  {
   "cell_type": "code",
   "execution_count": 11,
   "id": "777775a8",
   "metadata": {},
   "outputs": [],
   "source": [
    "discount_function = create_discount_function(years, SCC_year)"
   ]
  },
  {
   "cell_type": "code",
   "execution_count": 12,
   "id": "25a29b9e",
   "metadata": {},
   "outputs": [],
   "source": [
    "d_discount_function = {'years': years, 'discount function': discount_function}"
   ]
  },
  {
   "cell_type": "code",
   "execution_count": 13,
   "id": "210f3c89",
   "metadata": {},
   "outputs": [],
   "source": [
    "df_discount_function = pd.DataFrame(data=d_discount_function).set_index('years')"
   ]
  },
  {
   "cell_type": "code",
   "execution_count": 14,
   "id": "3d59b779",
   "metadata": {},
   "outputs": [
    {
     "data": {
      "text/plain": [
       "discount function    1.0\n",
       "Name: 2020, dtype: float64"
      ]
     },
     "execution_count": 14,
     "metadata": {},
     "output_type": "execute_result"
    }
   ],
   "source": [
    "df_discount_function.loc[2020]"
   ]
  },
  {
   "cell_type": "code",
   "execution_count": 15,
   "id": "7ddcb3fa",
   "metadata": {},
   "outputs": [
    {
     "data": {
      "text/plain": [
       "Text(0, 0.5, 'Discount Function')"
      ]
     },
     "execution_count": 15,
     "metadata": {},
     "output_type": "execute_result"
    },
    {
     "data": {
      "image/png": "[encoded data removed]",
      "text/plain": [
       "<Figure size 432x288 with 1 Axes>"
      ]
     },
     "metadata": {
      "needs_background": "light"
     },
     "output_type": "display_data"
    }
   ],
   "source": [
    "plt.plot(df_discount_function.loc[2000:2100])\n",
    "plt.xlabel(\"Years\")\n",
    "plt.ylabel(\"Discount Function\")"
   ]
  },
  {
   "cell_type": "markdown",
   "id": "869fb876",
   "metadata": {},
   "source": [
    "## temperature profile and perturbed temperature profile\n",
    "- N.B. these can come from a geometric temperature profile or calculated from emissions through various methods"
   ]
  },
  {
   "cell_type": "code",
   "execution_count": 16,
   "id": "e39651b3",
   "metadata": {},
   "outputs": [],
   "source": [
    "## set size of perturbation in GtCO2!!\n",
    "## to reduce numerical error usually a larger perturbation than 1 tCO2 is used in the calculation of SCC\n",
    "size_of_perturbation = 1  "
   ]
  },
  {
   "cell_type": "markdown",
   "id": "f0dcfaa1",
   "metadata": {},
   "source": [
    "### Default geometric temperature profile and when perturbed"
   ]
  },
  {
   "cell_type": "markdown",
   "id": "edbe61c6",
   "metadata": {},
   "source": [
    "- create_geometric_T() amd create_geometeric_T_perturbed()"
   ]
  },
  {
   "cell_type": "code",
   "execution_count": 17,
   "id": "52e5a07d",
   "metadata": {},
   "outputs": [],
   "source": [
    "## set TCRE and k_s \n",
    "## N.B. the T_TCRE should be given for a 1 GtCO2 perturbation\n",
    "T_TCRE_1 = 0.00054 # for 1 GtCO2\n",
    "k_s = 0.12"
   ]
  },
  {
   "cell_type": "code",
   "execution_count": 18,
   "id": "c72a8443",
   "metadata": {},
   "outputs": [],
   "source": [
    "geometric_T = create_geometric_T(years, T_0=T_0, alpha=0.02, delta_T=3)"
   ]
  },
  {
   "cell_type": "code",
   "execution_count": 19,
   "id": "8e59d6e5",
   "metadata": {},
   "outputs": [],
   "source": [
    "geometric_T_perturbed = create_geometric_T_perturbed(years, T=geometric_T, SCC_year=SCC_year, T_TCRE=T_TCRE_1*size_of_perturbation, k_s=k_s)"
   ]
  },
  {
   "cell_type": "code",
   "execution_count": 20,
   "id": "ea94b2c1",
   "metadata": {},
   "outputs": [],
   "source": [
    "d_geometric_T = {'years': years, 'T': geometric_T, 'T_p': geometric_T_perturbed}"
   ]
  },
  {
   "cell_type": "code",
   "execution_count": 21,
   "id": "79c1f2e0",
   "metadata": {},
   "outputs": [],
   "source": [
    "df_geometric_T = pd.DataFrame(data=d_geometric_T).set_index('years')"
   ]
  },
  {
   "cell_type": "code",
   "execution_count": 22,
   "id": "47d6b7c7",
   "metadata": {},
   "outputs": [
    {
     "data": {
      "text/plain": [
       "T      1.2\n",
       "T_p    1.2\n",
       "Name: 2020, dtype: float64"
      ]
     },
     "execution_count": 22,
     "metadata": {},
     "output_type": "execute_result"
    }
   ],
   "source": [
    "df_geometric_T.loc[2020]"
   ]
  },
  {
   "cell_type": "code",
   "execution_count": 23,
   "id": "cd945ad3",
   "metadata": {},
   "outputs": [
    {
     "data": {
      "text/plain": [
       "Text(0, 0.5, '$T$')"
      ]
     },
     "execution_count": 23,
     "metadata": {},
     "output_type": "execute_result"
    },
    {
     "data": {
      "image/png": "[encoded data removed]",
      "text/plain": [
       "<Figure size 432x288 with 1 Axes>"
      ]
     },
     "metadata": {
      "needs_background": "light"
     },
     "output_type": "display_data"
    }
   ],
   "source": [
    "plt.plot(df_geometric_T.loc[2000:2100]['T'])\n",
    "plt.xlabel(\"Years\")\n",
    "plt.ylabel(\"$T$\")"
   ]
  },
  {
   "cell_type": "code",
   "execution_count": 24,
   "id": "4e8413ba",
   "metadata": {},
   "outputs": [
    {
     "data": {
      "text/plain": [
       "Text(0, 0.5, '$T_p-T$')"
      ]
     },
     "execution_count": 24,
     "metadata": {},
     "output_type": "execute_result"
    },
    {
     "data": {
      "image/png": "[encoded data removed]",
      "text/plain": [
       "<Figure size 432x288 with 1 Axes>"
      ]
     },
     "metadata": {
      "needs_background": "light"
     },
     "output_type": "display_data"
    }
   ],
   "source": [
    "plt.plot(df_geometric_T.loc[2000:2100]['T_p']-df_geometric_T.loc[2000:2100]['T'])\n",
    "plt.xlabel(\"Years\")\n",
    "plt.ylabel(\"$T_p-T$\")"
   ]
  },
  {
   "cell_type": "markdown",
   "id": "b893b951",
   "metadata": {},
   "source": [
    "# calculate SCC"
   ]
  },
  {
   "cell_type": "markdown",
   "id": "534bf80b",
   "metadata": {},
   "source": [
    "- SCC_calculator()"
   ]
  },
  {
   "cell_type": "code",
   "execution_count": 25,
   "id": "09bf8dd0",
   "metadata": {},
   "outputs": [],
   "source": [
    "## define damage function values\n",
    "gamma=2\n",
    "D0=0.00267"
   ]
  },
  {
   "cell_type": "markdown",
   "id": "62eccae2",
   "metadata": {},
   "source": [
    "create time series data frame"
   ]
  },
  {
   "cell_type": "code",
   "execution_count": 26,
   "id": "cc3f3996",
   "metadata": {},
   "outputs": [],
   "source": [
    "time_series_data = {'years': years, 'W': W, 'discount function': discount_function, 'T': geometric_T, 'T perturbed': geometric_T_perturbed}\n",
    "\n",
    "time_series_df = pd.DataFrame(data=time_series_data).set_index('years')"
   ]
  },
  {
   "cell_type": "code",
   "execution_count": 27,
   "id": "d0d3792f",
   "metadata": {},
   "outputs": [
    {
     "data": {
      "text/html": [
       "<div>\n",
       "<style scoped>\n",
       "    .dataframe tbody tr th:only-of-type {\n",
       "        vertical-align: middle;\n",
       "    }\n",
       "\n",
       "    .dataframe tbody tr th {\n",
       "        vertical-align: top;\n",
       "    }\n",
       "\n",
       "    .dataframe thead th {\n",
       "        text-align: right;\n",
       "    }\n",
       "</style>\n",
       "<table border=\"1\" class=\"dataframe\">\n",
       "  <thead>\n",
       "    <tr style=\"text-align: right;\">\n",
       "      <th></th>\n",
       "      <th>W</th>\n",
       "      <th>discount function</th>\n",
       "      <th>T</th>\n",
       "      <th>T perturbed</th>\n",
       "    </tr>\n",
       "    <tr>\n",
       "      <th>years</th>\n",
       "      <th></th>\n",
       "      <th></th>\n",
       "      <th></th>\n",
       "      <th></th>\n",
       "    </tr>\n",
       "  </thead>\n",
       "  <tbody>\n",
       "    <tr>\n",
       "      <th>2020</th>\n",
       "      <td>8.000000e+01</td>\n",
       "      <td>1.000000e+00</td>\n",
       "      <td>1.200000</td>\n",
       "      <td>1.200000</td>\n",
       "    </tr>\n",
       "    <tr>\n",
       "      <th>2021</th>\n",
       "      <td>8.161611e+01</td>\n",
       "      <td>9.656054e-01</td>\n",
       "      <td>1.235642</td>\n",
       "      <td>1.235703</td>\n",
       "    </tr>\n",
       "    <tr>\n",
       "      <th>2022</th>\n",
       "      <td>8.326486e+01</td>\n",
       "      <td>9.323938e-01</td>\n",
       "      <td>1.270579</td>\n",
       "      <td>1.270694</td>\n",
       "    </tr>\n",
       "    <tr>\n",
       "      <th>2023</th>\n",
       "      <td>8.494692e+01</td>\n",
       "      <td>9.003245e-01</td>\n",
       "      <td>1.304824</td>\n",
       "      <td>1.304987</td>\n",
       "    </tr>\n",
       "    <tr>\n",
       "      <th>2024</th>\n",
       "      <td>8.666297e+01</td>\n",
       "      <td>8.693582e-01</td>\n",
       "      <td>1.338391</td>\n",
       "      <td>1.338596</td>\n",
       "    </tr>\n",
       "    <tr>\n",
       "      <th>...</th>\n",
       "      <td>...</td>\n",
       "      <td>...</td>\n",
       "      <td>...</td>\n",
       "      <td>...</td>\n",
       "    </tr>\n",
       "    <tr>\n",
       "      <th>2996</th>\n",
       "      <td>2.401697e+10</td>\n",
       "      <td>1.460496e-15</td>\n",
       "      <td>3.000000</td>\n",
       "      <td>3.000540</td>\n",
       "    </tr>\n",
       "    <tr>\n",
       "      <th>2997</th>\n",
       "      <td>2.450215e+10</td>\n",
       "      <td>1.410263e-15</td>\n",
       "      <td>3.000000</td>\n",
       "      <td>3.000540</td>\n",
       "    </tr>\n",
       "    <tr>\n",
       "      <th>2998</th>\n",
       "      <td>2.499712e+10</td>\n",
       "      <td>1.361758e-15</td>\n",
       "      <td>3.000000</td>\n",
       "      <td>3.000540</td>\n",
       "    </tr>\n",
       "    <tr>\n",
       "      <th>2999</th>\n",
       "      <td>2.550210e+10</td>\n",
       "      <td>1.314921e-15</td>\n",
       "      <td>3.000000</td>\n",
       "      <td>3.000540</td>\n",
       "    </tr>\n",
       "    <tr>\n",
       "      <th>3000</th>\n",
       "      <td>2.601728e+10</td>\n",
       "      <td>1.269695e-15</td>\n",
       "      <td>3.000000</td>\n",
       "      <td>3.000540</td>\n",
       "    </tr>\n",
       "  </tbody>\n",
       "</table>\n",
       "<p>981 rows × 4 columns</p>\n",
       "</div>"
      ],
      "text/plain": [
       "                  W  discount function         T  T perturbed\n",
       "years                                                        \n",
       "2020   8.000000e+01       1.000000e+00  1.200000     1.200000\n",
       "2021   8.161611e+01       9.656054e-01  1.235642     1.235703\n",
       "2022   8.326486e+01       9.323938e-01  1.270579     1.270694\n",
       "2023   8.494692e+01       9.003245e-01  1.304824     1.304987\n",
       "2024   8.666297e+01       8.693582e-01  1.338391     1.338596\n",
       "...             ...                ...       ...          ...\n",
       "2996   2.401697e+10       1.460496e-15  3.000000     3.000540\n",
       "2997   2.450215e+10       1.410263e-15  3.000000     3.000540\n",
       "2998   2.499712e+10       1.361758e-15  3.000000     3.000540\n",
       "2999   2.550210e+10       1.314921e-15  3.000000     3.000540\n",
       "3000   2.601728e+10       1.269695e-15  3.000000     3.000540\n",
       "\n",
       "[981 rows x 4 columns]"
      ]
     },
     "execution_count": 27,
     "metadata": {},
     "output_type": "execute_result"
    }
   ],
   "source": [
    "time_series_df"
   ]
  },
  {
   "cell_type": "code",
   "execution_count": 28,
   "id": "a5b79a81",
   "metadata": {},
   "outputs": [
    {
     "data": {
      "text/plain": [
       "31.826890094939316"
      ]
     },
     "execution_count": 28,
     "metadata": {},
     "output_type": "execute_result"
    }
   ],
   "source": [
    "SCC_calculator(time_series_df, size_of_perturbation=size_of_perturbation, gamma=gamma, D0=D0)"
   ]
  },
  {
   "cell_type": "code",
   "execution_count": null,
   "id": "0cb81797",
   "metadata": {},
   "outputs": [],
   "source": []
  },
  {
   "cell_type": "code",
   "execution_count": null,
   "id": "acc3f714",
   "metadata": {},
   "outputs": [],
   "source": []
  }
 ],
 "metadata": {
  "kernelspec": {
   "display_name": "Python 3 (ipykernel)",
   "language": "python",
   "name": "python3"
  },
  "language_info": {
   "codemirror_mode": {
    "name": "ipython",
    "version": 3
   },
   "file_extension": ".py",
   "mimetype": "text/x-python",
   "name": "python",
   "nbconvert_exporter": "python",
   "pygments_lexer": "ipython3",
   "version": "3.9.7"
  }
 },
 "nbformat": 4,
 "nbformat_minor": 5
}
