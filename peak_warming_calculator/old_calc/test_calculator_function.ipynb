{
 "cells": [
  {
   "cell_type": "code",
   "execution_count": 1,
   "id": "c4f09662",
   "metadata": {},
   "outputs": [],
   "source": [
    "import matplotlib.pyplot as plt"
   ]
  },
  {
   "cell_type": "code",
   "execution_count": 2,
   "id": "79fbd116",
   "metadata": {},
   "outputs": [],
   "source": [
    "from peak_warming_calculator import peak_warming_calculator"
   ]
  },
  {
   "cell_type": "code",
   "execution_count": 3,
   "id": "b7e21726",
   "metadata": {},
   "outputs": [],
   "source": [
    "from peak_warming_calculator_Pretis import peak_warming_calculator_Pretis"
   ]
  },
  {
   "cell_type": "markdown",
   "id": "b7dc0238",
   "metadata": {},
   "source": [
    "## Checking Function is Working"
   ]
  },
  {
   "cell_type": "markdown",
   "id": "23631c02",
   "metadata": {},
   "source": [
    "return_all_output=False"
   ]
  },
  {
   "cell_type": "code",
   "execution_count": 4,
   "id": "5cf4eec0",
   "metadata": {},
   "outputs": [
    {
     "name": "stderr",
     "output_type": "stream",
     "text": [
      "/Users/aaron/Documents/oxford_physics/Year_4/MPhys/drivers-of-peak-warming/peak_warming_calculator/peak_warming_calculator.py:126: RuntimeWarning: divide by zero encountered in power\n",
      "  A = Am / (1 + ((P - P0) / (P_h - P0)) ** (-s / r))\n"
     ]
    }
   ],
   "source": [
    "peak_T, output_df = peak_warming_calculator(return_all_output=True)"
   ]
  },
  {
   "cell_type": "code",
   "execution_count": 5,
   "id": "149f3931",
   "metadata": {},
   "outputs": [
    {
     "data": {
      "text/plain": [
       "2.5645923835913385"
      ]
     },
     "execution_count": 5,
     "metadata": {},
     "output_type": "execute_result"
    }
   ],
   "source": [
    "peak_T"
   ]
  },
  {
   "cell_type": "code",
   "execution_count": 6,
   "id": "1324ea69",
   "metadata": {
    "scrolled": true
   },
   "outputs": [
    {
     "name": "stderr",
     "output_type": "stream",
     "text": [
      "/Users/aaron/Documents/oxford_physics/Year_4/MPhys/drivers-of-peak-warming/peak_warming_calculator/peak_warming_calculator_Pretis.py:158: RuntimeWarning: divide by zero encountered in power\n",
      "  A = Am / (1 + ((P - P0) / (P_h - P0)) ** (-s / r))\n"
     ]
    }
   ],
   "source": [
    "peak_T_Pretis, output_df_Pretis = peak_warming_calculator_Pretis(return_all_output=True)"
   ]
  },
  {
   "cell_type": "code",
   "execution_count": 7,
   "id": "ebca07a9",
   "metadata": {},
   "outputs": [
    {
     "data": {
      "text/plain": [
       "1.3985211364163126"
      ]
     },
     "execution_count": 7,
     "metadata": {},
     "output_type": "execute_result"
    }
   ],
   "source": [
    "peak_T_Pretis"
   ]
  },
  {
   "cell_type": "code",
   "execution_count": null,
   "id": "bec370b9",
   "metadata": {},
   "outputs": [],
   "source": []
  }
 ],
 "metadata": {
  "kernelspec": {
   "display_name": "Python 3 (ipykernel)",
   "language": "python",
   "name": "python3"
  },
  "language_info": {
   "codemirror_mode": {
    "name": "ipython",
    "version": 3
   },
   "file_extension": ".py",
   "mimetype": "text/x-python",
   "name": "python",
   "nbconvert_exporter": "python",
   "pygments_lexer": "ipython3",
   "version": "3.9.7"
  }
 },
 "nbformat": 4,
 "nbformat_minor": 5
}
