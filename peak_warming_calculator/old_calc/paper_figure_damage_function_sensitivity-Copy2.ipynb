{
 "cells": [
  {
   "cell_type": "code",
   "execution_count": 1,
   "id": "79fbd116",
   "metadata": {
    "scrolled": true
   },
   "outputs": [],
   "source": [
    "from peak_warming_calculator_Pretis import peak_warming_calculator_Pretis\n",
    "import matplotlib.pyplot as plt"
   ]
  },
  {
   "cell_type": "code",
   "execution_count": 2,
   "id": "f88ad1ae",
   "metadata": {},
   "outputs": [],
   "source": [
    "from SALib.sample import saltelli\n",
    "from SALib.analyze import sobol\n",
    "import numpy as np\n",
    "from numpy import genfromtxt\n",
    "import matplotlib.cm as cm"
   ]
  },
  {
   "cell_type": "code",
   "execution_count": 3,
   "id": "019be719",
   "metadata": {},
   "outputs": [],
   "source": [
    "import time"
   ]
  },
  {
   "cell_type": "markdown",
   "id": "026e922f",
   "metadata": {},
   "source": [
    "# Sensitivity Analysis"
   ]
  },
  {
   "cell_type": "code",
   "execution_count": 4,
   "id": "d29eed9b",
   "metadata": {},
   "outputs": [],
   "source": [
    "r_minus_g = 0.015\n",
    "consumption_growth = 0.02\n",
    "consumption_discount = consumption_growth + r_minus_g"
   ]
  },
  {
   "cell_type": "code",
   "execution_count": 5,
   "id": "e2c561f9",
   "metadata": {},
   "outputs": [],
   "source": [
    "num_of_sample = 10\n",
    "gamma_sample = np.linspace(2, 2*2, num_of_sample)\n",
    "D0_sample = np.linspace(0.00236, 0.00236*2, num_of_sample)"
   ]
  },
  {
   "cell_type": "code",
   "execution_count": 6,
   "id": "ae489c9b",
   "metadata": {},
   "outputs": [
    {
     "data": {
      "text/plain": [
       "array([2.        , 2.22222222, 2.44444444, 2.66666667, 2.88888889,\n",
       "       3.11111111, 3.33333333, 3.55555556, 3.77777778, 4.        ])"
      ]
     },
     "execution_count": 6,
     "metadata": {},
     "output_type": "execute_result"
    }
   ],
   "source": [
    "gamma_sample"
   ]
  },
  {
   "cell_type": "code",
   "execution_count": 7,
   "id": "5a125a59",
   "metadata": {},
   "outputs": [],
   "source": [
    "P_100 = 300\n",
    "P_50 = 0.4 * P_100\n",
    "r = consumption_discount\n",
    "s = 3 * r\n",
    "T_TCRE_1 = 0.00045"
   ]
  },
  {
   "cell_type": "code",
   "execution_count": 8,
   "id": "1146ad30",
   "metadata": {},
   "outputs": [
    {
     "name": "stdout",
     "output_type": "stream",
     "text": [
      "0\n"
     ]
    },
    {
     "name": "stderr",
     "output_type": "stream",
     "text": [
      "/Users/aaron/Documents/oxford_physics/Year_4/MPhys/drivers-of-peak-warming/peak_warming_calculator/peak_warming_calculator.py:138: RuntimeWarning: divide by zero encountered in power\n",
      "  A = Am / (1 + ((P - P0) / (P_h - P0)) ** (-s / r))\n",
      "/Users/aaron/Documents/oxford_physics/Year_4/MPhys/drivers-of-peak-warming/peak_warming_calculator/peak_warming_calculator_Pretis.py:165: RuntimeWarning: divide by zero encountered in power\n",
      "  A = Am / (1 + ((P - P0) / (P_h - P0)) ** (-s / r))\n"
     ]
    },
    {
     "name": "stdout",
     "output_type": "stream",
     "text": [
      "1\n",
      "2\n",
      "3\n",
      "4\n",
      "5\n",
      "convergence condition not achieved\n",
      "consumption_discount=0.035\n",
      "consumption_growth=0.02\n",
      "P_50=120.0\n",
      "s=0.10500000000000001\n",
      "r=0.035\n",
      "P_100=300\n",
      "convergence condition not achieved\n",
      "consumption_discount=0.035\n",
      "consumption_growth=0.02\n",
      "P_50=120.0\n",
      "s=0.10500000000000001\n",
      "r=0.035\n",
      "P_100=300\n",
      "convergence condition not achieved\n",
      "consumption_discount=0.035\n",
      "consumption_growth=0.02\n",
      "P_50=120.0\n",
      "s=0.10500000000000001\n",
      "r=0.035\n",
      "P_100=300\n",
      "convergence condition not achieved\n",
      "consumption_discount=0.035\n",
      "consumption_growth=0.02\n",
      "P_50=120.0\n",
      "s=0.10500000000000001\n",
      "r=0.035\n",
      "P_100=300\n",
      "convergence condition not achieved\n",
      "consumption_discount=0.035\n",
      "consumption_growth=0.02\n",
      "P_50=120.0\n",
      "s=0.10500000000000001\n",
      "r=0.035\n",
      "P_100=300\n",
      "convergence condition not achieved\n",
      "consumption_discount=0.035\n",
      "consumption_growth=0.02\n",
      "P_50=120.0\n",
      "s=0.10500000000000001\n",
      "r=0.035\n",
      "P_100=300\n",
      "6\n",
      "convergence condition not achieved\n",
      "consumption_discount=0.035\n",
      "consumption_growth=0.02\n",
      "P_50=120.0\n",
      "s=0.10500000000000001\n",
      "r=0.035\n",
      "P_100=300\n",
      "convergence condition not achieved\n",
      "consumption_discount=0.035\n",
      "consumption_growth=0.02\n",
      "P_50=120.0\n",
      "s=0.10500000000000001\n",
      "r=0.035\n",
      "P_100=300\n",
      "convergence condition not achieved\n",
      "consumption_discount=0.035\n",
      "consumption_growth=0.02\n",
      "P_50=120.0\n",
      "s=0.10500000000000001\n",
      "r=0.035\n",
      "P_100=300\n",
      "convergence condition not achieved\n",
      "consumption_discount=0.035\n",
      "consumption_growth=0.02\n",
      "P_50=120.0\n",
      "s=0.10500000000000001\n",
      "r=0.035\n",
      "P_100=300\n",
      "convergence condition not achieved\n",
      "consumption_discount=0.035\n",
      "consumption_growth=0.02\n",
      "P_50=120.0\n",
      "s=0.10500000000000001\n",
      "r=0.035\n",
      "P_100=300\n",
      "P0 is greater than P_50\n",
      "P0 is greater than P_50\n",
      "P0 is greater than P_50\n",
      "P0 is greater than P_50\n",
      "P0 is greater than P_50\n",
      "7\n",
      "P0 is greater than P_50\n",
      "P0 is greater than P_50\n",
      "P0 is greater than P_50\n",
      "P0 is greater than P_50\n",
      "P0 is greater than P_50\n",
      "P0 is greater than P_50\n",
      "P0 is greater than P_50\n",
      "P0 is greater than P_50\n",
      "P0 is greater than P_50\n",
      "P0 is greater than P_50\n",
      "8\n",
      "P0 is greater than P_50\n",
      "P0 is greater than P_50\n",
      "P0 is greater than P_50\n",
      "P0 is greater than P_50\n",
      "P0 is greater than P_50\n",
      "P0 is greater than P_50\n",
      "P0 is greater than P_50\n",
      "P0 is greater than P_50\n",
      "P0 is greater than P_50\n",
      "P0 is greater than P_50\n",
      "9\n",
      "P0 is greater than P_50\n",
      "P0 is greater than P_50\n",
      "P0 is greater than P_50\n",
      "P0 is greater than P_50\n",
      "P0 is greater than P_50\n",
      "P0 is greater than P_50\n",
      "P0 is greater than P_50\n",
      "P0 is greater than P_50\n",
      "P0 is greater than P_50\n",
      "P0 is greater than P_50\n"
     ]
    }
   ],
   "source": [
    "peak_T_list = []\n",
    "output_data_list = []\n",
    "\n",
    "for i in range(num_of_sample):\n",
    "    gamma = gamma_sample[i]\n",
    "    print(i)\n",
    "    \n",
    "    peak_T_const_gamma = []\n",
    "    output_data_const_gamma = []\n",
    "    for j in range(num_of_sample):\n",
    "        D0 = D0_sample[j]\n",
    "        peak_T, output_data = peak_warming_calculator_Pretis(P_50=P_50, P_100=P_100, gamma=gamma, D0=D0, delta_T=1.5, g_0=consumption_growth, r_minus_g=r_minus_g, s=s, r=r, T_TCRE_1=T_TCRE_1, return_all_output=True)\n",
    "#         print(D0, gamma, peak_T)\n",
    "#         print(peak_T)\n",
    "#         if peak_T == 1.2:\n",
    "#             peak_T = None\n",
    "        peak_T_const_gamma.append(peak_T)\n",
    "        output_data_const_gamma.append(output_data_const_gamma)\n",
    "#         peak_T_list.append(peak_T)\n",
    "    \n",
    "    peak_T_list.append(peak_T_const_gamma)\n",
    "    output_data_list.append(output_data_const_gamma)\n",
    "\n"
   ]
  },
  {
   "cell_type": "code",
   "execution_count": 9,
   "id": "e055560f",
   "metadata": {},
   "outputs": [],
   "source": [
    "peak_T_array = np.asarray(peak_T_list)"
   ]
  },
  {
   "cell_type": "code",
   "execution_count": 10,
   "id": "7105578a",
   "metadata": {},
   "outputs": [],
   "source": [
    "D0_sample_i, gamma_sample_i = np.meshgrid(D0_sample, gamma_sample)"
   ]
  },
  {
   "cell_type": "code",
   "execution_count": 11,
   "id": "ee2dcf2b",
   "metadata": {},
   "outputs": [
    {
     "data": {
      "text/plain": [
       "array([[2.        , 2.        , 2.        , 2.        , 2.        ,\n",
       "        2.        , 2.        , 2.        , 2.        , 2.        ],\n",
       "       [2.22222222, 2.22222222, 2.22222222, 2.22222222, 2.22222222,\n",
       "        2.22222222, 2.22222222, 2.22222222, 2.22222222, 2.22222222],\n",
       "       [2.44444444, 2.44444444, 2.44444444, 2.44444444, 2.44444444,\n",
       "        2.44444444, 2.44444444, 2.44444444, 2.44444444, 2.44444444],\n",
       "       [2.66666667, 2.66666667, 2.66666667, 2.66666667, 2.66666667,\n",
       "        2.66666667, 2.66666667, 2.66666667, 2.66666667, 2.66666667],\n",
       "       [2.88888889, 2.88888889, 2.88888889, 2.88888889, 2.88888889,\n",
       "        2.88888889, 2.88888889, 2.88888889, 2.88888889, 2.88888889],\n",
       "       [3.11111111, 3.11111111, 3.11111111, 3.11111111, 3.11111111,\n",
       "        3.11111111, 3.11111111, 3.11111111, 3.11111111, 3.11111111],\n",
       "       [3.33333333, 3.33333333, 3.33333333, 3.33333333, 3.33333333,\n",
       "        3.33333333, 3.33333333, 3.33333333, 3.33333333, 3.33333333],\n",
       "       [3.55555556, 3.55555556, 3.55555556, 3.55555556, 3.55555556,\n",
       "        3.55555556, 3.55555556, 3.55555556, 3.55555556, 3.55555556],\n",
       "       [3.77777778, 3.77777778, 3.77777778, 3.77777778, 3.77777778,\n",
       "        3.77777778, 3.77777778, 3.77777778, 3.77777778, 3.77777778],\n",
       "       [4.        , 4.        , 4.        , 4.        , 4.        ,\n",
       "        4.        , 4.        , 4.        , 4.        , 4.        ]])"
      ]
     },
     "execution_count": 11,
     "metadata": {},
     "output_type": "execute_result"
    }
   ],
   "source": [
    "gamma_sample_i"
   ]
  },
  {
   "cell_type": "code",
   "execution_count": 12,
   "id": "e88afe90",
   "metadata": {},
   "outputs": [
    {
     "data": {
      "text/plain": [
       "array([[0.00236   , 0.00262222, 0.00288444, 0.00314667, 0.00340889,\n",
       "        0.00367111, 0.00393333, 0.00419556, 0.00445778, 0.00472   ],\n",
       "       [0.00236   , 0.00262222, 0.00288444, 0.00314667, 0.00340889,\n",
       "        0.00367111, 0.00393333, 0.00419556, 0.00445778, 0.00472   ],\n",
       "       [0.00236   , 0.00262222, 0.00288444, 0.00314667, 0.00340889,\n",
       "        0.00367111, 0.00393333, 0.00419556, 0.00445778, 0.00472   ],\n",
       "       [0.00236   , 0.00262222, 0.00288444, 0.00314667, 0.00340889,\n",
       "        0.00367111, 0.00393333, 0.00419556, 0.00445778, 0.00472   ],\n",
       "       [0.00236   , 0.00262222, 0.00288444, 0.00314667, 0.00340889,\n",
       "        0.00367111, 0.00393333, 0.00419556, 0.00445778, 0.00472   ],\n",
       "       [0.00236   , 0.00262222, 0.00288444, 0.00314667, 0.00340889,\n",
       "        0.00367111, 0.00393333, 0.00419556, 0.00445778, 0.00472   ],\n",
       "       [0.00236   , 0.00262222, 0.00288444, 0.00314667, 0.00340889,\n",
       "        0.00367111, 0.00393333, 0.00419556, 0.00445778, 0.00472   ],\n",
       "       [0.00236   , 0.00262222, 0.00288444, 0.00314667, 0.00340889,\n",
       "        0.00367111, 0.00393333, 0.00419556, 0.00445778, 0.00472   ],\n",
       "       [0.00236   , 0.00262222, 0.00288444, 0.00314667, 0.00340889,\n",
       "        0.00367111, 0.00393333, 0.00419556, 0.00445778, 0.00472   ],\n",
       "       [0.00236   , 0.00262222, 0.00288444, 0.00314667, 0.00340889,\n",
       "        0.00367111, 0.00393333, 0.00419556, 0.00445778, 0.00472   ]])"
      ]
     },
     "execution_count": 12,
     "metadata": {},
     "output_type": "execute_result"
    }
   ],
   "source": [
    "D0_sample_i"
   ]
  },
  {
   "cell_type": "code",
   "execution_count": 13,
   "id": "869e0e4e",
   "metadata": {},
   "outputs": [
    {
     "data": {
      "text/plain": [
       "array([[1.3940974405977278, 1.3912235496659222, 1.388378378518275,\n",
       "        1.3855596395766057, 1.3828193629478125, 1.380064321787609,\n",
       "        1.37733078778138, 1.3746174006655827, 1.3719230373176818,\n",
       "        1.369246789276979],\n",
       "       [1.3864571862630197, 1.3829558880900894, 1.3795086036388928,\n",
       "        1.3761073772550867, 1.372748518438538, 1.36942906419298,\n",
       "        1.3661461605362022, 1.362897414043853, 1.359681179251032,\n",
       "        1.3564957241851956],\n",
       "       [1.3779809894296513, 1.3737585397470564, 1.3696896077376728,\n",
       "        1.3656919970493515, 1.3617595174681525, 1.357887453230401,\n",
       "        1.3542670713128688, 1.3505527045323116, 1.3468980304739864,\n",
       "        1.3432968589272534],\n",
       "       [1.3685450060368405, 1.3639184653179526, 1.3592969317315793,\n",
       "        1.3545614803345922, 1.3500808307355447, 1.3459881124659046,\n",
       "        1.3414777972521277, 1.3372447078775576, 1.3334858575302773,\n",
       "        1.329088060364676],\n",
       "       [1.3586038853560356, 1.3534745851815597, 1.3482776477685738,\n",
       "        1.343238208098264, 1.338344972861539, 1.3331839368340932,\n",
       "        1.3289121298759816, 1.3238876947206974, 1.3193878544409325,\n",
       "        1.3155503205770531],\n",
       "       [1.3485335313843476, 1.3422789057594295, 1.3369906325553214,\n",
       "        1.3310386066115105, None, None, None, None, None, None],\n",
       "       [None, None, None, None, None, None, None, None, None, None],\n",
       "       [None, None, None, None, None, None, None, None, None, None],\n",
       "       [None, None, None, None, None, None, None, None, None, None],\n",
       "       [None, None, None, None, None, None, None, None, None, None]],\n",
       "      dtype=object)"
      ]
     },
     "execution_count": 13,
     "metadata": {},
     "output_type": "execute_result"
    }
   ],
   "source": [
    "peak_T_array"
   ]
  },
  {
   "cell_type": "code",
   "execution_count": 17,
   "id": "d5c0bf7f",
   "metadata": {},
   "outputs": [
    {
     "data": {
      "image/png": "[encoded data removed]",
      "text/plain": [
       "<Figure size 432x288 with 2 Axes>"
      ]
     },
     "metadata": {
      "needs_background": "light"
     },
     "output_type": "display_data"
    }
   ],
   "source": [
    "fig, axs = plt.subplots(1,1)\n",
    "\n",
    "cs = axs.contourf(D0_sample_i, gamma_sample_i, peak_T_array)\n",
    "plt.xlabel(\"D0\")\n",
    "plt.ylabel(\"gamma\")\n",
    "fig.colorbar(cs, ax=axs)\n",
    "\n",
    "fig.savefig('paper_figures/Pretis_peak_T_sensitivity.png', bbox_inches='tight', dpi = 300)"
   ]
  },
  {
   "cell_type": "code",
   "execution_count": null,
   "id": "5125fb46",
   "metadata": {},
   "outputs": [],
   "source": []
  },
  {
   "cell_type": "code",
   "execution_count": 15,
   "id": "52d79ad7",
   "metadata": {},
   "outputs": [
    {
     "data": {
      "image/png": "[encoded data removed]",
      "text/plain": [
       "<Figure size 432x288 with 2 Axes>"
      ]
     },
     "metadata": {
      "needs_background": "light"
     },
     "output_type": "display_data"
    }
   ],
   "source": [
    "fig, axs = plt.subplots(1,1)\n",
    "\n",
    "cs = axs.contourf(D0_sample_i, gamma_sample_i, peak_T_array)\n",
    "plt.xlabel(\"D0\")\n",
    "plt.ylabel(\"gamma\")\n",
    "fig.colorbar(cs, ax=axs)\n",
    "\n",
    "# const = 0.09\n",
    "const_list = np.linspace(0.04, 0.2, 5)\n",
    "exp = 0.35\n",
    "for const in const_list:\n",
    "    D_0_range = np.linspace(0.00236*0.1, 0.00236*1.9, 50)\n",
    "    gamma_0 = const/(D_0_range**exp)\n",
    "    axs.plot(D_0_range, gamma_0)\n"
   ]
  },
  {
   "cell_type": "code",
   "execution_count": null,
   "id": "13f66eef",
   "metadata": {},
   "outputs": [],
   "source": []
  }
 ],
 "metadata": {
  "kernelspec": {
   "display_name": "Python 3 (ipykernel)",
   "language": "python",
   "name": "python3"
  },
  "language_info": {
   "codemirror_mode": {
    "name": "ipython",
    "version": 3
   },
   "file_extension": ".py",
   "mimetype": "text/x-python",
   "name": "python",
   "nbconvert_exporter": "python",
   "pygments_lexer": "ipython3",
   "version": "3.9.7"
  }
 },
 "nbformat": 4,
 "nbformat_minor": 5
}
