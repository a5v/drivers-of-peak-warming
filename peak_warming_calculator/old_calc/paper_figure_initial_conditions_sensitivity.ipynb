{
 "cells": [
  {
   "cell_type": "code",
   "execution_count": 1,
   "id": "79fbd116",
   "metadata": {
    "scrolled": true
   },
   "outputs": [],
   "source": [
    "from peak_warming_calculator  import *\n",
    "import matplotlib.pyplot as plt"
   ]
  },
  {
   "cell_type": "code",
   "execution_count": 2,
   "id": "f88ad1ae",
   "metadata": {},
   "outputs": [],
   "source": [
    "from SALib.sample import saltelli\n",
    "from SALib.analyze import sobol\n",
    "import numpy as np\n",
    "from numpy import genfromtxt\n",
    "import matplotlib.cm as cm"
   ]
  },
  {
   "cell_type": "code",
   "execution_count": 3,
   "id": "019be719",
   "metadata": {},
   "outputs": [],
   "source": [
    "import time"
   ]
  },
  {
   "cell_type": "markdown",
   "id": "026e922f",
   "metadata": {},
   "source": [
    "# Sensitivity Analysis"
   ]
  },
  {
   "cell_type": "code",
   "execution_count": 4,
   "id": "d29eed9b",
   "metadata": {},
   "outputs": [],
   "source": [
    "r_minus_g = 0.015\n",
    "consumption_growth = 0.02\n",
    "consumption_discount = consumption_growth + r_minus_g"
   ]
  },
  {
   "cell_type": "code",
   "execution_count": 5,
   "id": "e2c561f9",
   "metadata": {},
   "outputs": [],
   "source": [
    "num_of_sample = 8\n",
    "delta_T_sample = np.linspace(1.5, 3, num_of_sample)\n",
    "alpha_sample = np.linspace(0.01, 0.1, num_of_sample)"
   ]
  },
  {
   "cell_type": "code",
   "execution_count": 6,
   "id": "5a125a59",
   "metadata": {},
   "outputs": [],
   "source": [
    "P_100 = 300\n",
    "P_50 = 0.4 * P_100\n",
    "r = consumption_discount\n",
    "s = 3 * r\n",
    "T_TCRE_1 = 0.00045"
   ]
  },
  {
   "cell_type": "code",
   "execution_count": 7,
   "id": "1146ad30",
   "metadata": {},
   "outputs": [
    {
     "name": "stderr",
     "output_type": "stream",
     "text": [
      "/Users/aaron/Documents/oxford_physics/Year_4/MPhys/drivers-of-peak-warming/peak_warming_calculator/peak_warming_calculator.py:126: RuntimeWarning: divide by zero encountered in power\n",
      "  A = Am / (1 + ((P - P0) / (P_h - P0)) ** (-s / r))\n"
     ]
    }
   ],
   "source": [
    "peak_T_list = []\n",
    "\n",
    "for i in range(num_of_sample):\n",
    "    delta_T = delta_T_sample[i]\n",
    "    \n",
    "    peak_T_const_gamma = []\n",
    "    for j in range(num_of_sample):\n",
    "        alpha = alpha_sample[j]\n",
    "        peak_T = peak_warming_calculator(P_50=P_50, P_100=P_100, delta_T=delta_T, alpha=alpha, consumption_growth=consumption_growth, consumption_discount=consumption_discount, s=s, r=r, T_TCRE_1=T_TCRE_1)\n",
    "#         print(D0, gamma, peak_T)\n",
    "#         print(peak_T)\n",
    "        peak_T_const_gamma.append(peak_T)\n",
    "#         peak_T_list.append(peak_T)\n",
    "    \n",
    "    peak_T_list.append(peak_T_const_gamma)\n",
    "\n"
   ]
  },
  {
   "cell_type": "code",
   "execution_count": 8,
   "id": "e055560f",
   "metadata": {},
   "outputs": [],
   "source": [
    "peak_T_array = np.asarray(peak_T_list)"
   ]
  },
  {
   "cell_type": "code",
   "execution_count": 9,
   "id": "7105578a",
   "metadata": {},
   "outputs": [],
   "source": [
    "alpha_sample_i, delta_T_sample_i = np.meshgrid(alpha_sample, delta_T_sample)"
   ]
  },
  {
   "cell_type": "code",
   "execution_count": 10,
   "id": "ee2dcf2b",
   "metadata": {},
   "outputs": [
    {
     "data": {
      "text/plain": [
       "array([[0.01      , 0.02285714, 0.03571429, 0.04857143, 0.06142857,\n",
       "        0.07428571, 0.08714286, 0.1       ],\n",
       "       [0.01      , 0.02285714, 0.03571429, 0.04857143, 0.06142857,\n",
       "        0.07428571, 0.08714286, 0.1       ],\n",
       "       [0.01      , 0.02285714, 0.03571429, 0.04857143, 0.06142857,\n",
       "        0.07428571, 0.08714286, 0.1       ],\n",
       "       [0.01      , 0.02285714, 0.03571429, 0.04857143, 0.06142857,\n",
       "        0.07428571, 0.08714286, 0.1       ],\n",
       "       [0.01      , 0.02285714, 0.03571429, 0.04857143, 0.06142857,\n",
       "        0.07428571, 0.08714286, 0.1       ],\n",
       "       [0.01      , 0.02285714, 0.03571429, 0.04857143, 0.06142857,\n",
       "        0.07428571, 0.08714286, 0.1       ],\n",
       "       [0.01      , 0.02285714, 0.03571429, 0.04857143, 0.06142857,\n",
       "        0.07428571, 0.08714286, 0.1       ],\n",
       "       [0.01      , 0.02285714, 0.03571429, 0.04857143, 0.06142857,\n",
       "        0.07428571, 0.08714286, 0.1       ]])"
      ]
     },
     "execution_count": 10,
     "metadata": {},
     "output_type": "execute_result"
    }
   ],
   "source": [
    "alpha_sample_i"
   ]
  },
  {
   "cell_type": "code",
   "execution_count": 11,
   "id": "e88afe90",
   "metadata": {},
   "outputs": [
    {
     "data": {
      "text/plain": [
       "array([[1.5       , 1.5       , 1.5       , 1.5       , 1.5       ,\n",
       "        1.5       , 1.5       , 1.5       ],\n",
       "       [1.71428571, 1.71428571, 1.71428571, 1.71428571, 1.71428571,\n",
       "        1.71428571, 1.71428571, 1.71428571],\n",
       "       [1.92857143, 1.92857143, 1.92857143, 1.92857143, 1.92857143,\n",
       "        1.92857143, 1.92857143, 1.92857143],\n",
       "       [2.14285714, 2.14285714, 2.14285714, 2.14285714, 2.14285714,\n",
       "        2.14285714, 2.14285714, 2.14285714],\n",
       "       [2.35714286, 2.35714286, 2.35714286, 2.35714286, 2.35714286,\n",
       "        2.35714286, 2.35714286, 2.35714286],\n",
       "       [2.57142857, 2.57142857, 2.57142857, 2.57142857, 2.57142857,\n",
       "        2.57142857, 2.57142857, 2.57142857],\n",
       "       [2.78571429, 2.78571429, 2.78571429, 2.78571429, 2.78571429,\n",
       "        2.78571429, 2.78571429, 2.78571429],\n",
       "       [3.        , 3.        , 3.        , 3.        , 3.        ,\n",
       "        3.        , 3.        , 3.        ]])"
      ]
     },
     "execution_count": 11,
     "metadata": {},
     "output_type": "execute_result"
    }
   ],
   "source": [
    "delta_T_sample_i"
   ]
  },
  {
   "cell_type": "code",
   "execution_count": 12,
   "id": "869e0e4e",
   "metadata": {},
   "outputs": [
    {
     "data": {
      "text/plain": [
       "array([[2.58791233, 2.58795919, 2.58796703, 2.5879684 , 2.58796851,\n",
       "        2.58796838, 2.58796822, 2.58796808],\n",
       "       [2.58806537, 2.58814634, 2.58816091, 2.58816375, 2.58816413,\n",
       "        2.58816397, 2.58816372, 2.5881635 ],\n",
       "       [2.58821205, 2.58832659, 2.58834865, 2.58835335, 2.58835416,\n",
       "        2.58835405, 2.58835376, 2.58835346],\n",
       "       [2.58835265, 2.58850014, 2.58853015, 2.58853706, 2.58853849,\n",
       "        2.58853852, 2.58853821, 2.58853786],\n",
       "       [2.58848757, 2.58963247, 2.58950353, 2.58947185, 2.58946442,\n",
       "        2.58946356, 2.58946445, 2.5894657 ],\n",
       "       [2.58979998, 2.58819316, 2.58944524, 2.58898059, 2.58886026,\n",
       "        2.58883833, 2.5888449 , 2.58885865],\n",
       "       [2.58938212, 2.58992595, 2.588394  , 2.58834316, 2.58832889,\n",
       "        2.58832558, 2.58832567, 2.58832675],\n",
       "       [2.58994075, 2.58808822, 2.58787451, 2.5878132 , 2.58779479,\n",
       "        2.58778981, 2.58778923, 2.58779005]])"
      ]
     },
     "execution_count": 12,
     "metadata": {},
     "output_type": "execute_result"
    }
   ],
   "source": [
    "peak_T_array"
   ]
  },
  {
   "cell_type": "code",
   "execution_count": 13,
   "id": "d5c0bf7f",
   "metadata": {},
   "outputs": [
    {
     "data": {
      "text/plain": [
       "<matplotlib.colorbar.Colorbar at 0x12eae60a0>"
      ]
     },
     "execution_count": 13,
     "metadata": {},
     "output_type": "execute_result"
    },
    {
     "data": {
      "image/png": "[encoded data removed]",
      "text/plain": [
       "<Figure size 432x288 with 2 Axes>"
      ]
     },
     "metadata": {
      "needs_background": "light"
     },
     "output_type": "display_data"
    }
   ],
   "source": [
    "fig, axs = plt.subplots(1,1)\n",
    "\n",
    "cs = axs.contourf(alpha_sample_i, delta_T_sample_i, peak_T_array)\n",
    "plt.xlabel(\"alpha\")\n",
    "plt.ylabel(\"delta T\")\n",
    "fig.colorbar(cs, ax=axs)"
   ]
  },
  {
   "cell_type": "code",
   "execution_count": null,
   "id": "e9145bef",
   "metadata": {},
   "outputs": [],
   "source": []
  },
  {
   "cell_type": "code",
   "execution_count": null,
   "id": "fe348280",
   "metadata": {},
   "outputs": [],
   "source": []
  }
 ],
 "metadata": {
  "kernelspec": {
   "display_name": "Python 3 (ipykernel)",
   "language": "python",
   "name": "python3"
  },
  "language_info": {
   "codemirror_mode": {
    "name": "ipython",
    "version": 3
   },
   "file_extension": ".py",
   "mimetype": "text/x-python",
   "name": "python",
   "nbconvert_exporter": "python",
   "pygments_lexer": "ipython3",
   "version": "3.9.7"
  }
 },
 "nbformat": 4,
 "nbformat_minor": 5
}
