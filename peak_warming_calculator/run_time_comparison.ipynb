{
 "cells": [
  {
   "cell_type": "code",
   "execution_count": 1,
   "id": "79fbd116",
   "metadata": {},
   "outputs": [],
   "source": [
    "from peak_warming_calculator import peak_warming_calculator\n",
    "from peak_warming_calculator_fast import peak_warming_calculator_fast"
   ]
  },
  {
   "cell_type": "code",
   "execution_count": 31,
   "id": "15eec9f8",
   "metadata": {},
   "outputs": [],
   "source": [
    "import numpy as np\n",
    "import matplotlib.pyplot as plt\n",
    "import matplotlib.cm as cm"
   ]
  },
  {
   "cell_type": "code",
   "execution_count": 5,
   "id": "befdd1dd",
   "metadata": {},
   "outputs": [],
   "source": [
    "import time"
   ]
  },
  {
   "cell_type": "markdown",
   "id": "b7dc0238",
   "metadata": {},
   "source": [
    "## Checking Function is Working"
   ]
  },
  {
   "cell_type": "markdown",
   "id": "23631c02",
   "metadata": {},
   "source": [
    "return_all_output=False"
   ]
  },
  {
   "cell_type": "code",
   "execution_count": 37,
   "id": "8fcc9569",
   "metadata": {},
   "outputs": [],
   "source": [
    "consumption_growth_array = np.linspace(0.01, 0.035, 20)"
   ]
  },
  {
   "cell_type": "code",
   "execution_count": 38,
   "id": "c0f01d6a",
   "metadata": {},
   "outputs": [],
   "source": [
    "gamma_array = np.array([2, 4, 6])"
   ]
  },
  {
   "cell_type": "code",
   "execution_count": 39,
   "id": "6c5791a9",
   "metadata": {},
   "outputs": [
    {
     "data": {
      "text/plain": [
       "array([2, 4, 6])"
      ]
     },
     "execution_count": 39,
     "metadata": {},
     "output_type": "execute_result"
    }
   ],
   "source": [
    "gamma_array"
   ]
  },
  {
   "cell_type": "code",
   "execution_count": null,
   "id": "2115efde",
   "metadata": {},
   "outputs": [],
   "source": []
  },
  {
   "cell_type": "code",
   "execution_count": 40,
   "id": "661f5f18",
   "metadata": {},
   "outputs": [
    {
     "name": "stderr",
     "output_type": "stream",
     "text": [
      "/Users/aaron/Documents/oxford_physics/Year_4/MPhys/drivers-of-peak-warming/peak_warming_calc/MAC_functions.py:10: RuntimeWarning: divide by zero encountered in power\n",
      "  A = Am / (1 + ((P - P0) / (P_h - P0)) ** (-s / r))\n"
     ]
    },
    {
     "name": "stdout",
     "output_type": "stream",
     "text": [
      "4\n",
      "4\n",
      "3\n",
      "3\n",
      "3\n",
      "3\n",
      "3\n",
      "3\n",
      "3\n",
      "3\n",
      "3\n",
      "3\n",
      "3\n",
      "2\n",
      "2\n",
      "2\n",
      "2\n",
      "1\n",
      "1\n",
      "1\n",
      "convergence condition not achieved\n",
      "consumption_discount=0.035\n",
      "consumption_growth=0.01\n",
      "P_50=120\n",
      "s=0.05\n",
      "r=0.03\n",
      "P_100=300\n",
      "3\n",
      "convergence condition not achieved\n",
      "consumption_discount=0.035\n",
      "consumption_growth=0.011315789473684211\n",
      "P_50=120\n",
      "s=0.05\n",
      "r=0.03\n",
      "P_100=300\n",
      "3\n",
      "convergence condition not achieved\n",
      "consumption_discount=0.035\n",
      "consumption_growth=0.01263157894736842\n",
      "P_50=120\n",
      "s=0.05\n",
      "r=0.03\n",
      "P_100=300\n",
      "3\n",
      "3\n",
      "3\n",
      "3\n",
      "3\n",
      "3\n",
      "3\n",
      "3\n",
      "3\n",
      "3\n",
      "2\n",
      "2\n",
      "1\n",
      "2\n",
      "2\n",
      "2\n",
      "2\n",
      "2\n",
      "convergence condition not achieved\n",
      "consumption_discount=0.035\n",
      "consumption_growth=0.01\n",
      "P_50=120\n",
      "s=0.05\n",
      "r=0.03\n",
      "P_100=300\n",
      "7\n",
      "convergence condition not achieved\n",
      "consumption_discount=0.035\n",
      "consumption_growth=0.011315789473684211\n",
      "P_50=120\n",
      "s=0.05\n",
      "r=0.03\n",
      "P_100=300\n",
      "5\n",
      "convergence condition not achieved\n",
      "consumption_discount=0.035\n",
      "consumption_growth=0.01263157894736842\n",
      "P_50=120\n",
      "s=0.05\n",
      "r=0.03\n",
      "P_100=300\n",
      "4\n",
      "convergence condition not achieved\n",
      "consumption_discount=0.035\n",
      "consumption_growth=0.013947368421052632\n",
      "P_50=120\n",
      "s=0.05\n",
      "r=0.03\n",
      "P_100=300\n",
      "3\n",
      "convergence condition not achieved\n",
      "consumption_discount=0.035\n",
      "consumption_growth=0.015263157894736843\n",
      "P_50=120\n",
      "s=0.05\n",
      "r=0.03\n",
      "P_100=300\n",
      "2\n",
      "convergence condition not achieved\n",
      "consumption_discount=0.035\n",
      "consumption_growth=0.016578947368421054\n",
      "P_50=120\n",
      "s=0.05\n",
      "r=0.03\n",
      "P_100=300\n",
      "2\n",
      "convergence condition not achieved\n",
      "consumption_discount=0.035\n",
      "consumption_growth=0.017894736842105262\n",
      "P_50=120\n",
      "s=0.05\n",
      "r=0.03\n",
      "P_100=300\n",
      "2\n",
      "2\n",
      "1\n",
      "2\n",
      "2\n",
      "2\n",
      "2\n",
      "2\n",
      "2\n",
      "2\n",
      "2\n",
      "2\n",
      "2\n",
      "1\n"
     ]
    }
   ],
   "source": [
    "time_array = []\n",
    "time_array_fast = []\n",
    "\n",
    "for j in range(len(gamma_array)):\n",
    "    time_array_short = []\n",
    "    time_array_fast_short = []\n",
    "    for i in range(len(consumption_growth_array)):\n",
    "        s = time.time()\n",
    "        peak_T = peak_warming_calculator(gamma=gamma_array[j], consumption_growth=consumption_growth_array[i])\n",
    "        e = time.time()\n",
    "        time_array_short.append(e-s)\n",
    "\n",
    "        s = time.time()\n",
    "        peak_T = peak_warming_calculator_fast(gamma=gamma_array[j], consumption_growth=consumption_growth_array[i])\n",
    "        e = time.time()\n",
    "        time_array_fast_short.append(e-s)\n",
    "    time_array.append(time_array_short)\n",
    "    time_array_fast.append(time_array_fast_short)\n",
    "        \n",
    "\n"
   ]
  },
  {
   "cell_type": "code",
   "execution_count": 41,
   "id": "ec18c085",
   "metadata": {},
   "outputs": [
    {
     "data": {
      "text/plain": [
       "Text(0, 0.5, 'run time (s)')"
      ]
     },
     "execution_count": 41,
     "metadata": {},
     "output_type": "execute_result"
    },
    {
     "data": {
      "image/png": "[encoded data removed]",
      "text/plain": [
       "<Figure size 432x288 with 1 Axes>"
      ]
     },
     "metadata": {
      "needs_background": "light"
     },
     "output_type": "display_data"
    }
   ],
   "source": [
    "for i in range(len(gamma_array)):\n",
    "    plt.plot(consumption_growth_array*100, time_array[i], label=gamma_array[i], color=cm.plasma(i/len(gamma_array)))\n",
    "    plt.plot(consumption_growth_array*100, time_array_fast[i], linestyle=\"dashed\", color=cm.plasma(i/len(gamma_array)))\n",
    "\n",
    "plt.legend(title=\"gamma\")\n",
    "plt.xlabel(\"consumption growth rate (% yr$^{-1}$)\")\n",
    "plt.ylabel(\"run time (s)\")"
   ]
  },
  {
   "cell_type": "code",
   "execution_count": null,
   "id": "fede3bd1",
   "metadata": {},
   "outputs": [],
   "source": []
  }
 ],
 "metadata": {
  "kernelspec": {
   "display_name": "Python 3 (ipykernel)",
   "language": "python",
   "name": "python3"
  },
  "language_info": {
   "codemirror_mode": {
    "name": "ipython",
    "version": 3
   },
   "file_extension": ".py",
   "mimetype": "text/x-python",
   "name": "python",
   "nbconvert_exporter": "python",
   "pygments_lexer": "ipython3",
   "version": "3.9.7"
  }
 },
 "nbformat": 4,
 "nbformat_minor": 5
}
