{
 "cells": [
  {
   "cell_type": "code",
   "execution_count": 1,
   "id": "a8198da9",
   "metadata": {},
   "outputs": [],
   "source": [
    "import pandas as pd\n",
    "import numpy as np\n",
    "import matplotlib.pyplot as plt"
   ]
  },
  {
   "cell_type": "markdown",
   "id": "1b40a359",
   "metadata": {},
   "source": [
    "## Define Functions"
   ]
  },
  {
   "cell_type": "code",
   "execution_count": 2,
   "id": "df85a918",
   "metadata": {},
   "outputs": [],
   "source": [
    "## SCC functions\n",
    "from SCC_functions import *"
   ]
  },
  {
   "cell_type": "code",
   "execution_count": 3,
   "id": "5a11eab5",
   "metadata": {},
   "outputs": [],
   "source": [
    "## MACC functions and parameters\n",
    "\n",
    "# default settings\n",
    "P_50 = 120  # 187.5 * 0.7625000000000001\n",
    "P_100 = 300  # 187.5\n",
    "s = 0.05\n",
    "r = 0.04\n",
    "\n",
    "def abatement(P, P0, P_50=P_50, r=r, s=s, P_100=P_100):  # 0.05\n",
    "    if P0 >= P_50:\n",
    "        print(\"P0 is greater than P_50\")\n",
    "    elif ((P_100-P0)/(P_50-P0))**(s/r) <= 2:\n",
    "        print(\"MAC curve condition not satisfied\")\n",
    "    \n",
    "    P_h = P0 + ((P_50 - P0) ** (-s / r) - 2 * (P_100 - P0) ** (-s / r)) ** (-r / s)\n",
    "    Am = 1 + ((P_100 - P0) / (P_h - P0)) ** (-s / r)\n",
    "    \n",
    "    A = Am / (1 + ((P - P0) / (P_h - P0)) ** (-s / r))\n",
    "    \n",
    "    return A\n",
    "\n",
    "## calculate emissions from forecasted abatement and CO2 baseline\n",
    "\n",
    "def abatement_to_emissions(forecasted_abatement, CO2_baseline):\n",
    "    CO2_emissions = CO2_baseline*(1-forecasted_abatement)\n",
    "    \n",
    "    return CO2_emissions"
   ]
  },
  {
   "cell_type": "markdown",
   "id": "4bb1c315",
   "metadata": {},
   "source": [
    "# Steps"
   ]
  },
  {
   "cell_type": "markdown",
   "id": "7529a603",
   "metadata": {},
   "source": [
    "## 0. Years and Initial Temperature Anomaly"
   ]
  },
  {
   "cell_type": "code",
   "execution_count": 4,
   "id": "8e7f229b",
   "metadata": {},
   "outputs": [],
   "source": [
    "start_year = 2020\n",
    "end_year = 3000\n",
    "\n",
    "years = create_years_array(start_year, end_year)\n",
    "num_of_years = len(years)"
   ]
  },
  {
   "cell_type": "code",
   "execution_count": 5,
   "id": "e3c296e4",
   "metadata": {},
   "outputs": [],
   "source": [
    "## years to calculate SCC\n",
    "first_perturbed_year = start_year\n",
    "last_perturbed_year = 2500\n",
    "year_of_perturbation = create_years_array(start_year, last_perturbed_year)"
   ]
  },
  {
   "cell_type": "code",
   "execution_count": 6,
   "id": "3be6c8c3",
   "metadata": {},
   "outputs": [],
   "source": [
    "T_0 = 1.2"
   ]
  },
  {
   "cell_type": "markdown",
   "id": "9e286a49",
   "metadata": {},
   "source": [
    "## 1. Create Unperturbed Temperature Profile"
   ]
  },
  {
   "cell_type": "code",
   "execution_count": 7,
   "id": "da772f99",
   "metadata": {},
   "outputs": [],
   "source": [
    "delta_T = 3\n",
    "alpha = 0.02\n",
    "T = create_geometric_T(years, T_0=T_0, alpha=alpha, delta_T=delta_T)"
   ]
  },
  {
   "cell_type": "code",
   "execution_count": 8,
   "id": "8d7f6882",
   "metadata": {
    "scrolled": true
   },
   "outputs": [
    {
     "data": {
      "text/plain": [
       "[<matplotlib.lines.Line2D at 0x123cf4dc0>]"
      ]
     },
     "execution_count": 8,
     "metadata": {},
     "output_type": "execute_result"
    },
    {
     "data": {
      "image/png": "[encoded data removed]",
      "text/plain": [
       "<Figure size 432x288 with 1 Axes>"
      ]
     },
     "metadata": {
      "needs_background": "light"
     },
     "output_type": "display_data"
    }
   ],
   "source": [
    "plt.plot(years, T)"
   ]
  },
  {
   "cell_type": "markdown",
   "id": "ead91d1f",
   "metadata": {},
   "source": [
    "## Total Consumption"
   ]
  },
  {
   "cell_type": "code",
   "execution_count": 9,
   "id": "540e63b3",
   "metadata": {},
   "outputs": [],
   "source": [
    "consumption_growth = 0.02"
   ]
  },
  {
   "cell_type": "code",
   "execution_count": 10,
   "id": "1088a474",
   "metadata": {},
   "outputs": [],
   "source": [
    "W = create_total_consumption(years, W_fixed_year=2020, W_fixed=80, consumption_growth=consumption_growth)"
   ]
  },
  {
   "cell_type": "code",
   "execution_count": 11,
   "id": "95906ae2",
   "metadata": {},
   "outputs": [
    {
     "data": {
      "image/png": "[encoded data removed]",
      "text/plain": [
       "<Figure size 432x288 with 1 Axes>"
      ]
     },
     "metadata": {
      "needs_background": "light"
     },
     "output_type": "display_data"
    }
   ],
   "source": [
    "plt.plot(years, W)\n",
    "plt.xlabel(\"Year\")\n",
    "plt.ylabel(\"Absolute Consumption ($trillion/year)\")\n",
    "# plt.xlim(2000, 2100)\n",
    "# plt.ylim(0, 400)\n",
    "plt.xlim(2000, 2500)\n",
    "plt.ylim(10, 100000)\n",
    "plt.yscale(\"log\")"
   ]
  },
  {
   "cell_type": "markdown",
   "id": "152831a9",
   "metadata": {},
   "source": [
    "alternative functional form for above for the fast transition"
   ]
  },
  {
   "cell_type": "markdown",
   "id": "b0e49485",
   "metadata": {},
   "source": [
    "## 2. Calculate SCC as a function of time for a range of years"
   ]
  },
  {
   "cell_type": "code",
   "execution_count": 12,
   "id": "d97e9e82",
   "metadata": {},
   "outputs": [],
   "source": [
    "T_TCRE_1 = 0.00054  # need to check this for FAIR!\n",
    "k_s = 0.12\n",
    "size_of_perturbation = 1"
   ]
  },
  {
   "cell_type": "code",
   "execution_count": 13,
   "id": "682416f3",
   "metadata": {},
   "outputs": [],
   "source": [
    "gamma = 2\n",
    "D0 = 0.00236"
   ]
  },
  {
   "cell_type": "code",
   "execution_count": 14,
   "id": "3204114d",
   "metadata": {},
   "outputs": [],
   "source": [
    "# consumption_discount = 0.035\n",
    "consumption_discount = consumption_growth + 0.015"
   ]
  },
  {
   "cell_type": "code",
   "execution_count": 15,
   "id": "916e795f",
   "metadata": {},
   "outputs": [
    {
     "name": "stdout",
     "output_type": "stream",
     "text": [
      "28.131633192529787\n",
      "                  W  discount function         T  T perturbed\n",
      "years                                                        \n",
      "2020   8.000000e+01       1.000000e+00  1.200000     1.200000\n",
      "2021   8.161611e+01       9.656054e-01  1.235642     1.235703\n",
      "2022   8.326486e+01       9.323938e-01  1.270579     1.270694\n",
      "2023   8.494692e+01       9.003245e-01  1.304824     1.304987\n",
      "2024   8.666297e+01       8.693582e-01  1.338391     1.338596\n",
      "...             ...                ...       ...          ...\n",
      "2996   2.401697e+10       1.460496e-15  3.000000     3.000540\n",
      "2997   2.450215e+10       1.410263e-15  3.000000     3.000540\n",
      "2998   2.499712e+10       1.361758e-15  3.000000     3.000540\n",
      "2999   2.550210e+10       1.314921e-15  3.000000     3.000540\n",
      "3000   2.601728e+10       1.269695e-15  3.000000     3.000540\n",
      "\n",
      "[981 rows x 4 columns]\n"
     ]
    }
   ],
   "source": [
    "# consumption_discount = 0.035\n",
    "# consumption_discount = consumption_growth + 0.015\n",
    "\n",
    "SCC_list = []\n",
    "\n",
    "for j in range(len(year_of_perturbation)):\n",
    "    T_perturbed = create_geometric_T_perturbed(years, T=T, SCC_year=year_of_perturbation[j], T_TCRE=T_TCRE_1*size_of_perturbation, k_s=k_s)   \n",
    "    discount_function = create_discount_function(years, year_of_perturbation[j], consumption_discount=consumption_discount)\n",
    "    \n",
    "    time_series_data = {'years': years, 'W': W, 'discount function': discount_function, 'T': T, 'T perturbed': T_perturbed}\n",
    "\n",
    "    time_series_df = pd.DataFrame(data=time_series_data).set_index('years')\n",
    "\n",
    "    SCC = SCC_calculator(time_series_df, size_of_perturbation=size_of_perturbation, gamma=gamma, D0=D0)\n",
    "    \n",
    "    if j  == 0:\n",
    "        print(SCC)\n",
    "        print(time_series_df)\n",
    "\n",
    "    if SCC < P_100:\n",
    "        SCC_list.append(SCC)\n",
    "    else:\n",
    "        SCC_list.append(P_100)\n",
    "        break"
   ]
  },
  {
   "cell_type": "code",
   "execution_count": 16,
   "id": "e06f34f8",
   "metadata": {},
   "outputs": [],
   "source": [
    "SCC_array = np.asarray(SCC_list)  # convert to numpy array"
   ]
  },
  {
   "cell_type": "code",
   "execution_count": 17,
   "id": "824dda4d",
   "metadata": {},
   "outputs": [
    {
     "data": {
      "text/plain": [
       "Text(0, 0.5, 'SCC ($)')"
      ]
     },
     "execution_count": 17,
     "metadata": {},
     "output_type": "execute_result"
    },
    {
     "data": {
      "image/png": "[encoded data removed]",
      "text/plain": [
       "<Figure size 432x288 with 1 Axes>"
      ]
     },
     "metadata": {
      "needs_background": "light"
     },
     "output_type": "display_data"
    }
   ],
   "source": [
    "plt.plot(year_of_perturbation[:len(SCC_array)], SCC_array)\n",
    "plt.xlabel(\"Year\")\n",
    "plt.ylabel(\"SCC ($)\")"
   ]
  },
  {
   "cell_type": "markdown",
   "id": "4527dfe3",
   "metadata": {},
   "source": [
    "### Check 100% abatement has been achieved!"
   ]
  },
  {
   "cell_type": "code",
   "execution_count": 18,
   "id": "2afc6578",
   "metadata": {},
   "outputs": [],
   "source": [
    "if SCC_array[-1] < P_100:\n",
    "    print(\"P_100 not achieved by achieved by final perturbed year\")"
   ]
  },
  {
   "cell_type": "code",
   "execution_count": 19,
   "id": "8926e6b1",
   "metadata": {},
   "outputs": [],
   "source": [
    "SCC_forecasted = []\n",
    "\n",
    "for i in range(num_of_years):\n",
    "    if i < len(SCC_array):\n",
    "        SCC_forecasted.append(SCC_array[i])\n",
    "    else:\n",
    "#         SCC_forecasted.append(SCC_array[-1])\n",
    "        SCC_forecasted.append(P_100)\n",
    "\n",
    "SCC_forecasted = np.array(SCC_forecasted)"
   ]
  },
  {
   "cell_type": "code",
   "execution_count": 20,
   "id": "ae6b677a",
   "metadata": {},
   "outputs": [],
   "source": [
    "# SCC_forecasted"
   ]
  },
  {
   "cell_type": "code",
   "execution_count": 21,
   "id": "ef9dcd63",
   "metadata": {},
   "outputs": [
    {
     "data": {
      "image/png": "[encoded data removed]",
      "text/plain": [
       "<Figure size 432x288 with 1 Axes>"
      ]
     },
     "metadata": {
      "needs_background": "light"
     },
     "output_type": "display_data"
    }
   ],
   "source": [
    "plt.plot(years, SCC_forecasted)\n",
    "plt.xlabel(\"Year\")\n",
    "plt.ylabel(\"SCC ($)\")\n",
    "plt.yscale(\"log\")"
   ]
  },
  {
   "cell_type": "markdown",
   "id": "b85d4a61",
   "metadata": {},
   "source": [
    "## 3. Abatement as a function of time"
   ]
  },
  {
   "cell_type": "code",
   "execution_count": 22,
   "id": "a598428e",
   "metadata": {},
   "outputs": [],
   "source": [
    "P0 = SCC_forecasted[0]"
   ]
  },
  {
   "cell_type": "code",
   "execution_count": 23,
   "id": "b90c019f",
   "metadata": {
    "scrolled": true
   },
   "outputs": [
    {
     "name": "stderr",
     "output_type": "stream",
     "text": [
      "/var/folders/m4/mbpwp5q15070t8lqj4fj7mjr0000gn/T/ipykernel_61998/620142297.py:18: RuntimeWarning: divide by zero encountered in power\n",
      "  A = Am / (1 + ((P - P0) / (P_h - P0)) ** (-s / r))\n"
     ]
    }
   ],
   "source": [
    "forecasted_abatement = abatement(P=SCC_forecasted, P0=P0)  # , r=consumption_discount"
   ]
  },
  {
   "cell_type": "markdown",
   "id": "ce23d485",
   "metadata": {},
   "source": [
    "problems with certain values due to constraints of the model"
   ]
  },
  {
   "cell_type": "code",
   "execution_count": 24,
   "id": "74f04839",
   "metadata": {},
   "outputs": [
    {
     "data": {
      "text/plain": [
       "Text(0, 0.5, 'Abatement')"
      ]
     },
     "execution_count": 24,
     "metadata": {},
     "output_type": "execute_result"
    },
    {
     "data": {
      "image/png": "[encoded data removed]",
      "text/plain": [
       "<Figure size 432x288 with 1 Axes>"
      ]
     },
     "metadata": {
      "needs_background": "light"
     },
     "output_type": "display_data"
    }
   ],
   "source": [
    "plt.plot(years, forecasted_abatement)\n",
    "plt.xlabel(\"Year\")\n",
    "plt.ylabel(\"Abatement\")"
   ]
  },
  {
   "cell_type": "markdown",
   "id": "351acbf6",
   "metadata": {},
   "source": [
    "## 4. Abatement to emissions"
   ]
  },
  {
   "cell_type": "code",
   "execution_count": 25,
   "id": "71ee6ad9",
   "metadata": {},
   "outputs": [],
   "source": [
    "CO2_baseline = 40"
   ]
  },
  {
   "cell_type": "code",
   "execution_count": 26,
   "id": "d5b39b78",
   "metadata": {},
   "outputs": [],
   "source": [
    "forecasted_emissions = abatement_to_emissions(forecasted_abatement, CO2_baseline)"
   ]
  },
  {
   "cell_type": "code",
   "execution_count": 27,
   "id": "3836f4ce",
   "metadata": {},
   "outputs": [
    {
     "data": {
      "text/plain": [
       "<matplotlib.legend.Legend at 0x12412bf10>"
      ]
     },
     "execution_count": 27,
     "metadata": {},
     "output_type": "execute_result"
    },
    {
     "data": {
      "image/png": "[encoded data removed]",
      "text/plain": [
       "<Figure size 432x288 with 1 Axes>"
      ]
     },
     "metadata": {
      "needs_background": "light"
     },
     "output_type": "display_data"
    }
   ],
   "source": [
    "# plt.plot(ssp245_CO2_past, label=\"historical emissions\")\n",
    "plt.plot(years, forecasted_emissions, label=\"forecasted emissions\")\n",
    "plt.xlabel(\"Year\")\n",
    "plt.ylabel(\"CO2 Emissions / GtCO2\")\n",
    "plt.legend()"
   ]
  },
  {
   "cell_type": "markdown",
   "id": "3a514bf1",
   "metadata": {},
   "source": [
    "## 5. Cumulative Emissions to Temperature Change"
   ]
  },
  {
   "cell_type": "code",
   "execution_count": 28,
   "id": "73bf2aa6",
   "metadata": {},
   "outputs": [],
   "source": [
    "cumulative_emissions_array = np.append(np.zeros(1), np.cumsum(forecasted_emissions)[:-1])"
   ]
  },
  {
   "cell_type": "code",
   "execution_count": 29,
   "id": "0ea3fb64",
   "metadata": {},
   "outputs": [],
   "source": [
    "temperature_change = T_TCRE_1*cumulative_emissions_array"
   ]
  },
  {
   "cell_type": "code",
   "execution_count": 30,
   "id": "6fd34d07",
   "metadata": {},
   "outputs": [
    {
     "data": {
      "text/plain": [
       "1.3314068097063427"
      ]
     },
     "execution_count": 30,
     "metadata": {},
     "output_type": "execute_result"
    }
   ],
   "source": [
    "max(temperature_change)"
   ]
  },
  {
   "cell_type": "code",
   "execution_count": 31,
   "id": "098a473c",
   "metadata": {},
   "outputs": [],
   "source": [
    "T_forecast_iteration0 = T_0 + temperature_change\n",
    "# T_forecast_iteration0_plateau = T_2019 + temperature_change_plateau"
   ]
  },
  {
   "cell_type": "code",
   "execution_count": 32,
   "id": "2d4905dc",
   "metadata": {},
   "outputs": [
    {
     "data": {
      "text/plain": [
       "<matplotlib.legend.Legend at 0x122c85430>"
      ]
     },
     "execution_count": 32,
     "metadata": {},
     "output_type": "execute_result"
    },
    {
     "data": {
      "image/png": "[encoded data removed]",
      "text/plain": [
       "<Figure size 432x288 with 1 Axes>"
      ]
     },
     "metadata": {
      "needs_background": "light"
     },
     "output_type": "display_data"
    }
   ],
   "source": [
    "plt.plot(years, T, label=\"initial guess\")\n",
    "plt.plot(years, T_forecast_iteration0, label=\"iteration 0\")\n",
    "# plt.plot(T_forecast_years, T_forecast_iteration0_plateau, label=\"iteration 0 plateau\")\n",
    "plt.xlabel(\"year\")\n",
    "plt.ylabel(\"temperature / K\")\n",
    "plt.legend()"
   ]
  },
  {
   "cell_type": "markdown",
   "id": "5caeb893",
   "metadata": {},
   "source": [
    "# Iterating Further"
   ]
  },
  {
   "cell_type": "code",
   "execution_count": 33,
   "id": "d69d4920",
   "metadata": {},
   "outputs": [],
   "source": [
    "# T_forecast_first_loop = T_forecast_iteration0_plateau\n",
    "# T_forecast_iteration = T_forecast_iteration0_plateau"
   ]
  },
  {
   "cell_type": "code",
   "execution_count": 34,
   "id": "d6664051",
   "metadata": {},
   "outputs": [],
   "source": [
    "T_forecast_first_loop = T_forecast_iteration0\n",
    "T_forecast_iteration = T_forecast_iteration0"
   ]
  },
  {
   "cell_type": "code",
   "execution_count": 35,
   "id": "0bdc0913",
   "metadata": {
    "scrolled": true
   },
   "outputs": [
    {
     "name": "stdout",
     "output_type": "stream",
     "text": [
      "25.36887232570345\n"
     ]
    },
    {
     "name": "stderr",
     "output_type": "stream",
     "text": [
      "/var/folders/m4/mbpwp5q15070t8lqj4fj7mjr0000gn/T/ipykernel_61998/620142297.py:18: RuntimeWarning: divide by zero encountered in power\n",
      "  A = Am / (1 + ((P - P0) / (P_h - P0)) ** (-s / r))\n"
     ]
    },
    {
     "name": "stdout",
     "output_type": "stream",
     "text": [
      "25.913122386688904\n"
     ]
    },
    {
     "name": "stderr",
     "output_type": "stream",
     "text": [
      "/var/folders/m4/mbpwp5q15070t8lqj4fj7mjr0000gn/T/ipykernel_61998/620142297.py:18: RuntimeWarning: divide by zero encountered in power\n",
      "  A = Am / (1 + ((P - P0) / (P_h - P0)) ** (-s / r))\n"
     ]
    },
    {
     "name": "stdout",
     "output_type": "stream",
     "text": [
      "25.7449996722351\n"
     ]
    },
    {
     "name": "stderr",
     "output_type": "stream",
     "text": [
      "/var/folders/m4/mbpwp5q15070t8lqj4fj7mjr0000gn/T/ipykernel_61998/620142297.py:18: RuntimeWarning: divide by zero encountered in power\n",
      "  A = Am / (1 + ((P - P0) / (P_h - P0)) ** (-s / r))\n"
     ]
    },
    {
     "name": "stdout",
     "output_type": "stream",
     "text": [
      "25.797347811663045\n",
      "3\n"
     ]
    },
    {
     "name": "stderr",
     "output_type": "stream",
     "text": [
      "/var/folders/m4/mbpwp5q15070t8lqj4fj7mjr0000gn/T/ipykernel_61998/620142297.py:18: RuntimeWarning: divide by zero encountered in power\n",
      "  A = Am / (1 + ((P - P0) / (P_h - P0)) ** (-s / r))\n"
     ]
    },
    {
     "data": {
      "text/plain": [
       "<matplotlib.legend.Legend at 0x1240877c0>"
      ]
     },
     "execution_count": 35,
     "metadata": {},
     "output_type": "execute_result"
    },
    {
     "data": {
      "image/png": "[encoded data removed]",
      "text/plain": [
       "<Figure size 432x288 with 1 Axes>"
      ]
     },
     "metadata": {
      "needs_background": "light"
     },
     "output_type": "display_data"
    }
   ],
   "source": [
    "num_of_iterations = 99\n",
    "\n",
    "first_perturbed_year = start_year\n",
    "\n",
    "year_of_perturbation = np.arange(first_perturbed_year, last_perturbed_year+1)\n",
    "\n",
    "plt.plot(years, T, label=\"initial guess\")\n",
    "plt.plot(years, T_forecast_first_loop, label=\"iteration 0\")\n",
    "\n",
    "for k in range(num_of_iterations):\n",
    "#     T_iteration = np.concatenate([T_gas_df['CO2_best'],T_forecast_iteration[1:]])\n",
    "\n",
    "    SCC_list = []\n",
    "\n",
    "    for j in range(len(year_of_perturbation)):\n",
    "\n",
    "        T_perturbed = create_geometric_T_perturbed(years, T=T_forecast_iteration, SCC_year=year_of_perturbation[j], T_TCRE=T_TCRE_1*size_of_perturbation, k_s=k_s)\n",
    "        discount_function = create_discount_function(years, year_of_perturbation[j], consumption_discount=consumption_discount)\n",
    "\n",
    "        time_series_data = {'years': years, 'W': W, 'discount function': discount_function, 'T': T_forecast_iteration, 'T perturbed': T_perturbed}\n",
    "        time_series_df = pd.DataFrame(data=time_series_data).set_index('years')\n",
    "\n",
    "        SCC = SCC_calculator(time_series_df, size_of_perturbation=size_of_perturbation, gamma=gamma, D0=D0)\n",
    "\n",
    "        if j  == 0:\n",
    "            print(SCC)\n",
    "\n",
    "        if SCC < P_100:\n",
    "            SCC_list.append(SCC)\n",
    "        else:\n",
    "            SCC_list.append(P_100)\n",
    "            break\n",
    "\n",
    "    SCC_array = np.asarray(SCC_list)\n",
    "\n",
    "    SCC_forecasted = []\n",
    "\n",
    "    for i in range(num_of_years):\n",
    "        if i < len(SCC_array):\n",
    "            SCC_forecasted.append(SCC_array[i])\n",
    "        else:\n",
    "            SCC_forecasted.append(P_100)\n",
    "\n",
    "    SCC_forecasted = np.array(SCC_forecasted)\n",
    "\n",
    "    P0 = SCC_forecasted[0]\n",
    "\n",
    "    forecasted_abatement = abatement(P=SCC_forecasted, P0=P0)\n",
    "    forecasted_emissions = abatement_to_emissions(forecasted_abatement, CO2_baseline)\n",
    "\n",
    "    cumulative_emissions_array = np.append(np.zeros(1), np.cumsum(forecasted_emissions)[:-1])\n",
    "\n",
    "    temperature_change = T_TCRE_1*cumulative_emissions_array\n",
    "    \n",
    "    T_forecast_iteration = T_0 + temperature_change\n",
    "    \n",
    "    plt.plot(years, T_forecast_iteration, label=\"iteration \"+str(k+1))\n",
    "    \n",
    "    if k == 0:\n",
    "        peak_T = max(T_forecast_iteration)\n",
    "    else:\n",
    "        previous_peak_T = peak_T\n",
    "        peak_T = max(T_forecast_iteration)\n",
    "        if abs(peak_T - previous_peak_T) < 0.005:\n",
    "            print(k)\n",
    "            break\n",
    "    \n",
    "    if k == num_of_iterations - 1:\n",
    "        print(\"convergence condition not achieved\")\n",
    "        print(f\"{consumption_discount=}\")\n",
    "        print(f\"{consumption_growth=}\")\n",
    "        print(f\"{P_50=}\")\n",
    "        print(f\"{s=}\")\n",
    "        print(f\"{r=}\")\n",
    "        print(f\"{P_100=}\")\n",
    "\n",
    "plt.xlabel(\"Year\")\n",
    "plt.ylabel(\"Temperature / K\")\n",
    "plt.legend()"
   ]
  },
  {
   "cell_type": "markdown",
   "id": "31832dbd",
   "metadata": {},
   "source": [
    "***this is fairly analogous to the Newton-Raphson Method***\n",
    "- the initial temperature profile is essentially just a starting guess; getting pushed toward temperature profile solution\n",
    "- could stop the iterations when the difference between two consecutive lines is small"
   ]
  },
  {
   "cell_type": "code",
   "execution_count": 36,
   "id": "1b270877",
   "metadata": {},
   "outputs": [
    {
     "data": {
      "text/plain": [
       "2.6152973812886984"
      ]
     },
     "execution_count": 36,
     "metadata": {},
     "output_type": "execute_result"
    }
   ],
   "source": [
    "## peak Temperature\n",
    "max(T_forecast_iteration)"
   ]
  },
  {
   "cell_type": "markdown",
   "id": "f24261ed",
   "metadata": {},
   "source": [
    "under default settings: 2.435168016568933"
   ]
  },
  {
   "cell_type": "code",
   "execution_count": null,
   "id": "69e1e912",
   "metadata": {},
   "outputs": [],
   "source": []
  },
  {
   "cell_type": "code",
   "execution_count": null,
   "id": "39f8d5b3",
   "metadata": {},
   "outputs": [],
   "source": []
  },
  {
   "cell_type": "code",
   "execution_count": null,
   "id": "c0d0fd39",
   "metadata": {},
   "outputs": [],
   "source": []
  },
  {
   "cell_type": "code",
   "execution_count": null,
   "id": "2f65ecd1",
   "metadata": {},
   "outputs": [],
   "source": []
  }
 ],
 "metadata": {
  "kernelspec": {
   "display_name": "Python 3 (ipykernel)",
   "language": "python",
   "name": "python3"
  },
  "language_info": {
   "codemirror_mode": {
    "name": "ipython",
    "version": 3
   },
   "file_extension": ".py",
   "mimetype": "text/x-python",
   "name": "python",
   "nbconvert_exporter": "python",
   "pygments_lexer": "ipython3",
   "version": "3.9.7"
  }
 },
 "nbformat": 4,
 "nbformat_minor": 5
}
