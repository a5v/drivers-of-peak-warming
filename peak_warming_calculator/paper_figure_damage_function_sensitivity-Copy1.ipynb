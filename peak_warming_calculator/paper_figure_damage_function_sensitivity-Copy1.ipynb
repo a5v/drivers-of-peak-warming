{
 "cells": [
  {
   "cell_type": "code",
   "execution_count": 1,
   "id": "79fbd116",
   "metadata": {
    "scrolled": true
   },
   "outputs": [],
   "source": [
    "from peak_warming_calculator import peak_warming_calculator\n",
    "import matplotlib.pyplot as plt\n",
    "import numpy as np"
   ]
  },
  {
   "cell_type": "code",
   "execution_count": 2,
   "id": "e60331f0",
   "metadata": {},
   "outputs": [],
   "source": [
    "import seaborn as sns\n",
    "sns.set()\n",
    "sns.set_style(\"whitegrid\")\n",
    "plt.rc('font', family='serif')"
   ]
  },
  {
   "cell_type": "code",
   "execution_count": 3,
   "id": "019be719",
   "metadata": {},
   "outputs": [],
   "source": [
    "import time"
   ]
  },
  {
   "cell_type": "code",
   "execution_count": 4,
   "id": "07fb0072",
   "metadata": {},
   "outputs": [],
   "source": [
    "import pandas as pd"
   ]
  },
  {
   "cell_type": "markdown",
   "id": "026e922f",
   "metadata": {},
   "source": [
    "# Sensitivity Analysis"
   ]
  },
  {
   "cell_type": "code",
   "execution_count": 5,
   "id": "d29eed9b",
   "metadata": {},
   "outputs": [],
   "source": [
    "r_minus_g = 0.015\n",
    "consumption_growth = 0.02\n",
    "consumption_discount = consumption_growth + r_minus_g"
   ]
  },
  {
   "cell_type": "code",
   "execution_count": 6,
   "id": "e2c561f9",
   "metadata": {},
   "outputs": [],
   "source": [
    "num_of_sample = 8\n",
    "gamma_sample = np.linspace(2, 2*2, num_of_sample)\n",
    "D0_sample = np.linspace(0.00236, 0.00236*2, num_of_sample)\n",
    "# D2_sample = np.linspace(0.01, 0.01*2, num_of_sample)"
   ]
  },
  {
   "cell_type": "code",
   "execution_count": 7,
   "id": "af73379f",
   "metadata": {},
   "outputs": [],
   "source": [
    "# T = 2\n",
    "# gamma_sample = (1/np.log(2))*np.log(D2_sample/D0_sample)"
   ]
  },
  {
   "cell_type": "code",
   "execution_count": 8,
   "id": "75ffa0e7",
   "metadata": {},
   "outputs": [],
   "source": [
    "# D2_sample"
   ]
  },
  {
   "cell_type": "code",
   "execution_count": 9,
   "id": "ae489c9b",
   "metadata": {
    "scrolled": true
   },
   "outputs": [],
   "source": [
    "# gamma_sample"
   ]
  },
  {
   "cell_type": "code",
   "execution_count": 10,
   "id": "5a125a59",
   "metadata": {},
   "outputs": [],
   "source": [
    "P_100 = 300\n",
    "P_50 = 0.4 * P_100\n",
    "r = consumption_discount\n",
    "s = 3 * r\n",
    "T_TCRE_1 = 0.00045"
   ]
  },
  {
   "cell_type": "code",
   "execution_count": 11,
   "id": "1146ad30",
   "metadata": {},
   "outputs": [
    {
     "name": "stdout",
     "output_type": "stream",
     "text": [
      "0\n"
     ]
    },
    {
     "name": "stderr",
     "output_type": "stream",
     "text": [
      "/Users/aaron/Documents/oxford_physics/Year_4/MPhys/drivers-of-peak-warming/peak_warming_calc/MAC_functions.py:10: RuntimeWarning: divide by zero encountered in power\n",
      "  A = Am / (1 + ((P - P0) / (P_h - P0)) ** (-s / r))\n"
     ]
    },
    {
     "name": "stdout",
     "output_type": "stream",
     "text": [
      "1\n",
      "2\n",
      "3\n",
      "4\n",
      "5\n",
      "6\n",
      "7\n"
     ]
    }
   ],
   "source": [
    "peak_T_list = []\n",
    "output_data_list = []\n",
    "\n",
    "for i in range(num_of_sample):\n",
    "    gamma = gamma_sample[i]\n",
    "#     D2 = D2_sample[i]\n",
    "    print(i)\n",
    "    \n",
    "    peak_T_const_gamma = []\n",
    "    output_data_const_gamma = []\n",
    "    for j in range(num_of_sample):\n",
    "        D0 = D0_sample[j]\n",
    "#         gamma = (1/np.log(2))*np.log(D2/D0)\n",
    "        peak_T, output_data = peak_warming_calculator(P_50=P_50, P_100=P_100, gamma=gamma, D0=D0, consumption_growth=consumption_growth, consumption_discount=consumption_discount, s=s, r=r, T_TCRE_1=T_TCRE_1, delta_T=1.5, return_all_output=True)\n",
    "#         print(D0, gamma, peak_T)\n",
    "#         print(peak_T)\n",
    "        peak_T_const_gamma.append(peak_T)\n",
    "        output_data_const_gamma.append(output_data)\n",
    "#         peak_T_list.append(peak_T)\n",
    "    \n",
    "    peak_T_list.append(peak_T_const_gamma)\n",
    "    output_data_list.append(output_data_const_gamma)\n",
    "\n"
   ]
  },
  {
   "cell_type": "code",
   "execution_count": 12,
   "id": "e055560f",
   "metadata": {},
   "outputs": [],
   "source": [
    "peak_T_array = np.asarray(peak_T_list)"
   ]
  },
  {
   "cell_type": "code",
   "execution_count": 13,
   "id": "7105578a",
   "metadata": {},
   "outputs": [],
   "source": [
    "# D0_sample_i, D2_sample_i = np.meshgrid(D0_sample, D2_sample)\n",
    "D0_sample_i, gamma_sample_i = np.meshgrid(D0_sample, gamma_sample)"
   ]
  },
  {
   "cell_type": "code",
   "execution_count": 14,
   "id": "ee2dcf2b",
   "metadata": {},
   "outputs": [],
   "source": [
    "# D2_sample_i"
   ]
  },
  {
   "cell_type": "code",
   "execution_count": 15,
   "id": "e88afe90",
   "metadata": {},
   "outputs": [
    {
     "data": {
      "text/plain": [
       "array([[0.00236   , 0.00269714, 0.00303429, 0.00337143, 0.00370857,\n",
       "        0.00404571, 0.00438286, 0.00472   ],\n",
       "       [0.00236   , 0.00269714, 0.00303429, 0.00337143, 0.00370857,\n",
       "        0.00404571, 0.00438286, 0.00472   ],\n",
       "       [0.00236   , 0.00269714, 0.00303429, 0.00337143, 0.00370857,\n",
       "        0.00404571, 0.00438286, 0.00472   ],\n",
       "       [0.00236   , 0.00269714, 0.00303429, 0.00337143, 0.00370857,\n",
       "        0.00404571, 0.00438286, 0.00472   ],\n",
       "       [0.00236   , 0.00269714, 0.00303429, 0.00337143, 0.00370857,\n",
       "        0.00404571, 0.00438286, 0.00472   ],\n",
       "       [0.00236   , 0.00269714, 0.00303429, 0.00337143, 0.00370857,\n",
       "        0.00404571, 0.00438286, 0.00472   ],\n",
       "       [0.00236   , 0.00269714, 0.00303429, 0.00337143, 0.00370857,\n",
       "        0.00404571, 0.00438286, 0.00472   ],\n",
       "       [0.00236   , 0.00269714, 0.00303429, 0.00337143, 0.00370857,\n",
       "        0.00404571, 0.00438286, 0.00472   ]])"
      ]
     },
     "execution_count": 15,
     "metadata": {},
     "output_type": "execute_result"
    }
   ],
   "source": [
    "D0_sample_i"
   ]
  },
  {
   "cell_type": "code",
   "execution_count": 16,
   "id": "869e0e4e",
   "metadata": {},
   "outputs": [
    {
     "data": {
      "text/plain": [
       "array([[2.41328344, 2.34550204, 2.28745155, 2.23692908, 2.1923919 ,\n",
       "        2.15270851, 2.11703427, 2.0847223 ],\n",
       "       [2.2293198 , 2.17080182, 2.12045689, 2.07707937, 2.03891888,\n",
       "        2.00497842, 1.97451714, 1.94696153],\n",
       "       [2.08491946, 2.03412586, 1.99082123, 1.95327702, 1.92028765,\n",
       "        1.89097415, 1.86508315, 1.84127461],\n",
       "       [1.97028012, 1.92584781, 1.88800969, 1.85567912, 1.82682236,\n",
       "        1.80119198, 1.77822307, 1.7570256 ],\n",
       "       [1.87756678, 1.83840677, 1.80559974, 1.7766104 , 1.75059948,\n",
       "        1.72813599, 1.70799834, 1.69031995],\n",
       "       [1.80217561, 1.76668003, 1.73766185, 1.71186081, 1.68874914,\n",
       "        1.66938271, 1.65134764, 1.63452087],\n",
       "       [1.73835363, 1.70700953, 1.68119991, 1.65742071, 1.63797022,\n",
       "        1.61991414, 1.60328984, 1.5893763 ],\n",
       "       [1.68585135, 1.65763851, 1.63367172, 1.6121348 , 1.59455192,\n",
       "        1.57778471, 1.56316876, 1.55019668]])"
      ]
     },
     "execution_count": 16,
     "metadata": {},
     "output_type": "execute_result"
    }
   ],
   "source": [
    "peak_T_array"
   ]
  },
  {
   "cell_type": "code",
   "execution_count": 22,
   "id": "d5c0bf7f",
   "metadata": {},
   "outputs": [
    {
     "data": {
      "image/png": "[encoded data removed]",
      "text/plain": [
       "<Figure size 432x288 with 2 Axes>"
      ]
     },
     "metadata": {},
     "output_type": "display_data"
    }
   ],
   "source": [
    "fig, axs = plt.subplots(1,1)\n",
    "\n",
    "cs = axs.contourf(D0_sample_i, gamma_sample_i, peak_T_array)\n",
    "plt.xlabel(\"D0\")\n",
    "plt.ylabel(\"gamma\")\n",
    "# plt.ylim(2, 3.25)\n",
    "fig.colorbar(cs, ax=axs)\n",
    "fig.savefig('paper_figures/Nordhaus_peak_T_sensitivity.png', bbox_inches='tight', dpi = 300)"
   ]
  },
  {
   "cell_type": "code",
   "execution_count": 18,
   "id": "326baab5",
   "metadata": {},
   "outputs": [],
   "source": [
    "SCC_list = []\n",
    "\n",
    "for j in range(len(output_data_list)):\n",
    "    SCC_const_gamma = []\n",
    "    for i in range(len(output_data_list[j])):\n",
    "        if type(output_data_list[j][i]) is pd.DataFrame:\n",
    "            SCC = output_data_list[j][i]['SCC actual'].loc[2020]\n",
    "        else:\n",
    "            SCC = None\n",
    "        SCC_const_gamma.append(SCC)\n",
    "    SCC_list.append(SCC_const_gamma)"
   ]
  },
  {
   "cell_type": "code",
   "execution_count": 19,
   "id": "d12082b1",
   "metadata": {},
   "outputs": [],
   "source": [
    "SCC_array = np.asarray(SCC_list)"
   ]
  },
  {
   "cell_type": "code",
   "execution_count": 21,
   "id": "9d2be6a4",
   "metadata": {},
   "outputs": [
    {
     "data": {
      "image/png": "[encoded data removed]",
      "text/plain": [
       "<Figure size 432x288 with 2 Axes>"
      ]
     },
     "metadata": {},
     "output_type": "display_data"
    }
   ],
   "source": [
    "fig, axs = plt.subplots(1,1)\n",
    "\n",
    "cs = axs.contourf(D0_sample_i, gamma_sample_i, SCC_array)\n",
    "plt.xlabel(\"D0\")\n",
    "plt.ylabel(\"gamma\")\n",
    "# plt.ylim(2, 3.25)\n",
    "fig.colorbar(cs, ax=axs)\n",
    "\n",
    "fig.savefig('paper_figures/Nordhaus_SCC_sensitivity.png', bbox_inches='tight', dpi = 300)"
   ]
  },
  {
   "cell_type": "code",
   "execution_count": null,
   "id": "cc9106c3",
   "metadata": {},
   "outputs": [],
   "source": []
  },
  {
   "cell_type": "code",
   "execution_count": null,
   "id": "e591311d",
   "metadata": {},
   "outputs": [],
   "source": []
  }
 ],
 "metadata": {
  "kernelspec": {
   "display_name": "Python 3 (ipykernel)",
   "language": "python",
   "name": "python3"
  },
  "language_info": {
   "codemirror_mode": {
    "name": "ipython",
    "version": 3
   },
   "file_extension": ".py",
   "mimetype": "text/x-python",
   "name": "python",
   "nbconvert_exporter": "python",
   "pygments_lexer": "ipython3",
   "version": "3.9.7"
  }
 },
 "nbformat": 4,
 "nbformat_minor": 5
}
