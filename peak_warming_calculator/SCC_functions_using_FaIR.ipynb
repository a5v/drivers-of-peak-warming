{
 "cells": [
  {
   "cell_type": "code",
   "execution_count": 1,
   "id": "e0e54508",
   "metadata": {},
   "outputs": [],
   "source": [
    "from SCC_functions import *"
   ]
  },
  {
   "cell_type": "code",
   "execution_count": 2,
   "id": "867e8a90",
   "metadata": {},
   "outputs": [],
   "source": [
    "import numpy as np\n",
    "import sys\n",
    "import pandas as pd\n",
    "import matplotlib.pyplot as plt\n",
    "import seaborn as sn\n",
    "\n",
    "from fair import *"
   ]
  },
  {
   "cell_type": "markdown",
   "id": "b1e84034",
   "metadata": {},
   "source": [
    "## years (time series index)\n",
    "- create_years_array()"
   ]
  },
  {
   "cell_type": "code",
   "execution_count": 3,
   "id": "b2e272b3",
   "metadata": {},
   "outputs": [],
   "source": [
    "start_year = 1750\n",
    "end_year = 2300\n",
    "# start_year = 2020\n",
    "# end_year = 3000\n",
    "\n",
    "years = create_years_array(start_year, end_year)"
   ]
  },
  {
   "cell_type": "code",
   "execution_count": 4,
   "id": "02ed29f7",
   "metadata": {},
   "outputs": [],
   "source": [
    "## set perturbed year\n",
    "SCC_year = 2020"
   ]
  },
  {
   "cell_type": "code",
   "execution_count": 5,
   "id": "138d1a18",
   "metadata": {},
   "outputs": [],
   "source": [
    "## set temperature anomaly in start year\n",
    "T_0 = 1.2"
   ]
  },
  {
   "cell_type": "markdown",
   "id": "8762addb",
   "metadata": {},
   "source": [
    "## consumption time series\n",
    "- create_total_consumption()"
   ]
  },
  {
   "cell_type": "code",
   "execution_count": 6,
   "id": "72a6123d",
   "metadata": {},
   "outputs": [],
   "source": [
    "W = create_total_consumption(years, W_fixed_year=2020, W_fixed=80)"
   ]
  },
  {
   "cell_type": "code",
   "execution_count": 7,
   "id": "dd86fd99",
   "metadata": {},
   "outputs": [],
   "source": [
    "d_W = {'years': years, 'W': W}"
   ]
  },
  {
   "cell_type": "code",
   "execution_count": 8,
   "id": "0bee1d05",
   "metadata": {},
   "outputs": [],
   "source": [
    "df_W = pd.DataFrame(data=d_W).set_index('years')"
   ]
  },
  {
   "cell_type": "code",
   "execution_count": 9,
   "id": "439d032c",
   "metadata": {},
   "outputs": [
    {
     "data": {
      "text/plain": [
       "W    80.0\n",
       "Name: 2020, dtype: float64"
      ]
     },
     "execution_count": 9,
     "metadata": {},
     "output_type": "execute_result"
    }
   ],
   "source": [
    "df_W.loc[2020]"
   ]
  },
  {
   "cell_type": "code",
   "execution_count": 10,
   "id": "a15be144",
   "metadata": {},
   "outputs": [
    {
     "data": {
      "text/plain": [
       "Text(0, 0.5, 'W / $trillion')"
      ]
     },
     "execution_count": 10,
     "metadata": {},
     "output_type": "execute_result"
    },
    {
     "data": {
      "image/png": "[encoded data removed]",
      "text/plain": [
       "<Figure size 432x288 with 1 Axes>"
      ]
     },
     "metadata": {
      "needs_background": "light"
     },
     "output_type": "display_data"
    }
   ],
   "source": [
    "plt.plot(df_W.loc[2000:2100])\n",
    "plt.xlabel(\"Years\")\n",
    "plt.ylabel(\"W / $trillion\")"
   ]
  },
  {
   "cell_type": "markdown",
   "id": "52e7d549",
   "metadata": {},
   "source": []
  },
  {
   "cell_type": "markdown",
   "id": "8bab855e",
   "metadata": {},
   "source": [
    "## discount function\n",
    "- create_discount_function()"
   ]
  },
  {
   "cell_type": "code",
   "execution_count": 11,
   "id": "777775a8",
   "metadata": {},
   "outputs": [],
   "source": [
    "discount_function = create_discount_function(years, SCC_year)"
   ]
  },
  {
   "cell_type": "code",
   "execution_count": 12,
   "id": "25a29b9e",
   "metadata": {},
   "outputs": [],
   "source": [
    "d_discount_function = {'years': years, 'discount function': discount_function}"
   ]
  },
  {
   "cell_type": "code",
   "execution_count": 13,
   "id": "210f3c89",
   "metadata": {},
   "outputs": [],
   "source": [
    "df_discount_function = pd.DataFrame(data=d_discount_function).set_index('years')"
   ]
  },
  {
   "cell_type": "code",
   "execution_count": 14,
   "id": "3d59b779",
   "metadata": {},
   "outputs": [
    {
     "data": {
      "text/plain": [
       "discount function    1.0\n",
       "Name: 2020, dtype: float64"
      ]
     },
     "execution_count": 14,
     "metadata": {},
     "output_type": "execute_result"
    }
   ],
   "source": [
    "df_discount_function.loc[2020]"
   ]
  },
  {
   "cell_type": "code",
   "execution_count": 15,
   "id": "7ddcb3fa",
   "metadata": {},
   "outputs": [
    {
     "data": {
      "text/plain": [
       "Text(0, 0.5, 'Discount Function')"
      ]
     },
     "execution_count": 15,
     "metadata": {},
     "output_type": "execute_result"
    },
    {
     "data": {
      "image/png": "[encoded data removed]",
      "text/plain": [
       "<Figure size 432x288 with 1 Axes>"
      ]
     },
     "metadata": {
      "needs_background": "light"
     },
     "output_type": "display_data"
    }
   ],
   "source": [
    "plt.plot(df_discount_function.loc[2000:2100])\n",
    "plt.xlabel(\"Years\")\n",
    "plt.ylabel(\"Discount Function\")"
   ]
  },
  {
   "cell_type": "markdown",
   "id": "869fb876",
   "metadata": {},
   "source": [
    "## temperature profile and perturbed temperature profile\n",
    "- N.B. these can come from a geometric temperature profile or calculated from emissions through various methods"
   ]
  },
  {
   "cell_type": "code",
   "execution_count": 16,
   "id": "e39651b3",
   "metadata": {},
   "outputs": [],
   "source": [
    "## set size of perturbation in GtCO2!!\n",
    "## to reduce numerical error usually a larger perturbation than 1 tCO2 is used in the calculation of SCC\n",
    "size_of_perturbation = 100"
   ]
  },
  {
   "cell_type": "markdown",
   "id": "f0dcfaa1",
   "metadata": {},
   "source": [
    "### 1) FaIR"
   ]
  },
  {
   "cell_type": "code",
   "execution_count": 17,
   "id": "19f4f332",
   "metadata": {},
   "outputs": [],
   "source": [
    "from fair.scripts.data_retrieval import *"
   ]
  },
  {
   "cell_type": "code",
   "execution_count": 18,
   "id": "e10c7a82",
   "metadata": {},
   "outputs": [],
   "source": [
    "def get_ssp_emissions(ssp):\n",
    "    emms = RCMIP_to_FaIR_input_emms(ssp).interpolate().loc[start_year:end_year]\n",
    "    ## rebase emission-driven forcings & species with natural emissions included in RCMIP to zero @ 1750\n",
    "    rebase_species = ['so2','nox','co','nmvoc','bc','nh3','oc','nox_avi','methyl_bromide','methyl_chloride','chcl3','ch2cl2']\n",
    "    emms.loc[:,rebase_species] -= emms.loc[1750,rebase_species]\n",
    "    return emms\n",
    "\n",
    "# choose ssp to use\n",
    "ssp='ssp245'\n",
    "\n",
    "# get emissions data using imported scripts (from 1845 onwards)\n",
    "ssp_emms = get_ssp_emissions(ssp)\n",
    "\n",
    "def get_ssp_forc(ssp,forcs=['land_use','volcanic','solar']):\n",
    "    # this returns a dataframe of the required (albedo change + natural) external forcings\n",
    "    ssp_erf = pd.read_csv('https://raw.githubusercontent.com/Priestley-Centre/ssp_erf/master/SSPs/ERF_'+ssp+'_1750-2500.csv',index_col=0,dtype=float).loc[:2150]\n",
    "    return pd.concat([ssp_erf[forcs].sum(axis=1)],axis=1,keys=['forcing'])\n",
    "\n",
    "# get forcing data using auxiliary function\n",
    "ssp_extforc = get_ssp_forc(ssp)"
   ]
  },
  {
   "cell_type": "code",
   "execution_count": 19,
   "id": "01d7d592",
   "metadata": {},
   "outputs": [],
   "source": [
    "ssp_emms = get_ssp_emissions('ssp245')"
   ]
  },
  {
   "cell_type": "code",
   "execution_count": 20,
   "id": "3ff1c5b1",
   "metadata": {},
   "outputs": [
    {
     "data": {
      "text/plain": [
       "[<matplotlib.lines.Line2D at 0x125097e80>]"
      ]
     },
     "execution_count": 20,
     "metadata": {},
     "output_type": "execute_result"
    },
    {
     "data": {
      "image/png": "[encoded data removed]",
      "text/plain": [
       "<Figure size 432x288 with 1 Axes>"
      ]
     },
     "metadata": {
      "needs_background": "light"
     },
     "output_type": "display_data"
    }
   ],
   "source": [
    "plt.plot(ssp_emms['carbon_dioxide'])"
   ]
  },
  {
   "cell_type": "code",
   "execution_count": 21,
   "id": "3ac72da6",
   "metadata": {},
   "outputs": [],
   "source": [
    "def perturb_co2(df,year):\n",
    "    df = df.copy()\n",
    "    df.loc[year,'carbon_dioxide'] += size_of_perturbation * 12/44 # perturbation of 1 GtC (you could change this if you want but I think 1GtC is fine)\n",
    "    return df\n",
    "# def perturb_gas(df,year,gas):\n",
    "#     df = df.copy()\n",
    "#     df.loc[year,gas] += 1 # perturbation of 1 GtCH4 (maybe it's MtCH4)\n",
    "#     return df\n",
    "\n",
    "perturbed_emms = pd.concat([ssp_emms]+[perturb_co2(ssp_emms,SCC_year)],keys=['ssp245']+['ssp245-p'+str(SCC_year)],axis=1)\n",
    "# perturbed_emms = pd.concat([ssp_emms]+[perturb_co2(ssp_emms,year) for year in np.arange(1845,2101)],keys=['ssp245']+['ssp245-p'+str(year) for year in np.arange(1845,2101)],axis=1)\n",
    "# perturbed_emms_meth = pd.concat([ssp_emms]+[perturb_gas(ssp_emms,year,'methane') for year in np.arange(1845,2101)],keys=['ssp245']+['ssp245-p'+str(year) for year in np.arange(1845,2101)],axis=1)"
   ]
  },
  {
   "cell_type": "code",
   "execution_count": 22,
   "id": "7ec1afa6",
   "metadata": {},
   "outputs": [
    {
     "name": "stdout",
     "output_type": "stream",
     "text": [
      "Integrating 2 scenarios, 1 gas cycle parameter sets, 1 thermal response parameter sets, over ['c2f6', 'c3f8', 'c4f10', 'c5f12', 'c6f14', 'c7f16', 'c8f18', 'c_c4f8', 'carbon_dioxide', 'carbon_tetrachloride', 'cf4', 'cfc113', 'cfc114', 'cfc115', 'cfc11', 'cfc12', 'ch2cl2', 'ch3ccl3', 'chcl3', 'halon1211', 'halon1301', 'halon2402', 'halon1202', 'hcfc141b', 'hcfc142b', 'hcfc22', 'hfc125', 'hfc134a', 'hfc143a', 'hfc152a', 'hfc227ea', 'hfc236fa', 'hfc23', 'hfc245fa', 'hfc32', 'hfc365mfc', 'hfc4310mee', 'methane', 'methyl_bromide', 'methyl_chloride', 'nf3', 'nitrous_oxide', 'sf6', 'so2f2', 'so2', 'nox', 'co', 'nmvoc', 'bc', 'nh3', 'oc', 'nox_avi'] forcing agents, between 1750 and 2300...\n"
     ]
    },
    {
     "name": "stderr",
     "output_type": "stream",
     "text": [
      "100%|██████████████████████████████████████████████████████████████████████████████████████████████████████████████████████████████████| 550/550 [00:00<00:00, 4142.44 timestep/s]\n"
     ]
    }
   ],
   "source": [
    "test_gas_parameters = get_gas_parameter_defaults()\n",
    "\n",
    "test_thermal_parameters = get_thermal_parameter_defaults()\n",
    "\n",
    "# pulse_emissions = return_empty_emissions(df_to_copy=False, start_year=start_year, end_year=end_year, timestep=1, scen_names=['None']+[x+'pulse' for x in ['carbon_dioxide']], gases_in = ['carbon_dioxide','methane','nitrous_oxide'])\n",
    "\n",
    "\n",
    "# for gas in ['carbon_dioxide']:\n",
    "    \n",
    "#     pulse_emissions.loc[SCC_year,(gas+'pulse',gas)] += size_of_perturbation * 12/44\n",
    "    \n",
    "# Now generate a compatible forcing dataframe:\n",
    "\n",
    "pulse_forcing = return_empty_forcing(perturbed_emms)\n",
    "\n",
    "test_gas_parameters = test_gas_parameters.reindex(perturbed_emms.columns.levels[1],axis=1,level=1)\n",
    "\n",
    "# And run the model!\n",
    "\n",
    "pulse_run = run_FaIR(emissions_in=perturbed_emms,forcing_in=pulse_forcing,gas_parameters=test_gas_parameters,thermal_parameters=test_thermal_parameters)"
   ]
  },
  {
   "cell_type": "code",
   "execution_count": 23,
   "id": "9f2dd816",
   "metadata": {},
   "outputs": [
    {
     "data": {
      "text/plain": [
       "Text(0, 0.5, 'Warming')"
      ]
     },
     "execution_count": 23,
     "metadata": {},
     "output_type": "execute_result"
    },
    {
     "data": {
      "image/png": "[encoded data removed]",
      "text/plain": [
       "<Figure size 432x288 with 1 Axes>"
      ]
     },
     "metadata": {
      "needs_background": "light"
     },
     "output_type": "display_data"
    }
   ],
   "source": [
    "plt.plot(pulse_run['T'].loc[2000:2100])\n",
    "plt.xlabel(\"Years\")\n",
    "plt.ylabel(\"Warming\")"
   ]
  },
  {
   "cell_type": "code",
   "execution_count": 24,
   "id": "e6d3404f",
   "metadata": {},
   "outputs": [],
   "source": [
    "T = pulse_run['T']['ssp245']['default'].tolist()\n",
    "\n",
    "T_perturbed = pulse_run['T']['ssp245-p2020']['default'].tolist()"
   ]
  },
  {
   "cell_type": "code",
   "execution_count": 25,
   "id": "456a24e7",
   "metadata": {},
   "outputs": [],
   "source": [
    "# # Generate a default parameter dataframe:\n",
    "\n",
    "# test_gas_parameters = get_gas_parameter_defaults()\n",
    "\n",
    "# test_thermal_parameters = get_thermal_parameter_defaults()\n",
    "\n",
    "# pulse_emissions = return_empty_emissions(df_to_copy=False, start_year=start_year, end_year=end_year, timestep=1, scen_names=['None']+[x+'pulse' for x in ['carbon_dioxide']], gases_in = ['carbon_dioxide','methane','nitrous_oxide'])\n",
    "\n",
    "# # add pulses in year 10 (the units are GtC, MtCH4 and MtN2O-N2):\n",
    "\n",
    "# for gas in ['carbon_dioxide']:\n",
    "    \n",
    "#     pulse_emissions.loc[SCC_year,(gas+'pulse',gas)] += size_of_perturbation * 12/44\n",
    "    \n",
    "# # Now generate a compatible forcing dataframe:\n",
    "\n",
    "# pulse_forcing = return_empty_forcing(pulse_emissions)\n",
    "\n",
    "# test_gas_parameters = test_gas_parameters.reindex(pulse_emissions.columns.levels[1],axis=1,level=1)\n",
    "\n",
    "# # And run the model!\n",
    "\n",
    "# pulse_run = run_FaIR(emissions_in=pulse_emissions,forcing_in=pulse_forcing,gas_parameters=test_gas_parameters,thermal_parameters=test_thermal_parameters)\n",
    "\n",
    "# plt.plot(pulse_run['T'])\n",
    "\n",
    "# T = pulse_run['T']['None']['default'].tolist()\n",
    "\n",
    "# T_perturbed = pulse_run['T']['carbon_dioxidepulse']['default'].tolist()"
   ]
  },
  {
   "cell_type": "markdown",
   "id": "b893b951",
   "metadata": {},
   "source": [
    "# calculate SCC"
   ]
  },
  {
   "cell_type": "markdown",
   "id": "534bf80b",
   "metadata": {},
   "source": [
    "- SCC_calculator()"
   ]
  },
  {
   "cell_type": "code",
   "execution_count": 26,
   "id": "09bf8dd0",
   "metadata": {},
   "outputs": [],
   "source": [
    "## define damage function values\n",
    "gamma=2\n",
    "D0=0.00267"
   ]
  },
  {
   "cell_type": "markdown",
   "id": "62eccae2",
   "metadata": {},
   "source": [
    "create time series data frame"
   ]
  },
  {
   "cell_type": "code",
   "execution_count": 27,
   "id": "cc3f3996",
   "metadata": {},
   "outputs": [],
   "source": [
    "time_series_data = {'years': years, 'W': W, 'discount function': discount_function, 'T': T, 'T perturbed': T_perturbed}\n",
    "\n",
    "time_series_df = pd.DataFrame(data=time_series_data).set_index('years')"
   ]
  },
  {
   "cell_type": "code",
   "execution_count": 28,
   "id": "d0d3792f",
   "metadata": {},
   "outputs": [
    {
     "data": {
      "text/html": [
       "<div>\n",
       "<style scoped>\n",
       "    .dataframe tbody tr th:only-of-type {\n",
       "        vertical-align: middle;\n",
       "    }\n",
       "\n",
       "    .dataframe tbody tr th {\n",
       "        vertical-align: top;\n",
       "    }\n",
       "\n",
       "    .dataframe thead th {\n",
       "        text-align: right;\n",
       "    }\n",
       "</style>\n",
       "<table border=\"1\" class=\"dataframe\">\n",
       "  <thead>\n",
       "    <tr style=\"text-align: right;\">\n",
       "      <th></th>\n",
       "      <th>W</th>\n",
       "      <th>discount function</th>\n",
       "      <th>T</th>\n",
       "      <th>T perturbed</th>\n",
       "    </tr>\n",
       "    <tr>\n",
       "      <th>years</th>\n",
       "      <th></th>\n",
       "      <th></th>\n",
       "      <th></th>\n",
       "      <th></th>\n",
       "    </tr>\n",
       "  </thead>\n",
       "  <tbody>\n",
       "    <tr>\n",
       "      <th>1750</th>\n",
       "      <td>0.361326</td>\n",
       "      <td>0.000000</td>\n",
       "      <td>0.000201</td>\n",
       "      <td>0.000201</td>\n",
       "    </tr>\n",
       "    <tr>\n",
       "      <th>1751</th>\n",
       "      <td>0.368626</td>\n",
       "      <td>0.000000</td>\n",
       "      <td>0.000954</td>\n",
       "      <td>0.000954</td>\n",
       "    </tr>\n",
       "    <tr>\n",
       "      <th>1752</th>\n",
       "      <td>0.376072</td>\n",
       "      <td>0.000000</td>\n",
       "      <td>0.002271</td>\n",
       "      <td>0.002271</td>\n",
       "    </tr>\n",
       "    <tr>\n",
       "      <th>1753</th>\n",
       "      <td>0.383670</td>\n",
       "      <td>0.000000</td>\n",
       "      <td>0.003786</td>\n",
       "      <td>0.003786</td>\n",
       "    </tr>\n",
       "    <tr>\n",
       "      <th>1754</th>\n",
       "      <td>0.391420</td>\n",
       "      <td>0.000000</td>\n",
       "      <td>0.005060</td>\n",
       "      <td>0.005060</td>\n",
       "    </tr>\n",
       "    <tr>\n",
       "      <th>...</th>\n",
       "      <td>...</td>\n",
       "      <td>...</td>\n",
       "      <td>...</td>\n",
       "      <td>...</td>\n",
       "    </tr>\n",
       "    <tr>\n",
       "      <th>2296</th>\n",
       "      <td>19970.802975</td>\n",
       "      <td>0.000064</td>\n",
       "      <td>3.145251</td>\n",
       "      <td>3.188681</td>\n",
       "    </tr>\n",
       "    <tr>\n",
       "      <th>2297</th>\n",
       "      <td>20374.239957</td>\n",
       "      <td>0.000062</td>\n",
       "      <td>3.145828</td>\n",
       "      <td>3.189283</td>\n",
       "    </tr>\n",
       "    <tr>\n",
       "      <th>2298</th>\n",
       "      <td>20785.826906</td>\n",
       "      <td>0.000059</td>\n",
       "      <td>3.146410</td>\n",
       "      <td>3.189890</td>\n",
       "    </tr>\n",
       "    <tr>\n",
       "      <th>2299</th>\n",
       "      <td>21205.728463</td>\n",
       "      <td>0.000057</td>\n",
       "      <td>3.146997</td>\n",
       "      <td>3.190502</td>\n",
       "    </tr>\n",
       "    <tr>\n",
       "      <th>2300</th>\n",
       "      <td>21634.112594</td>\n",
       "      <td>0.000055</td>\n",
       "      <td>3.147588</td>\n",
       "      <td>3.191117</td>\n",
       "    </tr>\n",
       "  </tbody>\n",
       "</table>\n",
       "<p>551 rows × 4 columns</p>\n",
       "</div>"
      ],
      "text/plain": [
       "                  W  discount function         T  T perturbed\n",
       "years                                                        \n",
       "1750       0.361326           0.000000  0.000201     0.000201\n",
       "1751       0.368626           0.000000  0.000954     0.000954\n",
       "1752       0.376072           0.000000  0.002271     0.002271\n",
       "1753       0.383670           0.000000  0.003786     0.003786\n",
       "1754       0.391420           0.000000  0.005060     0.005060\n",
       "...             ...                ...       ...          ...\n",
       "2296   19970.802975           0.000064  3.145251     3.188681\n",
       "2297   20374.239957           0.000062  3.145828     3.189283\n",
       "2298   20785.826906           0.000059  3.146410     3.189890\n",
       "2299   21205.728463           0.000057  3.146997     3.190502\n",
       "2300   21634.112594           0.000055  3.147588     3.191117\n",
       "\n",
       "[551 rows x 4 columns]"
      ]
     },
     "execution_count": 28,
     "metadata": {},
     "output_type": "execute_result"
    }
   ],
   "source": [
    "time_series_df"
   ]
  },
  {
   "cell_type": "code",
   "execution_count": 29,
   "id": "a5b79a81",
   "metadata": {},
   "outputs": [
    {
     "data": {
      "text/plain": [
       "26.492477991557596"
      ]
     },
     "execution_count": 29,
     "metadata": {},
     "output_type": "execute_result"
    }
   ],
   "source": [
    "SCC_calculator(time_series_df, size_of_perturbation=size_of_perturbation, gamma=gamma, D0=D0)"
   ]
  },
  {
   "cell_type": "code",
   "execution_count": null,
   "id": "0cb81797",
   "metadata": {},
   "outputs": [],
   "source": []
  },
  {
   "cell_type": "code",
   "execution_count": null,
   "id": "acc3f714",
   "metadata": {},
   "outputs": [],
   "source": []
  }
 ],
 "metadata": {
  "kernelspec": {
   "display_name": "Python 3 (ipykernel)",
   "language": "python",
   "name": "python3"
  },
  "language_info": {
   "codemirror_mode": {
    "name": "ipython",
    "version": 3
   },
   "file_extension": ".py",
   "mimetype": "text/x-python",
   "name": "python",
   "nbconvert_exporter": "python",
   "pygments_lexer": "ipython3",
   "version": "3.9.7"
  }
 },
 "nbformat": 4,
 "nbformat_minor": 5
}
