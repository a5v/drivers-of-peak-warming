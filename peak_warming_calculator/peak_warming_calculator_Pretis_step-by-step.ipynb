{
 "cells": [
  {
   "cell_type": "code",
   "execution_count": 1,
   "id": "a8198da9",
   "metadata": {},
   "outputs": [],
   "source": [
    "import pandas as pd\n",
    "import numpy as np\n",
    "import matplotlib.pyplot as plt"
   ]
  },
  {
   "cell_type": "code",
   "execution_count": 2,
   "id": "35378899",
   "metadata": {},
   "outputs": [],
   "source": [
    "from peak_warming_calculator import *"
   ]
  },
  {
   "cell_type": "markdown",
   "id": "1b40a359",
   "metadata": {},
   "source": [
    "## Define Functions"
   ]
  },
  {
   "cell_type": "code",
   "execution_count": 3,
   "id": "df85a918",
   "metadata": {},
   "outputs": [],
   "source": [
    "## SCC functions\n",
    "from SCC_functions import *"
   ]
  },
  {
   "cell_type": "code",
   "execution_count": 4,
   "id": "87ab49ff",
   "metadata": {},
   "outputs": [],
   "source": [
    "def create_total_consumption_Pretis(years, g_ts, W_start_year=80):\n",
    "    start_year = years[0]\n",
    "\n",
    "    W = [W_start_year]\n",
    "    W_previous_year = W_start_year\n",
    "    for i in range(len(years) - 1):\n",
    "        W_this_year = W_previous_year*np.exp(g_ts[i])\n",
    "        W.append(W_this_year)\n",
    "        W_previous_year = W_this_year\n",
    "    \n",
    "    W = np.asarray(W)\n",
    "    return W"
   ]
  },
  {
   "cell_type": "code",
   "execution_count": 5,
   "id": "1b0bf26c",
   "metadata": {},
   "outputs": [],
   "source": [
    "## calculate cost of perturbation due to carbon\n",
    "## input: temperature profile, perturbed temperature profile, total consumption, and discount function\n",
    "\n",
    "def SCC_calculator_Pretis(time_series_df_Pretis, size_of_perturbation):\n",
    "    W = time_series_df_Pretis['W'].to_numpy()\n",
    "    W_perturbed = time_series_df_Pretis['W perturbed'].to_numpy()\n",
    "    discount_function = time_series_df_Pretis['discount function'].to_numpy()\n",
    "\n",
    "    absolute_consumption_loss = W-W_perturbed\n",
    "    discounted_consumption_loss = absolute_consumption_loss*discount_function\n",
    "    area = sum(discounted_consumption_loss)\n",
    "    SCC = area * 10 ** 12 / (size_of_perturbation * 10 ** 9)  # convert to dollar amount and normalise for 1 tCO2\n",
    "    return SCC"
   ]
  },
  {
   "cell_type": "code",
   "execution_count": 6,
   "id": "452ddf09",
   "metadata": {},
   "outputs": [],
   "source": [
    "# default settings\n",
    "P_50 = 120  # 187.5 * 0.7625000000000001\n",
    "P_100 = 300  # 187.5"
   ]
  },
  {
   "cell_type": "code",
   "execution_count": 7,
   "id": "9e9732ee",
   "metadata": {},
   "outputs": [],
   "source": [
    "start_year = 2020\n",
    "end_year = 3000"
   ]
  },
  {
   "cell_type": "code",
   "execution_count": 8,
   "id": "0127d4af",
   "metadata": {},
   "outputs": [],
   "source": [
    "r_minus_g = 0.015"
   ]
  },
  {
   "cell_type": "code",
   "execution_count": 9,
   "id": "be6b5c00",
   "metadata": {},
   "outputs": [],
   "source": [
    "W_0 = 80\n",
    "g_0 = 0.02\n",
    "beta = 0.001"
   ]
  },
  {
   "cell_type": "code",
   "execution_count": 10,
   "id": "c556da7e",
   "metadata": {},
   "outputs": [],
   "source": [
    "consumption_growth = g_0\n",
    "consumption_discount = consumption_growth + r_minus_g"
   ]
  },
  {
   "cell_type": "code",
   "execution_count": 11,
   "id": "026da568",
   "metadata": {},
   "outputs": [],
   "source": [
    "r = 0.03\n",
    "s = 0.05"
   ]
  },
  {
   "cell_type": "code",
   "execution_count": 12,
   "id": "8bff6515",
   "metadata": {},
   "outputs": [],
   "source": [
    "CO2_baseline = 40"
   ]
  },
  {
   "cell_type": "code",
   "execution_count": null,
   "id": "9661a326",
   "metadata": {},
   "outputs": [],
   "source": []
  },
  {
   "cell_type": "code",
   "execution_count": 13,
   "id": "8ff60917",
   "metadata": {},
   "outputs": [],
   "source": [
    "# peak_T, output_df = peak_warming_calculator(return_all_output=True)"
   ]
  },
  {
   "cell_type": "code",
   "execution_count": 14,
   "id": "7a514516",
   "metadata": {},
   "outputs": [],
   "source": [
    "# P0_Nordhaus = 20"
   ]
  },
  {
   "cell_type": "code",
   "execution_count": 15,
   "id": "1707a5fc",
   "metadata": {},
   "outputs": [],
   "source": [
    "## MACC functions and parameters\n",
    "\n",
    "def abatement(P, P0, P_50=P_50, r=r, s=s, P_100=P_100):  # 0.05\n",
    "    if P0 >= P_50:\n",
    "        print(\"P0 is greater than P_50\")\n",
    "    elif ((P_100-P0)/(P_50-P0))**(s/r) <= 2:\n",
    "        print(\"MAC curve condition not satisfied\")\n",
    "    \n",
    "    P_h = P0 + ((P_50 - P0) ** (-s / r) - 2 * (P_100 - P0) ** (-s / r)) ** (-r / s)\n",
    "    Am = 1 + ((P_100 - P0) / (P_h - P0)) ** (-s / r)\n",
    "    \n",
    "    A = Am / (1 + ((P - P0) / (P_h - P0)) ** (-s / r))\n",
    "    \n",
    "    return A\n",
    "\n",
    "## calculate emissions from forecasted abatement and CO2 baseline\n",
    "\n",
    "def abatement_to_emissions(forecasted_abatement, CO2_baseline):\n",
    "    CO2_emissions = CO2_baseline*(1-forecasted_abatement)\n",
    "    \n",
    "    return CO2_emissions"
   ]
  },
  {
   "cell_type": "markdown",
   "id": "4bb1c315",
   "metadata": {},
   "source": [
    "# Steps"
   ]
  },
  {
   "cell_type": "markdown",
   "id": "7529a603",
   "metadata": {},
   "source": [
    "## 0. Years and Initial Temperature Anomaly"
   ]
  },
  {
   "cell_type": "code",
   "execution_count": 16,
   "id": "8e7f229b",
   "metadata": {},
   "outputs": [],
   "source": [
    "start_year = 2020\n",
    "end_year = 3000\n",
    "\n",
    "years = create_years_array(start_year, end_year)\n",
    "num_of_years = len(years)"
   ]
  },
  {
   "cell_type": "code",
   "execution_count": 17,
   "id": "e3c296e4",
   "metadata": {},
   "outputs": [],
   "source": [
    "## years to calculate SCC\n",
    "first_perturbed_year = start_year\n",
    "last_perturbed_year = 2500\n",
    "year_of_perturbation = create_years_array(start_year, last_perturbed_year)"
   ]
  },
  {
   "cell_type": "code",
   "execution_count": 18,
   "id": "3be6c8c3",
   "metadata": {},
   "outputs": [],
   "source": [
    "T_0 = 1.2"
   ]
  },
  {
   "cell_type": "markdown",
   "id": "9e286a49",
   "metadata": {},
   "source": [
    "## 1. Create Unperturbed Temperature Profile"
   ]
  },
  {
   "cell_type": "code",
   "execution_count": 19,
   "id": "da772f99",
   "metadata": {},
   "outputs": [],
   "source": [
    "delta_T = 3\n",
    "alpha = 0.02\n",
    "T = create_geometric_T(years, T_0=T_0, alpha=alpha, delta_T=delta_T)"
   ]
  },
  {
   "cell_type": "markdown",
   "id": "152831a9",
   "metadata": {},
   "source": [
    "alternative functional form for above for the fast transition"
   ]
  },
  {
   "cell_type": "markdown",
   "id": "b0e49485",
   "metadata": {},
   "source": [
    "## 2. Calculate SCC as a function of time for a range of years"
   ]
  },
  {
   "cell_type": "code",
   "execution_count": 20,
   "id": "d97e9e82",
   "metadata": {},
   "outputs": [],
   "source": [
    "T_TCRE_1 = 0.00045\n",
    "k_s = 0.12\n",
    "size_of_perturbation = 1"
   ]
  },
  {
   "cell_type": "code",
   "execution_count": 21,
   "id": "682416f3",
   "metadata": {},
   "outputs": [],
   "source": [
    "gamma = 2\n",
    "D0 = 0.00236"
   ]
  },
  {
   "cell_type": "code",
   "execution_count": 22,
   "id": "3204114d",
   "metadata": {},
   "outputs": [],
   "source": [
    "# consumption_discount = 0.035\n",
    "# consumption_discount = consumption_growth + 0.015"
   ]
  },
  {
   "cell_type": "code",
   "execution_count": 23,
   "id": "7921016d",
   "metadata": {},
   "outputs": [
    {
     "name": "stderr",
     "output_type": "stream",
     "text": [
      "/Users/aaron/Documents/oxford_physics/Year_4/MPhys/drivers-of-peak-warming/peak_warming_calculator/peak_warming_calculator.py:128: RuntimeWarning: divide by zero encountered in power\n",
      "  A = Am / (1 + ((P - P0) / (P_h - P0)) ** (-s / r))\n"
     ]
    }
   ],
   "source": [
    "peak_T_Nordhaus, output_df_Nordhaus = peak_warming_calculator(consumption_discount=g_0+r_minus_g,\n",
    "                                                                  consumption_growth=g_0,\n",
    "                                                                  gamma=gamma, D0=D0,\n",
    "                                                                  P_50=P_50, s=s, r=r, P_100=P_100,\n",
    "                                                                  start_year=start_year, end_year=end_year,\n",
    "                                                                  last_SCC_year=last_perturbed_year,\n",
    "                                                                  T_TCRE_1=T_TCRE_1, k_s=k_s,\n",
    "                                                                  T_0=T_0, delta_T=delta_T, alpha=alpha,\n",
    "                                                                  size_of_perturbation=size_of_perturbation,\n",
    "                                                                  CO2_baseline=CO2_baseline,\n",
    "                                                                  return_all_output=True)"
   ]
  },
  {
   "cell_type": "code",
   "execution_count": 24,
   "id": "de78f31f",
   "metadata": {},
   "outputs": [],
   "source": [
    "P0_Nordhaus = output_df_Nordhaus['SCC'].loc[2020]"
   ]
  },
  {
   "cell_type": "code",
   "execution_count": 25,
   "id": "e71b6cc6",
   "metadata": {},
   "outputs": [
    {
     "data": {
      "text/plain": [
       "20.761229673595825"
      ]
     },
     "execution_count": 25,
     "metadata": {},
     "output_type": "execute_result"
    }
   ],
   "source": [
    "P0_Nordhaus"
   ]
  },
  {
   "cell_type": "code",
   "execution_count": null,
   "id": "cf0f4685",
   "metadata": {},
   "outputs": [],
   "source": []
  },
  {
   "cell_type": "code",
   "execution_count": null,
   "id": "17f83918",
   "metadata": {},
   "outputs": [],
   "source": []
  },
  {
   "cell_type": "code",
   "execution_count": 26,
   "id": "916e795f",
   "metadata": {},
   "outputs": [
    {
     "name": "stdout",
     "output_type": "stream",
     "text": [
      "363.6474995361756\n"
     ]
    }
   ],
   "source": [
    "# consumption_discount = 0.035\n",
    "# consumption_discount = consumption_growth + 0.015\n",
    "\n",
    "SCC_list = []\n",
    "SCC_list_actual = []\n",
    "\n",
    "for j in range(len(year_of_perturbation)):\n",
    "    T_perturbed = create_geometric_T_perturbed(years, T=T, SCC_year=year_of_perturbation[j], T_TCRE=T_TCRE_1*size_of_perturbation, k_s=k_s)   \n",
    "    \n",
    "    g = g_0 - beta*(T[:-1]**2-T_0**2)\n",
    "    g_perturbed = g_0 - beta*(T_perturbed[:-1]**2-T_0**2)\n",
    "    \n",
    "    consumption_discount = g[j] + r_minus_g\n",
    "    discount_function = create_discount_function(years, year_of_perturbation[j], consumption_discount=consumption_discount)\n",
    "    \n",
    "    W = create_total_consumption_Pretis(years, g, W_start_year=W_0)\n",
    "    W_perturbed = create_total_consumption_Pretis(years, g_perturbed, W_start_year=W_0)\n",
    "    \n",
    "    time_series_data_Pretis = {'years': years, 'W': W, 'W perturbed': W_perturbed, 'discount function': discount_function}\n",
    "    time_series_df_Pretis = pd.DataFrame(data=time_series_data_Pretis).set_index('years')\n",
    "\n",
    "    SCC = SCC_calculator_Pretis(time_series_df_Pretis, size_of_perturbation=size_of_perturbation)\n",
    "    \n",
    "    if j  == 0:\n",
    "        P0 = SCC\n",
    "        print(SCC)\n",
    "    SCC_list_actual.append(SCC)\n",
    "    SCC_adjusted = SCC - (P0-P0_Nordhaus)\n",
    "    if SCC_adjusted < P_100:\n",
    "        SCC_list.append(SCC_adjusted)\n",
    "    else:\n",
    "        SCC_list.append(P_100)\n",
    "        break"
   ]
  },
  {
   "cell_type": "code",
   "execution_count": 27,
   "id": "e06f34f8",
   "metadata": {},
   "outputs": [],
   "source": [
    "SCC_array = np.asarray(SCC_list)  # convert to numpy array"
   ]
  },
  {
   "cell_type": "code",
   "execution_count": 28,
   "id": "7ea73456",
   "metadata": {},
   "outputs": [
    {
     "data": {
      "text/plain": [
       "[363.6474995361756,\n",
       " 375.1401868255511,\n",
       " 386.93776701060625,\n",
       " 399.0447264604003,\n",
       " 411.46554547439433,\n",
       " 424.20469580005187,\n",
       " 437.2666383514126,\n",
       " 450.6558210805429,\n",
       " 464.37667698129076,\n",
       " 478.433622240181,\n",
       " 492.8310545718561,\n",
       " 507.5733516330965,\n",
       " 522.6648696548535,\n",
       " 538.1099421122426,\n",
       " 553.912878641541,\n",
       " 570.0779640210628,\n",
       " 586.6094572764275,\n",
       " 603.5115909988091,\n",
       " 620.788570694718,\n",
       " 638.4445743658666,\n",
       " 656.4837520725929]"
      ]
     },
     "execution_count": 28,
     "metadata": {},
     "output_type": "execute_result"
    }
   ],
   "source": [
    "SCC_list_actual"
   ]
  },
  {
   "cell_type": "code",
   "execution_count": 29,
   "id": "824dda4d",
   "metadata": {},
   "outputs": [
    {
     "data": {
      "text/plain": [
       "Text(0, 0.5, 'SCC ($)')"
      ]
     },
     "execution_count": 29,
     "metadata": {},
     "output_type": "execute_result"
    },
    {
     "data": {
      "image/png": "[encoded data removed]",
      "text/plain": [
       "<Figure size 432x288 with 1 Axes>"
      ]
     },
     "metadata": {
      "needs_background": "light"
     },
     "output_type": "display_data"
    }
   ],
   "source": [
    "plt.plot(year_of_perturbation[:len(SCC_array)], SCC_array)\n",
    "plt.xlabel(\"Year\")\n",
    "plt.ylabel(\"SCC ($)\")"
   ]
  },
  {
   "cell_type": "code",
   "execution_count": 30,
   "id": "1acda331",
   "metadata": {},
   "outputs": [
    {
     "data": {
      "text/plain": [
       "array([ 20.76122967,  32.25391696,  44.05149715,  56.1584566 ,\n",
       "        68.57927561,  81.31842594,  94.38036849, 107.76955122,\n",
       "       121.49040712, 135.54735238, 149.94478471, 164.68708177,\n",
       "       179.77859979, 195.22367225, 211.02660878, 227.19169416,\n",
       "       243.72318741, 260.62532114, 277.90230083, 295.5583045 ,\n",
       "       300.        ])"
      ]
     },
     "execution_count": 30,
     "metadata": {},
     "output_type": "execute_result"
    }
   ],
   "source": [
    "SCC_array"
   ]
  },
  {
   "cell_type": "markdown",
   "id": "4527dfe3",
   "metadata": {},
   "source": [
    "### Check 100% abatement has been achieved!"
   ]
  },
  {
   "cell_type": "code",
   "execution_count": 31,
   "id": "2afc6578",
   "metadata": {},
   "outputs": [],
   "source": [
    "if SCC_array[-1] < P_100:\n",
    "    print(\"P_100 not achieved by achieved by final perturbed year\")"
   ]
  },
  {
   "cell_type": "code",
   "execution_count": 32,
   "id": "8926e6b1",
   "metadata": {},
   "outputs": [],
   "source": [
    "SCC_forecasted = []\n",
    "\n",
    "for i in range(num_of_years):\n",
    "    if i < len(SCC_array):\n",
    "        SCC_forecasted.append(SCC_array[i])\n",
    "    else:\n",
    "#         SCC_forecasted.append(SCC_array[-1])\n",
    "        SCC_forecasted.append(P_100)\n",
    "\n",
    "SCC_forecasted = np.array(SCC_forecasted)"
   ]
  },
  {
   "cell_type": "code",
   "execution_count": 33,
   "id": "ae6b677a",
   "metadata": {},
   "outputs": [],
   "source": [
    "# SCC_forecasted"
   ]
  },
  {
   "cell_type": "code",
   "execution_count": 34,
   "id": "ef9dcd63",
   "metadata": {},
   "outputs": [
    {
     "data": {
      "image/png": "[encoded data removed]",
      "text/plain": [
       "<Figure size 432x288 with 1 Axes>"
      ]
     },
     "metadata": {
      "needs_background": "light"
     },
     "output_type": "display_data"
    }
   ],
   "source": [
    "plt.plot(years, SCC_forecasted)\n",
    "plt.xlabel(\"Year\")\n",
    "plt.ylabel(\"SCC ($)\")\n",
    "plt.yscale(\"log\")"
   ]
  },
  {
   "cell_type": "markdown",
   "id": "b85d4a61",
   "metadata": {},
   "source": [
    "## 3. Abatement as a function of time"
   ]
  },
  {
   "cell_type": "code",
   "execution_count": 35,
   "id": "a598428e",
   "metadata": {},
   "outputs": [],
   "source": [
    "P0 = SCC_forecasted[0]"
   ]
  },
  {
   "cell_type": "code",
   "execution_count": 36,
   "id": "b90c019f",
   "metadata": {
    "scrolled": true
   },
   "outputs": [
    {
     "name": "stderr",
     "output_type": "stream",
     "text": [
      "/var/folders/m4/mbpwp5q15070t8lqj4fj7mjr0000gn/T/ipykernel_12964/3214716059.py:12: RuntimeWarning: divide by zero encountered in power\n",
      "  A = Am / (1 + ((P - P0) / (P_h - P0)) ** (-s / r))\n"
     ]
    }
   ],
   "source": [
    "forecasted_abatement = abatement(P=SCC_forecasted, P0=P0)  # , r=consumption_discount"
   ]
  },
  {
   "cell_type": "markdown",
   "id": "ce23d485",
   "metadata": {},
   "source": [
    "problems with certain values due to constraints of the model"
   ]
  },
  {
   "cell_type": "code",
   "execution_count": 37,
   "id": "74f04839",
   "metadata": {},
   "outputs": [
    {
     "data": {
      "text/plain": [
       "Text(0, 0.5, 'Abatement')"
      ]
     },
     "execution_count": 37,
     "metadata": {},
     "output_type": "execute_result"
    },
    {
     "data": {
      "image/png": "[encoded data removed]",
      "text/plain": [
       "<Figure size 432x288 with 1 Axes>"
      ]
     },
     "metadata": {
      "needs_background": "light"
     },
     "output_type": "display_data"
    }
   ],
   "source": [
    "plt.plot(years, forecasted_abatement)\n",
    "plt.xlabel(\"Year\")\n",
    "plt.ylabel(\"Abatement\")"
   ]
  },
  {
   "cell_type": "markdown",
   "id": "351acbf6",
   "metadata": {},
   "source": [
    "## 4. Abatement to emissions"
   ]
  },
  {
   "cell_type": "code",
   "execution_count": 38,
   "id": "d5b39b78",
   "metadata": {},
   "outputs": [],
   "source": [
    "forecasted_emissions = abatement_to_emissions(forecasted_abatement, CO2_baseline)"
   ]
  },
  {
   "cell_type": "code",
   "execution_count": 39,
   "id": "3836f4ce",
   "metadata": {},
   "outputs": [
    {
     "data": {
      "text/plain": [
       "<matplotlib.legend.Legend at 0x118b12700>"
      ]
     },
     "execution_count": 39,
     "metadata": {},
     "output_type": "execute_result"
    },
    {
     "data": {
      "image/png": "[encoded data removed]",
      "text/plain": [
       "<Figure size 432x288 with 1 Axes>"
      ]
     },
     "metadata": {
      "needs_background": "light"
     },
     "output_type": "display_data"
    }
   ],
   "source": [
    "# plt.plot(ssp245_CO2_past, label=\"historical emissions\")\n",
    "plt.plot(years, forecasted_emissions, label=\"forecasted emissions\")\n",
    "plt.xlabel(\"Year\")\n",
    "plt.ylabel(\"CO2 Emissions / GtCO2\")\n",
    "plt.legend()"
   ]
  },
  {
   "cell_type": "markdown",
   "id": "3a514bf1",
   "metadata": {},
   "source": [
    "## 5. Cumulative Emissions to Temperature Change"
   ]
  },
  {
   "cell_type": "code",
   "execution_count": 40,
   "id": "73bf2aa6",
   "metadata": {},
   "outputs": [],
   "source": [
    "cumulative_emissions_array = np.append(np.zeros(1), np.cumsum(forecasted_emissions)[:-1])"
   ]
  },
  {
   "cell_type": "code",
   "execution_count": 41,
   "id": "0ea3fb64",
   "metadata": {},
   "outputs": [],
   "source": [
    "temperature_change = T_TCRE_1*cumulative_emissions_array"
   ]
  },
  {
   "cell_type": "code",
   "execution_count": 42,
   "id": "6fd34d07",
   "metadata": {},
   "outputs": [
    {
     "data": {
      "text/plain": [
       "0.1621826443725783"
      ]
     },
     "execution_count": 42,
     "metadata": {},
     "output_type": "execute_result"
    }
   ],
   "source": [
    "max(temperature_change)"
   ]
  },
  {
   "cell_type": "code",
   "execution_count": 43,
   "id": "098a473c",
   "metadata": {},
   "outputs": [],
   "source": [
    "T_forecast_iteration0 = T_0 + temperature_change\n",
    "# T_forecast_iteration0_plateau = T_2019 + temperature_change_plateau"
   ]
  },
  {
   "cell_type": "code",
   "execution_count": 44,
   "id": "2d4905dc",
   "metadata": {},
   "outputs": [
    {
     "data": {
      "text/plain": [
       "<matplotlib.legend.Legend at 0x118ac4a90>"
      ]
     },
     "execution_count": 44,
     "metadata": {},
     "output_type": "execute_result"
    },
    {
     "data": {
      "image/png": "[encoded data removed]",
      "text/plain": [
       "<Figure size 432x288 with 1 Axes>"
      ]
     },
     "metadata": {
      "needs_background": "light"
     },
     "output_type": "display_data"
    }
   ],
   "source": [
    "plt.plot(years, T, label=\"initial guess\")\n",
    "plt.plot(years, T_forecast_iteration0, label=\"iteration 0\")\n",
    "# plt.plot(T_forecast_years, T_forecast_iteration0_plateau, label=\"iteration 0 plateau\")\n",
    "plt.xlabel(\"year\")\n",
    "plt.ylabel(\"temperature / K\")\n",
    "plt.legend()"
   ]
  },
  {
   "cell_type": "markdown",
   "id": "5caeb893",
   "metadata": {},
   "source": [
    "# Iterating Further"
   ]
  },
  {
   "cell_type": "code",
   "execution_count": 45,
   "id": "d69d4920",
   "metadata": {},
   "outputs": [],
   "source": [
    "# T_forecast_first_loop = T_forecast_iteration0_plateau\n",
    "# T_forecast_iteration = T_forecast_iteration0_plateau"
   ]
  },
  {
   "cell_type": "code",
   "execution_count": 46,
   "id": "d6664051",
   "metadata": {},
   "outputs": [],
   "source": [
    "T_forecast_first_loop = T_forecast_iteration0\n",
    "T_forecast_iteration = T_forecast_iteration0"
   ]
  },
  {
   "cell_type": "code",
   "execution_count": 47,
   "id": "0bdc0913",
   "metadata": {
    "scrolled": true
   },
   "outputs": [
    {
     "name": "stderr",
     "output_type": "stream",
     "text": [
      "/var/folders/m4/mbpwp5q15070t8lqj4fj7mjr0000gn/T/ipykernel_12964/3214716059.py:12: RuntimeWarning: divide by zero encountered in power\n",
      "  A = Am / (1 + ((P - P0) / (P_h - P0)) ** (-s / r))\n",
      "/var/folders/m4/mbpwp5q15070t8lqj4fj7mjr0000gn/T/ipykernel_12964/3214716059.py:12: RuntimeWarning: divide by zero encountered in power\n",
      "  A = Am / (1 + ((P - P0) / (P_h - P0)) ** (-s / r))\n"
     ]
    },
    {
     "name": "stdout",
     "output_type": "stream",
     "text": [
      "2\n"
     ]
    },
    {
     "name": "stderr",
     "output_type": "stream",
     "text": [
      "/var/folders/m4/mbpwp5q15070t8lqj4fj7mjr0000gn/T/ipykernel_12964/3214716059.py:12: RuntimeWarning: divide by zero encountered in power\n",
      "  A = Am / (1 + ((P - P0) / (P_h - P0)) ** (-s / r))\n"
     ]
    },
    {
     "data": {
      "text/plain": [
       "<matplotlib.legend.Legend at 0x118c0d850>"
      ]
     },
     "execution_count": 47,
     "metadata": {},
     "output_type": "execute_result"
    },
    {
     "data": {
      "image/png": "[encoded data removed]",
      "text/plain": [
       "<Figure size 432x288 with 1 Axes>"
      ]
     },
     "metadata": {
      "needs_background": "light"
     },
     "output_type": "display_data"
    }
   ],
   "source": [
    "num_of_iterations = 99\n",
    "\n",
    "first_perturbed_year = start_year\n",
    "\n",
    "year_of_perturbation = np.arange(first_perturbed_year, last_perturbed_year+1)\n",
    "\n",
    "plt.plot(years, T, label=\"initial guess\")\n",
    "plt.plot(years, T_forecast_first_loop, label=\"iteration 0\")\n",
    "\n",
    "for k in range(num_of_iterations):\n",
    "#     T_iteration = np.concatenate([T_gas_df['CO2_best'],T_forecast_iteration[1:]])\n",
    "\n",
    "    SCC_list = []\n",
    "\n",
    "    for j in range(len(year_of_perturbation)):\n",
    "\n",
    "        T_perturbed = create_geometric_T_perturbed(years, T=T_forecast_iteration, SCC_year=year_of_perturbation[j], T_TCRE=T_TCRE_1*size_of_perturbation, k_s=k_s)\n",
    "    \n",
    "        g = g_0 - beta*(T_forecast_iteration[:-1]**2-T_0**2)\n",
    "        g_perturbed = g_0 - beta*(T_perturbed[:-1]**2-T_0**2)\n",
    "\n",
    "        consumption_discount = g[j] + r_minus_g\n",
    "        discount_function = create_discount_function(years, year_of_perturbation[j], consumption_discount=consumption_discount)\n",
    "\n",
    "        W = create_total_consumption_Pretis(years, g, W_start_year=W_0)\n",
    "        W_perturbed = create_total_consumption_Pretis(years, g_perturbed, W_start_year=W_0)\n",
    "\n",
    "        time_series_data_Pretis = {'years': years, 'W': W, 'W perturbed': W_perturbed, 'discount function': discount_function}\n",
    "        time_series_df_Pretis = pd.DataFrame(data=time_series_data_Pretis).set_index('years')\n",
    "\n",
    "        SCC = SCC_calculator_Pretis(time_series_df_Pretis, size_of_perturbation=size_of_perturbation)\n",
    "\n",
    "        if j  == 0:\n",
    "            P0 = SCC\n",
    "        SCC_list_actual.append(SCC)\n",
    "        SCC_adjusted = SCC - (P0-P0_Nordhaus)\n",
    "        if SCC_adjusted < P_100:\n",
    "            SCC_list.append(SCC_adjusted)\n",
    "        else:\n",
    "            SCC_list.append(P_100)\n",
    "            break\n",
    "\n",
    "    SCC_array = np.asarray(SCC_list)\n",
    "\n",
    "    SCC_forecasted = []\n",
    "\n",
    "    for i in range(num_of_years):\n",
    "        if i < len(SCC_array):\n",
    "            SCC_forecasted.append(SCC_array[i])\n",
    "        else:\n",
    "            SCC_forecasted.append(P_100)\n",
    "\n",
    "    SCC_forecasted = np.array(SCC_forecasted)\n",
    "\n",
    "    P0 = SCC_forecasted[0]\n",
    "\n",
    "    forecasted_abatement = abatement(P=SCC_forecasted, P0=P0)\n",
    "    forecasted_emissions = abatement_to_emissions(forecasted_abatement, CO2_baseline)\n",
    "\n",
    "    cumulative_emissions_array = np.append(np.zeros(1), np.cumsum(forecasted_emissions)[:-1])\n",
    "\n",
    "    temperature_change = T_TCRE_1*cumulative_emissions_array\n",
    "    \n",
    "    T_forecast_iteration = T_0 + temperature_change\n",
    "    \n",
    "    plt.plot(years, T_forecast_iteration, label=\"iteration \"+str(k+1))\n",
    "    \n",
    "    if k == 0:\n",
    "        peak_T = max(T_forecast_iteration)\n",
    "    else:\n",
    "        previous_peak_T = peak_T\n",
    "        peak_T = max(T_forecast_iteration)\n",
    "        if abs(peak_T - previous_peak_T) < 0.005:\n",
    "            print(k)\n",
    "            break\n",
    "    \n",
    "    if k == num_of_iterations - 1:\n",
    "        print(\"convergence condition not achieved\")\n",
    "        print(f\"{consumption_discount=}\")\n",
    "        print(f\"{consumption_growth=}\")\n",
    "        print(f\"{P_50=}\")\n",
    "        print(f\"{s=}\")\n",
    "        print(f\"{r=}\")\n",
    "        print(f\"{P_100=}\")\n",
    "\n",
    "plt.xlabel(\"Year\")\n",
    "plt.ylabel(\"Temperature / K\")\n",
    "plt.legend()"
   ]
  },
  {
   "cell_type": "markdown",
   "id": "31832dbd",
   "metadata": {},
   "source": [
    "***this is fairly analogous to the Newton-Raphson Method***\n",
    "- the initial temperature profile is essentially just a starting guess; getting pushed toward temperature profile solution\n",
    "- could stop the iterations when the difference between two consecutive lines is small"
   ]
  },
  {
   "cell_type": "code",
   "execution_count": 48,
   "id": "1b270877",
   "metadata": {},
   "outputs": [
    {
     "data": {
      "text/plain": [
       "1.3985211364163126"
      ]
     },
     "execution_count": 48,
     "metadata": {},
     "output_type": "execute_result"
    }
   ],
   "source": [
    "## peak Temperature\n",
    "max(T_forecast_iteration)"
   ]
  },
  {
   "cell_type": "markdown",
   "id": "f24261ed",
   "metadata": {},
   "source": [
    "under default settings: 2.546769143595164"
   ]
  },
  {
   "cell_type": "code",
   "execution_count": 49,
   "id": "69e1e912",
   "metadata": {},
   "outputs": [
    {
     "data": {
      "text/plain": [
       "array([ 20.76122967,  30.58973123,  40.63452618,  50.85210168,\n",
       "        61.208995  ,  71.67847952,  82.2402475 ,  92.8799989 ,\n",
       "       103.58874807, 114.36196501, 125.19868919, 136.10071157,\n",
       "       147.07187266, 158.11749012, 169.24390883, 180.4581565 ,\n",
       "       191.76768562, 203.18018287, 214.70343007, 226.34520317,\n",
       "       238.11319877, 250.01497979, 262.05793382, 274.24924379,\n",
       "       286.59585717, 299.10445484, 300.        , 300.        ,\n",
       "       300.        , 300.        , 300.        , 300.        ,\n",
       "       300.        , 300.        , 300.        , 300.        ,\n",
       "       300.        , 300.        , 300.        , 300.        ,\n",
       "       300.        , 300.        , 300.        , 300.        ,\n",
       "       300.        , 300.        , 300.        , 300.        ,\n",
       "       300.        , 300.        , 300.        , 300.        ,\n",
       "       300.        , 300.        , 300.        , 300.        ,\n",
       "       300.        , 300.        , 300.        , 300.        ,\n",
       "       300.        , 300.        , 300.        , 300.        ,\n",
       "       300.        , 300.        , 300.        , 300.        ,\n",
       "       300.        , 300.        , 300.        , 300.        ,\n",
       "       300.        , 300.        , 300.        , 300.        ,\n",
       "       300.        , 300.        , 300.        , 300.        ,\n",
       "       300.        , 300.        , 300.        , 300.        ,\n",
       "       300.        , 300.        , 300.        , 300.        ,\n",
       "       300.        , 300.        , 300.        , 300.        ,\n",
       "       300.        , 300.        , 300.        , 300.        ,\n",
       "       300.        , 300.        , 300.        , 300.        ,\n",
       "       300.        , 300.        , 300.        , 300.        ,\n",
       "       300.        , 300.        , 300.        , 300.        ,\n",
       "       300.        , 300.        , 300.        , 300.        ,\n",
       "       300.        , 300.        , 300.        , 300.        ,\n",
       "       300.        , 300.        , 300.        , 300.        ,\n",
       "       300.        , 300.        , 300.        , 300.        ,\n",
       "       300.        , 300.        , 300.        , 300.        ,\n",
       "       300.        , 300.        , 300.        , 300.        ,\n",
       "       300.        , 300.        , 300.        , 300.        ,\n",
       "       300.        , 300.        , 300.        , 300.        ,\n",
       "       300.        , 300.        , 300.        , 300.        ,\n",
       "       300.        , 300.        , 300.        , 300.        ,\n",
       "       300.        , 300.        , 300.        , 300.        ,\n",
       "       300.        , 300.        , 300.        , 300.        ,\n",
       "       300.        , 300.        , 300.        , 300.        ,\n",
       "       300.        , 300.        , 300.        , 300.        ,\n",
       "       300.        , 300.        , 300.        , 300.        ,\n",
       "       300.        , 300.        , 300.        , 300.        ,\n",
       "       300.        , 300.        , 300.        , 300.        ,\n",
       "       300.        , 300.        , 300.        , 300.        ,\n",
       "       300.        , 300.        , 300.        , 300.        ,\n",
       "       300.        , 300.        , 300.        , 300.        ,\n",
       "       300.        , 300.        , 300.        , 300.        ,\n",
       "       300.        , 300.        , 300.        , 300.        ,\n",
       "       300.        , 300.        , 300.        , 300.        ,\n",
       "       300.        , 300.        , 300.        , 300.        ,\n",
       "       300.        , 300.        , 300.        , 300.        ,\n",
       "       300.        , 300.        , 300.        , 300.        ,\n",
       "       300.        , 300.        , 300.        , 300.        ,\n",
       "       300.        , 300.        , 300.        , 300.        ,\n",
       "       300.        , 300.        , 300.        , 300.        ,\n",
       "       300.        , 300.        , 300.        , 300.        ,\n",
       "       300.        , 300.        , 300.        , 300.        ,\n",
       "       300.        , 300.        , 300.        , 300.        ,\n",
       "       300.        , 300.        , 300.        , 300.        ,\n",
       "       300.        , 300.        , 300.        , 300.        ,\n",
       "       300.        , 300.        , 300.        , 300.        ,\n",
       "       300.        , 300.        , 300.        , 300.        ,\n",
       "       300.        , 300.        , 300.        , 300.        ,\n",
       "       300.        , 300.        , 300.        , 300.        ,\n",
       "       300.        , 300.        , 300.        , 300.        ,\n",
       "       300.        , 300.        , 300.        , 300.        ,\n",
       "       300.        , 300.        , 300.        , 300.        ,\n",
       "       300.        , 300.        , 300.        , 300.        ,\n",
       "       300.        , 300.        , 300.        , 300.        ,\n",
       "       300.        , 300.        , 300.        , 300.        ,\n",
       "       300.        , 300.        , 300.        , 300.        ,\n",
       "       300.        , 300.        , 300.        , 300.        ,\n",
       "       300.        , 300.        , 300.        , 300.        ,\n",
       "       300.        , 300.        , 300.        , 300.        ,\n",
       "       300.        , 300.        , 300.        , 300.        ,\n",
       "       300.        , 300.        , 300.        , 300.        ,\n",
       "       300.        , 300.        , 300.        , 300.        ,\n",
       "       300.        , 300.        , 300.        , 300.        ,\n",
       "       300.        , 300.        , 300.        , 300.        ,\n",
       "       300.        , 300.        , 300.        , 300.        ,\n",
       "       300.        , 300.        , 300.        , 300.        ,\n",
       "       300.        , 300.        , 300.        , 300.        ,\n",
       "       300.        , 300.        , 300.        , 300.        ,\n",
       "       300.        , 300.        , 300.        , 300.        ,\n",
       "       300.        , 300.        , 300.        , 300.        ,\n",
       "       300.        , 300.        , 300.        , 300.        ,\n",
       "       300.        , 300.        , 300.        , 300.        ,\n",
       "       300.        , 300.        , 300.        , 300.        ,\n",
       "       300.        , 300.        , 300.        , 300.        ,\n",
       "       300.        , 300.        , 300.        , 300.        ,\n",
       "       300.        , 300.        , 300.        , 300.        ,\n",
       "       300.        , 300.        , 300.        , 300.        ,\n",
       "       300.        , 300.        , 300.        , 300.        ,\n",
       "       300.        , 300.        , 300.        , 300.        ,\n",
       "       300.        , 300.        , 300.        , 300.        ,\n",
       "       300.        , 300.        , 300.        , 300.        ,\n",
       "       300.        , 300.        , 300.        , 300.        ,\n",
       "       300.        , 300.        , 300.        , 300.        ,\n",
       "       300.        , 300.        , 300.        , 300.        ,\n",
       "       300.        , 300.        , 300.        , 300.        ,\n",
       "       300.        , 300.        , 300.        , 300.        ,\n",
       "       300.        , 300.        , 300.        , 300.        ,\n",
       "       300.        , 300.        , 300.        , 300.        ,\n",
       "       300.        , 300.        , 300.        , 300.        ,\n",
       "       300.        , 300.        , 300.        , 300.        ,\n",
       "       300.        , 300.        , 300.        , 300.        ,\n",
       "       300.        , 300.        , 300.        , 300.        ,\n",
       "       300.        , 300.        , 300.        , 300.        ,\n",
       "       300.        , 300.        , 300.        , 300.        ,\n",
       "       300.        , 300.        , 300.        , 300.        ,\n",
       "       300.        , 300.        , 300.        , 300.        ,\n",
       "       300.        , 300.        , 300.        , 300.        ,\n",
       "       300.        , 300.        , 300.        , 300.        ,\n",
       "       300.        , 300.        , 300.        , 300.        ,\n",
       "       300.        , 300.        , 300.        , 300.        ,\n",
       "       300.        , 300.        , 300.        , 300.        ,\n",
       "       300.        , 300.        , 300.        , 300.        ,\n",
       "       300.        , 300.        , 300.        , 300.        ,\n",
       "       300.        , 300.        , 300.        , 300.        ,\n",
       "       300.        , 300.        , 300.        , 300.        ,\n",
       "       300.        , 300.        , 300.        , 300.        ,\n",
       "       300.        , 300.        , 300.        , 300.        ,\n",
       "       300.        , 300.        , 300.        , 300.        ,\n",
       "       300.        , 300.        , 300.        , 300.        ,\n",
       "       300.        , 300.        , 300.        , 300.        ,\n",
       "       300.        , 300.        , 300.        , 300.        ,\n",
       "       300.        , 300.        , 300.        , 300.        ,\n",
       "       300.        , 300.        , 300.        , 300.        ,\n",
       "       300.        , 300.        , 300.        , 300.        ,\n",
       "       300.        , 300.        , 300.        , 300.        ,\n",
       "       300.        , 300.        , 300.        , 300.        ,\n",
       "       300.        , 300.        , 300.        , 300.        ,\n",
       "       300.        , 300.        , 300.        , 300.        ,\n",
       "       300.        , 300.        , 300.        , 300.        ,\n",
       "       300.        , 300.        , 300.        , 300.        ,\n",
       "       300.        , 300.        , 300.        , 300.        ,\n",
       "       300.        , 300.        , 300.        , 300.        ,\n",
       "       300.        , 300.        , 300.        , 300.        ,\n",
       "       300.        , 300.        , 300.        , 300.        ,\n",
       "       300.        , 300.        , 300.        , 300.        ,\n",
       "       300.        , 300.        , 300.        , 300.        ,\n",
       "       300.        , 300.        , 300.        , 300.        ,\n",
       "       300.        , 300.        , 300.        , 300.        ,\n",
       "       300.        , 300.        , 300.        , 300.        ,\n",
       "       300.        , 300.        , 300.        , 300.        ,\n",
       "       300.        , 300.        , 300.        , 300.        ,\n",
       "       300.        , 300.        , 300.        , 300.        ,\n",
       "       300.        , 300.        , 300.        , 300.        ,\n",
       "       300.        , 300.        , 300.        , 300.        ,\n",
       "       300.        , 300.        , 300.        , 300.        ,\n",
       "       300.        , 300.        , 300.        , 300.        ,\n",
       "       300.        , 300.        , 300.        , 300.        ,\n",
       "       300.        , 300.        , 300.        , 300.        ,\n",
       "       300.        , 300.        , 300.        , 300.        ,\n",
       "       300.        , 300.        , 300.        , 300.        ,\n",
       "       300.        , 300.        , 300.        , 300.        ,\n",
       "       300.        , 300.        , 300.        , 300.        ,\n",
       "       300.        , 300.        , 300.        , 300.        ,\n",
       "       300.        , 300.        , 300.        , 300.        ,\n",
       "       300.        , 300.        , 300.        , 300.        ,\n",
       "       300.        , 300.        , 300.        , 300.        ,\n",
       "       300.        , 300.        , 300.        , 300.        ,\n",
       "       300.        , 300.        , 300.        , 300.        ,\n",
       "       300.        , 300.        , 300.        , 300.        ,\n",
       "       300.        , 300.        , 300.        , 300.        ,\n",
       "       300.        , 300.        , 300.        , 300.        ,\n",
       "       300.        , 300.        , 300.        , 300.        ,\n",
       "       300.        , 300.        , 300.        , 300.        ,\n",
       "       300.        , 300.        , 300.        , 300.        ,\n",
       "       300.        , 300.        , 300.        , 300.        ,\n",
       "       300.        , 300.        , 300.        , 300.        ,\n",
       "       300.        , 300.        , 300.        , 300.        ,\n",
       "       300.        , 300.        , 300.        , 300.        ,\n",
       "       300.        , 300.        , 300.        , 300.        ,\n",
       "       300.        , 300.        , 300.        , 300.        ,\n",
       "       300.        , 300.        , 300.        , 300.        ,\n",
       "       300.        , 300.        , 300.        , 300.        ,\n",
       "       300.        , 300.        , 300.        , 300.        ,\n",
       "       300.        , 300.        , 300.        , 300.        ,\n",
       "       300.        , 300.        , 300.        , 300.        ,\n",
       "       300.        , 300.        , 300.        , 300.        ,\n",
       "       300.        , 300.        , 300.        , 300.        ,\n",
       "       300.        , 300.        , 300.        , 300.        ,\n",
       "       300.        , 300.        , 300.        , 300.        ,\n",
       "       300.        , 300.        , 300.        , 300.        ,\n",
       "       300.        , 300.        , 300.        , 300.        ,\n",
       "       300.        , 300.        , 300.        , 300.        ,\n",
       "       300.        , 300.        , 300.        , 300.        ,\n",
       "       300.        , 300.        , 300.        , 300.        ,\n",
       "       300.        , 300.        , 300.        , 300.        ,\n",
       "       300.        , 300.        , 300.        , 300.        ,\n",
       "       300.        , 300.        , 300.        , 300.        ,\n",
       "       300.        , 300.        , 300.        , 300.        ,\n",
       "       300.        , 300.        , 300.        , 300.        ,\n",
       "       300.        , 300.        , 300.        , 300.        ,\n",
       "       300.        , 300.        , 300.        , 300.        ,\n",
       "       300.        , 300.        , 300.        , 300.        ,\n",
       "       300.        , 300.        , 300.        , 300.        ,\n",
       "       300.        , 300.        , 300.        , 300.        ,\n",
       "       300.        , 300.        , 300.        , 300.        ,\n",
       "       300.        , 300.        , 300.        , 300.        ,\n",
       "       300.        , 300.        , 300.        , 300.        ,\n",
       "       300.        , 300.        , 300.        , 300.        ,\n",
       "       300.        , 300.        , 300.        , 300.        ,\n",
       "       300.        , 300.        , 300.        , 300.        ,\n",
       "       300.        , 300.        , 300.        , 300.        ,\n",
       "       300.        , 300.        , 300.        , 300.        ,\n",
       "       300.        , 300.        , 300.        , 300.        ,\n",
       "       300.        , 300.        , 300.        , 300.        ,\n",
       "       300.        , 300.        , 300.        , 300.        ,\n",
       "       300.        , 300.        , 300.        , 300.        ,\n",
       "       300.        , 300.        , 300.        , 300.        ,\n",
       "       300.        , 300.        , 300.        , 300.        ,\n",
       "       300.        , 300.        , 300.        , 300.        ,\n",
       "       300.        , 300.        , 300.        , 300.        ,\n",
       "       300.        , 300.        , 300.        , 300.        ,\n",
       "       300.        , 300.        , 300.        , 300.        ,\n",
       "       300.        , 300.        , 300.        , 300.        ,\n",
       "       300.        , 300.        , 300.        , 300.        ,\n",
       "       300.        , 300.        , 300.        , 300.        ,\n",
       "       300.        , 300.        , 300.        , 300.        ,\n",
       "       300.        , 300.        , 300.        , 300.        ,\n",
       "       300.        , 300.        , 300.        , 300.        ,\n",
       "       300.        , 300.        , 300.        , 300.        ,\n",
       "       300.        , 300.        , 300.        , 300.        ,\n",
       "       300.        , 300.        , 300.        , 300.        ,\n",
       "       300.        , 300.        , 300.        , 300.        ,\n",
       "       300.        , 300.        , 300.        , 300.        ,\n",
       "       300.        , 300.        , 300.        , 300.        ,\n",
       "       300.        , 300.        , 300.        , 300.        ,\n",
       "       300.        , 300.        , 300.        , 300.        ,\n",
       "       300.        , 300.        , 300.        , 300.        ,\n",
       "       300.        , 300.        , 300.        , 300.        ,\n",
       "       300.        , 300.        , 300.        , 300.        ,\n",
       "       300.        , 300.        , 300.        , 300.        ,\n",
       "       300.        , 300.        , 300.        , 300.        ,\n",
       "       300.        , 300.        , 300.        , 300.        ,\n",
       "       300.        , 300.        , 300.        , 300.        ,\n",
       "       300.        , 300.        , 300.        , 300.        ,\n",
       "       300.        , 300.        , 300.        , 300.        ,\n",
       "       300.        , 300.        , 300.        , 300.        ,\n",
       "       300.        , 300.        , 300.        , 300.        ,\n",
       "       300.        , 300.        , 300.        , 300.        ,\n",
       "       300.        , 300.        , 300.        , 300.        ,\n",
       "       300.        ])"
      ]
     },
     "execution_count": 49,
     "metadata": {},
     "output_type": "execute_result"
    }
   ],
   "source": [
    "SCC_forecasted"
   ]
  },
  {
   "cell_type": "code",
   "execution_count": null,
   "id": "39f8d5b3",
   "metadata": {},
   "outputs": [],
   "source": []
  },
  {
   "cell_type": "code",
   "execution_count": null,
   "id": "c0d0fd39",
   "metadata": {},
   "outputs": [],
   "source": []
  },
  {
   "cell_type": "code",
   "execution_count": null,
   "id": "2f65ecd1",
   "metadata": {},
   "outputs": [],
   "source": []
  },
  {
   "cell_type": "code",
   "execution_count": null,
   "id": "dd91528c",
   "metadata": {},
   "outputs": [],
   "source": []
  }
 ],
 "metadata": {
  "kernelspec": {
   "display_name": "Python 3 (ipykernel)",
   "language": "python",
   "name": "python3"
  },
  "language_info": {
   "codemirror_mode": {
    "name": "ipython",
    "version": 3
   },
   "file_extension": ".py",
   "mimetype": "text/x-python",
   "name": "python",
   "nbconvert_exporter": "python",
   "pygments_lexer": "ipython3",
   "version": "3.9.7"
  }
 },
 "nbformat": 4,
 "nbformat_minor": 5
}
