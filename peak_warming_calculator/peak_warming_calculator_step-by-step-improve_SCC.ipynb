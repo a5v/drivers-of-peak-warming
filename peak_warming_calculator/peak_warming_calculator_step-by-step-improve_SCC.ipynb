{
 "cells": [
  {
   "cell_type": "code",
   "execution_count": 1,
   "id": "a8198da9",
   "metadata": {},
   "outputs": [],
   "source": [
    "import pandas as pd\n",
    "import numpy as np\n",
    "import matplotlib.pyplot as plt\n",
    "import seaborn as sns\n",
    "sns.set()\n",
    "from scipy.optimize import curve_fit\n",
    "from scipy.integrate import simps\n",
    "from scipy.optimize import curve_fit"
   ]
  },
  {
   "cell_type": "code",
   "execution_count": 2,
   "id": "3dc7ce4e",
   "metadata": {},
   "outputs": [],
   "source": [
    "# from fair import *\n",
    "# from fair.scripts.data_retrieval import *"
   ]
  },
  {
   "cell_type": "markdown",
   "id": "1b40a359",
   "metadata": {},
   "source": [
    "## Define Functions"
   ]
  },
  {
   "cell_type": "code",
   "execution_count": 3,
   "id": "df85a918",
   "metadata": {},
   "outputs": [],
   "source": [
    "## calculate cost of perturbation due to carbon\n",
    "## input: temperature profile, perturbed temperature profile, total consumption, and discount function\n",
    "\n",
    "def cost_of_perturbation(T, T_perturb, W, discount_function, gamma=2, D0=0.00267):\n",
    "    S_Wt = D0*T**gamma\n",
    "    S_Wt_perturb = D0*T_perturb**gamma\n",
    "    consumption_loss_fraction = S_Wt_perturb-S_Wt\n",
    "    absolute_consumption_loss = consumption_loss_fraction*W\n",
    "    discounted_consumption_loss = absolute_consumption_loss*discount_function\n",
    "    area = simps(discounted_consumption_loss, dx=1)\n",
    "    cost = area*10**12  # convert to dollar amount\n",
    "    \n",
    "    return cost"
   ]
  },
  {
   "cell_type": "code",
   "execution_count": 4,
   "id": "5a11eab5",
   "metadata": {},
   "outputs": [],
   "source": [
    "## calculate abatement given a carbon price\n",
    "\n",
    "# def abatement(P, P0, P_h=44, r=20, s=18, Am=1.1):\n",
    "#     A = Am/(1+((P-P0)/P_h)**(-r/s))\n",
    "    \n",
    "#     return A\n",
    "\n",
    "# P_100 = 500\n",
    "\n",
    "# def abatement(P, P0, r=0.04, P_h=100, s=0.05, P_100=P_100):\n",
    "#     if P0 >= P_h:\n",
    "#         print(\"P0 is greater than P_h\")\n",
    "\n",
    "#     Am = 1+((P_100-P0)/(P_h-P0))**(-s/r)\n",
    "#     A = Am/(1+((P-P0)/(P_h-P0))**(-s/r))\n",
    "        \n",
    "#     return A\n",
    "\n",
    "P_50 = 100  # 187.5 * 0.7625000000000001\n",
    "P_100 = 500  # 187.5\n",
    "\n",
    "# P_50=100, s=0.05, r=0.04, P_100=500\n",
    "\n",
    "def abatement(P, P0, P_50=P_50, r=0.04, s=0.05, P_100=P_100):  # 0.05\n",
    "    if P0 >= P_50:\n",
    "        print(\"P0 is greater than P_50\")\n",
    "    elif ((P_100-P0)/(P_50-P0))**(s/r) <= 2:\n",
    "        print(\"MAC curve condition not satisfied\")\n",
    "    \n",
    "    P_h = P0 + ((P_50 - P0) ** (-s / r) - 2 * (P_100 - P0) ** (-s / r)) ** (-r / s)\n",
    "    Am = 1 + ((P_100 - P0) / (P_h - P0)) ** (-s / r)\n",
    "    \n",
    "    A = Am / (1 + ((P - P0) / (P_h - P0)) ** (-s / r))\n",
    "    \n",
    "    return A"
   ]
  },
  {
   "cell_type": "code",
   "execution_count": 5,
   "id": "2ede457f",
   "metadata": {},
   "outputs": [],
   "source": [
    "# ## Nick's function to get SSP emissions data (use to get historical data to 2019)\n",
    "\n",
    "# def get_ssp_emissions(ssp, end_year = 2019):\n",
    "    \n",
    "#     emms = RCMIP_to_FaIR_input_emms(ssp).interpolate().loc[1750:end_year]\n",
    "\n",
    "#     ## rebase emission-driven forcings & species with natural emissions included in RCMIP to zero @ 1750\n",
    "#     rebase_species = ['so2','nox','co','nmvoc','bc','nh3','oc','nox_avi','methyl_bromide','methyl_chloride','chcl3','ch2cl2']\n",
    "#     emms.loc[:,rebase_species] -= emms.loc[1750,rebase_species]\n",
    "    \n",
    "#     return emms"
   ]
  },
  {
   "cell_type": "code",
   "execution_count": 6,
   "id": "26ce409f",
   "metadata": {},
   "outputs": [],
   "source": [
    "## calculate emissions from forecasted abatement and CO2 baseline\n",
    "\n",
    "def abatement_to_emissions(forecasted_abatement, CO2_baseline):\n",
    "    CO2_emissions = CO2_baseline*(1-forecasted_abatement)\n",
    "    \n",
    "    return CO2_emissions"
   ]
  },
  {
   "cell_type": "markdown",
   "id": "4bb1c315",
   "metadata": {},
   "source": [
    "# Steps outlined in Email"
   ]
  },
  {
   "cell_type": "markdown",
   "id": "9e286a49",
   "metadata": {},
   "source": [
    "## 1. Create Unperturbed Temperature Profile"
   ]
  },
  {
   "cell_type": "code",
   "execution_count": 7,
   "id": "d3bc2acf",
   "metadata": {},
   "outputs": [],
   "source": [
    "# get historical data (taken from chrisroadmap)\n",
    "\n",
    "T_gas_df = pd.read_csv(\"T_gas.csv\", index_col=0)\n",
    "\n",
    "T_2019 = T_gas_df['CO2_best'][2019]"
   ]
  },
  {
   "cell_type": "code",
   "execution_count": 8,
   "id": "a1096d77",
   "metadata": {},
   "outputs": [],
   "source": [
    "start_year = 1750\n",
    "last_historical_year = 2019\n",
    "end_year = 2500\n",
    "\n",
    "years = np.arange(start_year, end_year+1)\n",
    "T_forecast_years = np.arange(last_historical_year, end_year+1)\n",
    "T_forecast_length = end_year - last_historical_year + 1"
   ]
  },
  {
   "cell_type": "code",
   "execution_count": 9,
   "id": "da772f99",
   "metadata": {},
   "outputs": [],
   "source": [
    "delta_T = 2\n",
    "alpha = 0.02\n",
    "T_forecast = T_2019 + delta_T * (1 - np.exp(-alpha*np.arange(T_forecast_length)))"
   ]
  },
  {
   "cell_type": "code",
   "execution_count": 10,
   "id": "9d69f693",
   "metadata": {},
   "outputs": [],
   "source": [
    "T = np.concatenate([T_gas_df['CO2_best'],T_forecast[1:]])"
   ]
  },
  {
   "cell_type": "code",
   "execution_count": 11,
   "id": "8d7f6882",
   "metadata": {
    "scrolled": true
   },
   "outputs": [
    {
     "data": {
      "text/plain": [
       "<matplotlib.legend.Legend at 0x7fb8e526da00>"
      ]
     },
     "execution_count": 11,
     "metadata": {},
     "output_type": "execute_result"
    },
    {
     "data": {
      "image/png": "[encoded data removed]",
      "text/plain": [
       "<Figure size 432x288 with 1 Axes>"
      ]
     },
     "metadata": {},
     "output_type": "display_data"
    }
   ],
   "source": [
    "plt.plot(T_gas_df['CO2_best'], label=\"historical\")\n",
    "plt.plot(T_forecast_years, T_forecast, label=\"projected\")\n",
    "plt.xlabel(\"Year\")\n",
    "plt.ylabel(\"Attributed temperature change relative to 1750\")\n",
    "plt.legend()"
   ]
  },
  {
   "cell_type": "markdown",
   "id": "ead91d1f",
   "metadata": {},
   "source": [
    "## Total Consumption"
   ]
  },
  {
   "cell_type": "code",
   "execution_count": 12,
   "id": "adbba940",
   "metadata": {},
   "outputs": [],
   "source": [
    "consumption_growth = 0.02\n",
    "W0 = 80\n",
    "\n",
    "W = []\n",
    "\n",
    "# for i in range(len(years)):\n",
    "#     W.append(W0*consumption_growth**(i-(last_historical_year - start_year)))\n",
    "    \n",
    "for i in range(len(years)):\n",
    "    W.append(W0*np.exp(consumption_growth*(i-(last_historical_year - start_year))))\n",
    "\n",
    "W = np.asarray(W)"
   ]
  },
  {
   "cell_type": "code",
   "execution_count": 13,
   "id": "95906ae2",
   "metadata": {},
   "outputs": [
    {
     "data": {
      "text/plain": [
       "(0.0, 400.0)"
      ]
     },
     "execution_count": 13,
     "metadata": {},
     "output_type": "execute_result"
    },
    {
     "data": {
      "image/png": "[encoded data removed]",
      "text/plain": [
       "<Figure size 432x288 with 1 Axes>"
      ]
     },
     "metadata": {},
     "output_type": "display_data"
    }
   ],
   "source": [
    "plt.plot(years, W)\n",
    "plt.xlabel(\"Year\")\n",
    "plt.ylabel(\"Absolute Consumption ($trillion/year)\")\n",
    "plt.xlim(2000, 2100)\n",
    "plt.ylim(0, 400)"
   ]
  },
  {
   "cell_type": "markdown",
   "id": "152831a9",
   "metadata": {},
   "source": [
    "alternative functional form for above for the fast transition"
   ]
  },
  {
   "cell_type": "markdown",
   "id": "b0e49485",
   "metadata": {},
   "source": [
    "## 2. Calculate SCC as a function of time for a range of years"
   ]
  },
  {
   "cell_type": "code",
   "execution_count": 14,
   "id": "916e795f",
   "metadata": {},
   "outputs": [],
   "source": [
    "## years to calculate SCC\n",
    "first_perturbed_year = last_historical_year\n",
    "last_perturbed_year = 2200\n",
    "year_of_perturbation = np.arange(first_perturbed_year, last_perturbed_year+1)\n",
    "\n",
    "# consumption_discount = 0.035\n",
    "consumption_discount = consumption_growth + 0.015\n",
    "\n",
    "SCC_list = []\n",
    "\n",
    "for j in range(len(year_of_perturbation)):\n",
    "    ## define perturbed temperature profile for a given year\n",
    "    T_TCRE = 0.00054  # need to check this for FAIR!\n",
    "    k_s = 0.12\n",
    "\n",
    "    T_p = np.zeros(T_forecast_length)\n",
    "    for i in range(len(T_forecast_years)):\n",
    "        if year_of_perturbation[j] <= T_forecast_years[i]:\n",
    "            T_p[i] = T_TCRE*(1-np.exp(-k_s*(T_forecast_years[i]-year_of_perturbation[j])))\n",
    "    T_forecast_perturbed = T_forecast+T_p\n",
    "    T_perturbed = np.concatenate([T_gas_df['CO2_best'],T_forecast_perturbed[1:]])\n",
    "\n",
    "    ## define discount function\n",
    "    num_of_years = len(years)\n",
    "    discount_function = np.zeros(num_of_years)\n",
    "\n",
    "    for i in range(num_of_years):\n",
    "        if years[i] >= year_of_perturbation[j]:\n",
    "            discount_function[i] = np.exp(-consumption_discount*(years[i]-year_of_perturbation[j]))\n",
    "    \n",
    "    ## calculate SCC\n",
    "    cost = cost_of_perturbation(T=T, T_perturb=T_perturbed, W=W, discount_function=discount_function)\n",
    "    SCC = cost/(10**9)\n",
    "    SCC_list.append(SCC)"
   ]
  },
  {
   "cell_type": "code",
   "execution_count": 15,
   "id": "e06f34f8",
   "metadata": {},
   "outputs": [],
   "source": [
    "SCC_array = np.asarray(SCC_list)  # convert to numpy array"
   ]
  },
  {
   "cell_type": "code",
   "execution_count": 16,
   "id": "17a234fe",
   "metadata": {},
   "outputs": [
    {
     "data": {
      "text/plain": [
       "array([  30.95754246,   31.7933376 ,   32.63598364,   33.50622536,\n",
       "         34.38284496,   35.28893625,   36.200913  ,   37.14431394,\n",
       "         38.09308769,   39.07531768,   40.06238683,   41.08502709,\n",
       "         42.11195093,   43.17664693,   44.24504814,   45.35351225,\n",
       "         46.46507945,   47.61909364,   48.77558407,   49.97700271,\n",
       "         51.18024501,   52.43099782,   53.68289491,   54.98499002,\n",
       "         56.28752211,   57.64304923,   58.99827694,   60.40941064,\n",
       "         61.8194783 ,   63.28848145,   64.75562041,   66.28484779,\n",
       "         67.81138   ,   69.40328196,   70.99162361,   72.64874998,\n",
       "         74.30141528,   76.02641937,   77.74602458,   79.54166735,\n",
       "         81.33093483,   83.20008926,   85.0618518 ,   87.00750741,\n",
       "         88.94471265,   90.96998019,   92.9856953 ,   95.09381166,\n",
       "         97.1912281 ,   99.3855614 ,  101.56799999,  103.85205483,\n",
       "        106.12297093,  108.50039394,  110.86338289,  113.33796845,\n",
       "        115.79677117,  118.37246732,  120.93097621,  123.61189089,\n",
       "        126.2741559 ,  129.06456335,  131.83479833,  134.73914577,\n",
       "        137.62173506,  140.64464969,  143.64415495,  146.79045114,\n",
       "        149.91161849,  153.18630532,  156.43407273,  159.84236182,\n",
       "        163.22186681,  166.76918041,  170.28576808,  173.97774754,\n",
       "        177.63697885,  181.47949341,  185.28715383,  189.28630975,\n",
       "        193.24841826,  197.4105683 ,  201.53338672,  205.86514   ,\n",
       "        210.15518272,  214.66341498,  219.12745902,  223.8193233 ,\n",
       "        228.46441881,  233.34735647,  238.18083764,  243.26258991,\n",
       "        248.29208627,  253.58070621,  258.8141544 ,  264.31801932,\n",
       "        269.76367532,  275.49149968,  281.15795153,  287.11880038,\n",
       "        293.01498134,  299.21828423,  305.35348652,  311.80905203,\n",
       "        318.19294105,  324.9109718 ,  331.55360094,  338.5447092 ,\n",
       "        345.4565352 ,  352.73175918,  359.92365807,  367.49447873,\n",
       "        374.97776243,  382.85612103,  390.64255454,  398.84087078,\n",
       "        406.94269006,  415.47388101,  423.90381153,  432.7813112 ,\n",
       "        441.5525872 ,  450.79036693,  459.91675142,  469.52934099,\n",
       "        479.02514653,  489.0276561 ,  498.9077663 ,  509.31590922,\n",
       "        519.59580114,  530.42591753,  541.12168487,  552.39076621,\n",
       "        563.5191434 ,  575.24485793,  586.82324508,  599.02396427,\n",
       "        611.07045313,  623.76527902,  636.29867986,  649.50747355,\n",
       "        662.54734299,  676.29075409,  689.85742411,  704.15692131,\n",
       "        718.27152915,  733.149432  ,  747.8339513 ,  763.31346303,\n",
       "        778.59073605,  794.69597768,  810.58974871,  827.34579441,\n",
       "        843.88074438,  861.31365809,  878.51544048,  896.65231386,\n",
       "        914.54759184,  933.41658365,  952.03306858,  971.66344539,\n",
       "        991.02993675, 1011.45211515, 1031.59854181, 1052.84413214,\n",
       "       1073.8015951 , 1095.90344675, 1117.70426345, 1140.69651167,\n",
       "       1163.37426175, 1187.29237619, 1210.88194895, 1235.76278387,\n",
       "       1260.30042726, 1286.18227344, 1311.70564482, 1338.62828332,\n",
       "       1365.17650189, 1393.18125962, 1420.79496062, 1449.92476778,\n",
       "       1478.64615858, 1508.94560806])"
      ]
     },
     "execution_count": 16,
     "metadata": {},
     "output_type": "execute_result"
    }
   ],
   "source": [
    "SCC_array"
   ]
  },
  {
   "cell_type": "code",
   "execution_count": 17,
   "id": "824dda4d",
   "metadata": {},
   "outputs": [
    {
     "data": {
      "text/plain": [
       "Text(0, 0.5, 'SCC ($)')"
      ]
     },
     "execution_count": 17,
     "metadata": {},
     "output_type": "execute_result"
    },
    {
     "data": {
      "image/png": "[encoded data removed]",
      "text/plain": [
       "<Figure size 432x288 with 1 Axes>"
      ]
     },
     "metadata": {},
     "output_type": "display_data"
    }
   ],
   "source": [
    "plt.plot(year_of_perturbation, SCC_array)\n",
    "plt.xlabel(\"Year\")\n",
    "plt.ylabel(\"SCC ($)\")"
   ]
  },
  {
   "cell_type": "markdown",
   "id": "4527dfe3",
   "metadata": {},
   "source": [
    "### Check 100% abatement has been achieved!"
   ]
  },
  {
   "cell_type": "code",
   "execution_count": 18,
   "id": "2afc6578",
   "metadata": {},
   "outputs": [],
   "source": [
    "if SCC_array[-1] < P_100:\n",
    "    print(\"P_100 not achieved by achieved by final perturbed year\")"
   ]
  },
  {
   "cell_type": "markdown",
   "id": "43df3ec9",
   "metadata": {},
   "source": [
    "### Fit SCC line to forecast"
   ]
  },
  {
   "cell_type": "code",
   "execution_count": 19,
   "id": "275ac1de",
   "metadata": {},
   "outputs": [],
   "source": [
    "# plt.plot(year_of_perturbation, SCC_array)\n",
    "# plt.xlabel(\"Year\")\n",
    "# plt.ylabel(\"SCC ($)\")\n",
    "# plt.yscale(\"log\")"
   ]
  },
  {
   "cell_type": "code",
   "execution_count": 20,
   "id": "244421d9",
   "metadata": {},
   "outputs": [],
   "source": [
    "# log_SCC = np.log(SCC_array)"
   ]
  },
  {
   "cell_type": "code",
   "execution_count": 21,
   "id": "fc615b64",
   "metadata": {},
   "outputs": [],
   "source": [
    "# ## add linear fit\n",
    "# X = sm.add_constant(year_of_perturbation) # add a constant to fit\n",
    "# results = sm.OLS(log_SCC, X).fit() # save results of fit"
   ]
  },
  {
   "cell_type": "code",
   "execution_count": 22,
   "id": "aae9a79e",
   "metadata": {},
   "outputs": [],
   "source": [
    "# #Plot with Fit & Summary \n",
    "# plt.plot(year_of_perturbation, log_SCC)\n",
    "# plt.plot(year_of_perturbation, results.params[0]+results.params[1]*year_of_perturbation, 'r' , label='fitted_line')\n",
    "# plt.xlabel(\"Year\")\n",
    "# plt.ylabel(\"ln(SCC)\")"
   ]
  },
  {
   "cell_type": "code",
   "execution_count": 23,
   "id": "0e7ad256",
   "metadata": {},
   "outputs": [],
   "source": [
    "# SCC_forecasted = np.exp(results.params[0]+results.params[1]*T_forecast_years)"
   ]
  },
  {
   "cell_type": "code",
   "execution_count": 24,
   "id": "099b7b14",
   "metadata": {},
   "outputs": [
    {
     "data": {
      "text/plain": [
       "482"
      ]
     },
     "execution_count": 24,
     "metadata": {},
     "output_type": "execute_result"
    }
   ],
   "source": [
    "T_forecast_length"
   ]
  },
  {
   "cell_type": "code",
   "execution_count": 25,
   "id": "8926e6b1",
   "metadata": {},
   "outputs": [],
   "source": [
    "SCC_forecasted = []\n",
    "\n",
    "for i in range(T_forecast_length):\n",
    "    if i < len(year_of_perturbation):\n",
    "        SCC_forecasted.append(SCC_array[i])\n",
    "    else:\n",
    "        SCC_forecasted.append(SCC_array[-1])\n",
    "\n",
    "SCC_forecasted = np.array(SCC_forecasted)"
   ]
  },
  {
   "cell_type": "code",
   "execution_count": 26,
   "id": "ae6b677a",
   "metadata": {},
   "outputs": [
    {
     "data": {
      "text/plain": [
       "array([  30.95754246,   31.7933376 ,   32.63598364,   33.50622536,\n",
       "         34.38284496,   35.28893625,   36.200913  ,   37.14431394,\n",
       "         38.09308769,   39.07531768,   40.06238683,   41.08502709,\n",
       "         42.11195093,   43.17664693,   44.24504814,   45.35351225,\n",
       "         46.46507945,   47.61909364,   48.77558407,   49.97700271,\n",
       "         51.18024501,   52.43099782,   53.68289491,   54.98499002,\n",
       "         56.28752211,   57.64304923,   58.99827694,   60.40941064,\n",
       "         61.8194783 ,   63.28848145,   64.75562041,   66.28484779,\n",
       "         67.81138   ,   69.40328196,   70.99162361,   72.64874998,\n",
       "         74.30141528,   76.02641937,   77.74602458,   79.54166735,\n",
       "         81.33093483,   83.20008926,   85.0618518 ,   87.00750741,\n",
       "         88.94471265,   90.96998019,   92.9856953 ,   95.09381166,\n",
       "         97.1912281 ,   99.3855614 ,  101.56799999,  103.85205483,\n",
       "        106.12297093,  108.50039394,  110.86338289,  113.33796845,\n",
       "        115.79677117,  118.37246732,  120.93097621,  123.61189089,\n",
       "        126.2741559 ,  129.06456335,  131.83479833,  134.73914577,\n",
       "        137.62173506,  140.64464969,  143.64415495,  146.79045114,\n",
       "        149.91161849,  153.18630532,  156.43407273,  159.84236182,\n",
       "        163.22186681,  166.76918041,  170.28576808,  173.97774754,\n",
       "        177.63697885,  181.47949341,  185.28715383,  189.28630975,\n",
       "        193.24841826,  197.4105683 ,  201.53338672,  205.86514   ,\n",
       "        210.15518272,  214.66341498,  219.12745902,  223.8193233 ,\n",
       "        228.46441881,  233.34735647,  238.18083764,  243.26258991,\n",
       "        248.29208627,  253.58070621,  258.8141544 ,  264.31801932,\n",
       "        269.76367532,  275.49149968,  281.15795153,  287.11880038,\n",
       "        293.01498134,  299.21828423,  305.35348652,  311.80905203,\n",
       "        318.19294105,  324.9109718 ,  331.55360094,  338.5447092 ,\n",
       "        345.4565352 ,  352.73175918,  359.92365807,  367.49447873,\n",
       "        374.97776243,  382.85612103,  390.64255454,  398.84087078,\n",
       "        406.94269006,  415.47388101,  423.90381153,  432.7813112 ,\n",
       "        441.5525872 ,  450.79036693,  459.91675142,  469.52934099,\n",
       "        479.02514653,  489.0276561 ,  498.9077663 ,  509.31590922,\n",
       "        519.59580114,  530.42591753,  541.12168487,  552.39076621,\n",
       "        563.5191434 ,  575.24485793,  586.82324508,  599.02396427,\n",
       "        611.07045313,  623.76527902,  636.29867986,  649.50747355,\n",
       "        662.54734299,  676.29075409,  689.85742411,  704.15692131,\n",
       "        718.27152915,  733.149432  ,  747.8339513 ,  763.31346303,\n",
       "        778.59073605,  794.69597768,  810.58974871,  827.34579441,\n",
       "        843.88074438,  861.31365809,  878.51544048,  896.65231386,\n",
       "        914.54759184,  933.41658365,  952.03306858,  971.66344539,\n",
       "        991.02993675, 1011.45211515, 1031.59854181, 1052.84413214,\n",
       "       1073.8015951 , 1095.90344675, 1117.70426345, 1140.69651167,\n",
       "       1163.37426175, 1187.29237619, 1210.88194895, 1235.76278387,\n",
       "       1260.30042726, 1286.18227344, 1311.70564482, 1338.62828332,\n",
       "       1365.17650189, 1393.18125962, 1420.79496062, 1449.92476778,\n",
       "       1478.64615858, 1508.94560806, 1508.94560806, 1508.94560806,\n",
       "       1508.94560806, 1508.94560806, 1508.94560806, 1508.94560806,\n",
       "       1508.94560806, 1508.94560806, 1508.94560806, 1508.94560806,\n",
       "       1508.94560806, 1508.94560806, 1508.94560806, 1508.94560806,\n",
       "       1508.94560806, 1508.94560806, 1508.94560806, 1508.94560806,\n",
       "       1508.94560806, 1508.94560806, 1508.94560806, 1508.94560806,\n",
       "       1508.94560806, 1508.94560806, 1508.94560806, 1508.94560806,\n",
       "       1508.94560806, 1508.94560806, 1508.94560806, 1508.94560806,\n",
       "       1508.94560806, 1508.94560806, 1508.94560806, 1508.94560806,\n",
       "       1508.94560806, 1508.94560806, 1508.94560806, 1508.94560806,\n",
       "       1508.94560806, 1508.94560806, 1508.94560806, 1508.94560806,\n",
       "       1508.94560806, 1508.94560806, 1508.94560806, 1508.94560806,\n",
       "       1508.94560806, 1508.94560806, 1508.94560806, 1508.94560806,\n",
       "       1508.94560806, 1508.94560806, 1508.94560806, 1508.94560806,\n",
       "       1508.94560806, 1508.94560806, 1508.94560806, 1508.94560806,\n",
       "       1508.94560806, 1508.94560806, 1508.94560806, 1508.94560806,\n",
       "       1508.94560806, 1508.94560806, 1508.94560806, 1508.94560806,\n",
       "       1508.94560806, 1508.94560806, 1508.94560806, 1508.94560806,\n",
       "       1508.94560806, 1508.94560806, 1508.94560806, 1508.94560806,\n",
       "       1508.94560806, 1508.94560806, 1508.94560806, 1508.94560806,\n",
       "       1508.94560806, 1508.94560806, 1508.94560806, 1508.94560806,\n",
       "       1508.94560806, 1508.94560806, 1508.94560806, 1508.94560806,\n",
       "       1508.94560806, 1508.94560806, 1508.94560806, 1508.94560806,\n",
       "       1508.94560806, 1508.94560806, 1508.94560806, 1508.94560806,\n",
       "       1508.94560806, 1508.94560806, 1508.94560806, 1508.94560806,\n",
       "       1508.94560806, 1508.94560806, 1508.94560806, 1508.94560806,\n",
       "       1508.94560806, 1508.94560806, 1508.94560806, 1508.94560806,\n",
       "       1508.94560806, 1508.94560806, 1508.94560806, 1508.94560806,\n",
       "       1508.94560806, 1508.94560806, 1508.94560806, 1508.94560806,\n",
       "       1508.94560806, 1508.94560806, 1508.94560806, 1508.94560806,\n",
       "       1508.94560806, 1508.94560806, 1508.94560806, 1508.94560806,\n",
       "       1508.94560806, 1508.94560806, 1508.94560806, 1508.94560806,\n",
       "       1508.94560806, 1508.94560806, 1508.94560806, 1508.94560806,\n",
       "       1508.94560806, 1508.94560806, 1508.94560806, 1508.94560806,\n",
       "       1508.94560806, 1508.94560806, 1508.94560806, 1508.94560806,\n",
       "       1508.94560806, 1508.94560806, 1508.94560806, 1508.94560806,\n",
       "       1508.94560806, 1508.94560806, 1508.94560806, 1508.94560806,\n",
       "       1508.94560806, 1508.94560806, 1508.94560806, 1508.94560806,\n",
       "       1508.94560806, 1508.94560806, 1508.94560806, 1508.94560806,\n",
       "       1508.94560806, 1508.94560806, 1508.94560806, 1508.94560806,\n",
       "       1508.94560806, 1508.94560806, 1508.94560806, 1508.94560806,\n",
       "       1508.94560806, 1508.94560806, 1508.94560806, 1508.94560806,\n",
       "       1508.94560806, 1508.94560806, 1508.94560806, 1508.94560806,\n",
       "       1508.94560806, 1508.94560806, 1508.94560806, 1508.94560806,\n",
       "       1508.94560806, 1508.94560806, 1508.94560806, 1508.94560806,\n",
       "       1508.94560806, 1508.94560806, 1508.94560806, 1508.94560806,\n",
       "       1508.94560806, 1508.94560806, 1508.94560806, 1508.94560806,\n",
       "       1508.94560806, 1508.94560806, 1508.94560806, 1508.94560806,\n",
       "       1508.94560806, 1508.94560806, 1508.94560806, 1508.94560806,\n",
       "       1508.94560806, 1508.94560806, 1508.94560806, 1508.94560806,\n",
       "       1508.94560806, 1508.94560806, 1508.94560806, 1508.94560806,\n",
       "       1508.94560806, 1508.94560806, 1508.94560806, 1508.94560806,\n",
       "       1508.94560806, 1508.94560806, 1508.94560806, 1508.94560806,\n",
       "       1508.94560806, 1508.94560806, 1508.94560806, 1508.94560806,\n",
       "       1508.94560806, 1508.94560806, 1508.94560806, 1508.94560806,\n",
       "       1508.94560806, 1508.94560806, 1508.94560806, 1508.94560806,\n",
       "       1508.94560806, 1508.94560806, 1508.94560806, 1508.94560806,\n",
       "       1508.94560806, 1508.94560806, 1508.94560806, 1508.94560806,\n",
       "       1508.94560806, 1508.94560806, 1508.94560806, 1508.94560806,\n",
       "       1508.94560806, 1508.94560806, 1508.94560806, 1508.94560806,\n",
       "       1508.94560806, 1508.94560806, 1508.94560806, 1508.94560806,\n",
       "       1508.94560806, 1508.94560806, 1508.94560806, 1508.94560806,\n",
       "       1508.94560806, 1508.94560806, 1508.94560806, 1508.94560806,\n",
       "       1508.94560806, 1508.94560806, 1508.94560806, 1508.94560806,\n",
       "       1508.94560806, 1508.94560806, 1508.94560806, 1508.94560806,\n",
       "       1508.94560806, 1508.94560806, 1508.94560806, 1508.94560806,\n",
       "       1508.94560806, 1508.94560806, 1508.94560806, 1508.94560806,\n",
       "       1508.94560806, 1508.94560806, 1508.94560806, 1508.94560806,\n",
       "       1508.94560806, 1508.94560806, 1508.94560806, 1508.94560806,\n",
       "       1508.94560806, 1508.94560806, 1508.94560806, 1508.94560806,\n",
       "       1508.94560806, 1508.94560806, 1508.94560806, 1508.94560806,\n",
       "       1508.94560806, 1508.94560806, 1508.94560806, 1508.94560806,\n",
       "       1508.94560806, 1508.94560806, 1508.94560806, 1508.94560806,\n",
       "       1508.94560806, 1508.94560806, 1508.94560806, 1508.94560806,\n",
       "       1508.94560806, 1508.94560806, 1508.94560806, 1508.94560806,\n",
       "       1508.94560806, 1508.94560806])"
      ]
     },
     "execution_count": 26,
     "metadata": {},
     "output_type": "execute_result"
    }
   ],
   "source": [
    "SCC_forecasted"
   ]
  },
  {
   "cell_type": "code",
   "execution_count": 27,
   "id": "ef9dcd63",
   "metadata": {},
   "outputs": [
    {
     "data": {
      "image/png": "[encoded data removed]",
      "text/plain": [
       "<Figure size 432x288 with 1 Axes>"
      ]
     },
     "metadata": {},
     "output_type": "display_data"
    }
   ],
   "source": [
    "plt.plot(T_forecast_years, SCC_forecasted)\n",
    "plt.xlabel(\"Year\")\n",
    "plt.ylabel(\"SCC ($)\")\n",
    "plt.yscale(\"log\")"
   ]
  },
  {
   "cell_type": "markdown",
   "id": "b85d4a61",
   "metadata": {},
   "source": [
    "## 3. Abatement as a function of time"
   ]
  },
  {
   "cell_type": "code",
   "execution_count": 28,
   "id": "a598428e",
   "metadata": {},
   "outputs": [],
   "source": [
    "P0 = SCC_forecasted[0]"
   ]
  },
  {
   "cell_type": "code",
   "execution_count": 29,
   "id": "b90c019f",
   "metadata": {
    "scrolled": true
   },
   "outputs": [
    {
     "name": "stderr",
     "output_type": "stream",
     "text": [
      "/var/folders/m4/mbpwp5q15070t8lqj4fj7mjr0000gn/T/ipykernel_84925/3748283578.py:33: RuntimeWarning: divide by zero encountered in power\n",
      "  A = Am / (1 + ((P - P0) / (P_h - P0)) ** (-s / r))\n"
     ]
    }
   ],
   "source": [
    "forecasted_abatement = abatement(P=SCC_forecasted, P0=P0)  # , r=consumption_discount"
   ]
  },
  {
   "cell_type": "markdown",
   "id": "ce23d485",
   "metadata": {},
   "source": [
    "problems with certain values due to constraints of the model"
   ]
  },
  {
   "cell_type": "code",
   "execution_count": 30,
   "id": "ee6144a3",
   "metadata": {
    "scrolled": true
   },
   "outputs": [],
   "source": [
    "# abatement(P=np.array([50]), P0=P0, r=consumption_discount, P_100=200)"
   ]
  },
  {
   "cell_type": "code",
   "execution_count": 31,
   "id": "ad9ae8c7",
   "metadata": {},
   "outputs": [],
   "source": [
    "# P0"
   ]
  },
  {
   "cell_type": "code",
   "execution_count": 32,
   "id": "13ad0aee",
   "metadata": {},
   "outputs": [],
   "source": [
    "# r=0.04\n",
    "# s=0.029687500000000006\n",
    "# (P_50 - P0) ** (-s / r) - 2 * (P_100 - P0) ** (-s / r)"
   ]
  },
  {
   "cell_type": "code",
   "execution_count": 33,
   "id": "54d9db47",
   "metadata": {},
   "outputs": [],
   "source": [
    "# ((P_50 - P0) ** (-s / r) - 2 * (P_100 - P0) ** (-s / r)) ** (-r / s)"
   ]
  },
  {
   "cell_type": "code",
   "execution_count": null,
   "id": "aa2c7a0f",
   "metadata": {},
   "outputs": [],
   "source": []
  },
  {
   "cell_type": "code",
   "execution_count": 34,
   "id": "7a45a7c4",
   "metadata": {},
   "outputs": [
    {
     "data": {
      "text/plain": [
       "2200"
      ]
     },
     "execution_count": 34,
     "metadata": {},
     "output_type": "execute_result"
    }
   ],
   "source": [
    "T_forecast_years[last_perturbed_year - 2019]"
   ]
  },
  {
   "cell_type": "code",
   "execution_count": 35,
   "id": "832b66da",
   "metadata": {},
   "outputs": [
    {
     "data": {
      "text/plain": [
       "1.0827512776750639"
      ]
     },
     "execution_count": 35,
     "metadata": {},
     "output_type": "execute_result"
    }
   ],
   "source": [
    "forecasted_abatement[last_perturbed_year - 2019]"
   ]
  },
  {
   "cell_type": "code",
   "execution_count": 36,
   "id": "74f04839",
   "metadata": {},
   "outputs": [
    {
     "data": {
      "text/plain": [
       "Text(0, 0.5, 'Abatement')"
      ]
     },
     "execution_count": 36,
     "metadata": {},
     "output_type": "execute_result"
    },
    {
     "data": {
      "image/png": "[encoded data removed]",
      "text/plain": [
       "<Figure size 432x288 with 1 Axes>"
      ]
     },
     "metadata": {},
     "output_type": "display_data"
    }
   ],
   "source": [
    "plt.plot(T_forecast_years, forecasted_abatement)\n",
    "plt.xlabel(\"Year\")\n",
    "plt.ylabel(\"Abatement\")"
   ]
  },
  {
   "cell_type": "markdown",
   "id": "351acbf6",
   "metadata": {},
   "source": [
    "## 4. Abatement to emissions"
   ]
  },
  {
   "cell_type": "code",
   "execution_count": 37,
   "id": "d50edac1",
   "metadata": {},
   "outputs": [],
   "source": [
    "# # choose ssp to use\n",
    "# ssp='ssp245'\n",
    "\n",
    "# # get emissions data using imported scripts + convert into FaIRv2.0.0-alpha multiindex format\n",
    "# ssp_emms = pd.concat([get_ssp_emissions(ssp)],axis=1,keys=[ssp])"
   ]
  },
  {
   "cell_type": "code",
   "execution_count": 38,
   "id": "cab40b26",
   "metadata": {},
   "outputs": [],
   "source": [
    "# ssp_emms[\"ssp245\"].to_csv(\"ssp245.csv\")"
   ]
  },
  {
   "cell_type": "code",
   "execution_count": 39,
   "id": "fc4b70e0",
   "metadata": {},
   "outputs": [],
   "source": [
    "ssp_df = pd.read_csv(\"ssp245.csv\", index_col=0)"
   ]
  },
  {
   "cell_type": "code",
   "execution_count": 40,
   "id": "d35c6e25",
   "metadata": {},
   "outputs": [],
   "source": [
    "# ssp245_CO2_past = ssp_emms[\"ssp245\"][\"carbon_dioxide\"]*(44/12)  "
   ]
  },
  {
   "cell_type": "code",
   "execution_count": 41,
   "id": "9931f49d",
   "metadata": {},
   "outputs": [],
   "source": [
    "ssp245_CO2_past = ssp_df[\"carbon_dioxide\"]*(44/12)  "
   ]
  },
  {
   "cell_type": "code",
   "execution_count": 42,
   "id": "517f8ae9",
   "metadata": {},
   "outputs": [],
   "source": [
    "CO2_baseline = ssp245_CO2_past[2019] # set baseline to current emissions"
   ]
  },
  {
   "cell_type": "code",
   "execution_count": 43,
   "id": "d5b39b78",
   "metadata": {},
   "outputs": [],
   "source": [
    "forecasted_emissions = abatement_to_emissions(forecasted_abatement, CO2_baseline)"
   ]
  },
  {
   "cell_type": "code",
   "execution_count": 44,
   "id": "3836f4ce",
   "metadata": {},
   "outputs": [
    {
     "data": {
      "text/plain": [
       "<matplotlib.legend.Legend at 0x7fb8e57a8c70>"
      ]
     },
     "execution_count": 44,
     "metadata": {},
     "output_type": "execute_result"
    },
    {
     "data": {
      "image/png": "[encoded data removed]",
      "text/plain": [
       "<Figure size 432x288 with 1 Axes>"
      ]
     },
     "metadata": {},
     "output_type": "display_data"
    }
   ],
   "source": [
    "plt.plot(ssp245_CO2_past, label=\"historical emissions\")\n",
    "plt.plot(T_forecast_years, forecasted_emissions, label=\"forecasted emissions\")\n",
    "plt.xlabel(\"Year\")\n",
    "plt.ylabel(\"CO2 Emissions / GtCO2\")\n",
    "plt.legend()"
   ]
  },
  {
   "cell_type": "markdown",
   "id": "3a514bf1",
   "metadata": {},
   "source": [
    "## 5. Cumulative Emissions to Temperature Change"
   ]
  },
  {
   "cell_type": "code",
   "execution_count": 45,
   "id": "73bf2aa6",
   "metadata": {},
   "outputs": [],
   "source": [
    "cumulative_emissions_array = np.append(np.zeros(1), np.cumsum(forecasted_emissions)[:-1])"
   ]
  },
  {
   "cell_type": "code",
   "execution_count": 46,
   "id": "fd92bad9",
   "metadata": {},
   "outputs": [],
   "source": [
    "# cumulative_emissions"
   ]
  },
  {
   "cell_type": "code",
   "execution_count": 47,
   "id": "312af8b5",
   "metadata": {},
   "outputs": [],
   "source": [
    "# len(cumulative_emissions)"
   ]
  },
  {
   "cell_type": "code",
   "execution_count": 48,
   "id": "ab8dc657",
   "metadata": {},
   "outputs": [],
   "source": [
    "# cumulative_emissions = []\n",
    "\n",
    "# for i in range(len(T_forecast_years)):\n",
    "#     area = simps(forecasted_emissions[:i+1], dx=1)\n",
    "#     cumulative_emissions.append(area)"
   ]
  },
  {
   "cell_type": "code",
   "execution_count": 49,
   "id": "2d272b2b",
   "metadata": {},
   "outputs": [],
   "source": [
    "# cumulative_emissions_array = np.asarray(cumulative_emissions)"
   ]
  },
  {
   "cell_type": "code",
   "execution_count": 50,
   "id": "0ea3fb64",
   "metadata": {},
   "outputs": [],
   "source": [
    "temperature_change = T_TCRE*cumulative_emissions_array"
   ]
  },
  {
   "cell_type": "code",
   "execution_count": 51,
   "id": "1bc01e55",
   "metadata": {},
   "outputs": [],
   "source": [
    "temperature_change_plateau = np.array(temperature_change, copy=True)\n",
    "\n",
    "for i in range(len(temperature_change_plateau)):\n",
    "    if i > np.argmax(temperature_change_plateau):\n",
    "        temperature_change_plateau[i] = max(temperature_change_plateau)"
   ]
  },
  {
   "cell_type": "code",
   "execution_count": 52,
   "id": "6fd34d07",
   "metadata": {},
   "outputs": [
    {
     "data": {
      "text/plain": [
       "1.1655260211430356"
      ]
     },
     "execution_count": 52,
     "metadata": {},
     "output_type": "execute_result"
    }
   ],
   "source": [
    "max(temperature_change)"
   ]
  },
  {
   "cell_type": "code",
   "execution_count": 53,
   "id": "098a473c",
   "metadata": {},
   "outputs": [],
   "source": [
    "T_forecast_iteration0 = T_2019 + temperature_change\n",
    "T_forecast_iteration0_plateau = T_2019 + temperature_change_plateau"
   ]
  },
  {
   "cell_type": "code",
   "execution_count": 54,
   "id": "2d4905dc",
   "metadata": {},
   "outputs": [
    {
     "data": {
      "text/plain": [
       "<matplotlib.legend.Legend at 0x7fb8e57e5c70>"
      ]
     },
     "execution_count": 54,
     "metadata": {},
     "output_type": "execute_result"
    },
    {
     "data": {
      "image/png": "[encoded data removed]",
      "text/plain": [
       "<Figure size 432x288 with 1 Axes>"
      ]
     },
     "metadata": {},
     "output_type": "display_data"
    }
   ],
   "source": [
    "plt.plot(T_forecast_years, T_forecast, label=\"initial guess\")\n",
    "plt.plot(T_forecast_years, T_forecast_iteration0, label=\"iteration 0\")\n",
    "plt.plot(T_forecast_years, T_forecast_iteration0_plateau, label=\"iteration 0 plateau\")\n",
    "plt.xlabel(\"year\")\n",
    "plt.ylabel(\"temperature / K\")\n",
    "plt.legend()"
   ]
  },
  {
   "cell_type": "markdown",
   "id": "5caeb893",
   "metadata": {},
   "source": [
    "# Iterating Further"
   ]
  },
  {
   "cell_type": "code",
   "execution_count": 55,
   "id": "d69d4920",
   "metadata": {},
   "outputs": [],
   "source": [
    "T_forecast_first_loop = T_forecast_iteration0_plateau\n",
    "T_forecast_iteration = T_forecast_iteration0_plateau"
   ]
  },
  {
   "cell_type": "code",
   "execution_count": 56,
   "id": "0bdc0913",
   "metadata": {},
   "outputs": [
    {
     "name": "stderr",
     "output_type": "stream",
     "text": [
      "/var/folders/m4/mbpwp5q15070t8lqj4fj7mjr0000gn/T/ipykernel_84925/3748283578.py:33: RuntimeWarning: divide by zero encountered in power\n",
      "  A = Am / (1 + ((P - P0) / (P_h - P0)) ** (-s / r))\n",
      "/var/folders/m4/mbpwp5q15070t8lqj4fj7mjr0000gn/T/ipykernel_84925/3748283578.py:33: RuntimeWarning: divide by zero encountered in power\n",
      "  A = Am / (1 + ((P - P0) / (P_h - P0)) ** (-s / r))\n",
      "/var/folders/m4/mbpwp5q15070t8lqj4fj7mjr0000gn/T/ipykernel_84925/3748283578.py:33: RuntimeWarning: divide by zero encountered in power\n",
      "  A = Am / (1 + ((P - P0) / (P_h - P0)) ** (-s / r))\n",
      "/var/folders/m4/mbpwp5q15070t8lqj4fj7mjr0000gn/T/ipykernel_84925/3748283578.py:33: RuntimeWarning: divide by zero encountered in power\n",
      "  A = Am / (1 + ((P - P0) / (P_h - P0)) ** (-s / r))\n",
      "/var/folders/m4/mbpwp5q15070t8lqj4fj7mjr0000gn/T/ipykernel_84925/3748283578.py:33: RuntimeWarning: divide by zero encountered in power\n",
      "  A = Am / (1 + ((P - P0) / (P_h - P0)) ** (-s / r))\n"
     ]
    },
    {
     "data": {
      "text/plain": [
       "<matplotlib.legend.Legend at 0x7fb8e5a9d910>"
      ]
     },
     "execution_count": 56,
     "metadata": {},
     "output_type": "execute_result"
    },
    {
     "data": {
      "image/png": "[encoded data removed]",
      "text/plain": [
       "<Figure size 432x288 with 1 Axes>"
      ]
     },
     "metadata": {},
     "output_type": "display_data"
    }
   ],
   "source": [
    "num_of_iterations = 5\n",
    "\n",
    "first_perturbed_year = last_historical_year\n",
    "\n",
    "year_of_perturbation = np.arange(first_perturbed_year, last_perturbed_year+1)\n",
    "\n",
    "plt.plot(T_forecast_years, T_forecast, label=\"initial guess\")\n",
    "plt.plot(T_forecast_years, T_forecast_first_loop, label=\"iteration 0\")\n",
    "\n",
    "for k in range(num_of_iterations):\n",
    "    T_iteration = np.concatenate([T_gas_df['CO2_best'],T_forecast_iteration[1:]])\n",
    "\n",
    "    SCC_list = []\n",
    "\n",
    "    for j in range(len(year_of_perturbation)):\n",
    "        ## define perturbation\n",
    "        T_TCRE = 0.00054  # need to check this! *100 for 100GtCO2 added\n",
    "        k_s = 0.12\n",
    "\n",
    "        T_p = np.zeros(T_forecast_length)\n",
    "\n",
    "        for i in range(len(T_forecast_years)):\n",
    "            if year_of_perturbation[j] <= T_forecast_years[i]:\n",
    "                T_p[i] = T_TCRE*(1-np.exp(-k_s*(T_forecast_years[i]-year_of_perturbation[j])))\n",
    "\n",
    "        T_forecast_perturbed = T_forecast_iteration+T_p\n",
    "\n",
    "        T_perturbed = np.concatenate([T_gas_df['CO2_best'],T_forecast_perturbed[1:]])\n",
    "\n",
    "        ## define discount function\n",
    "        num_of_years = len(years)\n",
    "\n",
    "#         consumption_discount = 0.035\n",
    "        discount_function = np.zeros(num_of_years)\n",
    "\n",
    "        for i in range(num_of_years):\n",
    "            if years[i] >= year_of_perturbation[j]:\n",
    "                discount_function[i] = np.exp(-consumption_discount*(years[i]-year_of_perturbation[j]))\n",
    "        cost = cost_of_perturbation(T=T_iteration, T_perturb=T_perturbed, W=W, discount_function=discount_function)\n",
    "        SCC = cost/(10**9)\n",
    "        SCC_list.append(SCC)\n",
    "\n",
    "    SCC_array = np.asarray(SCC_list)\n",
    "#     log_SCC = np.log(SCC_array)\n",
    "\n",
    "#     ## add linear fit\n",
    "#     X = sm.add_constant(year_of_perturbation) # add a constant to fit\n",
    "#     results = sm.OLS(log_SCC, X).fit() # save results of fit\n",
    "\n",
    "#     SCC_forecasted = np.exp(results.params[0]+results.params[1]*T_forecast_years)\n",
    "    SCC_forecasted = []\n",
    "\n",
    "    for i in range(T_forecast_length):\n",
    "        if i < len(year_of_perturbation):\n",
    "            SCC_forecasted.append(SCC_array[i])\n",
    "        else:\n",
    "            SCC_forecasted.append(SCC_array[-1])\n",
    "\n",
    "    SCC_forecasted = np.array(SCC_forecasted)\n",
    "\n",
    "    P0 = SCC_forecasted[0]\n",
    "\n",
    "    forecasted_abatement = abatement(P=SCC_forecasted, P0=P0)  # , r=consumption_discount\n",
    "    forecasted_emissions = abatement_to_emissions(forecasted_abatement, CO2_baseline)\n",
    "\n",
    "#     cumulative_emissions = []\n",
    "\n",
    "#     for i in range(len(T_forecast_years)):\n",
    "#         area = simps(forecasted_emissions[:i+1], dx=1)\n",
    "#         cumulative_emissions.append(area)\n",
    "\n",
    "#     cumulative_emissions_array = np.asarray(cumulative_emissions)\n",
    "\n",
    "    cumulative_emissions_array = np.append(np.zeros(1), np.cumsum(forecasted_emissions)[:-1])\n",
    "\n",
    "    temperature_change = T_TCRE*cumulative_emissions_array\n",
    "    \n",
    "    # to return to the previous method remove for loop and T_forecast_iteration = T_2019 + temperature_change\n",
    "    temperature_change_plateau = np.array(temperature_change, copy=True)\n",
    "    for i in range(len(temperature_change_plateau)):\n",
    "        if i > np.argmax(temperature_change_plateau):\n",
    "            temperature_change_plateau[i] = max(temperature_change_plateau)\n",
    "\n",
    "    T_forecast_iteration = T_2019 + temperature_change_plateau\n",
    "    \n",
    "    plt.plot(T_forecast_years, T_forecast_iteration, label=\"iteration \"+str(k+1))\n",
    "\n",
    "plt.xlabel(\"Year\")\n",
    "plt.ylabel(\"Temperature / K\")\n",
    "plt.legend()"
   ]
  },
  {
   "cell_type": "markdown",
   "id": "31832dbd",
   "metadata": {},
   "source": [
    "***this is fairly analogous to the Newton-Raphson Method***\n",
    "- the initial temperature profile is essentially just a starting guess; getting pushed toward temperature profile solution\n",
    "- could stop the iterations when the difference between two consecutive lines is small"
   ]
  },
  {
   "cell_type": "code",
   "execution_count": 57,
   "id": "1b270877",
   "metadata": {},
   "outputs": [
    {
     "data": {
      "text/plain": [
       "2.36007902607154"
      ]
     },
     "execution_count": 57,
     "metadata": {},
     "output_type": "execute_result"
    }
   ],
   "source": [
    "## peak Temperature\n",
    "max(T_forecast_iteration)"
   ]
  },
  {
   "cell_type": "markdown",
   "id": "f24261ed",
   "metadata": {},
   "source": [
    "under default settings: 2.0439370757585076"
   ]
  },
  {
   "cell_type": "code",
   "execution_count": 58,
   "id": "96ee018d",
   "metadata": {},
   "outputs": [
    {
     "data": {
      "text/plain": [
       "25.880803313121696"
      ]
     },
     "execution_count": 58,
     "metadata": {},
     "output_type": "execute_result"
    }
   ],
   "source": [
    "SCC_forecasted[0]"
   ]
  },
  {
   "cell_type": "code",
   "execution_count": null,
   "id": "fafb778c",
   "metadata": {},
   "outputs": [],
   "source": []
  },
  {
   "cell_type": "code",
   "execution_count": null,
   "id": "bda6e83f",
   "metadata": {},
   "outputs": [],
   "source": []
  },
  {
   "cell_type": "code",
   "execution_count": null,
   "id": "f812782c",
   "metadata": {},
   "outputs": [],
   "source": []
  },
  {
   "cell_type": "code",
   "execution_count": null,
   "id": "30e589cb",
   "metadata": {},
   "outputs": [],
   "source": []
  },
  {
   "cell_type": "code",
   "execution_count": null,
   "id": "2a78ecd2",
   "metadata": {},
   "outputs": [],
   "source": []
  },
  {
   "cell_type": "code",
   "execution_count": null,
   "id": "dc4b33f9",
   "metadata": {},
   "outputs": [],
   "source": []
  }
 ],
 "metadata": {
  "kernelspec": {
   "display_name": "Python 3 (ipykernel)",
   "language": "python",
   "name": "python3"
  },
  "language_info": {
   "codemirror_mode": {
    "name": "ipython",
    "version": 3
   },
   "file_extension": ".py",
   "mimetype": "text/x-python",
   "name": "python",
   "nbconvert_exporter": "python",
   "pygments_lexer": "ipython3",
   "version": "3.9.7"
  }
 },
 "nbformat": 4,
 "nbformat_minor": 5
}
