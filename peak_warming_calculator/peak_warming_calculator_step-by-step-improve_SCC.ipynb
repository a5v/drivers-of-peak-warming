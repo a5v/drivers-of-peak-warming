{
 "cells": [
  {
   "cell_type": "code",
   "execution_count": 1,
   "id": "a8198da9",
   "metadata": {},
   "outputs": [],
   "source": [
    "import pandas as pd\n",
    "import numpy as np\n",
    "import matplotlib.pyplot as plt\n",
    "import seaborn as sns\n",
    "sns.set()\n",
    "from scipy.optimize import curve_fit\n",
    "from scipy.integrate import simps\n",
    "import statsmodels.api as sm # import stats package\n",
    "from scipy.optimize import curve_fit"
   ]
  },
  {
   "cell_type": "code",
   "execution_count": 2,
   "id": "3dc7ce4e",
   "metadata": {},
   "outputs": [],
   "source": [
    "# from fair import *\n",
    "# from fair.scripts.data_retrieval import *"
   ]
  },
  {
   "cell_type": "markdown",
   "id": "1b40a359",
   "metadata": {},
   "source": [
    "## Define Functions"
   ]
  },
  {
   "cell_type": "code",
   "execution_count": 3,
   "id": "df85a918",
   "metadata": {},
   "outputs": [],
   "source": [
    "## calculate cost of perturbation due to carbon\n",
    "## input: temperature profile, perturbed temperature profile, total consumption, and discount function\n",
    "\n",
    "def cost_of_perturbation(T, T_perturb, W, discount_function, gamma=2, D0=0.00267):\n",
    "    S_Wt = D0*T**gamma\n",
    "    S_Wt_perturb = D0*T_perturb**gamma\n",
    "    consumption_loss_fraction = S_Wt_perturb-S_Wt\n",
    "    absolute_consumption_loss = consumption_loss_fraction*W\n",
    "    discounted_consumption_loss = absolute_consumption_loss*discount_function\n",
    "    area = simps(discounted_consumption_loss, dx=1)\n",
    "    cost = area*10**12  # convert to dollar amount\n",
    "    \n",
    "    return cost"
   ]
  },
  {
   "cell_type": "code",
   "execution_count": 176,
   "id": "5a11eab5",
   "metadata": {},
   "outputs": [],
   "source": [
    "## calculate abatement given a carbon price\n",
    "\n",
    "# def abatement(P, P0, P_h=44, r=20, s=18, Am=1.1):\n",
    "#     A = Am/(1+((P-P0)/P_h)**(-r/s))\n",
    "    \n",
    "#     return A\n",
    "\n",
    "P_100 = 10000\n",
    "\n",
    "def abatement(P, P0, r, P_50=100, s=0.02, P_100=P_100):\n",
    "    Am = 1+((P_100-P0)/(P_50-P0))**(-s/r)\n",
    "    A = Am/(1+((P-P0)/(P_50-P0))**(-s/r))\n",
    "    \n",
    "    return A"
   ]
  },
  {
   "cell_type": "code",
   "execution_count": 177,
   "id": "2ede457f",
   "metadata": {},
   "outputs": [],
   "source": [
    "# ## Nick's function to get SSP emissions data (use to get historical data to 2019)\n",
    "\n",
    "# def get_ssp_emissions(ssp, end_year = 2019):\n",
    "    \n",
    "#     emms = RCMIP_to_FaIR_input_emms(ssp).interpolate().loc[1750:end_year]\n",
    "\n",
    "#     ## rebase emission-driven forcings & species with natural emissions included in RCMIP to zero @ 1750\n",
    "#     rebase_species = ['so2','nox','co','nmvoc','bc','nh3','oc','nox_avi','methyl_bromide','methyl_chloride','chcl3','ch2cl2']\n",
    "#     emms.loc[:,rebase_species] -= emms.loc[1750,rebase_species]\n",
    "    \n",
    "#     return emms"
   ]
  },
  {
   "cell_type": "code",
   "execution_count": 178,
   "id": "26ce409f",
   "metadata": {},
   "outputs": [],
   "source": [
    "## calculate emissions from forecasted abatement and CO2 baseline\n",
    "\n",
    "def abatement_to_emissions(forecasted_abatement, CO2_baseline):\n",
    "    CO2_emissions = CO2_baseline*(1-forecasted_abatement)\n",
    "    \n",
    "    return CO2_emissions"
   ]
  },
  {
   "cell_type": "markdown",
   "id": "4bb1c315",
   "metadata": {},
   "source": [
    "# Steps outlined in Email"
   ]
  },
  {
   "cell_type": "markdown",
   "id": "9e286a49",
   "metadata": {},
   "source": [
    "## 1. Create Unperturbed Temperature Profile"
   ]
  },
  {
   "cell_type": "code",
   "execution_count": 179,
   "id": "d3bc2acf",
   "metadata": {},
   "outputs": [],
   "source": [
    "# get historical data (taken from chrisroadmap)\n",
    "\n",
    "T_gas_df = pd.read_csv(\"T_gas.csv\", index_col=0)\n",
    "\n",
    "T_2019 = T_gas_df['CO2_best'][2019]"
   ]
  },
  {
   "cell_type": "code",
   "execution_count": 180,
   "id": "a1096d77",
   "metadata": {},
   "outputs": [],
   "source": [
    "start_year = 1750\n",
    "last_historical_year = 2019\n",
    "end_year = 2500\n",
    "\n",
    "years = np.arange(start_year, end_year+1)\n",
    "T_forecast_years = np.arange(last_historical_year, end_year+1)\n",
    "T_forecast_length = end_year - last_historical_year + 1"
   ]
  },
  {
   "cell_type": "code",
   "execution_count": 181,
   "id": "da772f99",
   "metadata": {},
   "outputs": [],
   "source": [
    "delta_T = 2\n",
    "alpha = 0.02\n",
    "T_forecast = T_2019 + delta_T * (1 - np.exp(-alpha*np.arange(T_forecast_length)))"
   ]
  },
  {
   "cell_type": "code",
   "execution_count": 182,
   "id": "9d69f693",
   "metadata": {},
   "outputs": [],
   "source": [
    "T = np.concatenate([T_gas_df['CO2_best'],T_forecast[1:]])"
   ]
  },
  {
   "cell_type": "code",
   "execution_count": 183,
   "id": "8d7f6882",
   "metadata": {
    "scrolled": true
   },
   "outputs": [
    {
     "data": {
      "text/plain": [
       "<matplotlib.legend.Legend at 0x7fea01703460>"
      ]
     },
     "execution_count": 183,
     "metadata": {},
     "output_type": "execute_result"
    },
    {
     "data": {
      "image/png": "[encoded data removed]",
      "text/plain": [
       "<Figure size 432x288 with 1 Axes>"
      ]
     },
     "metadata": {},
     "output_type": "display_data"
    }
   ],
   "source": [
    "plt.plot(T_gas_df['CO2_best'], label=\"historical\")\n",
    "plt.plot(T_forecast_years, T_forecast, label=\"projected\")\n",
    "plt.xlabel(\"Year\")\n",
    "plt.ylabel(\"Attributed temperature change relative to 1750\")\n",
    "plt.legend()"
   ]
  },
  {
   "cell_type": "markdown",
   "id": "ead91d1f",
   "metadata": {},
   "source": [
    "## Total Consumption"
   ]
  },
  {
   "cell_type": "code",
   "execution_count": 184,
   "id": "adbba940",
   "metadata": {},
   "outputs": [],
   "source": [
    "consumption_growth = 0.02\n",
    "W0 = 80\n",
    "\n",
    "W = []\n",
    "\n",
    "# for i in range(len(years)):\n",
    "#     W.append(W0*consumption_growth**(i-(last_historical_year - start_year)))\n",
    "    \n",
    "for i in range(len(years)):\n",
    "    W.append(W0*np.exp(consumption_growth*(i-(last_historical_year - start_year))))\n",
    "\n",
    "W = np.asarray(W)"
   ]
  },
  {
   "cell_type": "code",
   "execution_count": 185,
   "id": "95906ae2",
   "metadata": {},
   "outputs": [
    {
     "data": {
      "text/plain": [
       "(0.0, 400.0)"
      ]
     },
     "execution_count": 185,
     "metadata": {},
     "output_type": "execute_result"
    },
    {
     "data": {
      "image/png": "[encoded data removed]",
      "text/plain": [
       "<Figure size 432x288 with 1 Axes>"
      ]
     },
     "metadata": {},
     "output_type": "display_data"
    }
   ],
   "source": [
    "plt.plot(years, W)\n",
    "plt.xlabel(\"Year\")\n",
    "plt.ylabel(\"Absolute Consumption ($trillion/year)\")\n",
    "plt.xlim(2000, 2100)\n",
    "plt.ylim(0, 400)"
   ]
  },
  {
   "cell_type": "markdown",
   "id": "152831a9",
   "metadata": {},
   "source": [
    "alternative functional form for above for the fast transition"
   ]
  },
  {
   "cell_type": "markdown",
   "id": "b0e49485",
   "metadata": {},
   "source": [
    "## 2. Calculate SCC as a function of time for a range of years"
   ]
  },
  {
   "cell_type": "code",
   "execution_count": 186,
   "id": "916e795f",
   "metadata": {},
   "outputs": [],
   "source": [
    "## years to calculate SCC\n",
    "first_perturbed_year = last_historical_year\n",
    "last_perturbed_year = 2200\n",
    "year_of_perturbation = np.arange(first_perturbed_year, last_perturbed_year+1)\n",
    "\n",
    "consumption_discount = 0.035\n",
    "\n",
    "SCC_list = []\n",
    "\n",
    "for j in range(len(year_of_perturbation)):\n",
    "    ## define perturbed temperature profile for a given year\n",
    "    T_TCRE = 0.00054  # need to check this for FAIR!\n",
    "    k_s = 0.12\n",
    "\n",
    "    T_p = np.zeros(T_forecast_length)\n",
    "    for i in range(len(T_forecast_years)):\n",
    "        if year_of_perturbation[j] <= T_forecast_years[i]:\n",
    "            T_p[i] = T_TCRE*(1-np.exp(-k_s*(T_forecast_years[i]-year_of_perturbation[j])))\n",
    "    T_forecast_perturbed = T_forecast+T_p\n",
    "    T_perturbed = np.concatenate([T_gas_df['CO2_best'],T_forecast_perturbed[1:]])\n",
    "\n",
    "    ## define discount function\n",
    "    num_of_years = len(years)\n",
    "    discount_function = np.zeros(num_of_years)\n",
    "\n",
    "    for i in range(num_of_years):\n",
    "        if years[i] >= year_of_perturbation[j]:\n",
    "            discount_function[i] = np.exp(-consumption_discount*(years[i]-year_of_perturbation[j]))\n",
    "    \n",
    "    ## calculate SCC\n",
    "    cost = cost_of_perturbation(T=T, T_perturb=T_perturbed, W=W, discount_function=discount_function)\n",
    "    SCC = cost/(10**9)\n",
    "    SCC_list.append(SCC)"
   ]
  },
  {
   "cell_type": "code",
   "execution_count": 187,
   "id": "e06f34f8",
   "metadata": {},
   "outputs": [],
   "source": [
    "SCC_array = np.asarray(SCC_list)  # convert to numpy array"
   ]
  },
  {
   "cell_type": "code",
   "execution_count": 188,
   "id": "824dda4d",
   "metadata": {},
   "outputs": [
    {
     "data": {
      "text/plain": [
       "Text(0, 0.5, 'SCC ($)')"
      ]
     },
     "execution_count": 188,
     "metadata": {},
     "output_type": "execute_result"
    },
    {
     "data": {
      "image/png": "[encoded data removed]",
      "text/plain": [
       "<Figure size 432x288 with 1 Axes>"
      ]
     },
     "metadata": {},
     "output_type": "display_data"
    }
   ],
   "source": [
    "plt.plot(year_of_perturbation, SCC_array)\n",
    "plt.xlabel(\"Year\")\n",
    "plt.ylabel(\"SCC ($)\")"
   ]
  },
  {
   "cell_type": "markdown",
   "id": "bb7c02e1",
   "metadata": {},
   "source": [
    "### Check 100% abatement has been achieved!"
   ]
  },
  {
   "cell_type": "code",
   "execution_count": 189,
   "id": "fdf6a81b",
   "metadata": {},
   "outputs": [
    {
     "name": "stdout",
     "output_type": "stream",
     "text": [
      "P_100 not achieved by achieved by final perturbed year\n"
     ]
    }
   ],
   "source": [
    "if SCC_array[-1] < P_100:\n",
    "    print(\"P_100 not achieved by achieved by final perturbed year\")"
   ]
  },
  {
   "cell_type": "markdown",
   "id": "43df3ec9",
   "metadata": {},
   "source": [
    "### Fit SCC line to forecast"
   ]
  },
  {
   "cell_type": "code",
   "execution_count": 190,
   "id": "275ac1de",
   "metadata": {},
   "outputs": [],
   "source": [
    "# plt.plot(year_of_perturbation, SCC_array)\n",
    "# plt.xlabel(\"Year\")\n",
    "# plt.ylabel(\"SCC ($)\")\n",
    "# plt.yscale(\"log\")"
   ]
  },
  {
   "cell_type": "code",
   "execution_count": 191,
   "id": "244421d9",
   "metadata": {},
   "outputs": [],
   "source": [
    "# log_SCC = np.log(SCC_array)"
   ]
  },
  {
   "cell_type": "code",
   "execution_count": 192,
   "id": "fc615b64",
   "metadata": {},
   "outputs": [],
   "source": [
    "# ## add linear fit\n",
    "# X = sm.add_constant(year_of_perturbation) # add a constant to fit\n",
    "# results = sm.OLS(log_SCC, X).fit() # save results of fit"
   ]
  },
  {
   "cell_type": "code",
   "execution_count": 193,
   "id": "aae9a79e",
   "metadata": {},
   "outputs": [],
   "source": [
    "# #Plot with Fit & Summary \n",
    "# plt.plot(year_of_perturbation, log_SCC)\n",
    "# plt.plot(year_of_perturbation, results.params[0]+results.params[1]*year_of_perturbation, 'r' , label='fitted_line')\n",
    "# plt.xlabel(\"Year\")\n",
    "# plt.ylabel(\"ln(SCC)\")"
   ]
  },
  {
   "cell_type": "code",
   "execution_count": 194,
   "id": "0e7ad256",
   "metadata": {},
   "outputs": [],
   "source": [
    "# SCC_forecasted = np.exp(results.params[0]+results.params[1]*T_forecast_years)"
   ]
  },
  {
   "cell_type": "code",
   "execution_count": 195,
   "id": "099b7b14",
   "metadata": {},
   "outputs": [
    {
     "data": {
      "text/plain": [
       "482"
      ]
     },
     "execution_count": 195,
     "metadata": {},
     "output_type": "execute_result"
    }
   ],
   "source": [
    "T_forecast_length"
   ]
  },
  {
   "cell_type": "code",
   "execution_count": 196,
   "id": "8926e6b1",
   "metadata": {},
   "outputs": [],
   "source": [
    "SCC_forecasted = []\n",
    "\n",
    "for i in range(T_forecast_length):\n",
    "    if i < len(year_of_perturbation):\n",
    "        SCC_forecasted.append(SCC_array[i])\n",
    "    else:\n",
    "        SCC_forecasted.append(SCC_array[-1])\n",
    "\n",
    "SCC_forecasted = np.array(SCC_forecasted)"
   ]
  },
  {
   "cell_type": "code",
   "execution_count": 197,
   "id": "ef9dcd63",
   "metadata": {},
   "outputs": [
    {
     "data": {
      "image/png": "[encoded data removed]",
      "text/plain": [
       "<Figure size 432x288 with 1 Axes>"
      ]
     },
     "metadata": {},
     "output_type": "display_data"
    }
   ],
   "source": [
    "plt.plot(T_forecast_years, SCC_forecasted)\n",
    "plt.xlabel(\"Year\")\n",
    "plt.ylabel(\"SCC ($)\")\n",
    "plt.yscale(\"log\")"
   ]
  },
  {
   "cell_type": "markdown",
   "id": "b85d4a61",
   "metadata": {},
   "source": [
    "## 3. Abatement as a function of time"
   ]
  },
  {
   "cell_type": "code",
   "execution_count": 198,
   "id": "a598428e",
   "metadata": {},
   "outputs": [],
   "source": [
    "P0 = SCC_forecasted[0]"
   ]
  },
  {
   "cell_type": "code",
   "execution_count": 199,
   "id": "b90c019f",
   "metadata": {
    "scrolled": true
   },
   "outputs": [
    {
     "name": "stderr",
     "output_type": "stream",
     "text": [
      "/var/folders/m4/mbpwp5q15070t8lqj4fj7mjr0000gn/T/ipykernel_29211/3240132187.py:12: RuntimeWarning: divide by zero encountered in power\n",
      "  A = Am/(1+((P-P0)/(P_50-P0))**(-s/r))\n"
     ]
    }
   ],
   "source": [
    "forecasted_abatement = abatement(P=SCC_forecasted, P0=P0, r=consumption_discount)"
   ]
  },
  {
   "cell_type": "code",
   "execution_count": 200,
   "id": "7a45a7c4",
   "metadata": {},
   "outputs": [
    {
     "data": {
      "text/plain": [
       "2200"
      ]
     },
     "execution_count": 200,
     "metadata": {},
     "output_type": "execute_result"
    }
   ],
   "source": [
    "T_forecast_years[last_perturbed_year - 2019]"
   ]
  },
  {
   "cell_type": "code",
   "execution_count": 201,
   "id": "832b66da",
   "metadata": {},
   "outputs": [
    {
     "data": {
      "text/plain": [
       "0.9017498233015413"
      ]
     },
     "execution_count": 201,
     "metadata": {},
     "output_type": "execute_result"
    }
   ],
   "source": [
    "forecasted_abatement[last_perturbed_year - 2019]"
   ]
  },
  {
   "cell_type": "code",
   "execution_count": 203,
   "id": "74f04839",
   "metadata": {},
   "outputs": [
    {
     "data": {
      "text/plain": [
       "Text(0, 0.5, 'Abatement')"
      ]
     },
     "execution_count": 203,
     "metadata": {},
     "output_type": "execute_result"
    },
    {
     "data": {
      "image/png": "[encoded data removed]",
      "text/plain": [
       "<Figure size 432x288 with 1 Axes>"
      ]
     },
     "metadata": {},
     "output_type": "display_data"
    }
   ],
   "source": [
    "plt.plot(T_forecast_years, forecasted_abatement)\n",
    "plt.xlabel(\"Year\")\n",
    "plt.ylabel(\"Abatement\")"
   ]
  },
  {
   "cell_type": "markdown",
   "id": "351acbf6",
   "metadata": {},
   "source": [
    "## 4. Abatement to emissions"
   ]
  },
  {
   "cell_type": "code",
   "execution_count": 204,
   "id": "d50edac1",
   "metadata": {},
   "outputs": [],
   "source": [
    "# # choose ssp to use\n",
    "# ssp='ssp245'\n",
    "\n",
    "# # get emissions data using imported scripts + convert into FaIRv2.0.0-alpha multiindex format\n",
    "# ssp_emms = pd.concat([get_ssp_emissions(ssp)],axis=1,keys=[ssp])"
   ]
  },
  {
   "cell_type": "code",
   "execution_count": 205,
   "id": "cab40b26",
   "metadata": {},
   "outputs": [],
   "source": [
    "# ssp_emms[\"ssp245\"].to_csv(\"ssp245.csv\")"
   ]
  },
  {
   "cell_type": "code",
   "execution_count": 206,
   "id": "fc4b70e0",
   "metadata": {},
   "outputs": [],
   "source": [
    "ssp_df = pd.read_csv(\"ssp245.csv\", index_col=0)"
   ]
  },
  {
   "cell_type": "code",
   "execution_count": 207,
   "id": "d35c6e25",
   "metadata": {},
   "outputs": [],
   "source": [
    "# ssp245_CO2_past = ssp_emms[\"ssp245\"][\"carbon_dioxide\"]*(44/12)  "
   ]
  },
  {
   "cell_type": "code",
   "execution_count": 208,
   "id": "9931f49d",
   "metadata": {},
   "outputs": [],
   "source": [
    "ssp245_CO2_past = ssp_df[\"carbon_dioxide\"]*(44/12)  "
   ]
  },
  {
   "cell_type": "code",
   "execution_count": 209,
   "id": "517f8ae9",
   "metadata": {},
   "outputs": [],
   "source": [
    "CO2_baseline = ssp245_CO2_past[2019] # set baseline to current emissions"
   ]
  },
  {
   "cell_type": "code",
   "execution_count": 210,
   "id": "d5b39b78",
   "metadata": {},
   "outputs": [],
   "source": [
    "forecasted_emissions = abatement_to_emissions(forecasted_abatement, CO2_baseline)"
   ]
  },
  {
   "cell_type": "code",
   "execution_count": 211,
   "id": "3836f4ce",
   "metadata": {},
   "outputs": [
    {
     "data": {
      "text/plain": [
       "<matplotlib.legend.Legend at 0x7fea042ceee0>"
      ]
     },
     "execution_count": 211,
     "metadata": {},
     "output_type": "execute_result"
    },
    {
     "data": {
      "image/png": "[encoded data removed]",
      "text/plain": [
       "<Figure size 432x288 with 1 Axes>"
      ]
     },
     "metadata": {},
     "output_type": "display_data"
    }
   ],
   "source": [
    "plt.plot(ssp245_CO2_past, label=\"historical emissions\")\n",
    "plt.plot(T_forecast_years, forecasted_emissions, label=\"forecasted emissions\")\n",
    "plt.xlabel(\"Year\")\n",
    "plt.ylabel(\"CO2 Emissions / GtCO2\")\n",
    "plt.legend()"
   ]
  },
  {
   "cell_type": "markdown",
   "id": "3a514bf1",
   "metadata": {},
   "source": [
    "## 5. Cumulative Emissions to Temperature Change"
   ]
  },
  {
   "cell_type": "code",
   "execution_count": 212,
   "id": "ab8dc657",
   "metadata": {},
   "outputs": [],
   "source": [
    "cumulative_emissions = []\n",
    "\n",
    "for i in range(len(T_forecast_years)):\n",
    "    area = simps(forecasted_emissions[:i+1], dx=1)\n",
    "    cumulative_emissions.append(area)"
   ]
  },
  {
   "cell_type": "code",
   "execution_count": 213,
   "id": "2d272b2b",
   "metadata": {},
   "outputs": [],
   "source": [
    "cumulative_emissions_array = np.asarray(cumulative_emissions)"
   ]
  },
  {
   "cell_type": "code",
   "execution_count": 214,
   "id": "0ea3fb64",
   "metadata": {},
   "outputs": [],
   "source": [
    "temperature_change = T_TCRE*cumulative_emissions_array"
   ]
  },
  {
   "cell_type": "code",
   "execution_count": 215,
   "id": "1bc01e55",
   "metadata": {},
   "outputs": [],
   "source": [
    "temperature_change_plateau = np.array(temperature_change, copy=True)\n",
    "\n",
    "for i in range(len(temperature_change_plateau)):\n",
    "    if i > np.argmax(temperature_change_plateau):\n",
    "        temperature_change_plateau[i] = max(temperature_change_plateau)"
   ]
  },
  {
   "cell_type": "code",
   "execution_count": 216,
   "id": "6fd34d07",
   "metadata": {},
   "outputs": [
    {
     "data": {
      "text/plain": [
       "2.0475057549927533"
      ]
     },
     "execution_count": 216,
     "metadata": {},
     "output_type": "execute_result"
    }
   ],
   "source": [
    "max(temperature_change)"
   ]
  },
  {
   "cell_type": "code",
   "execution_count": 217,
   "id": "098a473c",
   "metadata": {},
   "outputs": [],
   "source": [
    "T_forecast_iteration0 = T_2019 + temperature_change\n",
    "T_forecast_iteration0_plateau = T_2019 + temperature_change_plateau"
   ]
  },
  {
   "cell_type": "code",
   "execution_count": 218,
   "id": "2d4905dc",
   "metadata": {},
   "outputs": [
    {
     "data": {
      "text/plain": [
       "<matplotlib.legend.Legend at 0x7fea04196550>"
      ]
     },
     "execution_count": 218,
     "metadata": {},
     "output_type": "execute_result"
    },
    {
     "data": {
      "image/png": "[encoded data removed]",
      "text/plain": [
       "<Figure size 432x288 with 1 Axes>"
      ]
     },
     "metadata": {},
     "output_type": "display_data"
    }
   ],
   "source": [
    "plt.plot(T_forecast_years, T_forecast, label=\"initial guess\")\n",
    "plt.plot(T_forecast_years, T_forecast_iteration0, label=\"iteration 0\")\n",
    "plt.plot(T_forecast_years, T_forecast_iteration0_plateau, label=\"iteration 0 plateau\")\n",
    "plt.xlabel(\"year\")\n",
    "plt.ylabel(\"temperature / K\")\n",
    "plt.legend()"
   ]
  },
  {
   "cell_type": "markdown",
   "id": "5caeb893",
   "metadata": {},
   "source": [
    "# Iterating Further"
   ]
  },
  {
   "cell_type": "code",
   "execution_count": 219,
   "id": "d69d4920",
   "metadata": {},
   "outputs": [],
   "source": [
    "T_forecast_first_loop = T_forecast_iteration0_plateau\n",
    "T_forecast_iteration = T_forecast_iteration0_plateau"
   ]
  },
  {
   "cell_type": "code",
   "execution_count": 220,
   "id": "0bdc0913",
   "metadata": {},
   "outputs": [
    {
     "name": "stderr",
     "output_type": "stream",
     "text": [
      "/var/folders/m4/mbpwp5q15070t8lqj4fj7mjr0000gn/T/ipykernel_29211/3240132187.py:12: RuntimeWarning: divide by zero encountered in power\n",
      "  A = Am/(1+((P-P0)/(P_50-P0))**(-s/r))\n",
      "/var/folders/m4/mbpwp5q15070t8lqj4fj7mjr0000gn/T/ipykernel_29211/3240132187.py:12: RuntimeWarning: divide by zero encountered in power\n",
      "  A = Am/(1+((P-P0)/(P_50-P0))**(-s/r))\n",
      "/var/folders/m4/mbpwp5q15070t8lqj4fj7mjr0000gn/T/ipykernel_29211/3240132187.py:12: RuntimeWarning: divide by zero encountered in power\n",
      "  A = Am/(1+((P-P0)/(P_50-P0))**(-s/r))\n",
      "/var/folders/m4/mbpwp5q15070t8lqj4fj7mjr0000gn/T/ipykernel_29211/3240132187.py:12: RuntimeWarning: divide by zero encountered in power\n",
      "  A = Am/(1+((P-P0)/(P_50-P0))**(-s/r))\n",
      "/var/folders/m4/mbpwp5q15070t8lqj4fj7mjr0000gn/T/ipykernel_29211/3240132187.py:12: RuntimeWarning: divide by zero encountered in power\n",
      "  A = Am/(1+((P-P0)/(P_50-P0))**(-s/r))\n"
     ]
    },
    {
     "data": {
      "text/plain": [
       "<matplotlib.legend.Legend at 0x7fea04902d30>"
      ]
     },
     "execution_count": 220,
     "metadata": {},
     "output_type": "execute_result"
    },
    {
     "data": {
      "image/png": "[encoded data removed]",
      "text/plain": [
       "<Figure size 432x288 with 1 Axes>"
      ]
     },
     "metadata": {},
     "output_type": "display_data"
    }
   ],
   "source": [
    "num_of_iterations = 5\n",
    "\n",
    "first_perturbed_year = last_historical_year\n",
    "\n",
    "year_of_perturbation = np.arange(first_perturbed_year, last_perturbed_year+1)\n",
    "\n",
    "plt.plot(T_forecast_years, T_forecast, label=\"initial guess\")\n",
    "plt.plot(T_forecast_years, T_forecast_first_loop, label=\"iteration 0\")\n",
    "\n",
    "for k in range(num_of_iterations):\n",
    "    T_iteration = np.concatenate([T_gas_df['CO2_best'],T_forecast_iteration[1:]])\n",
    "\n",
    "    SCC_list = []\n",
    "\n",
    "    for j in range(len(year_of_perturbation)):\n",
    "        ## define perturbation\n",
    "        T_TCRE = 0.00054  # need to check this! *100 for 100GtCO2 added\n",
    "        k_s = 0.12\n",
    "\n",
    "        T_p = np.zeros(T_forecast_length)\n",
    "\n",
    "        for i in range(len(T_forecast_years)):\n",
    "            if year_of_perturbation[j] <= T_forecast_years[i]:\n",
    "                T_p[i] = T_TCRE*(1-np.exp(-k_s*(T_forecast_years[i]-year_of_perturbation[j])))\n",
    "\n",
    "        T_forecast_perturbed = T_forecast_iteration+T_p\n",
    "\n",
    "        T_perturbed = np.concatenate([T_gas_df['CO2_best'],T_forecast_perturbed[1:]])\n",
    "\n",
    "        ## define discount function\n",
    "        num_of_years = len(years)\n",
    "\n",
    "#         consumption_discount = 0.035\n",
    "        discount_function = np.zeros(num_of_years)\n",
    "\n",
    "        for i in range(num_of_years):\n",
    "            if years[i] >= year_of_perturbation[j]:\n",
    "                discount_function[i] = np.exp(-consumption_discount*(years[i]-year_of_perturbation[j]))\n",
    "        cost = cost_of_perturbation(T=T_iteration, T_perturb=T_perturbed, W=W, discount_function=discount_function)\n",
    "        SCC = cost/(10**9)\n",
    "        SCC_list.append(SCC)\n",
    "\n",
    "    SCC_array = np.asarray(SCC_list)\n",
    "#     log_SCC = np.log(SCC_array)\n",
    "\n",
    "#     ## add linear fit\n",
    "#     X = sm.add_constant(year_of_perturbation) # add a constant to fit\n",
    "#     results = sm.OLS(log_SCC, X).fit() # save results of fit\n",
    "\n",
    "#     SCC_forecasted = np.exp(results.params[0]+results.params[1]*T_forecast_years)\n",
    "    SCC_forecasted = []\n",
    "\n",
    "    for i in range(T_forecast_length):\n",
    "        if i < len(year_of_perturbation):\n",
    "            SCC_forecasted.append(SCC_array[i])\n",
    "        else:\n",
    "            SCC_forecasted.append(SCC_array[-1])\n",
    "\n",
    "    SCC_forecasted = np.array(SCC_forecasted)\n",
    "\n",
    "    P0 = SCC_forecasted[0]\n",
    "\n",
    "    forecasted_abatement = abatement(P=SCC_forecasted, P0=P0, r=consumption_discount)\n",
    "    forecasted_emissions = abatement_to_emissions(forecasted_abatement, CO2_baseline)\n",
    "\n",
    "    cumulative_emissions = []\n",
    "\n",
    "    for i in range(len(T_forecast_years)):\n",
    "        area = simps(forecasted_emissions[:i+1], dx=1)\n",
    "        cumulative_emissions.append(area)\n",
    "\n",
    "    cumulative_emissions_array = np.asarray(cumulative_emissions)\n",
    "\n",
    "    temperature_change = T_TCRE*cumulative_emissions_array\n",
    "    \n",
    "    # to return to the previous method remove for loop and T_forecast_iteration = T_2019 + temperature_change\n",
    "    temperature_change_plateau = np.array(temperature_change, copy=True)\n",
    "    for i in range(len(temperature_change_plateau)):\n",
    "        if i > np.argmax(temperature_change_plateau):\n",
    "            temperature_change_plateau[i] = max(temperature_change_plateau)\n",
    "\n",
    "    T_forecast_iteration = T_2019 + temperature_change_plateau\n",
    "    \n",
    "    plt.plot(T_forecast_years, T_forecast_iteration, label=\"iteration \"+str(k+1))\n",
    "\n",
    "plt.xlabel(\"Year\")\n",
    "plt.ylabel(\"Temperature / K\")\n",
    "plt.legend()"
   ]
  },
  {
   "cell_type": "markdown",
   "id": "31832dbd",
   "metadata": {},
   "source": [
    "***this is fairly analogous to the Newton-Raphson Method***\n",
    "- the initial temperature profile is essentially just a starting guess; getting pushed toward temperature profile solution\n",
    "- could stop the iterations when the difference between two consecutive lines is small"
   ]
  },
  {
   "cell_type": "code",
   "execution_count": 221,
   "id": "1b270877",
   "metadata": {},
   "outputs": [
    {
     "data": {
      "text/plain": [
       "3.255741184230651"
      ]
     },
     "execution_count": 221,
     "metadata": {},
     "output_type": "execute_result"
    }
   ],
   "source": [
    "## peak Temperature\n",
    "max(T_forecast_iteration)"
   ]
  },
  {
   "cell_type": "markdown",
   "id": "f24261ed",
   "metadata": {},
   "source": [
    "under default settings: 2.0439370757585076"
   ]
  },
  {
   "cell_type": "code",
   "execution_count": 222,
   "id": "96ee018d",
   "metadata": {},
   "outputs": [
    {
     "data": {
      "text/plain": [
       "25.040854444519027"
      ]
     },
     "execution_count": 222,
     "metadata": {},
     "output_type": "execute_result"
    }
   ],
   "source": [
    "SCC_forecasted[0]"
   ]
  },
  {
   "cell_type": "code",
   "execution_count": null,
   "id": "fafb778c",
   "metadata": {},
   "outputs": [],
   "source": []
  },
  {
   "cell_type": "markdown",
   "id": "0543da5a",
   "metadata": {},
   "source": [
    "assumptions not valid that far into the future\n",
    "political and technological inertia; MAC curve parameters are dependent"
   ]
  },
  {
   "cell_type": "code",
   "execution_count": null,
   "id": "bda6e83f",
   "metadata": {},
   "outputs": [],
   "source": []
  },
  {
   "cell_type": "code",
   "execution_count": null,
   "id": "f812782c",
   "metadata": {},
   "outputs": [],
   "source": []
  },
  {
   "cell_type": "markdown",
   "id": "0dca4e20",
   "metadata": {},
   "source": [
    "- check SCC integral is reasonable with discount factor (close to zero in distant future)"
   ]
  },
  {
   "cell_type": "code",
   "execution_count": null,
   "id": "30e589cb",
   "metadata": {},
   "outputs": [],
   "source": []
  },
  {
   "cell_type": "code",
   "execution_count": null,
   "id": "2a78ecd2",
   "metadata": {},
   "outputs": [],
   "source": []
  },
  {
   "cell_type": "code",
   "execution_count": null,
   "id": "66a7e797",
   "metadata": {},
   "outputs": [],
   "source": []
  }
 ],
 "metadata": {
  "kernelspec": {
   "display_name": "Python 3 (ipykernel)",
   "language": "python",
   "name": "python3"
  },
  "language_info": {
   "codemirror_mode": {
    "name": "ipython",
    "version": 3
   },
   "file_extension": ".py",
   "mimetype": "text/x-python",
   "name": "python",
   "nbconvert_exporter": "python",
   "pygments_lexer": "ipython3",
   "version": "3.9.7"
  }
 },
 "nbformat": 4,
 "nbformat_minor": 5
}
