{
 "cells": [
  {
   "cell_type": "code",
   "execution_count": 1,
   "id": "a8198da9",
   "metadata": {},
   "outputs": [],
   "source": [
    "import pandas as pd\n",
    "import numpy as np\n",
    "import matplotlib.pyplot as plt"
   ]
  },
  {
   "cell_type": "markdown",
   "id": "1b40a359",
   "metadata": {},
   "source": [
    "## Import Functions"
   ]
  },
  {
   "cell_type": "code",
   "execution_count": 2,
   "id": "df85a918",
   "metadata": {},
   "outputs": [],
   "source": [
    "from SCC_functions import *\n",
    "from MAC_functions import *\n",
    "from emissions_functions import *"
   ]
  },
  {
   "cell_type": "markdown",
   "id": "a0de52da",
   "metadata": {},
   "source": [
    "## Define Parameters"
   ]
  },
  {
   "cell_type": "markdown",
   "id": "ad27c315",
   "metadata": {},
   "source": [
    "MACC parameters"
   ]
  },
  {
   "cell_type": "code",
   "execution_count": 3,
   "id": "5a11eab5",
   "metadata": {},
   "outputs": [],
   "source": [
    "# default settings\n",
    "P0 = 50\n",
    "# P_50 = 120\n",
    "# P_100 = 300\n",
    "# s = 0.05\n",
    "# r = 0.03\n",
    "P_50=361.0693359375\n",
    "s=0.07500000000000001\n",
    "r=0.025\n",
    "P_100=490.625"
   ]
  },
  {
   "cell_type": "markdown",
   "id": "94306067",
   "metadata": {},
   "source": [
    "Years Parameters"
   ]
  },
  {
   "cell_type": "code",
   "execution_count": 4,
   "id": "f994aad6",
   "metadata": {},
   "outputs": [],
   "source": [
    "start_year = 2020\n",
    "end_year = 3000"
   ]
  },
  {
   "cell_type": "code",
   "execution_count": 5,
   "id": "9c1a5407",
   "metadata": {},
   "outputs": [],
   "source": [
    "first_perturbed_year = start_year\n",
    "last_perturbed_year = 2500"
   ]
  },
  {
   "cell_type": "markdown",
   "id": "9bf73b70",
   "metadata": {},
   "source": [
    "Initial Temperature Anomaly"
   ]
  },
  {
   "cell_type": "code",
   "execution_count": 6,
   "id": "2cdb3917",
   "metadata": {},
   "outputs": [],
   "source": [
    "T_0 = 1.2"
   ]
  },
  {
   "cell_type": "markdown",
   "id": "40d506bf",
   "metadata": {},
   "source": [
    "Initial Temperature Profile Parameters"
   ]
  },
  {
   "cell_type": "code",
   "execution_count": 7,
   "id": "f2a13e78",
   "metadata": {},
   "outputs": [],
   "source": [
    "# delta_T = 1.5\n",
    "delta_T = 1.5\n",
    "alpha = 0.02"
   ]
  },
  {
   "cell_type": "markdown",
   "id": "1eb6f202",
   "metadata": {},
   "source": [
    "Consumption Growth Parameters"
   ]
  },
  {
   "cell_type": "code",
   "execution_count": 8,
   "id": "e3020b1f",
   "metadata": {},
   "outputs": [],
   "source": [
    "consumption_growth = 0.02"
   ]
  },
  {
   "cell_type": "code",
   "execution_count": 9,
   "id": "54e73f3f",
   "metadata": {},
   "outputs": [],
   "source": [
    "consumption_discount = consumption_growth + 0.015"
   ]
  },
  {
   "cell_type": "markdown",
   "id": "ff1e57c8",
   "metadata": {},
   "source": [
    "SCC Calculation Parameters"
   ]
  },
  {
   "cell_type": "code",
   "execution_count": 10,
   "id": "03680e75",
   "metadata": {},
   "outputs": [],
   "source": [
    "T_TCRE_1 = 0.00045\n",
    "k_s = 0.12\n",
    "size_of_perturbation = 1 ## in GtCO2"
   ]
  },
  {
   "cell_type": "code",
   "execution_count": 11,
   "id": "2cddd350",
   "metadata": {},
   "outputs": [],
   "source": [
    "gamma = 6\n",
    "D0 = 0.00236"
   ]
  },
  {
   "cell_type": "markdown",
   "id": "c47e479a",
   "metadata": {},
   "source": [
    "CO2 baseline"
   ]
  },
  {
   "cell_type": "code",
   "execution_count": 12,
   "id": "3660e401",
   "metadata": {},
   "outputs": [],
   "source": [
    "CO2_baseline = 40"
   ]
  },
  {
   "cell_type": "markdown",
   "id": "4bb1c315",
   "metadata": {},
   "source": [
    "# Steps"
   ]
  },
  {
   "cell_type": "markdown",
   "id": "7529a603",
   "metadata": {},
   "source": [
    "## Create array of years, initial temperature profile, and consumption time series"
   ]
  },
  {
   "cell_type": "code",
   "execution_count": 13,
   "id": "3be6c8c3",
   "metadata": {},
   "outputs": [],
   "source": [
    "years = create_years_array(start_year, end_year)\n",
    "num_of_years = len(years)"
   ]
  },
  {
   "cell_type": "code",
   "execution_count": 14,
   "id": "96e1bff3",
   "metadata": {},
   "outputs": [],
   "source": [
    "years_of_perturbation = create_years_array(start_year, last_perturbed_year)"
   ]
  },
  {
   "cell_type": "code",
   "execution_count": 15,
   "id": "da772f99",
   "metadata": {},
   "outputs": [],
   "source": [
    "T_ts = create_geometric_T(years, T_0=T_0, alpha=alpha, delta_T=delta_T)"
   ]
  },
  {
   "cell_type": "code",
   "execution_count": 16,
   "id": "8d7f6882",
   "metadata": {
    "scrolled": true
   },
   "outputs": [
    {
     "data": {
      "text/plain": [
       "Text(0, 0.5, 'Temperature Anomaly ($^{\\\\circ}$C)')"
      ]
     },
     "execution_count": 16,
     "metadata": {},
     "output_type": "execute_result"
    },
    {
     "data": {
      "image/png": "[encoded data removed]",
      "text/plain": [
       "<Figure size 432x288 with 1 Axes>"
      ]
     },
     "metadata": {
      "needs_background": "light"
     },
     "output_type": "display_data"
    }
   ],
   "source": [
    "plt.plot(years, T_ts)\n",
    "plt.xlabel(\"Year\")\n",
    "plt.ylabel(\"Temperature Anomaly ($^{\\circ}$C)\")"
   ]
  },
  {
   "cell_type": "code",
   "execution_count": 17,
   "id": "1088a474",
   "metadata": {},
   "outputs": [],
   "source": [
    "W_ts = create_total_consumption(years, W_fixed_year=2020, W_fixed=80, consumption_growth=consumption_growth)"
   ]
  },
  {
   "cell_type": "code",
   "execution_count": 18,
   "id": "95906ae2",
   "metadata": {},
   "outputs": [
    {
     "data": {
      "image/png": "[encoded data removed]",
      "text/plain": [
       "<Figure size 432x288 with 1 Axes>"
      ]
     },
     "metadata": {
      "needs_background": "light"
     },
     "output_type": "display_data"
    }
   ],
   "source": [
    "plt.plot(years, W_ts)\n",
    "plt.xlabel(\"Year\")\n",
    "plt.ylabel(\"Absolute Consumption ($trillion/year)\")\n",
    "plt.xlim(2000, 2500)\n",
    "plt.ylim(10, 100000)\n",
    "plt.yscale(\"log\")"
   ]
  },
  {
   "cell_type": "markdown",
   "id": "f1d1e944",
   "metadata": {},
   "source": [
    "## Iteration Loop"
   ]
  },
  {
   "cell_type": "code",
   "execution_count": 19,
   "id": "32625ca5",
   "metadata": {},
   "outputs": [],
   "source": [
    "def T_iteration_loop(T_ts):\n",
    "    SCC_ts_to_P_100 = []\n",
    "    for SCC_year in range(len(years_of_perturbation)):\n",
    "        W_ts = create_total_consumption(years, consumption_growth=consumption_growth)\n",
    "        discount_function_ts = create_discount_function(years, SCC_year=years_of_perturbation[SCC_year],\n",
    "                                                        consumption_discount=consumption_discount)\n",
    "        T_perturbed_ts = create_geometric_T_perturbed(years, T=T_ts, SCC_year=years_of_perturbation[SCC_year],\n",
    "                                                        T_TCRE=T_TCRE_1 * size_of_perturbation, k_s=k_s)\n",
    "\n",
    "        time_series_data = {'years': years, 'W': W_ts, 'discount function': discount_function_ts,\n",
    "                            'T': T_ts, 'T perturbed': T_perturbed_ts}\n",
    "        time_series_df = pd.DataFrame(data=time_series_data).set_index('years')\n",
    "\n",
    "        SCC = SCC_calculator(time_series_df, size_of_perturbation=size_of_perturbation, gamma=gamma, D0=D0)\n",
    "        if SCC_year == 0:\n",
    "            SCC_0 = SCC\n",
    "\n",
    "        SCC_adjusted = SCC - SCC_0 + P0\n",
    "\n",
    "        if SCC_adjusted < P_100:\n",
    "            SCC_ts_to_P_100.append(SCC_adjusted)\n",
    "        else:\n",
    "            SCC_ts_to_P_100.append(P_100)\n",
    "            break\n",
    "\n",
    "    SCC_ts = forecast_SCC(SCC_ts_to_P_100, years)\n",
    "\n",
    "    abatement_ts = abatement(P=SCC_ts, P0=P0, P_50=P_50, s=s, P_100=P_100, r=r)\n",
    "    emissions_ts = abatement_to_emissions(abatement_ts, CO2_baseline)\n",
    "    cumulative_emissions_array = calculate_cumulative_emissions(emissions_ts)\n",
    "    temperature_change = T_TCRE_1 * cumulative_emissions_array\n",
    "\n",
    "    T_ts = T_0 + temperature_change\n",
    "    return T_ts"
   ]
  },
  {
   "cell_type": "code",
   "execution_count": null,
   "id": "d5d67e3e",
   "metadata": {},
   "outputs": [],
   "source": []
  },
  {
   "cell_type": "markdown",
   "id": "44c72dc0",
   "metadata": {},
   "source": [
    "### First Loop"
   ]
  },
  {
   "cell_type": "code",
   "execution_count": 20,
   "id": "89ff9d7e",
   "metadata": {},
   "outputs": [],
   "source": [
    "T_ts_av = T_ts"
   ]
  },
  {
   "cell_type": "code",
   "execution_count": 21,
   "id": "fd18352d",
   "metadata": {},
   "outputs": [
    {
     "name": "stderr",
     "output_type": "stream",
     "text": [
      "/Users/aaron/Documents/oxford_physics/Year_4/MPhys/drivers-of-peak-warming/peak_warming_calc/MAC_functions.py:10: RuntimeWarning: divide by zero encountered in power\n",
      "  A = Am / (1 + ((P - P0) / (P_h - P0)) ** (-s / r))\n"
     ]
    }
   ],
   "source": [
    "T_ts_1 = T_iteration_loop(T_ts_av)"
   ]
  },
  {
   "cell_type": "code",
   "execution_count": 22,
   "id": "a4a2cd5d",
   "metadata": {},
   "outputs": [],
   "source": [
    "T_ts_2 = T_iteration_loop(T_ts_1)"
   ]
  },
  {
   "cell_type": "code",
   "execution_count": 23,
   "id": "626a3122",
   "metadata": {},
   "outputs": [],
   "source": [
    "T_ts_3 = T_iteration_loop(T_ts_2)"
   ]
  },
  {
   "cell_type": "code",
   "execution_count": 24,
   "id": "78295f23",
   "metadata": {},
   "outputs": [],
   "source": [
    "# T_ts_4 = T_iteration_loop(T_ts_3)"
   ]
  },
  {
   "cell_type": "code",
   "execution_count": 25,
   "id": "b14040ca",
   "metadata": {},
   "outputs": [],
   "source": [
    "T_ts_av = (T_ts_2+T_ts_3)/2"
   ]
  },
  {
   "cell_type": "code",
   "execution_count": 26,
   "id": "6c2b6310",
   "metadata": {},
   "outputs": [
    {
     "name": "stdout",
     "output_type": "stream",
     "text": [
      "1.4267559163046697 2.0681894618677243 1.7474726890861971\n"
     ]
    },
    {
     "data": {
      "text/plain": [
       "Text(0, 0.5, 'Temperature Anomaly ($^{\\\\circ}$C)')"
      ]
     },
     "execution_count": 26,
     "metadata": {},
     "output_type": "execute_result"
    },
    {
     "data": {
      "image/png": "[encoded data removed]",
      "text/plain": [
       "<Figure size 432x288 with 1 Axes>"
      ]
     },
     "metadata": {
      "needs_background": "light"
     },
     "output_type": "display_data"
    }
   ],
   "source": [
    "plt.plot(years, T_ts_1)\n",
    "plt.plot(years, T_ts_2)\n",
    "plt.plot(years, T_ts_3)\n",
    "# plt.plot(years, T_ts_4)\n",
    "plt.plot(years, T_ts_av)\n",
    "print(max(T_ts_2), max(T_ts_3), max(T_ts_av))\n",
    "plt.xlabel(\"Year\")\n",
    "plt.ylabel(\"Temperature Anomaly ($^{\\circ}$C)\")"
   ]
  },
  {
   "cell_type": "markdown",
   "id": "c9c31902",
   "metadata": {},
   "source": [
    "### Further Loops"
   ]
  },
  {
   "cell_type": "code",
   "execution_count": 27,
   "id": "12f246da",
   "metadata": {},
   "outputs": [
    {
     "name": "stderr",
     "output_type": "stream",
     "text": [
      "/Users/aaron/Documents/oxford_physics/Year_4/MPhys/drivers-of-peak-warming/peak_warming_calc/MAC_functions.py:10: RuntimeWarning: divide by zero encountered in power\n",
      "  A = Am / (1 + ((P - P0) / (P_h - P0)) ** (-s / r))\n",
      "/Users/aaron/Documents/oxford_physics/Year_4/MPhys/drivers-of-peak-warming/peak_warming_calc/MAC_functions.py:10: RuntimeWarning: divide by zero encountered in power\n",
      "  A = Am / (1 + ((P - P0) / (P_h - P0)) ** (-s / r))\n",
      "/Users/aaron/Documents/oxford_physics/Year_4/MPhys/drivers-of-peak-warming/peak_warming_calc/MAC_functions.py:10: RuntimeWarning: divide by zero encountered in power\n",
      "  A = Am / (1 + ((P - P0) / (P_h - P0)) ** (-s / r))\n",
      "/Users/aaron/Documents/oxford_physics/Year_4/MPhys/drivers-of-peak-warming/peak_warming_calc/MAC_functions.py:10: RuntimeWarning: divide by zero encountered in power\n",
      "  A = Am / (1 + ((P - P0) / (P_h - P0)) ** (-s / r))\n",
      "/Users/aaron/Documents/oxford_physics/Year_4/MPhys/drivers-of-peak-warming/peak_warming_calc/MAC_functions.py:10: RuntimeWarning: divide by zero encountered in power\n",
      "  A = Am / (1 + ((P - P0) / (P_h - P0)) ** (-s / r))\n"
     ]
    },
    {
     "name": "stdout",
     "output_type": "stream",
     "text": [
      "4\n",
      "1.6634903945052666\n"
     ]
    },
    {
     "data": {
      "image/png": "[encoded data removed]",
      "text/plain": [
       "<Figure size 432x288 with 1 Axes>"
      ]
     },
     "metadata": {
      "needs_background": "light"
     },
     "output_type": "display_data"
    }
   ],
   "source": [
    "num_of_iterations = 9\n",
    "\n",
    "for i in range(num_of_iterations):\n",
    "    T_ts_1 = T_iteration_loop(T_ts_av)\n",
    "    T_ts_2 = T_iteration_loop(T_ts_1)\n",
    "    T_ts_3 = T_iteration_loop(T_ts_2)\n",
    "    T_ts_av = (T_ts_2+T_ts_3)/2\n",
    "    plt.plot(years, T_ts_1)\n",
    "    plt.plot(years, T_ts_2)\n",
    "    plt.plot(years, T_ts_3)\n",
    "    \n",
    "    if abs(max(T_ts_2)-max(T_ts_3)) < 0.001:\n",
    "        print(i)\n",
    "        print(max(T_ts_3))\n",
    "        break\n",
    "    "
   ]
  },
  {
   "cell_type": "code",
   "execution_count": 28,
   "id": "6d1c2611",
   "metadata": {},
   "outputs": [
    {
     "name": "stdout",
     "output_type": "stream",
     "text": [
      "1.6636066837821173 1.663930704458521 1.6637105494818938\n"
     ]
    },
    {
     "data": {
      "image/png": "[encoded data removed]",
      "text/plain": [
       "<Figure size 432x288 with 1 Axes>"
      ]
     },
     "metadata": {
      "needs_background": "light"
     },
     "output_type": "display_data"
    }
   ],
   "source": [
    "plt.plot(years, T_ts_1)\n",
    "plt.plot(years, T_ts_2)\n",
    "plt.plot(years, T_ts_av)\n",
    "print(max(T_ts_1), max(T_ts_2), max(T_ts_av))"
   ]
  },
  {
   "cell_type": "code",
   "execution_count": 29,
   "id": "9676551a",
   "metadata": {},
   "outputs": [
    {
     "name": "stdout",
     "output_type": "stream",
     "text": [
      "1.6636066837821173 1.663930704458521 1.6637105494818938\n"
     ]
    },
    {
     "data": {
      "image/png": "[encoded data removed]",
      "text/plain": [
       "<Figure size 432x288 with 1 Axes>"
      ]
     },
     "metadata": {
      "needs_background": "light"
     },
     "output_type": "display_data"
    }
   ],
   "source": [
    "plt.plot(years, T_ts_1)\n",
    "plt.plot(years, T_ts_2)\n",
    "plt.plot(years, T_ts_av)\n",
    "print(max(T_ts_1), max(T_ts_2), max(T_ts_av))"
   ]
  },
  {
   "cell_type": "code",
   "execution_count": 30,
   "id": "e41f2f04",
   "metadata": {},
   "outputs": [
    {
     "name": "stderr",
     "output_type": "stream",
     "text": [
      "/Users/aaron/Documents/oxford_physics/Year_4/MPhys/drivers-of-peak-warming/peak_warming_calc/MAC_functions.py:10: RuntimeWarning: divide by zero encountered in power\n",
      "  A = Am / (1 + ((P - P0) / (P_h - P0)) ** (-s / r))\n"
     ]
    }
   ],
   "source": [
    "T_ts_new1 = T_iteration_loop(T_ts_av)"
   ]
  },
  {
   "cell_type": "code",
   "execution_count": 31,
   "id": "a75379e8",
   "metadata": {},
   "outputs": [
    {
     "data": {
      "text/plain": [
       "[<matplotlib.lines.Line2D at 0x11d114ac0>]"
      ]
     },
     "execution_count": 31,
     "metadata": {},
     "output_type": "execute_result"
    },
    {
     "data": {
      "image/png": "[encoded data removed]",
      "text/plain": [
       "<Figure size 432x288 with 1 Axes>"
      ]
     },
     "metadata": {
      "needs_background": "light"
     },
     "output_type": "display_data"
    }
   ],
   "source": [
    "plt.plot(years, T_ts_new1)"
   ]
  },
  {
   "cell_type": "code",
   "execution_count": 32,
   "id": "4272abda",
   "metadata": {},
   "outputs": [
    {
     "name": "stderr",
     "output_type": "stream",
     "text": [
      "/Users/aaron/Documents/oxford_physics/Year_4/MPhys/drivers-of-peak-warming/peak_warming_calc/MAC_functions.py:10: RuntimeWarning: divide by zero encountered in power\n",
      "  A = Am / (1 + ((P - P0) / (P_h - P0)) ** (-s / r))\n"
     ]
    }
   ],
   "source": [
    "T_ts_new2 = T_iteration_loop(T_ts_new1)"
   ]
  },
  {
   "cell_type": "code",
   "execution_count": 33,
   "id": "a7d0a91a",
   "metadata": {},
   "outputs": [
    {
     "data": {
      "text/plain": [
       "[<matplotlib.lines.Line2D at 0x11d0a3040>]"
      ]
     },
     "execution_count": 33,
     "metadata": {},
     "output_type": "execute_result"
    },
    {
     "data": {
      "image/png": "[encoded data removed]",
      "text/plain": [
       "<Figure size 432x288 with 1 Axes>"
      ]
     },
     "metadata": {
      "needs_background": "light"
     },
     "output_type": "display_data"
    }
   ],
   "source": [
    "plt.plot(years, T_ts_new2)"
   ]
  },
  {
   "cell_type": "code",
   "execution_count": 34,
   "id": "60435151",
   "metadata": {},
   "outputs": [
    {
     "name": "stderr",
     "output_type": "stream",
     "text": [
      "/Users/aaron/Documents/oxford_physics/Year_4/MPhys/drivers-of-peak-warming/peak_warming_calc/MAC_functions.py:10: RuntimeWarning: divide by zero encountered in power\n",
      "  A = Am / (1 + ((P - P0) / (P_h - P0)) ** (-s / r))\n"
     ]
    }
   ],
   "source": [
    "T_ts_new3 = T_iteration_loop(T_ts_new2)"
   ]
  },
  {
   "cell_type": "code",
   "execution_count": 35,
   "id": "d0eb9e4b",
   "metadata": {},
   "outputs": [
    {
     "data": {
      "text/plain": [
       "[<matplotlib.lines.Line2D at 0x11cf59fd0>]"
      ]
     },
     "execution_count": 35,
     "metadata": {},
     "output_type": "execute_result"
    },
    {
     "data": {
      "image/png": "[encoded data removed]",
      "text/plain": [
       "<Figure size 432x288 with 1 Axes>"
      ]
     },
     "metadata": {
      "needs_background": "light"
     },
     "output_type": "display_data"
    }
   ],
   "source": [
    "plt.plot(years, T_ts_new3)"
   ]
  },
  {
   "cell_type": "code",
   "execution_count": null,
   "id": "66a416f7",
   "metadata": {},
   "outputs": [],
   "source": []
  }
 ],
 "metadata": {
  "kernelspec": {
   "display_name": "Python 3 (ipykernel)",
   "language": "python",
   "name": "python3"
  },
  "language_info": {
   "codemirror_mode": {
    "name": "ipython",
    "version": 3
   },
   "file_extension": ".py",
   "mimetype": "text/x-python",
   "name": "python",
   "nbconvert_exporter": "python",
   "pygments_lexer": "ipython3",
   "version": "3.9.7"
  }
 },
 "nbformat": 4,
 "nbformat_minor": 5
}
